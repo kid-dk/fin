{
 "cells": [
  {
   "cell_type": "code",
   "execution_count": 7,
   "metadata": {
    "colab": {
     "base_uri": "https://localhost:8080/"
    },
    "executionInfo": {
     "elapsed": 113318,
     "status": "ok",
     "timestamp": 1747657208322,
     "user": {
      "displayName": "Deepak L",
      "userId": "17343563887203968144"
     },
     "user_tz": -330
    },
    "id": "N3dXjUebLEBV",
    "outputId": "b768a293-ce6a-4f5b-9e21-85a6f1fe38b0"
   },
   "outputs": [],
   "source": [
    "# from google.colab import drive\n",
    "# import os\n",
    "# import pandas as pd\n",
    "# import numpy as np # Import numpy\n",
    "\n",
    "# drive.mount('/gdrive')\n",
    "\n",
    "# # Define the path to your \"flick\" folder\n",
    "# folder_path = '/gdrive/MyDrive/code' # Replace 'MyDrive' with your actual Drive folder name if different\n",
    "\n",
    "# # Create the folder if it doesn't exist\n",
    "# if not os.path.exists(folder_path):\n",
    "#     os.makedirs(folder_path)\n",
    "\n",
    "# # Change the current working directory to the \"flick\" folder\n",
    "# os.chdir(folder_path)\n",
    "\n",
    "# print(f\"Current working directory changed to: {os.getcwd()}\")"
   ]
  },
  {
   "cell_type": "code",
   "execution_count": 8,
   "metadata": {
    "colab": {
     "base_uri": "https://localhost:8080/"
    },
    "executionInfo": {
     "elapsed": 101823,
     "status": "ok",
     "timestamp": 1747657310141,
     "user": {
      "displayName": "Deepak L",
      "userId": "17343563887203968144"
     },
     "user_tz": -330
    },
    "id": "lSxpp8YmBdho",
    "outputId": "329dc331-fdf3-4b06-e206-afd2e410782c"
   },
   "outputs": [],
   "source": [
    "# # Install dependencies if we are running in colab\n",
    "# import sys\n",
    "# if 'google.colab' in sys.modules:\n",
    "#     %pip install botorch"
   ]
  },
  {
   "cell_type": "markdown",
   "metadata": {
    "id": "JiijYn5qBdhm",
    "originalKey": "61330204-a407-449f-af77-fcd868546651",
    "showInput": false
   },
   "source": [
    "## Noisy, Parallel, Multi-Objective BO in BoTorch with qEHVI, qNEHVI, and qNParEGO\n",
    "\n",
    "In this tutorial, we illustrate how to implement a simple multi-objective (MO) Bayesian Optimization (BO) closed loop in BoTorch.\n",
    "\n",
    "We use the parallel ParEGO ($q$ParEGO), parallel Expected Hypervolume Improvement ($q$EHVI), and parallel Noisy Expected Hypervolume Improvement ($q$NEHVI) acquisition functions to optimize a synthetic ZDT2 problem test function with additive Gaussian observation noise over a 30-parameter search space [0,1]^30. See `botorch/test_functions/multi_objective.py` for details on ZDT2.\n",
    "\n",
    "Since botorch assumes a maximization of all objectives, we seek to find the Pareto frontier, the set of optimal trade-offs where improving one metric means deteriorating another.\n",
    "\n",
    "**For batch optimization (or in noisy settings), we strongly recommend using $q$NEHVI rather than $q$EHVI because it is far more efficient than $q$EHVI and mathematically equivalent in the noiseless setting.**"
   ]
  },
  {
   "cell_type": "markdown",
   "metadata": {
    "id": "8_WZ6HzLBdho",
    "originalKey": "f01416cb-e83e-4263-b599-b2a3221d144d",
    "showInput": false
   },
   "source": [
    "### Set dtype and device\n",
    "Note: $q$EHVI and $q$NEHVI aggressively exploit parallel hardware and are both much faster when run on a GPU. See [1, 2] for details."
   ]
  },
  {
   "cell_type": "code",
   "execution_count": 9,
   "metadata": {
    "customOutput": null,
    "executionInfo": {
     "elapsed": 7555,
     "status": "ok",
     "timestamp": 1747657317698,
     "user": {
      "displayName": "Deepak L",
      "userId": "17343563887203968144"
     },
     "user_tz": -330
    },
    "executionStartTime": 1668649461840,
    "executionStopTime": 1668649461848,
    "id": "iNZ_9z01Bdhp",
    "jupyter": {
     "outputs_hidden": false
    },
    "originalKey": "41c30177-379b-4e63-9996-41bc17d70769",
    "requestMsgId": "7e4820a5-df3b-45a6-9826-42541ee0f4f4"
   },
   "outputs": [],
   "source": [
    "import os\n",
    "import torch\n",
    "torch.manual_seed(80)\n",
    "\n",
    "\n",
    "tkwargs = {\n",
    "    \"dtype\": torch.double,\n",
    "    \"device\": torch.device(\"cuda\" if torch.cuda.is_available() else \"cpu\"),\n",
    "}\n",
    "SMOKE_TEST = os.environ.get(\"SMOKE_TEST\")"
   ]
  },
  {
   "cell_type": "markdown",
   "metadata": {
    "id": "B1v64d4oBdhq",
    "originalKey": "8d895a93-397c-4d2c-b6f5-96f589312538",
    "showInput": false
   },
   "source": [
    "### Problem setup\n"
   ]
  },
  {
   "cell_type": "code",
   "execution_count": 10,
   "metadata": {
    "executionInfo": {
     "elapsed": 17,
     "status": "ok",
     "timestamp": 1747657317717,
     "user": {
      "displayName": "Deepak L",
      "userId": "17343563887203968144"
     },
     "user_tz": -330
    },
    "id": "VxqCnTGMBdhq"
   },
   "outputs": [],
   "source": [
    "# from botorch.test_functions.multi_objective import DTLZ1\n",
    "\n",
    "\n",
    "# problem = DTLZ1(dim=6, num_objectives=3, negate=True).to(**tkwargs)"
   ]
  },
  {
   "cell_type": "code",
   "execution_count": 11,
   "metadata": {
    "executionInfo": {
     "elapsed": 1523,
     "status": "ok",
     "timestamp": 1747657319247,
     "user": {
      "displayName": "Deepak L",
      "userId": "17343563887203968144"
     },
     "user_tz": -330
    },
    "id": "6JGD2OZnBgNx"
   },
   "outputs": [],
   "source": [
    "import math\n",
    "import torch\n",
    "from torch import Tensor\n",
    "from typing import Optional\n",
    "from scipy.special import gamma\n",
    "from botorch.test_functions.multi_objective import DTLZ\n",
    "from botorch.utils.sampling import sample_simplex, sample_hypersphere\n",
    "\n",
    "class DTLZ1a(DTLZ):\n",
    "    r\"\"\"DTLZ1a: Modified DTLZ1 with 3 objectives and 6 variables.\"\"\"\n",
    "    _ref_val = 400.0\n",
    "\n",
    "    def __init__(self, noise_std: Optional[float] = None, negate: bool = False) -> None:\n",
    "        super().__init__(dim=6, num_objectives=3, noise_std=noise_std, negate=negate)\n",
    "\n",
    "    def _evaluate_true(self, X: Tensor) -> Tensor:\n",
    "        X_m = X[..., -self.k :]\n",
    "        X_m_minus_half = X_m - 0.5\n",
    "        # Modified cosine frequency: use 10*pi instead of 20*pi\n",
    "        sum_term = (X_m_minus_half.pow(2) - torch.cos(10 * math.pi * X_m_minus_half)).sum(dim=-1)\n",
    "        g_X = 100 * (self.k + sum_term)\n",
    "        g_X_term = 0.5 * (1 + g_X)\n",
    "        fs = []\n",
    "        for i in range(self.num_objectives):\n",
    "            idx = self.num_objectives - 1 - i\n",
    "            f_i = g_X_term * X[..., :idx].prod(dim=-1)\n",
    "            if i > 0:\n",
    "                f_i = f_i * (1 - X[..., idx])\n",
    "            fs.append(f_i)\n",
    "        return torch.stack(fs, dim=-1)\n",
    "\n",
    "    def evaluate_true(self, X: Tensor) -> Tensor:\n",
    "        return self._evaluate_true(X)\n",
    "\n",
    "    def gen_pareto_front(self, n: int) -> Tensor:\n",
    "        f_X = 0.5 * sample_simplex(\n",
    "            n=n,\n",
    "            d=self.num_objectives,\n",
    "            qmc=True,\n",
    "            dtype=self.ref_point.dtype,\n",
    "            device=self.ref_point.device,\n",
    "        )\n",
    "        if self.negate:\n",
    "            f_X *= -1\n",
    "        return f_X\n",
    "\n",
    "    @property\n",
    "    def _max_hv(self) -> float:\n",
    "        return self._ref_val ** self.num_objectives - 1.0 / (2 ** self.num_objectives)\n",
    "\n",
    "\n"
   ]
  },
  {
   "cell_type": "code",
   "execution_count": 12,
   "metadata": {
    "colab": {
     "base_uri": "https://localhost:8080/"
    },
    "executionInfo": {
     "elapsed": 48,
     "status": "ok",
     "timestamp": 1747657319315,
     "user": {
      "displayName": "Deepak L",
      "userId": "17343563887203968144"
     },
     "user_tz": -330
    },
    "id": "-WaIKxgPBdhq",
    "outputId": "6f4f6839-0401-4eb2-e24b-f3584bdc3410"
   },
   "outputs": [
    {
     "name": "stdout",
     "output_type": "stream",
     "text": [
      "tensor([-400., -400., -400.], dtype=torch.float64)\n",
      "63999999.875\n",
      "tensor([[0., 0., 0., 0., 0., 0.],\n",
      "        [1., 1., 1., 1., 1., 1.]], dtype=torch.float64)\n"
     ]
    }
   ],
   "source": [
    "problem = DTLZ1a(negate=True).to(**tkwargs)\n",
    "print(problem.ref_point, end=\"\\n\")\n",
    "print(problem.max_hv, end=\"\\n\")\n",
    "print(problem.bounds, end=\"\\n\")"
   ]
  },
  {
   "cell_type": "markdown",
   "metadata": {
    "id": "I31BWTdlBdhr",
    "originalKey": "fc047039-c2a9-4ea8-920e-c057547cfb11",
    "showInput": false
   },
   "source": [
    "#### Model initialization\n",
    "\n",
    "We use a list of `SingleTaskGP`s to model the two objectives with known noise variances. If no noise variances were provided, `SingleTaskGP` would infer (homoskedastic) noise levels instead.\n",
    "\n",
    "The models are initialized with $2(d+1)=6$ points drawn randomly from $[0,1]^2$."
   ]
  },
  {
   "cell_type": "code",
   "execution_count": 13,
   "metadata": {
    "customOutput": null,
    "executionInfo": {
     "elapsed": 2,
     "status": "ok",
     "timestamp": 1747657319347,
     "user": {
      "displayName": "Deepak L",
      "userId": "17343563887203968144"
     },
     "user_tz": -330
    },
    "executionStartTime": 1668649462312,
    "executionStopTime": 1668649462318,
    "id": "hIkSW6KWBdhr",
    "jupyter": {
     "outputs_hidden": false
    },
    "originalKey": "47170c31-65e4-4f2d-949c-d91544e065fc",
    "requestMsgId": "8a44b7cb-cc5f-419e-849f-2b4d1dc3abe1"
   },
   "outputs": [],
   "source": [
    "from botorch.models.gp_regression import SingleTaskGP\n",
    "from botorch.models.model_list_gp_regression import ModelListGP\n",
    "from botorch.models.transforms.outcome import Standardize\n",
    "from gpytorch.mlls.sum_marginal_log_likelihood import SumMarginalLogLikelihood\n",
    "from botorch.utils.transforms import unnormalize, normalize\n",
    "from botorch.utils.sampling import draw_sobol_samples\n",
    "\n",
    "n_initial = 11 * problem.dim - 1\n",
    "\n",
    "def generate_initial_data(n=n_initial):\n",
    "    # generate training data\n",
    "    train_x = draw_sobol_samples(bounds=problem.bounds, n=n, q=1).squeeze(1)\n",
    "    train_obj_true = problem(train_x)\n",
    "    train_obj = train_obj_true\n",
    "    return train_x, train_obj, train_obj_true\n",
    "\n",
    "\n",
    "\n",
    "from botorch.models.gp_regression import SingleTaskGP\n",
    "from gpytorch.mlls.exact_marginal_log_likelihood import ExactMarginalLogLikelihood\n",
    "\n",
    "def initialize_model(train_x, train_obj):\n",
    "    train_x = normalize(train_x, problem.bounds)\n",
    "    train_y = train_obj  # Shape: [n, 2]\n",
    "\n",
    "    model = SingleTaskGP(\n",
    "        train_x,\n",
    "        train_y,\n",
    "        outcome_transform=Standardize(m=3),  # Standardize both objectives\n",
    "    )\n",
    "    mll = ExactMarginalLogLikelihood(model.likelihood, model)\n",
    "    return mll, model"
   ]
  },
  {
   "cell_type": "markdown",
   "metadata": {
    "id": "Y-OuG7D3Bdhs",
    "originalKey": "6bfaef9a-3f34-4d51-9700-fbddc79eccf1",
    "showInput": false
   },
   "source": [
    "#### Define a helper functions that performs the essential BO step for $q$EHVI and $q$NEHVI\n",
    "The helper function below initializes the $q$EHVI acquisition function, optimizes it, and returns the batch $\\{x_1, x_2, \\ldots x_q\\}$ along with the observed function values.\n",
    "\n",
    "For this example, we'll use a relatively small batch of optimization ($q=4$). For batch optimization ($q>1$), passing the keyword argument `sequential=True` to the function `optimize_acqf`specifies that candidates should be optimized in a sequential greedy fashion (see [1] for details why this is important). A simple initialization heuristic is used to select the 10 restart initial locations from a set of 512 random points. Multi-start optimization of the acquisition function is performed using LBFGS-B with exact gradients computed via auto-differentiation.\n",
    "\n",
    "**Reference Point**\n",
    "\n",
    "$q$EHVI requires specifying a reference point, which is the lower bound on the objectives used for computing hypervolume. In this tutorial, we assume the reference point is known. In practice the reference point can be set 1) using domain knowledge to be slightly worse than the lower bound of objective values, where the lower bound is the minimum acceptable value of interest for each objective, or 2) using a dynamic reference point selection strategy.\n",
    "\n",
    "**Partitioning the Non-dominated Space into disjoint rectangles**\n",
    "\n",
    "$q$EHVI requires partitioning the non-dominated space into disjoint rectangles (see [1] for details).\n",
    "\n",
    "*Note:* `FastNondominatedPartitioning` *will be very slow when 1) there are a lot of points on the pareto frontier and 2) there are >5 objectives.*"
   ]
  },
  {
   "cell_type": "code",
   "execution_count": 14,
   "metadata": {
    "customOutput": null,
    "executionInfo": {
     "elapsed": 13,
     "status": "ok",
     "timestamp": 1747657319361,
     "user": {
      "displayName": "Deepak L",
      "userId": "17343563887203968144"
     },
     "user_tz": -330
    },
    "executionStartTime": 1668649462539,
    "executionStopTime": 1668649462641,
    "id": "zSOEeo1bBdhs",
    "jupyter": {
     "outputs_hidden": false
    },
    "originalKey": "b7effe94-1327-405d-9148-c8e93470b846",
    "requestMsgId": "40a5edda-3bee-43c9-b84b-c669c288eb80"
   },
   "outputs": [],
   "source": [
    "from botorch.optim.optimize import optimize_acqf, optimize_acqf_list\n",
    "from botorch.acquisition.objective import GenericMCObjective\n",
    "from botorch.utils.multi_objective.scalarization import get_chebyshev_scalarization\n",
    "from botorch.utils.multi_objective.box_decompositions.non_dominated import (\n",
    "    NondominatedPartitioning,\n",
    ")\n",
    "from botorch.acquisition.multi_objective import (\n",
    "    qLogExpectedHypervolumeImprovement,\n",
    "    qLogNoisyExpectedHypervolumeImprovement,\n",
    ")\n",
    "from botorch.utils.sampling import sample_simplex\n",
    "\n",
    "\n",
    "BATCH_SIZE = 5\n",
    "NUM_RESTARTS = 10 if not SMOKE_TEST else 2\n",
    "RAW_SAMPLES = 512 if not SMOKE_TEST else 4\n",
    "\n",
    "standard_bounds = torch.zeros(2, problem.dim, **tkwargs)\n",
    "standard_bounds[1] = 1\n",
    "\n",
    "\n",
    "def optimize_qehvi_and_get_observation(model, train_x, train_obj, sampler):\n",
    "    \"\"\"Optimizes the qEHVI acquisition function, and returns a new candidate and observation.\"\"\"\n",
    "    # partition non-dominated space into disjoint rectangles\n",
    "    with torch.no_grad():\n",
    "        pred = model.posterior(normalize(train_x, problem.bounds)).mean\n",
    "    partitioning = NondominatedPartitioning(\n",
    "        ref_point=problem.ref_point,\n",
    "        Y=pred,\n",
    "    )\n",
    "    acq_func = qLogExpectedHypervolumeImprovement(\n",
    "        model=model,\n",
    "        ref_point=problem.ref_point,\n",
    "        partitioning=partitioning,\n",
    "        sampler=sampler,\n",
    "    )\n",
    "    # optimize\n",
    "    candidates, _ = optimize_acqf(\n",
    "        acq_function=acq_func,\n",
    "        bounds=standard_bounds,\n",
    "        q=BATCH_SIZE,\n",
    "        num_restarts=NUM_RESTARTS,\n",
    "        raw_samples=RAW_SAMPLES,  # used for intialization heuristic\n",
    "        options={\"batch_limit\": 5, \"maxiter\": 200},\n",
    "        sequential=True,\n",
    "    )\n",
    "    # observe new values\n",
    "    new_x = unnormalize(candidates.detach(), bounds=problem.bounds)\n",
    "    new_obj_true = problem(new_x)\n",
    "    new_obj = new_obj_true\n",
    "    return new_x, new_obj, new_obj_true"
   ]
  },
  {
   "cell_type": "markdown",
   "metadata": {
    "id": "MiFVOqxhBdht",
    "originalKey": "ad78607d-d910-441c-903b-b15dc77a432f",
    "showInput": false
   },
   "source": [
    "#### Define a helper function that performs the essential BO step for $q$NParEGO\n",
    "The helper function below similarly initializes $q$NParEGO, optimizes it, and returns the batch $\\{x_1, x_2, \\ldots x_q\\}$ along with the observed function values.\n",
    "\n",
    "$q$NParEGO uses random augmented chebyshev scalarization with the `qNoisyExpectedImprovement` acquisition function. In the parallel setting ($q>1$), each candidate is optimized in sequential greedy fashion using a different random scalarization (see [1] for details).\n",
    "\n",
    "To do this, we create a list of `qNoisyExpectedImprovement` acquisition functions, each with different random scalarization weights. The `optimize_acqf_list` method sequentially generates one candidate per acquisition function and conditions the next candidate (and acquisition function) on the previously selected pending candidates."
   ]
  },
  {
   "cell_type": "code",
   "execution_count": null,
   "metadata": {
    "customOutput": null,
    "executionInfo": {
     "elapsed": 2,
     "status": "ok",
     "timestamp": 1747657319377,
     "user": {
      "displayName": "Deepak L",
      "userId": "17343563887203968144"
     },
     "user_tz": -330
    },
    "executionStartTime": 1668649463087,
    "executionStopTime": 1668649463185,
    "id": "rACxiO2FBdht",
    "jupyter": {
     "outputs_hidden": false
    },
    "originalKey": "806b115f-a15f-44df-b7f9-d2f098969e02",
    "requestMsgId": "514d162f-78e0-447a-a483-c923cba18b80"
   },
   "outputs": [
    {
     "ename": "",
     "evalue": "",
     "output_type": "error",
     "traceback": [
      "\u001b[1;31mThe Kernel crashed while executing code in the current cell or a previous cell. \n",
      "\u001b[1;31mPlease review the code in the cell(s) to identify a possible cause of the failure. \n",
      "\u001b[1;31mClick <a href='https://aka.ms/vscodeJupyterKernelCrash'>here</a> for more info. \n",
      "\u001b[1;31mView Jupyter <a href='command:jupyter.viewOutput'>log</a> for further details."
     ]
    }
   ],
   "source": [
    "from botorch.acquisition import qLogNoisyExpectedImprovement\n",
    "\n",
    "\n",
    "def optimize_qnparego_and_get_observation(model, train_x, train_obj, sampler):\n",
    "    \"\"\"Samples a set of random weights for each candidate in the batch, performs sequential greedy optimization\n",
    "    of the qNParEGO acquisition function, and returns a new candidate and observation.\"\"\"\n",
    "    train_x = normalize(train_x, problem.bounds)\n",
    "    with torch.no_grad():\n",
    "        pred = model.posterior(train_x).mean\n",
    "    acq_func_list = []\n",
    "    for _ in range(BATCH_SIZE):\n",
    "        weights = sample_simplex(problem.num_objectives, **tkwargs).squeeze()\n",
    "        objective = GenericMCObjective(\n",
    "            get_chebyshev_scalarization(weights=weights, Y=pred)\n",
    "        )\n",
    "        acq_func = qLogNoisyExpectedImprovement(  # pyre-ignore: [28]\n",
    "            model=model,\n",
    "            objective=objective,\n",
    "            X_baseline=train_x,\n",
    "            sampler=sampler,\n",
    "            prune_baseline=True,\n",
    "        )\n",
    "        acq_func_list.append(acq_func)\n",
    "    # optimize\n",
    "    candidates, _ = optimize_acqf_list(\n",
    "        acq_function_list=acq_func_list,\n",
    "        bounds=standard_bounds,\n",
    "        num_restarts=NUM_RESTARTS,\n",
    "        raw_samples=RAW_SAMPLES,  # used for intialization heuristic\n",
    "        options={\"batch_limit\": 5, \"maxiter\": 200},\n",
    "    )\n",
    "    # observe new values\n",
    "    new_x = unnormalize(candidates.detach(), bounds=problem.bounds)\n",
    "    new_obj_true = problem(new_x)\n",
    "    new_obj = new_obj_true #+ torch.randn_like(new_obj_true) * NOISE_SE\n",
    "    return new_x, new_obj, new_obj_true"
   ]
  },
  {
   "cell_type": "markdown",
   "metadata": {
    "id": "ZXq2l3l-Bdht",
    "originalKey": "f8ffd86a-f4bb-4984-9330-04ff4d62f189",
    "showInput": false
   },
   "source": [
    "### Perform Bayesian Optimization loop with $q$NEHVI, $q$EHVI, and $q$NParEGO\n",
    "The Bayesian optimization \"loop\" for a batch size of $q$ simply iterates the following steps:\n",
    "1. given a surrogate model, choose a batch of points $\\{x_1, x_2, \\ldots x_q\\}$\n",
    "2. observe $f(x)$ for each $x$ in the batch\n",
    "3. update the surrogate model.\n",
    "\n",
    "\n",
    "Just for illustration purposes, we run one trial with `N_BATCH=20` rounds of optimization. The acquisition function is approximated using `MC_SAMPLES=128` samples.\n",
    "\n",
    "*Note*: Running this may take a little while."
   ]
  },
  {
   "cell_type": "code",
   "execution_count": null,
   "metadata": {
    "customOutput": null,
    "executionStartTime": 1668649463513,
    "executionStopTime": 1668649856754,
    "id": "A2Ii-yH3Bdhu",
    "jupyter": {
     "outputs_hidden": false
    },
    "originalKey": "c29b731a-64e7-401d-a5b2-3879d8d39327",
    "requestMsgId": "43e1021f-9ecd-4d2c-a7ba-21e26051ce66"
   },
   "outputs": [],
   "source": [
    "import time\n",
    "import warnings\n",
    "\n",
    "from botorch import fit_gpytorch_mll\n",
    "from botorch.exceptions import BadInitialCandidatesWarning\n",
    "from botorch.sampling.normal import SobolQMCNormalSampler\n",
    "from botorch.utils.multi_objective.box_decompositions.non_dominated import (\n",
    "    NondominatedPartitioning,\n",
    ")\n",
    "from botorch.utils.multi_objective.pareto import is_non_dominated\n",
    "\n",
    "\n",
    "warnings.filterwarnings(\"ignore\", category=BadInitialCandidatesWarning)\n",
    "warnings.filterwarnings(\"ignore\", category=RuntimeWarning)\n",
    "\n",
    "N_BATCH = 1 if not SMOKE_TEST else 4\n",
    "MC_SAMPLES = 128 if not SMOKE_TEST else 16\n",
    "\n",
    "verbose = True\n",
    "\n",
    "hvs_qparego, hvs_qehvi, hvs_qnehvi = [], [], []\n",
    "\n",
    "# call helper functions to generate initial training data and initialize model\n",
    "train_x_qparego, train_obj_qparego, train_obj_true_qparego = generate_initial_data()\n",
    "mll_qparego, model_qparego = initialize_model(train_x_qparego, train_obj_qparego)\n",
    "\n",
    "train_x_qehvi, train_obj_qehvi, train_obj_true_qehvi = (\n",
    "    train_x_qparego,\n",
    "    train_obj_qparego,\n",
    "    train_obj_true_qparego,\n",
    ")\n",
    "mll_qehvi, model_qehvi = initialize_model(train_x_qehvi, train_obj_qehvi)\n",
    "\n",
    "# compute hypervolume\n",
    "bd = NondominatedPartitioning(ref_point=problem.ref_point, Y=train_obj_true_qparego)\n",
    "volume = bd.compute_hypervolume().item()\n",
    "\n",
    "hvs_qparego.append(volume)\n",
    "hvs_qehvi.append(volume)\n",
    "\n",
    "# run N_BATCH rounds of BayesOpt after the initial random batch\n",
    "for iteration in range(1, N_BATCH + 1):\n",
    "\n",
    "    t0 = time.monotonic()\n",
    "\n",
    "    # fit the models\n",
    "    fit_gpytorch_mll(mll_qparego)\n",
    "    fit_gpytorch_mll(mll_qehvi)\n",
    "\n",
    "    # define the qEI and qNEI acquisition modules using a QMC sampler\n",
    "    qparego_sampler = SobolQMCNormalSampler(sample_shape=torch.Size([MC_SAMPLES]))\n",
    "    qehvi_sampler = SobolQMCNormalSampler(sample_shape=torch.Size([MC_SAMPLES]))\n",
    "\n",
    "    # optimize acquisition functions and get new observations\n",
    "    (\n",
    "        new_x_qparego,\n",
    "        new_obj_qparego,\n",
    "        new_obj_true_qparego,\n",
    "    ) = optimize_qnparego_and_get_observation(\n",
    "        model_qparego, train_x_qparego, train_obj_qparego, qparego_sampler\n",
    "    )\n",
    "    new_x_qehvi, new_obj_qehvi, new_obj_true_qehvi = optimize_qehvi_and_get_observation(\n",
    "        model_qehvi, train_x_qehvi, train_obj_qehvi, qehvi_sampler\n",
    "    )\n",
    "\n",
    "    # update training points\n",
    "    train_x_qparego = torch.cat([train_x_qparego, new_x_qparego])\n",
    "    train_obj_qparego = torch.cat([train_obj_qparego, new_obj_qparego])\n",
    "    train_obj_true_qparego = torch.cat([train_obj_true_qparego, new_obj_true_qparego])\n",
    "\n",
    "    train_x_qehvi = torch.cat([train_x_qehvi, new_x_qehvi])\n",
    "    train_obj_qehvi = torch.cat([train_obj_qehvi, new_obj_qehvi])\n",
    "    train_obj_true_qehvi = torch.cat([train_obj_true_qehvi, new_obj_true_qehvi])\n",
    "\n",
    "\n",
    "    # update progress\n",
    "    for hvs_list, train_obj in zip(\n",
    "        (hvs_qparego, hvs_qehvi),\n",
    "        (\n",
    "            train_obj_true_qparego,\n",
    "            train_obj_true_qehvi,\n",
    "        ),\n",
    "    ):\n",
    "        # compute hypervolume\n",
    "        bd = NondominatedPartitioning(ref_point=problem.ref_point, Y=train_obj)\n",
    "        volume = bd.compute_hypervolume().item()\n",
    "        hvs_list.append(volume)\n",
    "\n",
    "    # reinitialize the models so they are ready for fitting on next iteration\n",
    "    # Note: we find improved performance from not warm starting the model hyperparameters\n",
    "    # using the hyperparameters from the previous iteration\n",
    "    mll_qparego, model_qparego = initialize_model(train_x_qparego, train_obj_qparego)\n",
    "    mll_qehvi, model_qehvi = initialize_model(train_x_qehvi, train_obj_qehvi)\n",
    "\n",
    "    t1 = time.monotonic()\n",
    "\n",
    "    if verbose:\n",
    "        print(\n",
    "            f\"\\nBatch {iteration:>2}: Hypervolume (qNParEGO, qEHVI) = \"\n",
    "            f\"({hvs_qparego[-1]:>4.2f}, {hvs_qehvi[-1]:>4.2f}), \"\n",
    "            f\"time = {t1-t0:>4.2f}.\",\n",
    "            end=\"\",\n",
    "        )\n",
    "    else:\n",
    "        print(\".\", end=\"\")"
   ]
  },
  {
   "cell_type": "markdown",
   "metadata": {
    "id": "v70wonHIBdhu",
    "originalKey": "72232578-0908-4292-aca4-d52197890dd6",
    "showInput": false
   },
   "source": [
    "### Plot the results\n",
    "The plot below shows the a common metric of multi-objective optimization performance, the log hypervolume difference: the log difference between the hypervolume of the true pareto front and the hypervolume of the approximate pareto front identified by each algorithm. The log hypervolume difference is plotted at each step of the optimization for each of the algorithms.\n",
    "\n",
    "The plot shows that $q$NEHVI outperforms $q$EHVI and $q$ParEGO."
   ]
  },
  {
   "cell_type": "code",
   "execution_count": null,
   "metadata": {
    "customOutput": null,
    "executionStartTime": 1668649857076,
    "executionStopTime": 1668649858100,
    "id": "FyLWlXS5Bdhu",
    "jupyter": {
     "outputs_hidden": false
    },
    "originalKey": "c9560130-5c74-4b2b-b24a-fd7618ee7822",
    "requestMsgId": "d6978d53-90e4-476b-bb1d-75010f65dcd6",
    "scrolled": true
   },
   "outputs": [],
   "source": [
    "import numpy as np\n",
    "from matplotlib import pyplot as plt\n",
    "\n",
    "%matplotlib inline\n",
    "\n",
    "\n",
    "iters = np.arange(N_BATCH + 1) * BATCH_SIZE\n",
    "log_hv_difference_qparego = np.log10(problem.max_hv - np.asarray(hvs_qparego))\n",
    "log_hv_difference_qehvi = np.log10(problem.max_hv - np.asarray(hvs_qehvi))\n",
    "\n",
    "fig, ax = plt.subplots(1, 1, figsize=(8, 6))\n",
    "ax.errorbar(\n",
    "    iters,\n",
    "    log_hv_difference_qparego,\n",
    "    label=\"qNParEGO\",\n",
    "    linewidth=1.5,\n",
    ")\n",
    "ax.errorbar(\n",
    "    iters,\n",
    "    log_hv_difference_qehvi,\n",
    "    label=\"qEHVI\",\n",
    "    linewidth=1.5,\n",
    ")\n",
    "ax.set(\n",
    "    xlabel=\"number of observations (beyond initial points)\",\n",
    "    ylabel=\"Log Hypervolume Difference\",\n",
    ")\n",
    "ax.legend(loc=\"lower left\")"
   ]
  },
  {
   "cell_type": "markdown",
   "metadata": {
    "collapsed": true,
    "id": "zCutcS6HBdhv",
    "jupyter": {
     "outputs_hidden": true
    },
    "originalKey": "824c329c-6c02-4f67-bce0-a4c57ea655d8",
    "showInput": false
   },
   "source": [
    "#### Plot the true objectives at the evaluated designs colored by iteration\n",
    "\n",
    "To examine optimization process from another perspective, we plot the true function values at the designs selected under each algorithm where the color corresponds to the BO iteration at which the point was collected. The plot on the right for $q$NEHVI shows that the $q$NEHVI quickly identifies the pareto front and most of its evaluations are very close to the pareto front. $q$NParEGO also identifies has many observations close to the pareto front, but relies on optimizing random scalarizations, which is a less principled way of optimizing the pareto front compared to $q$NEHVI, which explicitly attempts focuses on improving the pareto front. $q$EHVI uses the posterior mean as a plug-in estimator for the true function values at the in-sample points, whereas $q$NEHVI than integrating over the uncertainty at the in-sample designs Sobol generates random points and has few points close to the Pareto front."
   ]
  },
  {
   "cell_type": "code",
   "execution_count": null,
   "metadata": {
    "customOutput": null,
    "executionStartTime": 1668649858641,
    "executionStopTime": 1668649859522,
    "id": "uWk2NqHCBdhv",
    "jupyter": {
     "outputs_hidden": false
    },
    "originalKey": "cf610a77-3e82-4c30-ac7b-f7a97fa91fa5",
    "requestMsgId": "afb07e9c-ebaf-4a8e-90e3-ca426532de20",
    "scrolled": true
   },
   "outputs": [],
   "source": [
    "# from matplotlib.cm import ScalarMappable\n",
    "\n",
    "\n",
    "# pareto_front = -problem.gen_pareto_front(n=1000).cpu().numpy()\n",
    "\n",
    "# fig, axes = plt.subplots(1, 2, figsize=(18, 7), sharex=True, sharey=True)\n",
    "# algos = [\"qNParEGO\", \"qEHVI\"]\n",
    "# cm = plt.get_cmap(\"viridis\")\n",
    "\n",
    "# batch_number = torch.cat(\n",
    "#     [\n",
    "#         torch.zeros(11 * problem.dim - 1),\n",
    "#         torch.arange(1, N_BATCH + 1).repeat(BATCH_SIZE, 1).t().reshape(-1),\n",
    "#     ]\n",
    "# ).numpy()\n",
    "# for i, train_obj in enumerate(\n",
    "#     (\n",
    "#         train_obj_true_qparego,\n",
    "#         train_obj_true_qehvi,\n",
    "#     )\n",
    "# ):\n",
    "#     sc = axes[i].scatter(\n",
    "#         -train_obj[:, 0].cpu().numpy(),\n",
    "#         -train_obj[:, 1].cpu().numpy(),\n",
    "#         c=batch_number,\n",
    "#         alpha=0.8,\n",
    "#     )\n",
    "#     axes[i].plot(pareto_front[:, 0], pareto_front[:, 1], \"r--\", label=\"Pareto Front\")\n",
    "#     axes[i].set_title(algos[i])\n",
    "#     axes[i].set_xlabel(\"Objective 1\")\n",
    "#     axes[i].legend()\n",
    "# axes[0].set_ylabel(\"Objective 2\")\n",
    "# norm = plt.Normalize(batch_number.min(), batch_number.max())\n",
    "# sm = ScalarMappable(norm=norm, cmap=plt.get_cmap(\"viridis\"))\n",
    "# sm.set_array([])\n",
    "# fig.subplots_adjust(right=0.9)\n",
    "# cbar_ax = fig.add_axes([0.93, 0.15, 0.01, 0.7])\n",
    "# cbar = fig.colorbar(sm, cax=cbar_ax)\n",
    "# cbar.ax.set_title(\"Iteration\")"
   ]
  },
  {
   "cell_type": "code",
   "execution_count": null,
   "metadata": {
    "id": "328eqjxR4XCR"
   },
   "outputs": [],
   "source": [
    "# import matplotlib.pyplot as plt\n",
    "\n",
    "# # Assume train_obj_true_qparego and train_obj_true_qehvi are torch tensors\n",
    "# # and problem.dim is defined, as well as pareto_front\n",
    "\n",
    "# fig, axes = plt.subplots(1, 2, figsize=(18, 7), sharex=True, sharey=True)\n",
    "# algos = [\"qNParEGO\", \"qEHVI\"]\n",
    "\n",
    "# for i, train_obj in enumerate((train_obj_true_qparego, train_obj_true_qehvi)):\n",
    "#     axes[i].scatter(\n",
    "#         -train_obj[:n_initial, 0].cpu().numpy(),\n",
    "#         -train_obj[:n_initial, 1].cpu().numpy(),\n",
    "#         c=\"deepskyblue\", s=80, alpha=0.8, label=\"Training Points\"\n",
    "#     )\n",
    "#     axes[i].plot(\n",
    "#         pareto_front[:, 0], pareto_front[:, 1], \"r--\", label=\"Pareto Front\"\n",
    "#     )\n",
    "#     axes[i].set_title(algos[i])\n",
    "#     axes[i].set_xlabel(\"Objective 1\")\n",
    "#     axes[i].legend()\n",
    "# axes[0].set_ylabel(\"Objective 2\")\n",
    "# plt.tight_layout()\n",
    "# plt.show()\n"
   ]
  },
  {
   "cell_type": "code",
   "execution_count": null,
   "metadata": {
    "id": "cbz-yjOu4bzq"
   },
   "outputs": [],
   "source": [
    "# import matplotlib.pyplot as plt\n",
    "# import numpy as np\n",
    "# from matplotlib.cm import ScalarMappable\n",
    "\n",
    "# # Generate the Pareto front (assuming this is already defined)\n",
    "# pareto_front = -problem.gen_pareto_front(n=1000).cpu().numpy()\n",
    "\n",
    "# # Number of points per batch\n",
    "# batch_size = 50\n",
    "\n",
    "# # Plot batches of points after skipping initial training points\n",
    "# def plot_batches_after_training(train_obj_true_qparego, train_obj_true_qehvi, pareto_front, n_initial, batch_size):\n",
    "#     algos = [\"qNParEGO\", \"qEHVI\"]\n",
    "#     train_objs = [train_obj_true_qparego, train_obj_true_qehvi]\n",
    "\n",
    "#     # Calculate total points in each train_obj\n",
    "#     total_points = train_obj_true_qparego.shape[0]\n",
    "\n",
    "#     # Calculate number of points after initial training\n",
    "#     n_remaining = total_points - n_initial\n",
    "\n",
    "#     # Calculate number of plots needed\n",
    "#     n_plots = (n_remaining + batch_size - 1) // batch_size\n",
    "\n",
    "#     for plot_idx in range(n_plots):\n",
    "#         fig, axes = plt.subplots(1, 2, figsize=(18, 7), sharex=True, sharey=True)\n",
    "#         cm = plt.get_cmap(\"viridis\")\n",
    "\n",
    "#         start_idx = n_initial + plot_idx * batch_size\n",
    "#         end_idx = min(start_idx + batch_size, total_points)\n",
    "\n",
    "#         for i, train_obj in enumerate(train_objs):\n",
    "#             # Get the current batch of points\n",
    "#             batch_points = train_obj[start_idx:end_idx]\n",
    "\n",
    "#             # Generate indices for coloring (relative to this batch)\n",
    "#             indices = np.arange(end_idx - start_idx)\n",
    "\n",
    "#             # Plot the points\n",
    "#             sc = axes[i].scatter(\n",
    "#                 -batch_points[:, 0].cpu().numpy(),\n",
    "#                 -batch_points[:, 1].cpu().numpy(),\n",
    "#                 c=indices,\n",
    "#                 cmap=cm,\n",
    "#                 alpha=0.8\n",
    "#             )\n",
    "\n",
    "#             # Plot Pareto front\n",
    "#             axes[i].plot(pareto_front[:, 0], pareto_front[:, 1], \"r--\", label=\"Pareto Front\")\n",
    "\n",
    "#             # Set titles and labels\n",
    "#             axes[i].set_title(f\"{algos[i]} (Batch {plot_idx+1}: {len(indices)} points)\")\n",
    "#             axes[i].set_xlabel(\"Objective 1\")\n",
    "#             axes[i].legend()\n",
    "\n",
    "#         axes[0].set_ylabel(\"Objective 2\")\n",
    "\n",
    "#         # Add colorbar\n",
    "#         norm = plt.Normalize(indices.min(), indices.max())\n",
    "#         sm = ScalarMappable(norm=norm, cmap=cm)\n",
    "#         sm.set_array([])\n",
    "#         fig.subplots_adjust(right=0.9)\n",
    "#         cbar_ax = fig.add_axes([0.93, 0.15, 0.01, 0.7])\n",
    "#         cbar = fig.colorbar(sm, cax=cbar_ax)\n",
    "#         cbar.ax.set_title(\"Point Index\")\n",
    "\n",
    "#         plt.tight_layout(rect=[0, 0, 0.92, 1])\n",
    "#         plt.show()\n",
    "\n",
    "# # Call the function to generate the plots\n",
    "# plot_batches_after_training(train_obj_true_qparego, train_obj_true_qehvi, pareto_front, n_initial, batch_size)\n"
   ]
  },
  {
   "cell_type": "code",
   "execution_count": null,
   "metadata": {
    "id": "mg_wnvuzQvVN"
   },
   "outputs": [],
   "source": [
    "import plotly.graph_objects as go\n",
    "from plotly.subplots import make_subplots\n",
    "import numpy as np\n",
    "\n",
    "def create_pareto_surface(problem, n=1000):\n",
    "    # Generate Pareto front using the problem's built-in method\n",
    "    pareto_front = -problem.gen_pareto_front(n).cpu().numpy()\n",
    "\n",
    "    if problem.num_objectives == 3:\n",
    "        # Create Mesh3d trace for 3D problems\n",
    "        return go.Mesh3d(\n",
    "            x=pareto_front[:, 0],\n",
    "            y=pareto_front[:, 1],\n",
    "            z=pareto_front[:, 2],\n",
    "            color='red',\n",
    "            opacity=0.3,\n",
    "            intensity=pareto_front[:, 2],\n",
    "            colorscale='Reds',\n",
    "            showscale=False,\n",
    "            name='Pareto Front'\n",
    "        )\n",
    "    else:\n",
    "        raise ValueError(\"Only 3D visualization is supported in this implementation\")\n",
    "\n"
   ]
  },
  {
   "cell_type": "code",
   "execution_count": null,
   "metadata": {
    "id": "3nhpwmwhSHVO"
   },
   "outputs": [],
   "source": [
    "# 1. Plot showing just initial training points\n",
    "fig_initial = make_subplots(\n",
    "    rows=1, cols=2,\n",
    "    specs=[[{'type': 'scatter3d'}, {'type': 'scatter3d'}]],\n",
    "    subplot_titles=(\"qNParEGO\", \"qEHVI\")\n",
    ")\n",
    "\n",
    "# Generate Pareto surface using problem's built-in method\n",
    "pf_surface = create_pareto_surface(problem)\n",
    "\n",
    "alg_data_initial = [\n",
    "    (-train_obj_true_qparego[:n_initial], \"qNParEGO\"),\n",
    "    (-train_obj_true_qehvi[:n_initial], \"qEHVI\"),\n",
    "]\n",
    "\n",
    "for col, (train_obj, name) in enumerate(alg_data_initial, 1):\n",
    "    obj_np = train_obj.cpu().numpy() if isinstance(train_obj, torch.Tensor) else train_obj\n",
    "\n",
    "    # Plot initial points\n",
    "    scatter = go.Scatter3d(\n",
    "        x=obj_np[:, 0], y=obj_np[:, 1], z=obj_np[:, 2],\n",
    "        mode='markers',\n",
    "        marker=dict(size=4, color='deepskyblue', opacity=0.8),\n",
    "        name=name\n",
    "    )\n",
    "\n",
    "    fig_initial.add_trace(scatter, row=1, col=col)\n",
    "    fig_initial.add_trace(pf_surface, row=1, col=col)\n",
    "\n",
    "# Update layout\n",
    "fig_initial.update_layout(\n",
    "    height=600,\n",
    "    width=1200,\n",
    "    scene1=dict(\n",
    "        xaxis_title='Objective 1',\n",
    "        yaxis_title='Objective 2',\n",
    "        zaxis_title='Objective 3',\n",
    "        camera=dict(eye=dict(x=1.5, y=1.5, z=0.6))\n",
    "    ),\n",
    "    scene2=dict(\n",
    "        xaxis_title='Objective 1',\n",
    "        yaxis_title='Objective 2',\n",
    "        zaxis_title='Objective 3',\n",
    "        camera=dict(eye=dict(x=1.5, y=1.5, z=0.6))\n",
    "    ),\n",
    "    showlegend=False,\n",
    "    title_text='Initial Training Points'\n",
    ")\n",
    "fig_initial.show()"
   ]
  },
  {
   "cell_type": "code",
   "execution_count": null,
   "metadata": {
    "id": "E2uIQhy7SOAi"
   },
   "outputs": [],
   "source": [
    "\n",
    "# 2. Plot batches of points after initial points\n",
    "batch_size = 50\n",
    "batch_number = torch.cat(\n",
    "    [\n",
    "        torch.zeros(11 * problem.dim - 1),\n",
    "        torch.arange(1, N_BATCH + 1).repeat(BATCH_SIZE, 1).t().reshape(-1),\n",
    "    ]\n",
    ").numpy()\n",
    "n_points = min(len(train_obj_true_qparego), len(train_obj_true_qehvi))\n",
    "n_remaining = n_points - n_initial\n",
    "n_plots = (n_remaining + batch_size - 1) // batch_size\n",
    "\n",
    "for plot_idx in range(n_plots):\n",
    "    fig = make_subplots(\n",
    "        rows=1, cols=2,\n",
    "        specs=[[{'type': 'scatter3d'}, {'type': 'scatter3d'}]],\n",
    "        subplot_titles=(\"qNParEGO\", \"qEHVI\")\n",
    "    )\n",
    "\n",
    "    start_idx = n_initial + plot_idx * batch_size\n",
    "    end_idx = min(start_idx + batch_size, n_points)\n",
    "\n",
    "    alg_data = [\n",
    "        (-train_obj_true_qparego[start_idx:end_idx], \"qNParEGO\"),\n",
    "        (-train_obj_true_qehvi[start_idx:end_idx], \"qEHVI\"),\n",
    "    ]\n",
    "\n",
    "    for col, (train_obj, name) in enumerate(alg_data, 1):\n",
    "        obj_np = train_obj.cpu().numpy() if isinstance(train_obj, torch.Tensor) else train_obj\n",
    "\n",
    "        # Plot batch points\n",
    "        scatter = go.Scatter3d(\n",
    "            x=obj_np[:, 0], y=obj_np[:, 1], z=obj_np[:, 2],\n",
    "            mode='markers',\n",
    "            marker=dict(\n",
    "                size=4,\n",
    "                color=batch_number[start_idx:end_idx],\n",
    "                colorscale='Viridis',\n",
    "                opacity=0.8,\n",
    "                colorbar=dict(title='Iteration') if col == 2 else None\n",
    "            ),\n",
    "            name=name\n",
    "        )\n",
    "\n",
    "        fig.add_trace(scatter, row=1, col=col)\n",
    "        fig.add_trace(pf_surface, row=1, col=col)\n",
    "\n",
    "    # Update layout\n",
    "    fig.update_layout(\n",
    "        height=600,\n",
    "        width=1200,\n",
    "        scene1=dict(\n",
    "            xaxis_title='Objective 1',\n",
    "            yaxis_title='Objective 2',\n",
    "            zaxis_title='Objective 3',\n",
    "            camera=dict(eye=dict(x=1.5, y=1.5, z=0.6))\n",
    "        ),\n",
    "        scene2=dict(\n",
    "            xaxis_title='Objective 1',\n",
    "            yaxis_title='Objective 2',\n",
    "            zaxis_title='Objective 3',\n",
    "            camera=dict(eye=dict(x=1.5, y=1.5, z=0.6))\n",
    "        ),\n",
    "        showlegend=False,\n",
    "        title_text=f'Cumulative: First {end_idx - start_idx} Points After training'\n",
    "    )\n",
    "    fig.show()\n"
   ]
  },
  {
   "cell_type": "code",
   "execution_count": null,
   "metadata": {
    "id": "9LzcVovZBdhv",
    "scrolled": true
   },
   "outputs": [],
   "source": [
    "import pandas as pd\n",
    "\n",
    "# Convert PyTorch tensors to numpy arrays\n",
    "train_x_qparego_np = train_x_qparego.cpu().numpy()\n",
    "train_obj_qparego_np = train_obj_qparego.cpu().numpy()\n",
    "train_x_qehvi_np = train_x_qehvi.cpu().numpy()\n",
    "train_obj_qehvi_np = train_obj_qehvi.cpu().numpy()\n",
    "\n",
    "# Concatenate the input dimensions and objectives horizontally\n",
    "qparego_data = np.hstack([train_x_qparego_np, train_obj_qparego_np])\n",
    "qehvi_data = np.hstack([train_x_qehvi_np, train_obj_qehvi_np])\n",
    "\n",
    "# Create column headers for better readability\n",
    "input_dim = train_x_qparego.shape[1]\n",
    "obj_dim = train_obj_qparego.shape[1]\n",
    "column_names = [f\"dim{i+1}\" for i in range(input_dim)] + [f\"obj{i+1}\" for i in range(obj_dim)]\n",
    "\n",
    "# Create DataFrames with the combined data and column names\n",
    "qparego_df = pd.DataFrame(qparego_data, columns=column_names)\n",
    "qehvi_df = pd.DataFrame(qehvi_data, columns=column_names)\n",
    "\n",
    "# Save to CSV files\n",
    "qparego_df.to_csv('DTLZ1a (6-3) qNParEGO_data.csv', index=False)\n",
    "qehvi_df.to_csv('DTLZ1a (6-3) qEHVI_data.csv', index=False)\n",
    "\n",
    "print(\"ParEGO data saved to 'DTLZ1a (6-3) qNParEGO_data.csv'\")\n",
    "print(\"EHVI data saved to 'DTLZ1a (6-3) qEHVI_data.csv'\")\n"
   ]
  }
 ],
 "metadata": {
  "accelerator": "GPU",
  "colab": {
   "gpuType": "T4",
   "provenance": []
  },
  "kernelspec": {
   "display_name": "Python 3",
   "name": "python3"
  },
  "language_info": {
   "codemirror_mode": {
    "name": "ipython",
    "version": 3
   },
   "file_extension": ".py",
   "mimetype": "text/x-python",
   "name": "python",
   "nbconvert_exporter": "python",
   "pygments_lexer": "ipython3",
   "version": "3.12.10"
  }
 },
 "nbformat": 4,
 "nbformat_minor": 0
}
