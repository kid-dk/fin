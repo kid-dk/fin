{
 "cells": [
  {
   "cell_type": "code",
   "execution_count": 1,
   "metadata": {
    "colab": {
     "base_uri": "https://localhost:8080/"
    },
    "executionInfo": {
     "elapsed": 31095,
     "status": "ok",
     "timestamp": 1747805118553,
     "user": {
      "displayName": "Deepak L",
      "userId": "17343563887203968144"
     },
     "user_tz": -330
    },
    "id": "6ks8T9wDIUS_",
    "outputId": "ee1f8519-5063-45be-d891-9b44997bb392"
   },
   "outputs": [],
   "source": [
    "# from google.colab import drive\n",
    "import os\n",
    "import pandas as pd\n",
    "import numpy as np # Import numpy\n",
    "\n",
    "# drive.mount('/gdrive')\n",
    "\n",
    "# # Define the path to your \"flick\" folder\n",
    "# folder_path = '/gdrive/MyDrive/code' # Replace 'MyDrive' with your actual Drive folder name if different\n",
    "\n",
    "# # Create the folder if it doesn't exist\n",
    "# if not os.path.exists(folder_path):\n",
    "#     os.makedirs(folder_path)\n",
    "\n",
    "# # Change the current working directory to the \"flick\" folder\n",
    "# os.chdir(folder_path)\n",
    "\n",
    "# print(f\"Current working directory changed to: {os.getcwd()}\")"
   ]
  },
  {
   "cell_type": "code",
   "execution_count": 2,
   "metadata": {
    "id": "td2DETpYNGIv"
   },
   "outputs": [],
   "source": [
    "import os, torch, gc\n",
    "os.environ[\"PYTORCH_CUDA_ALLOC_CONF\"] = \"expandable_segments:True\"\n",
    "torch.set_default_dtype(torch.float32)"
   ]
  },
  {
   "cell_type": "markdown",
   "metadata": {
    "id": "JiijYn5qBdhm",
    "originalKey": "61330204-a407-449f-af77-fcd868546651",
    "showInput": false
   },
   "source": [
    "## Noisy, Parallel, Multi-Objective BO in BoTorch with qEHVI, qNEHVI, and qNParEGO\n",
    "\n",
    "In this tutorial, we illustrate how to implement a simple multi-objective (MO) Bayesian Optimization (BO) closed loop in BoTorch.\n",
    "\n",
    "We use the parallel ParEGO ($q$ParEGO), parallel Expected Hypervolume Improvement ($q$EHVI), and parallel Noisy Expected Hypervolume Improvement ($q$NEHVI) acquisition functions to optimize a synthetic ZDT2 problem test function with additive Gaussian observation noise over a 30-parameter search space [0,1]^30. See `botorch/test_functions/multi_objective.py` for details on ZDT2.\n",
    "\n",
    "Since botorch assumes a maximization of all objectives, we seek to find the Pareto frontier, the set of optimal trade-offs where improving one metric means deteriorating another.\n",
    "\n",
    "**For batch optimization (or in noisy settings), we strongly recommend using $q$NEHVI rather than $q$EHVI because it is far more efficient than $q$EHVI and mathematically equivalent in the noiseless setting.**"
   ]
  },
  {
   "cell_type": "markdown",
   "metadata": {
    "id": "8_WZ6HzLBdho",
    "originalKey": "f01416cb-e83e-4263-b599-b2a3221d144d",
    "showInput": false
   },
   "source": [
    "### Set dtype and device\n",
    "Note: $q$EHVI and $q$NEHVI aggressively exploit parallel hardware and are both much faster when run on a GPU. See [1, 2] for details."
   ]
  },
  {
   "cell_type": "code",
   "execution_count": 3,
   "metadata": {
    "colab": {
     "base_uri": "https://localhost:8080/"
    },
    "executionInfo": {
     "elapsed": 89810,
     "status": "ok",
     "timestamp": 1747805208379,
     "user": {
      "displayName": "Deepak L",
      "userId": "17343563887203968144"
     },
     "user_tz": -330
    },
    "id": "lSxpp8YmBdho",
    "outputId": "7572eab7-94fb-4d58-a759-ffe0b2b423d8"
   },
   "outputs": [],
   "source": [
    "# # Install dependencies if we are running in colab\n",
    "# import sys\n",
    "# if 'google.colab' in sys.modules:\n",
    "#     %pip install botorch"
   ]
  },
  {
   "cell_type": "code",
   "execution_count": 4,
   "metadata": {
    "collapsed": false,
    "customOutput": null,
    "executionStartTime": 1668649461840,
    "executionStopTime": 1668649461848,
    "id": "iNZ_9z01Bdhp",
    "jupyter": {
     "outputs_hidden": false
    },
    "originalKey": "41c30177-379b-4e63-9996-41bc17d70769",
    "requestMsgId": "7e4820a5-df3b-45a6-9826-42541ee0f4f4"
   },
   "outputs": [],
   "source": [
    "import os\n",
    "import torch\n",
    "torch.manual_seed(80)\n",
    "\n",
    "\n",
    "tkwargs = {\n",
    "    \"dtype\": torch.double,\n",
    "    \"device\": torch.device(\"cuda\" if torch.cuda.is_available() else \"cpu\"),\n",
    "}\n",
    "SMOKE_TEST = os.environ.get(\"SMOKE_TEST\")"
   ]
  },
  {
   "cell_type": "markdown",
   "metadata": {
    "id": "B1v64d4oBdhq",
    "originalKey": "8d895a93-397c-4d2c-b6f5-96f589312538",
    "showInput": false
   },
   "source": [
    "### Problem setup\n"
   ]
  },
  {
   "cell_type": "code",
   "execution_count": 5,
   "metadata": {
    "id": "VxqCnTGMBdhq"
   },
   "outputs": [],
   "source": [
    "# from botorch.test_functions.multi_objective import DTLZ1\n",
    "\n",
    "\n",
    "# problem = DTLZ1(dim=6, num_objectives=3, negate=True).to(**tkwargs)"
   ]
  },
  {
   "cell_type": "code",
   "execution_count": 6,
   "metadata": {
    "id": "6JGD2OZnBgNx"
   },
   "outputs": [],
   "source": [
    "import math\n",
    "import torch\n",
    "from torch import Tensor\n",
    "from typing import Optional\n",
    "from scipy.special import gamma\n",
    "from botorch.test_functions.multi_objective import DTLZ\n",
    "from botorch.utils.sampling import sample_simplex, sample_hypersphere\n",
    "\n",
    "\n",
    "class DTLZ4a(DTLZ):\n",
    "    r\"\"\"DTLZ4a: DTLZ2a with alpha=100 exponent (3 objectives, 8 variables).\"\"\"\n",
    "    _ref_val = 1.1\n",
    "    _alpha = 100.0\n",
    "\n",
    "    def __init__(self, noise_std: Optional[float] = None, negate: bool = False) -> None:\n",
    "        super().__init__(dim=8, num_objectives=3, noise_std=noise_std, negate=negate)\n",
    "\n",
    "    def _evaluate_true(self, X: Tensor) -> Tensor:\n",
    "        X_m = X[..., -self.k :]\n",
    "        g_X = (X_m - 0.5).pow(2).sum(dim=-1)\n",
    "        g_X_plus1 = 1 + g_X\n",
    "        fs = []\n",
    "        pi_over_2 = math.pi / 2\n",
    "        for i in range(self.num_objectives):\n",
    "            idx = self.num_objectives - 1 - i\n",
    "            f_i = g_X_plus1.clone()\n",
    "            # apply exponent alpha to angle variables\n",
    "            if idx > 0:\n",
    "                f_i *= torch.cos(X[..., :idx].pow(self._alpha) * pi_over_2).prod(dim=-1)\n",
    "            if i > 0:\n",
    "                f_i *= torch.sin(X[..., idx].pow(self._alpha) * pi_over_2)\n",
    "            fs.append(f_i)\n",
    "        return torch.stack(fs, dim=-1)\n",
    "        \n",
    "    def evaluate_true(self, X: Tensor) -> Tensor:\n",
    "        return self._evaluate_true(X)\n",
    "\n",
    "    @property\n",
    "    def _max_hv(self) -> float:\n",
    "        hypercube_vol = self._ref_val ** self.num_objectives\n",
    "        pos_hypersphere_vol = (\n",
    "            math.pi ** (self.num_objectives / 2) / gamma(self.num_objectives / 2 + 1) / 2 ** self.num_objectives\n",
    "        )\n",
    "        return hypercube_vol - pos_hypersphere_vol\n",
    "\n",
    "    def gen_pareto_front(self, n: int) -> Tensor:\n",
    "        f_X = sample_hypersphere(\n",
    "            n=n,\n",
    "            d=self.num_objectives,\n",
    "            dtype=self.ref_point.dtype,\n",
    "            device=self.ref_point.device,\n",
    "            qmc=True,\n",
    "        ).abs()\n",
    "        if self.negate:\n",
    "            f_X *= -1\n",
    "        return f_X\n"
   ]
  },
  {
   "cell_type": "code",
   "execution_count": 7,
   "metadata": {
    "colab": {
     "base_uri": "https://localhost:8080/"
    },
    "executionInfo": {
     "elapsed": 622,
     "status": "ok",
     "timestamp": 1747805217019,
     "user": {
      "displayName": "Deepak L",
      "userId": "17343563887203968144"
     },
     "user_tz": -330
    },
    "id": "-WaIKxgPBdhq",
    "outputId": "bc4a5af4-d393-4c01-d2b3-696afb1ce355"
   },
   "outputs": [
    {
     "name": "stdout",
     "output_type": "stream",
     "text": [
      "tensor([-1.1000, -1.1000, -1.1000], dtype=torch.float64)\n",
      "0.8074012244017015\n",
      "tensor([[0., 0., 0., 0., 0., 0., 0., 0.],\n",
      "        [1., 1., 1., 1., 1., 1., 1., 1.]], dtype=torch.float64)\n"
     ]
    }
   ],
   "source": [
    "problem = DTLZ4a(negate=True).to(**tkwargs)\n",
    "\n",
    "print(problem.ref_point, end=\"\\n\")\n",
    "print(problem.max_hv, end=\"\\n\")\n",
    "print(problem.bounds, end=\"\\n\")"
   ]
  },
  {
   "cell_type": "markdown",
   "metadata": {
    "id": "I31BWTdlBdhr",
    "originalKey": "fc047039-c2a9-4ea8-920e-c057547cfb11",
    "showInput": false
   },
   "source": [
    "#### Model initialization\n",
    "\n",
    "We use a list of `SingleTaskGP`s to model the two objectives with known noise variances. If no noise variances were provided, `SingleTaskGP` would infer (homoskedastic) noise levels instead.\n",
    "\n",
    "The models are initialized with $2(d+1)=6$ points drawn randomly from $[0,1]^2$."
   ]
  },
  {
   "cell_type": "code",
   "execution_count": 8,
   "metadata": {
    "collapsed": false,
    "customOutput": null,
    "executionStartTime": 1668649462312,
    "executionStopTime": 1668649462318,
    "id": "hIkSW6KWBdhr",
    "jupyter": {
     "outputs_hidden": false
    },
    "originalKey": "47170c31-65e4-4f2d-949c-d91544e065fc",
    "requestMsgId": "8a44b7cb-cc5f-419e-849f-2b4d1dc3abe1"
   },
   "outputs": [],
   "source": [
    "from botorch.models.gp_regression import SingleTaskGP\n",
    "from botorch.models.model_list_gp_regression import ModelListGP\n",
    "from botorch.models.transforms.outcome import Standardize\n",
    "from gpytorch.mlls.sum_marginal_log_likelihood import SumMarginalLogLikelihood\n",
    "from botorch.utils.transforms import unnormalize, normalize\n",
    "from botorch.utils.sampling import draw_sobol_samples\n",
    "\n",
    "n_initial = 11 * problem.dim - 1\n",
    "\n",
    "def generate_initial_data(n=n_initial):\n",
    "    # generate training data\n",
    "    train_x = draw_sobol_samples(bounds=problem.bounds, n=n, q=1).squeeze(1)\n",
    "    train_obj_true = problem(train_x)\n",
    "    train_obj = train_obj_true\n",
    "    return train_x, train_obj, train_obj_true\n",
    "\n",
    "\n",
    "\n",
    "from botorch.models.gp_regression import SingleTaskGP\n",
    "from gpytorch.mlls.exact_marginal_log_likelihood import ExactMarginalLogLikelihood\n",
    "\n",
    "def initialize_model(train_x, train_obj):\n",
    "    train_x = normalize(train_x, problem.bounds)\n",
    "    train_y = train_obj  # Shape: [n, 2]\n",
    "\n",
    "    model = SingleTaskGP(\n",
    "        train_x,\n",
    "        train_y,\n",
    "        outcome_transform=Standardize(m=3),  # Standardize both objectives\n",
    "    )\n",
    "    mll = ExactMarginalLogLikelihood(model.likelihood, model)\n",
    "    return mll, model"
   ]
  },
  {
   "cell_type": "markdown",
   "metadata": {
    "id": "Y-OuG7D3Bdhs",
    "originalKey": "6bfaef9a-3f34-4d51-9700-fbddc79eccf1",
    "showInput": false
   },
   "source": [
    "#### Define a helper functions that performs the essential BO step for $q$EHVI and $q$NEHVI\n",
    "The helper function below initializes the $q$EHVI acquisition function, optimizes it, and returns the batch $\\{x_1, x_2, \\ldots x_q\\}$ along with the observed function values.\n",
    "\n",
    "For this example, we'll use a relatively small batch of optimization ($q=4$). For batch optimization ($q>1$), passing the keyword argument `sequential=True` to the function `optimize_acqf`specifies that candidates should be optimized in a sequential greedy fashion (see [1] for details why this is important). A simple initialization heuristic is used to select the 10 restart initial locations from a set of 512 random points. Multi-start optimization of the acquisition function is performed using LBFGS-B with exact gradients computed via auto-differentiation.\n",
    "\n",
    "**Reference Point**\n",
    "\n",
    "$q$EHVI requires specifying a reference point, which is the lower bound on the objectives used for computing hypervolume. In this tutorial, we assume the reference point is known. In practice the reference point can be set 1) using domain knowledge to be slightly worse than the lower bound of objective values, where the lower bound is the minimum acceptable value of interest for each objective, or 2) using a dynamic reference point selection strategy.\n",
    "\n",
    "**Partitioning the Non-dominated Space into disjoint rectangles**\n",
    "\n",
    "$q$EHVI requires partitioning the non-dominated space into disjoint rectangles (see [1] for details).\n",
    "\n",
    "*Note:* `FastNondominatedPartitioning` *will be very slow when 1) there are a lot of points on the pareto frontier and 2) there are >5 objectives.*"
   ]
  },
  {
   "cell_type": "code",
   "execution_count": 9,
   "metadata": {
    "collapsed": false,
    "customOutput": null,
    "executionStartTime": 1668649462539,
    "executionStopTime": 1668649462641,
    "id": "zSOEeo1bBdhs",
    "jupyter": {
     "outputs_hidden": false
    },
    "originalKey": "b7effe94-1327-405d-9148-c8e93470b846",
    "requestMsgId": "40a5edda-3bee-43c9-b84b-c669c288eb80"
   },
   "outputs": [],
   "source": [
    "from botorch.optim.optimize import optimize_acqf, optimize_acqf_list\n",
    "from botorch.acquisition.objective import GenericMCObjective\n",
    "from botorch.utils.multi_objective.scalarization import get_chebyshev_scalarization\n",
    "from botorch.utils.multi_objective.box_decompositions.non_dominated import (\n",
    "    NondominatedPartitioning,\n",
    ")\n",
    "from botorch.acquisition.multi_objective import (\n",
    "    qLogExpectedHypervolumeImprovement,\n",
    "    qLogNoisyExpectedHypervolumeImprovement,\n",
    ")\n",
    "from botorch.utils.sampling import sample_simplex\n",
    "\n",
    "\n",
    "BATCH_SIZE = 2\n",
    "NUM_RESTARTS = 10 if not SMOKE_TEST else 2\n",
    "RAW_SAMPLES = 128 if not SMOKE_TEST else 4\n",
    "\n",
    "standard_bounds = torch.zeros(2, problem.dim, **tkwargs)\n",
    "standard_bounds[1] = 1\n",
    "\n",
    "\n",
    "def optimize_qehvi_and_get_observation(model, train_x, train_obj, sampler):\n",
    "    \"\"\"Optimizes the qEHVI acquisition function, and returns a new candidate and observation.\"\"\"\n",
    "    # partition non-dominated space into disjoint rectangles\n",
    "    with torch.no_grad():\n",
    "        pred = model.posterior(normalize(train_x, problem.bounds)).mean\n",
    "    partitioning = NondominatedPartitioning(\n",
    "        ref_point=problem.ref_point,\n",
    "        Y=pred,\n",
    "    )\n",
    "    acq_func = qLogExpectedHypervolumeImprovement(\n",
    "        model=model,\n",
    "        ref_point=problem.ref_point,\n",
    "        partitioning=partitioning,\n",
    "        sampler=sampler,\n",
    "    )\n",
    "    # optimize\n",
    "    candidates, _ = optimize_acqf(\n",
    "        acq_function=acq_func,\n",
    "        bounds=standard_bounds,\n",
    "        q=BATCH_SIZE,\n",
    "        num_restarts=NUM_RESTARTS,\n",
    "        raw_samples=RAW_SAMPLES,  # used for intialization heuristic\n",
    "        options={\"batch_limit\": 5, \"maxiter\": 200},\n",
    "        sequential=True,\n",
    "    )\n",
    "    # observe new values\n",
    "    new_x = unnormalize(candidates.detach(), bounds=problem.bounds)\n",
    "    new_obj_true = problem(new_x)\n",
    "    new_obj = new_obj_true\n",
    "    return new_x, new_obj, new_obj_true"
   ]
  },
  {
   "cell_type": "markdown",
   "metadata": {
    "id": "MiFVOqxhBdht",
    "originalKey": "ad78607d-d910-441c-903b-b15dc77a432f",
    "showInput": false
   },
   "source": [
    "#### Define a helper function that performs the essential BO step for $q$NParEGO\n",
    "The helper function below similarly initializes $q$NParEGO, optimizes it, and returns the batch $\\{x_1, x_2, \\ldots x_q\\}$ along with the observed function values.\n",
    "\n",
    "$q$NParEGO uses random augmented chebyshev scalarization with the `qNoisyExpectedImprovement` acquisition function. In the parallel setting ($q>1$), each candidate is optimized in sequential greedy fashion using a different random scalarization (see [1] for details).\n",
    "\n",
    "To do this, we create a list of `qNoisyExpectedImprovement` acquisition functions, each with different random scalarization weights. The `optimize_acqf_list` method sequentially generates one candidate per acquisition function and conditions the next candidate (and acquisition function) on the previously selected pending candidates."
   ]
  },
  {
   "cell_type": "code",
   "execution_count": 10,
   "metadata": {
    "collapsed": false,
    "customOutput": null,
    "executionStartTime": 1668649463087,
    "executionStopTime": 1668649463185,
    "id": "rACxiO2FBdht",
    "jupyter": {
     "outputs_hidden": false
    },
    "originalKey": "806b115f-a15f-44df-b7f9-d2f098969e02",
    "requestMsgId": "514d162f-78e0-447a-a483-c923cba18b80"
   },
   "outputs": [],
   "source": [
    "from botorch.acquisition import qLogNoisyExpectedImprovement\n",
    "\n",
    "\n",
    "def optimize_qnparego_and_get_observation(model, train_x, train_obj, sampler):\n",
    "    \"\"\"Samples a set of random weights for each candidate in the batch, performs sequential greedy optimization\n",
    "    of the qNParEGO acquisition function, and returns a new candidate and observation.\"\"\"\n",
    "    train_x = normalize(train_x, problem.bounds)\n",
    "    with torch.no_grad():\n",
    "        pred = model.posterior(train_x).mean\n",
    "    acq_func_list = []\n",
    "    for _ in range(BATCH_SIZE):\n",
    "        weights = sample_simplex(problem.num_objectives, **tkwargs).squeeze()\n",
    "        objective = GenericMCObjective(\n",
    "            get_chebyshev_scalarization(weights=weights, Y=pred)\n",
    "        )\n",
    "        acq_func = qLogNoisyExpectedImprovement(  # pyre-ignore: [28]\n",
    "            model=model,\n",
    "            objective=objective,\n",
    "            X_baseline=train_x,\n",
    "            sampler=sampler,\n",
    "            prune_baseline=True,\n",
    "        )\n",
    "        acq_func_list.append(acq_func)\n",
    "    # optimize\n",
    "    candidates, _ = optimize_acqf_list(\n",
    "        acq_function_list=acq_func_list,\n",
    "        bounds=standard_bounds,\n",
    "        num_restarts=NUM_RESTARTS,\n",
    "        raw_samples=RAW_SAMPLES,  # used for intialization heuristic\n",
    "        options={\"batch_limit\": 5, \"maxiter\": 200},\n",
    "    )\n",
    "    # observe new values\n",
    "    new_x = unnormalize(candidates.detach(), bounds=problem.bounds)\n",
    "    new_obj_true = problem(new_x)\n",
    "    new_obj = new_obj_true #+ torch.randn_like(new_obj_true) * NOISE_SE\n",
    "    return new_x, new_obj, new_obj_true"
   ]
  },
  {
   "cell_type": "markdown",
   "metadata": {
    "id": "ZXq2l3l-Bdht",
    "originalKey": "f8ffd86a-f4bb-4984-9330-04ff4d62f189",
    "showInput": false
   },
   "source": [
    "### Perform Bayesian Optimization loop with $q$NEHVI, $q$EHVI, and $q$NParEGO\n",
    "The Bayesian optimization \"loop\" for a batch size of $q$ simply iterates the following steps:\n",
    "1. given a surrogate model, choose a batch of points $\\{x_1, x_2, \\ldots x_q\\}$\n",
    "2. observe $f(x)$ for each $x$ in the batch\n",
    "3. update the surrogate model.\n",
    "\n",
    "\n",
    "Just for illustration purposes, we run one trial with `N_BATCH=20` rounds of optimization. The acquisition function is approximated using `MC_SAMPLES=128` samples.\n",
    "\n",
    "*Note*: Running this may take a little while."
   ]
  },
  {
   "cell_type": "code",
   "execution_count": 11,
   "metadata": {
    "colab": {
     "base_uri": "https://localhost:8080/"
    },
    "collapsed": false,
    "customOutput": null,
    "executionInfo": {
     "elapsed": 6955606,
     "status": "ok",
     "timestamp": 1747812172715,
     "user": {
      "displayName": "Deepak L",
      "userId": "17343563887203968144"
     },
     "user_tz": -330
    },
    "executionStartTime": 1668649463513,
    "executionStopTime": 1668649856754,
    "id": "A2Ii-yH3Bdhu",
    "jupyter": {
     "outputs_hidden": false
    },
    "originalKey": "c29b731a-64e7-401d-a5b2-3879d8d39327",
    "outputId": "059f883f-d6c2-4e65-fbfb-eeff1d3a0b2c",
    "requestMsgId": "43e1021f-9ecd-4d2c-a7ba-21e26051ce66"
   },
   "outputs": [
    {
     "name": "stdout",
     "output_type": "stream",
     "text": [
      "\n",
      "Batch  1: Hypervolume (qNParEGO, qEHVI) = (0.01, 0.01), time = 120.53.\n",
      "Batch  2: Hypervolume (qNParEGO, qEHVI) = (0.01, 0.01), time = 192.09.\n",
      "Batch  3: Hypervolume (qNParEGO, qEHVI) = (0.01, 0.01), time = 79.76.\n",
      "Batch  4: Hypervolume (qNParEGO, qEHVI) = (0.01, 0.01), time = 146.54.\n",
      "Batch  5: Hypervolume (qNParEGO, qEHVI) = (0.01, 0.12), time = 114.45.\n",
      "Batch  6: Hypervolume (qNParEGO, qEHVI) = (0.10, 0.12), time = 98.69.\n",
      "Batch  7: Hypervolume (qNParEGO, qEHVI) = (0.10, 0.12), time = 72.77.\n",
      "Batch  8: Hypervolume (qNParEGO, qEHVI) = (0.12, 0.12), time = 61.14.\n",
      "Batch  9: Hypervolume (qNParEGO, qEHVI) = (0.12, 0.12), time = 68.47.\n",
      "Batch 10: Hypervolume (qNParEGO, qEHVI) = (0.12, 0.12), time = 132.77.\n",
      "Batch 11: Hypervolume (qNParEGO, qEHVI) = (0.12, 0.12), time = 76.81.\n",
      "Batch 12: Hypervolume (qNParEGO, qEHVI) = (0.12, 0.12), time = 115.80.\n",
      "Batch 13: Hypervolume (qNParEGO, qEHVI) = (0.19, 0.12), time = 89.13.\n",
      "Batch 14: Hypervolume (qNParEGO, qEHVI) = (0.19, 0.12), time = 85.60.\n",
      "Batch 15: Hypervolume (qNParEGO, qEHVI) = (0.19, 0.12), time = 63.43.\n",
      "Batch 16: Hypervolume (qNParEGO, qEHVI) = (0.19, 0.13), time = 47.69.\n",
      "Batch 17: Hypervolume (qNParEGO, qEHVI) = (0.19, 0.13), time = 184.27.\n",
      "Batch 18: Hypervolume (qNParEGO, qEHVI) = (0.19, 0.22), time = 124.46.\n",
      "Batch 19: Hypervolume (qNParEGO, qEHVI) = (0.19, 0.22), time = 81.30.\n",
      "Batch 20: Hypervolume (qNParEGO, qEHVI) = (0.19, 0.22), time = 116.35.\n",
      "Batch 21: Hypervolume (qNParEGO, qEHVI) = (0.19, 0.22), time = 119.36.\n",
      "Batch 22: Hypervolume (qNParEGO, qEHVI) = (0.19, 0.22), time = 94.46.\n",
      "Batch 23: Hypervolume (qNParEGO, qEHVI) = (0.19, 0.22), time = 139.02.\n",
      "Batch 24: Hypervolume (qNParEGO, qEHVI) = (0.19, 0.22), time = 123.13.\n",
      "Batch 25: Hypervolume (qNParEGO, qEHVI) = (0.19, 0.22), time = 139.57.\n",
      "Batch 26: Hypervolume (qNParEGO, qEHVI) = (0.19, 0.22), time = 161.10.\n",
      "Batch 27: Hypervolume (qNParEGO, qEHVI) = (0.19, 0.31), time = 167.88.\n",
      "Batch 28: Hypervolume (qNParEGO, qEHVI) = (0.19, 0.31), time = 125.78.\n",
      "Batch 29: Hypervolume (qNParEGO, qEHVI) = (0.19, 0.31), time = 129.49.\n",
      "Batch 30: Hypervolume (qNParEGO, qEHVI) = (0.19, 0.31), time = 154.59.\n",
      "Batch 31: Hypervolume (qNParEGO, qEHVI) = (0.19, 0.31), time = 208.64.\n",
      "Batch 32: Hypervolume (qNParEGO, qEHVI) = (0.19, 0.31), time = 124.37.\n",
      "Batch 33: Hypervolume (qNParEGO, qEHVI) = (0.19, 0.31), time = 112.13.\n",
      "Batch 34: Hypervolume (qNParEGO, qEHVI) = (0.19, 0.31), time = 153.46.\n",
      "Batch 35: Hypervolume (qNParEGO, qEHVI) = (0.19, 0.31), time = 230.10.\n",
      "Batch 36: Hypervolume (qNParEGO, qEHVI) = (0.19, 0.31), time = 109.69.\n",
      "Batch 37: Hypervolume (qNParEGO, qEHVI) = (0.19, 0.31), time = 154.07.\n",
      "Batch 38: Hypervolume (qNParEGO, qEHVI) = (0.19, 0.31), time = 197.34.\n",
      "Batch 39: Hypervolume (qNParEGO, qEHVI) = (0.19, 0.31), time = 155.59.\n",
      "Batch 40: Hypervolume (qNParEGO, qEHVI) = (0.19, 0.31), time = 134.18.\n",
      "Batch 41: Hypervolume (qNParEGO, qEHVI) = (0.19, 0.31), time = 171.32.\n",
      "Batch 42: Hypervolume (qNParEGO, qEHVI) = (0.20, 0.31), time = 130.46.\n",
      "Batch 43: Hypervolume (qNParEGO, qEHVI) = (0.20, 0.31), time = 282.67.\n",
      "Batch 44: Hypervolume (qNParEGO, qEHVI) = (0.20, 0.31), time = 153.52.\n",
      "Batch 45: Hypervolume (qNParEGO, qEHVI) = (0.20, 0.31), time = 187.77.\n",
      "Batch 46: Hypervolume (qNParEGO, qEHVI) = (0.20, 0.31), time = 270.45.\n",
      "Batch 47: Hypervolume (qNParEGO, qEHVI) = (0.20, 0.31), time = 209.30.\n",
      "Batch 48: Hypervolume (qNParEGO, qEHVI) = (0.20, 0.31), time = 123.79.\n",
      "Batch 49: Hypervolume (qNParEGO, qEHVI) = (0.20, 0.31), time = 186.43.\n",
      "Batch 50: Hypervolume (qNParEGO, qEHVI) = (0.21, 0.31), time = 255.85.\n",
      "Batch 51: Hypervolume (qNParEGO, qEHVI) = (0.21, 0.31), time = 218.94.\n",
      "Batch 52: Hypervolume (qNParEGO, qEHVI) = (0.21, 0.31), time = 229.36.\n",
      "Batch 53: Hypervolume (qNParEGO, qEHVI) = (0.21, 0.31), time = 223.53.\n",
      "Batch 54: Hypervolume (qNParEGO, qEHVI) = (0.21, 0.31), time = 253.87.\n",
      "Batch 55: Hypervolume (qNParEGO, qEHVI) = (0.21, 0.31), time = 316.61.\n",
      "Batch 56: Hypervolume (qNParEGO, qEHVI) = (0.21, 0.31), time = 117.80.\n",
      "Batch 57: Hypervolume (qNParEGO, qEHVI) = (0.21, 0.31), time = 213.58.\n",
      "Batch 58: Hypervolume (qNParEGO, qEHVI) = (0.21, 0.31), time = 230.07.\n",
      "Batch 59: Hypervolume (qNParEGO, qEHVI) = (0.21, 0.31), time = 165.02.\n",
      "Batch 60: Hypervolume (qNParEGO, qEHVI) = (0.21, 0.31), time = 349.52.\n",
      "Batch 61: Hypervolume (qNParEGO, qEHVI) = (0.21, 0.31), time = 197.11.\n",
      "Batch 62: Hypervolume (qNParEGO, qEHVI) = (0.26, 0.31), time = 150.86.\n",
      "Batch 63: Hypervolume (qNParEGO, qEHVI) = (0.26, 0.31), time = 250.47.\n",
      "Batch 64: Hypervolume (qNParEGO, qEHVI) = (0.26, 0.31), time = 223.62.\n",
      "Batch 65: Hypervolume (qNParEGO, qEHVI) = (0.26, 0.31), time = 377.80.\n",
      "Batch 66: Hypervolume (qNParEGO, qEHVI) = (0.26, 0.31), time = 295.15.\n",
      "Batch 67: Hypervolume (qNParEGO, qEHVI) = (0.26, 0.31), time = 224.25.\n",
      "Batch 68: Hypervolume (qNParEGO, qEHVI) = (0.26, 0.31), time = 396.68.\n",
      "Batch 69: Hypervolume (qNParEGO, qEHVI) = (0.26, 0.31), time = 249.37.\n",
      "Batch 70: Hypervolume (qNParEGO, qEHVI) = (0.26, 0.31), time = 283.56.\n",
      "Batch 71: Hypervolume (qNParEGO, qEHVI) = (0.33, 0.31), time = 189.47.\n",
      "Batch 72: Hypervolume (qNParEGO, qEHVI) = (0.33, 0.31), time = 243.07.\n",
      "Batch 73: Hypervolume (qNParEGO, qEHVI) = (0.33, 0.31), time = 140.63.\n",
      "Batch 74: Hypervolume (qNParEGO, qEHVI) = (0.33, 0.31), time = 306.53.\n",
      "Batch 75: Hypervolume (qNParEGO, qEHVI) = (0.33, 0.31), time = 154.63.\n",
      "Batch 76: Hypervolume (qNParEGO, qEHVI) = (0.33, 0.31), time = 294.74.\n",
      "Batch 77: Hypervolume (qNParEGO, qEHVI) = (0.33, 0.31), time = 226.29.\n",
      "Batch 78: Hypervolume (qNParEGO, qEHVI) = (0.33, 0.31), time = 253.95.\n",
      "Batch 79: Hypervolume (qNParEGO, qEHVI) = (0.33, 0.31), time = 171.78.\n",
      "Batch 80: Hypervolume (qNParEGO, qEHVI) = (0.33, 0.31), time = 247.69.\n",
      "Batch 81: Hypervolume (qNParEGO, qEHVI) = (0.33, 0.31), time = 285.64.\n",
      "Batch 82: Hypervolume (qNParEGO, qEHVI) = (0.33, 0.31), time = 123.18.\n",
      "Batch 83: Hypervolume (qNParEGO, qEHVI) = (0.33, 0.31), time = 235.06.\n",
      "Batch 84: Hypervolume (qNParEGO, qEHVI) = (0.33, 0.31), time = 292.21.\n",
      "Batch 85: Hypervolume (qNParEGO, qEHVI) = (0.33, 0.31), time = 189.13.\n",
      "Batch 86: Hypervolume (qNParEGO, qEHVI) = (0.33, 0.31), time = 142.78.\n",
      "Batch 87: Hypervolume (qNParEGO, qEHVI) = (0.33, 0.31), time = 299.81.\n",
      "Batch 88: Hypervolume (qNParEGO, qEHVI) = (0.33, 0.31), time = 206.44.\n",
      "Batch 89: Hypervolume (qNParEGO, qEHVI) = (0.33, 0.31), time = 155.36.\n",
      "Batch 90: Hypervolume (qNParEGO, qEHVI) = (0.33, 0.31), time = 193.52.\n",
      "Batch 91: Hypervolume (qNParEGO, qEHVI) = (0.33, 0.31), time = 190.06.\n",
      "Batch 92: Hypervolume (qNParEGO, qEHVI) = (0.33, 0.31), time = 317.47.\n",
      "Batch 93: Hypervolume (qNParEGO, qEHVI) = (0.33, 0.31), time = 318.79.\n",
      "Batch 94: Hypervolume (qNParEGO, qEHVI) = (0.33, 0.31), time = 277.24.\n",
      "Batch 95: Hypervolume (qNParEGO, qEHVI) = (0.33, 0.31), time = 171.79.\n",
      "Batch 96: Hypervolume (qNParEGO, qEHVI) = (0.33, 0.31), time = 206.04.\n",
      "Batch 97: Hypervolume (qNParEGO, qEHVI) = (0.33, 0.31), time = 181.00.\n",
      "Batch 98: Hypervolume (qNParEGO, qEHVI) = (0.33, 0.31), time = 346.79.\n",
      "Batch 99: Hypervolume (qNParEGO, qEHVI) = (0.33, 0.31), time = 271.48.\n",
      "Batch 100: Hypervolume (qNParEGO, qEHVI) = (0.33, 0.31), time = 200.11."
     ]
    }
   ],
   "source": [
    "import time\n",
    "import warnings\n",
    "\n",
    "from botorch import fit_gpytorch_mll\n",
    "from botorch.exceptions import BadInitialCandidatesWarning\n",
    "from botorch.sampling.normal import SobolQMCNormalSampler\n",
    "from botorch.utils.multi_objective.box_decompositions.non_dominated import (\n",
    "    NondominatedPartitioning,\n",
    ")\n",
    "from botorch.utils.multi_objective.pareto import is_non_dominated\n",
    "\n",
    "\n",
    "warnings.filterwarnings(\"ignore\", category=BadInitialCandidatesWarning)\n",
    "warnings.filterwarnings(\"ignore\", category=RuntimeWarning)\n",
    "\n",
    "N_BATCH = 100 if not SMOKE_TEST else 4\n",
    "MC_SAMPLES = 64 if not SMOKE_TEST else 16\n",
    "\n",
    "verbose = True\n",
    "\n",
    "hvs_qparego, hvs_qehvi = [], []\n",
    "\n",
    "# call helper functions to generate initial training data and initialize model\n",
    "train_x_qparego, train_obj_qparego, train_obj_true_qparego = generate_initial_data()\n",
    "mll_qparego, model_qparego = initialize_model(train_x_qparego, train_obj_qparego)\n",
    "\n",
    "train_x_qehvi, train_obj_qehvi, train_obj_true_qehvi = (\n",
    "    train_x_qparego,\n",
    "    train_obj_qparego,\n",
    "    train_obj_true_qparego,\n",
    ")\n",
    "mll_qehvi, model_qehvi = initialize_model(train_x_qehvi, train_obj_qehvi)\n",
    "\n",
    "# compute hypervolume\n",
    "bd = NondominatedPartitioning(ref_point=problem.ref_point, Y=train_obj_true_qparego)\n",
    "volume = bd.compute_hypervolume().item()\n",
    "\n",
    "hvs_qparego.append(volume)\n",
    "hvs_qehvi.append(volume)\n",
    "\n",
    "# run N_BATCH rounds of BayesOpt after the initial random batch\n",
    "for iteration in range(1, N_BATCH + 1):\n",
    "\n",
    "    t0 = time.monotonic()\n",
    "\n",
    "    # fit the models\n",
    "    fit_gpytorch_mll(mll_qparego)\n",
    "    fit_gpytorch_mll(mll_qehvi)\n",
    "\n",
    "    # define the qEI and qNEI acquisition modules using a QMC sampler\n",
    "    qparego_sampler = SobolQMCNormalSampler(sample_shape=torch.Size([MC_SAMPLES]))\n",
    "    qehvi_sampler = SobolQMCNormalSampler(sample_shape=torch.Size([MC_SAMPLES]))\n",
    "\n",
    "    # optimize acquisition functions and get new observations\n",
    "    (\n",
    "        new_x_qparego,\n",
    "        new_obj_qparego,\n",
    "        new_obj_true_qparego,\n",
    "    ) = optimize_qnparego_and_get_observation(\n",
    "        model_qparego, train_x_qparego, train_obj_qparego, qparego_sampler\n",
    "    )\n",
    "    new_x_qehvi, new_obj_qehvi, new_obj_true_qehvi = optimize_qehvi_and_get_observation(\n",
    "        model_qehvi, train_x_qehvi, train_obj_qehvi, qehvi_sampler\n",
    "    )\n",
    "\n",
    "    # update training points\n",
    "    train_x_qparego = torch.cat([train_x_qparego, new_x_qparego])\n",
    "    train_obj_qparego = torch.cat([train_obj_qparego, new_obj_qparego])\n",
    "    train_obj_true_qparego = torch.cat([train_obj_true_qparego, new_obj_true_qparego])\n",
    "\n",
    "    train_x_qehvi = torch.cat([train_x_qehvi, new_x_qehvi])\n",
    "    train_obj_qehvi = torch.cat([train_obj_qehvi, new_obj_qehvi])\n",
    "    train_obj_true_qehvi = torch.cat([train_obj_true_qehvi, new_obj_true_qehvi])\n",
    "\n",
    "\n",
    "    # update progress\n",
    "    for hvs_list, train_obj in zip(\n",
    "        (hvs_qparego, hvs_qehvi),\n",
    "        (\n",
    "            train_obj_true_qparego,\n",
    "            train_obj_true_qehvi,\n",
    "        ),\n",
    "    ):\n",
    "        # compute hypervolume\n",
    "        bd = NondominatedPartitioning(ref_point=problem.ref_point, Y=train_obj)\n",
    "        volume = bd.compute_hypervolume().item()\n",
    "        hvs_list.append(volume)\n",
    "\n",
    "    # reinitialize the models so they are ready for fitting on next iteration\n",
    "    # Note: we find improved performance from not warm starting the model hyperparameters\n",
    "    # using the hyperparameters from the previous iteration\n",
    "    mll_qparego, model_qparego = initialize_model(train_x_qparego, train_obj_qparego)\n",
    "    mll_qehvi, model_qehvi = initialize_model(train_x_qehvi, train_obj_qehvi)\n",
    "\n",
    "    t1 = time.monotonic()\n",
    "\n",
    "    torch.cuda.empty_cache()\n",
    "    gc.collect()\n",
    "\n",
    "    if verbose:\n",
    "        print(\n",
    "            f\"\\nBatch {iteration:>2}: Hypervolume (qNParEGO, qEHVI) = \"\n",
    "            f\"({hvs_qparego[-1]:>4.2f}, {hvs_qehvi[-1]:>4.2f}), \"\n",
    "            f\"time = {t1-t0:>4.2f}.\",\n",
    "            end=\"\",\n",
    "        )\n",
    "    else:\n",
    "        print(\".\", end=\"\")"
   ]
  },
  {
   "cell_type": "markdown",
   "metadata": {
    "id": "v70wonHIBdhu",
    "originalKey": "72232578-0908-4292-aca4-d52197890dd6",
    "showInput": false
   },
   "source": [
    "#### Plot the results\n",
    "The plot below shows the a common metric of multi-objective optimization performance, the log hypervolume difference: the log difference between the hypervolume of the true pareto front and the hypervolume of the approximate pareto front identified by each algorithm. The log hypervolume difference is plotted at each step of the optimization for each of the algorithms.\n",
    "\n",
    "The plot shows that $q$NEHVI outperforms $q$EHVI and $q$ParEGO."
   ]
  },
  {
   "cell_type": "code",
   "execution_count": 12,
   "metadata": {
    "colab": {
     "base_uri": "https://localhost:8080/",
     "height": 560
    },
    "collapsed": false,
    "customOutput": null,
    "executionInfo": {
     "elapsed": 532,
     "status": "ok",
     "timestamp": 1747812173250,
     "user": {
      "displayName": "Deepak L",
      "userId": "17343563887203968144"
     },
     "user_tz": -330
    },
    "executionStartTime": 1668649857076,
    "executionStopTime": 1668649858100,
    "id": "FyLWlXS5Bdhu",
    "jupyter": {
     "outputs_hidden": false
    },
    "originalKey": "c9560130-5c74-4b2b-b24a-fd7618ee7822",
    "outputId": "aa188452-db3c-48b0-85bb-ab0d733679d1",
    "requestMsgId": "d6978d53-90e4-476b-bb1d-75010f65dcd6",
    "scrolled": true
   },
   "outputs": [
    {
     "data": {
      "text/plain": [
       "<matplotlib.legend.Legend at 0x7b9309f91100>"
      ]
     },
     "execution_count": 12,
     "metadata": {},
     "output_type": "execute_result"
    },
    {
     "data": {
      "image/png": "[encoded data removed]",
      "text/plain": [
       "<Figure size 800x600 with 1 Axes>"
      ]
     },
     "metadata": {},
     "output_type": "display_data"
    }
   ],
   "source": [
    "import numpy as np\n",
    "from matplotlib import pyplot as plt\n",
    "\n",
    "%matplotlib inline\n",
    "\n",
    "\n",
    "iters = np.arange(N_BATCH + 1) * BATCH_SIZE\n",
    "log_hv_difference_qparego = np.log10(problem.max_hv - np.asarray(hvs_qparego))\n",
    "log_hv_difference_qehvi = np.log10(problem.max_hv - np.asarray(hvs_qehvi))\n",
    "\n",
    "fig, ax = plt.subplots(1, 1, figsize=(8, 6))\n",
    "ax.errorbar(\n",
    "    iters,\n",
    "    log_hv_difference_qparego,\n",
    "    label=\"qNParEGO\",\n",
    "    linewidth=1.5,\n",
    ")\n",
    "ax.errorbar(\n",
    "    iters,\n",
    "    log_hv_difference_qehvi,\n",
    "    label=\"qEHVI\",\n",
    "    linewidth=1.5,\n",
    ")\n",
    "ax.set(\n",
    "    xlabel=\"number of observations (beyond initial points)\",\n",
    "    ylabel=\"Log Hypervolume Difference\",\n",
    ")\n",
    "ax.legend(loc=\"lower left\")"
   ]
  },
  {
   "cell_type": "markdown",
   "metadata": {
    "collapsed": true,
    "id": "zCutcS6HBdhv",
    "jupyter": {
     "outputs_hidden": true
    },
    "originalKey": "824c329c-6c02-4f67-bce0-a4c57ea655d8",
    "showInput": false
   },
   "source": [
    "#### Plot the true objectives at the evaluated designs colored by iteration\n",
    "\n",
    "To examine optimization process from another perspective, we plot the true function values at the designs selected under each algorithm where the color corresponds to the BO iteration at which the point was collected. The plot on the right for $q$NEHVI shows that the $q$NEHVI quickly identifies the pareto front and most of its evaluations are very close to the pareto front. $q$NParEGO also identifies has many observations close to the pareto front, but relies on optimizing random scalarizations, which is a less principled way of optimizing the pareto front compared to $q$NEHVI, which explicitly attempts focuses on improving the pareto front. $q$EHVI uses the posterior mean as a plug-in estimator for the true function values at the in-sample points, whereas $q$NEHVI than integrating over the uncertainty at the in-sample designs Sobol generates random points and has few points close to the Pareto front."
   ]
  },
  {
   "cell_type": "code",
   "execution_count": 13,
   "metadata": {
    "collapsed": false,
    "customOutput": null,
    "executionStartTime": 1668649858641,
    "executionStopTime": 1668649859522,
    "id": "uWk2NqHCBdhv",
    "jupyter": {
     "outputs_hidden": false
    },
    "originalKey": "cf610a77-3e82-4c30-ac7b-f7a97fa91fa5",
    "requestMsgId": "afb07e9c-ebaf-4a8e-90e3-ca426532de20",
    "scrolled": true
   },
   "outputs": [],
   "source": [
    "# import plotly.graph_objects as go\n",
    "# from plotly.subplots import make_subplots\n",
    "# import numpy as np\n",
    "\n",
    "# # Generate Pareto front\n",
    "# pareto_front = -problem.gen_pareto_front(n=1000).cpu().numpy()\n",
    "\n",
    "# batch_number = torch.cat(\n",
    "#     [\n",
    "#         torch.zeros(11 * problem.dim - 1),\n",
    "#         torch.arange(1, N_BATCH + 1).repeat(BATCH_SIZE, 1).t().reshape(-1),\n",
    "#     ]\n",
    "# ).numpy()\n",
    "\n",
    "# # Create subplots\n",
    "# fig = make_subplots(rows=1, cols=2,\n",
    "#                     specs=[[{'type': 'scatter3d'}, {'type': 'scatter3d'}]],\n",
    "#                     subplot_titles=(\"qNParEGO\", \"qEHVI\"))\n",
    "\n",
    "# # Create color scale\n",
    "# colorscale = plt.get_cmap(\"viridis\")(np.linspace(0, 1, N_BATCH+1))\n",
    "# colorscale = [[i/(len(colorscale)-1), f\"rgb({r*255},{g*255},{b*255})\"]\n",
    "#               for i, (r,g,b,a) in enumerate(colorscale)]\n",
    "\n",
    "# alg_data = [\n",
    "#     (-train_obj_true_qparego, \"qNParEGO\"),\n",
    "#     (-train_obj_true_qehvi, \"qEHVI\"),\n",
    "# ]\n",
    "\n",
    "# for col, (train_obj, name) in enumerate(alg_data, 1):\n",
    "#     # Convert to numpy\n",
    "#     obj_np = train_obj.cpu().numpy()\n",
    "\n",
    "#     # Create 3D scatter plot\n",
    "#     scatter = go.Scatter3d(\n",
    "#         x=obj_np[:, 0],\n",
    "#         y=obj_np[:, 1],\n",
    "#         z=obj_np[:, 2],\n",
    "#         mode='markers',\n",
    "#         marker=dict(\n",
    "#             size=4,\n",
    "#             color=batch_number,\n",
    "#             colorscale=colorscale,\n",
    "#             opacity=0.8,\n",
    "#             colorbar=dict(title='Iteration') if col == 3 else None\n",
    "#         ),\n",
    "#         name=name,\n",
    "#         hovertemplate=\"<b>Obj1</b>: %{x:.2f}<br><b>Obj2</b>: %{y:.2f}<br><b>Obj3</b>: %{z:.2f}<extra></extra>\"\n",
    "#     )\n",
    "\n",
    "#     # Add Pareto front\n",
    "#     pf_trace = go.Scatter3d(\n",
    "#         x=pareto_front[:, 0],\n",
    "#         y=pareto_front[:, 1],\n",
    "#         z=pareto_front[:, 2],\n",
    "#         mode='markers',\n",
    "#         marker=dict(size=2, color='red', opacity=0.5),\n",
    "#         name='Pareto Front'\n",
    "#     )\n",
    "\n",
    "#     fig.add_trace(scatter, row=1, col=col)\n",
    "#     fig.add_trace(pf_trace, row=1, col=col)\n",
    "\n",
    "# # Update layout\n",
    "# fig.update_layout(\n",
    "#     height=600,\n",
    "#     width=1200,\n",
    "#     scene1=dict(\n",
    "#         xaxis_title='Objective 1',\n",
    "#         yaxis_title='Objective 2',\n",
    "#         zaxis_title='Objective 3',\n",
    "#         camera=dict(eye=dict(x=1.5, y=1.5, z=0.6))\n",
    "#     ),\n",
    "#     scene2=dict(\n",
    "#         xaxis_title='Objective 1',\n",
    "#         yaxis_title='Objective 2',\n",
    "#         zaxis_title='Objective 3',\n",
    "#         camera=dict(eye=dict(x=1.5, y=1.5, z=0.6))\n",
    "#     ),\n",
    "#     showlegend=False\n",
    "# )\n",
    "\n",
    "# fig.show()\n"
   ]
  },
  {
   "cell_type": "code",
   "execution_count": 14,
   "metadata": {
    "id": "mYt1v6F7Cj6F"
   },
   "outputs": [],
   "source": [
    "# import plotly.graph_objects as go\n",
    "# from plotly.subplots import make_subplots\n",
    "# import numpy as np\n",
    "\n",
    "# # Assuming problem, train_obj_true_qparego, train_obj_true_qehvi, N_BATCH, BATCH_SIZE are defined\n",
    "\n",
    "# # Generate Pareto front\n",
    "# pareto_front = -problem.gen_pareto_front(n=1000).cpu().numpy()\n",
    "\n",
    "# # Number of initial training points\n",
    "# n_initial = 11 * problem.dim - 1\n",
    "\n",
    "# batch_number = torch.cat([\n",
    "#     torch.zeros(n_initial),\n",
    "#     torch.arange(1, N_BATCH + 1).repeat(BATCH_SIZE, 1).t().reshape(-1),\n",
    "# ]).numpy()\n",
    "\n",
    "# # 1. Plot showing just initial training points\n",
    "# fig_initial = make_subplots(rows=1, cols=2,\n",
    "#                     specs=[[{'type': 'scatter3d'}, {'type': 'scatter3d'}]],\n",
    "#                     subplot_titles=(\"qNParEGO\", \"qEHVI\"))\n",
    "\n",
    "# alg_data_initial = [\n",
    "#     (-train_obj_true_qparego[:n_initial], \"qNParEGO\"),\n",
    "#     (-train_obj_true_qehvi[:n_initial], \"qEHVI\"),\n",
    "# ]\n",
    "\n",
    "# for col, (train_obj, name) in enumerate(alg_data_initial, 1):\n",
    "#     # Convert to numpy if needed\n",
    "#     obj_np = train_obj.cpu().numpy() if isinstance(train_obj, torch.Tensor) else train_obj\n",
    "\n",
    "#     # Create 3D scatter plot for initial points\n",
    "#     scatter = go.Scatter3d(\n",
    "#         x=obj_np[:, 0],\n",
    "#         y=obj_np[:, 1],\n",
    "#         z=obj_np[:, 2],\n",
    "#         mode='markers',\n",
    "#         marker=dict(\n",
    "#             size=4,\n",
    "#             color='deepskyblue',\n",
    "#             opacity=0.8\n",
    "#         ),\n",
    "#         name=name\n",
    "#     )\n",
    "\n",
    "#     # Add Pareto front\n",
    "#     pf_trace = go.Scatter3d(\n",
    "#         x=pareto_front[:, 0],\n",
    "#         y=pareto_front[:, 1],\n",
    "#         z=pareto_front[:, 2],\n",
    "#         mode='markers',\n",
    "#         marker=dict(size=2, color='red', opacity=0.5),\n",
    "#         name='Pareto Front'\n",
    "#     )\n",
    "\n",
    "#     fig_initial.add_trace(scatter, row=1, col=col)\n",
    "#     fig_initial.add_trace(pf_trace, row=1, col=col)\n",
    "\n",
    "# # Update layout\n",
    "# fig_initial.update_layout(\n",
    "#     height=600,\n",
    "#     width=1200,\n",
    "#     scene1=dict(\n",
    "#         xaxis_title='Objective 1',\n",
    "#         yaxis_title='Objective 2',\n",
    "#         zaxis_title='Objective 3'\n",
    "#     ),\n",
    "#     scene2=dict(\n",
    "#         xaxis_title='Objective 1',\n",
    "#         yaxis_title='Objective 2',\n",
    "#         zaxis_title='Objective 3'\n",
    "#     ),\n",
    "#     showlegend=False,\n",
    "#     title_text='Initial Training Points'\n",
    "# )\n",
    "\n",
    "# fig_initial.show()\n",
    "\n"
   ]
  },
  {
   "cell_type": "code",
   "execution_count": 15,
   "metadata": {
    "id": "4jTFJO4-Lg6S"
   },
   "outputs": [],
   "source": [
    "# # 2. Plot batches of 50 points after initial points\n",
    "# batch_size = 50\n",
    "\n",
    "# # Get total number of points\n",
    "# n_points = min(len(train_obj_true_qparego), len(train_obj_true_qehvi))\n",
    "\n",
    "# # Calculate number of points after initial\n",
    "# n_remaining = n_points - n_initial\n",
    "\n",
    "# # Calculate number of plots needed\n",
    "# n_plots = (n_remaining + batch_size - 1) // batch_size\n",
    "\n",
    "# for plot_idx in range(n_plots):\n",
    "#     fig = make_subplots(rows=1, cols=2,\n",
    "#                     specs=[[{'type': 'scatter3d'}, {'type': 'scatter3d'}]],\n",
    "#                     subplot_titles=(\"qNParEGO\", \"qEHVI\"))\n",
    "\n",
    "#     # Define range for this batch of points\n",
    "#     start_idx = n_initial\n",
    "#     end_idx = min(n_initial + (plot_idx + 1) * batch_size, n_points)\n",
    "\n",
    "#     alg_data = [\n",
    "#         (-train_obj_true_qparego[start_idx:end_idx], \"qNParEGO\"),\n",
    "#         (-train_obj_true_qehvi[start_idx:end_idx], \"qEHVI\"),\n",
    "#     ]\n",
    "\n",
    "#     for col, (train_obj, name) in enumerate(alg_data, 1):\n",
    "#         # Convert to numpy if needed\n",
    "#         obj_np = train_obj.cpu().numpy() if isinstance(train_obj, torch.Tensor) else train_obj\n",
    "\n",
    "#         # Create 3D scatter plot\n",
    "#         scatter = go.Scatter3d(\n",
    "#             x=obj_np[:, 0],\n",
    "#             y=obj_np[:, 1],\n",
    "#             z=obj_np[:, 2],\n",
    "#             mode='markers',\n",
    "#             marker=dict(\n",
    "#                 size=4,\n",
    "#                 color=batch_number[start_idx:end_idx],\n",
    "#                 colorscale='Viridis',\n",
    "#                 opacity=0.8,\n",
    "#                 colorbar=dict(title='Iteration') if col == 2 else None\n",
    "#             ),\n",
    "#             name=name\n",
    "#         )\n",
    "\n",
    "#         # Add Pareto front\n",
    "#         pf_trace = go.Scatter3d(\n",
    "#             x=pareto_front[:, 0],\n",
    "#             y=pareto_front[:, 1],\n",
    "#             z=pareto_front[:, 2],\n",
    "#             mode='markers',\n",
    "#             marker=dict(size=2, color='red', opacity=0.5),\n",
    "#             name='Pareto Front'\n",
    "#         )\n",
    "\n",
    "#         fig.add_trace(scatter, row=1, col=col)\n",
    "#         fig.add_trace(pf_trace, row=1, col=col)\n",
    "\n",
    "#     # Update layout\n",
    "#     fig.update_layout(\n",
    "#         height=600,\n",
    "#         width=1200,\n",
    "#         scene1=dict(\n",
    "#             xaxis_title='Objective 1',\n",
    "#             yaxis_title='Objective 2',\n",
    "#             zaxis_title='Objective 3'\n",
    "#         ),\n",
    "#         scene2=dict(\n",
    "#             xaxis_title='Objective 1',\n",
    "#             yaxis_title='Objective 2',\n",
    "#             zaxis_title='Objective 3'\n",
    "#         ),\n",
    "#         showlegend=False,\n",
    "#         title_text=f'Cumulative: First {end_idx - start_idx} Points After Initial'\n",
    "#     )\n",
    "\n",
    "#     fig.show()\n"
   ]
  },
  {
   "cell_type": "code",
   "execution_count": 16,
   "metadata": {
    "id": "mg_wnvuzQvVN"
   },
   "outputs": [],
   "source": [
    "import plotly.graph_objects as go\n",
    "import plotly.io as pio\n",
    "from plotly.subplots import make_subplots\n",
    "import numpy as np\n",
    "\n",
    "def create_pareto_surface(problem, n=1000):\n",
    "    # Generate Pareto front using the problem's built-in method\n",
    "    pareto_front = -problem.gen_pareto_front(n).cpu().numpy()\n",
    "\n",
    "    if problem.num_objectives == 3:\n",
    "        # Create Mesh3d trace for 3D problems\n",
    "        return go.Mesh3d(\n",
    "            x=pareto_front[:, 0],\n",
    "            y=pareto_front[:, 1],\n",
    "            z=pareto_front[:, 2],\n",
    "            color='red',\n",
    "            opacity=0.3,\n",
    "            intensity=pareto_front[:, 2],\n",
    "            colorscale='Reds',\n",
    "            showscale=False,\n",
    "            name='Pareto Front'\n",
    "        )\n",
    "    else:\n",
    "        raise ValueError(\"Only 3D visualization is supported in this implementation\")\n",
    "\n"
   ]
  },
  {
   "cell_type": "code",
   "execution_count": 17,
   "metadata": {
    "colab": {
     "base_uri": "https://localhost:8080/",
     "height": 617
    },
    "executionInfo": {
     "elapsed": 369,
     "status": "ok",
     "timestamp": 1747812573929,
     "user": {
      "displayName": "Deepak L",
      "userId": "17343563887203968144"
     },
     "user_tz": -330
    },
    "id": "3nhpwmwhSHVO",
    "outputId": "44531e32-f7a4-4b63-9146-78f006cad3f7"
   },
   "outputs": [
    {
     "data": {
      "application/vnd.plotly.v1+json": {
       "config": {
        "plotlyServerURL": "https://plot.ly"
       },
       "data": [
        {
         "marker": {
          "color": "deepskyblue",
          "opacity": 0.8,
          "size": 4
         },
         "mode": "markers",
         "name": "qNParEGO",
         "scene": "scene",
         "type": "scatter3d",
         "x": {
          "bdata": "FO1pgy4u9z8/wuGgA6j0PyptXLyqm/s/nqoi7DHJ9j/zq/FGiWP3PyjbI80tePo/i+ZM1XcS9z+GT7zVL2H1P6xEdmDEIZI/6h4XLmGc9z/wgvDqk330P8NrHHs1ifg/YD02noNW/D/jGHsNxKHzP3o3Zp0Bsvs/Jqukvnpr9z8OS73VY1v5P/qD3OGHOfc/vuAPNnOn+j+Q1L1PSs78PxfzUWZKFPw/3teM5HQJ9T9R2J/e7Yr2PxKv9GUhe/M/VLZil+4J+D+pU+PG3UX1PwdTwsVtavk/9mhb5slJ8z97zBhglU33P2J9sjDqNPk/43ZKgOvZ+j/wGnyjAZP6P3/vfTIW0vs/IAJQ35RE/T8oS8ywHVT0P25Wc0rKWvU/Vuxr2/NF+D/jAC80mZr4P16Iw1vd1fM/gaZR9b1M+j87IND0T7fyP/w0So82r/k/f6WV/RpY+j+AGMv71iv8Pzcl8diVl/U/EvMw6dIL+D9yrN+tUM35P6zms9Sylfg/nC0xugId9T+yr+oMdcj5P1DSOzNCm/k/jw/DahfB9z9fBcFvW2bzP6ATRPCn4PU/GsmZYgSS+T/p7DEmivv8P2tjF/Lqq/g/OVWlKeeR+D/GNk8PiKP0P2bdWDCmo/Y/vkb9M6a3+T8yp4r57M/6P3NBkxy75fE/AX9GJQjY9z+E2cRZ6kz1P+XihUtpFPc//ANpjsHd9j9QNeizbxP3P9RMYpTCmvo/Tv2VLfVc+j9eN+x2Jpb6P2mDx6vVAu0/uAyrWnS0/j9UEXrCHWT3P7L5bnLPyfg/RyLungsK9z+UNyD/aBX2P/vBNbrFmfM/CltF+Rm+9z/0O5t/bDr3P88hHYfGB/s/mhzmtkWo8z+Ue4q3x+r5P5xS4TK8xvY/+IuMQZXV+T/BwgRqxOz2PyU4VPmsgPc/",
          "dtype": "f8"
         },
         "y": {
          "bdata": "uMzI61F92jpfJJgx3TOyJgX8n2G20/4+g5bfWN95cjlvmRjT6jBmPj8DyP9xcNA0K0b/bfVm8DsPBqPIHF4TM3SXdJFPZ/Y/78mbtCTlKzd0rbk7kAiBOqBos0o1ymYpd0nwe1mNHT3baBQm5lfzLmPipI7LfAs+yoF5a+aEyzVGR7f/gV+lPV0Xa/JLHbM2nocPX67OpDzE/ro7D3zuMGR0GyuCpPI5Q/jGBk2jhyxskwnrpLqrP4dk0iE8q/w3qwZonmElaDw3XAdTu6+wMefAidfES8o+pJ99QnbQkTM7EEP+eS5RP0Z4Vgzbj8w4Mruuomavbjuz9drBWM5yHpz+vxW/0+s+G8xswI94mDnLqJr6ih8yOyWbEcjJqHAiCHxWLeOrATwQ4W5TuRbnMrC/wC//WCk+wArD5gzGazWzWHdQbsyrOl3x7badjRcoK9aE71sTxj/hmo2SbFTNN5BbuywGuew9Hg+FmJbLBzYrOLKPDkRmPfSZ/Bcc0mItcy1mRqZg9jzxXrhmkZWILxb7XSaOTYQ9KgyaV79G+DY+gdfqT4RtP3xsc8yjpYI4E/bTN98YFjpEKbZYI7/ZK9svfQJWDY0+zJ5HdNrOXDQ9KpRHWNp8PKv4b2/DNGAxjXJDtqkLuTvzxxtwyMaQDSFjW5NHVT8/t/1fglGc4jgDEQaheOhHPkwVwXFYBRo1rEfv/xwnKzx7SRYmpbVqMnrLu4DrnyY7fdLBrZi4cCNSQGY0OQfkPmcks+mRMJQ5PaRfBehuSj01xEmNcOwVLlrnFOLxQMw9TETvfaVDWjaBs3mOav3MP01CzyNLoKs3gUYMZfewuzpsIwzrDCbCJ0W1BBmZqU06fedd2T+6uSoD2q7KS16NPwgGtWMHUUw4ZvOXsqxwfT1ZYXLQZhoHN4NAhzsFGes8",
          "dtype": "f8"
         },
         "z": {
          "bdata": "1retcxPh4D27PudtJSsPKavWGSdyQ/s3s+vbxpB2+TwyYm4pCpdLOjuw5T2ONJQ2sqXx4sOfnC63osFw7G3UPzNMASlwpt4+z6b5VF8BdjPyrk2KI0D1M+LXlkUcsaA7S8dnPfLTdTz20rzaSDy7OFzDrWGdxjUmbavSRyV4KT7bygo7fZywPjxRaRZe4aUX0L6rbPL4ojkmwxy4tejLO6rlhQo9meg6ZsHE5l5CajWCwywKE/KbMS+up3qaNlQ/pChGMwiAsz/9YlHVbIeQL1JlgRicICU2UczSFncDhzr70EY/seQnPdnOxiFXb5c3RDrKdbRm1Sq1PSKcUM24PS5j5JkaRoQ9+AM5KsTnPi1ysqpnoR1yN1hnCPinU0U9d7ORNRSmkzqDB8j5UOXCNdR6CpOR27EwBg/ta6JKeD9uyWyD6BoyP6q5a7gR97cxcluj3brwpzT99AMsCVk+O0lbn3reZzA8Jm6PpgCnTjmpwvPZk4gkHVU6tI9Qf58+PpqpqnPZbz5/j+Z9xlgBIm7Aiw4wLAU5LJfrc/JxajyH8Me0elx2O9EYWLsM8ys0SafBbqDxUzIcbobHpG8RP6keD4QlyeU/S3OAlrMt+C3pBwar8icBNy6w8/EYmMg58E0rcssitTyPTDgz1tyDOLHdufIRUNcoYfqLHVcCCT79OZE/004YPoMNaQG0c7MniiN+WTMRXjjGIhXma13RPGLx2MtJUfI5HfnQtvtz1zbaq68LC81kLdk5BUTMlPA/i2el5oVuBj8vfC5rX+PEMs78OOwE4VI00u3gWpBxTzs4syd5URhFPEoqi/IGuxk5H8i5/E92OyQ9TIZEKPphPhco5+7+aJA+ritRcaVlZyBaA1cWmLJtOWOaN9NyNxA8dL7o4EnLGjs4mAihpBrgNE6fM9pBcRAy",
          "dtype": "f8"
         }
        },
        {
         "color": "red",
         "colorscale": [
          [
           0,
           "rgb(255,245,240)"
          ],
          [
           0.125,
           "rgb(254,224,210)"
          ],
          [
           0.25,
           "rgb(252,187,161)"
          ],
          [
           0.375,
           "rgb(252,146,114)"
          ],
          [
           0.5,
           "rgb(251,106,74)"
          ],
          [
           0.625,
           "rgb(239,59,44)"
          ],
          [
           0.75,
           "rgb(203,24,29)"
          ],
          [
           0.875,
           "rgb(165,15,21)"
          ],
          [
           1,
           "rgb(103,0,13)"
          ]
         ],
         "intensity": {
          "bdata": "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",
          "dtype": "f8"
         },
         "name": "Pareto Front",
         "opacity": 0.3,
         "scene": "scene",
         "showscale": false,
         "type": "mesh3d",
         "x": {
          "bdata": "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",
          "dtype": "f8"
         },
         "y": {
          "bdata": "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",
          "dtype": "f8"
         },
         "z": {
          "bdata": "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",
          "dtype": "f8"
         }
        },
        {
         "marker": {
          "color": "deepskyblue",
          "opacity": 0.8,
          "size": 4
         },
         "mode": "markers",
         "name": "qEHVI",
         "scene": "scene2",
         "type": "scatter3d",
         "x": {
          "bdata": "FO1pgy4u9z8/wuGgA6j0PyptXLyqm/s/nqoi7DHJ9j/zq/FGiWP3PyjbI80tePo/i+ZM1XcS9z+GT7zVL2H1P6xEdmDEIZI/6h4XLmGc9z/wgvDqk330P8NrHHs1ifg/YD02noNW/D/jGHsNxKHzP3o3Zp0Bsvs/Jqukvnpr9z8OS73VY1v5P/qD3OGHOfc/vuAPNnOn+j+Q1L1PSs78PxfzUWZKFPw/3teM5HQJ9T9R2J/e7Yr2PxKv9GUhe/M/VLZil+4J+D+pU+PG3UX1PwdTwsVtavk/9mhb5slJ8z97zBhglU33P2J9sjDqNPk/43ZKgOvZ+j/wGnyjAZP6P3/vfTIW0vs/IAJQ35RE/T8oS8ywHVT0P25Wc0rKWvU/Vuxr2/NF+D/jAC80mZr4P16Iw1vd1fM/gaZR9b1M+j87IND0T7fyP/w0So82r/k/f6WV/RpY+j+AGMv71iv8Pzcl8diVl/U/EvMw6dIL+D9yrN+tUM35P6zms9Sylfg/nC0xugId9T+yr+oMdcj5P1DSOzNCm/k/jw/DahfB9z9fBcFvW2bzP6ATRPCn4PU/GsmZYgSS+T/p7DEmivv8P2tjF/Lqq/g/OVWlKeeR+D/GNk8PiKP0P2bdWDCmo/Y/vkb9M6a3+T8yp4r57M/6P3NBkxy75fE/AX9GJQjY9z+E2cRZ6kz1P+XihUtpFPc//ANpjsHd9j9QNeizbxP3P9RMYpTCmvo/Tv2VLfVc+j9eN+x2Jpb6P2mDx6vVAu0/uAyrWnS0/j9UEXrCHWT3P7L5bnLPyfg/RyLungsK9z+UNyD/aBX2P/vBNbrFmfM/CltF+Rm+9z/0O5t/bDr3P88hHYfGB/s/mhzmtkWo8z+Ue4q3x+r5P5xS4TK8xvY/+IuMQZXV+T/BwgRqxOz2PyU4VPmsgPc/",
          "dtype": "f8"
         },
         "y": {
          "bdata": "uMzI61F92jpfJJgx3TOyJgX8n2G20/4+g5bfWN95cjlvmRjT6jBmPj8DyP9xcNA0K0b/bfVm8DsPBqPIHF4TM3SXdJFPZ/Y/78mbtCTlKzd0rbk7kAiBOqBos0o1ymYpd0nwe1mNHT3baBQm5lfzLmPipI7LfAs+yoF5a+aEyzVGR7f/gV+lPV0Xa/JLHbM2nocPX67OpDzE/ro7D3zuMGR0GyuCpPI5Q/jGBk2jhyxskwnrpLqrP4dk0iE8q/w3qwZonmElaDw3XAdTu6+wMefAidfES8o+pJ99QnbQkTM7EEP+eS5RP0Z4Vgzbj8w4Mruuomavbjuz9drBWM5yHpz+vxW/0+s+G8xswI94mDnLqJr6ih8yOyWbEcjJqHAiCHxWLeOrATwQ4W5TuRbnMrC/wC//WCk+wArD5gzGazWzWHdQbsyrOl3x7badjRcoK9aE71sTxj/hmo2SbFTNN5BbuywGuew9Hg+FmJbLBzYrOLKPDkRmPfSZ/Bcc0mItcy1mRqZg9jzxXrhmkZWILxb7XSaOTYQ9KgyaV79G+DY+gdfqT4RtP3xsc8yjpYI4E/bTN98YFjpEKbZYI7/ZK9svfQJWDY0+zJ5HdNrOXDQ9KpRHWNp8PKv4b2/DNGAxjXJDtqkLuTvzxxtwyMaQDSFjW5NHVT8/t/1fglGc4jgDEQaheOhHPkwVwXFYBRo1rEfv/xwnKzx7SRYmpbVqMnrLu4DrnyY7fdLBrZi4cCNSQGY0OQfkPmcks+mRMJQ5PaRfBehuSj01xEmNcOwVLlrnFOLxQMw9TETvfaVDWjaBs3mOav3MP01CzyNLoKs3gUYMZfewuzpsIwzrDCbCJ0W1BBmZqU06fedd2T+6uSoD2q7KS16NPwgGtWMHUUw4ZvOXsqxwfT1ZYXLQZhoHN4NAhzsFGes8",
          "dtype": "f8"
         },
         "z": {
          "bdata": "1retcxPh4D27PudtJSsPKavWGSdyQ/s3s+vbxpB2+TwyYm4pCpdLOjuw5T2ONJQ2sqXx4sOfnC63osFw7G3UPzNMASlwpt4+z6b5VF8BdjPyrk2KI0D1M+LXlkUcsaA7S8dnPfLTdTz20rzaSDy7OFzDrWGdxjUmbavSRyV4KT7bygo7fZywPjxRaRZe4aUX0L6rbPL4ojkmwxy4tejLO6rlhQo9meg6ZsHE5l5CajWCwywKE/KbMS+up3qaNlQ/pChGMwiAsz/9YlHVbIeQL1JlgRicICU2UczSFncDhzr70EY/seQnPdnOxiFXb5c3RDrKdbRm1Sq1PSKcUM24PS5j5JkaRoQ9+AM5KsTnPi1ysqpnoR1yN1hnCPinU0U9d7ORNRSmkzqDB8j5UOXCNdR6CpOR27EwBg/ta6JKeD9uyWyD6BoyP6q5a7gR97cxcluj3brwpzT99AMsCVk+O0lbn3reZzA8Jm6PpgCnTjmpwvPZk4gkHVU6tI9Qf58+PpqpqnPZbz5/j+Z9xlgBIm7Aiw4wLAU5LJfrc/JxajyH8Me0elx2O9EYWLsM8ys0SafBbqDxUzIcbobHpG8RP6keD4QlyeU/S3OAlrMt+C3pBwar8icBNy6w8/EYmMg58E0rcssitTyPTDgz1tyDOLHdufIRUNcoYfqLHVcCCT79OZE/004YPoMNaQG0c7MniiN+WTMRXjjGIhXma13RPGLx2MtJUfI5HfnQtvtz1zbaq68LC81kLdk5BUTMlPA/i2el5oVuBj8vfC5rX+PEMs78OOwE4VI00u3gWpBxTzs4syd5URhFPEoqi/IGuxk5H8i5/E92OyQ9TIZEKPphPhco5+7+aJA+ritRcaVlZyBaA1cWmLJtOWOaN9NyNxA8dL7o4EnLGjs4mAihpBrgNE6fM9pBcRAy",
          "dtype": "f8"
         }
        },
        {
         "color": "red",
         "colorscale": [
          [
           0,
           "rgb(255,245,240)"
          ],
          [
           0.125,
           "rgb(254,224,210)"
          ],
          [
           0.25,
           "rgb(252,187,161)"
          ],
          [
           0.375,
           "rgb(252,146,114)"
          ],
          [
           0.5,
           "rgb(251,106,74)"
          ],
          [
           0.625,
           "rgb(239,59,44)"
          ],
          [
           0.75,
           "rgb(203,24,29)"
          ],
          [
           0.875,
           "rgb(165,15,21)"
          ],
          [
           1,
           "rgb(103,0,13)"
          ]
         ],
         "intensity": {
          "bdata": "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",
          "dtype": "f8"
         },
         "name": "Pareto Front",
         "opacity": 0.3,
         "scene": "scene2",
         "showscale": false,
         "type": "mesh3d",
         "x": {
          "bdata": "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",
          "dtype": "f8"
         },
         "y": {
          "bdata": "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",
          "dtype": "f8"
         },
         "z": {
          "bdata": "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",
          "dtype": "f8"
         }
        }
       ],
       "layout": {
        "annotations": [
         {
          "font": {
           "size": 16
          },
          "showarrow": false,
          "text": "qNParEGO",
          "x": 0.225,
          "xanchor": "center",
          "xref": "paper",
          "y": 1,
          "yanchor": "bottom",
          "yref": "paper"
         },
         {
          "font": {
           "size": 16
          },
          "showarrow": false,
          "text": "qEHVI",
          "x": 0.775,
          "xanchor": "center",
          "xref": "paper",
          "y": 1,
          "yanchor": "bottom",
          "yref": "paper"
         }
        ],
        "height": 600,
        "scene": {
         "camera": {
          "eye": {
           "x": 1.5,
           "y": 1.5,
           "z": 0.6
          }
         },
         "domain": {
          "x": [
           0,
           0.45
          ],
          "y": [
           0,
           1
          ]
         },
         "xaxis": {
          "title": {
           "text": "Objective 1"
          }
         },
         "yaxis": {
          "title": {
           "text": "Objective 2"
          }
         },
         "zaxis": {
          "title": {
           "text": "Objective 3"
          }
         }
        },
        "scene2": {
         "camera": {
          "eye": {
           "x": 1.5,
           "y": 1.5,
           "z": 0.6
          }
         },
         "domain": {
          "x": [
           0.55,
           1
          ],
          "y": [
           0,
           1
          ]
         },
         "xaxis": {
          "title": {
           "text": "Objective 1"
          }
         },
         "yaxis": {
          "title": {
           "text": "Objective 2"
          }
         },
         "zaxis": {
          "title": {
           "text": "Objective 3"
          }
         }
        },
        "showlegend": false,
        "template": {
         "data": {
          "bar": [
           {
            "error_x": {
             "color": "#2a3f5f"
            },
            "error_y": {
             "color": "#2a3f5f"
            },
            "marker": {
             "line": {
              "color": "#E5ECF6",
              "width": 0.5
             },
             "pattern": {
              "fillmode": "overlay",
              "size": 10,
              "solidity": 0.2
             }
            },
            "type": "bar"
           }
          ],
          "barpolar": [
           {
            "marker": {
             "line": {
              "color": "#E5ECF6",
              "width": 0.5
             },
             "pattern": {
              "fillmode": "overlay",
              "size": 10,
              "solidity": 0.2
             }
            },
            "type": "barpolar"
           }
          ],
          "carpet": [
           {
            "aaxis": {
             "endlinecolor": "#2a3f5f",
             "gridcolor": "white",
             "linecolor": "white",
             "minorgridcolor": "white",
             "startlinecolor": "#2a3f5f"
            },
            "baxis": {
             "endlinecolor": "#2a3f5f",
             "gridcolor": "white",
             "linecolor": "white",
             "minorgridcolor": "white",
             "startlinecolor": "#2a3f5f"
            },
            "type": "carpet"
           }
          ],
          "choropleth": [
           {
            "colorbar": {
             "outlinewidth": 0,
             "ticks": ""
            },
            "type": "choropleth"
           }
          ],
          "contour": [
           {
            "colorbar": {
             "outlinewidth": 0,
             "ticks": ""
            },
            "colorscale": [
             [
              0,
              "#0d0887"
             ],
             [
              0.1111111111111111,
              "#46039f"
             ],
             [
              0.2222222222222222,
              "#7201a8"
             ],
             [
              0.3333333333333333,
              "#9c179e"
             ],
             [
              0.4444444444444444,
              "#bd3786"
             ],
             [
              0.5555555555555556,
              "#d8576b"
             ],
             [
              0.6666666666666666,
              "#ed7953"
             ],
             [
              0.7777777777777778,
              "#fb9f3a"
             ],
             [
              0.8888888888888888,
              "#fdca26"
             ],
             [
              1,
              "#f0f921"
             ]
            ],
            "type": "contour"
           }
          ],
          "contourcarpet": [
           {
            "colorbar": {
             "outlinewidth": 0,
             "ticks": ""
            },
            "type": "contourcarpet"
           }
          ],
          "heatmap": [
           {
            "colorbar": {
             "outlinewidth": 0,
             "ticks": ""
            },
            "colorscale": [
             [
              0,
              "#0d0887"
             ],
             [
              0.1111111111111111,
              "#46039f"
             ],
             [
              0.2222222222222222,
              "#7201a8"
             ],
             [
              0.3333333333333333,
              "#9c179e"
             ],
             [
              0.4444444444444444,
              "#bd3786"
             ],
             [
              0.5555555555555556,
              "#d8576b"
             ],
             [
              0.6666666666666666,
              "#ed7953"
             ],
             [
              0.7777777777777778,
              "#fb9f3a"
             ],
             [
              0.8888888888888888,
              "#fdca26"
             ],
             [
              1,
              "#f0f921"
             ]
            ],
            "type": "heatmap"
           }
          ],
          "histogram": [
           {
            "marker": {
             "pattern": {
              "fillmode": "overlay",
              "size": 10,
              "solidity": 0.2
             }
            },
            "type": "histogram"
           }
          ],
          "histogram2d": [
           {
            "colorbar": {
             "outlinewidth": 0,
             "ticks": ""
            },
            "colorscale": [
             [
              0,
              "#0d0887"
             ],
             [
              0.1111111111111111,
              "#46039f"
             ],
             [
              0.2222222222222222,
              "#7201a8"
             ],
             [
              0.3333333333333333,
              "#9c179e"
             ],
             [
              0.4444444444444444,
              "#bd3786"
             ],
             [
              0.5555555555555556,
              "#d8576b"
             ],
             [
              0.6666666666666666,
              "#ed7953"
             ],
             [
              0.7777777777777778,
              "#fb9f3a"
             ],
             [
              0.8888888888888888,
              "#fdca26"
             ],
             [
              1,
              "#f0f921"
             ]
            ],
            "type": "histogram2d"
           }
          ],
          "histogram2dcontour": [
           {
            "colorbar": {
             "outlinewidth": 0,
             "ticks": ""
            },
            "colorscale": [
             [
              0,
              "#0d0887"
             ],
             [
              0.1111111111111111,
              "#46039f"
             ],
             [
              0.2222222222222222,
              "#7201a8"
             ],
             [
              0.3333333333333333,
              "#9c179e"
             ],
             [
              0.4444444444444444,
              "#bd3786"
             ],
             [
              0.5555555555555556,
              "#d8576b"
             ],
             [
              0.6666666666666666,
              "#ed7953"
             ],
             [
              0.7777777777777778,
              "#fb9f3a"
             ],
             [
              0.8888888888888888,
              "#fdca26"
             ],
             [
              1,
              "#f0f921"
             ]
            ],
            "type": "histogram2dcontour"
           }
          ],
          "mesh3d": [
           {
            "colorbar": {
             "outlinewidth": 0,
             "ticks": ""
            },
            "type": "mesh3d"
           }
          ],
          "parcoords": [
           {
            "line": {
             "colorbar": {
              "outlinewidth": 0,
              "ticks": ""
             }
            },
            "type": "parcoords"
           }
          ],
          "pie": [
           {
            "automargin": true,
            "type": "pie"
           }
          ],
          "scatter": [
           {
            "fillpattern": {
             "fillmode": "overlay",
             "size": 10,
             "solidity": 0.2
            },
            "type": "scatter"
           }
          ],
          "scatter3d": [
           {
            "line": {
             "colorbar": {
              "outlinewidth": 0,
              "ticks": ""
             }
            },
            "marker": {
             "colorbar": {
              "outlinewidth": 0,
              "ticks": ""
             }
            },
            "type": "scatter3d"
           }
          ],
          "scattercarpet": [
           {
            "marker": {
             "colorbar": {
              "outlinewidth": 0,
              "ticks": ""
             }
            },
            "type": "scattercarpet"
           }
          ],
          "scattergeo": [
           {
            "marker": {
             "colorbar": {
              "outlinewidth": 0,
              "ticks": ""
             }
            },
            "type": "scattergeo"
           }
          ],
          "scattergl": [
           {
            "marker": {
             "colorbar": {
              "outlinewidth": 0,
              "ticks": ""
             }
            },
            "type": "scattergl"
           }
          ],
          "scattermap": [
           {
            "marker": {
             "colorbar": {
              "outlinewidth": 0,
              "ticks": ""
             }
            },
            "type": "scattermap"
           }
          ],
          "scattermapbox": [
           {
            "marker": {
             "colorbar": {
              "outlinewidth": 0,
              "ticks": ""
             }
            },
            "type": "scattermapbox"
           }
          ],
          "scatterpolar": [
           {
            "marker": {
             "colorbar": {
              "outlinewidth": 0,
              "ticks": ""
             }
            },
            "type": "scatterpolar"
           }
          ],
          "scatterpolargl": [
           {
            "marker": {
             "colorbar": {
              "outlinewidth": 0,
              "ticks": ""
             }
            },
            "type": "scatterpolargl"
           }
          ],
          "scatterternary": [
           {
            "marker": {
             "colorbar": {
              "outlinewidth": 0,
              "ticks": ""
             }
            },
            "type": "scatterternary"
           }
          ],
          "surface": [
           {
            "colorbar": {
             "outlinewidth": 0,
             "ticks": ""
            },
            "colorscale": [
             [
              0,
              "#0d0887"
             ],
             [
              0.1111111111111111,
              "#46039f"
             ],
             [
              0.2222222222222222,
              "#7201a8"
             ],
             [
              0.3333333333333333,
              "#9c179e"
             ],
             [
              0.4444444444444444,
              "#bd3786"
             ],
             [
              0.5555555555555556,
              "#d8576b"
             ],
             [
              0.6666666666666666,
              "#ed7953"
             ],
             [
              0.7777777777777778,
              "#fb9f3a"
             ],
             [
              0.8888888888888888,
              "#fdca26"
             ],
             [
              1,
              "#f0f921"
             ]
            ],
            "type": "surface"
           }
          ],
          "table": [
           {
            "cells": {
             "fill": {
              "color": "#EBF0F8"
             },
             "line": {
              "color": "white"
             }
            },
            "header": {
             "fill": {
              "color": "#C8D4E3"
             },
             "line": {
              "color": "white"
             }
            },
            "type": "table"
           }
          ]
         },
         "layout": {
          "annotationdefaults": {
           "arrowcolor": "#2a3f5f",
           "arrowhead": 0,
           "arrowwidth": 1
          },
          "autotypenumbers": "strict",
          "coloraxis": {
           "colorbar": {
            "outlinewidth": 0,
            "ticks": ""
           }
          },
          "colorscale": {
           "diverging": [
            [
             0,
             "#8e0152"
            ],
            [
             0.1,
             "#c51b7d"
            ],
            [
             0.2,
             "#de77ae"
            ],
            [
             0.3,
             "#f1b6da"
            ],
            [
             0.4,
             "#fde0ef"
            ],
            [
             0.5,
             "#f7f7f7"
            ],
            [
             0.6,
             "#e6f5d0"
            ],
            [
             0.7,
             "#b8e186"
            ],
            [
             0.8,
             "#7fbc41"
            ],
            [
             0.9,
             "#4d9221"
            ],
            [
             1,
             "#276419"
            ]
           ],
           "sequential": [
            [
             0,
             "#0d0887"
            ],
            [
             0.1111111111111111,
             "#46039f"
            ],
            [
             0.2222222222222222,
             "#7201a8"
            ],
            [
             0.3333333333333333,
             "#9c179e"
            ],
            [
             0.4444444444444444,
             "#bd3786"
            ],
            [
             0.5555555555555556,
             "#d8576b"
            ],
            [
             0.6666666666666666,
             "#ed7953"
            ],
            [
             0.7777777777777778,
             "#fb9f3a"
            ],
            [
             0.8888888888888888,
             "#fdca26"
            ],
            [
             1,
             "#f0f921"
            ]
           ],
           "sequentialminus": [
            [
             0,
             "#0d0887"
            ],
            [
             0.1111111111111111,
             "#46039f"
            ],
            [
             0.2222222222222222,
             "#7201a8"
            ],
            [
             0.3333333333333333,
             "#9c179e"
            ],
            [
             0.4444444444444444,
             "#bd3786"
            ],
            [
             0.5555555555555556,
             "#d8576b"
            ],
            [
             0.6666666666666666,
             "#ed7953"
            ],
            [
             0.7777777777777778,
             "#fb9f3a"
            ],
            [
             0.8888888888888888,
             "#fdca26"
            ],
            [
             1,
             "#f0f921"
            ]
           ]
          },
          "colorway": [
           "#636efa",
           "#EF553B",
           "#00cc96",
           "#ab63fa",
           "#FFA15A",
           "#19d3f3",
           "#FF6692",
           "#B6E880",
           "#FF97FF",
           "#FECB52"
          ],
          "font": {
           "color": "#2a3f5f"
          },
          "geo": {
           "bgcolor": "white",
           "lakecolor": "white",
           "landcolor": "#E5ECF6",
           "showlakes": true,
           "showland": true,
           "subunitcolor": "white"
          },
          "hoverlabel": {
           "align": "left"
          },
          "hovermode": "closest",
          "mapbox": {
           "style": "light"
          },
          "paper_bgcolor": "white",
          "plot_bgcolor": "#E5ECF6",
          "polar": {
           "angularaxis": {
            "gridcolor": "white",
            "linecolor": "white",
            "ticks": ""
           },
           "bgcolor": "#E5ECF6",
           "radialaxis": {
            "gridcolor": "white",
            "linecolor": "white",
            "ticks": ""
           }
          },
          "scene": {
           "xaxis": {
            "backgroundcolor": "#E5ECF6",
            "gridcolor": "white",
            "gridwidth": 2,
            "linecolor": "white",
            "showbackground": true,
            "ticks": "",
            "zerolinecolor": "white"
           },
           "yaxis": {
            "backgroundcolor": "#E5ECF6",
            "gridcolor": "white",
            "gridwidth": 2,
            "linecolor": "white",
            "showbackground": true,
            "ticks": "",
            "zerolinecolor": "white"
           },
           "zaxis": {
            "backgroundcolor": "#E5ECF6",
            "gridcolor": "white",
            "gridwidth": 2,
            "linecolor": "white",
            "showbackground": true,
            "ticks": "",
            "zerolinecolor": "white"
           }
          },
          "shapedefaults": {
           "line": {
            "color": "#2a3f5f"
           }
          },
          "ternary": {
           "aaxis": {
            "gridcolor": "white",
            "linecolor": "white",
            "ticks": ""
           },
           "baxis": {
            "gridcolor": "white",
            "linecolor": "white",
            "ticks": ""
           },
           "bgcolor": "#E5ECF6",
           "caxis": {
            "gridcolor": "white",
            "linecolor": "white",
            "ticks": ""
           }
          },
          "title": {
           "x": 0.05
          },
          "xaxis": {
           "automargin": true,
           "gridcolor": "white",
           "linecolor": "white",
           "ticks": "",
           "title": {
            "standoff": 15
           },
           "zerolinecolor": "white",
           "zerolinewidth": 2
          },
          "yaxis": {
           "automargin": true,
           "gridcolor": "white",
           "linecolor": "white",
           "ticks": "",
           "title": {
            "standoff": 15
           },
           "zerolinecolor": "white",
           "zerolinewidth": 2
          }
         }
        },
        "title": {
         "text": "Initial Training Points"
        },
        "width": 1200
       }
      }
     },
     "metadata": {},
     "output_type": "display_data"
    }
   ],
   "source": [
    "# 1. Plot showing just initial training points\n",
    "fig_initial = make_subplots(\n",
    "    rows=1, cols=2,\n",
    "    specs=[[{'type': 'scatter3d'}, {'type': 'scatter3d'}]],\n",
    "    subplot_titles=(\"qNParEGO\", \"qEHVI\")\n",
    ")\n",
    "\n",
    "# Generate Pareto surface using problem's built-in method\n",
    "pf_surface = create_pareto_surface(problem)\n",
    "\n",
    "alg_data_initial = [\n",
    "    (-train_obj_true_qparego[:n_initial], \"qNParEGO\"),\n",
    "    (-train_obj_true_qehvi[:n_initial], \"qEHVI\"),\n",
    "]\n",
    "\n",
    "for col, (train_obj, name) in enumerate(alg_data_initial, 1):\n",
    "    obj_np = train_obj.cpu().numpy() if isinstance(train_obj, torch.Tensor) else train_obj\n",
    "\n",
    "    # Plot initial points\n",
    "    scatter = go.Scatter3d(\n",
    "        x=obj_np[:, 0], y=obj_np[:, 1], z=obj_np[:, 2],\n",
    "        mode='markers',\n",
    "        marker=dict(size=4, color='deepskyblue', opacity=0.8),\n",
    "        name=name\n",
    "    )\n",
    "\n",
    "    fig_initial.add_trace(scatter, row=1, col=col)\n",
    "    fig_initial.add_trace(pf_surface, row=1, col=col)\n",
    "\n",
    "# Update layout\n",
    "fig_initial.update_layout(\n",
    "    height=600,\n",
    "    width=1200,\n",
    "    scene1=dict(\n",
    "        xaxis_title='Objective 1',\n",
    "        yaxis_title='Objective 2',\n",
    "        zaxis_title='Objective 3',\n",
    "        camera=dict(eye=dict(x=1.5, y=1.5, z=0.6))\n",
    "    ),\n",
    "    scene2=dict(\n",
    "        xaxis_title='Objective 1',\n",
    "        yaxis_title='Objective 2',\n",
    "        zaxis_title='Objective 3',\n",
    "        camera=dict(eye=dict(x=1.5, y=1.5, z=0.6))\n",
    "    ),\n",
    "    showlegend=False,\n",
    "    title_text='Initial Training Points'\n",
    ")\n",
    "fig_initial.show()\n",
    "\n",
    "pio.write_html(fig_initial, 'DTLZ4a train.html')"
   ]
  },
  {
   "cell_type": "code",
   "execution_count": 18,
   "metadata": {
    "colab": {
     "base_uri": "https://localhost:8080/",
     "height": 617
    },
    "executionInfo": {
     "elapsed": 237,
     "status": "ok",
     "timestamp": 1747812625806,
     "user": {
      "displayName": "Deepak L",
      "userId": "17343563887203968144"
     },
     "user_tz": -330
    },
    "id": "E2uIQhy7SOAi",
    "outputId": "c46cfa9f-2002-4335-e6a0-59c1d7054c4f"
   },
   "outputs": [
    {
     "data": {
      "application/vnd.plotly.v1+json": {
       "config": {
        "plotlyServerURL": "https://plot.ly"
       },
       "data": [
        {
         "hovertemplate": "<b>Obj1</b>: %{x:.2f}<br><b>Obj2</b>: %{y:.2f}<br><b>Obj3</b>: %{z:.2f}<extra></extra>",
         "marker": {
          "color": {
           "bdata": "AACAPwAAgD8AAABAAAAAQAAAQEAAAEBAAACAQAAAgEAAAKBAAACgQAAAwEAAAMBAAADgQAAA4EAAAABBAAAAQQAAEEEAABBBAAAgQQAAIEEAADBBAAAwQQAAQEEAAEBBAABQQQAAUEEAAGBBAABgQQAAcEEAAHBBAACAQQAAgEEAAIhBAACIQQAAkEEAAJBBAACYQQAAmEEAAKBBAACgQQAAqEEAAKhBAACwQQAAsEEAALhBAAC4QQAAwEEAAMBBAADIQQAAyEEAANBBAADQQQAA2EEAANhBAADgQQAA4EEAAOhBAADoQQAA8EEAAPBBAAD4QQAA+EEAAABCAAAAQgAABEIAAARCAAAIQgAACEIAAAxCAAAMQgAAEEIAABBCAAAUQgAAFEIAABhCAAAYQgAAHEIAABxCAAAgQgAAIEIAACRCAAAkQgAAKEIAAChCAAAsQgAALEIAADBCAAAwQgAANEIAADRCAAA4QgAAOEIAADxCAAA8QgAAQEIAAEBCAABEQgAAREIAAEhCAABIQgAATEIAAExCAABQQgAAUEIAAFRCAABUQgAAWEIAAFhCAABcQgAAXEIAAGBCAABgQgAAZEIAAGRCAABoQgAAaEIAAGxCAABsQgAAcEIAAHBCAAB0QgAAdEIAAHhCAAB4QgAAfEIAAHxCAACAQgAAgEIAAIJCAACCQgAAhEIAAIRCAACGQgAAhkIAAIhCAACIQgAAikIAAIpCAACMQgAAjEIAAI5CAACOQgAAkEIAAJBCAACSQgAAkkIAAJRCAACUQgAAlkIAAJZCAACYQgAAmEIAAJpCAACaQgAAnEIAAJxCAACeQgAAnkIAAKBCAACgQgAAokIAAKJCAACkQgAApEIAAKZCAACmQgAAqEIAAKhCAACqQgAAqkIAAKxCAACsQgAArkIAAK5CAACwQgAAsEIAALJCAACyQgAAtEIAALRCAAC2QgAAtkIAALhCAAC4QgAAukIAALpCAAC8QgAAvEIAAL5CAAC+QgAAwEIAAMBCAADCQgAAwkIAAMRCAADEQgAAxkIAAMZCAADIQgAAyEI=",
           "dtype": "f4"
          },
          "colorscale": [
           [
            0,
            "#440154"
           ],
           [
            0.1111111111111111,
            "#482878"
           ],
           [
            0.2222222222222222,
            "#3e4989"
           ],
           [
            0.3333333333333333,
            "#31688e"
           ],
           [
            0.4444444444444444,
            "#26828e"
           ],
           [
            0.5555555555555556,
            "#1f9e89"
           ],
           [
            0.6666666666666666,
            "#35b779"
           ],
           [
            0.7777777777777778,
            "#6ece58"
           ],
           [
            0.8888888888888888,
            "#b5de2b"
           ],
           [
            1,
            "#fde725"
           ]
          ],
          "opacity": 0.8,
          "size": 4
         },
         "mode": "markers",
         "name": "qNParEGO",
         "scene": "scene",
         "type": "scatter3d",
         "x": {
          "bdata": "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",
          "dtype": "f8"
         },
         "y": {
          "bdata": "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",
          "dtype": "f8"
         },
         "z": {
          "bdata": "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",
          "dtype": "f8"
         }
        },
        {
         "color": "red",
         "colorscale": [
          [
           0,
           "rgb(255,245,240)"
          ],
          [
           0.125,
           "rgb(254,224,210)"
          ],
          [
           0.25,
           "rgb(252,187,161)"
          ],
          [
           0.375,
           "rgb(252,146,114)"
          ],
          [
           0.5,
           "rgb(251,106,74)"
          ],
          [
           0.625,
           "rgb(239,59,44)"
          ],
          [
           0.75,
           "rgb(203,24,29)"
          ],
          [
           0.875,
           "rgb(165,15,21)"
          ],
          [
           1,
           "rgb(103,0,13)"
          ]
         ],
         "intensity": {
          "bdata": "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",
          "dtype": "f8"
         },
         "name": "Pareto Front",
         "opacity": 0.3,
         "scene": "scene",
         "showscale": false,
         "type": "mesh3d",
         "x": {
          "bdata": "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",
          "dtype": "f8"
         },
         "y": {
          "bdata": "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",
          "dtype": "f8"
         },
         "z": {
          "bdata": "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",
          "dtype": "f8"
         }
        },
        {
         "hovertemplate": "<b>Obj1</b>: %{x:.2f}<br><b>Obj2</b>: %{y:.2f}<br><b>Obj3</b>: %{z:.2f}<extra></extra>",
         "marker": {
          "color": {
           "bdata": "AACAPwAAgD8AAABAAAAAQAAAQEAAAEBAAACAQAAAgEAAAKBAAACgQAAAwEAAAMBAAADgQAAA4EAAAABBAAAAQQAAEEEAABBBAAAgQQAAIEEAADBBAAAwQQAAQEEAAEBBAABQQQAAUEEAAGBBAABgQQAAcEEAAHBBAACAQQAAgEEAAIhBAACIQQAAkEEAAJBBAACYQQAAmEEAAKBBAACgQQAAqEEAAKhBAACwQQAAsEEAALhBAAC4QQAAwEEAAMBBAADIQQAAyEEAANBBAADQQQAA2EEAANhBAADgQQAA4EEAAOhBAADoQQAA8EEAAPBBAAD4QQAA+EEAAABCAAAAQgAABEIAAARCAAAIQgAACEIAAAxCAAAMQgAAEEIAABBCAAAUQgAAFEIAABhCAAAYQgAAHEIAABxCAAAgQgAAIEIAACRCAAAkQgAAKEIAAChCAAAsQgAALEIAADBCAAAwQgAANEIAADRCAAA4QgAAOEIAADxCAAA8QgAAQEIAAEBCAABEQgAAREIAAEhCAABIQgAATEIAAExCAABQQgAAUEIAAFRCAABUQgAAWEIAAFhCAABcQgAAXEIAAGBCAABgQgAAZEIAAGRCAABoQgAAaEIAAGxCAABsQgAAcEIAAHBCAAB0QgAAdEIAAHhCAAB4QgAAfEIAAHxCAACAQgAAgEIAAIJCAACCQgAAhEIAAIRCAACGQgAAhkIAAIhCAACIQgAAikIAAIpCAACMQgAAjEIAAI5CAACOQgAAkEIAAJBCAACSQgAAkkIAAJRCAACUQgAAlkIAAJZCAACYQgAAmEIAAJpCAACaQgAAnEIAAJxCAACeQgAAnkIAAKBCAACgQgAAokIAAKJCAACkQgAApEIAAKZCAACmQgAAqEIAAKhCAACqQgAAqkIAAKxCAACsQgAArkIAAK5CAACwQgAAsEIAALJCAACyQgAAtEIAALRCAAC2QgAAtkIAALhCAAC4QgAAukIAALpCAAC8QgAAvEIAAL5CAAC+QgAAwEIAAMBCAADCQgAAwkIAAMRCAADEQgAAxkIAAMZCAADIQgAAyEI=",
           "dtype": "f4"
          },
          "colorbar": {
           "title": {
            "text": "Iteration"
           }
          },
          "colorscale": [
           [
            0,
            "#440154"
           ],
           [
            0.1111111111111111,
            "#482878"
           ],
           [
            0.2222222222222222,
            "#3e4989"
           ],
           [
            0.3333333333333333,
            "#31688e"
           ],
           [
            0.4444444444444444,
            "#26828e"
           ],
           [
            0.5555555555555556,
            "#1f9e89"
           ],
           [
            0.6666666666666666,
            "#35b779"
           ],
           [
            0.7777777777777778,
            "#6ece58"
           ],
           [
            0.8888888888888888,
            "#b5de2b"
           ],
           [
            1,
            "#fde725"
           ]
          ],
          "opacity": 0.8,
          "size": 4
         },
         "mode": "markers",
         "name": "qEHVI",
         "scene": "scene2",
         "type": "scatter3d",
         "x": {
          "bdata": "xOQF40Ey9T982Z55FKz0P9hOQhMesfc/eHfPIa6v9z/hB3B4rCL4Px6zlCOLg/U/n1K7Rpsr9D9SNv0S8gL1PxLAU667KvA/FWXc3rYc+T+sOg1dEhf4P+o6Tl5DWAJAANdcj3JFAEBuqFobFUgAQPEua5rhGvw/lQWAP//p+z/Uu/JihQEAQJoULZztHQJAQgmmAJ0g9D/O5K6RWyH0P0Ah2aBQKwJA0L5LWkcnAkBNhdMxvyP4P/mkHZBYJfg/iqthxv//A0AAAAAAAAAEQOe08RWxAfI/9F4ppiMP9D9clg+WUBPwP9hyr/rFL/A/u5xYXyMH8D8sew6A+QnwPwzqPaLVEfA/DLDtnJ4S8D+DK5ED19uRPMq+1ZP7C/A/MGS34c8M9D9/8udCjQz0P+1gSQOSEfA/Zaubh60X8T9RbkoW3A70PxCSSrZfD/Q/2/221mgT8D8KKriPTg/9P2Pvz3vSE/A/kTnfjWhH/j8YPY0EYwb8PxlI8yhTBvw/E+dwabUO8D+hQBp4kwzwP4HJ/H+KD/A/l0N6z5cP8D+i2T6babmRPMCbf5yjC/A/TN0/WhMQ8D+rUPog3BLwP0tdyzI4DvA/oDh7XHFX8D8Z+3BZRg/wPyRRqJdQEPA/bmNqsbK2kTyYBUql7QzwPzEEZqbmDfQ/2TQzum8P9D91kP6N2Q3wP262Q+mzn/o/Aggv4oYG9D+8cDqGEkIAQBedSrb/Bfw/PGAAWTsG/D9zBkYm8wzwPyBCHm/yMfA/kuyF5csK9D/vtmKpqQv0P+sCfQE4CvQ/kyyq9UgK9D/QGuZWkAr0P+2fiReeCvQ/LfQVFMkM8D/LAWywMyvwPzKUGZqYCvQ/+yjxhH4K9D+yftqqGgT8P+YqpzZgB/w/I9O0DBoO8D+fDeEinzPwP1WNzptTDPA/O97Px3tW8T9F0Wd2IAX8PyqCLgbwnvQ/ZMktf+gO8D+8iLl6v37wPzrqt2TbCPQ/XxgoFx9C9D95FbUP3BsDQAAAAAAAAARA+A33+NcL8D9CR8sUPgzwP+fan2TwCvA/Qz3497EJ8D/y21Lr1wr4PxqZOlumC/g/gv7AUv8J8D8I2rdOGQvwP06IQqQkC/A/JE7wA9x5AEClLOlMcAT4P+UJAq1/BPg/qMpKqloL8D8yMXv9xArwPyyNF6PzpfY/86HEE/0H+D8QKpeokgnwP023K6+PC/A/JjG6oTYJ8D+GFM3BJZfwP/AZPVtsC/A/lpbkE+/N/j+/GL6lTwnwPyCoG4bLCfA/al6m+MkB+D9AhX1NCx8AQPd2fjnR/v8/iiolZwUBAECQvmNjDwnwP9Q9As12LPA/SYTb1toI8D9lElV8JwzwPwpr69jBCPA/61ueDk83AkDjRMSiGwb0PwPBIQ04BvQ/24x7cJMJ9D+fTjk10wr0PwYkxecnB/A/lBl0HYwD8D8CWgmkHQnwP/1H9KXcCvA/381oe7MW8D+ILZrUYC/wPwP54dv6CPA/9pnDTxRIAkAOkDt2EwjwP8wTNn+DCfA/wsaPbVcK8D/vuPXwXBnxP/y1Vo1wBfg/ujPBpNNe+D+Mf/8nZAjwP8HsQ9N4FPA/bVFCDucM9D8kYsnW9wz0P0PohTQ8CPA/XDGtVVyE+j9WsSpIcwfwPxThO2m1+ABA3miI+kE/8T8H7hWuF3fwP0JaY4itCvA//qabyLIs8D/Asw2L4QjwP3TV/O+ngPA/b67csyEJ8D+NlnEPEt7wP0XxMPqSCfA/QAXG4cHO9j8NR6x+TQnwP440VUKXV/E/CMe7CXoI8D/FEH6ZO5ABQMM1FrhGCPA/v/J4N8nuAEDjPgyjIgnwP+qNA1YHTPk/Kr7EhvIH8D+BaZWPnGj5PyEZS772BvA/F/DEMeMH8D8L55gz6gfwP3vWKP8lCPA/3nzqjpgG8D/cuYQMG+cAQPSKy9G+B/A/vEamCqW08D9IaIQDPQf4P2QRQUqtBfg/QuzSV2II8D+B8qiDsKv1P86bLjKgB/A/hNsU6XyK8D++DA/oLwjwP5osRU+7CPA/fTJtm3kH8D/bBvolTyb/P/pdHytrB/A/gdMJgXIO8D+Zy06nYRnwP0TSz8jOB/A/dz+4AEEG8D8YSYrR8Az2Pw==",
          "dtype": "f8"
         },
         "y": {
          "bdata": "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",
          "dtype": "f8"
         },
         "z": {
          "bdata": "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",
          "dtype": "f8"
         }
        },
        {
         "color": "red",
         "colorscale": [
          [
           0,
           "rgb(255,245,240)"
          ],
          [
           0.125,
           "rgb(254,224,210)"
          ],
          [
           0.25,
           "rgb(252,187,161)"
          ],
          [
           0.375,
           "rgb(252,146,114)"
          ],
          [
           0.5,
           "rgb(251,106,74)"
          ],
          [
           0.625,
           "rgb(239,59,44)"
          ],
          [
           0.75,
           "rgb(203,24,29)"
          ],
          [
           0.875,
           "rgb(165,15,21)"
          ],
          [
           1,
           "rgb(103,0,13)"
          ]
         ],
         "intensity": {
          "bdata": "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",
          "dtype": "f8"
         },
         "name": "Pareto Front",
         "opacity": 0.3,
         "scene": "scene2",
         "showscale": false,
         "type": "mesh3d",
         "x": {
          "bdata": "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",
          "dtype": "f8"
         },
         "y": {
          "bdata": "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",
          "dtype": "f8"
         },
         "z": {
          "bdata": "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",
          "dtype": "f8"
         }
        }
       ],
       "layout": {
        "annotations": [
         {
          "font": {
           "size": 16
          },
          "showarrow": false,
          "text": "qNParEGO",
          "x": 0.225,
          "xanchor": "center",
          "xref": "paper",
          "y": 1,
          "yanchor": "bottom",
          "yref": "paper"
         },
         {
          "font": {
           "size": 16
          },
          "showarrow": false,
          "text": "qEHVI",
          "x": 0.775,
          "xanchor": "center",
          "xref": "paper",
          "y": 1,
          "yanchor": "bottom",
          "yref": "paper"
         }
        ],
        "height": 600,
        "scene": {
         "camera": {
          "eye": {
           "x": 1.5,
           "y": 1.5,
           "z": 0.6
          }
         },
         "domain": {
          "x": [
           0,
           0.45
          ],
          "y": [
           0,
           1
          ]
         },
         "xaxis": {
          "title": {
           "text": "Objective 1"
          }
         },
         "yaxis": {
          "title": {
           "text": "Objective 2"
          }
         },
         "zaxis": {
          "title": {
           "text": "Objective 3"
          }
         }
        },
        "scene2": {
         "camera": {
          "eye": {
           "x": 1.5,
           "y": 1.5,
           "z": 0.6
          }
         },
         "domain": {
          "x": [
           0.55,
           1
          ],
          "y": [
           0,
           1
          ]
         },
         "xaxis": {
          "title": {
           "text": "Objective 1"
          }
         },
         "yaxis": {
          "title": {
           "text": "Objective 2"
          }
         },
         "zaxis": {
          "title": {
           "text": "Objective 3"
          }
         }
        },
        "showlegend": false,
        "template": {
         "data": {
          "bar": [
           {
            "error_x": {
             "color": "#2a3f5f"
            },
            "error_y": {
             "color": "#2a3f5f"
            },
            "marker": {
             "line": {
              "color": "#E5ECF6",
              "width": 0.5
             },
             "pattern": {
              "fillmode": "overlay",
              "size": 10,
              "solidity": 0.2
             }
            },
            "type": "bar"
           }
          ],
          "barpolar": [
           {
            "marker": {
             "line": {
              "color": "#E5ECF6",
              "width": 0.5
             },
             "pattern": {
              "fillmode": "overlay",
              "size": 10,
              "solidity": 0.2
             }
            },
            "type": "barpolar"
           }
          ],
          "carpet": [
           {
            "aaxis": {
             "endlinecolor": "#2a3f5f",
             "gridcolor": "white",
             "linecolor": "white",
             "minorgridcolor": "white",
             "startlinecolor": "#2a3f5f"
            },
            "baxis": {
             "endlinecolor": "#2a3f5f",
             "gridcolor": "white",
             "linecolor": "white",
             "minorgridcolor": "white",
             "startlinecolor": "#2a3f5f"
            },
            "type": "carpet"
           }
          ],
          "choropleth": [
           {
            "colorbar": {
             "outlinewidth": 0,
             "ticks": ""
            },
            "type": "choropleth"
           }
          ],
          "contour": [
           {
            "colorbar": {
             "outlinewidth": 0,
             "ticks": ""
            },
            "colorscale": [
             [
              0,
              "#0d0887"
             ],
             [
              0.1111111111111111,
              "#46039f"
             ],
             [
              0.2222222222222222,
              "#7201a8"
             ],
             [
              0.3333333333333333,
              "#9c179e"
             ],
             [
              0.4444444444444444,
              "#bd3786"
             ],
             [
              0.5555555555555556,
              "#d8576b"
             ],
             [
              0.6666666666666666,
              "#ed7953"
             ],
             [
              0.7777777777777778,
              "#fb9f3a"
             ],
             [
              0.8888888888888888,
              "#fdca26"
             ],
             [
              1,
              "#f0f921"
             ]
            ],
            "type": "contour"
           }
          ],
          "contourcarpet": [
           {
            "colorbar": {
             "outlinewidth": 0,
             "ticks": ""
            },
            "type": "contourcarpet"
           }
          ],
          "heatmap": [
           {
            "colorbar": {
             "outlinewidth": 0,
             "ticks": ""
            },
            "colorscale": [
             [
              0,
              "#0d0887"
             ],
             [
              0.1111111111111111,
              "#46039f"
             ],
             [
              0.2222222222222222,
              "#7201a8"
             ],
             [
              0.3333333333333333,
              "#9c179e"
             ],
             [
              0.4444444444444444,
              "#bd3786"
             ],
             [
              0.5555555555555556,
              "#d8576b"
             ],
             [
              0.6666666666666666,
              "#ed7953"
             ],
             [
              0.7777777777777778,
              "#fb9f3a"
             ],
             [
              0.8888888888888888,
              "#fdca26"
             ],
             [
              1,
              "#f0f921"
             ]
            ],
            "type": "heatmap"
           }
          ],
          "histogram": [
           {
            "marker": {
             "pattern": {
              "fillmode": "overlay",
              "size": 10,
              "solidity": 0.2
             }
            },
            "type": "histogram"
           }
          ],
          "histogram2d": [
           {
            "colorbar": {
             "outlinewidth": 0,
             "ticks": ""
            },
            "colorscale": [
             [
              0,
              "#0d0887"
             ],
             [
              0.1111111111111111,
              "#46039f"
             ],
             [
              0.2222222222222222,
              "#7201a8"
             ],
             [
              0.3333333333333333,
              "#9c179e"
             ],
             [
              0.4444444444444444,
              "#bd3786"
             ],
             [
              0.5555555555555556,
              "#d8576b"
             ],
             [
              0.6666666666666666,
              "#ed7953"
             ],
             [
              0.7777777777777778,
              "#fb9f3a"
             ],
             [
              0.8888888888888888,
              "#fdca26"
             ],
             [
              1,
              "#f0f921"
             ]
            ],
            "type": "histogram2d"
           }
          ],
          "histogram2dcontour": [
           {
            "colorbar": {
             "outlinewidth": 0,
             "ticks": ""
            },
            "colorscale": [
             [
              0,
              "#0d0887"
             ],
             [
              0.1111111111111111,
              "#46039f"
             ],
             [
              0.2222222222222222,
              "#7201a8"
             ],
             [
              0.3333333333333333,
              "#9c179e"
             ],
             [
              0.4444444444444444,
              "#bd3786"
             ],
             [
              0.5555555555555556,
              "#d8576b"
             ],
             [
              0.6666666666666666,
              "#ed7953"
             ],
             [
              0.7777777777777778,
              "#fb9f3a"
             ],
             [
              0.8888888888888888,
              "#fdca26"
             ],
             [
              1,
              "#f0f921"
             ]
            ],
            "type": "histogram2dcontour"
           }
          ],
          "mesh3d": [
           {
            "colorbar": {
             "outlinewidth": 0,
             "ticks": ""
            },
            "type": "mesh3d"
           }
          ],
          "parcoords": [
           {
            "line": {
             "colorbar": {
              "outlinewidth": 0,
              "ticks": ""
             }
            },
            "type": "parcoords"
           }
          ],
          "pie": [
           {
            "automargin": true,
            "type": "pie"
           }
          ],
          "scatter": [
           {
            "fillpattern": {
             "fillmode": "overlay",
             "size": 10,
             "solidity": 0.2
            },
            "type": "scatter"
           }
          ],
          "scatter3d": [
           {
            "line": {
             "colorbar": {
              "outlinewidth": 0,
              "ticks": ""
             }
            },
            "marker": {
             "colorbar": {
              "outlinewidth": 0,
              "ticks": ""
             }
            },
            "type": "scatter3d"
           }
          ],
          "scattercarpet": [
           {
            "marker": {
             "colorbar": {
              "outlinewidth": 0,
              "ticks": ""
             }
            },
            "type": "scattercarpet"
           }
          ],
          "scattergeo": [
           {
            "marker": {
             "colorbar": {
              "outlinewidth": 0,
              "ticks": ""
             }
            },
            "type": "scattergeo"
           }
          ],
          "scattergl": [
           {
            "marker": {
             "colorbar": {
              "outlinewidth": 0,
              "ticks": ""
             }
            },
            "type": "scattergl"
           }
          ],
          "scattermap": [
           {
            "marker": {
             "colorbar": {
              "outlinewidth": 0,
              "ticks": ""
             }
            },
            "type": "scattermap"
           }
          ],
          "scattermapbox": [
           {
            "marker": {
             "colorbar": {
              "outlinewidth": 0,
              "ticks": ""
             }
            },
            "type": "scattermapbox"
           }
          ],
          "scatterpolar": [
           {
            "marker": {
             "colorbar": {
              "outlinewidth": 0,
              "ticks": ""
             }
            },
            "type": "scatterpolar"
           }
          ],
          "scatterpolargl": [
           {
            "marker": {
             "colorbar": {
              "outlinewidth": 0,
              "ticks": ""
             }
            },
            "type": "scatterpolargl"
           }
          ],
          "scatterternary": [
           {
            "marker": {
             "colorbar": {
              "outlinewidth": 0,
              "ticks": ""
             }
            },
            "type": "scatterternary"
           }
          ],
          "surface": [
           {
            "colorbar": {
             "outlinewidth": 0,
             "ticks": ""
            },
            "colorscale": [
             [
              0,
              "#0d0887"
             ],
             [
              0.1111111111111111,
              "#46039f"
             ],
             [
              0.2222222222222222,
              "#7201a8"
             ],
             [
              0.3333333333333333,
              "#9c179e"
             ],
             [
              0.4444444444444444,
              "#bd3786"
             ],
             [
              0.5555555555555556,
              "#d8576b"
             ],
             [
              0.6666666666666666,
              "#ed7953"
             ],
             [
              0.7777777777777778,
              "#fb9f3a"
             ],
             [
              0.8888888888888888,
              "#fdca26"
             ],
             [
              1,
              "#f0f921"
             ]
            ],
            "type": "surface"
           }
          ],
          "table": [
           {
            "cells": {
             "fill": {
              "color": "#EBF0F8"
             },
             "line": {
              "color": "white"
             }
            },
            "header": {
             "fill": {
              "color": "#C8D4E3"
             },
             "line": {
              "color": "white"
             }
            },
            "type": "table"
           }
          ]
         },
         "layout": {
          "annotationdefaults": {
           "arrowcolor": "#2a3f5f",
           "arrowhead": 0,
           "arrowwidth": 1
          },
          "autotypenumbers": "strict",
          "coloraxis": {
           "colorbar": {
            "outlinewidth": 0,
            "ticks": ""
           }
          },
          "colorscale": {
           "diverging": [
            [
             0,
             "#8e0152"
            ],
            [
             0.1,
             "#c51b7d"
            ],
            [
             0.2,
             "#de77ae"
            ],
            [
             0.3,
             "#f1b6da"
            ],
            [
             0.4,
             "#fde0ef"
            ],
            [
             0.5,
             "#f7f7f7"
            ],
            [
             0.6,
             "#e6f5d0"
            ],
            [
             0.7,
             "#b8e186"
            ],
            [
             0.8,
             "#7fbc41"
            ],
            [
             0.9,
             "#4d9221"
            ],
            [
             1,
             "#276419"
            ]
           ],
           "sequential": [
            [
             0,
             "#0d0887"
            ],
            [
             0.1111111111111111,
             "#46039f"
            ],
            [
             0.2222222222222222,
             "#7201a8"
            ],
            [
             0.3333333333333333,
             "#9c179e"
            ],
            [
             0.4444444444444444,
             "#bd3786"
            ],
            [
             0.5555555555555556,
             "#d8576b"
            ],
            [
             0.6666666666666666,
             "#ed7953"
            ],
            [
             0.7777777777777778,
             "#fb9f3a"
            ],
            [
             0.8888888888888888,
             "#fdca26"
            ],
            [
             1,
             "#f0f921"
            ]
           ],
           "sequentialminus": [
            [
             0,
             "#0d0887"
            ],
            [
             0.1111111111111111,
             "#46039f"
            ],
            [
             0.2222222222222222,
             "#7201a8"
            ],
            [
             0.3333333333333333,
             "#9c179e"
            ],
            [
             0.4444444444444444,
             "#bd3786"
            ],
            [
             0.5555555555555556,
             "#d8576b"
            ],
            [
             0.6666666666666666,
             "#ed7953"
            ],
            [
             0.7777777777777778,
             "#fb9f3a"
            ],
            [
             0.8888888888888888,
             "#fdca26"
            ],
            [
             1,
             "#f0f921"
            ]
           ]
          },
          "colorway": [
           "#636efa",
           "#EF553B",
           "#00cc96",
           "#ab63fa",
           "#FFA15A",
           "#19d3f3",
           "#FF6692",
           "#B6E880",
           "#FF97FF",
           "#FECB52"
          ],
          "font": {
           "color": "#2a3f5f"
          },
          "geo": {
           "bgcolor": "white",
           "lakecolor": "white",
           "landcolor": "#E5ECF6",
           "showlakes": true,
           "showland": true,
           "subunitcolor": "white"
          },
          "hoverlabel": {
           "align": "left"
          },
          "hovermode": "closest",
          "mapbox": {
           "style": "light"
          },
          "paper_bgcolor": "white",
          "plot_bgcolor": "#E5ECF6",
          "polar": {
           "angularaxis": {
            "gridcolor": "white",
            "linecolor": "white",
            "ticks": ""
           },
           "bgcolor": "#E5ECF6",
           "radialaxis": {
            "gridcolor": "white",
            "linecolor": "white",
            "ticks": ""
           }
          },
          "scene": {
           "xaxis": {
            "backgroundcolor": "#E5ECF6",
            "gridcolor": "white",
            "gridwidth": 2,
            "linecolor": "white",
            "showbackground": true,
            "ticks": "",
            "zerolinecolor": "white"
           },
           "yaxis": {
            "backgroundcolor": "#E5ECF6",
            "gridcolor": "white",
            "gridwidth": 2,
            "linecolor": "white",
            "showbackground": true,
            "ticks": "",
            "zerolinecolor": "white"
           },
           "zaxis": {
            "backgroundcolor": "#E5ECF6",
            "gridcolor": "white",
            "gridwidth": 2,
            "linecolor": "white",
            "showbackground": true,
            "ticks": "",
            "zerolinecolor": "white"
           }
          },
          "shapedefaults": {
           "line": {
            "color": "#2a3f5f"
           }
          },
          "ternary": {
           "aaxis": {
            "gridcolor": "white",
            "linecolor": "white",
            "ticks": ""
           },
           "baxis": {
            "gridcolor": "white",
            "linecolor": "white",
            "ticks": ""
           },
           "bgcolor": "#E5ECF6",
           "caxis": {
            "gridcolor": "white",
            "linecolor": "white",
            "ticks": ""
           }
          },
          "title": {
           "x": 0.05
          },
          "xaxis": {
           "automargin": true,
           "gridcolor": "white",
           "linecolor": "white",
           "ticks": "",
           "title": {
            "standoff": 15
           },
           "zerolinecolor": "white",
           "zerolinewidth": 2
          },
          "yaxis": {
           "automargin": true,
           "gridcolor": "white",
           "linecolor": "white",
           "ticks": "",
           "title": {
            "standoff": 15
           },
           "zerolinecolor": "white",
           "zerolinewidth": 2
          }
         }
        },
        "title": {
         "text": "All 200 Points After Initial Training"
        },
        "width": 1200
       }
      }
     },
     "metadata": {},
     "output_type": "display_data"
    }
   ],
   "source": [
    "# Plot ALL points after initial training\n",
    "fig = make_subplots(\n",
    "    rows=1, cols=2,\n",
    "    specs=[[{'type': 'scatter3d'}, {'type': 'scatter3d'}]],\n",
    "    subplot_titles=(\"qNParEGO\", \"qEHVI\")\n",
    ")\n",
    "\n",
    "batch_number = torch.cat([\n",
    "    torch.zeros(n_initial),\n",
    "    torch.arange(1, N_BATCH + 1).repeat(BATCH_SIZE, 1).t().reshape(-1),\n",
    "]).numpy()\n",
    "\n",
    "start_idx = n_initial\n",
    "end_idx = len(train_obj_true_qparego)\n",
    "\n",
    "alg_data = [\n",
    "    (-train_obj_true_qparego[start_idx:end_idx], \"qNParEGO\"),\n",
    "    (-train_obj_true_qehvi[start_idx:end_idx], \"qEHVI\"),\n",
    "]\n",
    "\n",
    "for col, (train_obj, name) in enumerate(alg_data, 1):\n",
    "    obj_np = train_obj.cpu().numpy()\n",
    "\n",
    "    scatter = go.Scatter3d(\n",
    "        x=obj_np[:, 0], y=obj_np[:, 1], z=obj_np[:, 2],\n",
    "        mode='markers',\n",
    "        marker=dict(\n",
    "            size=4,\n",
    "            color=batch_number[start_idx:end_idx],\n",
    "            colorscale='Viridis',\n",
    "            opacity=0.8,\n",
    "            colorbar=dict(title='Iteration') if col == 2 else None\n",
    "        ),\n",
    "        name=name,\n",
    "        hovertemplate=\"<b>Obj1</b>: %{x:.2f}<br><b>Obj2</b>: %{y:.2f}<br><b>Obj3</b>: %{z:.2f}<extra></extra>\"\n",
    "    )\n",
    "\n",
    "    fig.add_trace(scatter, row=1, col=col)\n",
    "    fig.add_trace(pf_surface, row=1, col=col)\n",
    "\n",
    "# Update layout\n",
    "fig.update_layout(\n",
    "    height=600,\n",
    "    width=1200,\n",
    "    scene1=dict(\n",
    "        xaxis_title='Objective 1',\n",
    "        yaxis_title='Objective 2',\n",
    "        zaxis_title='Objective 3',\n",
    "        camera=dict(eye=dict(x=1.5, y=1.5, z=0.6))\n",
    "    ),\n",
    "    scene2=dict(\n",
    "        xaxis_title='Objective 1',\n",
    "        yaxis_title='Objective 2',\n",
    "        zaxis_title='Objective 3',\n",
    "        camera=dict(eye=dict(x=1.5, y=1.5, z=0.6))\n",
    "    ),\n",
    "    showlegend=False,\n",
    "    title_text=f'All {end_idx - start_idx} Points After Initial Training'\n",
    ")\n",
    "\n",
    "fig.show()\n",
    "\n",
    "\n",
    "pio.write_html(fig, 'DTLZ4a candidates.html')"
   ]
  },
  {
   "cell_type": "code",
   "execution_count": 19,
   "metadata": {
    "colab": {
     "base_uri": "https://localhost:8080/"
    },
    "executionInfo": {
     "elapsed": 12,
     "status": "ok",
     "timestamp": 1747812625817,
     "user": {
      "displayName": "Deepak L",
      "userId": "17343563887203968144"
     },
     "user_tz": -330
    },
    "id": "9LzcVovZBdhv",
    "outputId": "188a701f-af33-433b-a1ca-0acd40260305",
    "scrolled": true
   },
   "outputs": [
    {
     "name": "stdout",
     "output_type": "stream",
     "text": [
      "ParEGO data saved to 'DTLZ4a (8-3) qNParEGO_data.csv'\n",
      "EHVI data saved to 'DTLZ4a (8-3) qEHVI_data.csv'\n"
     ]
    }
   ],
   "source": [
    "import pandas as pd\n",
    "\n",
    "# Convert PyTorch tensors to numpy arrays\n",
    "train_x_qparego_np = train_x_qparego.cpu().numpy()\n",
    "train_obj_qparego_np = train_obj_qparego.cpu().numpy()\n",
    "train_x_qehvi_np = train_x_qehvi.cpu().numpy()\n",
    "train_obj_qehvi_np = train_obj_qehvi.cpu().numpy()\n",
    "\n",
    "# Concatenate the input dimensions and objectives horizontally\n",
    "qparego_data = np.hstack([train_x_qparego_np, train_obj_qparego_np])\n",
    "qehvi_data = np.hstack([train_x_qehvi_np, train_obj_qehvi_np])\n",
    "\n",
    "# Create column headers for better readability\n",
    "input_dim = train_x_qparego.shape[1]\n",
    "obj_dim = train_obj_qparego.shape[1]\n",
    "column_names = [f\"dim{i+1}\" for i in range(input_dim)] + [f\"obj{i+1}\" for i in range(obj_dim)]\n",
    "\n",
    "# Create DataFrames with the combined data and column names\n",
    "qparego_df = pd.DataFrame(qparego_data, columns=column_names)\n",
    "qehvi_df = pd.DataFrame(qehvi_data, columns=column_names)\n",
    "\n",
    "# Save to CSV files\n",
    "qparego_df.to_csv('DTLZ4a (8-3) qNParEGO_data.csv', index=False, mode='w')\n",
    "qehvi_df.to_csv('DTLZ4a (8-3) qEHVI_data.csv', index=False, mode='w')\n",
    "\n",
    "print(\"ParEGO data saved to 'DTLZ4a (8-3) qNParEGO_data.csv'\")\n",
    "print(\"EHVI data saved to 'DTLZ4a (8-3) qEHVI_data.csv'\")\n"
   ]
  }
 ],
 "metadata": {
  "accelerator": "GPU",
  "colab": {
   "gpuType": "T4",
   "provenance": []
  },
  "kernelspec": {
   "display_name": "Python 3 (ipykernel)",
   "language": "python",
   "name": "python3"
  },
  "language_info": {
   "codemirror_mode": {
    "name": "ipython",
    "version": 3
   },
   "file_extension": ".py",
   "mimetype": "text/x-python",
   "name": "python",
   "nbconvert_exporter": "python",
   "pygments_lexer": "ipython3",
   "version": "3.12.9"
  }
 },
 "nbformat": 4,
 "nbformat_minor": 4
}
