{
 "cells": [
  {
   "cell_type": "code",
   "execution_count": 7,
   "metadata": {
    "colab": {
     "base_uri": "https://localhost:8080/"
    },
    "executionInfo": {
     "elapsed": 1708,
     "status": "ok",
     "timestamp": 1747908122662,
     "user": {
      "displayName": "Deepak L",
      "userId": "17343563887203968144"
     },
     "user_tz": -330
    },
    "id": "N3dXjUebLEBV",
    "outputId": "9cdab2a2-5a55-4ac5-d3f5-2716a407d90a"
   },
   "outputs": [],
   "source": [
    "# from google.colab import drive\n",
    "import os, torch, gc\n",
    "import pandas as pd\n",
    "import numpy as np # Import numpy\n",
    "\n",
    "# drive.mount('/gdrive')\n",
    "\n",
    "# # Define the path to your \"flick\" folder\n",
    "# folder_path = '/gdrive/MyDrive/code' # Replace 'MyDrive' with your actual Drive folder name if different\n",
    "\n",
    "# # Create the folder if it doesn't exist\n",
    "# if not os.path.exists(folder_path):\n",
    "#     os.makedirs(folder_path)\n",
    "\n",
    "# # Change the current working directory to the \"flick\" folder\n",
    "# os.chdir(folder_path)\n",
    "\n",
    "# print(f\"Current working directory changed to: {os.getcwd()}\")"
   ]
  },
  {
   "cell_type": "code",
   "execution_count": 8,
   "metadata": {
    "executionInfo": {
     "elapsed": 5,
     "status": "ok",
     "timestamp": 1747908122662,
     "user": {
      "displayName": "Deepak L",
      "userId": "17343563887203968144"
     },
     "user_tz": -330
    },
    "id": "XHcz5o_7NI_x"
   },
   "outputs": [],
   "source": [
    "os.environ[\"PYTORCH_CUDA_ALLOC_CONF\"] = \"expandable_segments:True\"\n",
    "torch.set_default_dtype(torch.float32)"
   ]
  },
  {
   "cell_type": "code",
   "execution_count": 9,
   "metadata": {
    "colab": {
     "base_uri": "https://localhost:8080/"
    },
    "executionInfo": {
     "elapsed": 3019,
     "status": "ok",
     "timestamp": 1747908125678,
     "user": {
      "displayName": "Deepak L",
      "userId": "17343563887203968144"
     },
     "user_tz": -330
    },
    "id": "lSxpp8YmBdho",
    "outputId": "7abd1bf4-8407-4808-aa23-8bb6474018f1"
   },
   "outputs": [],
   "source": [
    "# # Install dependencies if we are running in colab\n",
    "# import sys\n",
    "# if 'google.colab' in sys.modules:\n",
    "#     %pip install botorch"
   ]
  },
  {
   "cell_type": "markdown",
   "metadata": {
    "id": "JiijYn5qBdhm",
    "originalKey": "61330204-a407-449f-af77-fcd868546651",
    "showInput": false
   },
   "source": [
    "## Noisy, Parallel, Multi-Objective BO in BoTorch with qEHVI, qNEHVI, and qNParEGO\n",
    "\n",
    "In this tutorial, we illustrate how to implement a simple multi-objective (MO) Bayesian Optimization (BO) closed loop in BoTorch.\n",
    "\n",
    "We use the parallel ParEGO ($q$ParEGO), parallel Expected Hypervolume Improvement ($q$EHVI), and parallel Noisy Expected Hypervolume Improvement ($q$NEHVI) acquisition functions to optimize a synthetic ZDT2 problem test function with additive Gaussian observation noise over a 30-parameter search space [0,1]^30. See `botorch/test_functions/multi_objective.py` for details on ZDT2.\n",
    "\n",
    "Since botorch assumes a maximization of all objectives, we seek to find the Pareto frontier, the set of optimal trade-offs where improving one metric means deteriorating another.\n",
    "\n",
    "**For batch optimization (or in noisy settings), we strongly recommend using $q$NEHVI rather than $q$EHVI because it is far more efficient than $q$EHVI and mathematically equivalent in the noiseless setting.**"
   ]
  },
  {
   "cell_type": "markdown",
   "metadata": {
    "id": "8_WZ6HzLBdho",
    "originalKey": "f01416cb-e83e-4263-b599-b2a3221d144d",
    "showInput": false
   },
   "source": [
    "### Set dtype and device\n",
    "Note: $q$EHVI and $q$NEHVI aggressively exploit parallel hardware and are both much faster when run on a GPU. See [1, 2] for details."
   ]
  },
  {
   "cell_type": "code",
   "execution_count": 10,
   "metadata": {
    "collapsed": false,
    "customOutput": null,
    "executionInfo": {
     "elapsed": 5,
     "status": "ok",
     "timestamp": 1747908125684,
     "user": {
      "displayName": "Deepak L",
      "userId": "17343563887203968144"
     },
     "user_tz": -330
    },
    "executionStartTime": 1668649461840,
    "executionStopTime": 1668649461848,
    "id": "iNZ_9z01Bdhp",
    "jupyter": {
     "outputs_hidden": false
    },
    "originalKey": "41c30177-379b-4e63-9996-41bc17d70769",
    "requestMsgId": "7e4820a5-df3b-45a6-9826-42541ee0f4f4"
   },
   "outputs": [],
   "source": [
    "import os\n",
    "import torch\n",
    "torch.manual_seed(80)\n",
    "\n",
    "\n",
    "tkwargs = {\n",
    "    \"dtype\": torch.double,\n",
    "    \"device\": torch.device(\"cuda\" if torch.cuda.is_available() else \"cpu\"),\n",
    "}\n",
    "SMOKE_TEST = os.environ.get(\"SMOKE_TEST\")"
   ]
  },
  {
   "cell_type": "markdown",
   "metadata": {
    "id": "B1v64d4oBdhq",
    "originalKey": "8d895a93-397c-4d2c-b6f5-96f589312538",
    "showInput": false
   },
   "source": [
    "### Problem setup\n"
   ]
  },
  {
   "cell_type": "code",
   "execution_count": 11,
   "metadata": {
    "executionInfo": {
     "elapsed": 3,
     "status": "ok",
     "timestamp": 1747908125689,
     "user": {
      "displayName": "Deepak L",
      "userId": "17343563887203968144"
     },
     "user_tz": -330
    },
    "id": "VxqCnTGMBdhq"
   },
   "outputs": [],
   "source": [
    "# from botorch.test_functions.multi_objective import DTLZ1\n",
    "# problem = DTLZ1(dim=6, num_objectives=3, negate=True).to(**tkwargs)"
   ]
  },
  {
   "cell_type": "code",
   "execution_count": 12,
   "metadata": {
    "executionInfo": {
     "elapsed": 9,
     "status": "ok",
     "timestamp": 1747908125700,
     "user": {
      "displayName": "Deepak L",
      "userId": "17343563887203968144"
     },
     "user_tz": -330
    },
    "id": "6JGD2OZnBgNx"
   },
   "outputs": [],
   "source": [
    "import math\n",
    "import torch\n",
    "from torch import Tensor\n",
    "from typing import Optional\n",
    "from scipy.special import gamma\n",
    "from botorch.test_functions.multi_objective import DTLZ\n",
    "from botorch.utils.sampling import sample_simplex, sample_hypersphere\n",
    "\n",
    "class DTLZ1a(DTLZ):\n",
    "    r\"\"\"DTLZ1a: Modified DTLZ1 with 3 objectives and 6 variables.\"\"\"\n",
    "    _ref_val = 400.0\n",
    "\n",
    "    def __init__(self, noise_std: Optional[float] = None, negate: bool = False) -> None:\n",
    "        super().__init__(dim=6, num_objectives=3, noise_std=noise_std, negate=negate)\n",
    "\n",
    "    def _evaluate_true(self, X: Tensor) -> Tensor:\n",
    "        X_m = X[..., -self.k :]\n",
    "        X_m_minus_half = X_m - 0.5\n",
    "        # Modified cosine frequency: use 10*pi instead of 20*pi\n",
    "        sum_term = (X_m_minus_half.pow(2) - torch.cos(10 * math.pi * X_m_minus_half)).sum(dim=-1)\n",
    "        g_X = 100 * (self.k + sum_term)\n",
    "        g_X_term = 0.5 * (1 + g_X)\n",
    "        fs = []\n",
    "        for i in range(self.num_objectives):\n",
    "            idx = self.num_objectives - 1 - i\n",
    "            f_i = g_X_term * X[..., :idx].prod(dim=-1)\n",
    "            if i > 0:\n",
    "                f_i = f_i * (1 - X[..., idx])\n",
    "            fs.append(f_i)\n",
    "        return torch.stack(fs, dim=-1)\n",
    "\n",
    "    def evaluate_true(self, X: Tensor) -> Tensor:\n",
    "        return self._evaluate_true(X)\n",
    "\n",
    "    def gen_pareto_front(self, n: int) -> Tensor:\n",
    "        f_X = 0.5 * sample_simplex(\n",
    "            n=n,\n",
    "            d=self.num_objectives,\n",
    "            qmc=True,\n",
    "            dtype=self.ref_point.dtype,\n",
    "            device=self.ref_point.device,\n",
    "        )\n",
    "        if self.negate:\n",
    "            f_X *= -1\n",
    "        return f_X\n",
    "\n",
    "    @property\n",
    "    def _max_hv(self) -> float:\n",
    "        return self._ref_val ** self.num_objectives - 1.0 / (2 ** self.num_objectives)\n",
    "\n",
    "\n",
    "problem = DTLZ1a(negate=True).to(**tkwargs)"
   ]
  },
  {
   "cell_type": "code",
   "execution_count": 13,
   "metadata": {
    "colab": {
     "base_uri": "https://localhost:8080/"
    },
    "executionInfo": {
     "elapsed": 10,
     "status": "ok",
     "timestamp": 1747908125712,
     "user": {
      "displayName": "Deepak L",
      "userId": "17343563887203968144"
     },
     "user_tz": -330
    },
    "id": "-WaIKxgPBdhq",
    "outputId": "563b9e56-78ff-4136-bc38-a1ff0c338427"
   },
   "outputs": [
    {
     "name": "stdout",
     "output_type": "stream",
     "text": [
      "tensor([-400., -400., -400.], dtype=torch.float64)\n",
      "63999999.875\n",
      "tensor([[0., 0., 0., 0., 0., 0.],\n",
      "        [1., 1., 1., 1., 1., 1.]], dtype=torch.float64)\n"
     ]
    }
   ],
   "source": [
    "print(problem.ref_point, end=\"\\n\")\n",
    "print(problem.max_hv, end=\"\\n\")\n",
    "print(problem.bounds, end=\"\\n\")"
   ]
  },
  {
   "cell_type": "markdown",
   "metadata": {
    "id": "I31BWTdlBdhr",
    "originalKey": "fc047039-c2a9-4ea8-920e-c057547cfb11",
    "showInput": false
   },
   "source": [
    "#### Model initialization\n",
    "\n",
    "We use a list of `SingleTaskGP`s to model the two objectives with known noise variances. If no noise variances were provided, `SingleTaskGP` would infer (homoskedastic) noise levels instead.\n",
    "\n",
    "The models are initialized with $2(d+1)=6$ points drawn randomly from $[0,1]^2$."
   ]
  },
  {
   "cell_type": "code",
   "execution_count": 14,
   "metadata": {
    "collapsed": false,
    "customOutput": null,
    "executionInfo": {
     "elapsed": 4,
     "status": "ok",
     "timestamp": 1747908125717,
     "user": {
      "displayName": "Deepak L",
      "userId": "17343563887203968144"
     },
     "user_tz": -330
    },
    "executionStartTime": 1668649462312,
    "executionStopTime": 1668649462318,
    "id": "hIkSW6KWBdhr",
    "jupyter": {
     "outputs_hidden": false
    },
    "originalKey": "47170c31-65e4-4f2d-949c-d91544e065fc",
    "requestMsgId": "8a44b7cb-cc5f-419e-849f-2b4d1dc3abe1"
   },
   "outputs": [],
   "source": [
    "from botorch.models.gp_regression import SingleTaskGP\n",
    "from botorch.models.model_list_gp_regression import ModelListGP\n",
    "from botorch.models.transforms.outcome import Standardize\n",
    "from gpytorch.mlls.sum_marginal_log_likelihood import SumMarginalLogLikelihood\n",
    "from botorch.utils.transforms import unnormalize, normalize\n",
    "from botorch.utils.sampling import draw_sobol_samples\n",
    "\n",
    "n_initial = 11 * problem.dim - 1\n",
    "\n",
    "def generate_initial_data(n=n_initial):\n",
    "    # generate training data\n",
    "    train_x = draw_sobol_samples(bounds=problem.bounds, n=n, q=1).squeeze(1)\n",
    "    train_obj_true = problem(train_x)\n",
    "    train_obj = train_obj_true\n",
    "    return train_x, train_obj, train_obj_true\n",
    "\n",
    "\n",
    "\n",
    "from botorch.models.gp_regression import SingleTaskGP\n",
    "from gpytorch.mlls.exact_marginal_log_likelihood import ExactMarginalLogLikelihood\n",
    "\n",
    "def initialize_model(train_x, train_obj):\n",
    "    train_x = normalize(train_x, problem.bounds)\n",
    "    train_y = train_obj  # Shape: [n, 2]\n",
    "\n",
    "    model = SingleTaskGP(\n",
    "        train_x,\n",
    "        train_y,\n",
    "        outcome_transform=Standardize(m=3),  # Standardize both objectives\n",
    "    )\n",
    "    mll = ExactMarginalLogLikelihood(model.likelihood, model)\n",
    "    return mll, model"
   ]
  },
  {
   "cell_type": "markdown",
   "metadata": {
    "id": "Y-OuG7D3Bdhs",
    "originalKey": "6bfaef9a-3f34-4d51-9700-fbddc79eccf1",
    "showInput": false
   },
   "source": [
    "#### Define a helper functions that performs the essential BO step for $q$EHVI and $q$NEHVI\n",
    "The helper function below initializes the $q$EHVI acquisition function, optimizes it, and returns the batch $\\{x_1, x_2, \\ldots x_q\\}$ along with the observed function values.\n",
    "\n",
    "For this example, we'll use a relatively small batch of optimization ($q=4$). For batch optimization ($q>1$), passing the keyword argument `sequential=True` to the function `optimize_acqf`specifies that candidates should be optimized in a sequential greedy fashion (see [1] for details why this is important). A simple initialization heuristic is used to select the 10 restart initial locations from a set of 512 random points. Multi-start optimization of the acquisition function is performed using LBFGS-B with exact gradients computed via auto-differentiation.\n",
    "\n",
    "**Reference Point**\n",
    "\n",
    "$q$EHVI requires specifying a reference point, which is the lower bound on the objectives used for computing hypervolume. In this tutorial, we assume the reference point is known. In practice the reference point can be set 1) using domain knowledge to be slightly worse than the lower bound of objective values, where the lower bound is the minimum acceptable value of interest for each objective, or 2) using a dynamic reference point selection strategy.\n",
    "\n",
    "**Partitioning the Non-dominated Space into disjoint rectangles**\n",
    "\n",
    "$q$EHVI requires partitioning the non-dominated space into disjoint rectangles (see [1] for details).\n",
    "\n",
    "*Note:* `FastNondominatedPartitioning` *will be very slow when 1) there are a lot of points on the pareto frontier and 2) there are >5 objectives.*"
   ]
  },
  {
   "cell_type": "code",
   "execution_count": 15,
   "metadata": {
    "collapsed": false,
    "customOutput": null,
    "executionInfo": {
     "elapsed": 7,
     "status": "ok",
     "timestamp": 1747908125726,
     "user": {
      "displayName": "Deepak L",
      "userId": "17343563887203968144"
     },
     "user_tz": -330
    },
    "executionStartTime": 1668649462539,
    "executionStopTime": 1668649462641,
    "id": "zSOEeo1bBdhs",
    "jupyter": {
     "outputs_hidden": false
    },
    "originalKey": "b7effe94-1327-405d-9148-c8e93470b846",
    "requestMsgId": "40a5edda-3bee-43c9-b84b-c669c288eb80"
   },
   "outputs": [],
   "source": [
    "from botorch.optim.optimize import optimize_acqf, optimize_acqf_list\n",
    "from botorch.acquisition.objective import GenericMCObjective\n",
    "from botorch.utils.multi_objective.scalarization import get_chebyshev_scalarization\n",
    "from botorch.utils.multi_objective.box_decompositions.non_dominated import (\n",
    "    NondominatedPartitioning,\n",
    ")\n",
    "from botorch.acquisition.multi_objective import (\n",
    "    qLogExpectedHypervolumeImprovement,\n",
    "    qLogNoisyExpectedHypervolumeImprovement,\n",
    ")\n",
    "from botorch.utils.sampling import sample_simplex\n",
    "\n",
    "\n",
    "BATCH_SIZE = 2\n",
    "NUM_RESTARTS = 10 if not SMOKE_TEST else 2\n",
    "RAW_SAMPLES = 128 if not SMOKE_TEST else 4\n",
    "\n",
    "standard_bounds = torch.zeros(2, problem.dim, **tkwargs)\n",
    "standard_bounds[1] = 1\n",
    "\n",
    "\n",
    "def optimize_qehvi_and_get_observation(model, train_x, train_obj, sampler):\n",
    "    \"\"\"Optimizes the qEHVI acquisition function, and returns a new candidate and observation.\"\"\"\n",
    "    # partition non-dominated space into disjoint rectangles\n",
    "    with torch.no_grad():\n",
    "        pred = model.posterior(normalize(train_x, problem.bounds)).mean\n",
    "    partitioning = NondominatedPartitioning(\n",
    "        ref_point=problem.ref_point,\n",
    "        Y=pred,\n",
    "    )\n",
    "    acq_func = qLogExpectedHypervolumeImprovement(\n",
    "        model=model,\n",
    "        ref_point=problem.ref_point,\n",
    "        partitioning=partitioning,\n",
    "        sampler=sampler,\n",
    "    )\n",
    "    # optimize\n",
    "    candidates, _ = optimize_acqf(\n",
    "        acq_function=acq_func,\n",
    "        bounds=standard_bounds,\n",
    "        q=BATCH_SIZE,\n",
    "        num_restarts=NUM_RESTARTS,\n",
    "        raw_samples=RAW_SAMPLES,  # used for intialization heuristic\n",
    "        options={\"batch_limit\": 5, \"maxiter\": 200},\n",
    "        sequential=True,\n",
    "    )\n",
    "    # observe new values\n",
    "    new_x = unnormalize(candidates.detach(), bounds=problem.bounds)\n",
    "    new_obj_true = problem(new_x)\n",
    "    new_obj = new_obj_true\n",
    "    return new_x, new_obj, new_obj_true"
   ]
  },
  {
   "cell_type": "markdown",
   "metadata": {
    "id": "MiFVOqxhBdht",
    "originalKey": "ad78607d-d910-441c-903b-b15dc77a432f",
    "showInput": false
   },
   "source": [
    "#### Define a helper function that performs the essential BO step for $q$NParEGO\n",
    "The helper function below similarly initializes $q$NParEGO, optimizes it, and returns the batch $\\{x_1, x_2, \\ldots x_q\\}$ along with the observed function values.\n",
    "\n",
    "$q$NParEGO uses random augmented chebyshev scalarization with the `qNoisyExpectedImprovement` acquisition function. In the parallel setting ($q>1$), each candidate is optimized in sequential greedy fashion using a different random scalarization (see [1] for details).\n",
    "\n",
    "To do this, we create a list of `qNoisyExpectedImprovement` acquisition functions, each with different random scalarization weights. The `optimize_acqf_list` method sequentially generates one candidate per acquisition function and conditions the next candidate (and acquisition function) on the previously selected pending candidates."
   ]
  },
  {
   "cell_type": "code",
   "execution_count": 16,
   "metadata": {
    "collapsed": false,
    "customOutput": null,
    "executionInfo": {
     "elapsed": 7,
     "status": "ok",
     "timestamp": 1747908125738,
     "user": {
      "displayName": "Deepak L",
      "userId": "17343563887203968144"
     },
     "user_tz": -330
    },
    "executionStartTime": 1668649463087,
    "executionStopTime": 1668649463185,
    "id": "rACxiO2FBdht",
    "jupyter": {
     "outputs_hidden": false
    },
    "originalKey": "806b115f-a15f-44df-b7f9-d2f098969e02",
    "requestMsgId": "514d162f-78e0-447a-a483-c923cba18b80"
   },
   "outputs": [],
   "source": [
    "from botorch.acquisition import qLogNoisyExpectedImprovement\n",
    "\n",
    "\n",
    "def optimize_qnparego_and_get_observation(model, train_x, train_obj, sampler):\n",
    "    \"\"\"Samples a set of random weights for each candidate in the batch, performs sequential greedy optimization\n",
    "    of the qNParEGO acquisition function, and returns a new candidate and observation.\"\"\"\n",
    "    train_x = normalize(train_x, problem.bounds)\n",
    "    with torch.no_grad():\n",
    "        pred = model.posterior(train_x).mean\n",
    "    acq_func_list = []\n",
    "    for _ in range(BATCH_SIZE):\n",
    "        weights = sample_simplex(problem.num_objectives, **tkwargs).squeeze()\n",
    "        objective = GenericMCObjective(\n",
    "            get_chebyshev_scalarization(weights=weights, Y=pred)\n",
    "        )\n",
    "        acq_func = qLogNoisyExpectedImprovement(  # pyre-ignore: [28]\n",
    "            model=model,\n",
    "            objective=objective,\n",
    "            X_baseline=train_x,\n",
    "            sampler=sampler,\n",
    "            prune_baseline=True,\n",
    "        )\n",
    "        acq_func_list.append(acq_func)\n",
    "    # optimize\n",
    "    candidates, _ = optimize_acqf_list(\n",
    "        acq_function_list=acq_func_list,\n",
    "        bounds=standard_bounds,\n",
    "        num_restarts=NUM_RESTARTS,\n",
    "        raw_samples=RAW_SAMPLES,  # used for intialization heuristic\n",
    "        options={\"batch_limit\": 5, \"maxiter\": 200},\n",
    "    )\n",
    "    # observe new values\n",
    "    new_x = unnormalize(candidates.detach(), bounds=problem.bounds)\n",
    "    new_obj_true = problem(new_x)\n",
    "    new_obj = new_obj_true #+ torch.randn_like(new_obj_true) * NOISE_SE\n",
    "    return new_x, new_obj, new_obj_true"
   ]
  },
  {
   "cell_type": "markdown",
   "metadata": {
    "id": "ZXq2l3l-Bdht",
    "originalKey": "f8ffd86a-f4bb-4984-9330-04ff4d62f189",
    "showInput": false
   },
   "source": [
    "### Perform Bayesian Optimization loop with $q$NEHVI, $q$EHVI, and $q$NParEGO\n",
    "The Bayesian optimization \"loop\" for a batch size of $q$ simply iterates the following steps:\n",
    "1. given a surrogate model, choose a batch of points $\\{x_1, x_2, \\ldots x_q\\}$\n",
    "2. observe $f(x)$ for each $x$ in the batch\n",
    "3. update the surrogate model.\n",
    "\n",
    "\n",
    "Just for illustration purposes, we run one trial with `N_BATCH=20` rounds of optimization. The acquisition function is approximated using `MC_SAMPLES=128` samples.\n",
    "\n",
    "*Note*: Running this may take a little while."
   ]
  },
  {
   "cell_type": "code",
   "execution_count": 17,
   "metadata": {
    "colab": {
     "base_uri": "https://localhost:8080/",
     "height": 515
    },
    "collapsed": false,
    "customOutput": null,
    "executionInfo": {
     "elapsed": 1216482,
     "status": "error",
     "timestamp": 1747909342221,
     "user": {
      "displayName": "Deepak L",
      "userId": "17343563887203968144"
     },
     "user_tz": -330
    },
    "executionStartTime": 1668649463513,
    "executionStopTime": 1668649856754,
    "id": "A2Ii-yH3Bdhu",
    "jupyter": {
     "outputs_hidden": false
    },
    "originalKey": "c29b731a-64e7-401d-a5b2-3879d8d39327",
    "outputId": "5f3eb571-3ffe-4c2c-a315-f8424c0af3ca",
    "requestMsgId": "43e1021f-9ecd-4d2c-a7ba-21e26051ce66"
   },
   "outputs": [
    {
     "name": "stdout",
     "output_type": "stream",
     "text": [
      "\n",
      "Batch  1: Hypervolume (qNParEGO, qEHVI) = (62597012.26, 62684096.49), time = 161.36.\n",
      "Batch  2: Hypervolume (qNParEGO, qEHVI) = (62601914.09, 62686576.93), time = 186.41.\n",
      "Batch  3: Hypervolume (qNParEGO, qEHVI) = (62921203.79, 62746901.98), time = 228.70.\n",
      "Batch  4: Hypervolume (qNParEGO, qEHVI) = (62948712.91, 63431161.32), time = 274.69.\n",
      "Batch  5: Hypervolume (qNParEGO, qEHVI) = (62948712.91, 63470328.43), time = 136.95.\n",
      "Batch  6: Hypervolume (qNParEGO, qEHVI) = (62949732.64, 63470328.43), time = 194.30.\n",
      "Batch  7: Hypervolume (qNParEGO, qEHVI) = (62962678.44, 63470328.43), time = 331.50.\n",
      "Batch  8: Hypervolume (qNParEGO, qEHVI) = (62962678.44, 63470328.43), time = 311.50.\n",
      "Batch  9: Hypervolume (qNParEGO, qEHVI) = (62962678.44, 63480591.46), time = 478.02.\n",
      "Batch 10: Hypervolume (qNParEGO, qEHVI) = (62962678.44, 63480591.46), time = 518.33.\n",
      "Batch 11: Hypervolume (qNParEGO, qEHVI) = (63016049.36, 63480591.46), time = 492.22.\n",
      "Batch 12: Hypervolume (qNParEGO, qEHVI) = (63016049.36, 63480591.46), time = 562.25.\n",
      "Batch 13: Hypervolume (qNParEGO, qEHVI) = (63016049.36, 63480591.46), time = 604.03.\n",
      "Batch 14: Hypervolume (qNParEGO, qEHVI) = (63081575.21, 63480591.46), time = 831.34.\n",
      "Batch 15: Hypervolume (qNParEGO, qEHVI) = (63081575.21, 63488237.11), time = 2234.53.\n",
      "Batch 16: Hypervolume (qNParEGO, qEHVI) = (63081575.21, 63488244.38), time = 1466.83.\n",
      "Batch 17: Hypervolume (qNParEGO, qEHVI) = (63241512.06, 63488244.38), time = 1658.75.\n",
      "Batch 18: Hypervolume (qNParEGO, qEHVI) = (63241512.06, 63488244.38), time = 1317.92.\n",
      "Batch 19: Hypervolume (qNParEGO, qEHVI) = (63241512.06, 63488244.38), time = 2691.02.\n",
      "Batch 20: Hypervolume (qNParEGO, qEHVI) = (63241512.06, 63488244.38), time = 2364.91.\n",
      "Batch 21: Hypervolume (qNParEGO, qEHVI) = (63241532.73, 63489309.57), time = 1654.52.\n",
      "Batch 22: Hypervolume (qNParEGO, qEHVI) = (63250327.79, 63489309.57), time = 1877.73.\n",
      "Batch 23: Hypervolume (qNParEGO, qEHVI) = (63250327.79, 63489309.57), time = 1747.16.\n",
      "Batch 24: Hypervolume (qNParEGO, qEHVI) = (63250327.79, 63489309.57), time = 1477.64.\n",
      "Batch 25: Hypervolume (qNParEGO, qEHVI) = (63250327.79, 63489309.57), time = 2143.00.\n",
      "Batch 26: Hypervolume (qNParEGO, qEHVI) = (63250327.79, 63489309.57), time = 1363.95.\n",
      "Batch 27: Hypervolume (qNParEGO, qEHVI) = (63250327.79, 63489309.57), time = 2392.91.\n",
      "Batch 28: Hypervolume (qNParEGO, qEHVI) = (63250327.79, 63489309.57), time = 4020.30.\n",
      "Batch 29: Hypervolume (qNParEGO, qEHVI) = (63250327.79, 63489309.57), time = 1273.12.\n",
      "Batch 30: Hypervolume (qNParEGO, qEHVI) = (63250327.79, 63491749.28), time = 1090.69.\n",
      "Batch 31: Hypervolume (qNParEGO, qEHVI) = (63250327.79, 63491749.28), time = 2144.31.\n",
      "Batch 32: Hypervolume (qNParEGO, qEHVI) = (63250327.79, 63491749.28), time = 2218.97.\n",
      "Batch 33: Hypervolume (qNParEGO, qEHVI) = (63250327.79, 63491749.28), time = 1957.52.\n",
      "Batch 34: Hypervolume (qNParEGO, qEHVI) = (63250327.79, 63491749.28), time = 4871.12.\n",
      "Batch 35: Hypervolume (qNParEGO, qEHVI) = (63250327.79, 63491949.23), time = 1420.02.\n",
      "Batch 36: Hypervolume (qNParEGO, qEHVI) = (63350124.61, 63491949.23), time = 1792.73.\n",
      "Batch 37: Hypervolume (qNParEGO, qEHVI) = (63396288.97, 63498562.51), time = 1924.00.\n",
      "Batch 38: Hypervolume (qNParEGO, qEHVI) = (63396288.97, 63498562.51), time = 3696.72.\n",
      "Batch 39: Hypervolume (qNParEGO, qEHVI) = (63397243.08, 63514173.28), time = 2513.25.\n",
      "Batch 40: Hypervolume (qNParEGO, qEHVI) = (63397243.08, 63514173.28), time = 2062.28.\n",
      "Batch 41: Hypervolume (qNParEGO, qEHVI) = (63397243.08, 63514173.28), time = 3026.30.\n",
      "Batch 42: Hypervolume (qNParEGO, qEHVI) = (63397243.08, 63514173.28), time = 3108.14.\n",
      "Batch 43: Hypervolume (qNParEGO, qEHVI) = (63397243.08, 63514173.28), time = 3915.67.\n",
      "Batch 44: Hypervolume (qNParEGO, qEHVI) = (63397243.08, 63523206.08), time = 2704.23.\n",
      "Batch 45: Hypervolume (qNParEGO, qEHVI) = (63397243.08, 63523290.43), time = 2078.41.\n",
      "Batch 46: Hypervolume (qNParEGO, qEHVI) = (63397243.08, 63523290.43), time = 1430.84.\n",
      "Batch 47: Hypervolume (qNParEGO, qEHVI) = (63397243.08, 63531531.62), time = 1788.66.\n",
      "Batch 48: Hypervolume (qNParEGO, qEHVI) = (63397243.08, 63531531.62), time = 3542.94.\n",
      "Batch 49: Hypervolume (qNParEGO, qEHVI) = (63398840.32, 63531531.62), time = 1876.73.\n",
      "Batch 50: Hypervolume (qNParEGO, qEHVI) = (63398840.32, 63531531.62), time = 2134.72.\n",
      "Batch 51: Hypervolume (qNParEGO, qEHVI) = (63398840.32, 63531531.62), time = 2170.22.\n",
      "Batch 52: Hypervolume (qNParEGO, qEHVI) = (63462348.46, 63531531.62), time = 2494.72.\n",
      "Batch 53: Hypervolume (qNParEGO, qEHVI) = (63462348.46, 63531531.62), time = 2462.33.\n",
      "Batch 54: Hypervolume (qNParEGO, qEHVI) = (63462348.46, 63531531.62), time = 1866.08.\n",
      "Batch 55: Hypervolume (qNParEGO, qEHVI) = (63462348.46, 63531531.62), time = 2225.58.\n",
      "Batch 56: Hypervolume (qNParEGO, qEHVI) = (63463514.71, 63544081.78), time = 2410.42.\n",
      "Batch 57: Hypervolume (qNParEGO, qEHVI) = (63463514.71, 63544081.78), time = 3225.45.\n",
      "Batch 58: Hypervolume (qNParEGO, qEHVI) = (63463514.71, 63544081.78), time = 4184.39.\n",
      "Batch 59: Hypervolume (qNParEGO, qEHVI) = (63463514.71, 63544081.78), time = 1245.73.\n",
      "Batch 60: Hypervolume (qNParEGO, qEHVI) = (63486445.67, 63548785.16), time = 3990.52.\n",
      "Batch 61: Hypervolume (qNParEGO, qEHVI) = (63486445.67, 63549614.47), time = 1628.28.\n",
      "Batch 62: Hypervolume (qNParEGO, qEHVI) = (63489187.77, 63549614.47), time = 2392.73.\n",
      "Batch 63: Hypervolume (qNParEGO, qEHVI) = (63489187.77, 63557348.43), time = 2004.48.\n",
      "Batch 64: Hypervolume (qNParEGO, qEHVI) = (63489187.77, 63557348.43), time = 2157.31.\n",
      "Batch 65: Hypervolume (qNParEGO, qEHVI) = (63489187.77, 63557348.43), time = 2231.16.\n",
      "Batch 66: Hypervolume (qNParEGO, qEHVI) = (63489187.77, 63557348.43), time = 2108.08.\n",
      "Batch 67: Hypervolume (qNParEGO, qEHVI) = (63501856.24, 63557348.43), time = 1878.88.\n",
      "Batch 68: Hypervolume (qNParEGO, qEHVI) = (63501856.24, 63557348.43), time = 2053.30.\n",
      "Batch 69: Hypervolume (qNParEGO, qEHVI) = (63501856.24, 63557348.43), time = 1633.53.\n",
      "Batch 70: Hypervolume (qNParEGO, qEHVI) = (63545321.76, 63557348.43), time = 1546.73.\n",
      "Batch 71: Hypervolume (qNParEGO, qEHVI) = (63545321.76, 63557348.43), time = 1990.91.\n",
      "Batch 72: Hypervolume (qNParEGO, qEHVI) = (63590385.60, 63557348.43), time = 2213.91.\n",
      "Batch 73: Hypervolume (qNParEGO, qEHVI) = (63590385.60, 63557348.43), time = 2576.33.\n",
      "Batch 74: Hypervolume (qNParEGO, qEHVI) = (63596082.81, 63557348.43), time = 2093.62.\n",
      "Batch 75: Hypervolume (qNParEGO, qEHVI) = (63596082.81, 63557348.43), time = 3254.25.\n",
      "Batch 76: Hypervolume (qNParEGO, qEHVI) = (63596082.81, 63557348.43), time = 3749.77.\n",
      "Batch 77: Hypervolume (qNParEGO, qEHVI) = (63596082.81, 63557348.43), time = 2455.38.\n",
      "Batch 78: Hypervolume (qNParEGO, qEHVI) = (63596082.81, 63557348.43), time = 2298.30.\n",
      "Batch 79: Hypervolume (qNParEGO, qEHVI) = (63602690.24, 63569744.58), time = 2445.34.\n",
      "Batch 80: Hypervolume (qNParEGO, qEHVI) = (63602690.24, 63569744.58), time = 1935.92.\n",
      "Batch 81: Hypervolume (qNParEGO, qEHVI) = (63602690.24, 63569744.58), time = 2249.27.\n",
      "Batch 82: Hypervolume (qNParEGO, qEHVI) = (63602690.24, 63570726.96), time = 2905.59.\n",
      "Batch 83: Hypervolume (qNParEGO, qEHVI) = (63602690.24, 63570826.03), time = 2380.08.\n",
      "Batch 84: Hypervolume (qNParEGO, qEHVI) = (63602690.24, 63570826.03), time = 4322.50.\n",
      "Batch 85: Hypervolume (qNParEGO, qEHVI) = (63602690.24, 63570826.03), time = 1902.59.\n",
      "Batch 86: Hypervolume (qNParEGO, qEHVI) = (63602690.24, 63570826.03), time = 2319.75.\n",
      "Batch 87: Hypervolume (qNParEGO, qEHVI) = (63602690.24, 63570826.03), time = 1613.55.\n",
      "Batch 88: Hypervolume (qNParEGO, qEHVI) = (63602690.24, 63570826.03), time = 1255.67.\n",
      "Batch 89: Hypervolume (qNParEGO, qEHVI) = (63602690.24, 63621552.84), time = 1922.33.\n",
      "Batch 90: Hypervolume (qNParEGO, qEHVI) = (63602690.24, 63621552.84), time = 1540.55.\n",
      "Batch 91: Hypervolume (qNParEGO, qEHVI) = (63604898.83, 63621552.84), time = 2197.80.\n",
      "Batch 92: Hypervolume (qNParEGO, qEHVI) = (63604898.83, 63621552.84), time = 1402.48.\n",
      "Batch 93: Hypervolume (qNParEGO, qEHVI) = (63608702.08, 63621552.84), time = 1430.98.\n",
      "Batch 94: Hypervolume (qNParEGO, qEHVI) = (63608702.08, 63621552.84), time = 1567.89.\n",
      "Batch 95: Hypervolume (qNParEGO, qEHVI) = (63608702.08, 63621552.84), time = 936.33.\n",
      "Batch 96: Hypervolume (qNParEGO, qEHVI) = (63610287.31, 63621552.84), time = 987.02.\n",
      "Batch 97: Hypervolume (qNParEGO, qEHVI) = (63622437.06, 63621555.78), time = 1204.88.\n",
      "Batch 98: Hypervolume (qNParEGO, qEHVI) = (63658300.26, 63621555.78), time = 977.42.\n",
      "Batch 99: Hypervolume (qNParEGO, qEHVI) = (63658300.26, 63621555.78), time = 1877.52.\n",
      "Batch 100: Hypervolume (qNParEGO, qEHVI) = (63658300.26, 63621555.78), time = 1455.58."
     ]
    }
   ],
   "source": [
    "import time\n",
    "import warnings\n",
    "\n",
    "from botorch import fit_gpytorch_mll\n",
    "from botorch.exceptions import BadInitialCandidatesWarning\n",
    "from botorch.sampling.normal import SobolQMCNormalSampler\n",
    "from botorch.utils.multi_objective.box_decompositions.non_dominated import (\n",
    "    NondominatedPartitioning,\n",
    ")\n",
    "from botorch.utils.multi_objective.pareto import is_non_dominated\n",
    "\n",
    "\n",
    "warnings.filterwarnings(\"ignore\", category=BadInitialCandidatesWarning)\n",
    "warnings.filterwarnings(\"ignore\", category=RuntimeWarning)\n",
    "\n",
    "N_BATCH = 100 if not SMOKE_TEST else 4\n",
    "MC_SAMPLES = 64 if not SMOKE_TEST else 16\n",
    "\n",
    "verbose = True\n",
    "\n",
    "hvs_qparego, hvs_qehvi = [], []\n",
    "\n",
    "# call helper functions to generate initial training data and initialize model\n",
    "train_x_qparego, train_obj_qparego, train_obj_true_qparego = generate_initial_data()\n",
    "mll_qparego, model_qparego = initialize_model(train_x_qparego, train_obj_qparego)\n",
    "\n",
    "train_x_qehvi, train_obj_qehvi, train_obj_true_qehvi = (\n",
    "    train_x_qparego,\n",
    "    train_obj_qparego,\n",
    "    train_obj_true_qparego,\n",
    ")\n",
    "mll_qehvi, model_qehvi = initialize_model(train_x_qehvi, train_obj_qehvi)\n",
    "\n",
    "# compute hypervolume\n",
    "bd = NondominatedPartitioning(ref_point=problem.ref_point, Y=train_obj_true_qparego)\n",
    "volume = bd.compute_hypervolume().item()\n",
    "\n",
    "hvs_qparego.append(volume)\n",
    "hvs_qehvi.append(volume)\n",
    "\n",
    "# run N_BATCH rounds of BayesOpt after the initial random batch\n",
    "for iteration in range(1, N_BATCH + 1):\n",
    "\n",
    "    t0 = time.monotonic()\n",
    "\n",
    "    # fit the models\n",
    "    fit_gpytorch_mll(mll_qparego)\n",
    "    fit_gpytorch_mll(mll_qehvi)\n",
    "\n",
    "    # define the qEI and qNEI acquisition modules using a QMC sampler\n",
    "    qparego_sampler = SobolQMCNormalSampler(sample_shape=torch.Size([MC_SAMPLES]))\n",
    "    qehvi_sampler = SobolQMCNormalSampler(sample_shape=torch.Size([MC_SAMPLES]))\n",
    "\n",
    "    # optimize acquisition functions and get new observations\n",
    "    (\n",
    "        new_x_qparego,\n",
    "        new_obj_qparego,\n",
    "        new_obj_true_qparego,\n",
    "    ) = optimize_qnparego_and_get_observation(\n",
    "        model_qparego, train_x_qparego, train_obj_qparego, qparego_sampler\n",
    "    )\n",
    "    new_x_qehvi, new_obj_qehvi, new_obj_true_qehvi = optimize_qehvi_and_get_observation(\n",
    "        model_qehvi, train_x_qehvi, train_obj_qehvi, qehvi_sampler\n",
    "    )\n",
    "\n",
    "    # update training points\n",
    "    train_x_qparego = torch.cat([train_x_qparego, new_x_qparego])\n",
    "    train_obj_qparego = torch.cat([train_obj_qparego, new_obj_qparego])\n",
    "    train_obj_true_qparego = torch.cat([train_obj_true_qparego, new_obj_true_qparego])\n",
    "\n",
    "    train_x_qehvi = torch.cat([train_x_qehvi, new_x_qehvi])\n",
    "    train_obj_qehvi = torch.cat([train_obj_qehvi, new_obj_qehvi])\n",
    "    train_obj_true_qehvi = torch.cat([train_obj_true_qehvi, new_obj_true_qehvi])\n",
    "\n",
    "\n",
    "    # update progress\n",
    "    for hvs_list, train_obj in zip(\n",
    "        (hvs_qparego, hvs_qehvi),\n",
    "        (\n",
    "            train_obj_true_qparego,\n",
    "            train_obj_true_qehvi,\n",
    "        ),\n",
    "    ):\n",
    "        # compute hypervolume\n",
    "        bd = NondominatedPartitioning(ref_point=problem.ref_point, Y=train_obj)\n",
    "        volume = bd.compute_hypervolume().item()\n",
    "        hvs_list.append(volume)\n",
    "\n",
    "    # reinitialize the models so they are ready for fitting on next iteration\n",
    "    # Note: we find improved performance from not warm starting the model hyperparameters\n",
    "    # using the hyperparameters from the previous iteration\n",
    "    mll_qparego, model_qparego = initialize_model(train_x_qparego, train_obj_qparego)\n",
    "    mll_qehvi, model_qehvi = initialize_model(train_x_qehvi, train_obj_qehvi)\n",
    "\n",
    "    t1 = time.monotonic()\n",
    "\n",
    "    torch.cuda.empty_cache()\n",
    "    gc.collect()\n",
    "\n",
    "    if verbose:\n",
    "        print(\n",
    "            f\"\\nBatch {iteration:>2}: Hypervolume (qNParEGO, qEHVI) = \"\n",
    "            f\"({hvs_qparego[-1]:>4.2f}, {hvs_qehvi[-1]:>4.2f}), \"\n",
    "            f\"time = {t1-t0:>4.2f}.\",\n",
    "            end=\"\",\n",
    "        )\n",
    "    else:\n",
    "        print(\".\", end=\"\")"
   ]
  },
  {
   "cell_type": "markdown",
   "metadata": {
    "id": "v70wonHIBdhu",
    "originalKey": "72232578-0908-4292-aca4-d52197890dd6",
    "showInput": false
   },
   "source": [
    "### Plot the results\n",
    "The plot below shows the a common metric of multi-objective optimization performance, the log hypervolume difference: the log difference between the hypervolume of the true pareto front and the hypervolume of the approximate pareto front identified by each algorithm. The log hypervolume difference is plotted at each step of the optimization for each of the algorithms.\n",
    "\n",
    "The plot shows that $q$NEHVI outperforms $q$EHVI and $q$ParEGO."
   ]
  },
  {
   "cell_type": "code",
   "execution_count": 18,
   "metadata": {
    "collapsed": false,
    "customOutput": null,
    "executionInfo": {
     "elapsed": 1221479,
     "status": "aborted",
     "timestamp": 1747909342224,
     "user": {
      "displayName": "Deepak L",
      "userId": "17343563887203968144"
     },
     "user_tz": -330
    },
    "executionStartTime": 1668649857076,
    "executionStopTime": 1668649858100,
    "id": "FyLWlXS5Bdhu",
    "jupyter": {
     "outputs_hidden": false
    },
    "originalKey": "c9560130-5c74-4b2b-b24a-fd7618ee7822",
    "requestMsgId": "d6978d53-90e4-476b-bb1d-75010f65dcd6",
    "scrolled": true
   },
   "outputs": [
    {
     "data": {
      "text/plain": [
       "<matplotlib.legend.Legend at 0x1f442d8f680>"
      ]
     },
     "execution_count": 18,
     "metadata": {},
     "output_type": "execute_result"
    },
    {
     "data": {
      "image/png": "[encoded data removed]",
      "text/plain": [
       "<Figure size 800x600 with 1 Axes>"
      ]
     },
     "metadata": {},
     "output_type": "display_data"
    }
   ],
   "source": [
    "import numpy as np\n",
    "from matplotlib import pyplot as plt\n",
    "\n",
    "%matplotlib inline\n",
    "\n",
    "\n",
    "iters = np.arange(N_BATCH + 1) * BATCH_SIZE\n",
    "log_hv_difference_qparego = np.log10(problem.max_hv - np.asarray(hvs_qparego))\n",
    "log_hv_difference_qehvi = np.log10(problem.max_hv - np.asarray(hvs_qehvi))\n",
    "\n",
    "fig, ax = plt.subplots(1, 1, figsize=(8, 6))\n",
    "ax.errorbar(\n",
    "    iters,\n",
    "    log_hv_difference_qparego,\n",
    "    label=\"qNParEGO\",\n",
    "    linewidth=1.5,\n",
    ")\n",
    "ax.errorbar(\n",
    "    iters,\n",
    "    log_hv_difference_qehvi,\n",
    "    label=\"qEHVI\",\n",
    "    linewidth=1.5,\n",
    ")\n",
    "ax.set(\n",
    "    xlabel=\"number of observations (beyond initial points)\",\n",
    "    ylabel=\"Log Hypervolume Difference\",\n",
    ")\n",
    "ax.legend(loc=\"lower left\")"
   ]
  },
  {
   "cell_type": "markdown",
   "metadata": {
    "collapsed": true,
    "id": "zCutcS6HBdhv",
    "jupyter": {
     "outputs_hidden": true
    },
    "originalKey": "824c329c-6c02-4f67-bce0-a4c57ea655d8",
    "showInput": false
   },
   "source": [
    "#### Plot the true objectives at the evaluated designs colored by iteration\n",
    "\n",
    "To examine optimization process from another perspective, we plot the true function values at the designs selected under each algorithm where the color corresponds to the BO iteration at which the point was collected. The plot on the right for $q$NEHVI shows that the $q$NEHVI quickly identifies the pareto front and most of its evaluations are very close to the pareto front. $q$NParEGO also identifies has many observations close to the pareto front, but relies on optimizing random scalarizations, which is a less principled way of optimizing the pareto front compared to $q$NEHVI, which explicitly attempts focuses on improving the pareto front. $q$EHVI uses the posterior mean as a plug-in estimator for the true function values at the in-sample points, whereas $q$NEHVI than integrating over the uncertainty at the in-sample designs Sobol generates random points and has few points close to the Pareto front."
   ]
  },
  {
   "cell_type": "code",
   "execution_count": 19,
   "metadata": {
    "collapsed": false,
    "customOutput": null,
    "executionInfo": {
     "elapsed": 1221478,
     "status": "aborted",
     "timestamp": 1747909342225,
     "user": {
      "displayName": "Deepak L",
      "userId": "17343563887203968144"
     },
     "user_tz": -330
    },
    "executionStartTime": 1668649858641,
    "executionStopTime": 1668649859522,
    "id": "uWk2NqHCBdhv",
    "jupyter": {
     "outputs_hidden": false
    },
    "originalKey": "cf610a77-3e82-4c30-ac7b-f7a97fa91fa5",
    "requestMsgId": "afb07e9c-ebaf-4a8e-90e3-ca426532de20",
    "scrolled": true
   },
   "outputs": [],
   "source": [
    "# from matplotlib.cm import ScalarMappable\n",
    "\n",
    "\n",
    "# pareto_front = -problem.gen_pareto_front(n=1000).cpu().numpy()\n",
    "\n",
    "# fig, axes = plt.subplots(1, 2, figsize=(18, 7), sharex=True, sharey=True)\n",
    "# algos = [\"qNParEGO\", \"qEHVI\"]\n",
    "# cm = plt.get_cmap(\"viridis\")\n",
    "\n",
    "# batch_number = torch.cat(\n",
    "#     [\n",
    "#         torch.zeros(11 * problem.dim - 1),\n",
    "#         torch.arange(1, N_BATCH + 1).repeat(BATCH_SIZE, 1).t().reshape(-1),\n",
    "#     ]\n",
    "# ).numpy()\n",
    "# for i, train_obj in enumerate(\n",
    "#     (\n",
    "#         train_obj_true_qparego,\n",
    "#         train_obj_true_qehvi,\n",
    "#     )\n",
    "# ):\n",
    "#     sc = axes[i].scatter(\n",
    "#         -train_obj[:, 0].cpu().numpy(),\n",
    "#         -train_obj[:, 1].cpu().numpy(),\n",
    "#         c=batch_number,\n",
    "#         alpha=0.8,\n",
    "#     )\n",
    "#     axes[i].plot(pareto_front[:, 0], pareto_front[:, 1], \"r--\", label=\"Pareto Front\")\n",
    "#     axes[i].set_title(algos[i])\n",
    "#     axes[i].set_xlabel(\"Objective 1\")\n",
    "#     axes[i].legend()\n",
    "# axes[0].set_ylabel(\"Objective 2\")\n",
    "# norm = plt.Normalize(batch_number.min(), batch_number.max())\n",
    "# sm = ScalarMappable(norm=norm, cmap=plt.get_cmap(\"viridis\"))\n",
    "# sm.set_array([])\n",
    "# fig.subplots_adjust(right=0.9)\n",
    "# cbar_ax = fig.add_axes([0.93, 0.15, 0.01, 0.7])\n",
    "# cbar = fig.colorbar(sm, cax=cbar_ax)\n",
    "# cbar.ax.set_title(\"Iteration\")"
   ]
  },
  {
   "cell_type": "code",
   "execution_count": 20,
   "metadata": {
    "executionInfo": {
     "elapsed": 1221483,
     "status": "aborted",
     "timestamp": 1747909342231,
     "user": {
      "displayName": "Deepak L",
      "userId": "17343563887203968144"
     },
     "user_tz": -330
    },
    "id": "328eqjxR4XCR"
   },
   "outputs": [],
   "source": [
    "# import matplotlib.pyplot as plt\n",
    "\n",
    "# # Assume train_obj_true_qparego and train_obj_true_qehvi are torch tensors\n",
    "# # and problem.dim is defined, as well as pareto_front\n",
    "\n",
    "# fig, axes = plt.subplots(1, 2, figsize=(15, 7), sharex=True, sharey=True)\n",
    "# algos = [\"qNParEGO\", \"qEHVI\"]\n",
    "\n",
    "# for i, train_obj in enumerate((train_obj_true_qparego, train_obj_true_qehvi)):\n",
    "#     axes[i].scatter(\n",
    "#         -train_obj[:n_initial, 0].cpu().numpy(),\n",
    "#         -train_obj[:n_initial, 1].cpu().numpy(),\n",
    "#         c=\"deepskyblue\", s=80, alpha=0.8, label=\"Training Points\"\n",
    "#     )\n",
    "#     axes[i].plot(\n",
    "#         pareto_front[:, 0], pareto_front[:, 1], \"r--\", label=\"Pareto Front\"\n",
    "#     )\n",
    "#     axes[i].set_title(algos[i])\n",
    "#     axes[i].set_xlabel(\"Objective 1\")\n",
    "#     axes[i].legend()\n",
    "# axes[0].set_ylabel(\"Objective 2\")\n",
    "# plt.tight_layout()\n",
    "# plt.show()\n"
   ]
  },
  {
   "cell_type": "code",
   "execution_count": 21,
   "metadata": {
    "executionInfo": {
     "elapsed": 1221486,
     "status": "aborted",
     "timestamp": 1747909342236,
     "user": {
      "displayName": "Deepak L",
      "userId": "17343563887203968144"
     },
     "user_tz": -330
    },
    "id": "cbz-yjOu4bzq"
   },
   "outputs": [],
   "source": [
    "# import matplotlib.pyplot as plt\n",
    "# import numpy as np\n",
    "# from matplotlib.cm import ScalarMappable\n",
    "# from plotly.subplots import make_subplots\n",
    "# import plotly.graph_objects as go\n",
    "\n",
    "# # Generate the Pareto front (assuming this is already defined)\n",
    "# pareto_front = -problem.gen_pareto_front(n=1000).cpu().numpy()\n",
    "\n",
    "# # Number of points per batch\n",
    "# batch_size = 50\n",
    "\n",
    "# # Plot batches of points after skipping initial training points\n",
    "# def plot_batches_after_training(train_obj_true_qparego, train_obj_true_qehvi, pareto_front, n_initial, batch_size):\n",
    "#     algos = [\"qNParEGO\", \"qEHVI\"]\n",
    "#     train_objs = [train_obj_true_qparego, train_obj_true_qehvi]\n",
    "\n",
    "#     # Calculate total points in each train_obj\n",
    "#     total_points = train_obj_true_qparego.shape[0]\n",
    "\n",
    "#     # Calculate number of points after initial training\n",
    "#     n_remaining = total_points - n_initial\n",
    "\n",
    "#     # Calculate number of plots needed\n",
    "#     n_plots = (n_remaining + batch_size - 1) // batch_size\n",
    "\n",
    "#     for plot_idx in range(n_plots):\n",
    "#         fig, axes = plt.subplots(1, 2, figsize=(15, 7), sharex=True, sharey=True)\n",
    "#         cm = plt.get_cmap(\"viridis\")\n",
    "\n",
    "#         start_idx = n_initial + plot_idx * batch_size\n",
    "#         end_idx = min(start_idx + batch_size, total_points)\n",
    "\n",
    "#         for i, train_obj in enumerate(train_objs):\n",
    "#             # Get the current batch of points\n",
    "#             batch_points = train_obj[start_idx:end_idx]\n",
    "\n",
    "#             # Generate indices for coloring (relative to this batch)\n",
    "#             indices = np.arange(end_idx - start_idx)\n",
    "\n",
    "#             # Plot the points\n",
    "#             sc = axes[i].scatter(\n",
    "#                 -batch_points[:, 0].cpu().numpy(),\n",
    "#                 -batch_points[:, 1].cpu().numpy(),\n",
    "#                 c=indices,\n",
    "#                 cmap=cm,\n",
    "#                 alpha=0.8\n",
    "#             )\n",
    "\n",
    "#             # Plot Pareto front\n",
    "#             axes[i].plot(pareto_front[:, 0], pareto_front[:, 1], \"r--\", label=\"Pareto Front\")\n",
    "\n",
    "#             # Set titles and labels\n",
    "#             axes[i].set_title(f\"{algos[i]} (Batch {plot_idx+1}: {len(indices)} points)\")\n",
    "#             axes[i].set_xlabel(\"Objective 1\")\n",
    "#             axes[i].legend()\n",
    "\n",
    "#         axes[0].set_ylabel(\"Objective 2\")\n",
    "\n",
    "#         # Add colorbar\n",
    "#         norm = plt.Normalize(indices.min(), indices.max())\n",
    "#         sm = ScalarMappable(norm=norm, cmap=cm)\n",
    "#         sm.set_array([])\n",
    "#         fig.subplots_adjust(right=0.9)\n",
    "#         cbar_ax = fig.add_axes([0.93, 0.15, 0.01, 0.7])\n",
    "#         cbar = fig.colorbar(sm, cax=cbar_ax)\n",
    "#         cbar.ax.set_title(\"Point Index\")\n",
    "\n",
    "#         plt.tight_layout(rect=[0, 0, 0.92, 1])\n",
    "#         plt.show()\n",
    "\n",
    "# # Call the function to generate the plots\n",
    "# plot_batches_after_training(train_obj_true_qparego, train_obj_true_qehvi, pareto_front, n_initial, batch_size)\n"
   ]
  },
  {
   "cell_type": "code",
   "execution_count": 22,
   "metadata": {
    "executionInfo": {
     "elapsed": 1221486,
     "status": "aborted",
     "timestamp": 1747909342237,
     "user": {
      "displayName": "Deepak L",
      "userId": "17343563887203968144"
     },
     "user_tz": -330
    },
    "id": "93EOnepy-IC0"
   },
   "outputs": [],
   "source": [
    "# def plot_pareto_front_2d(train_obj_true_qparego, train_obj_true_qehvi, pareto_front=None):\n",
    "#     if pareto_front is None:\n",
    "#         pareto_front = -problem.gen_pareto_front(n=1000).cpu().numpy()\n",
    "\n",
    "#     fig = make_subplots(rows=1, cols=2,\n",
    "#                        subplot_titles=(\"qNParEGO\", \"qEHVI\"),\n",
    "#                        horizontal_spacing=0.1)\n",
    "\n",
    "#     batch_number = torch.cat(\n",
    "#         [\n",
    "#             torch.zeros(n_initial),\n",
    "#             torch.arange(1, N_BATCH + 1).repeat(BATCH_SIZE, 1).t().reshape(-1),\n",
    "#         ]\n",
    "#     ).numpy()\n",
    "\n",
    "#     for i, (train_obj, title) in enumerate([(train_obj_true_qparego, \"qNParEGO\"),\n",
    "#                                            (train_obj_true_qehvi, \"qEHVI\")], 1):\n",
    "#         # Convert to numpy\n",
    "#         obj_np = -train_obj.cpu().numpy()\n",
    "\n",
    "#         # Add scatter plot for objective values\n",
    "#         fig.add_trace(\n",
    "#             go.Scatter(\n",
    "#                 x=obj_np[:, 0],\n",
    "#                 y=obj_np[:, 1],\n",
    "#                 mode='markers',\n",
    "#                 marker=dict(\n",
    "#                     size=8,\n",
    "#                     color=batch_number[:len(obj_np)],\n",
    "#                     colorscale='Viridis',\n",
    "#                     colorbar=dict(title='Iteration') if i == 2 else None,\n",
    "#                     opacity=0.7\n",
    "#                 ),\n",
    "#                 name=title\n",
    "#             ),\n",
    "#             row=1, col=i\n",
    "#         )\n",
    "\n",
    "#         # Add Pareto front\n",
    "#         fig.add_trace(\n",
    "#             go.Scatter(\n",
    "#                 x=pareto_front[:, 0],\n",
    "#                 y=pareto_front[:, 1],\n",
    "#                 mode='lines',\n",
    "#                 line=dict(color='red', width=2),\n",
    "#                 name='True Pareto Front'\n",
    "#             ),\n",
    "#             row=1, col=i\n",
    "#         )\n",
    "\n",
    "#     # Update layout\n",
    "#     fig.update_layout(\n",
    "#         height=500,\n",
    "#         width=1200,\n",
    "#         showlegend=False,\n",
    "#         title_text=\"Objective Space - DTLZ1a with 2 Objectives\",\n",
    "#     )\n",
    "\n",
    "#     # Set consistent axis ranges\n",
    "#     fig.update_xaxes(title_text=\"Objective 1\", range=[0, 0.5], row=1, col=1)\n",
    "#     fig.update_yaxes(title_text=\"Objective 2\", range=[0, 0.5], row=1, col=1)\n",
    "#     fig.update_xaxes(title_text=\"Objective 1\", range=[0, 0.5], row=1, col=2)\n",
    "#     fig.update_yaxes(title_text=\"Objective 2\", range=[0, 0.5], row=1, col=2)\n",
    "\n",
    "#     return fig\n",
    "\n",
    "# plot_pareto_front_2d(train_obj_true_qparego, train_obj_true_qehvi)"
   ]
  },
  {
   "cell_type": "markdown",
   "metadata": {
    "id": "rEgC0R4V6cxc"
   },
   "source": [
    "####plots if is obj =3"
   ]
  },
  {
   "cell_type": "code",
   "execution_count": 23,
   "metadata": {
    "executionInfo": {
     "elapsed": 1221486,
     "status": "aborted",
     "timestamp": 1747909342238,
     "user": {
      "displayName": "Deepak L",
      "userId": "17343563887203968144"
     },
     "user_tz": -330
    },
    "id": "mg_wnvuzQvVN"
   },
   "outputs": [],
   "source": [
    "import plotly.graph_objects as go\n",
    "import plotly.io as pio\n",
    "from plotly.subplots import make_subplots\n",
    "import numpy as np\n",
    "\n",
    "def create_pareto_surface(problem, n=1000):\n",
    "    # Generate Pareto front using the problem's built-in method\n",
    "    pareto_front = -problem.gen_pareto_front(n).cpu().numpy()\n",
    "\n",
    "    if problem.num_objectives == 3:\n",
    "        # Create Mesh3d trace for 3D problems\n",
    "        return go.Mesh3d(\n",
    "            x=pareto_front[:, 0],\n",
    "            y=pareto_front[:, 1],\n",
    "            z=pareto_front[:, 2],\n",
    "            color='red',\n",
    "            opacity=0.3,\n",
    "            intensity=pareto_front[:, 2],\n",
    "            colorscale='Reds',\n",
    "            showscale=False,\n",
    "            name='Pareto Front'\n",
    "        )\n",
    "    else:\n",
    "        raise ValueError(\"Only 3D visualization is supported in this implementation\")\n",
    "\n"
   ]
  },
  {
   "cell_type": "code",
   "execution_count": 24,
   "metadata": {
    "executionInfo": {
     "elapsed": 1221486,
     "status": "aborted",
     "timestamp": 1747909342239,
     "user": {
      "displayName": "Deepak L",
      "userId": "17343563887203968144"
     },
     "user_tz": -330
    },
    "id": "3nhpwmwhSHVO"
   },
   "outputs": [
    {
     "data": {
      "application/vnd.plotly.v1+json": {
       "config": {
        "plotlyServerURL": "https://plot.ly"
       },
       "data": [
        {
         "marker": {
          "color": "deepskyblue",
          "opacity": 0.8,
          "size": 4
         },
         "mode": "markers",
         "name": "qNParEGO",
         "scene": "scene",
         "type": "scatter3d",
         "x": {
          "bdata": "OhDeUysqXUCCh/GsE64pQOtzcZ/tLDdAOm31MGAKPEB22/B20RdgQJfjDa0fAgNASE0bABtbN0A0QXAMrKVYQDb1TN86s1lAiWa3ihXiI0CY/yK6GRhKQH7GNfM0xk5Awfx3GjE6VUAgtKAMUKghQLJHxqSH9ihA9mMdrOgfQEBgxuyYvrdcQBZnW5WMpos/2RZdTLscVUD2rVK2+WRIQIdvKDT3d1RAUwWzod9pMUDxNYe6TiA5QBNoym4mo0FAxHQiAsI/cEBkY9NyX7wiQD286FATm2FANJkIUHBNJEDupFldaV1DQA9BmaIvURBAQ2+bdIkIHUDSGZpmjHVMQGJl96FArGVAj2ELUoegB0CzPcvlOF41QLzkqwM5QVRAzcIb7phzYED7456276U/QD7HLuXAxi9AVuXRTdg37T9cEy4FfcxiQB79gITHPi1AmZh6DbtCWEDif/kb6LU9QDOoR1NRq1hA8SiIQrpeEkBkwF+bL3kGQNQhp4XS90hAAktEnCwbYUCYMaXfuQ4KQJAlGh7eTVZAX+8wB4h5IkDcalepKoBgQO9S4s5Q+DlAgEtLr86lM0BUj7cLI6dPQJtggIhwqXBA/2g5pNjx6T8KVdR1NuNGQC8EUjAQzktAk6niaa+MV0CuL/4ScBlEQAcgaPy2czNAwQvjU4L5NEBr3s/hqgNgQA==",
          "dtype": "f8"
         },
         "y": {
          "bdata": "1J9Eo6Z8VkBLyELwHFwtQFJEsTGxpxZApJbom4q5YUC+u2E8NKUxQGACPTA0mlVAhA9+TVDfIEB9cBGN9/5lQHMJivsKbDNAg7KAk0ssRUB9+4FSryxGQFu6GbuujVRAvE/Q08aiRkAYmSM5A+85QAg+hYHRqso/Kkx8jl9JcEA1JXIqCGMbQPTozQoVB8I/IWVCHi5gREA/DykUUEJdQNFYG3cyaFRAme5L7LuIOUBRfVq28NAPQK9SWGSKdl1AzdXAihhLWkDBakIBG/ozQKttbuDfmChAOQ+hxU2eaEAmApChzbklQKRR/zo0fDxANMhlNe32EkBgT9T8KMJNQPa6vTTjsEdAeEDquwBNKkC2eh1S5xEvQGkWNl9eiFhAqA2Kg2ttSUA5/Zl8NKhKQP1qNTVDQv0/q5bPepnKV0DfgND0gMpdQCk+6eeG9zRAgpF5CAMyNEBFHtyeSBBdQDM5x1f6qck/hlgo+16sRUDWxzEAWfL5P107KDYPr2BAU77lJCPjUUCtSvqU27YcQFyuhaTPfQ9AzK7etXEXXUCtsDyCMjk3QEc3LQgaL1RAjCzVrU5OMkC8kgkCiuZYQHh1kxt6CjJAqSOdfVxnOECTpClQlLUzQGeMtBnR8FtAWbU+2ioBTUAkLZVRIzlGQIo/BNAMJxhA+hr6AexhX0Buhkvjdl8rQA==",
          "dtype": "f8"
         },
         "z": {
          "bdata": "nAlSb3CNS0C2Sl1Y4VBqQOqaIisGfFRAC9FQ2EFrXkAk9SCZiHJVQJ8OC7VTl1lAft5GSYJYZEBbRQfi+sT8P5pqWIISpSNA5OAUQUObZUBRDFo8jbxiQDpEIxBfeE5AHkbgyyfvXEBVFHxYFR1TQDMS4knfFmlAsb8XarGISkBEp3C4xMc2QDpueKZqOHFAD1VpqH16akDVQ6PmZB5iQEfuAfePFE1AKL+x2ni+TUDjT/7LzkJcQGAZ4K813zJABp7pSlJGNkC+eoUSOItkQCGk77YdCmVAYGF5ASczWEDFS/INVF1AQEMlTjmErFJAErzj2vE6Y0AW7FRGhG1BQFG2n3Zj7VBATmKtxw88Z0DS18MopSBWQN1WTPslUlxAsgCpNoqlV0Ad/uVKoYpVQCicxpYn2V5AGcaTAGTvCUBntddklcA/QM7FIr8XGGJA8zFMAceJY0BWqwXq8FhLQGH7Uot0s1NAaih7wPAeVkAbqSlj31lkQIGRTxM0eERA8USCJF+OP0Ckicr52FJwQFF5qVWhp2ZAGk4588G3XkD22TPUSQlQQOsi14WlRmVA8b9nvkvyXUCf9gETSX0uQDTFpZ31piBAzDjnUMndW0BuFNpL1ApVQKFp9wkGGlZAqQn6ceXcW0DGOr4SqBVtQKweNcHshWpALjHl5qE+QkDIKpLwxaZAQA==",
          "dtype": "f8"
         }
        },
        {
         "color": "red",
         "colorscale": [
          [
           0,
           "rgb(255,245,240)"
          ],
          [
           0.125,
           "rgb(254,224,210)"
          ],
          [
           0.25,
           "rgb(252,187,161)"
          ],
          [
           0.375,
           "rgb(252,146,114)"
          ],
          [
           0.5,
           "rgb(251,106,74)"
          ],
          [
           0.625,
           "rgb(239,59,44)"
          ],
          [
           0.75,
           "rgb(203,24,29)"
          ],
          [
           0.875,
           "rgb(165,15,21)"
          ],
          [
           1,
           "rgb(103,0,13)"
          ]
         ],
         "intensity": {
          "bdata": "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",
          "dtype": "f8"
         },
         "name": "Pareto Front",
         "opacity": 0.3,
         "scene": "scene",
         "showscale": false,
         "type": "mesh3d",
         "x": {
          "bdata": "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",
          "dtype": "f8"
         },
         "y": {
          "bdata": "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",
          "dtype": "f8"
         },
         "z": {
          "bdata": "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",
          "dtype": "f8"
         }
        },
        {
         "marker": {
          "color": "deepskyblue",
          "opacity": 0.8,
          "size": 4
         },
         "mode": "markers",
         "name": "qEHVI",
         "scene": "scene2",
         "type": "scatter3d",
         "x": {
          "bdata": "OhDeUysqXUCCh/GsE64pQOtzcZ/tLDdAOm31MGAKPEB22/B20RdgQJfjDa0fAgNASE0bABtbN0A0QXAMrKVYQDb1TN86s1lAiWa3ihXiI0CY/yK6GRhKQH7GNfM0xk5Awfx3GjE6VUAgtKAMUKghQLJHxqSH9ihA9mMdrOgfQEBgxuyYvrdcQBZnW5WMpos/2RZdTLscVUD2rVK2+WRIQIdvKDT3d1RAUwWzod9pMUDxNYe6TiA5QBNoym4mo0FAxHQiAsI/cEBkY9NyX7wiQD286FATm2FANJkIUHBNJEDupFldaV1DQA9BmaIvURBAQ2+bdIkIHUDSGZpmjHVMQGJl96FArGVAj2ELUoegB0CzPcvlOF41QLzkqwM5QVRAzcIb7phzYED7456276U/QD7HLuXAxi9AVuXRTdg37T9cEy4FfcxiQB79gITHPi1AmZh6DbtCWEDif/kb6LU9QDOoR1NRq1hA8SiIQrpeEkBkwF+bL3kGQNQhp4XS90hAAktEnCwbYUCYMaXfuQ4KQJAlGh7eTVZAX+8wB4h5IkDcalepKoBgQO9S4s5Q+DlAgEtLr86lM0BUj7cLI6dPQJtggIhwqXBA/2g5pNjx6T8KVdR1NuNGQC8EUjAQzktAk6niaa+MV0CuL/4ScBlEQAcgaPy2czNAwQvjU4L5NEBr3s/hqgNgQA==",
          "dtype": "f8"
         },
         "y": {
          "bdata": "1J9Eo6Z8VkBLyELwHFwtQFJEsTGxpxZApJbom4q5YUC+u2E8NKUxQGACPTA0mlVAhA9+TVDfIEB9cBGN9/5lQHMJivsKbDNAg7KAk0ssRUB9+4FSryxGQFu6GbuujVRAvE/Q08aiRkAYmSM5A+85QAg+hYHRqso/Kkx8jl9JcEA1JXIqCGMbQPTozQoVB8I/IWVCHi5gREA/DykUUEJdQNFYG3cyaFRAme5L7LuIOUBRfVq28NAPQK9SWGSKdl1AzdXAihhLWkDBakIBG/ozQKttbuDfmChAOQ+hxU2eaEAmApChzbklQKRR/zo0fDxANMhlNe32EkBgT9T8KMJNQPa6vTTjsEdAeEDquwBNKkC2eh1S5xEvQGkWNl9eiFhAqA2Kg2ttSUA5/Zl8NKhKQP1qNTVDQv0/q5bPepnKV0DfgND0gMpdQCk+6eeG9zRAgpF5CAMyNEBFHtyeSBBdQDM5x1f6qck/hlgo+16sRUDWxzEAWfL5P107KDYPr2BAU77lJCPjUUCtSvqU27YcQFyuhaTPfQ9AzK7etXEXXUCtsDyCMjk3QEc3LQgaL1RAjCzVrU5OMkC8kgkCiuZYQHh1kxt6CjJAqSOdfVxnOECTpClQlLUzQGeMtBnR8FtAWbU+2ioBTUAkLZVRIzlGQIo/BNAMJxhA+hr6AexhX0Buhkvjdl8rQA==",
          "dtype": "f8"
         },
         "z": {
          "bdata": "nAlSb3CNS0C2Sl1Y4VBqQOqaIisGfFRAC9FQ2EFrXkAk9SCZiHJVQJ8OC7VTl1lAft5GSYJYZEBbRQfi+sT8P5pqWIISpSNA5OAUQUObZUBRDFo8jbxiQDpEIxBfeE5AHkbgyyfvXEBVFHxYFR1TQDMS4knfFmlAsb8XarGISkBEp3C4xMc2QDpueKZqOHFAD1VpqH16akDVQ6PmZB5iQEfuAfePFE1AKL+x2ni+TUDjT/7LzkJcQGAZ4K813zJABp7pSlJGNkC+eoUSOItkQCGk77YdCmVAYGF5ASczWEDFS/INVF1AQEMlTjmErFJAErzj2vE6Y0AW7FRGhG1BQFG2n3Zj7VBATmKtxw88Z0DS18MopSBWQN1WTPslUlxAsgCpNoqlV0Ad/uVKoYpVQCicxpYn2V5AGcaTAGTvCUBntddklcA/QM7FIr8XGGJA8zFMAceJY0BWqwXq8FhLQGH7Uot0s1NAaih7wPAeVkAbqSlj31lkQIGRTxM0eERA8USCJF+OP0Ckicr52FJwQFF5qVWhp2ZAGk4588G3XkD22TPUSQlQQOsi14WlRmVA8b9nvkvyXUCf9gETSX0uQDTFpZ31piBAzDjnUMndW0BuFNpL1ApVQKFp9wkGGlZAqQn6ceXcW0DGOr4SqBVtQKweNcHshWpALjHl5qE+QkDIKpLwxaZAQA==",
          "dtype": "f8"
         }
        },
        {
         "color": "red",
         "colorscale": [
          [
           0,
           "rgb(255,245,240)"
          ],
          [
           0.125,
           "rgb(254,224,210)"
          ],
          [
           0.25,
           "rgb(252,187,161)"
          ],
          [
           0.375,
           "rgb(252,146,114)"
          ],
          [
           0.5,
           "rgb(251,106,74)"
          ],
          [
           0.625,
           "rgb(239,59,44)"
          ],
          [
           0.75,
           "rgb(203,24,29)"
          ],
          [
           0.875,
           "rgb(165,15,21)"
          ],
          [
           1,
           "rgb(103,0,13)"
          ]
         ],
         "intensity": {
          "bdata": "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",
          "dtype": "f8"
         },
         "name": "Pareto Front",
         "opacity": 0.3,
         "scene": "scene2",
         "showscale": false,
         "type": "mesh3d",
         "x": {
          "bdata": "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",
          "dtype": "f8"
         },
         "y": {
          "bdata": "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",
          "dtype": "f8"
         },
         "z": {
          "bdata": "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",
          "dtype": "f8"
         }
        }
       ],
       "layout": {
        "annotations": [
         {
          "font": {
           "size": 16
          },
          "showarrow": false,
          "text": "qNParEGO",
          "x": 0.225,
          "xanchor": "center",
          "xref": "paper",
          "y": 1,
          "yanchor": "bottom",
          "yref": "paper"
         },
         {
          "font": {
           "size": 16
          },
          "showarrow": false,
          "text": "qEHVI",
          "x": 0.775,
          "xanchor": "center",
          "xref": "paper",
          "y": 1,
          "yanchor": "bottom",
          "yref": "paper"
         }
        ],
        "height": 600,
        "scene": {
         "camera": {
          "eye": {
           "x": 1.5,
           "y": 1.5,
           "z": 0.6
          }
         },
         "domain": {
          "x": [
           0,
           0.45
          ],
          "y": [
           0,
           1
          ]
         },
         "xaxis": {
          "title": {
           "text": "Objective 1"
          }
         },
         "yaxis": {
          "title": {
           "text": "Objective 2"
          }
         },
         "zaxis": {
          "title": {
           "text": "Objective 3"
          }
         }
        },
        "scene2": {
         "camera": {
          "eye": {
           "x": 1.5,
           "y": 1.5,
           "z": 0.6
          }
         },
         "domain": {
          "x": [
           0.55,
           1
          ],
          "y": [
           0,
           1
          ]
         },
         "xaxis": {
          "title": {
           "text": "Objective 1"
          }
         },
         "yaxis": {
          "title": {
           "text": "Objective 2"
          }
         },
         "zaxis": {
          "title": {
           "text": "Objective 3"
          }
         }
        },
        "showlegend": false,
        "template": {
         "data": {
          "bar": [
           {
            "error_x": {
             "color": "#2a3f5f"
            },
            "error_y": {
             "color": "#2a3f5f"
            },
            "marker": {
             "line": {
              "color": "#E5ECF6",
              "width": 0.5
             },
             "pattern": {
              "fillmode": "overlay",
              "size": 10,
              "solidity": 0.2
             }
            },
            "type": "bar"
           }
          ],
          "barpolar": [
           {
            "marker": {
             "line": {
              "color": "#E5ECF6",
              "width": 0.5
             },
             "pattern": {
              "fillmode": "overlay",
              "size": 10,
              "solidity": 0.2
             }
            },
            "type": "barpolar"
           }
          ],
          "carpet": [
           {
            "aaxis": {
             "endlinecolor": "#2a3f5f",
             "gridcolor": "white",
             "linecolor": "white",
             "minorgridcolor": "white",
             "startlinecolor": "#2a3f5f"
            },
            "baxis": {
             "endlinecolor": "#2a3f5f",
             "gridcolor": "white",
             "linecolor": "white",
             "minorgridcolor": "white",
             "startlinecolor": "#2a3f5f"
            },
            "type": "carpet"
           }
          ],
          "choropleth": [
           {
            "colorbar": {
             "outlinewidth": 0,
             "ticks": ""
            },
            "type": "choropleth"
           }
          ],
          "contour": [
           {
            "colorbar": {
             "outlinewidth": 0,
             "ticks": ""
            },
            "colorscale": [
             [
              0,
              "#0d0887"
             ],
             [
              0.1111111111111111,
              "#46039f"
             ],
             [
              0.2222222222222222,
              "#7201a8"
             ],
             [
              0.3333333333333333,
              "#9c179e"
             ],
             [
              0.4444444444444444,
              "#bd3786"
             ],
             [
              0.5555555555555556,
              "#d8576b"
             ],
             [
              0.6666666666666666,
              "#ed7953"
             ],
             [
              0.7777777777777778,
              "#fb9f3a"
             ],
             [
              0.8888888888888888,
              "#fdca26"
             ],
             [
              1,
              "#f0f921"
             ]
            ],
            "type": "contour"
           }
          ],
          "contourcarpet": [
           {
            "colorbar": {
             "outlinewidth": 0,
             "ticks": ""
            },
            "type": "contourcarpet"
           }
          ],
          "heatmap": [
           {
            "colorbar": {
             "outlinewidth": 0,
             "ticks": ""
            },
            "colorscale": [
             [
              0,
              "#0d0887"
             ],
             [
              0.1111111111111111,
              "#46039f"
             ],
             [
              0.2222222222222222,
              "#7201a8"
             ],
             [
              0.3333333333333333,
              "#9c179e"
             ],
             [
              0.4444444444444444,
              "#bd3786"
             ],
             [
              0.5555555555555556,
              "#d8576b"
             ],
             [
              0.6666666666666666,
              "#ed7953"
             ],
             [
              0.7777777777777778,
              "#fb9f3a"
             ],
             [
              0.8888888888888888,
              "#fdca26"
             ],
             [
              1,
              "#f0f921"
             ]
            ],
            "type": "heatmap"
           }
          ],
          "histogram": [
           {
            "marker": {
             "pattern": {
              "fillmode": "overlay",
              "size": 10,
              "solidity": 0.2
             }
            },
            "type": "histogram"
           }
          ],
          "histogram2d": [
           {
            "colorbar": {
             "outlinewidth": 0,
             "ticks": ""
            },
            "colorscale": [
             [
              0,
              "#0d0887"
             ],
             [
              0.1111111111111111,
              "#46039f"
             ],
             [
              0.2222222222222222,
              "#7201a8"
             ],
             [
              0.3333333333333333,
              "#9c179e"
             ],
             [
              0.4444444444444444,
              "#bd3786"
             ],
             [
              0.5555555555555556,
              "#d8576b"
             ],
             [
              0.6666666666666666,
              "#ed7953"
             ],
             [
              0.7777777777777778,
              "#fb9f3a"
             ],
             [
              0.8888888888888888,
              "#fdca26"
             ],
             [
              1,
              "#f0f921"
             ]
            ],
            "type": "histogram2d"
           }
          ],
          "histogram2dcontour": [
           {
            "colorbar": {
             "outlinewidth": 0,
             "ticks": ""
            },
            "colorscale": [
             [
              0,
              "#0d0887"
             ],
             [
              0.1111111111111111,
              "#46039f"
             ],
             [
              0.2222222222222222,
              "#7201a8"
             ],
             [
              0.3333333333333333,
              "#9c179e"
             ],
             [
              0.4444444444444444,
              "#bd3786"
             ],
             [
              0.5555555555555556,
              "#d8576b"
             ],
             [
              0.6666666666666666,
              "#ed7953"
             ],
             [
              0.7777777777777778,
              "#fb9f3a"
             ],
             [
              0.8888888888888888,
              "#fdca26"
             ],
             [
              1,
              "#f0f921"
             ]
            ],
            "type": "histogram2dcontour"
           }
          ],
          "mesh3d": [
           {
            "colorbar": {
             "outlinewidth": 0,
             "ticks": ""
            },
            "type": "mesh3d"
           }
          ],
          "parcoords": [
           {
            "line": {
             "colorbar": {
              "outlinewidth": 0,
              "ticks": ""
             }
            },
            "type": "parcoords"
           }
          ],
          "pie": [
           {
            "automargin": true,
            "type": "pie"
           }
          ],
          "scatter": [
           {
            "fillpattern": {
             "fillmode": "overlay",
             "size": 10,
             "solidity": 0.2
            },
            "type": "scatter"
           }
          ],
          "scatter3d": [
           {
            "line": {
             "colorbar": {
              "outlinewidth": 0,
              "ticks": ""
             }
            },
            "marker": {
             "colorbar": {
              "outlinewidth": 0,
              "ticks": ""
             }
            },
            "type": "scatter3d"
           }
          ],
          "scattercarpet": [
           {
            "marker": {
             "colorbar": {
              "outlinewidth": 0,
              "ticks": ""
             }
            },
            "type": "scattercarpet"
           }
          ],
          "scattergeo": [
           {
            "marker": {
             "colorbar": {
              "outlinewidth": 0,
              "ticks": ""
             }
            },
            "type": "scattergeo"
           }
          ],
          "scattergl": [
           {
            "marker": {
             "colorbar": {
              "outlinewidth": 0,
              "ticks": ""
             }
            },
            "type": "scattergl"
           }
          ],
          "scattermap": [
           {
            "marker": {
             "colorbar": {
              "outlinewidth": 0,
              "ticks": ""
             }
            },
            "type": "scattermap"
           }
          ],
          "scattermapbox": [
           {
            "marker": {
             "colorbar": {
              "outlinewidth": 0,
              "ticks": ""
             }
            },
            "type": "scattermapbox"
           }
          ],
          "scatterpolar": [
           {
            "marker": {
             "colorbar": {
              "outlinewidth": 0,
              "ticks": ""
             }
            },
            "type": "scatterpolar"
           }
          ],
          "scatterpolargl": [
           {
            "marker": {
             "colorbar": {
              "outlinewidth": 0,
              "ticks": ""
             }
            },
            "type": "scatterpolargl"
           }
          ],
          "scatterternary": [
           {
            "marker": {
             "colorbar": {
              "outlinewidth": 0,
              "ticks": ""
             }
            },
            "type": "scatterternary"
           }
          ],
          "surface": [
           {
            "colorbar": {
             "outlinewidth": 0,
             "ticks": ""
            },
            "colorscale": [
             [
              0,
              "#0d0887"
             ],
             [
              0.1111111111111111,
              "#46039f"
             ],
             [
              0.2222222222222222,
              "#7201a8"
             ],
             [
              0.3333333333333333,
              "#9c179e"
             ],
             [
              0.4444444444444444,
              "#bd3786"
             ],
             [
              0.5555555555555556,
              "#d8576b"
             ],
             [
              0.6666666666666666,
              "#ed7953"
             ],
             [
              0.7777777777777778,
              "#fb9f3a"
             ],
             [
              0.8888888888888888,
              "#fdca26"
             ],
             [
              1,
              "#f0f921"
             ]
            ],
            "type": "surface"
           }
          ],
          "table": [
           {
            "cells": {
             "fill": {
              "color": "#EBF0F8"
             },
             "line": {
              "color": "white"
             }
            },
            "header": {
             "fill": {
              "color": "#C8D4E3"
             },
             "line": {
              "color": "white"
             }
            },
            "type": "table"
           }
          ]
         },
         "layout": {
          "annotationdefaults": {
           "arrowcolor": "#2a3f5f",
           "arrowhead": 0,
           "arrowwidth": 1
          },
          "autotypenumbers": "strict",
          "coloraxis": {
           "colorbar": {
            "outlinewidth": 0,
            "ticks": ""
           }
          },
          "colorscale": {
           "diverging": [
            [
             0,
             "#8e0152"
            ],
            [
             0.1,
             "#c51b7d"
            ],
            [
             0.2,
             "#de77ae"
            ],
            [
             0.3,
             "#f1b6da"
            ],
            [
             0.4,
             "#fde0ef"
            ],
            [
             0.5,
             "#f7f7f7"
            ],
            [
             0.6,
             "#e6f5d0"
            ],
            [
             0.7,
             "#b8e186"
            ],
            [
             0.8,
             "#7fbc41"
            ],
            [
             0.9,
             "#4d9221"
            ],
            [
             1,
             "#276419"
            ]
           ],
           "sequential": [
            [
             0,
             "#0d0887"
            ],
            [
             0.1111111111111111,
             "#46039f"
            ],
            [
             0.2222222222222222,
             "#7201a8"
            ],
            [
             0.3333333333333333,
             "#9c179e"
            ],
            [
             0.4444444444444444,
             "#bd3786"
            ],
            [
             0.5555555555555556,
             "#d8576b"
            ],
            [
             0.6666666666666666,
             "#ed7953"
            ],
            [
             0.7777777777777778,
             "#fb9f3a"
            ],
            [
             0.8888888888888888,
             "#fdca26"
            ],
            [
             1,
             "#f0f921"
            ]
           ],
           "sequentialminus": [
            [
             0,
             "#0d0887"
            ],
            [
             0.1111111111111111,
             "#46039f"
            ],
            [
             0.2222222222222222,
             "#7201a8"
            ],
            [
             0.3333333333333333,
             "#9c179e"
            ],
            [
             0.4444444444444444,
             "#bd3786"
            ],
            [
             0.5555555555555556,
             "#d8576b"
            ],
            [
             0.6666666666666666,
             "#ed7953"
            ],
            [
             0.7777777777777778,
             "#fb9f3a"
            ],
            [
             0.8888888888888888,
             "#fdca26"
            ],
            [
             1,
             "#f0f921"
            ]
           ]
          },
          "colorway": [
           "#636efa",
           "#EF553B",
           "#00cc96",
           "#ab63fa",
           "#FFA15A",
           "#19d3f3",
           "#FF6692",
           "#B6E880",
           "#FF97FF",
           "#FECB52"
          ],
          "font": {
           "color": "#2a3f5f"
          },
          "geo": {
           "bgcolor": "white",
           "lakecolor": "white",
           "landcolor": "#E5ECF6",
           "showlakes": true,
           "showland": true,
           "subunitcolor": "white"
          },
          "hoverlabel": {
           "align": "left"
          },
          "hovermode": "closest",
          "mapbox": {
           "style": "light"
          },
          "paper_bgcolor": "white",
          "plot_bgcolor": "#E5ECF6",
          "polar": {
           "angularaxis": {
            "gridcolor": "white",
            "linecolor": "white",
            "ticks": ""
           },
           "bgcolor": "#E5ECF6",
           "radialaxis": {
            "gridcolor": "white",
            "linecolor": "white",
            "ticks": ""
           }
          },
          "scene": {
           "xaxis": {
            "backgroundcolor": "#E5ECF6",
            "gridcolor": "white",
            "gridwidth": 2,
            "linecolor": "white",
            "showbackground": true,
            "ticks": "",
            "zerolinecolor": "white"
           },
           "yaxis": {
            "backgroundcolor": "#E5ECF6",
            "gridcolor": "white",
            "gridwidth": 2,
            "linecolor": "white",
            "showbackground": true,
            "ticks": "",
            "zerolinecolor": "white"
           },
           "zaxis": {
            "backgroundcolor": "#E5ECF6",
            "gridcolor": "white",
            "gridwidth": 2,
            "linecolor": "white",
            "showbackground": true,
            "ticks": "",
            "zerolinecolor": "white"
           }
          },
          "shapedefaults": {
           "line": {
            "color": "#2a3f5f"
           }
          },
          "ternary": {
           "aaxis": {
            "gridcolor": "white",
            "linecolor": "white",
            "ticks": ""
           },
           "baxis": {
            "gridcolor": "white",
            "linecolor": "white",
            "ticks": ""
           },
           "bgcolor": "#E5ECF6",
           "caxis": {
            "gridcolor": "white",
            "linecolor": "white",
            "ticks": ""
           }
          },
          "title": {
           "x": 0.05
          },
          "xaxis": {
           "automargin": true,
           "gridcolor": "white",
           "linecolor": "white",
           "ticks": "",
           "title": {
            "standoff": 15
           },
           "zerolinecolor": "white",
           "zerolinewidth": 2
          },
          "yaxis": {
           "automargin": true,
           "gridcolor": "white",
           "linecolor": "white",
           "ticks": "",
           "title": {
            "standoff": 15
           },
           "zerolinecolor": "white",
           "zerolinewidth": 2
          }
         }
        },
        "title": {
         "text": "Initial Training Points"
        },
        "width": 1200
       }
      }
     },
     "metadata": {},
     "output_type": "display_data"
    }
   ],
   "source": [
    "# 1. Plot showing just initial training points\n",
    "fig_initial = make_subplots(\n",
    "    rows=1, cols=2,\n",
    "    specs=[[{'type': 'scatter3d'}, {'type': 'scatter3d'}]],\n",
    "    subplot_titles=(\"qNParEGO\", \"qEHVI\")\n",
    ")\n",
    "\n",
    "# Generate Pareto surface using problem's built-in method\n",
    "pf_surface = create_pareto_surface(problem)\n",
    "\n",
    "alg_data_initial = [\n",
    "    (-train_obj_true_qparego[:n_initial], \"qNParEGO\"),\n",
    "    (-train_obj_true_qehvi[:n_initial], \"qEHVI\"),\n",
    "]\n",
    "\n",
    "for col, (train_obj, name) in enumerate(alg_data_initial, 1):\n",
    "    obj_np = train_obj.cpu().numpy() if isinstance(train_obj, torch.Tensor) else train_obj\n",
    "\n",
    "    # Plot initial points\n",
    "    scatter = go.Scatter3d(\n",
    "        x=obj_np[:, 0], y=obj_np[:, 1], z=obj_np[:, 2],\n",
    "        mode='markers',\n",
    "        marker=dict(size=4, color='deepskyblue', opacity=0.8),\n",
    "        name=name\n",
    "    )\n",
    "\n",
    "    fig_initial.add_trace(scatter, row=1, col=col)\n",
    "    fig_initial.add_trace(pf_surface, row=1, col=col)\n",
    "\n",
    "# Update layout\n",
    "fig_initial.update_layout(\n",
    "    height=600,\n",
    "    width=1200,\n",
    "    scene1=dict(\n",
    "        xaxis_title='Objective 1',\n",
    "        yaxis_title='Objective 2',\n",
    "        zaxis_title='Objective 3',\n",
    "        camera=dict(eye=dict(x=1.5, y=1.5, z=0.6))\n",
    "    ),\n",
    "    scene2=dict(\n",
    "        xaxis_title='Objective 1',\n",
    "        yaxis_title='Objective 2',\n",
    "        zaxis_title='Objective 3',\n",
    "        camera=dict(eye=dict(x=1.5, y=1.5, z=0.6))\n",
    "    ),\n",
    "    showlegend=False,\n",
    "    title_text='Initial Training Points'\n",
    ")\n",
    "fig_initial.show()\n",
    "\n",
    "pio.write_html(fig_initial, 'DTLZ1a train.html')"
   ]
  },
  {
   "cell_type": "code",
   "execution_count": 25,
   "metadata": {
    "executionInfo": {
     "elapsed": 1221531,
     "status": "aborted",
     "timestamp": 1747909342285,
     "user": {
      "displayName": "Deepak L",
      "userId": "17343563887203968144"
     },
     "user_tz": -330
    },
    "id": "E2uIQhy7SOAi"
   },
   "outputs": [
    {
     "data": {
      "application/vnd.plotly.v1+json": {
       "config": {
        "plotlyServerURL": "https://plot.ly"
       },
       "data": [
        {
         "hovertemplate": "<b>Obj1</b>: %{x:.2f}<br><b>Obj2</b>: %{y:.2f}<br><b>Obj3</b>: %{z:.2f}<extra></extra>",
         "marker": {
          "color": {
           "bdata": "AACAPwAAgD8AAABAAAAAQAAAQEAAAEBAAACAQAAAgEAAAKBAAACgQAAAwEAAAMBAAADgQAAA4EAAAABBAAAAQQAAEEEAABBBAAAgQQAAIEEAADBBAAAwQQAAQEEAAEBBAABQQQAAUEEAAGBBAABgQQAAcEEAAHBBAACAQQAAgEEAAIhBAACIQQAAkEEAAJBBAACYQQAAmEEAAKBBAACgQQAAqEEAAKhBAACwQQAAsEEAALhBAAC4QQAAwEEAAMBBAADIQQAAyEEAANBBAADQQQAA2EEAANhBAADgQQAA4EEAAOhBAADoQQAA8EEAAPBBAAD4QQAA+EEAAABCAAAAQgAABEIAAARCAAAIQgAACEIAAAxCAAAMQgAAEEIAABBCAAAUQgAAFEIAABhCAAAYQgAAHEIAABxCAAAgQgAAIEIAACRCAAAkQgAAKEIAAChCAAAsQgAALEIAADBCAAAwQgAANEIAADRCAAA4QgAAOEIAADxCAAA8QgAAQEIAAEBCAABEQgAAREIAAEhCAABIQgAATEIAAExCAABQQgAAUEIAAFRCAABUQgAAWEIAAFhCAABcQgAAXEIAAGBCAABgQgAAZEIAAGRCAABoQgAAaEIAAGxCAABsQgAAcEIAAHBCAAB0QgAAdEIAAHhCAAB4QgAAfEIAAHxCAACAQgAAgEIAAIJCAACCQgAAhEIAAIRCAACGQgAAhkIAAIhCAACIQgAAikIAAIpCAACMQgAAjEIAAI5CAACOQgAAkEIAAJBCAACSQgAAkkIAAJRCAACUQgAAlkIAAJZCAACYQgAAmEIAAJpCAACaQgAAnEIAAJxCAACeQgAAnkIAAKBCAACgQgAAokIAAKJCAACkQgAApEIAAKZCAACmQgAAqEIAAKhCAACqQgAAqkIAAKxCAACsQgAArkIAAK5CAACwQgAAsEIAALJCAACyQgAAtEIAALRCAAC2QgAAtkIAALhCAAC4QgAAukIAALpCAAC8QgAAvEIAAL5CAAC+QgAAwEIAAMBCAADCQgAAwkIAAMRCAADEQgAAxkIAAMZCAADIQgAAyEI=",
           "dtype": "f4"
          },
          "colorscale": [
           [
            0,
            "#440154"
           ],
           [
            0.1111111111111111,
            "#482878"
           ],
           [
            0.2222222222222222,
            "#3e4989"
           ],
           [
            0.3333333333333333,
            "#31688e"
           ],
           [
            0.4444444444444444,
            "#26828e"
           ],
           [
            0.5555555555555556,
            "#1f9e89"
           ],
           [
            0.6666666666666666,
            "#35b779"
           ],
           [
            0.7777777777777778,
            "#6ece58"
           ],
           [
            0.8888888888888888,
            "#b5de2b"
           ],
           [
            1,
            "#fde725"
           ]
          ],
          "opacity": 0.8,
          "size": 4
         },
         "mode": "markers",
         "name": "qNParEGO",
         "scene": "scene",
         "type": "scatter3d",
         "x": {
          "bdata": "QHB4T+OWYUBKTwzdKEp2QEeVRpfaJnBAmPH93YoYcUAAAAAAAAAAAGUNamrTPGtAd40IAuMPR0AiUBFCKQIgQHejfQJxoT5AZSY4ChztIECtlNfAPob4PwKYuSafPFxAAAAAAAAAAAD82dEtnINrQN6+m+uP3TNAckOzJ/DEZ0CB75AslZVaQL5P7OK6N1dAulVKfPbRF0AGcLkxqWgtQH+ybj7P/m5A+JlB0KDQXUDHrZjxvRoiQNXQlDmU7ExACRAq2koHVUBGNHhorsxpQCB/V7j8YSJAQxYIs/eGGEAW3Dm06hlOQGzntj+rvx9A94Nyn3GORUAAAAAAAAAAAKt7yqdSUjFAJDFhwdSjTEBkG6vRheFNQEz5eghFaVJABPKjpBtlSEBve8TlAoRJQB2btiPMwVtAAx+jRK+/ZEAAAAAAAAAAAJMnGoLkQTBAckNFrdnAQUC+AZpo4yxHQOpiqCjnRGRAWIKStERqDEBVno6BasFEQFoFKHZBdQFA4du1MIeDSUAAAAAAAAAAADjzr45Q2ERALUH/n+XbVkBncXhf9DJSQOJOVsAzM15AKkPbbmqQPUC5ewJJgkpWQD2p08Sh1lJA7L7rDt4bYUCYSLfz1N11QDM+/JzfYzRAvG0vA7JQZ0BcE/i5961PQCTTudeQ2DBALyARPbfm9z8AAAAAAAAAAC5+JvAr3BRAr31MAWUhNEBOkE0PJRFRQGzWg0DOYFxAyta7T8aoUkBSM0rV5+5tQHEZeg2NIXNAy5IZpTtFREANGSUIq6hzQN/zVlqGY3BA3XCvcD7OYUBrWdzl89ouQAAAAAAAAAAAUvdYZ0+3SkBkk6lgxNxjQITn1QF2MG5AYEa/vNeFZEB7PARmDdtkQF7E1jwziVJAtD3AGur7aUCBGHTfET5TQGC1a5yUAElAv2poK0fIY0BCTBqVTnhzQI3c6BGBXl5AB0krd8OMPkBk6nPimvBgQFNiJaHfL1NArZrdH/i5R0AmfVKE7QBmQMP8LRBjaC9AZVosaZP6FkAAAAAAAAAAAJ1g5D+SF1hAV+pXZ+DbSEB8a7c09e0yQHu9gxuK3CFAoYbpvWXUL0AM0we2d97RP4ysbjCc4kVAdRZNcfEnWkA9MSntL3gfQHtFsbrJOyxANWFO8d6FZEDDCnwruoJGQDQguXnRpiVAXSK63sOZMEBBk4ZrkwBHQBS/YL4WkjNAk/hZA3EKWkBWADFTDJtXQANOypJ2sUdAAAAAAAAAAADwTvPM2jVkQCkRo7JeRzJAYsb1FCz23D8WZHCn/mpHQPPwk2qVXGpAAAAAAAAAAAD1XjN8Y3ZjQBC8tO/AblVAyIx5khelYkDXChcZV1M8QHhmst8ts19A18N/1ewnZEBLp/0aOixAQFvscOOfRVNAcMj7K2+dwj+b8tS3IcRcQBSPyBrvyi9A5284yIRySUA41tVvQB09QF7OUe3PYVxAec3mz4vDXUCtwF8JqmNjQH33rCBVe2FA0iRjGs3jb0BDQOCmgTVjQBI0Z/YU/DtAsb6m7OASR0C/U3vpWA5LQAAAAAAAAAAAEyXryJqYQ0BLaXjHZtkGQIwh05/LyktAjvQC31zwV0CB7VHt5hErQDIOpZMNEGBAGgDTRO7JZ0BJk3Tv4ixWQDHvMqIqZWNAAAAAAAAAAAB0Dhcg1EEmQPzknFBf2EBAzSarCAf7NEDVyGD/98wvQNuwCM3wdDVAsVXXpnpaQkDS/OnUgBhhQBFt5YzjDRZACPZm2edrPUAAAAAAAAAAAMZevpwcIGhAAAuVMzt+SkCrZ5WtG6ROQFicJYv6IkFAWCcY6ZxYPECjMAGPfKNVQODDzypFAyhAnCFR205AQ0DpHLg1kqYCQGIAaLF/VUBAFspnu1FmUkAo+1MCmV5pQJEoe/0I1QJAAAAAAAAAAADB3LHkTJw1QAF9SmJ5aDxAboZj34UtY0DMGSogs+IBQJHQ39kxhkRA6XPjPawbOUAoqMmo45BZQKzXAkk2lWRAkW11AJZ8O0BpQXRTqfdTQAAAAAAAAAAAdy04/0cqSEAbeod0HmhDQDVqvT9YK21AX9afInlVaEAAAAAAAAAAAJAbuV1uiklARc7vw1jzXUAhZWcxWMsrQA==",
          "dtype": "f8"
         },
         "y": {
          "bdata": "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",
          "dtype": "f8"
         },
         "z": {
          "bdata": "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",
          "dtype": "f8"
         }
        },
        {
         "color": "red",
         "colorscale": [
          [
           0,
           "rgb(255,245,240)"
          ],
          [
           0.125,
           "rgb(254,224,210)"
          ],
          [
           0.25,
           "rgb(252,187,161)"
          ],
          [
           0.375,
           "rgb(252,146,114)"
          ],
          [
           0.5,
           "rgb(251,106,74)"
          ],
          [
           0.625,
           "rgb(239,59,44)"
          ],
          [
           0.75,
           "rgb(203,24,29)"
          ],
          [
           0.875,
           "rgb(165,15,21)"
          ],
          [
           1,
           "rgb(103,0,13)"
          ]
         ],
         "intensity": {
          "bdata": "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",
          "dtype": "f8"
         },
         "name": "Pareto Front",
         "opacity": 0.3,
         "scene": "scene",
         "showscale": false,
         "type": "mesh3d",
         "x": {
          "bdata": "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",
          "dtype": "f8"
         },
         "y": {
          "bdata": "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",
          "dtype": "f8"
         },
         "z": {
          "bdata": "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",
          "dtype": "f8"
         }
        },
        {
         "hovertemplate": "<b>Obj1</b>: %{x:.2f}<br><b>Obj2</b>: %{y:.2f}<br><b>Obj3</b>: %{z:.2f}<extra></extra>",
         "marker": {
          "color": {
           "bdata": "AACAPwAAgD8AAABAAAAAQAAAQEAAAEBAAACAQAAAgEAAAKBAAACgQAAAwEAAAMBAAADgQAAA4EAAAABBAAAAQQAAEEEAABBBAAAgQQAAIEEAADBBAAAwQQAAQEEAAEBBAABQQQAAUEEAAGBBAABgQQAAcEEAAHBBAACAQQAAgEEAAIhBAACIQQAAkEEAAJBBAACYQQAAmEEAAKBBAACgQQAAqEEAAKhBAACwQQAAsEEAALhBAAC4QQAAwEEAAMBBAADIQQAAyEEAANBBAADQQQAA2EEAANhBAADgQQAA4EEAAOhBAADoQQAA8EEAAPBBAAD4QQAA+EEAAABCAAAAQgAABEIAAARCAAAIQgAACEIAAAxCAAAMQgAAEEIAABBCAAAUQgAAFEIAABhCAAAYQgAAHEIAABxCAAAgQgAAIEIAACRCAAAkQgAAKEIAAChCAAAsQgAALEIAADBCAAAwQgAANEIAADRCAAA4QgAAOEIAADxCAAA8QgAAQEIAAEBCAABEQgAAREIAAEhCAABIQgAATEIAAExCAABQQgAAUEIAAFRCAABUQgAAWEIAAFhCAABcQgAAXEIAAGBCAABgQgAAZEIAAGRCAABoQgAAaEIAAGxCAABsQgAAcEIAAHBCAAB0QgAAdEIAAHhCAAB4QgAAfEIAAHxCAACAQgAAgEIAAIJCAACCQgAAhEIAAIRCAACGQgAAhkIAAIhCAACIQgAAikIAAIpCAACMQgAAjEIAAI5CAACOQgAAkEIAAJBCAACSQgAAkkIAAJRCAACUQgAAlkIAAJZCAACYQgAAmEIAAJpCAACaQgAAnEIAAJxCAACeQgAAnkIAAKBCAACgQgAAokIAAKJCAACkQgAApEIAAKZCAACmQgAAqEIAAKhCAACqQgAAqkIAAKxCAACsQgAArkIAAK5CAACwQgAAsEIAALJCAACyQgAAtEIAALRCAAC2QgAAtkIAALhCAAC4QgAAukIAALpCAAC8QgAAvEIAAL5CAAC+QgAAwEIAAMBCAADCQgAAwkIAAMRCAADEQgAAxkIAAMZCAADIQgAAyEI=",
           "dtype": "f4"
          },
          "colorbar": {
           "title": {
            "text": "Iteration"
           }
          },
          "colorscale": [
           [
            0,
            "#440154"
           ],
           [
            0.1111111111111111,
            "#482878"
           ],
           [
            0.2222222222222222,
            "#3e4989"
           ],
           [
            0.3333333333333333,
            "#31688e"
           ],
           [
            0.4444444444444444,
            "#26828e"
           ],
           [
            0.5555555555555556,
            "#1f9e89"
           ],
           [
            0.6666666666666666,
            "#35b779"
           ],
           [
            0.7777777777777778,
            "#6ece58"
           ],
           [
            0.8888888888888888,
            "#b5de2b"
           ],
           [
            1,
            "#fde725"
           ]
          ],
          "opacity": 0.8,
          "size": 4
         },
         "mode": "markers",
         "name": "qEHVI",
         "scene": "scene2",
         "type": "scatter3d",
         "x": {
          "bdata": "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",
          "dtype": "f8"
         },
         "y": {
          "bdata": "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",
          "dtype": "f8"
         },
         "z": {
          "bdata": "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",
          "dtype": "f8"
         }
        },
        {
         "color": "red",
         "colorscale": [
          [
           0,
           "rgb(255,245,240)"
          ],
          [
           0.125,
           "rgb(254,224,210)"
          ],
          [
           0.25,
           "rgb(252,187,161)"
          ],
          [
           0.375,
           "rgb(252,146,114)"
          ],
          [
           0.5,
           "rgb(251,106,74)"
          ],
          [
           0.625,
           "rgb(239,59,44)"
          ],
          [
           0.75,
           "rgb(203,24,29)"
          ],
          [
           0.875,
           "rgb(165,15,21)"
          ],
          [
           1,
           "rgb(103,0,13)"
          ]
         ],
         "intensity": {
          "bdata": "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",
          "dtype": "f8"
         },
         "name": "Pareto Front",
         "opacity": 0.3,
         "scene": "scene2",
         "showscale": false,
         "type": "mesh3d",
         "x": {
          "bdata": "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",
          "dtype": "f8"
         },
         "y": {
          "bdata": "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",
          "dtype": "f8"
         },
         "z": {
          "bdata": "AAAAAMCDQj8AAAATENvLPwAAANhfV54/AAAASETk0T8AAACsMNHDPwAAAHIsT74/AAAAIFY1sT8AAACOgGjSPwAAAN99vM8/AAAAy6tvwT8AAADsmd+jPwAAAHWeTN0/AAAAop3/uD8AAACEt0ymPwAAAHVVNMc/AAAAYt0y1z8AAADQNBjEPwAAAO5UE88/AAAAGLwKrD8AAIDn4XLaPwAAAAgfbq8/AAAAkKXftz8AAAAwKf7DPwAAgPKiDNA/AAAAapVttz8AAAA276fFPwAAALwpbLs/AACAz2A21D8AAAC7eXXIPwAAAACStoU/AAAA+BD3mT8AAIAe/1bVPwAAAJOEb8o/AAAAprQQyD8AAAAA4PQEPwAAgMMR89k/AAAAOm9Ysz8AAAAgZdi5PwAAADms58I/AACA1lKN0z8AAACo6wWnPwAAAH4PpMI/AAAALOlrtT8AAADiuA3TPwAAAOjJAsY/AAAAYCViqT8AAACIpJK6PwAAgDoP19Y/AAAA8mfKvD8AAABb8NjMPwAAAMwuJKM/AACAaZzf1j8AAAD3gKbNPwAAAOLsSLA/AAAATG20qz8AAACqcOnRPwAAAITNy8E/AAAAg0tsxj8AAABQrAC1PwAAAFXjCNk/AAAAcPRDkD8AAABIbYaUPwAAACrlQ8k/AAAA1Drp0D8AAAAq90rCPwAAALm9L8o/AAAAiDLykT8AAAACfsjYPwAAAIBClIg/AAAAJnemvT8AAAB7wMLGPwAAAIenKdE/AAAAphLIuz8AAABhBpvAPwAAABL7FbE/AACAPAEf1z8AAABduifOPwAAACwBnqE/AAAA5IewpT8AAAC1i8jXPwAAABABAak/AAAASPnnzj8AAADACtirPwAAALUlzdI/AAAATvODxT8AAADc/ja0PwAAANTRkL0/AACAJ/T20D8AAAA5vu7JPwAAAKBCU8Q/AAAA6CwplT8AAICJWhrdPwAAAG4aWrQ/AAAAwJb4dT8AAACTlmbBPwAAgA6D+9Q/AAAAPuBvsD8AAAAQGeTJPwAAAIAuXo8/AACAmv321T8AAAARQ/TLPwAAAEw+Mbo/AAAAoBb7dz8AAIADBHfTPwAAAGYOmcc/AAAA2KJQwz8AAACAsoK2PwAAAKiCIdo/AAAAsPVqoT8AAAD4k7CuPwAAANAmEc8/AAAAIVvA0z8AAAB1Rz3MPwAAAPFdLM0/AAAAZJj2pD8AAABqZW3bPwAAAPbo/b8/AAAAtrehsz8AAAAzIMHBPwAAAH0mE9E/AAAAgMidnD8AAAAp5pjHPwAAAII7Er8/AAAAE9kk0D8AAAACClDAPwAAABgAI5s/AAAATCM3tj8AAACRe0nUPwAAAN9p1c4/AAAAQ/Qcyz8AAABYfWiYPwAAALExddg/AAAAorUtuj8AAADS5MC/PwAAAHVBXcY/AAAApnIL0j8AAABgermHPwAAAJtPqME/AAAA5mhzsz8AAABIzlDRPwAAAKwkuMI/AAAAxCZTpT8AAAAgfuezPwAAAEovUdc/AAAAar2/tT8AAAC+sNTPPwAAAFgtFa8/AACAz+qC1D8AAAC7bRzJPwAAADBtULY/AAAA+LC/kj8AAIDaUG/QPwAAANAgccU/AAAAZgtgxT8AAAAc4eO6PwAAAPOVVds/AAAACE/Kqj8AAAAA1ciJPwAAAKh2jck/AAAAdky00j8AAACou6GiPwAAAPZQ18g/AAAAwGPVeD8AAADiMrnTPwAAAOjda8c/AAAAwK1XuD8AAACIjEC4PwAAgP6g7tM/AAAAk5AGyz8AAAAu62PCPwAAAMDNQmM/AACA3E1u3D8AAAA6R4qxPwAAACC0fao/AAAAObiOwz8AAIBblI/VPwAAAITZosA/AAAACxQfzD8AAACMvzugPwAAAFVpvNk/AAAAcFQLmz8AAABCJMexPwAAAMlp8sA/AAAA1LBd0D8AAADyTxi+PwAAANOvq8Y/AAAAdqh0vT8AAIBpFmvWPwAAAPeUz8w/AAAAyE+5kj8AAABMPRCuPwAAAG7f0NQ/AAAApjoauT8AAADpWejKPwAAAAgQzZc/AACAPIur1z8AAABdrk7PPwAAAIa/Kbw/AAAA5NcUoD8AAABxJPHSPwAAACrjI8M/AAAAMeJcwD8AAACyM5qwPwAAAAL0fNg/AAAAAAUKfD8AAABskIGiPwAAAITLq8s/AAAAhy2d0T8AAAA5qofIPwAAABgdIM4/AAAA6Ixhnj8AAIAaRevaPwAAAG4yiLY/AAAAfDa5tT8AAACTgg/APwAAgA8GldA/AAAAEFGlrD8AAADQppTEPwAAAFC6Crk/AAAAta950j8AAABO5+rEPwAAAIA5CGo/AAAA1PlCvz8AAIDjW8/VPwAAAGYa8MY/AAAAYP0jyT8AAACAayCDPwAAgD61atk/AAAAsKXOpD8AAADs9r67PwAAAJ6AzsU/AACAK/YU0z8AAAA+yL2yPwAAAIhGl8M/AAAA4HoNtz8AAICad0LVPwAAABFXnco/AAAAuAKvrT8AAABQy2yNPwAAgMerTtY/AAAAgGjVlz8AAAChuevNPwAAACQJ6ac/AAAAE1OQ0D8AAAACHjnBPwAAABZ/LrI/AAAATAvltD8AAABV1HDRPwAAAHVTVM0/AAAAeQJfxz8AAABEI3+oPwAAAK7KVN4/AAAA9sAvvT8AAACYIhydPwAAAN973MU/AAAAuYkq1D8AAAA0HOzFPwAAAJkAm8s/AAAAiNtXnD8AAADeyzbYPwAAAPi8vqg/AAAAZg3Pvj8AAABbfXbHPwAAAMmISNI/AAAAksSFtD8AAABBuy/BPwAAAFKBfLI/AACAsXTM1D8AAABHUYHJPwAAAKz1TKc/AAAAGFdWlj8AAAAl1RLXPwAAAKC1ao4/AAAAaERTzz8AAABA/gqtPwAAADpQHtE/AAAAWBglwj8AAACchF+3PwAAAOgH3bI/AACAt6os0D8AAAAjVUjOPwAAAMD/58U/AAAAHDoPpD8AAIAEL8nePwAAAFrMF7s/AAAAYJm3gT8AAACJfcDGPwAAgFv3dtU/AAAACjYivz8AAAAwpFDIPwAAAADyV2A/AACAF4gl1j8AAAALqFLMPwAAAAxEWLk/AAAAvM5krD8AAICTWq3TPwAAAIDlP8A/AAAA+B/kwj8AAABAyOu1PwAAACv38tk/AAAAkLPinz8AAAB4Z2KoPwAAANbNt8g/AAAAri4T0D8AAABvrJvLPwAAANHgmMw/AAAAYPkGej8AAAD6O7fbPwAAAMI+sLA/AAAA9s3IsD8AAAATnXXAPwAAAO14ydE/AAAAWEjVoD8AAAAJWyzGPwAAAMJBe7w/AAAAoKz30z8AAAAc4fbHPwAAABjphpY/AAAAgPV6uT8AAAABJZPUPwAAAACj0a4/AAAAM61vyj8AAADYtvKTPwAAAMsxN9I/AAAAstt3xD8AAAAyVia9PwAAACyAeL4/AAAAHt6y0j8AAADFlhrIPwAAAOsW28A/AAAACGuImj8AAADlwJbdPwAAAJZLsrc/AAAABEOeoD8AAABvvpLAPwAAgHCXAdQ/AAAA1t++wz8AAADO6afOPwAAAJhI2Ko/AAAAgGoy2D8AAAAAN1tvPwAAANDftrQ/AAAAEJRKwj8AAIBi/NbQPwAAAF5DILg/AAAAFlITxD8AAAD8UwW4PwAAgEIV5dc/AAAAoZLTzz8AAAAAiPp9PwAAABQkYKI/AACAjqGM1T8AAACJb8nNPwAAAIYJpMk/AAAA4CZfiz8AAIBTTynZPwAAAA65Fbw/AAAAYB+xuj8AAAAjR0HFPwAAgEYMV9M/AAAAoI88kz8AAABeshDDPwAAAGyTArY/AAAAbc3e0D8AAAD+IqTBPwAAAODRsK8/AAAAtHLftT8AAICqUQ3WPwAAAMaxh7M/AAAAe01szT8AAABM2valPwAAgOTpDNU/AAAA7WsAyj8AAACiliGzPwAAAJAEv4Q/AAAAOi4z0T8AAACaJm3GPwAAAKP22Mc/AAAAfHpNuj8AAADaltvaPwAAAGBWuqY/AAAASIQjmT8AAABhizXLPwAAAF9POtM/AAAAkuxXtj8AAADJ5FzLPwAAAAj5aJo/AACAsf541D8AAABHRejIPwAAAMbFQL8/AAAAGPcenT8AAADheivSPwAAADQIhcQ/AAAAEV/owT8AAADySfOzPwAAAI2Br9s/AAAA+OwarT8AAADsZFOkPwAAAJogDcw/AAAADFhO0j8AAAAjQSHPPwAAADiglM8/AAAAHGqroT8AAICKGzHaPwAAAFrkxbk/AAAAPEzQtj8AAAD23XnDPwAAgJ9YT9A/AAAAQOv3cT8AAADwGyDFPwAAABDAY7o/AAAAOtqq0T8AAABYDEzDPwAAAGDcyY0/AAAA6C8PsD8AAIBzBRXVPwAAAIDxVsE/AAAAgECXyD8AAAAAc9dwPwAAACt9Rtk/AAAAkBOqlD8AAACsjNe4PwAAAL49esQ/AAAArqSn0D8AAAAKHvC9PwAAAKj7I8I/AAAAoABktD8AAIAXApHWPwAAAAu8O80/AAAAOPZ9qz8AAAC8nsCpPwAAgFf1lNY/AAAAWBhxpT8AAACBBF/MPwAAAKT9O6E/AAAAoCZD0z8AAAAc9Z/GPwAAAFYFR7E/AAAAgN2ouz8AAADFiqrRPwAAAG+48so/AAAAWb/rxj8AAACwPJKLPwAAgKJZlNw/AAAAwhZisj8AAACYy7mQPwAAAMWQesI/AAAAKdfw1D8AAADFgnPJPwAAAGNJqMo/AAAACMvAkT8AAAAhb6/YPwAAAJZjYLU/AAAAkp6pvD8AAABvqvvBPwAAADYs0dI/AAAAAPN1qz8AAAC78hzAPwAAAKYSGrA/AAAAy7uD0j8AAACyzx7FPwAAAETSgaM/AAAALKiqvD8AAADacYvXPwAAAF5r8ro/AAAAng1gzj8AAADY2cepPwAAgEKfUdc/AAAAoYa6zj8AAABwFzm1PwAAABR0xKc/AACASg610D8AAADWy9fCPwAAAEa21MQ/AAAA5KA4sz8AAACA4IbYPwAAAMCNR4E/AAAAADgYVD8AAACIyznIPwAAAPk5Z9E/AAAAoC90mD8AAADW7WPJPwAAAOBjIYc/AAAAbUdq0D8AAAD+Ns3APwAAAADYPrs/AAAAtFoNtz8AAIBu/jTTPwAAAIl7oMw/AAAADlbXwz8AAAC0gK+vPwAAgJfgENw/AAAADpHHvj8AAACgQK+sPwAAACNTKMQ/AACA1uFc1j8AAACaMgTHPwAAACupq80/AAAADEvppj8AAADaHG/aPwAAAGAGHqM/AAAAAl6usj8AAADp1EbBPwAAABLcUNE/AAAAxplVsT8AAADzEh/HPwAAADbSHb4/AACA5GO41T8AAADtf2nLPwAAAMimHJ8/AAAAgCRyUT8AAAD+gQrUPwAAAKV+QMs/AAAAxxfsyz8AAAAAAso3PwAAAHNADdg/AAAAVpsHsT8AAADaIyG+PwAAAA9WyMM/AAAAaANz0j8AAACAA7qjPwAAAB+sWME/AAAA7q+Ssj8AAAD7RZrTPwAAANIzLcc/AAAA1KiQpj8AAADsUM24PwAAAIxeKdc/AAAAnpOVvj8AAAA6UyTPPwAAAEij1qw/AACAcmFI1j8AAADBeonMPwAAACiqsbc/AAAAlIULrz8AAIAYIRfQPwAAALY35MA/AAAA4uiQxT8AAAAkWF+3PwAAAFAen9k/AAAA4CU8mT8AAADA7MaGPwAAACAfbMg/AAAAycd+0D8AAABAmdeDPwAAAHKzJ8g/AAAAAE0kWz8AAABduXPRPwAAAJ7K/sI/AAAAuGq2uT8AAAB0omqzPwAAgDzRltM/AAAA6YeTzj8AAACqCJPCPwAAADRxYKc/AACAxc+y3D8AAADOaaC6PwAAABA6vqk/AAAAQ68bxj8AAIDQjMzWPwAAAPrON8U/AAAAj/fvzD8AAACcMfijPwAAAOridts/AAAA4PfRqz8AAABK4yawPwAAAE2KAsA/AAAARPPy0T8AAAAGYTK1PwAAAFdMW8Y/AAAAfm+VvD8AAIDUnaHUPwAAAI2DWsk/AAAA6FM+lT8AAABIwYiQPwAAALCuqNQ/AAAAUhQwsj8AAABtuhjKPwAAACgMSpA/AACAgQBh1T8AAAAnudvKPwAAAI54yL0/AAAAMCgCiT8AAACzVYnSPwAAAFT0tsY/AAAAtQGswD8AAAC69HuxPwAAAL1/tto/AAAAeB3VpT8AAAB8HkKhPwAAAHd8Qcw/AAAAPKZX0z8AAABDvRLNPwAAAJT+0M4/AAAAnJtkqT8AAIDYNJPaPwAAAJocor0/AAAAdPFYtD8AAABSgz3CPwAAgM137dA/AAAA0BnilT8AAABMRWTEPwAAAEh967g/AAAACiSz0D8AAAA48H/BPwAAAEBsGHM/AAAAKNdotD8AAIAhKrfVPwAAACANZcM/AAAA3B7TyT8AAABAUy6MPwAAABuDX9g/AAAAQMLXdD8AAADkMV+6PwAAABpjPsU/AAAAnlq+0T8AAADK5pe5PwAAAASlZ8M/AAAA2L3stj8AAIAn/IjXPwAAAGtACM8/AAAAqIxsrj8AAAA8bw+hPwAAgAXaNtY/AAAA2Om+rT8AAAAlWhvNPwAAADSHKqQ/AAAAsNha0j8AAAB8CazEPwAAAB64z7M/AAAAwCXPvz8AAACXpQjRPwAAAA9Ewcg/AAAA/eGvxz8AAABY/VacPwAAgJKnjd0/AAAAAu4Ftj8AAAC4PpuaPwAAAKVsScA/AAAAe/hS1D8AAACAUx6mPwAAAJfzK8s/AAAA+EPQmT8AAAD7zy7TPwAAANInRMY/AAAAeuuuvz8AAADseB+6PwAAAFDxENI/AAAApWopyj8AAABPSJ/BPwAAABAQL4Y/AACAx7D53D8AAABWs9WzPwAAAJQ5j6U/AAAAD0Khwj8AAIBAaRjVPwAAALYjjcE/AAAAarfjzz8AAAAIMsmvPwAAAFCUK9k/AAAA4IV0kj8AAACIYj62PwAAAKzKDsM/AACAMNN00D8AAACeu0e8PwAAALIMV8U/AAAAtO6Nuj8AAIBy6/zWPwAAAMFu4M0/AAAAwKm4ij8AAACU1a+qPwAAgNyOLtU/AAAA6ZP6zz8AAAAiV+DIPwAAAECZNX4/AACAAWCL2T8AAADOQXK4PwAAABiiObg/AAAA5CoNxD8AAIAUI/XTPwAAAABlG2U/AAAA+uxUwj8AAAAkLoq0PwAAAF0zx9E/AAAAnt6Xwz8AAABQq6GqPwAAAHSKuLE/AACA+H6v1j8AAAAGSeC3PwAAAN8TKMw/AAAA3KDnoD8AAIDUFxXUPwAAAI2XM8g/AAAA6iupsT8AAABIYcCbPwAAAGwBkdE/AAAA+tpexD8AAAAHqJzGPwAAAN6nGr0/AAAA6mjC2z8AAADgp3WuPwAAAGhxAZM/AAAAxdVxyj8AAABvsSPSPwAAAFTg38c/AAAAPV7fyj8AAACoLnWWPwAAAJDklNg/AAAAeE1xoD8AAAAusEe8PwAAAP8jMsY/AAAAm6fq0j8AAABSPOKwPwAAAOXla8A/AAAAGjz0sD8AAICBitXVPwAAACetsss/AAAAPI9doj8AAABg0CZ/PwAAAHf6sNc/AAAA0Lmqnj8AAADEGhfOPwAAALCEG6g/AAAACq4H0D8AAAA45BbAPwAAANQ517U/AAAAKP+6tj8AAIDlhY7QPwAAAEOpe8w/AAAAHKGjxD8AAACcy8CsPwAAgBybqt8/AAAAmjRwvz8AAACAzMlnPwAAAOmB88Q/AACACdjU1T8AAADKzkW7PwAAAIz6FMk/AAAAQBZQgD8AAIAndjzXPwAAAGtUYc4/AAAARPnQuz8AAAA8P6ukPwAAgMF1D9M/AAAAIBkMwj8AAABUQaDDPwAAAHgFj7I/AAAAGwnr2D8AAAAgofqMPwAAAOgdc60/AAAAtjGEyj8AAACe0ArRPwAAAA9QqMk/AAAAdb7czT8AAABYXR6XPwAAAKwUFds/AAAAAsbXtD8AAAC+cECyPwAAAKV4IME/AAAAv1dr0T8AAADYuRqoPwAAAK0FaMc/AAAAivzzvj8AAACwUu7SPwAAAHwdxcU/AAAAOByknD8AAADADR29PwAAAFMKMdQ/AAAAZsJ9vT8AAABNB6zLPwAAACjl750/AACADHWy1j8AAAA9Un3NPwAAAM4Cob4/AAAAZCbbqD8AAAAjC1PSPwAAAEofEME/AAAAlbwYwT8AAAD6jhKyPwAAADIKZdk/AAAAQGKdlj8AAAD86pCnPwAAAOQ3mMk/AAAAt9OE0D8AAABZVrTKPwAAALRDZM8/AAAA0N/8jz8AAIBIaknaPwAAAK7K77I/AAAANIsxtz8AAADzfjzCPwAAgF0pN9A/AAAAkKBqpD8AAABs+NDFPwAAAAgHgrs/AAAAhVFg0z8AAAAuG9nGPwAAACDkx4I/AAAAFAEluz8AAICxdG3VPwAAAAbmw8Q/AAAA/KNnyD8AAAAABZZtPwAAgGyayNk/AAAAMFQBrD8AAACkSza5PwAAADreisQ/AAAAES9t0j8AAAD+MNq2PwAAACQY08I/AAAAmMeFtT8AAICqiVvUPwAAAHGrrsg/AAAAKHi+qD8AAACohimfPwAAgJWE7NY/AAAAAC4qeT8AAAAF56/MPwAAALRz+KI/AAAAI62J0T8AAABi4grDPwAAAF7CprA/AAAAjPOCsD8AAAAH+9LRPwAAABWvZ88/AAAA3Vwbxj8AAADE0rCgPwAAgB/SXt4/AAAANjhIuT8AAAC41z6XPwAAAL+H78c/AAAA66aI1D8AAAC/lebMPwAAAOeqWMo/AAAAeIhKkj8AAADjHtfYPwAAAGJNSr4/AAAAmllIvT8AAAAVvW7EPwAAAPhdqdI/AAAAMF5Dmj8AAAA/EezAPwAAAK7V+7E/AAAAeDBJ0D8AAADM2IvAPwAAAFRcQqA/AAAA4IaAtz8AAAAcAPPXPwAAAKpF2LE/AAAAGu6Qzj8AAADIVwSqPwAAgP8Um9U/AAAA25Evyz8AAABo0Ni0PwAAAMCfAmk/AACAiH/N0D8AAACw3ELHPwAAAMJVJMQ/AAAAGI4SuD8AAADDa0zaPwAAAIi+BaI/AAAAgH0aez8AAAAEKMnIPwAAAEayrdM/AAAAKEpuqj8AAABSDpPJPwAAAKBbL4g/AAAA0syg0j8AAACIIVjFPwAAAPgQ37o/AAAASHQnvD8AAICsj0zTPwAAAPNsNck/AAAAirUnwz8AAAC4uveTPwAAgFWRaNw/AAAA+r/ttT8AAACQzmyvPwAAAFlEvcE/AACAa2qW1D8AAADkJZHCPwAAAK9KW80/AAAAHMUqpT8AAABll6XYPwAAAOBuKYU/AAAACplPsz8AAABtN7bBPwAAANStKNE/AAAAMrd/uj8AAAB38e/HPwAAAD4V/L8/AACAWehy1z8AAACXaPzOPwAAAOi6m5g/AAAAzMzfpj8AAABA8HLUPwAAAEoLecA/AAAAHeNryz8AAACox9CbPwAAACC6Ttg/AAAAQMLVnT8AAABuyi6/PwAAAN+ehsc/AAAAt1kw0D8AAABm6q+/PwAAAMVY38E/AAAAWkadsz8AAIAM/wbWPwAAAD1GFMw/AAAAvHuPpD8AAABkdn+tPwAAAOekatc/AAAAkPDOoT8AAADkp6PPPwAAADBwya4/AAAAhdvU0z8AAAAuD7DHPwAAAJRDvrY/AAAAFCn3uT8AAIB121TQPwAAAFlC3cs/AAAAPBwXxT8AAACgP9tyPwAAgLmkA9w/AAAAruI9sD8AAAAgobmOPwAAAPNqVcM/AACAmYYO1T8AAAD+GAi0PwAAAKxHoMg/AAAAgIg3dj8AAICqA+/UPwAAAHG/x8k/AAAABIO5uD8AAACoJmGUPwAAgFEr1dM/AAAABvKqxT8AAAB0/BTCPwAAADgPCrQ/AAAAmHw42z8AAAAwBKWpPwAAAGjpoas/AAAAsNoizT8AAAARpdnSPwAAABW7Ds4/AAAAVQNozD8AAAD04uehPwAAADxKz9s/AAAANhCauz8AAAD+CimxPwAAAJd+hcA/AAAALwmx0T8AAAAAVwSKPwAAAI243MY/AAAAyoaavT8AAAAjJz3RPwAAAGL2Y8I/AAAAOPUBkT8AAACM21CyPwAAAMNU69Q/AAAAMP4LkT8AAAC3Tp/KPwAAAPiqdZQ/AAAAeLr90D8AAADMzOLBPwAAADqRx7w/AAAA4K5StT8AAADgr8rSPwAAAL+Bj80/AAAAb/UrwD8AAABsaBCrPwAAACex7t0/AAAAYmWYvD8AAAAUzV2jPwAAABWpB8U/AACAzRzL1j8AAACwyCvGPwAAAEoKV84/AAAAiMYbqT8AAIC1ztDaPwAAAIjuoac/AAAAyBhXtT8AAACMd7rCPwAAgKCNrtA/AAAAqm0Ksz8AAACSsePEPwAAAPSU5Lk/AACA/54v1T8AAADbhUbKPwAAAAC8N08/AAAA8OfRgD8AAIBM0PTVPwAAAPN4XMg/AAAAAupUyT8AAACgHlGEPwAAgJE+Udk/AAAA+pc/tz8AAABY2FC7PwAAAFlQ1MA/AACAhH0v0z8=",
          "dtype": "f8"
         }
        }
       ],
       "layout": {
        "annotations": [
         {
          "font": {
           "size": 16
          },
          "showarrow": false,
          "text": "qNParEGO",
          "x": 0.225,
          "xanchor": "center",
          "xref": "paper",
          "y": 1,
          "yanchor": "bottom",
          "yref": "paper"
         },
         {
          "font": {
           "size": 16
          },
          "showarrow": false,
          "text": "qEHVI",
          "x": 0.775,
          "xanchor": "center",
          "xref": "paper",
          "y": 1,
          "yanchor": "bottom",
          "yref": "paper"
         }
        ],
        "height": 600,
        "scene": {
         "camera": {
          "eye": {
           "x": 1.5,
           "y": 1.5,
           "z": 0.6
          }
         },
         "domain": {
          "x": [
           0,
           0.45
          ],
          "y": [
           0,
           1
          ]
         },
         "xaxis": {
          "title": {
           "text": "Objective 1"
          }
         },
         "yaxis": {
          "title": {
           "text": "Objective 2"
          }
         },
         "zaxis": {
          "title": {
           "text": "Objective 3"
          }
         }
        },
        "scene2": {
         "camera": {
          "eye": {
           "x": 1.5,
           "y": 1.5,
           "z": 0.6
          }
         },
         "domain": {
          "x": [
           0.55,
           1
          ],
          "y": [
           0,
           1
          ]
         },
         "xaxis": {
          "title": {
           "text": "Objective 1"
          }
         },
         "yaxis": {
          "title": {
           "text": "Objective 2"
          }
         },
         "zaxis": {
          "title": {
           "text": "Objective 3"
          }
         }
        },
        "showlegend": false,
        "template": {
         "data": {
          "bar": [
           {
            "error_x": {
             "color": "#2a3f5f"
            },
            "error_y": {
             "color": "#2a3f5f"
            },
            "marker": {
             "line": {
              "color": "#E5ECF6",
              "width": 0.5
             },
             "pattern": {
              "fillmode": "overlay",
              "size": 10,
              "solidity": 0.2
             }
            },
            "type": "bar"
           }
          ],
          "barpolar": [
           {
            "marker": {
             "line": {
              "color": "#E5ECF6",
              "width": 0.5
             },
             "pattern": {
              "fillmode": "overlay",
              "size": 10,
              "solidity": 0.2
             }
            },
            "type": "barpolar"
           }
          ],
          "carpet": [
           {
            "aaxis": {
             "endlinecolor": "#2a3f5f",
             "gridcolor": "white",
             "linecolor": "white",
             "minorgridcolor": "white",
             "startlinecolor": "#2a3f5f"
            },
            "baxis": {
             "endlinecolor": "#2a3f5f",
             "gridcolor": "white",
             "linecolor": "white",
             "minorgridcolor": "white",
             "startlinecolor": "#2a3f5f"
            },
            "type": "carpet"
           }
          ],
          "choropleth": [
           {
            "colorbar": {
             "outlinewidth": 0,
             "ticks": ""
            },
            "type": "choropleth"
           }
          ],
          "contour": [
           {
            "colorbar": {
             "outlinewidth": 0,
             "ticks": ""
            },
            "colorscale": [
             [
              0,
              "#0d0887"
             ],
             [
              0.1111111111111111,
              "#46039f"
             ],
             [
              0.2222222222222222,
              "#7201a8"
             ],
             [
              0.3333333333333333,
              "#9c179e"
             ],
             [
              0.4444444444444444,
              "#bd3786"
             ],
             [
              0.5555555555555556,
              "#d8576b"
             ],
             [
              0.6666666666666666,
              "#ed7953"
             ],
             [
              0.7777777777777778,
              "#fb9f3a"
             ],
             [
              0.8888888888888888,
              "#fdca26"
             ],
             [
              1,
              "#f0f921"
             ]
            ],
            "type": "contour"
           }
          ],
          "contourcarpet": [
           {
            "colorbar": {
             "outlinewidth": 0,
             "ticks": ""
            },
            "type": "contourcarpet"
           }
          ],
          "heatmap": [
           {
            "colorbar": {
             "outlinewidth": 0,
             "ticks": ""
            },
            "colorscale": [
             [
              0,
              "#0d0887"
             ],
             [
              0.1111111111111111,
              "#46039f"
             ],
             [
              0.2222222222222222,
              "#7201a8"
             ],
             [
              0.3333333333333333,
              "#9c179e"
             ],
             [
              0.4444444444444444,
              "#bd3786"
             ],
             [
              0.5555555555555556,
              "#d8576b"
             ],
             [
              0.6666666666666666,
              "#ed7953"
             ],
             [
              0.7777777777777778,
              "#fb9f3a"
             ],
             [
              0.8888888888888888,
              "#fdca26"
             ],
             [
              1,
              "#f0f921"
             ]
            ],
            "type": "heatmap"
           }
          ],
          "histogram": [
           {
            "marker": {
             "pattern": {
              "fillmode": "overlay",
              "size": 10,
              "solidity": 0.2
             }
            },
            "type": "histogram"
           }
          ],
          "histogram2d": [
           {
            "colorbar": {
             "outlinewidth": 0,
             "ticks": ""
            },
            "colorscale": [
             [
              0,
              "#0d0887"
             ],
             [
              0.1111111111111111,
              "#46039f"
             ],
             [
              0.2222222222222222,
              "#7201a8"
             ],
             [
              0.3333333333333333,
              "#9c179e"
             ],
             [
              0.4444444444444444,
              "#bd3786"
             ],
             [
              0.5555555555555556,
              "#d8576b"
             ],
             [
              0.6666666666666666,
              "#ed7953"
             ],
             [
              0.7777777777777778,
              "#fb9f3a"
             ],
             [
              0.8888888888888888,
              "#fdca26"
             ],
             [
              1,
              "#f0f921"
             ]
            ],
            "type": "histogram2d"
           }
          ],
          "histogram2dcontour": [
           {
            "colorbar": {
             "outlinewidth": 0,
             "ticks": ""
            },
            "colorscale": [
             [
              0,
              "#0d0887"
             ],
             [
              0.1111111111111111,
              "#46039f"
             ],
             [
              0.2222222222222222,
              "#7201a8"
             ],
             [
              0.3333333333333333,
              "#9c179e"
             ],
             [
              0.4444444444444444,
              "#bd3786"
             ],
             [
              0.5555555555555556,
              "#d8576b"
             ],
             [
              0.6666666666666666,
              "#ed7953"
             ],
             [
              0.7777777777777778,
              "#fb9f3a"
             ],
             [
              0.8888888888888888,
              "#fdca26"
             ],
             [
              1,
              "#f0f921"
             ]
            ],
            "type": "histogram2dcontour"
           }
          ],
          "mesh3d": [
           {
            "colorbar": {
             "outlinewidth": 0,
             "ticks": ""
            },
            "type": "mesh3d"
           }
          ],
          "parcoords": [
           {
            "line": {
             "colorbar": {
              "outlinewidth": 0,
              "ticks": ""
             }
            },
            "type": "parcoords"
           }
          ],
          "pie": [
           {
            "automargin": true,
            "type": "pie"
           }
          ],
          "scatter": [
           {
            "fillpattern": {
             "fillmode": "overlay",
             "size": 10,
             "solidity": 0.2
            },
            "type": "scatter"
           }
          ],
          "scatter3d": [
           {
            "line": {
             "colorbar": {
              "outlinewidth": 0,
              "ticks": ""
             }
            },
            "marker": {
             "colorbar": {
              "outlinewidth": 0,
              "ticks": ""
             }
            },
            "type": "scatter3d"
           }
          ],
          "scattercarpet": [
           {
            "marker": {
             "colorbar": {
              "outlinewidth": 0,
              "ticks": ""
             }
            },
            "type": "scattercarpet"
           }
          ],
          "scattergeo": [
           {
            "marker": {
             "colorbar": {
              "outlinewidth": 0,
              "ticks": ""
             }
            },
            "type": "scattergeo"
           }
          ],
          "scattergl": [
           {
            "marker": {
             "colorbar": {
              "outlinewidth": 0,
              "ticks": ""
             }
            },
            "type": "scattergl"
           }
          ],
          "scattermap": [
           {
            "marker": {
             "colorbar": {
              "outlinewidth": 0,
              "ticks": ""
             }
            },
            "type": "scattermap"
           }
          ],
          "scattermapbox": [
           {
            "marker": {
             "colorbar": {
              "outlinewidth": 0,
              "ticks": ""
             }
            },
            "type": "scattermapbox"
           }
          ],
          "scatterpolar": [
           {
            "marker": {
             "colorbar": {
              "outlinewidth": 0,
              "ticks": ""
             }
            },
            "type": "scatterpolar"
           }
          ],
          "scatterpolargl": [
           {
            "marker": {
             "colorbar": {
              "outlinewidth": 0,
              "ticks": ""
             }
            },
            "type": "scatterpolargl"
           }
          ],
          "scatterternary": [
           {
            "marker": {
             "colorbar": {
              "outlinewidth": 0,
              "ticks": ""
             }
            },
            "type": "scatterternary"
           }
          ],
          "surface": [
           {
            "colorbar": {
             "outlinewidth": 0,
             "ticks": ""
            },
            "colorscale": [
             [
              0,
              "#0d0887"
             ],
             [
              0.1111111111111111,
              "#46039f"
             ],
             [
              0.2222222222222222,
              "#7201a8"
             ],
             [
              0.3333333333333333,
              "#9c179e"
             ],
             [
              0.4444444444444444,
              "#bd3786"
             ],
             [
              0.5555555555555556,
              "#d8576b"
             ],
             [
              0.6666666666666666,
              "#ed7953"
             ],
             [
              0.7777777777777778,
              "#fb9f3a"
             ],
             [
              0.8888888888888888,
              "#fdca26"
             ],
             [
              1,
              "#f0f921"
             ]
            ],
            "type": "surface"
           }
          ],
          "table": [
           {
            "cells": {
             "fill": {
              "color": "#EBF0F8"
             },
             "line": {
              "color": "white"
             }
            },
            "header": {
             "fill": {
              "color": "#C8D4E3"
             },
             "line": {
              "color": "white"
             }
            },
            "type": "table"
           }
          ]
         },
         "layout": {
          "annotationdefaults": {
           "arrowcolor": "#2a3f5f",
           "arrowhead": 0,
           "arrowwidth": 1
          },
          "autotypenumbers": "strict",
          "coloraxis": {
           "colorbar": {
            "outlinewidth": 0,
            "ticks": ""
           }
          },
          "colorscale": {
           "diverging": [
            [
             0,
             "#8e0152"
            ],
            [
             0.1,
             "#c51b7d"
            ],
            [
             0.2,
             "#de77ae"
            ],
            [
             0.3,
             "#f1b6da"
            ],
            [
             0.4,
             "#fde0ef"
            ],
            [
             0.5,
             "#f7f7f7"
            ],
            [
             0.6,
             "#e6f5d0"
            ],
            [
             0.7,
             "#b8e186"
            ],
            [
             0.8,
             "#7fbc41"
            ],
            [
             0.9,
             "#4d9221"
            ],
            [
             1,
             "#276419"
            ]
           ],
           "sequential": [
            [
             0,
             "#0d0887"
            ],
            [
             0.1111111111111111,
             "#46039f"
            ],
            [
             0.2222222222222222,
             "#7201a8"
            ],
            [
             0.3333333333333333,
             "#9c179e"
            ],
            [
             0.4444444444444444,
             "#bd3786"
            ],
            [
             0.5555555555555556,
             "#d8576b"
            ],
            [
             0.6666666666666666,
             "#ed7953"
            ],
            [
             0.7777777777777778,
             "#fb9f3a"
            ],
            [
             0.8888888888888888,
             "#fdca26"
            ],
            [
             1,
             "#f0f921"
            ]
           ],
           "sequentialminus": [
            [
             0,
             "#0d0887"
            ],
            [
             0.1111111111111111,
             "#46039f"
            ],
            [
             0.2222222222222222,
             "#7201a8"
            ],
            [
             0.3333333333333333,
             "#9c179e"
            ],
            [
             0.4444444444444444,
             "#bd3786"
            ],
            [
             0.5555555555555556,
             "#d8576b"
            ],
            [
             0.6666666666666666,
             "#ed7953"
            ],
            [
             0.7777777777777778,
             "#fb9f3a"
            ],
            [
             0.8888888888888888,
             "#fdca26"
            ],
            [
             1,
             "#f0f921"
            ]
           ]
          },
          "colorway": [
           "#636efa",
           "#EF553B",
           "#00cc96",
           "#ab63fa",
           "#FFA15A",
           "#19d3f3",
           "#FF6692",
           "#B6E880",
           "#FF97FF",
           "#FECB52"
          ],
          "font": {
           "color": "#2a3f5f"
          },
          "geo": {
           "bgcolor": "white",
           "lakecolor": "white",
           "landcolor": "#E5ECF6",
           "showlakes": true,
           "showland": true,
           "subunitcolor": "white"
          },
          "hoverlabel": {
           "align": "left"
          },
          "hovermode": "closest",
          "mapbox": {
           "style": "light"
          },
          "paper_bgcolor": "white",
          "plot_bgcolor": "#E5ECF6",
          "polar": {
           "angularaxis": {
            "gridcolor": "white",
            "linecolor": "white",
            "ticks": ""
           },
           "bgcolor": "#E5ECF6",
           "radialaxis": {
            "gridcolor": "white",
            "linecolor": "white",
            "ticks": ""
           }
          },
          "scene": {
           "xaxis": {
            "backgroundcolor": "#E5ECF6",
            "gridcolor": "white",
            "gridwidth": 2,
            "linecolor": "white",
            "showbackground": true,
            "ticks": "",
            "zerolinecolor": "white"
           },
           "yaxis": {
            "backgroundcolor": "#E5ECF6",
            "gridcolor": "white",
            "gridwidth": 2,
            "linecolor": "white",
            "showbackground": true,
            "ticks": "",
            "zerolinecolor": "white"
           },
           "zaxis": {
            "backgroundcolor": "#E5ECF6",
            "gridcolor": "white",
            "gridwidth": 2,
            "linecolor": "white",
            "showbackground": true,
            "ticks": "",
            "zerolinecolor": "white"
           }
          },
          "shapedefaults": {
           "line": {
            "color": "#2a3f5f"
           }
          },
          "ternary": {
           "aaxis": {
            "gridcolor": "white",
            "linecolor": "white",
            "ticks": ""
           },
           "baxis": {
            "gridcolor": "white",
            "linecolor": "white",
            "ticks": ""
           },
           "bgcolor": "#E5ECF6",
           "caxis": {
            "gridcolor": "white",
            "linecolor": "white",
            "ticks": ""
           }
          },
          "title": {
           "x": 0.05
          },
          "xaxis": {
           "automargin": true,
           "gridcolor": "white",
           "linecolor": "white",
           "ticks": "",
           "title": {
            "standoff": 15
           },
           "zerolinecolor": "white",
           "zerolinewidth": 2
          },
          "yaxis": {
           "automargin": true,
           "gridcolor": "white",
           "linecolor": "white",
           "ticks": "",
           "title": {
            "standoff": 15
           },
           "zerolinecolor": "white",
           "zerolinewidth": 2
          }
         }
        },
        "title": {
         "text": "All 200 Points After Initial Training"
        },
        "width": 1200
       }
      }
     },
     "metadata": {},
     "output_type": "display_data"
    }
   ],
   "source": [
    "# Plot ALL points after initial training\n",
    "fig = make_subplots(\n",
    "    rows=1, cols=2,\n",
    "    specs=[[{'type': 'scatter3d'}, {'type': 'scatter3d'}]],\n",
    "    subplot_titles=(\"qNParEGO\", \"qEHVI\")\n",
    ")\n",
    "\n",
    "batch_number = torch.cat([\n",
    "    torch.zeros(n_initial),\n",
    "    torch.arange(1, N_BATCH + 1).repeat(BATCH_SIZE, 1).t().reshape(-1),\n",
    "]).numpy()\n",
    "\n",
    "start_idx = n_initial\n",
    "end_idx = len(train_obj_true_qparego)\n",
    "\n",
    "alg_data = [\n",
    "    (-train_obj_true_qparego[start_idx:end_idx], \"qNParEGO\"),\n",
    "    (-train_obj_true_qehvi[start_idx:end_idx], \"qEHVI\"),\n",
    "]\n",
    "\n",
    "for col, (train_obj, name) in enumerate(alg_data, 1):\n",
    "    obj_np = train_obj.cpu().numpy()\n",
    "\n",
    "    scatter = go.Scatter3d(\n",
    "        x=obj_np[:, 0], y=obj_np[:, 1], z=obj_np[:, 2],\n",
    "        mode='markers',\n",
    "        marker=dict(\n",
    "            size=4,\n",
    "            color=batch_number[start_idx:end_idx],\n",
    "            colorscale='Viridis',\n",
    "            opacity=0.8,\n",
    "            colorbar=dict(title='Iteration') if col == 2 else None\n",
    "        ),\n",
    "        name=name,\n",
    "        hovertemplate=\"<b>Obj1</b>: %{x:.2f}<br><b>Obj2</b>: %{y:.2f}<br><b>Obj3</b>: %{z:.2f}<extra></extra>\"\n",
    "    )\n",
    "\n",
    "    fig.add_trace(scatter, row=1, col=col)\n",
    "    fig.add_trace(pf_surface, row=1, col=col)\n",
    "\n",
    "# Update layout\n",
    "fig.update_layout(\n",
    "    height=600,\n",
    "    width=1200,\n",
    "    scene1=dict(\n",
    "        xaxis_title='Objective 1',\n",
    "        yaxis_title='Objective 2',\n",
    "        zaxis_title='Objective 3',\n",
    "        camera=dict(eye=dict(x=1.5, y=1.5, z=0.6))\n",
    "    ),\n",
    "    scene2=dict(\n",
    "        xaxis_title='Objective 1',\n",
    "        yaxis_title='Objective 2',\n",
    "        zaxis_title='Objective 3',\n",
    "        camera=dict(eye=dict(x=1.5, y=1.5, z=0.6))\n",
    "    ),\n",
    "    showlegend=False,\n",
    "    title_text=f'All {end_idx - start_idx} Points After Initial Training'\n",
    ")\n",
    "\n",
    "fig.show()\n",
    "\n",
    "\n",
    "pio.write_html(fig, 'DTLZ1a candidates.html')"
   ]
  },
  {
   "cell_type": "code",
   "execution_count": 26,
   "metadata": {
    "executionInfo": {
     "elapsed": 1221531,
     "status": "aborted",
     "timestamp": 1747909342286,
     "user": {
      "displayName": "Deepak L",
      "userId": "17343563887203968144"
     },
     "user_tz": -330
    },
    "id": "9LzcVovZBdhv",
    "scrolled": true
   },
   "outputs": [
    {
     "name": "stdout",
     "output_type": "stream",
     "text": [
      "ParEGO data saved to 'DTLZ1a (6-3) qNParEGO_data.csv'\n",
      "EHVI data saved to 'DTLZ1a (6-3) qEHVI_data.csv'\n"
     ]
    }
   ],
   "source": [
    "import pandas as pd\n",
    "\n",
    "# Convert PyTorch tensors to numpy arrays\n",
    "train_x_qparego_np = train_x_qparego.cpu().numpy()\n",
    "train_obj_qparego_np = train_obj_qparego.cpu().numpy()\n",
    "train_x_qehvi_np = train_x_qehvi.cpu().numpy()\n",
    "train_obj_qehvi_np = train_obj_qehvi.cpu().numpy()\n",
    "\n",
    "# Concatenate the input dimensions and objectives horizontally\n",
    "qparego_data = np.hstack([train_x_qparego_np, train_obj_qparego_np])\n",
    "qehvi_data = np.hstack([train_x_qehvi_np, train_obj_qehvi_np])\n",
    "\n",
    "# Create column headers for better readability\n",
    "input_dim = train_x_qparego.shape[1]\n",
    "obj_dim = train_obj_qparego.shape[1]\n",
    "column_names = [f\"dim{i+1}\" for i in range(input_dim)] + [f\"obj{i+1}\" for i in range(obj_dim)]\n",
    "\n",
    "# Create DataFrames with the combined data and column names\n",
    "qparego_df = pd.DataFrame(qparego_data, columns=column_names)\n",
    "qehvi_df = pd.DataFrame(qehvi_data, columns=column_names)\n",
    "\n",
    "# Save to CSV files\n",
    "qparego_df.to_csv('DTLZ1a (6-3) qNParEGO_data.csv', index=False, mode='w')\n",
    "qehvi_df.to_csv('DTLZ1a (6-3) qEHVI_data.csv', index=False, mode='w')\n",
    "\n",
    "print(\"ParEGO data saved to 'DTLZ1a (6-3) qNParEGO_data.csv'\")\n",
    "print(\"EHVI data saved to 'DTLZ1a (6-3) qEHVI_data.csv'\")\n"
   ]
  }
 ],
 "metadata": {
  "accelerator": "GPU",
  "colab": {
   "gpuType": "T4",
   "provenance": []
  },
  "kernelspec": {
   "display_name": "Python 3 (ipykernel)",
   "language": "python",
   "name": "python3"
  },
  "language_info": {
   "codemirror_mode": {
    "name": "ipython",
    "version": 3
   },
   "file_extension": ".py",
   "mimetype": "text/x-python",
   "name": "python",
   "nbconvert_exporter": "python",
   "pygments_lexer": "ipython3",
   "version": "3.12.9"
  }
 },
 "nbformat": 4,
 "nbformat_minor": 4
}
