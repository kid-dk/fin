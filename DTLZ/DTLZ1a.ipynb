{
 "cells": [
  {
   "cell_type": "code",
   "execution_count": 1,
   "metadata": {
    "colab": {
     "base_uri": "https://localhost:8080/"
    },
    "executionInfo": {
     "elapsed": 1708,
     "status": "ok",
     "timestamp": 1747908122662,
     "user": {
      "displayName": "Deepak L",
      "userId": "17343563887203968144"
     },
     "user_tz": -330
    },
    "id": "N3dXjUebLEBV",
    "outputId": "9cdab2a2-5a55-4ac5-d3f5-2716a407d90a"
   },
   "outputs": [],
   "source": [
    "# from google.colab import drive\n",
    "import os, torch, gc\n",
    "import pandas as pd\n",
    "import numpy as np # Import numpy\n",
    "\n",
    "# drive.mount('/gdrive')\n",
    "\n",
    "# # Define the path to your \"flick\" folder\n",
    "# folder_path = '/gdrive/MyDrive/code' # Replace 'MyDrive' with your actual Drive folder name if different\n",
    "\n",
    "# # Create the folder if it doesn't exist\n",
    "# if not os.path.exists(folder_path):\n",
    "#     os.makedirs(folder_path)\n",
    "\n",
    "# # Change the current working directory to the \"flick\" folder\n",
    "# os.chdir(folder_path)\n",
    "\n",
    "# print(f\"Current working directory changed to: {os.getcwd()}\")"
   ]
  },
  {
   "cell_type": "code",
   "execution_count": 2,
   "metadata": {
    "executionInfo": {
     "elapsed": 5,
     "status": "ok",
     "timestamp": 1747908122662,
     "user": {
      "displayName": "Deepak L",
      "userId": "17343563887203968144"
     },
     "user_tz": -330
    },
    "id": "XHcz5o_7NI_x"
   },
   "outputs": [],
   "source": [
    "os.environ[\"PYTORCH_CUDA_ALLOC_CONF\"] = \"expandable_segments:True\"\n",
    "torch.set_default_dtype(torch.float32)"
   ]
  },
  {
   "cell_type": "code",
   "execution_count": 3,
   "metadata": {
    "colab": {
     "base_uri": "https://localhost:8080/"
    },
    "executionInfo": {
     "elapsed": 3019,
     "status": "ok",
     "timestamp": 1747908125678,
     "user": {
      "displayName": "Deepak L",
      "userId": "17343563887203968144"
     },
     "user_tz": -330
    },
    "id": "lSxpp8YmBdho",
    "outputId": "7abd1bf4-8407-4808-aa23-8bb6474018f1"
   },
   "outputs": [],
   "source": [
    "# # Install dependencies if we are running in colab\n",
    "# import sys\n",
    "# if 'google.colab' in sys.modules:\n",
    "#     %pip install botorch"
   ]
  },
  {
   "cell_type": "markdown",
   "metadata": {
    "id": "JiijYn5qBdhm",
    "originalKey": "61330204-a407-449f-af77-fcd868546651",
    "showInput": false
   },
   "source": [
    "## Noisy, Parallel, Multi-Objective BO in BoTorch with qEHVI, qNEHVI, and qNParEGO\n",
    "\n",
    "In this tutorial, we illustrate how to implement a simple multi-objective (MO) Bayesian Optimization (BO) closed loop in BoTorch.\n",
    "\n",
    "We use the parallel ParEGO ($q$ParEGO), parallel Expected Hypervolume Improvement ($q$EHVI), and parallel Noisy Expected Hypervolume Improvement ($q$NEHVI) acquisition functions to optimize a synthetic ZDT2 problem test function with additive Gaussian observation noise over a 30-parameter search space [0,1]^30. See `botorch/test_functions/multi_objective.py` for details on ZDT2.\n",
    "\n",
    "Since botorch assumes a maximization of all objectives, we seek to find the Pareto frontier, the set of optimal trade-offs where improving one metric means deteriorating another.\n",
    "\n",
    "**For batch optimization (or in noisy settings), we strongly recommend using $q$NEHVI rather than $q$EHVI because it is far more efficient than $q$EHVI and mathematically equivalent in the noiseless setting.**"
   ]
  },
  {
   "cell_type": "markdown",
   "metadata": {
    "id": "8_WZ6HzLBdho",
    "originalKey": "f01416cb-e83e-4263-b599-b2a3221d144d",
    "showInput": false
   },
   "source": [
    "### Set dtype and device\n",
    "Note: $q$EHVI and $q$NEHVI aggressively exploit parallel hardware and are both much faster when run on a GPU. See [1, 2] for details."
   ]
  },
  {
   "cell_type": "code",
   "execution_count": 4,
   "metadata": {
    "collapsed": false,
    "customOutput": null,
    "executionInfo": {
     "elapsed": 5,
     "status": "ok",
     "timestamp": 1747908125684,
     "user": {
      "displayName": "Deepak L",
      "userId": "17343563887203968144"
     },
     "user_tz": -330
    },
    "executionStartTime": 1668649461840,
    "executionStopTime": 1668649461848,
    "id": "iNZ_9z01Bdhp",
    "jupyter": {
     "outputs_hidden": false
    },
    "originalKey": "41c30177-379b-4e63-9996-41bc17d70769",
    "requestMsgId": "7e4820a5-df3b-45a6-9826-42541ee0f4f4"
   },
   "outputs": [],
   "source": [
    "import os\n",
    "import torch\n",
    "torch.manual_seed(80)\n",
    "\n",
    "\n",
    "tkwargs = {\n",
    "    \"dtype\": torch.double,\n",
    "    \"device\": torch.device(\"cuda\" if torch.cuda.is_available() else \"cpu\"),\n",
    "}\n",
    "SMOKE_TEST = os.environ.get(\"SMOKE_TEST\")"
   ]
  },
  {
   "cell_type": "markdown",
   "metadata": {
    "id": "B1v64d4oBdhq",
    "originalKey": "8d895a93-397c-4d2c-b6f5-96f589312538",
    "showInput": false
   },
   "source": [
    "### Problem setup\n"
   ]
  },
  {
   "cell_type": "code",
   "execution_count": 5,
   "metadata": {
    "executionInfo": {
     "elapsed": 3,
     "status": "ok",
     "timestamp": 1747908125689,
     "user": {
      "displayName": "Deepak L",
      "userId": "17343563887203968144"
     },
     "user_tz": -330
    },
    "id": "VxqCnTGMBdhq"
   },
   "outputs": [],
   "source": [
    "# from botorch.test_functions.multi_objective import DTLZ1\n",
    "# problem = DTLZ1(dim=6, num_objectives=3, negate=True).to(**tkwargs)"
   ]
  },
  {
   "cell_type": "code",
   "execution_count": 6,
   "metadata": {
    "executionInfo": {
     "elapsed": 9,
     "status": "ok",
     "timestamp": 1747908125700,
     "user": {
      "displayName": "Deepak L",
      "userId": "17343563887203968144"
     },
     "user_tz": -330
    },
    "id": "6JGD2OZnBgNx"
   },
   "outputs": [],
   "source": [
    "import math\n",
    "import torch\n",
    "from torch import Tensor\n",
    "from typing import Optional\n",
    "from scipy.special import gamma\n",
    "from botorch.test_functions.multi_objective import DTLZ\n",
    "from botorch.utils.sampling import sample_simplex, sample_hypersphere\n",
    "\n",
    "class DTLZ1a(DTLZ):\n",
    "    r\"\"\"DTLZ1a: Modified DTLZ1 with 3 objectives and 6 variables.\"\"\"\n",
    "    _ref_val = 400.0\n",
    "\n",
    "    def __init__(self, noise_std: Optional[float] = None, negate: bool = False) -> None:\n",
    "        super().__init__(dim=6, num_objectives=3, noise_std=noise_std, negate=negate)\n",
    "\n",
    "    def _evaluate_true(self, X: Tensor) -> Tensor:\n",
    "        X_m = X[..., -self.k :]\n",
    "        X_m_minus_half = X_m - 0.5\n",
    "        # Modified cosine frequency: use 10*pi instead of 20*pi\n",
    "        sum_term = (X_m_minus_half.pow(2) - torch.cos(10 * math.pi * X_m_minus_half)).sum(dim=-1)\n",
    "        g_X = 100 * (self.k + sum_term)\n",
    "        g_X_term = 0.5 * (1 + g_X)\n",
    "        fs = []\n",
    "        for i in range(self.num_objectives):\n",
    "            idx = self.num_objectives - 1 - i\n",
    "            f_i = g_X_term * X[..., :idx].prod(dim=-1)\n",
    "            if i > 0:\n",
    "                f_i = f_i * (1 - X[..., idx])\n",
    "            fs.append(f_i)\n",
    "        return torch.stack(fs, dim=-1)\n",
    "\n",
    "    def evaluate_true(self, X: Tensor) -> Tensor:\n",
    "        return self._evaluate_true(X)\n",
    "\n",
    "    def gen_pareto_front(self, n: int) -> Tensor:\n",
    "        f_X = 0.5 * sample_simplex(\n",
    "            n=n,\n",
    "            d=self.num_objectives,\n",
    "            qmc=True,\n",
    "            dtype=self.ref_point.dtype,\n",
    "            device=self.ref_point.device,\n",
    "        )\n",
    "        if self.negate:\n",
    "            f_X *= -1\n",
    "        return f_X\n",
    "\n",
    "    @property\n",
    "    def _max_hv(self) -> float:\n",
    "        return self._ref_val ** self.num_objectives - 1.0 / (2 ** self.num_objectives)\n",
    "\n",
    "\n",
    "problem = DTLZ1a(negate=True).to(**tkwargs)"
   ]
  },
  {
   "cell_type": "code",
   "execution_count": 7,
   "metadata": {
    "colab": {
     "base_uri": "https://localhost:8080/"
    },
    "executionInfo": {
     "elapsed": 10,
     "status": "ok",
     "timestamp": 1747908125712,
     "user": {
      "displayName": "Deepak L",
      "userId": "17343563887203968144"
     },
     "user_tz": -330
    },
    "id": "-WaIKxgPBdhq",
    "outputId": "563b9e56-78ff-4136-bc38-a1ff0c338427"
   },
   "outputs": [
    {
     "name": "stdout",
     "output_type": "stream",
     "text": [
      "tensor([-400., -400., -400.], dtype=torch.float64)\n",
      "63999999.875\n",
      "tensor([[0., 0., 0., 0., 0., 0.],\n",
      "        [1., 1., 1., 1., 1., 1.]], dtype=torch.float64)\n"
     ]
    }
   ],
   "source": [
    "print(problem.ref_point, end=\"\\n\")\n",
    "print(problem.max_hv, end=\"\\n\")\n",
    "print(problem.bounds, end=\"\\n\")"
   ]
  },
  {
   "cell_type": "markdown",
   "metadata": {
    "id": "I31BWTdlBdhr",
    "originalKey": "fc047039-c2a9-4ea8-920e-c057547cfb11",
    "showInput": false
   },
   "source": [
    "#### Model initialization\n",
    "\n",
    "We use a list of `SingleTaskGP`s to model the two objectives with known noise variances. If no noise variances were provided, `SingleTaskGP` would infer (homoskedastic) noise levels instead.\n",
    "\n",
    "The models are initialized with $2(d+1)=6$ points drawn randomly from $[0,1]^2$."
   ]
  },
  {
   "cell_type": "code",
   "execution_count": 8,
   "metadata": {
    "collapsed": false,
    "customOutput": null,
    "executionInfo": {
     "elapsed": 4,
     "status": "ok",
     "timestamp": 1747908125717,
     "user": {
      "displayName": "Deepak L",
      "userId": "17343563887203968144"
     },
     "user_tz": -330
    },
    "executionStartTime": 1668649462312,
    "executionStopTime": 1668649462318,
    "id": "hIkSW6KWBdhr",
    "jupyter": {
     "outputs_hidden": false
    },
    "originalKey": "47170c31-65e4-4f2d-949c-d91544e065fc",
    "requestMsgId": "8a44b7cb-cc5f-419e-849f-2b4d1dc3abe1"
   },
   "outputs": [],
   "source": [
    "from botorch.models.gp_regression import SingleTaskGP\n",
    "from botorch.models.model_list_gp_regression import ModelListGP\n",
    "from botorch.models.transforms.outcome import Standardize\n",
    "from gpytorch.mlls.sum_marginal_log_likelihood import SumMarginalLogLikelihood\n",
    "from botorch.utils.transforms import unnormalize, normalize\n",
    "from botorch.utils.sampling import draw_sobol_samples\n",
    "\n",
    "# n_initial = 2 * (problem.dim + 1)\n",
    "n_initial = 11 * problem.dim - 1\n",
    "\n",
    "def generate_initial_data(n=n_initial):\n",
    "    # generate training data\n",
    "    train_x = draw_sobol_samples(bounds=problem.bounds, n=n, q=1).squeeze(1)\n",
    "    train_obj_true = problem(train_x)\n",
    "    train_obj = train_obj_true\n",
    "    return train_x, train_obj, train_obj_true\n",
    "\n",
    "\n",
    "\n",
    "from botorch.models.gp_regression import SingleTaskGP\n",
    "from gpytorch.mlls.exact_marginal_log_likelihood import ExactMarginalLogLikelihood\n",
    "\n",
    "def initialize_model(train_x, train_obj):\n",
    "    train_x = normalize(train_x, problem.bounds)\n",
    "    train_y = train_obj  # Shape: [n, 2]\n",
    "\n",
    "    model = SingleTaskGP(\n",
    "        train_x,\n",
    "        train_y,\n",
    "        outcome_transform=Standardize(m=3),  # Standardize both objectives\n",
    "    )\n",
    "    mll = ExactMarginalLogLikelihood(model.likelihood, model)\n",
    "    return mll, model"
   ]
  },
  {
   "cell_type": "markdown",
   "metadata": {
    "id": "Y-OuG7D3Bdhs",
    "originalKey": "6bfaef9a-3f34-4d51-9700-fbddc79eccf1",
    "showInput": false
   },
   "source": [
    "#### Define a helper functions that performs the essential BO step for $q$EHVI and $q$NEHVI\n",
    "The helper function below initializes the $q$EHVI acquisition function, optimizes it, and returns the batch $\\{x_1, x_2, \\ldots x_q\\}$ along with the observed function values.\n",
    "\n",
    "For this example, we'll use a relatively small batch of optimization ($q=4$). For batch optimization ($q>1$), passing the keyword argument `sequential=True` to the function `optimize_acqf`specifies that candidates should be optimized in a sequential greedy fashion (see [1] for details why this is important). A simple initialization heuristic is used to select the 10 restart initial locations from a set of 512 random points. Multi-start optimization of the acquisition function is performed using LBFGS-B with exact gradients computed via auto-differentiation.\n",
    "\n",
    "**Reference Point**\n",
    "\n",
    "$q$EHVI requires specifying a reference point, which is the lower bound on the objectives used for computing hypervolume. In this tutorial, we assume the reference point is known. In practice the reference point can be set 1) using domain knowledge to be slightly worse than the lower bound of objective values, where the lower bound is the minimum acceptable value of interest for each objective, or 2) using a dynamic reference point selection strategy.\n",
    "\n",
    "**Partitioning the Non-dominated Space into disjoint rectangles**\n",
    "\n",
    "$q$EHVI requires partitioning the non-dominated space into disjoint rectangles (see [1] for details).\n",
    "\n",
    "*Note:* `FastNondominatedPartitioning` *will be very slow when 1) there are a lot of points on the pareto frontier and 2) there are >5 objectives.*"
   ]
  },
  {
   "cell_type": "code",
   "execution_count": 9,
   "metadata": {
    "collapsed": false,
    "customOutput": null,
    "executionInfo": {
     "elapsed": 7,
     "status": "ok",
     "timestamp": 1747908125726,
     "user": {
      "displayName": "Deepak L",
      "userId": "17343563887203968144"
     },
     "user_tz": -330
    },
    "executionStartTime": 1668649462539,
    "executionStopTime": 1668649462641,
    "id": "zSOEeo1bBdhs",
    "jupyter": {
     "outputs_hidden": false
    },
    "originalKey": "b7effe94-1327-405d-9148-c8e93470b846",
    "requestMsgId": "40a5edda-3bee-43c9-b84b-c669c288eb80"
   },
   "outputs": [],
   "source": [
    "from botorch.optim.optimize import optimize_acqf, optimize_acqf_list\n",
    "from botorch.acquisition.objective import GenericMCObjective\n",
    "from botorch.utils.multi_objective.scalarization import get_chebyshev_scalarization\n",
    "from botorch.utils.multi_objective.box_decompositions.non_dominated import (\n",
    "    NondominatedPartitioning,\n",
    ")\n",
    "from botorch.acquisition.multi_objective import (\n",
    "    qLogExpectedHypervolumeImprovement,\n",
    "    qLogNoisyExpectedHypervolumeImprovement,\n",
    ")\n",
    "from botorch.utils.sampling import sample_simplex\n",
    "\n",
    "\n",
    "BATCH_SIZE = 2\n",
    "NUM_RESTARTS = 10 if not SMOKE_TEST else 2\n",
    "RAW_SAMPLES = 128 if not SMOKE_TEST else 4\n",
    "\n",
    "standard_bounds = torch.zeros(2, problem.dim, **tkwargs)\n",
    "standard_bounds[1] = 1\n",
    "\n",
    "\n",
    "def optimize_qehvi_and_get_observation(model, train_x, train_obj, sampler):\n",
    "    \"\"\"Optimizes the qEHVI acquisition function, and returns a new candidate and observation.\"\"\"\n",
    "    # partition non-dominated space into disjoint rectangles\n",
    "    with torch.no_grad():\n",
    "        pred = model.posterior(normalize(train_x, problem.bounds)).mean\n",
    "    partitioning = NondominatedPartitioning(\n",
    "        ref_point=problem.ref_point,\n",
    "        Y=pred,\n",
    "    )\n",
    "    acq_func = qLogExpectedHypervolumeImprovement(\n",
    "        model=model,\n",
    "        ref_point=problem.ref_point,\n",
    "        partitioning=partitioning,\n",
    "        sampler=sampler,\n",
    "    )\n",
    "    # optimize\n",
    "    candidates, _ = optimize_acqf(\n",
    "        acq_function=acq_func,\n",
    "        bounds=standard_bounds,\n",
    "        q=BATCH_SIZE,\n",
    "        num_restarts=NUM_RESTARTS,\n",
    "        raw_samples=RAW_SAMPLES,  # used for intialization heuristic\n",
    "        options={\"batch_limit\": 5, \"maxiter\": 200},\n",
    "        sequential=True,\n",
    "    )\n",
    "    # observe new values\n",
    "    new_x = unnormalize(candidates.detach(), bounds=problem.bounds)\n",
    "    new_obj_true = problem(new_x)\n",
    "    new_obj = new_obj_true\n",
    "    return new_x, new_obj, new_obj_true"
   ]
  },
  {
   "cell_type": "markdown",
   "metadata": {
    "id": "MiFVOqxhBdht",
    "originalKey": "ad78607d-d910-441c-903b-b15dc77a432f",
    "showInput": false
   },
   "source": [
    "#### Define a helper function that performs the essential BO step for $q$NParEGO\n",
    "The helper function below similarly initializes $q$NParEGO, optimizes it, and returns the batch $\\{x_1, x_2, \\ldots x_q\\}$ along with the observed function values.\n",
    "\n",
    "$q$NParEGO uses random augmented chebyshev scalarization with the `qNoisyExpectedImprovement` acquisition function. In the parallel setting ($q>1$), each candidate is optimized in sequential greedy fashion using a different random scalarization (see [1] for details).\n",
    "\n",
    "To do this, we create a list of `qNoisyExpectedImprovement` acquisition functions, each with different random scalarization weights. The `optimize_acqf_list` method sequentially generates one candidate per acquisition function and conditions the next candidate (and acquisition function) on the previously selected pending candidates."
   ]
  },
  {
   "cell_type": "code",
   "execution_count": 10,
   "metadata": {
    "collapsed": false,
    "customOutput": null,
    "executionInfo": {
     "elapsed": 7,
     "status": "ok",
     "timestamp": 1747908125738,
     "user": {
      "displayName": "Deepak L",
      "userId": "17343563887203968144"
     },
     "user_tz": -330
    },
    "executionStartTime": 1668649463087,
    "executionStopTime": 1668649463185,
    "id": "rACxiO2FBdht",
    "jupyter": {
     "outputs_hidden": false
    },
    "originalKey": "806b115f-a15f-44df-b7f9-d2f098969e02",
    "requestMsgId": "514d162f-78e0-447a-a483-c923cba18b80"
   },
   "outputs": [],
   "source": [
    "from botorch.acquisition import qLogNoisyExpectedImprovement\n",
    "\n",
    "\n",
    "def optimize_qnparego_and_get_observation(model, train_x, train_obj, sampler):\n",
    "    \"\"\"Samples a set of random weights for each candidate in the batch, performs sequential greedy optimization\n",
    "    of the qNParEGO acquisition function, and returns a new candidate and observation.\"\"\"\n",
    "    train_x = normalize(train_x, problem.bounds)\n",
    "    with torch.no_grad():\n",
    "        pred = model.posterior(train_x).mean\n",
    "    acq_func_list = []\n",
    "    for _ in range(BATCH_SIZE):\n",
    "        weights = sample_simplex(problem.num_objectives, **tkwargs).squeeze()\n",
    "        objective = GenericMCObjective(\n",
    "            get_chebyshev_scalarization(weights=weights, Y=pred)\n",
    "        )\n",
    "        acq_func = qLogNoisyExpectedImprovement(  # pyre-ignore: [28]\n",
    "            model=model,\n",
    "            objective=objective,\n",
    "            X_baseline=train_x,\n",
    "            sampler=sampler,\n",
    "            prune_baseline=True,\n",
    "        )\n",
    "        acq_func_list.append(acq_func)\n",
    "    # optimize\n",
    "    candidates, _ = optimize_acqf_list(\n",
    "        acq_function_list=acq_func_list,\n",
    "        bounds=standard_bounds,\n",
    "        num_restarts=NUM_RESTARTS,\n",
    "        raw_samples=RAW_SAMPLES,  # used for intialization heuristic\n",
    "        options={\"batch_limit\": 5, \"maxiter\": 200},\n",
    "    )\n",
    "    # observe new values\n",
    "    new_x = unnormalize(candidates.detach(), bounds=problem.bounds)\n",
    "    new_obj_true = problem(new_x)\n",
    "    new_obj = new_obj_true #+ torch.randn_like(new_obj_true) * NOISE_SE\n",
    "    return new_x, new_obj, new_obj_true"
   ]
  },
  {
   "cell_type": "markdown",
   "metadata": {
    "id": "ZXq2l3l-Bdht",
    "originalKey": "f8ffd86a-f4bb-4984-9330-04ff4d62f189",
    "showInput": false
   },
   "source": [
    "### Perform Bayesian Optimization loop with $q$NEHVI, $q$EHVI, and $q$NParEGO\n",
    "The Bayesian optimization \"loop\" for a batch size of $q$ simply iterates the following steps:\n",
    "1. given a surrogate model, choose a batch of points $\\{x_1, x_2, \\ldots x_q\\}$\n",
    "2. observe $f(x)$ for each $x$ in the batch\n",
    "3. update the surrogate model.\n",
    "\n",
    "\n",
    "Just for illustration purposes, we run one trial with `N_BATCH=20` rounds of optimization. The acquisition function is approximated using `MC_SAMPLES=128` samples.\n",
    "\n",
    "*Note*: Running this may take a little while."
   ]
  },
  {
   "cell_type": "code",
   "execution_count": 11,
   "metadata": {
    "colab": {
     "base_uri": "https://localhost:8080/",
     "height": 515
    },
    "collapsed": false,
    "customOutput": null,
    "executionInfo": {
     "elapsed": 1216482,
     "status": "error",
     "timestamp": 1747909342221,
     "user": {
      "displayName": "Deepak L",
      "userId": "17343563887203968144"
     },
     "user_tz": -330
    },
    "executionStartTime": 1668649463513,
    "executionStopTime": 1668649856754,
    "id": "A2Ii-yH3Bdhu",
    "jupyter": {
     "outputs_hidden": false
    },
    "originalKey": "c29b731a-64e7-401d-a5b2-3879d8d39327",
    "outputId": "5f3eb571-3ffe-4c2c-a315-f8424c0af3ca",
    "requestMsgId": "43e1021f-9ecd-4d2c-a7ba-21e26051ce66"
   },
   "outputs": [
    {
     "name": "stdout",
     "output_type": "stream",
     "text": [
      "\n",
      "Batch  1: Hypervolume (qNParEGO, qEHVI) = (58926163.92, 59312424.39), time = 58.31.\n",
      "Batch  2: Hypervolume (qNParEGO, qEHVI) = (59337733.67, 59312424.39), time = 55.46.\n",
      "Batch  3: Hypervolume (qNParEGO, qEHVI) = (59337733.67, 60353534.17), time = 64.82.\n",
      "Batch  4: Hypervolume (qNParEGO, qEHVI) = (59356476.16, 60945438.69), time = 85.33.\n",
      "Batch  5: Hypervolume (qNParEGO, qEHVI) = (60166232.94, 61163017.86), time = 78.18.\n",
      "Batch  6: Hypervolume (qNParEGO, qEHVI) = (60166232.94, 61174737.62), time = 70.01.\n",
      "Batch  7: Hypervolume (qNParEGO, qEHVI) = (60166232.94, 61500146.20), time = 92.24.\n",
      "Batch  8: Hypervolume (qNParEGO, qEHVI) = (60168003.76, 61500146.20), time = 99.81.\n",
      "Batch  9: Hypervolume (qNParEGO, qEHVI) = (60426945.50, 61500146.20), time = 99.55.\n",
      "Batch 10: Hypervolume (qNParEGO, qEHVI) = (60426945.50, 61500146.20), time = 121.90.\n",
      "Batch 11: Hypervolume (qNParEGO, qEHVI) = (60426945.50, 61500146.20), time = 127.58.\n",
      "Batch 12: Hypervolume (qNParEGO, qEHVI) = (60426945.50, 61500146.20), time = 114.64.\n",
      "Batch 13: Hypervolume (qNParEGO, qEHVI) = (60426945.50, 61500146.20), time = 155.65.\n",
      "Batch 14: Hypervolume (qNParEGO, qEHVI) = (60426945.50, 61989143.67), time = 98.06.\n",
      "Batch 15: Hypervolume (qNParEGO, qEHVI) = (60435432.25, 62019864.24), time = 128.56.\n",
      "Batch 16: Hypervolume (qNParEGO, qEHVI) = (61086180.96, 62019864.24), time = 92.58.\n",
      "Batch 17: Hypervolume (qNParEGO, qEHVI) = (61086180.96, 62056348.25), time = 94.90.\n",
      "Batch 18: Hypervolume (qNParEGO, qEHVI) = (61319368.57, 62056348.25), time = 328.31.\n",
      "Batch 19: Hypervolume (qNParEGO, qEHVI) = (61517350.74, 62201123.09), time = 212.33.\n",
      "Batch 20: Hypervolume (qNParEGO, qEHVI) = (61567284.16, 62201123.09), time = 224.39.\n",
      "Batch 21: Hypervolume (qNParEGO, qEHVI) = (61567284.16, 62201123.09), time = 212.97.\n",
      "Batch 22: Hypervolume (qNParEGO, qEHVI) = (61634824.38, 62201123.09), time = 498.42.\n",
      "Batch 23: Hypervolume (qNParEGO, qEHVI) = (61634824.38, 62201123.09), time = 581.38.\n",
      "Batch 24: Hypervolume (qNParEGO, qEHVI) = (61634824.38, 62201123.09), time = 289.65.\n",
      "Batch 25: Hypervolume (qNParEGO, qEHVI) = (61859481.69, 62201123.09), time = 209.84.\n",
      "Batch 26: Hypervolume (qNParEGO, qEHVI) = (62019026.41, 62201581.77), time = 559.76.\n",
      "Batch 27: Hypervolume (qNParEGO, qEHVI) = (62019026.41, 62201581.77), time = 410.38.\n",
      "Batch 28: Hypervolume (qNParEGO, qEHVI) = (62024176.46, 62209642.23), time = 356.49.\n",
      "Batch 29: Hypervolume (qNParEGO, qEHVI) = (62024252.78, 62209642.23), time = 593.44.\n",
      "Batch 30: Hypervolume (qNParEGO, qEHVI) = (62338663.11, 62209642.23), time = 675.43.\n",
      "Batch 31: Hypervolume (qNParEGO, qEHVI) = (62338663.11, 62209642.23), time = 669.71.\n",
      "Batch 32: Hypervolume (qNParEGO, qEHVI) = (62338663.11, 62209642.23), time = 560.48.\n",
      "Batch 33: Hypervolume (qNParEGO, qEHVI) = (62472589.73, 62209642.23), time = 944.02.\n",
      "Batch 34: Hypervolume (qNParEGO, qEHVI) = (62610896.18, 62209642.23), time = 628.78.\n",
      "Batch 35: Hypervolume (qNParEGO, qEHVI) = (62699765.58, 62209642.23), time = 1126.43.\n",
      "Batch 36: Hypervolume (qNParEGO, qEHVI) = (62699765.58, 62209642.23), time = 806.70.\n",
      "Batch 37: Hypervolume (qNParEGO, qEHVI) = (62719697.45, 62209642.23), time = 2330.38.\n",
      "Batch 38: Hypervolume (qNParEGO, qEHVI) = (62719697.45, 62209642.23), time = 2101.64.\n",
      "Batch 39: Hypervolume (qNParEGO, qEHVI) = (62719697.45, 62209642.23), time = 860.30.\n",
      "Batch 40: Hypervolume (qNParEGO, qEHVI) = (62890309.45, 62209818.52), time = 909.17.\n",
      "Batch 41: Hypervolume (qNParEGO, qEHVI) = (62890309.45, 62209818.52), time = 1470.55.\n",
      "Batch 42: Hypervolume (qNParEGO, qEHVI) = (63040477.79, 62316543.32), time = 1322.36.\n",
      "Batch 43: Hypervolume (qNParEGO, qEHVI) = (63040477.79, 62316543.32), time = 1268.38.\n",
      "Batch 44: Hypervolume (qNParEGO, qEHVI) = (63193289.86, 62316543.32), time = 1125.88.\n",
      "Batch 45: Hypervolume (qNParEGO, qEHVI) = (63193289.86, 62331401.78), time = 1509.65.\n",
      "Batch 46: Hypervolume (qNParEGO, qEHVI) = (63193289.86, 62331401.78), time = 1725.42.\n",
      "Batch 47: Hypervolume (qNParEGO, qEHVI) = (63193289.86, 62334545.78), time = 875.69.\n",
      "Batch 48: Hypervolume (qNParEGO, qEHVI) = (63195302.77, 62334545.78), time = 290.91.\n",
      "Batch 49: Hypervolume (qNParEGO, qEHVI) = (63195302.77, 62345916.82), time = 883.84.\n",
      "Batch 50: Hypervolume (qNParEGO, qEHVI) = (63223219.97, 62356820.17), time = 955.37.\n",
      "Batch 51: Hypervolume (qNParEGO, qEHVI) = (63223219.97, 62356820.17), time = 839.92.\n",
      "Batch 52: Hypervolume (qNParEGO, qEHVI) = (63223219.97, 62356820.17), time = 821.26.\n",
      "Batch 53: Hypervolume (qNParEGO, qEHVI) = (63223219.97, 62482470.93), time = 788.68.\n",
      "Batch 54: Hypervolume (qNParEGO, qEHVI) = (63223921.46, 62482470.93), time = 659.08.\n",
      "Batch 55: Hypervolume (qNParEGO, qEHVI) = (63223921.46, 62482470.93), time = 499.88.\n",
      "Batch 56: Hypervolume (qNParEGO, qEHVI) = (63223921.46, 62482470.93), time = 474.76.\n",
      "Batch 57: Hypervolume (qNParEGO, qEHVI) = (63223921.46, 62482470.93), time = 449.95.\n",
      "Batch 58: Hypervolume (qNParEGO, qEHVI) = (63223921.46, 62482470.93), time = 613.66.\n",
      "Batch 59: Hypervolume (qNParEGO, qEHVI) = (63223921.46, 62482470.93), time = 662.10.\n",
      "Batch 60: Hypervolume (qNParEGO, qEHVI) = (63387331.54, 62482470.93), time = 490.58.\n",
      "Batch 61: Hypervolume (qNParEGO, qEHVI) = (63387331.54, 62590870.40), time = 997.91.\n",
      "Batch 62: Hypervolume (qNParEGO, qEHVI) = (63387331.54, 62753477.41), time = 698.35.\n",
      "Batch 63: Hypervolume (qNParEGO, qEHVI) = (63387331.54, 62753477.41), time = 466.84.\n",
      "Batch 64: Hypervolume (qNParEGO, qEHVI) = (63387331.54, 62753477.41), time = 678.22.\n",
      "Batch 65: Hypervolume (qNParEGO, qEHVI) = (63387331.54, 62833602.52), time = 586.10.\n",
      "Batch 66: Hypervolume (qNParEGO, qEHVI) = (63387331.54, 62867219.10), time = 620.37.\n",
      "Batch 67: Hypervolume (qNParEGO, qEHVI) = (63394711.04, 62881221.05), time = 621.94.\n",
      "Batch 68: Hypervolume (qNParEGO, qEHVI) = (63409390.24, 62910497.78), time = 490.03.\n",
      "Batch 69: Hypervolume (qNParEGO, qEHVI) = (63409390.24, 62913413.85), time = 426.74.\n",
      "Batch 70: Hypervolume (qNParEGO, qEHVI) = (63409390.24, 62920165.35), time = 642.62.\n",
      "Batch 71: Hypervolume (qNParEGO, qEHVI) = (63564481.46, 62920165.35), time = 666.76.\n",
      "Batch 72: Hypervolume (qNParEGO, qEHVI) = (63564481.46, 62920165.35), time = 429.61.\n",
      "Batch 73: Hypervolume (qNParEGO, qEHVI) = (63564481.46, 62920165.35), time = 480.53.\n",
      "Batch 74: Hypervolume (qNParEGO, qEHVI) = (63564481.46, 62920165.35), time = 625.21.\n",
      "Batch 75: Hypervolume (qNParEGO, qEHVI) = (63564481.46, 62932935.95), time = 401.84.\n",
      "Batch 76: Hypervolume (qNParEGO, qEHVI) = (63564519.72, 62932935.95), time = 572.76.\n",
      "Batch 77: Hypervolume (qNParEGO, qEHVI) = (63564519.72, 62932935.95), time = 381.60.\n",
      "Batch 78: Hypervolume (qNParEGO, qEHVI) = (63564519.72, 62996025.87), time = 553.85.\n",
      "Batch 79: Hypervolume (qNParEGO, qEHVI) = (63602817.15, 62996025.87), time = 534.22.\n",
      "Batch 80: Hypervolume (qNParEGO, qEHVI) = (63602817.15, 63000542.27), time = 529.58.\n",
      "Batch 81: Hypervolume (qNParEGO, qEHVI) = (63602817.15, 63000542.27), time = 644.27.\n",
      "Batch 82: Hypervolume (qNParEGO, qEHVI) = (63625964.85, 63014304.80), time = 240.90.\n",
      "Batch 83: Hypervolume (qNParEGO, qEHVI) = (63625964.85, 63014304.80), time = 485.27.\n",
      "Batch 84: Hypervolume (qNParEGO, qEHVI) = (63678482.86, 63014304.80), time = 533.57.\n",
      "Batch 85: Hypervolume (qNParEGO, qEHVI) = (63678482.86, 63014304.80), time = 230.10.\n",
      "Batch 86: Hypervolume (qNParEGO, qEHVI) = (63678482.86, 63014304.80), time = 918.98.\n",
      "Batch 87: Hypervolume (qNParEGO, qEHVI) = (63678482.86, 63100599.88), time = 559.65.\n",
      "Batch 88: Hypervolume (qNParEGO, qEHVI) = (63678482.86, 63286816.25), time = 235.99.\n",
      "Batch 89: Hypervolume (qNParEGO, qEHVI) = (63680605.07, 63496026.07), time = 490.80.\n",
      "Batch 90: Hypervolume (qNParEGO, qEHVI) = (63692501.10, 63523846.04), time = 383.32.\n",
      "Batch 91: Hypervolume (qNParEGO, qEHVI) = (63692501.10, 63523846.04), time = 353.38.\n",
      "Batch 92: Hypervolume (qNParEGO, qEHVI) = (63692501.10, 63523846.04), time = 244.74.\n",
      "Batch 93: Hypervolume (qNParEGO, qEHVI) = (63692501.10, 63523846.04), time = 490.81.\n",
      "Batch 94: Hypervolume (qNParEGO, qEHVI) = (63693767.48, 63523846.04), time = 636.16.\n",
      "Batch 95: Hypervolume (qNParEGO, qEHVI) = (63700550.18, 63523846.04), time = 725.69.\n",
      "Batch 96: Hypervolume (qNParEGO, qEHVI) = (63700550.18, 63523846.04), time = 399.30.\n",
      "Batch 97: Hypervolume (qNParEGO, qEHVI) = (63700550.18, 63523846.04), time = 582.39.\n",
      "Batch 98: Hypervolume (qNParEGO, qEHVI) = (63700550.18, 63523846.04), time = 635.74.\n",
      "Batch 99: Hypervolume (qNParEGO, qEHVI) = (63700550.18, 63568904.86), time = 514.31.\n",
      "Batch 100: Hypervolume (qNParEGO, qEHVI) = (63700550.18, 63568904.86), time = 532.19."
     ]
    }
   ],
   "source": [
    "import time\n",
    "import warnings\n",
    "\n",
    "from botorch import fit_gpytorch_mll\n",
    "from botorch.exceptions import BadInitialCandidatesWarning\n",
    "from botorch.sampling.normal import SobolQMCNormalSampler\n",
    "from botorch.utils.multi_objective.box_decompositions.non_dominated import (\n",
    "    NondominatedPartitioning,\n",
    ")\n",
    "from botorch.utils.multi_objective.pareto import is_non_dominated\n",
    "\n",
    "\n",
    "warnings.filterwarnings(\"ignore\", category=BadInitialCandidatesWarning)\n",
    "warnings.filterwarnings(\"ignore\", category=RuntimeWarning)\n",
    "\n",
    "N_BATCH = 100 if not SMOKE_TEST else 4\n",
    "MC_SAMPLES = 64 if not SMOKE_TEST else 16\n",
    "\n",
    "verbose = True\n",
    "\n",
    "hvs_qparego, hvs_qehvi = [], []\n",
    "\n",
    "# call helper functions to generate initial training data and initialize model\n",
    "train_x_qparego, train_obj_qparego, train_obj_true_qparego = generate_initial_data()\n",
    "mll_qparego, model_qparego = initialize_model(train_x_qparego, train_obj_qparego)\n",
    "\n",
    "train_x_qehvi, train_obj_qehvi, train_obj_true_qehvi = (\n",
    "    train_x_qparego,\n",
    "    train_obj_qparego,\n",
    "    train_obj_true_qparego,\n",
    ")\n",
    "mll_qehvi, model_qehvi = initialize_model(train_x_qehvi, train_obj_qehvi)\n",
    "\n",
    "# compute hypervolume\n",
    "bd = NondominatedPartitioning(ref_point=problem.ref_point, Y=train_obj_true_qparego)\n",
    "volume = bd.compute_hypervolume().item()\n",
    "\n",
    "hvs_qparego.append(volume)\n",
    "hvs_qehvi.append(volume)\n",
    "\n",
    "# run N_BATCH rounds of BayesOpt after the initial random batch\n",
    "for iteration in range(1, N_BATCH + 1):\n",
    "\n",
    "    t0 = time.monotonic()\n",
    "\n",
    "    # fit the models\n",
    "    fit_gpytorch_mll(mll_qparego)\n",
    "    fit_gpytorch_mll(mll_qehvi)\n",
    "\n",
    "    # define the qEI and qNEI acquisition modules using a QMC sampler\n",
    "    qparego_sampler = SobolQMCNormalSampler(sample_shape=torch.Size([MC_SAMPLES]))\n",
    "    qehvi_sampler = SobolQMCNormalSampler(sample_shape=torch.Size([MC_SAMPLES]))\n",
    "\n",
    "    # optimize acquisition functions and get new observations\n",
    "    (\n",
    "        new_x_qparego,\n",
    "        new_obj_qparego,\n",
    "        new_obj_true_qparego,\n",
    "    ) = optimize_qnparego_and_get_observation(\n",
    "        model_qparego, train_x_qparego, train_obj_qparego, qparego_sampler\n",
    "    )\n",
    "    new_x_qehvi, new_obj_qehvi, new_obj_true_qehvi = optimize_qehvi_and_get_observation(\n",
    "        model_qehvi, train_x_qehvi, train_obj_qehvi, qehvi_sampler\n",
    "    )\n",
    "\n",
    "    # update training points\n",
    "    train_x_qparego = torch.cat([train_x_qparego, new_x_qparego])\n",
    "    train_obj_qparego = torch.cat([train_obj_qparego, new_obj_qparego])\n",
    "    train_obj_true_qparego = torch.cat([train_obj_true_qparego, new_obj_true_qparego])\n",
    "\n",
    "    train_x_qehvi = torch.cat([train_x_qehvi, new_x_qehvi])\n",
    "    train_obj_qehvi = torch.cat([train_obj_qehvi, new_obj_qehvi])\n",
    "    train_obj_true_qehvi = torch.cat([train_obj_true_qehvi, new_obj_true_qehvi])\n",
    "\n",
    "\n",
    "    # update progress\n",
    "    for hvs_list, train_obj in zip(\n",
    "        (hvs_qparego, hvs_qehvi),\n",
    "        (\n",
    "            train_obj_true_qparego,\n",
    "            train_obj_true_qehvi,\n",
    "        ),\n",
    "    ):\n",
    "        # compute hypervolume\n",
    "        bd = NondominatedPartitioning(ref_point=problem.ref_point, Y=train_obj)\n",
    "        volume = bd.compute_hypervolume().item()\n",
    "        hvs_list.append(volume)\n",
    "\n",
    "    # reinitialize the models so they are ready for fitting on next iteration\n",
    "    # Note: we find improved performance from not warm starting the model hyperparameters\n",
    "    # using the hyperparameters from the previous iteration\n",
    "    mll_qparego, model_qparego = initialize_model(train_x_qparego, train_obj_qparego)\n",
    "    mll_qehvi, model_qehvi = initialize_model(train_x_qehvi, train_obj_qehvi)\n",
    "\n",
    "    t1 = time.monotonic()\n",
    "\n",
    "    torch.cuda.empty_cache()\n",
    "    gc.collect()\n",
    "\n",
    "    if verbose:\n",
    "        print(\n",
    "            f\"\\nBatch {iteration:>2}: Hypervolume (qNParEGO, qEHVI) = \"\n",
    "            f\"({hvs_qparego[-1]:>4.2f}, {hvs_qehvi[-1]:>4.2f}), \"\n",
    "            f\"time = {t1-t0:>4.2f}.\",\n",
    "            end=\"\",\n",
    "        )\n",
    "    else:\n",
    "        print(\".\", end=\"\")"
   ]
  },
  {
   "cell_type": "markdown",
   "metadata": {
    "id": "v70wonHIBdhu",
    "originalKey": "72232578-0908-4292-aca4-d52197890dd6",
    "showInput": false
   },
   "source": [
    "### Plot the results\n",
    "The plot below shows the a common metric of multi-objective optimization performance, the log hypervolume difference: the log difference between the hypervolume of the true pareto front and the hypervolume of the approximate pareto front identified by each algorithm. The log hypervolume difference is plotted at each step of the optimization for each of the algorithms.\n",
    "\n",
    "The plot shows that $q$NEHVI outperforms $q$EHVI and $q$ParEGO."
   ]
  },
  {
   "cell_type": "code",
   "execution_count": 12,
   "metadata": {
    "collapsed": false,
    "customOutput": null,
    "executionInfo": {
     "elapsed": 1221479,
     "status": "aborted",
     "timestamp": 1747909342224,
     "user": {
      "displayName": "Deepak L",
      "userId": "17343563887203968144"
     },
     "user_tz": -330
    },
    "executionStartTime": 1668649857076,
    "executionStopTime": 1668649858100,
    "id": "FyLWlXS5Bdhu",
    "jupyter": {
     "outputs_hidden": false
    },
    "originalKey": "c9560130-5c74-4b2b-b24a-fd7618ee7822",
    "requestMsgId": "d6978d53-90e4-476b-bb1d-75010f65dcd6",
    "scrolled": true
   },
   "outputs": [
    {
     "data": {
      "text/plain": [
       "<matplotlib.legend.Legend at 0x77cfdb076ff0>"
      ]
     },
     "execution_count": 12,
     "metadata": {},
     "output_type": "execute_result"
    },
    {
     "data": {
      "image/png": "[encoded data removed]",
      "text/plain": [
       "<Figure size 800x600 with 1 Axes>"
      ]
     },
     "metadata": {},
     "output_type": "display_data"
    }
   ],
   "source": [
    "import numpy as np\n",
    "from matplotlib import pyplot as plt\n",
    "\n",
    "%matplotlib inline\n",
    "\n",
    "\n",
    "iters = np.arange(N_BATCH + 1) * BATCH_SIZE\n",
    "log_hv_difference_qparego = np.log10(problem.max_hv - np.asarray(hvs_qparego))\n",
    "log_hv_difference_qehvi = np.log10(problem.max_hv - np.asarray(hvs_qehvi))\n",
    "\n",
    "fig, ax = plt.subplots(1, 1, figsize=(8, 6))\n",
    "ax.errorbar(\n",
    "    iters,\n",
    "    log_hv_difference_qparego,\n",
    "    label=\"qNParEGO\",\n",
    "    linewidth=1.5,\n",
    ")\n",
    "ax.errorbar(\n",
    "    iters,\n",
    "    log_hv_difference_qehvi,\n",
    "    label=\"qEHVI\",\n",
    "    linewidth=1.5,\n",
    ")\n",
    "ax.set(\n",
    "    xlabel=\"number of observations (beyond initial points)\",\n",
    "    ylabel=\"Log Hypervolume Difference\",\n",
    ")\n",
    "ax.legend(loc=\"lower left\")"
   ]
  },
  {
   "cell_type": "markdown",
   "metadata": {
    "collapsed": true,
    "id": "zCutcS6HBdhv",
    "jupyter": {
     "outputs_hidden": true
    },
    "originalKey": "824c329c-6c02-4f67-bce0-a4c57ea655d8",
    "showInput": false
   },
   "source": [
    "#### Plot the true objectives at the evaluated designs colored by iteration\n",
    "\n",
    "To examine optimization process from another perspective, we plot the true function values at the designs selected under each algorithm where the color corresponds to the BO iteration at which the point was collected. The plot on the right for $q$NEHVI shows that the $q$NEHVI quickly identifies the pareto front and most of its evaluations are very close to the pareto front. $q$NParEGO also identifies has many observations close to the pareto front, but relies on optimizing random scalarizations, which is a less principled way of optimizing the pareto front compared to $q$NEHVI, which explicitly attempts focuses on improving the pareto front. $q$EHVI uses the posterior mean as a plug-in estimator for the true function values at the in-sample points, whereas $q$NEHVI than integrating over the uncertainty at the in-sample designs Sobol generates random points and has few points close to the Pareto front."
   ]
  },
  {
   "cell_type": "code",
   "execution_count": 13,
   "metadata": {
    "collapsed": false,
    "customOutput": null,
    "executionInfo": {
     "elapsed": 1221478,
     "status": "aborted",
     "timestamp": 1747909342225,
     "user": {
      "displayName": "Deepak L",
      "userId": "17343563887203968144"
     },
     "user_tz": -330
    },
    "executionStartTime": 1668649858641,
    "executionStopTime": 1668649859522,
    "id": "uWk2NqHCBdhv",
    "jupyter": {
     "outputs_hidden": false
    },
    "originalKey": "cf610a77-3e82-4c30-ac7b-f7a97fa91fa5",
    "requestMsgId": "afb07e9c-ebaf-4a8e-90e3-ca426532de20",
    "scrolled": true
   },
   "outputs": [],
   "source": [
    "# from matplotlib.cm import ScalarMappable\n",
    "\n",
    "\n",
    "# pareto_front = -problem.gen_pareto_front(n=1000).cpu().numpy()\n",
    "\n",
    "# fig, axes = plt.subplots(1, 2, figsize=(18, 7), sharex=True, sharey=True)\n",
    "# algos = [\"qNParEGO\", \"qEHVI\"]\n",
    "# cm = plt.get_cmap(\"viridis\")\n",
    "\n",
    "# batch_number = torch.cat(\n",
    "#     [\n",
    "#         torch.zeros(11 * problem.dim - 1),\n",
    "#         torch.arange(1, N_BATCH + 1).repeat(BATCH_SIZE, 1).t().reshape(-1),\n",
    "#     ]\n",
    "# ).numpy()\n",
    "# for i, train_obj in enumerate(\n",
    "#     (\n",
    "#         train_obj_true_qparego,\n",
    "#         train_obj_true_qehvi,\n",
    "#     )\n",
    "# ):\n",
    "#     sc = axes[i].scatter(\n",
    "#         -train_obj[:, 0].cpu().numpy(),\n",
    "#         -train_obj[:, 1].cpu().numpy(),\n",
    "#         c=batch_number,\n",
    "#         alpha=0.8,\n",
    "#     )\n",
    "#     axes[i].plot(pareto_front[:, 0], pareto_front[:, 1], \"r--\", label=\"Pareto Front\")\n",
    "#     axes[i].set_title(algos[i])\n",
    "#     axes[i].set_xlabel(\"Objective 1\")\n",
    "#     axes[i].legend()\n",
    "# axes[0].set_ylabel(\"Objective 2\")\n",
    "# norm = plt.Normalize(batch_number.min(), batch_number.max())\n",
    "# sm = ScalarMappable(norm=norm, cmap=plt.get_cmap(\"viridis\"))\n",
    "# sm.set_array([])\n",
    "# fig.subplots_adjust(right=0.9)\n",
    "# cbar_ax = fig.add_axes([0.93, 0.15, 0.01, 0.7])\n",
    "# cbar = fig.colorbar(sm, cax=cbar_ax)\n",
    "# cbar.ax.set_title(\"Iteration\")"
   ]
  },
  {
   "cell_type": "code",
   "execution_count": 14,
   "metadata": {
    "executionInfo": {
     "elapsed": 1221483,
     "status": "aborted",
     "timestamp": 1747909342231,
     "user": {
      "displayName": "Deepak L",
      "userId": "17343563887203968144"
     },
     "user_tz": -330
    },
    "id": "328eqjxR4XCR"
   },
   "outputs": [],
   "source": [
    "# import matplotlib.pyplot as plt\n",
    "\n",
    "# # Assume train_obj_true_qparego and train_obj_true_qehvi are torch tensors\n",
    "# # and problem.dim is defined, as well as pareto_front\n",
    "\n",
    "# fig, axes = plt.subplots(1, 2, figsize=(15, 7), sharex=True, sharey=True)\n",
    "# algos = [\"qNParEGO\", \"qEHVI\"]\n",
    "\n",
    "# for i, train_obj in enumerate((train_obj_true_qparego, train_obj_true_qehvi)):\n",
    "#     axes[i].scatter(\n",
    "#         -train_obj[:n_initial, 0].cpu().numpy(),\n",
    "#         -train_obj[:n_initial, 1].cpu().numpy(),\n",
    "#         c=\"deepskyblue\", s=80, alpha=0.8, label=\"Training Points\"\n",
    "#     )\n",
    "#     axes[i].plot(\n",
    "#         pareto_front[:, 0], pareto_front[:, 1], \"r--\", label=\"Pareto Front\"\n",
    "#     )\n",
    "#     axes[i].set_title(algos[i])\n",
    "#     axes[i].set_xlabel(\"Objective 1\")\n",
    "#     axes[i].legend()\n",
    "# axes[0].set_ylabel(\"Objective 2\")\n",
    "# plt.tight_layout()\n",
    "# plt.show()\n"
   ]
  },
  {
   "cell_type": "code",
   "execution_count": 15,
   "metadata": {
    "executionInfo": {
     "elapsed": 1221486,
     "status": "aborted",
     "timestamp": 1747909342236,
     "user": {
      "displayName": "Deepak L",
      "userId": "17343563887203968144"
     },
     "user_tz": -330
    },
    "id": "cbz-yjOu4bzq"
   },
   "outputs": [],
   "source": [
    "# import matplotlib.pyplot as plt\n",
    "# import numpy as np\n",
    "# from matplotlib.cm import ScalarMappable\n",
    "# from plotly.subplots import make_subplots\n",
    "# import plotly.graph_objects as go\n",
    "\n",
    "# # Generate the Pareto front (assuming this is already defined)\n",
    "# pareto_front = -problem.gen_pareto_front(n=1000).cpu().numpy()\n",
    "\n",
    "# # Number of points per batch\n",
    "# batch_size = 50\n",
    "\n",
    "# # Plot batches of points after skipping initial training points\n",
    "# def plot_batches_after_training(train_obj_true_qparego, train_obj_true_qehvi, pareto_front, n_initial, batch_size):\n",
    "#     algos = [\"qNParEGO\", \"qEHVI\"]\n",
    "#     train_objs = [train_obj_true_qparego, train_obj_true_qehvi]\n",
    "\n",
    "#     # Calculate total points in each train_obj\n",
    "#     total_points = train_obj_true_qparego.shape[0]\n",
    "\n",
    "#     # Calculate number of points after initial training\n",
    "#     n_remaining = total_points - n_initial\n",
    "\n",
    "#     # Calculate number of plots needed\n",
    "#     n_plots = (n_remaining + batch_size - 1) // batch_size\n",
    "\n",
    "#     for plot_idx in range(n_plots):\n",
    "#         fig, axes = plt.subplots(1, 2, figsize=(15, 7), sharex=True, sharey=True)\n",
    "#         cm = plt.get_cmap(\"viridis\")\n",
    "\n",
    "#         start_idx = n_initial + plot_idx * batch_size\n",
    "#         end_idx = min(start_idx + batch_size, total_points)\n",
    "\n",
    "#         for i, train_obj in enumerate(train_objs):\n",
    "#             # Get the current batch of points\n",
    "#             batch_points = train_obj[start_idx:end_idx]\n",
    "\n",
    "#             # Generate indices for coloring (relative to this batch)\n",
    "#             indices = np.arange(end_idx - start_idx)\n",
    "\n",
    "#             # Plot the points\n",
    "#             sc = axes[i].scatter(\n",
    "#                 -batch_points[:, 0].cpu().numpy(),\n",
    "#                 -batch_points[:, 1].cpu().numpy(),\n",
    "#                 c=indices,\n",
    "#                 cmap=cm,\n",
    "#                 alpha=0.8\n",
    "#             )\n",
    "\n",
    "#             # Plot Pareto front\n",
    "#             axes[i].plot(pareto_front[:, 0], pareto_front[:, 1], \"r--\", label=\"Pareto Front\")\n",
    "\n",
    "#             # Set titles and labels\n",
    "#             axes[i].set_title(f\"{algos[i]} (Batch {plot_idx+1}: {len(indices)} points)\")\n",
    "#             axes[i].set_xlabel(\"Objective 1\")\n",
    "#             axes[i].legend()\n",
    "\n",
    "#         axes[0].set_ylabel(\"Objective 2\")\n",
    "\n",
    "#         # Add colorbar\n",
    "#         norm = plt.Normalize(indices.min(), indices.max())\n",
    "#         sm = ScalarMappable(norm=norm, cmap=cm)\n",
    "#         sm.set_array([])\n",
    "#         fig.subplots_adjust(right=0.9)\n",
    "#         cbar_ax = fig.add_axes([0.93, 0.15, 0.01, 0.7])\n",
    "#         cbar = fig.colorbar(sm, cax=cbar_ax)\n",
    "#         cbar.ax.set_title(\"Point Index\")\n",
    "\n",
    "#         plt.tight_layout(rect=[0, 0, 0.92, 1])\n",
    "#         plt.show()\n",
    "\n",
    "# # Call the function to generate the plots\n",
    "# plot_batches_after_training(train_obj_true_qparego, train_obj_true_qehvi, pareto_front, n_initial, batch_size)\n"
   ]
  },
  {
   "cell_type": "code",
   "execution_count": 16,
   "metadata": {
    "executionInfo": {
     "elapsed": 1221486,
     "status": "aborted",
     "timestamp": 1747909342237,
     "user": {
      "displayName": "Deepak L",
      "userId": "17343563887203968144"
     },
     "user_tz": -330
    },
    "id": "93EOnepy-IC0"
   },
   "outputs": [],
   "source": [
    "# def plot_pareto_front_2d(train_obj_true_qparego, train_obj_true_qehvi, pareto_front=None):\n",
    "#     if pareto_front is None:\n",
    "#         pareto_front = -problem.gen_pareto_front(n=1000).cpu().numpy()\n",
    "\n",
    "#     fig = make_subplots(rows=1, cols=2,\n",
    "#                        subplot_titles=(\"qNParEGO\", \"qEHVI\"),\n",
    "#                        horizontal_spacing=0.1)\n",
    "\n",
    "#     batch_number = torch.cat(\n",
    "#         [\n",
    "#             torch.zeros(n_initial),\n",
    "#             torch.arange(1, N_BATCH + 1).repeat(BATCH_SIZE, 1).t().reshape(-1),\n",
    "#         ]\n",
    "#     ).numpy()\n",
    "\n",
    "#     for i, (train_obj, title) in enumerate([(train_obj_true_qparego, \"qNParEGO\"),\n",
    "#                                            (train_obj_true_qehvi, \"qEHVI\")], 1):\n",
    "#         # Convert to numpy\n",
    "#         obj_np = -train_obj.cpu().numpy()\n",
    "\n",
    "#         # Add scatter plot for objective values\n",
    "#         fig.add_trace(\n",
    "#             go.Scatter(\n",
    "#                 x=obj_np[:, 0],\n",
    "#                 y=obj_np[:, 1],\n",
    "#                 mode='markers',\n",
    "#                 marker=dict(\n",
    "#                     size=8,\n",
    "#                     color=batch_number[:len(obj_np)],\n",
    "#                     colorscale='Viridis',\n",
    "#                     colorbar=dict(title='Iteration') if i == 2 else None,\n",
    "#                     opacity=0.7\n",
    "#                 ),\n",
    "#                 name=title\n",
    "#             ),\n",
    "#             row=1, col=i\n",
    "#         )\n",
    "\n",
    "#         # Add Pareto front\n",
    "#         fig.add_trace(\n",
    "#             go.Scatter(\n",
    "#                 x=pareto_front[:, 0],\n",
    "#                 y=pareto_front[:, 1],\n",
    "#                 mode='lines',\n",
    "#                 line=dict(color='red', width=2),\n",
    "#                 name='True Pareto Front'\n",
    "#             ),\n",
    "#             row=1, col=i\n",
    "#         )\n",
    "\n",
    "#     # Update layout\n",
    "#     fig.update_layout(\n",
    "#         height=500,\n",
    "#         width=1200,\n",
    "#         showlegend=False,\n",
    "#         title_text=\"Objective Space - DTLZ1a with 2 Objectives\",\n",
    "#     )\n",
    "\n",
    "#     # Set consistent axis ranges\n",
    "#     fig.update_xaxes(title_text=\"Objective 1\", range=[0, 0.5], row=1, col=1)\n",
    "#     fig.update_yaxes(title_text=\"Objective 2\", range=[0, 0.5], row=1, col=1)\n",
    "#     fig.update_xaxes(title_text=\"Objective 1\", range=[0, 0.5], row=1, col=2)\n",
    "#     fig.update_yaxes(title_text=\"Objective 2\", range=[0, 0.5], row=1, col=2)\n",
    "\n",
    "#     return fig\n",
    "\n",
    "# plot_pareto_front_2d(train_obj_true_qparego, train_obj_true_qehvi)"
   ]
  },
  {
   "cell_type": "markdown",
   "metadata": {
    "id": "rEgC0R4V6cxc"
   },
   "source": [
    "####plots if is obj =3"
   ]
  },
  {
   "cell_type": "code",
   "execution_count": 17,
   "metadata": {
    "executionInfo": {
     "elapsed": 1221486,
     "status": "aborted",
     "timestamp": 1747909342238,
     "user": {
      "displayName": "Deepak L",
      "userId": "17343563887203968144"
     },
     "user_tz": -330
    },
    "id": "mg_wnvuzQvVN"
   },
   "outputs": [],
   "source": [
    "import plotly.graph_objects as go\n",
    "import plotly.io as pio\n",
    "from plotly.subplots import make_subplots\n",
    "import numpy as np\n",
    "\n",
    "def create_pareto_surface(problem, n=1000):\n",
    "    # Generate Pareto front using the problem's built-in method\n",
    "    pareto_front = -problem.gen_pareto_front(n).cpu().numpy()\n",
    "\n",
    "    if problem.num_objectives == 3:\n",
    "        # Create Mesh3d trace for 3D problems\n",
    "        return go.Mesh3d(\n",
    "            x=pareto_front[:, 0],\n",
    "            y=pareto_front[:, 1],\n",
    "            z=pareto_front[:, 2],\n",
    "            color='red',\n",
    "            opacity=0.3,\n",
    "            intensity=pareto_front[:, 2],\n",
    "            colorscale='Reds',\n",
    "            showscale=False,\n",
    "            name='Pareto Front'\n",
    "        )\n",
    "    else:\n",
    "        raise ValueError(\"Only 3D visualization is supported in this implementation\")\n",
    "\n"
   ]
  },
  {
   "cell_type": "code",
   "execution_count": 18,
   "metadata": {
    "executionInfo": {
     "elapsed": 1221486,
     "status": "aborted",
     "timestamp": 1747909342239,
     "user": {
      "displayName": "Deepak L",
      "userId": "17343563887203968144"
     },
     "user_tz": -330
    },
    "id": "3nhpwmwhSHVO"
   },
   "outputs": [
    {
     "data": {
      "application/vnd.plotly.v1+json": {
       "config": {
        "plotlyServerURL": "https://plot.ly"
       },
       "data": [
        {
         "marker": {
          "color": "deepskyblue",
          "opacity": 0.8,
          "size": 4
         },
         "mode": "markers",
         "name": "qNParEGO",
         "scene": "scene",
         "type": "scatter3d",
         "x": {
          "bdata": "OhDeUysqXUCCh/GsE64pQOtzcZ/tLDdAOm31MGAKPEB22/B20RdgQJfjDa0fAgNASE0bABtbN0A0QXAMrKVYQDb1TN86s1lAiWa3ihXiI0CY/yK6GRhKQH7GNfM0xk5Awfx3GjE6VUAgtKAMUKghQA==",
          "dtype": "f8"
         },
         "y": {
          "bdata": "1J9Eo6Z8VkBLyELwHFwtQFJEsTGxpxZApJbom4q5YUC+u2E8NKUxQGACPTA0mlVAhA9+TVDfIEB9cBGN9/5lQHMJivsKbDNAg7KAk0ssRUB9+4FSryxGQFu6GbuujVRAvE/Q08aiRkAYmSM5A+85QA==",
          "dtype": "f8"
         },
         "z": {
          "bdata": "nAlSb3CNS0C2Sl1Y4VBqQOqaIisGfFRAC9FQ2EFrXkAk9SCZiHJVQJ8OC7VTl1lAft5GSYJYZEBbRQfi+sT8P5pqWIISpSNA5OAUQUObZUBRDFo8jbxiQDpEIxBfeE5AHkbgyyfvXEBVFHxYFR1TQA==",
          "dtype": "f8"
         }
        },
        {
         "color": "red",
         "colorscale": [
          [
           0,
           "rgb(255,245,240)"
          ],
          [
           0.125,
           "rgb(254,224,210)"
          ],
          [
           0.25,
           "rgb(252,187,161)"
          ],
          [
           0.375,
           "rgb(252,146,114)"
          ],
          [
           0.5,
           "rgb(251,106,74)"
          ],
          [
           0.625,
           "rgb(239,59,44)"
          ],
          [
           0.75,
           "rgb(203,24,29)"
          ],
          [
           0.875,
           "rgb(165,15,21)"
          ],
          [
           1,
           "rgb(103,0,13)"
          ]
         ],
         "intensity": {
          "bdata": "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",
          "dtype": "f8"
         },
         "name": "Pareto Front",
         "opacity": 0.3,
         "scene": "scene",
         "showscale": false,
         "type": "mesh3d",
         "x": {
          "bdata": "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",
          "dtype": "f8"
         },
         "y": {
          "bdata": "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",
          "dtype": "f8"
         },
         "z": {
          "bdata": "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",
          "dtype": "f8"
         }
        },
        {
         "marker": {
          "color": "deepskyblue",
          "opacity": 0.8,
          "size": 4
         },
         "mode": "markers",
         "name": "qEHVI",
         "scene": "scene2",
         "type": "scatter3d",
         "x": {
          "bdata": "OhDeUysqXUCCh/GsE64pQOtzcZ/tLDdAOm31MGAKPEB22/B20RdgQJfjDa0fAgNASE0bABtbN0A0QXAMrKVYQDb1TN86s1lAiWa3ihXiI0CY/yK6GRhKQH7GNfM0xk5Awfx3GjE6VUAgtKAMUKghQA==",
          "dtype": "f8"
         },
         "y": {
          "bdata": "1J9Eo6Z8VkBLyELwHFwtQFJEsTGxpxZApJbom4q5YUC+u2E8NKUxQGACPTA0mlVAhA9+TVDfIEB9cBGN9/5lQHMJivsKbDNAg7KAk0ssRUB9+4FSryxGQFu6GbuujVRAvE/Q08aiRkAYmSM5A+85QA==",
          "dtype": "f8"
         },
         "z": {
          "bdata": "nAlSb3CNS0C2Sl1Y4VBqQOqaIisGfFRAC9FQ2EFrXkAk9SCZiHJVQJ8OC7VTl1lAft5GSYJYZEBbRQfi+sT8P5pqWIISpSNA5OAUQUObZUBRDFo8jbxiQDpEIxBfeE5AHkbgyyfvXEBVFHxYFR1TQA==",
          "dtype": "f8"
         }
        },
        {
         "color": "red",
         "colorscale": [
          [
           0,
           "rgb(255,245,240)"
          ],
          [
           0.125,
           "rgb(254,224,210)"
          ],
          [
           0.25,
           "rgb(252,187,161)"
          ],
          [
           0.375,
           "rgb(252,146,114)"
          ],
          [
           0.5,
           "rgb(251,106,74)"
          ],
          [
           0.625,
           "rgb(239,59,44)"
          ],
          [
           0.75,
           "rgb(203,24,29)"
          ],
          [
           0.875,
           "rgb(165,15,21)"
          ],
          [
           1,
           "rgb(103,0,13)"
          ]
         ],
         "intensity": {
          "bdata": "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",
          "dtype": "f8"
         },
         "name": "Pareto Front",
         "opacity": 0.3,
         "scene": "scene2",
         "showscale": false,
         "type": "mesh3d",
         "x": {
          "bdata": "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",
          "dtype": "f8"
         },
         "y": {
          "bdata": "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",
          "dtype": "f8"
         },
         "z": {
          "bdata": "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",
          "dtype": "f8"
         }
        }
       ],
       "layout": {
        "annotations": [
         {
          "font": {
           "size": 16
          },
          "showarrow": false,
          "text": "qNParEGO",
          "x": 0.225,
          "xanchor": "center",
          "xref": "paper",
          "y": 1,
          "yanchor": "bottom",
          "yref": "paper"
         },
         {
          "font": {
           "size": 16
          },
          "showarrow": false,
          "text": "qEHVI",
          "x": 0.775,
          "xanchor": "center",
          "xref": "paper",
          "y": 1,
          "yanchor": "bottom",
          "yref": "paper"
         }
        ],
        "height": 600,
        "scene": {
         "camera": {
          "eye": {
           "x": 1.5,
           "y": 1.5,
           "z": 0.6
          }
         },
         "domain": {
          "x": [
           0,
           0.45
          ],
          "y": [
           0,
           1
          ]
         },
         "xaxis": {
          "title": {
           "text": "Objective 1"
          }
         },
         "yaxis": {
          "title": {
           "text": "Objective 2"
          }
         },
         "zaxis": {
          "title": {
           "text": "Objective 3"
          }
         }
        },
        "scene2": {
         "camera": {
          "eye": {
           "x": 1.5,
           "y": 1.5,
           "z": 0.6
          }
         },
         "domain": {
          "x": [
           0.55,
           1
          ],
          "y": [
           0,
           1
          ]
         },
         "xaxis": {
          "title": {
           "text": "Objective 1"
          }
         },
         "yaxis": {
          "title": {
           "text": "Objective 2"
          }
         },
         "zaxis": {
          "title": {
           "text": "Objective 3"
          }
         }
        },
        "showlegend": false,
        "template": {
         "data": {
          "bar": [
           {
            "error_x": {
             "color": "#2a3f5f"
            },
            "error_y": {
             "color": "#2a3f5f"
            },
            "marker": {
             "line": {
              "color": "#E5ECF6",
              "width": 0.5
             },
             "pattern": {
              "fillmode": "overlay",
              "size": 10,
              "solidity": 0.2
             }
            },
            "type": "bar"
           }
          ],
          "barpolar": [
           {
            "marker": {
             "line": {
              "color": "#E5ECF6",
              "width": 0.5
             },
             "pattern": {
              "fillmode": "overlay",
              "size": 10,
              "solidity": 0.2
             }
            },
            "type": "barpolar"
           }
          ],
          "carpet": [
           {
            "aaxis": {
             "endlinecolor": "#2a3f5f",
             "gridcolor": "white",
             "linecolor": "white",
             "minorgridcolor": "white",
             "startlinecolor": "#2a3f5f"
            },
            "baxis": {
             "endlinecolor": "#2a3f5f",
             "gridcolor": "white",
             "linecolor": "white",
             "minorgridcolor": "white",
             "startlinecolor": "#2a3f5f"
            },
            "type": "carpet"
           }
          ],
          "choropleth": [
           {
            "colorbar": {
             "outlinewidth": 0,
             "ticks": ""
            },
            "type": "choropleth"
           }
          ],
          "contour": [
           {
            "colorbar": {
             "outlinewidth": 0,
             "ticks": ""
            },
            "colorscale": [
             [
              0,
              "#0d0887"
             ],
             [
              0.1111111111111111,
              "#46039f"
             ],
             [
              0.2222222222222222,
              "#7201a8"
             ],
             [
              0.3333333333333333,
              "#9c179e"
             ],
             [
              0.4444444444444444,
              "#bd3786"
             ],
             [
              0.5555555555555556,
              "#d8576b"
             ],
             [
              0.6666666666666666,
              "#ed7953"
             ],
             [
              0.7777777777777778,
              "#fb9f3a"
             ],
             [
              0.8888888888888888,
              "#fdca26"
             ],
             [
              1,
              "#f0f921"
             ]
            ],
            "type": "contour"
           }
          ],
          "contourcarpet": [
           {
            "colorbar": {
             "outlinewidth": 0,
             "ticks": ""
            },
            "type": "contourcarpet"
           }
          ],
          "heatmap": [
           {
            "colorbar": {
             "outlinewidth": 0,
             "ticks": ""
            },
            "colorscale": [
             [
              0,
              "#0d0887"
             ],
             [
              0.1111111111111111,
              "#46039f"
             ],
             [
              0.2222222222222222,
              "#7201a8"
             ],
             [
              0.3333333333333333,
              "#9c179e"
             ],
             [
              0.4444444444444444,
              "#bd3786"
             ],
             [
              0.5555555555555556,
              "#d8576b"
             ],
             [
              0.6666666666666666,
              "#ed7953"
             ],
             [
              0.7777777777777778,
              "#fb9f3a"
             ],
             [
              0.8888888888888888,
              "#fdca26"
             ],
             [
              1,
              "#f0f921"
             ]
            ],
            "type": "heatmap"
           }
          ],
          "histogram": [
           {
            "marker": {
             "pattern": {
              "fillmode": "overlay",
              "size": 10,
              "solidity": 0.2
             }
            },
            "type": "histogram"
           }
          ],
          "histogram2d": [
           {
            "colorbar": {
             "outlinewidth": 0,
             "ticks": ""
            },
            "colorscale": [
             [
              0,
              "#0d0887"
             ],
             [
              0.1111111111111111,
              "#46039f"
             ],
             [
              0.2222222222222222,
              "#7201a8"
             ],
             [
              0.3333333333333333,
              "#9c179e"
             ],
             [
              0.4444444444444444,
              "#bd3786"
             ],
             [
              0.5555555555555556,
              "#d8576b"
             ],
             [
              0.6666666666666666,
              "#ed7953"
             ],
             [
              0.7777777777777778,
              "#fb9f3a"
             ],
             [
              0.8888888888888888,
              "#fdca26"
             ],
             [
              1,
              "#f0f921"
             ]
            ],
            "type": "histogram2d"
           }
          ],
          "histogram2dcontour": [
           {
            "colorbar": {
             "outlinewidth": 0,
             "ticks": ""
            },
            "colorscale": [
             [
              0,
              "#0d0887"
             ],
             [
              0.1111111111111111,
              "#46039f"
             ],
             [
              0.2222222222222222,
              "#7201a8"
             ],
             [
              0.3333333333333333,
              "#9c179e"
             ],
             [
              0.4444444444444444,
              "#bd3786"
             ],
             [
              0.5555555555555556,
              "#d8576b"
             ],
             [
              0.6666666666666666,
              "#ed7953"
             ],
             [
              0.7777777777777778,
              "#fb9f3a"
             ],
             [
              0.8888888888888888,
              "#fdca26"
             ],
             [
              1,
              "#f0f921"
             ]
            ],
            "type": "histogram2dcontour"
           }
          ],
          "mesh3d": [
           {
            "colorbar": {
             "outlinewidth": 0,
             "ticks": ""
            },
            "type": "mesh3d"
           }
          ],
          "parcoords": [
           {
            "line": {
             "colorbar": {
              "outlinewidth": 0,
              "ticks": ""
             }
            },
            "type": "parcoords"
           }
          ],
          "pie": [
           {
            "automargin": true,
            "type": "pie"
           }
          ],
          "scatter": [
           {
            "fillpattern": {
             "fillmode": "overlay",
             "size": 10,
             "solidity": 0.2
            },
            "type": "scatter"
           }
          ],
          "scatter3d": [
           {
            "line": {
             "colorbar": {
              "outlinewidth": 0,
              "ticks": ""
             }
            },
            "marker": {
             "colorbar": {
              "outlinewidth": 0,
              "ticks": ""
             }
            },
            "type": "scatter3d"
           }
          ],
          "scattercarpet": [
           {
            "marker": {
             "colorbar": {
              "outlinewidth": 0,
              "ticks": ""
             }
            },
            "type": "scattercarpet"
           }
          ],
          "scattergeo": [
           {
            "marker": {
             "colorbar": {
              "outlinewidth": 0,
              "ticks": ""
             }
            },
            "type": "scattergeo"
           }
          ],
          "scattergl": [
           {
            "marker": {
             "colorbar": {
              "outlinewidth": 0,
              "ticks": ""
             }
            },
            "type": "scattergl"
           }
          ],
          "scattermap": [
           {
            "marker": {
             "colorbar": {
              "outlinewidth": 0,
              "ticks": ""
             }
            },
            "type": "scattermap"
           }
          ],
          "scattermapbox": [
           {
            "marker": {
             "colorbar": {
              "outlinewidth": 0,
              "ticks": ""
             }
            },
            "type": "scattermapbox"
           }
          ],
          "scatterpolar": [
           {
            "marker": {
             "colorbar": {
              "outlinewidth": 0,
              "ticks": ""
             }
            },
            "type": "scatterpolar"
           }
          ],
          "scatterpolargl": [
           {
            "marker": {
             "colorbar": {
              "outlinewidth": 0,
              "ticks": ""
             }
            },
            "type": "scatterpolargl"
           }
          ],
          "scatterternary": [
           {
            "marker": {
             "colorbar": {
              "outlinewidth": 0,
              "ticks": ""
             }
            },
            "type": "scatterternary"
           }
          ],
          "surface": [
           {
            "colorbar": {
             "outlinewidth": 0,
             "ticks": ""
            },
            "colorscale": [
             [
              0,
              "#0d0887"
             ],
             [
              0.1111111111111111,
              "#46039f"
             ],
             [
              0.2222222222222222,
              "#7201a8"
             ],
             [
              0.3333333333333333,
              "#9c179e"
             ],
             [
              0.4444444444444444,
              "#bd3786"
             ],
             [
              0.5555555555555556,
              "#d8576b"
             ],
             [
              0.6666666666666666,
              "#ed7953"
             ],
             [
              0.7777777777777778,
              "#fb9f3a"
             ],
             [
              0.8888888888888888,
              "#fdca26"
             ],
             [
              1,
              "#f0f921"
             ]
            ],
            "type": "surface"
           }
          ],
          "table": [
           {
            "cells": {
             "fill": {
              "color": "#EBF0F8"
             },
             "line": {
              "color": "white"
             }
            },
            "header": {
             "fill": {
              "color": "#C8D4E3"
             },
             "line": {
              "color": "white"
             }
            },
            "type": "table"
           }
          ]
         },
         "layout": {
          "annotationdefaults": {
           "arrowcolor": "#2a3f5f",
           "arrowhead": 0,
           "arrowwidth": 1
          },
          "autotypenumbers": "strict",
          "coloraxis": {
           "colorbar": {
            "outlinewidth": 0,
            "ticks": ""
           }
          },
          "colorscale": {
           "diverging": [
            [
             0,
             "#8e0152"
            ],
            [
             0.1,
             "#c51b7d"
            ],
            [
             0.2,
             "#de77ae"
            ],
            [
             0.3,
             "#f1b6da"
            ],
            [
             0.4,
             "#fde0ef"
            ],
            [
             0.5,
             "#f7f7f7"
            ],
            [
             0.6,
             "#e6f5d0"
            ],
            [
             0.7,
             "#b8e186"
            ],
            [
             0.8,
             "#7fbc41"
            ],
            [
             0.9,
             "#4d9221"
            ],
            [
             1,
             "#276419"
            ]
           ],
           "sequential": [
            [
             0,
             "#0d0887"
            ],
            [
             0.1111111111111111,
             "#46039f"
            ],
            [
             0.2222222222222222,
             "#7201a8"
            ],
            [
             0.3333333333333333,
             "#9c179e"
            ],
            [
             0.4444444444444444,
             "#bd3786"
            ],
            [
             0.5555555555555556,
             "#d8576b"
            ],
            [
             0.6666666666666666,
             "#ed7953"
            ],
            [
             0.7777777777777778,
             "#fb9f3a"
            ],
            [
             0.8888888888888888,
             "#fdca26"
            ],
            [
             1,
             "#f0f921"
            ]
           ],
           "sequentialminus": [
            [
             0,
             "#0d0887"
            ],
            [
             0.1111111111111111,
             "#46039f"
            ],
            [
             0.2222222222222222,
             "#7201a8"
            ],
            [
             0.3333333333333333,
             "#9c179e"
            ],
            [
             0.4444444444444444,
             "#bd3786"
            ],
            [
             0.5555555555555556,
             "#d8576b"
            ],
            [
             0.6666666666666666,
             "#ed7953"
            ],
            [
             0.7777777777777778,
             "#fb9f3a"
            ],
            [
             0.8888888888888888,
             "#fdca26"
            ],
            [
             1,
             "#f0f921"
            ]
           ]
          },
          "colorway": [
           "#636efa",
           "#EF553B",
           "#00cc96",
           "#ab63fa",
           "#FFA15A",
           "#19d3f3",
           "#FF6692",
           "#B6E880",
           "#FF97FF",
           "#FECB52"
          ],
          "font": {
           "color": "#2a3f5f"
          },
          "geo": {
           "bgcolor": "white",
           "lakecolor": "white",
           "landcolor": "#E5ECF6",
           "showlakes": true,
           "showland": true,
           "subunitcolor": "white"
          },
          "hoverlabel": {
           "align": "left"
          },
          "hovermode": "closest",
          "mapbox": {
           "style": "light"
          },
          "paper_bgcolor": "white",
          "plot_bgcolor": "#E5ECF6",
          "polar": {
           "angularaxis": {
            "gridcolor": "white",
            "linecolor": "white",
            "ticks": ""
           },
           "bgcolor": "#E5ECF6",
           "radialaxis": {
            "gridcolor": "white",
            "linecolor": "white",
            "ticks": ""
           }
          },
          "scene": {
           "xaxis": {
            "backgroundcolor": "#E5ECF6",
            "gridcolor": "white",
            "gridwidth": 2,
            "linecolor": "white",
            "showbackground": true,
            "ticks": "",
            "zerolinecolor": "white"
           },
           "yaxis": {
            "backgroundcolor": "#E5ECF6",
            "gridcolor": "white",
            "gridwidth": 2,
            "linecolor": "white",
            "showbackground": true,
            "ticks": "",
            "zerolinecolor": "white"
           },
           "zaxis": {
            "backgroundcolor": "#E5ECF6",
            "gridcolor": "white",
            "gridwidth": 2,
            "linecolor": "white",
            "showbackground": true,
            "ticks": "",
            "zerolinecolor": "white"
           }
          },
          "shapedefaults": {
           "line": {
            "color": "#2a3f5f"
           }
          },
          "ternary": {
           "aaxis": {
            "gridcolor": "white",
            "linecolor": "white",
            "ticks": ""
           },
           "baxis": {
            "gridcolor": "white",
            "linecolor": "white",
            "ticks": ""
           },
           "bgcolor": "#E5ECF6",
           "caxis": {
            "gridcolor": "white",
            "linecolor": "white",
            "ticks": ""
           }
          },
          "title": {
           "x": 0.05
          },
          "xaxis": {
           "automargin": true,
           "gridcolor": "white",
           "linecolor": "white",
           "ticks": "",
           "title": {
            "standoff": 15
           },
           "zerolinecolor": "white",
           "zerolinewidth": 2
          },
          "yaxis": {
           "automargin": true,
           "gridcolor": "white",
           "linecolor": "white",
           "ticks": "",
           "title": {
            "standoff": 15
           },
           "zerolinecolor": "white",
           "zerolinewidth": 2
          }
         }
        },
        "title": {
         "text": "Initial Training Points"
        },
        "width": 1200
       }
      }
     },
     "metadata": {},
     "output_type": "display_data"
    }
   ],
   "source": [
    "# 1. Plot showing just initial training points\n",
    "fig_initial = make_subplots(\n",
    "    rows=1, cols=2,\n",
    "    specs=[[{'type': 'scatter3d'}, {'type': 'scatter3d'}]],\n",
    "    subplot_titles=(\"qNParEGO\", \"qEHVI\")\n",
    ")\n",
    "\n",
    "# Generate Pareto surface using problem's built-in method\n",
    "pf_surface = create_pareto_surface(problem)\n",
    "\n",
    "alg_data_initial = [\n",
    "    (-train_obj_true_qparego[:n_initial], \"qNParEGO\"),\n",
    "    (-train_obj_true_qehvi[:n_initial], \"qEHVI\"),\n",
    "]\n",
    "\n",
    "for col, (train_obj, name) in enumerate(alg_data_initial, 1):\n",
    "    obj_np = train_obj.cpu().numpy() if isinstance(train_obj, torch.Tensor) else train_obj\n",
    "\n",
    "    # Plot initial points\n",
    "    scatter = go.Scatter3d(\n",
    "        x=obj_np[:, 0], y=obj_np[:, 1], z=obj_np[:, 2],\n",
    "        mode='markers',\n",
    "        marker=dict(size=4, color='deepskyblue', opacity=0.8),\n",
    "        name=name\n",
    "    )\n",
    "\n",
    "    fig_initial.add_trace(scatter, row=1, col=col)\n",
    "    fig_initial.add_trace(pf_surface, row=1, col=col)\n",
    "\n",
    "# Update layout\n",
    "fig_initial.update_layout(\n",
    "    height=600,\n",
    "    width=1200,\n",
    "    scene1=dict(\n",
    "        xaxis_title='Objective 1',\n",
    "        yaxis_title='Objective 2',\n",
    "        zaxis_title='Objective 3',\n",
    "        camera=dict(eye=dict(x=1.5, y=1.5, z=0.6))\n",
    "    ),\n",
    "    scene2=dict(\n",
    "        xaxis_title='Objective 1',\n",
    "        yaxis_title='Objective 2',\n",
    "        zaxis_title='Objective 3',\n",
    "        camera=dict(eye=dict(x=1.5, y=1.5, z=0.6))\n",
    "    ),\n",
    "    showlegend=False,\n",
    "    title_text='Initial Training Points'\n",
    ")\n",
    "fig_initial.show()\n",
    "\n",
    "pio.write_html(fig_initial, 'DTLZ1a train.html')"
   ]
  },
  {
   "cell_type": "code",
   "execution_count": 19,
   "metadata": {
    "executionInfo": {
     "elapsed": 1221531,
     "status": "aborted",
     "timestamp": 1747909342285,
     "user": {
      "displayName": "Deepak L",
      "userId": "17343563887203968144"
     },
     "user_tz": -330
    },
    "id": "E2uIQhy7SOAi"
   },
   "outputs": [
    {
     "data": {
      "application/vnd.plotly.v1+json": {
       "config": {
        "plotlyServerURL": "https://plot.ly"
       },
       "data": [
        {
         "hovertemplate": "<b>Obj1</b>: %{x:.2f}<br><b>Obj2</b>: %{y:.2f}<br><b>Obj3</b>: %{z:.2f}<extra></extra>",
         "marker": {
          "color": {
           "bdata": "AACAPwAAgD8AAABAAAAAQAAAQEAAAEBAAACAQAAAgEAAAKBAAACgQAAAwEAAAMBAAADgQAAA4EAAAABBAAAAQQAAEEEAABBBAAAgQQAAIEEAADBBAAAwQQAAQEEAAEBBAABQQQAAUEEAAGBBAABgQQAAcEEAAHBBAACAQQAAgEEAAIhBAACIQQAAkEEAAJBBAACYQQAAmEEAAKBBAACgQQAAqEEAAKhBAACwQQAAsEEAALhBAAC4QQAAwEEAAMBBAADIQQAAyEEAANBBAADQQQAA2EEAANhBAADgQQAA4EEAAOhBAADoQQAA8EEAAPBBAAD4QQAA+EEAAABCAAAAQgAABEIAAARCAAAIQgAACEIAAAxCAAAMQgAAEEIAABBCAAAUQgAAFEIAABhCAAAYQgAAHEIAABxCAAAgQgAAIEIAACRCAAAkQgAAKEIAAChCAAAsQgAALEIAADBCAAAwQgAANEIAADRCAAA4QgAAOEIAADxCAAA8QgAAQEIAAEBCAABEQgAAREIAAEhCAABIQgAATEIAAExCAABQQgAAUEIAAFRCAABUQgAAWEIAAFhCAABcQgAAXEIAAGBCAABgQgAAZEIAAGRCAABoQgAAaEIAAGxCAABsQgAAcEIAAHBCAAB0QgAAdEIAAHhCAAB4QgAAfEIAAHxCAACAQgAAgEIAAIJCAACCQgAAhEIAAIRCAACGQgAAhkIAAIhCAACIQgAAikIAAIpCAACMQgAAjEIAAI5CAACOQgAAkEIAAJBCAACSQgAAkkIAAJRCAACUQgAAlkIAAJZCAACYQgAAmEIAAJpCAACaQgAAnEIAAJxCAACeQgAAnkIAAKBCAACgQgAAokIAAKJCAACkQgAApEIAAKZCAACmQgAAqEIAAKhCAACqQgAAqkIAAKxCAACsQgAArkIAAK5CAACwQgAAsEIAALJCAACyQgAAtEIAALRCAAC2QgAAtkIAALhCAAC4QgAAukIAALpCAAC8QgAAvEIAAL5CAAC+QgAAwEIAAMBCAADCQgAAwkIAAMRCAADEQgAAxkIAAMZCAADIQgAAyEI=",
           "dtype": "f4"
          },
          "colorscale": [
           [
            0,
            "#440154"
           ],
           [
            0.1111111111111111,
            "#482878"
           ],
           [
            0.2222222222222222,
            "#3e4989"
           ],
           [
            0.3333333333333333,
            "#31688e"
           ],
           [
            0.4444444444444444,
            "#26828e"
           ],
           [
            0.5555555555555556,
            "#1f9e89"
           ],
           [
            0.6666666666666666,
            "#35b779"
           ],
           [
            0.7777777777777778,
            "#6ece58"
           ],
           [
            0.8888888888888888,
            "#b5de2b"
           ],
           [
            1,
            "#fde725"
           ]
          ],
          "opacity": 0.8,
          "size": 4
         },
         "mode": "markers",
         "name": "qNParEGO",
         "scene": "scene",
         "type": "scatter3d",
         "x": {
          "bdata": "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",
          "dtype": "f8"
         },
         "y": {
          "bdata": "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",
          "dtype": "f8"
         },
         "z": {
          "bdata": "ayhhduXCbEAAAAAAAAAAAAAAAAAAAAAAjKT5luq3EEDde8eJkKFXQFQKIab4g2lAbwM2iecHZkAOLRudnJcNQDx00u5sR2tA9znmySbLRUAwOdTmen9QQBh8FdKqfGFArHhMMHBaWEDcmdajE8ZhQMdaOGlbF11AbCLLw9twO0Dr5kmaIq5QQEwNKTf8gWNAnq5YkeHge0AhOgNhPQFWQNUTBJSOIGRAjf5EB7KiA0Daj/Ifh71nQGtJjx97XWJAU5xnq0TqaUAYhFMxezZwQO45Waw31GRAkAUEvMNOXkCq0QioQCf5P1FntCWbuV5AJkHXGl1TMkAsQuIPuA4TQFxUY3wq3SBA6Krea0sBXEBBK1xxM/UGQPgAo7raQTBAAAAAAAAAAAAIub/kHZhlQPIydlJCfjlAE5ZszJ0oX0Ch+gr/XwhCQODnB+rHf0dAaPm7lN2VMEDjNeKmzLxpQP6ZGGaytV5ANyc7k11TRkBEJ3bsnohcQHxOucS4j15AT8jgXRw7GUBOEuSWhxloQM2nb5CU6jVAj713oZyHb0A/lEqJZzdSQO/ZoEwTR2VA+FdIMiJDSkAQPkcb8rBCQFr2RPE5iERAE8pCHn6JREBg3oqyCWthQGmvk9/GAGhAWRMKJ5HjNkBAsN/TVoNiQCrP2IbU5kxAF8zFo0aUU0C9UEXveiJhQI9Se9DPN1FA4w1W2KGiQUBUhnKRWHw0QEPj72fTWzlAAAAAAAAAAADMHuda0Vt3QFuAf/7ZXHRANX+cJmRaZUBH3yl/Qm5ZQD3LElucJU1AJnVUiT6naEBqZgi+8e1SQJak1+L5MG9AWR3DOVhIUEAAAAAAAAAAAP/VyiwnJD9AAAAAAAAAAAAqHv7LC0FbQLgnVM7nli5AkncRlv/kUUBSUbtIZm9iQBeKrqMUHHBASKSN09fk8D+2y2Xp9jltQOpO9vDW/lpANUihFVZKZUDc5cr3jUBhQDSI5BEYQEBAAAAAAAAAAAALBCW8SISiP6k268UX32VAI3NiybceUkAPhwql60FbQMpKJNGVRU5A8qPweF4TQEARU9IdPndRQI9zxhGofkdA47OviMfhUkBLnNSnY4ZTQMHCitQ2vGhAhz3Np3zmSEC0zWyP88htQOmHZBudjlJA2DEfmL7YVkAPDg8BqaMmQKkAneLpZRRAK50TV+A1ZkAPHf5WnYRtQAlQ7e2adWxAczE9CSAVaUDHd9j4psFmQDvtkow5lkpAnRA5neiOZ0BBBh4prxw+QE6QSNFLwDVAJPjSzaTCKUCpxF58oL9wQKloPBFRRjJAQ35DPjEgakB7Q+cJ2XxqQHkdKtfDHEtARtqKh6MnQEDngA8a93NuQMHRyLSMvTBAk0tzdBUzUkAj01EzZv5nQPqBtwJRJD5Aju4uJKy6SEDJ+b/1rts4QK4GNW4n80RAOElFyGWbPUBjho25ok9vQAoY+174sUhA9uINFoa3Y0Cflcf1JAlDQMX2deJTXSRAnkaLSa1zUECWocmZ2qxPQAAAAAAAAAAAVvu5MhPeZEA+qpXz43ZJQLiZpqwlemdAIw+IZV5+XkCpyyZk3S1rQDEBke70JnxAuctvX5RKV0Ca9kJJORhhQD1PJxV/RHlApv19QLHNZ0CNKx6WncRQQJcXzKJefFNA1xXD8HbRakATIAlucqM9QLE2cJGuPj9ANFWfyHpMa0BVqp2eLncvQP8Xy3Lz0UNA9T2YD9qxMUCntNVD5OJfQHmYEPzWu1BAst5PXTNmP0AAAAAAAAAAAPStfS5Xe1hAvjHaj0KidEBjaZk4h4pUQLQCt4AxVUhAOBvJuaV7SUC66u1IJMQnQLCMbLMtJ0tA7zJ+wt7nT0ArNVl3JCRuQGydTiuFhzNAYjGCefS5R0D9h8aepaoxQAAAAAAAAAAAjZ8Swn4XT0C0gM8GoYlAQOtRmlR/qGZA1o5MdVdeQ0DjF39hxSBGQJZ3n7co709A18dKMyWrPkDL6/04B4pDQO7EksIj/xJA+1Y/ztH3WEDvhqW5SjtwQISNQN3+WD9A/ZxkHw+fRUA6nu/K2ixUQKd81Tqrkk5As8xewogWT0B7VqRDL2JdQCOal1HyCk9AqNrC5MvLbkCaQY9Ep2JwQA==",
          "dtype": "f8"
         }
        },
        {
         "color": "red",
         "colorscale": [
          [
           0,
           "rgb(255,245,240)"
          ],
          [
           0.125,
           "rgb(254,224,210)"
          ],
          [
           0.25,
           "rgb(252,187,161)"
          ],
          [
           0.375,
           "rgb(252,146,114)"
          ],
          [
           0.5,
           "rgb(251,106,74)"
          ],
          [
           0.625,
           "rgb(239,59,44)"
          ],
          [
           0.75,
           "rgb(203,24,29)"
          ],
          [
           0.875,
           "rgb(165,15,21)"
          ],
          [
           1,
           "rgb(103,0,13)"
          ]
         ],
         "intensity": {
          "bdata": "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",
          "dtype": "f8"
         },
         "name": "Pareto Front",
         "opacity": 0.3,
         "scene": "scene",
         "showscale": false,
         "type": "mesh3d",
         "x": {
          "bdata": "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",
          "dtype": "f8"
         },
         "y": {
          "bdata": "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",
          "dtype": "f8"
         },
         "z": {
          "bdata": "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",
          "dtype": "f8"
         }
        },
        {
         "hovertemplate": "<b>Obj1</b>: %{x:.2f}<br><b>Obj2</b>: %{y:.2f}<br><b>Obj3</b>: %{z:.2f}<extra></extra>",
         "marker": {
          "color": {
           "bdata": "AACAPwAAgD8AAABAAAAAQAAAQEAAAEBAAACAQAAAgEAAAKBAAACgQAAAwEAAAMBAAADgQAAA4EAAAABBAAAAQQAAEEEAABBBAAAgQQAAIEEAADBBAAAwQQAAQEEAAEBBAABQQQAAUEEAAGBBAABgQQAAcEEAAHBBAACAQQAAgEEAAIhBAACIQQAAkEEAAJBBAACYQQAAmEEAAKBBAACgQQAAqEEAAKhBAACwQQAAsEEAALhBAAC4QQAAwEEAAMBBAADIQQAAyEEAANBBAADQQQAA2EEAANhBAADgQQAA4EEAAOhBAADoQQAA8EEAAPBBAAD4QQAA+EEAAABCAAAAQgAABEIAAARCAAAIQgAACEIAAAxCAAAMQgAAEEIAABBCAAAUQgAAFEIAABhCAAAYQgAAHEIAABxCAAAgQgAAIEIAACRCAAAkQgAAKEIAAChCAAAsQgAALEIAADBCAAAwQgAANEIAADRCAAA4QgAAOEIAADxCAAA8QgAAQEIAAEBCAABEQgAAREIAAEhCAABIQgAATEIAAExCAABQQgAAUEIAAFRCAABUQgAAWEIAAFhCAABcQgAAXEIAAGBCAABgQgAAZEIAAGRCAABoQgAAaEIAAGxCAABsQgAAcEIAAHBCAAB0QgAAdEIAAHhCAAB4QgAAfEIAAHxCAACAQgAAgEIAAIJCAACCQgAAhEIAAIRCAACGQgAAhkIAAIhCAACIQgAAikIAAIpCAACMQgAAjEIAAI5CAACOQgAAkEIAAJBCAACSQgAAkkIAAJRCAACUQgAAlkIAAJZCAACYQgAAmEIAAJpCAACaQgAAnEIAAJxCAACeQgAAnkIAAKBCAACgQgAAokIAAKJCAACkQgAApEIAAKZCAACmQgAAqEIAAKhCAACqQgAAqkIAAKxCAACsQgAArkIAAK5CAACwQgAAsEIAALJCAACyQgAAtEIAALRCAAC2QgAAtkIAALhCAAC4QgAAukIAALpCAAC8QgAAvEIAAL5CAAC+QgAAwEIAAMBCAADCQgAAwkIAAMRCAADEQgAAxkIAAMZCAADIQgAAyEI=",
           "dtype": "f4"
          },
          "colorbar": {
           "title": {
            "text": "Iteration"
           }
          },
          "colorscale": [
           [
            0,
            "#440154"
           ],
           [
            0.1111111111111111,
            "#482878"
           ],
           [
            0.2222222222222222,
            "#3e4989"
           ],
           [
            0.3333333333333333,
            "#31688e"
           ],
           [
            0.4444444444444444,
            "#26828e"
           ],
           [
            0.5555555555555556,
            "#1f9e89"
           ],
           [
            0.6666666666666666,
            "#35b779"
           ],
           [
            0.7777777777777778,
            "#6ece58"
           ],
           [
            0.8888888888888888,
            "#b5de2b"
           ],
           [
            1,
            "#fde725"
           ]
          ],
          "opacity": 0.8,
          "size": 4
         },
         "mode": "markers",
         "name": "qEHVI",
         "scene": "scene2",
         "type": "scatter3d",
         "x": {
          "bdata": "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",
          "dtype": "f8"
         },
         "y": {
          "bdata": "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",
          "dtype": "f8"
         },
         "z": {
          "bdata": "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",
          "dtype": "f8"
         }
        },
        {
         "color": "red",
         "colorscale": [
          [
           0,
           "rgb(255,245,240)"
          ],
          [
           0.125,
           "rgb(254,224,210)"
          ],
          [
           0.25,
           "rgb(252,187,161)"
          ],
          [
           0.375,
           "rgb(252,146,114)"
          ],
          [
           0.5,
           "rgb(251,106,74)"
          ],
          [
           0.625,
           "rgb(239,59,44)"
          ],
          [
           0.75,
           "rgb(203,24,29)"
          ],
          [
           0.875,
           "rgb(165,15,21)"
          ],
          [
           1,
           "rgb(103,0,13)"
          ]
         ],
         "intensity": {
          "bdata": "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",
          "dtype": "f8"
         },
         "name": "Pareto Front",
         "opacity": 0.3,
         "scene": "scene2",
         "showscale": false,
         "type": "mesh3d",
         "x": {
          "bdata": "AAAAAHoe1T8AAAAK3gizPwAAAARkZrs/AAAA8Afswz8AAADH4V7aPwAAAASlDaI/AAAAMveExD8AAABINfybPwAAgPq7pNE/AAAAOt13wz8AAABIGoKbPwAAANLDpbs/AAAAVcpI0j8AAAAUIaSsPwAAAHmGR8o/AAAAsGBBzT8AAAASgeLUPwAAAOuo+8k/AAAAMG34sz8AAACYv+GkPwAAgFKNPdY/AAAAYLuNeT8AAACo88vAPwAAAL/uq8U/AACA8j5r0T8AAACgEO6GPwAAAEwf/aw/AAAA/4kGyz8AAABe/iLZPwAAACA5Hrw/AAAA44IIzj8AAABMESq3PwAAgLABudc/AAAAhz6twj8AAAC6b5a+PwAAAOSsirE/AACAmBHD0D8AAADw/vWRPwAAAO3yfMY/AAAAK9dWyD8AAAAVudjQPwAAADyxJ7k/AAAAYGmEiD8AAABrsPvGPwAAAI1bQ9w/AAAAqjtwsT8AAACmg7/IPwAAAMjEoKk/AAAAP+Xg0z8AAABEWuWhPwAAAI5mCLY/AAAAZD4Rzj8AAIBlYQXZPwAAACBAo5E/AAAAd/Yzwj8AAAB6fgW9PwAAAFg7/9I/AAAAf9zAxT8AAAAwCB2nPwAAAIA+7Fc/AAAAn1a21D8AAACiY6i1PwAAADyH8Mw/AAAAJFm8wD8AAIDvYhXWPwAAAJnOm8g/AAAAxuInuD8AAABgM52XPwAAgJdp2NU/AAAAgKiOpD8AAABTNCTFPwAAADUnYMI/AAAAStp00T8AAAAAopSqPwAAAEABhJY/AAAAdUDNzD8AAACbGsfaPwAAANa2wbc/AAAAGEXnyz8AAABYgr24PwAAgKLgMtQ/AAAAHk2fvD8AAADy67mwPwAAAHrOJ8Q/AACAOgKp2D8AAACg68qGPwAAAMkwa8E/AAAAjDzRoj8AAAAHWFPTPwAAAJZAccA/AAAAyBJ+qj8AAADGUDK0PwAAAJAurdE/AAAA4DlYfD8AAACCQajPPwAAADqpiso/AAAA+gEF0D8AAADY+JSdPwAAAHjp170/AAAA7vfayT8AAIBWwUzYPwAAAPy/bq8/AAAAjDHcxz8AAABu7ZKyPwAAgKXYCNA/AAAAhBsvwD8AAACA+0JUPwAAANxHkK8/AAAAWrJT1z8AAABovTGyPwAAAMdAH8k/AAAArpB3xz8AAABN4k7VPwAAAA33ZsU/AAAATOBJtT8AAADwPx2+PwAAgF31JtM/AAAAKFulnD8AAAAWNZPDPwAAAKEenc8/AACA6Fov0j8AAAAoIrC2PwAAALQFnqE/AAAA4XkwwT8AAABRhjncPwAAAFy0r7o/AAAAXURQzT8AAACAiz+KPwAAgE/0lNY/AAAASjGJxj8AAABGuCG6PwAAAH6zwrk/AAAAfhbR0j8AAACAHYKgPwAAABMZJ8Q/AAAA5thyzD8AAADqTPXRPwAAAKaub7E/AAAAQGudnj8AAACmv9/CPwAAAHKubt0/AAAAVuzHtT8AAABYaOTKPwAAAPj3YZI/AACA2eLy0T8AAAAAV1ZnPwAAAHKxv7I/AAAAqTE1yj8AAICalCjYPwAAAID+4Gs/AAAAiR1owD8AAADgYU21PwAAAKfO0tM/AAAAgTebxz8AAADIp3KuPwAAAMBeL6A/AACAeVGk1j8AAABi5Vm9PwAAAMJsq84/AAAA6VaYxD8AAIATfgzXPwAAAJDBQLs/AAAA+LPRvz8AAAA9CMjHPwAAADgUc9s/AAAA/Apiqz8AAADMHN/GPwAAAJAlbq0/AACABU6J0D8AAADENizBPwAAAHCLuoI/AAAASNztsz8AAICzzVrQPwAAAEA8aJg/AAAAh20cyD8AAAB9b2XJPwAAAO10z9U/AAAA3gh0yz8AAADMuk+3PwAAALACxoE/AAAAtIov1D8AAAAoMbyUPwAAAFYYkMI/AAAAcuGPwT8AAIBIzK7SPwAAABy7K6U/AAAAtLCSpT8AAAAyhiLPPwAAgLj5MNs/AAAA3O6puD8AAAAdaVPMPwAAANYOYr8/AACAHAYX0j8AAABYQ1quPwAAAIQ+YLk/AAAAI/j+zT8AAACwxl7aPwAAAAQQAaY/AAAActqHxT8AAAD08tq6PwAAgFotJdE/AAAAevB0wj8AAABIcJuTPwAAANDxAJ4/AACAvLVB1T8AAAAs73eyPwAAADmrRMs/AAAAY59Twz8AAACyF2PUPwAAAMD4QsE/AAAAsDf+sT8AAABqIFW2PwAAALvyNNE/AAAAsAn0jD8AAADo3sjBPwAAAGwRucs/AACAF68C0z8AAACyPfi+PwAAAEyq8ag/AAAALHYUxT8AAIC3gSvePwAAAKBjGL4/AAAAo68Lzz8AAADU3R+mPwAAgBCXONc/AAAAVMG/zD8AAAA6NZC8PwAAAISmXqs/AAAAcW7K1z8AAAB4B+GtPwAAAK3ff8c/AAAA+ChExj8AAAC1L1nQPwAAAGg6CZQ/AAAAwHptcT8AAAC4T+nIPwAAgH0d1dg/AAAAKmF2sz8AAADmrrzJPwAAAMKd9bA/AACA1prp1D8AAACEUte0PwAAAA48DrQ/AAAAt8EDwD8AAIDF94TZPwAAACAqupk/AAAAN9swwz8AAADAHQhyPwAAAPitftI/AAAAW09VxD8AAAAwvRGjPwAAAFxPerw/AACAdim/0z8AAAAIOBujPwAAAHyq880/AAAA96auzj8AAIA7S/nWPwAAALg8zM0/AAAAlkWXuz8AAAC0fsOjPwAAAHfV2dY/AAAAIObvoz8AAAD7Z/zEPwAAAPReY8Q/AAAA12aP0T8AAAAgKMp0PwAAAACcRpg/AAAAtDnOyj8AAIB7psbZPwAAAIYRcbQ/AAAAsBY/yj8AAADacbu0PwAAgHbJ3tQ/AAAAnL6ZsD8AAACiTAmzPwAAALu3JMI/AACA7itF2D8AAABAop92PwAAAGFjs8A/AAAAELe5lT8AAADTcb/TPwAAAFc5csY/AAAAaFwfrT8AAABEozS4PwAAgHCSrNI/AAAAOOCGqz8AAAAqEnDOPwAAAPvQicw/AACAGr0E0z8AAABom8emPwAAAChOZ74/AAAAL47Zzz8AAABMqx7bPwAAAFzxD6g/AAAAJGIExj8AAADsHpS+PwAAgHHx5NA/AAAALEj3wT8AAADwZQ2PPwAAAGCDdo4/AACAug5S1D8AAAA4GoGxPwAAAG8Tx8g/AAAAb+l0wT8AAACZy6LVPwAAAMyOZcM/AAAAHEf5tj8AAAByzBuyPwAAAL1JJ9A/AAAAaMZnkj8AAAC+ZkvCPwAAAGBnnsk/AACAPHPD0j8AAACq0ba6PwAAABRL/6Y/AAAAIAAzxz8AAICkkVjePwAAAAwTH7k/AAAA9ReIzD8AAADkBYKuPwAAgBXFH9Y/AAAAiC0Ovz8AAABUw9a4PwAAADF+78U/AAAAE8iy2j8AAACk62ylPwAAAJqkXMU/AAAAoP3zpT8AAIAukkjRPwAAAN3wucE/AAAACIdAlT8AAABQMKO3PwAAgLV2SdE/AAAAQBingj8AAADR1Z/LPwAAAHEZQss/AAAAxqgO1D8AAABD+yPIPwAAAGDKSLA/AAAAOLHYmT8AAACyMTzVPwAAADDnQ4E/AAAAAKATwT8AAAB+l6jDPwAAABKCatI/AAAALGO2rT8AAADsUZyrPwAAAD7wBc0/AACAvkIj2j8AAABwnq6/PwAAAEvR0M8/AAAAzuIsuz8AAIBkKFXXPwAAAEZHrsQ/AAAA6sgmvT8AAABmX4y9PwAAAHitwtM/AAAAfBj3oD8AAABFoaTHPwAAAOquVc4/AAAAwZA00D8AAAC+QiG1PwAAAIBPBWQ/AAAAqsn4wD8AAABZcq/cPwAAAPqcwLI/AAAADtBnyT8AAADAPNJqPwAAgN9Z4dA/AAAAgHrRkz8AAADewbi1PwAAAKVHEsg/AAAAc5mo2D8AAABg3WGfPwAAAN+l68M/AAAA+I0DsT8AAACMEhPSPwAAANePGMQ/AAAAkEZ8oD8AAADwhrKoPwAAgH/qt9c/AAAAIJCuuT8AAACU1CjNPwAAAOUgv8Y/AAAA/LoW0T8AAABwkV6JPwAAANSZ0Lo/AAAA4oH9yz8AAIBQel/ZPwAAAKReYKE/AAAA2olfxD8AAAB2Ady2PwAAgI4EydE/AAAA0qOswz8AAAAI7VmdPwAAAOyfDac/AAAAXAlA1j8AAADEzTa1PwAAAJH4nMo/AAAAouZQxT8AAABmPo/UPwAAAAGBQcc/AAAA4JBOsj8AAADo01O6PwAAgFtONdI/AAAAADMTRz8AAABAjRDAPwAAAK1ous0/AACAw4bu0z8AAAAwzv6yPwAAAOzkkK8/AAAA7Q8Xwz8AAABXPSrdPwAAAPDEqL0/AAAAC/zTzj8AAACgdSScPwAAgMS+1Nc/AAAAlbi8yj8AAABqkiC/PwAAAAAMmno/AACAkdLL1D8AAADYSYCqPwAAAAWMp8Y/AAAAOVFHwD8AAABhBrXQPwAAADB6CaI/AAAA4IczhT8AAAB5NurOPwAAAJ2h1Ns/AAAAesbGsD8AAABO/WTIPwAAAEBu87w/AACAiTzz1T8AAAAGodG4PwAAAF6bvrc/AAAAdrgAxj8AAIAR3mjZPwAAAGC3eJc/AAAAn4jowj8AAAC85EyqPwAAACyEktI/AAAAmjZWwj8AAACQ83CkPwAAAN68fLA/AAAAlpW+0D8AAAAYvi2WPwAAANT5K8w/AAAANt+tyD8AAICb3XjWPwAAAItIisA/AAAAFh+RuT8AAAD8QMS1PwAAgJ6q0NE/AAAAANLJST8AAAC7Sv/FPwAAACehcco/AAAAPmUZ0T8AAAAkXWm9PwAAAAD2X5A/AAAAZ8bcxD8AAACmh4LdPwAAAAZLd7Y/AAAA8Ds8yz8AAAD4HD2hPwAAADle89I/AAAAdIJ4qT8AAAAiFg+xPwAAAGhINsw/AACATr3E2D8AAAAgBX2LPwAAACFOsME/AAAAYpJLuT8AAABz5z7TPwAAAClkQ8Y/AAAAaOkTqT8AAACIc0WQPwAAAJntpdU/AAAAuo/msT8AAABqP3PPPwAAACgvm8I/AAAA88IN1D8AAAASMka3PwAAAKgUYbw/AAAA/HHLwT8AAADsPZ/bPwAAAFxEA6w/AAAAZE8Hxz8AAABQCo+FPwAAgNFnZdA/AAAAbGX0wD8AAADgY39+PwAAAMov678/AAAAU3Fb0z8AAAAk+TmkPwAAAC8+xMk/AAAAvBZmzz8AAAA5XSPVPwAAAL0QeMo/AAAAnB3/tD8AAACoZ3ysPwAAgFQ2Ltc/AAAAaKx+mj8AAAD+S0jDPwAAALOYjMc/AACA9IV40D8AAAAwuEyaPwAAABT+86I/AAAA8/8hyT8AAABYRTHYPwAAAIxJGbs/AAAAtTqLzT8AAABU/WSzPwAAgMZn1dY/AAAAqZH9wz8AAABi9ie7PwAAALjyK7M/AACAD0Zr0D8AAACAh3CbPwAAAAE+pMQ/AAAABXgGyT8AAABj37TRPwAAAGDvhrs/AAAA0FOEmj8AAABFH6vHPwAAAPs9L90/AAAAcqLBtD8AAABKT2fKPwAAAHB44qw/AAAAqLJI0z8AAAD85qekPwAAAFb/ubM/AAAASpFBzz8AAIATB2nYPwAAAACdlH0/AAAAmzrrwD8AAAAmIKS/PwAAAC5dk9M/AAAAkxAYxz8AAACAO36sPwAAADB194c/AAAACAEe1D8AAAD+PQm3PwAAANBLKM4/AAAACvbswT8AAABiLrbVPwAAAFaAqbE/AAAA3P3Xvj8AAADeqLzCPwAAALGHMts/AAAAtJZuqT8AAADeO1zGPwAAADhMeZE/AACAjN3I0D8AAADWEa/BPwAAAFD6iIo/AAAAjp0EuT8AAADCneDSPwAAAKyd5qk/AAAAlUqfyD8AAACezxHMPwAAAGTnjtU/AAAAB2Qjyz8AAADo9Em2PwAAACADo6E/AACAxdqV1j8AAAC4CaWQPwAAAEQ/E8I/AAAAkUH7xD8AAIBlacPRPwAAAAASJ18/AAAA/Cyepz8AAADRJlbKPwAAAMmpitk/AAAA+KCvuT8AAAAPTtDMPwAAABBPi7U/AAAAbVat0D8AAACogRGXPwAAAKBwZrg/AAAAwFiKyD8AAIDBluTYPwAAAEyMDaQ/AAAAYP0ExT8AAAAyszOwPwAAgNO+ZNE/AAAAaNf3wj8AAADYSIKXPwAAAGT70qo/AAAAzeX71z8AAACwJIC3PwAAACuMx8s/AAAAgD8nxj8AAAA7hCLUPwAAACNYNsQ/AAAAlHn4sD8AAACsYby8PwAAgMqijtM/AAAAkHjGhD8AAAD6+UvBPwAAAI+xzc4/AACAnjxD0z8AAAB0fBG0PwAAAAQ2/ao/AAAAz9ZgwD8AAADG0ZHcPwAAAIQtHr8/AAAAsYiIzz8AAADA8mp+PwAAgJkEedc/AAAAt2HLyT8AAAAee5a9PwAAABBKGJ0/AACAAD5w1T8AAAAwm+2vPwAAAL/4/Mc/AAAAG4gwwz8AAAA8vBjQPwAAALge1q8/AAAAAIiZMD8AAABb753NPwAAAAxNb9o/AAAADi9wsj8AAAD0iT/JPwAAAATcHLo/AACA1IZe1T8AAABCEz6+PwAAACpyCLU/AAAAVGF3xT8AAIBMZMXZPwAAALASo50/AAAAJfyzwz8AAAA0gJOnPwAAAHE+P9I/AAAAuO8hwT8AAAB4IR2hPwAAAJoOk7Y/AAAAB3kF0T8AAAAQ7iaLPwAAAG6NcM0/AAAAFAbayz8AAADWkITWPwAAAMyf4bk/AAAAICpguj8AAAATp5jGPwAAAE5yH9o/AAAATDkBoD8AAAAg0AfEPwAAACiZLKg/AACAcyjl0T8AAAD/Kc7CPwAAANgim58/AAAAFIJMsT8AAIAkmvLQPwAAADBF7ZI/AAAAa6HEyj8AAABTwDXIPwAAAJsSo9Q/AAAA+Y94yT8AAAAUI/6yPwAAAEDBM2M/AAAAI92H1D8AAABAstJjPwAAALrUSMA/AAAAXE7fwD8AAIA+qsLTPwAAAKQHaaA/AAAABIPxrj8AAAAcKXLOPwAAgC+umNs/AAAABHcYvT8AAADxpYvOPwAAAIpQw70/AACAOZL41z8AAABkntnHPwAAAJ4hkL8/AAAAIu1juz8AAADpQXnSPwAAADAu4as/AAAA/9X/xj8AAADIdyLNPwAAAJwqmdA/AAAA+vDOsz8AAABAGLaAPwAAAIgQj8M/AAAABMgC3D8AAACOdXawPwAAALSkPMg/AAAAiI7kmD8AAIBOtVrRPwAAACBn34A/AAAAqigOtz8AAACHnmXLPwAAAOJ1E9k/AAAAsHi6lT8AAABl0bDCPwAAALw/7Lc/AAAA0ai+0j8AAABt+0PFPwAAAHiUEaU/AAAAeOJtpT8AAIDuBgzWPwAAALp86Lg/AAAALqBzzD8AAADH+cjFPwAAgGbxVNY/AAAAAkiXzD8AAADirCG5PwAAADwaHK4/AAAA5jli1z8AAADINIKmPwAAAEETp8U/AAAA1ocUxz8AAABGijTQPwAAABhDjJ4/AAAA0Dmdkj8AAACW4LnJPwAAgOpKfdg/AAAA8vjHtj8AAAAKYmTLPwAAAJ7DVLI/AACAQc1B1D8AAADYDHa2PwAAANalv7E/AAAAmW5TwT8AAICzkejYPwAAAICa+I4/AAAA2xfowT8AAAAA/A6MPwAAAI7LEtM/AAAAdeAFxT8AAACAjnKoPwAAAAAR274/AACA4X4X0z8AAACwhFmmPwAAAJBmK88/AAAA2Qn+zz8AAICLUb/SPwAAAOD/GKs/AAAAXKfRvD8AAAANV67MPwAAACeR9to/AAAAtCNirT8AAACeFl/HPwAAAKise7g/AACALEtJ0D8AAACWPKzAPwAAAKBcdHU/AAAAoIiFlD8AAIAr4unVPwAAAHCx1rA/AAAA1WecyT8AAABNMAPCPwAAAMRxD9U/AAAA7lcSwD8AAABork+0PwAAADZ+9LQ/AAAALKWc0T8AAADg1jpwPwAAAAQSEMM/AAAAQr7pyj8AAIBhyW7SPwAAAO5jWbw/AAAA/JmSoz8AAAAC2UTEPwAAgCDWg94/AAAAePqpuz8AAABPY9PNPwAAAGxhXaM/AACAjeqs0z8AAADQJ4WjPwAAAPDX1rs/AAAAASGJzj8AAAA6zXLaPwAAAOzCbKM/AAAAyK7cxD8AAACwQDW8PwAAgAeXiNE/AAAAwIQvwz8AAACY1UCZPwAAAADj+HY/AACALVn61D8AAADggzC0PwAAAIPfH8o/AAAAQUYkwD8AAADvrc7UPwAAAOIhNcI/AAAAxN5Isz8AAAAukrqwPwAAACoej9A/AAAAIISGcj8AAABSqpPAPwAAAE7Izsg/AACAShWv0z8AAAD2jxe4PwAAAKR4nK0/AAAADq9jxj8AAIDS9zTfPwAAANSKrrw/AAAAGdtQzj8AAABcucCrPwAAgE0tldc/AAAAVPAUzz8AAABO3Ca+PwAAAAzCgaY/AAAA4IJx1j8AAACQ1YyoPwAAABerJMY/AAAA2vEzxT8AAADolfTQPwAAAPDmb48/AAAAwPYBjT8AAACalp7LPwAAgOzxbtk/AAAAXojAsT8AAABc2ufIPwAAAIYvGrY/AACAR3ZS1T8AAADA4DiyPwAAAHrVuLY/AAAAlRh0wz8AAICYTSnZPwAAAPCPYZM/AAAAja9rwj8AAABgzjyfPwAAAKUX09I/AAAAhYWYxT8AAADYb3ymPwAAABj9lbo/AACA58UE0j8AAACAXMSuPwAAAMbeqMw/AAAA1X/ZzT8AAIASTjnWPwAAAGjo/sU/AAAAMlGXuD8AAAA6AS2/PwAAAO/6atM/AAAAxKS1pT8AAACpbXzFPwAAAMQBBc8/AAAAt/ZY0T8AAADiHIC3PwAAAJDORpQ/AAAAhGaowT8AAIDjiXXcPwAAACIFcbc/AAAA4hy/yz8AAADQfb6DPwAAgEgOSdA/AAAA8ANUmT8AAAAGWAmwPwAAAIvoQsk/AAAA5M4A2D8AAAAAdE+DPwAAADNpM8E/AAAApNOisz8AAAD6dH/TPwAAADtDwMY/AAAAIHUfqz8AAABIOvCtPwAAgOi9H9c/AAAAfM4Puz8AAAB4GPDPPwAAAMuP78c/AACAgpK31j8AAADUc6+9PwAAAIxaZ70/AAAAH9G/xD8AAABlrt7bPwAAABTYD64/AAAAdmiExz8AAAAYQbGgPwAAgFj0JNA/AAAAfkJ3wD8AAABAAzdsPwAAAAxuArU/AACAIiHh0T8AAACAqrduPwAAAD0ZR8k/AAAAX7YSyj8AAACwzmLVPwAAAPzRA8g/AAAAuFP5tT8AAABIyF2TPwAAACVmlNU/AAAA+JRnnj8AAADsbMvDPwAAAFA4+MI/AACAFXYD0j8AAACU3/SoPwAAAFxi/6A/AAAAEF9VzD8AAIApFYvaPwAAAKgHH7o/AAAApx0IzT8AAACSvI25PwAAgLLYuNY/AAAAuxfsyz8AAACyC5G6PwAAAOD0R4g/AACABoVj1D8AAABoeuOhPwAAAOlAf8Q/AAAAF/4XwT8AAAAXYNnRPwAAAIjGS6c/AAAAkKRfnD8AAABXmbrPPwAAAAr2fNs/AAAAol93tT8AAACiMbzKPwAAABwwUr4/AACA/1qf1D8AAABa/3C6PwAAAIYCD7I/AAAAWBdQxz8AAIBnuATYPwAAAAAA7Vs/AAAAc0QwwD8AAAAEWA6vPwAAAFri/tM/AAAAtJkGwz8AAAAgwBOvPwAAAILi3bI/AAAAAcIW0D8AAABox6icPwAAADg1884/AAAAGHD9yT8AAABr7b7RPwAAACDHqHg/AAAADABhvz8AAADMLq3KPwAAgMct99k/AAAAFG0Dqj8AAAA2RYfGPwAAACpffbQ/AACA+GKl0D8AAAA+b3TBPwAAANAUP4c/AAAAVCNPoj8AAADLXujWPwAAABxUh7A/AAAAfTREyD8AAACMSQDEPwAAABBY49U/AAAALy4Rxj8AAAA4Cf+3PwAAALSN8rg/AACAzBmd0j8AAAD4/n6WPwAAAKxByMI/AAAAg8fqzD8AAIC14ILSPwAAAGyQX7A/AAAAXNfzpD8AAADDoEfCPwAAAMBqgt0/AAAAKF0ZuD8AAADnMAvMPwAAANAMoZY/AAAAZJWl1D8AAABObOe1PwAAAHCN0Lk/AAAA0t6bwD8AAACaW/PaPwAAAOx3YKc/AAAAiIPfxT8AAAAAFr8wPwAAgKcBCdE/AAAAgKkswj8AAACYv1mRPwAAAJZxSr0/AAAAxCbz0z8AAACcRXuhPwAAAMPyHMs/AAAAkrk2zj8AAABPO0/UPwAAAFHcoMg/AAAARIROsT8AAAAQ2z6pPwAAgMNhhtc/AAAAEJZxiT8AAAASh5DBPwAAAJ033MY/AACAY9LQ0D8AAABAwcmQPwAAAKTNkKk/AAAA3VBxyD8AAADPEpnYPwAAAFTQqL4/AAAAWfZTzz8AAAAIo8WxPwAAgO27FNc/AAAApefawT8AAADOhiC8PwAAAKAeZbc/AACACf140T8AAADAb5aEPwAAAFeGJ8c/AAAACQ4hyz8=",
          "dtype": "f8"
         },
         "y": {
          "bdata": "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",
          "dtype": "f8"
         },
         "z": {
          "bdata": "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",
          "dtype": "f8"
         }
        }
       ],
       "layout": {
        "annotations": [
         {
          "font": {
           "size": 16
          },
          "showarrow": false,
          "text": "qNParEGO",
          "x": 0.225,
          "xanchor": "center",
          "xref": "paper",
          "y": 1,
          "yanchor": "bottom",
          "yref": "paper"
         },
         {
          "font": {
           "size": 16
          },
          "showarrow": false,
          "text": "qEHVI",
          "x": 0.775,
          "xanchor": "center",
          "xref": "paper",
          "y": 1,
          "yanchor": "bottom",
          "yref": "paper"
         }
        ],
        "height": 600,
        "scene": {
         "camera": {
          "eye": {
           "x": 1.5,
           "y": 1.5,
           "z": 0.6
          }
         },
         "domain": {
          "x": [
           0,
           0.45
          ],
          "y": [
           0,
           1
          ]
         },
         "xaxis": {
          "title": {
           "text": "Objective 1"
          }
         },
         "yaxis": {
          "title": {
           "text": "Objective 2"
          }
         },
         "zaxis": {
          "title": {
           "text": "Objective 3"
          }
         }
        },
        "scene2": {
         "camera": {
          "eye": {
           "x": 1.5,
           "y": 1.5,
           "z": 0.6
          }
         },
         "domain": {
          "x": [
           0.55,
           1
          ],
          "y": [
           0,
           1
          ]
         },
         "xaxis": {
          "title": {
           "text": "Objective 1"
          }
         },
         "yaxis": {
          "title": {
           "text": "Objective 2"
          }
         },
         "zaxis": {
          "title": {
           "text": "Objective 3"
          }
         }
        },
        "showlegend": false,
        "template": {
         "data": {
          "bar": [
           {
            "error_x": {
             "color": "#2a3f5f"
            },
            "error_y": {
             "color": "#2a3f5f"
            },
            "marker": {
             "line": {
              "color": "#E5ECF6",
              "width": 0.5
             },
             "pattern": {
              "fillmode": "overlay",
              "size": 10,
              "solidity": 0.2
             }
            },
            "type": "bar"
           }
          ],
          "barpolar": [
           {
            "marker": {
             "line": {
              "color": "#E5ECF6",
              "width": 0.5
             },
             "pattern": {
              "fillmode": "overlay",
              "size": 10,
              "solidity": 0.2
             }
            },
            "type": "barpolar"
           }
          ],
          "carpet": [
           {
            "aaxis": {
             "endlinecolor": "#2a3f5f",
             "gridcolor": "white",
             "linecolor": "white",
             "minorgridcolor": "white",
             "startlinecolor": "#2a3f5f"
            },
            "baxis": {
             "endlinecolor": "#2a3f5f",
             "gridcolor": "white",
             "linecolor": "white",
             "minorgridcolor": "white",
             "startlinecolor": "#2a3f5f"
            },
            "type": "carpet"
           }
          ],
          "choropleth": [
           {
            "colorbar": {
             "outlinewidth": 0,
             "ticks": ""
            },
            "type": "choropleth"
           }
          ],
          "contour": [
           {
            "colorbar": {
             "outlinewidth": 0,
             "ticks": ""
            },
            "colorscale": [
             [
              0,
              "#0d0887"
             ],
             [
              0.1111111111111111,
              "#46039f"
             ],
             [
              0.2222222222222222,
              "#7201a8"
             ],
             [
              0.3333333333333333,
              "#9c179e"
             ],
             [
              0.4444444444444444,
              "#bd3786"
             ],
             [
              0.5555555555555556,
              "#d8576b"
             ],
             [
              0.6666666666666666,
              "#ed7953"
             ],
             [
              0.7777777777777778,
              "#fb9f3a"
             ],
             [
              0.8888888888888888,
              "#fdca26"
             ],
             [
              1,
              "#f0f921"
             ]
            ],
            "type": "contour"
           }
          ],
          "contourcarpet": [
           {
            "colorbar": {
             "outlinewidth": 0,
             "ticks": ""
            },
            "type": "contourcarpet"
           }
          ],
          "heatmap": [
           {
            "colorbar": {
             "outlinewidth": 0,
             "ticks": ""
            },
            "colorscale": [
             [
              0,
              "#0d0887"
             ],
             [
              0.1111111111111111,
              "#46039f"
             ],
             [
              0.2222222222222222,
              "#7201a8"
             ],
             [
              0.3333333333333333,
              "#9c179e"
             ],
             [
              0.4444444444444444,
              "#bd3786"
             ],
             [
              0.5555555555555556,
              "#d8576b"
             ],
             [
              0.6666666666666666,
              "#ed7953"
             ],
             [
              0.7777777777777778,
              "#fb9f3a"
             ],
             [
              0.8888888888888888,
              "#fdca26"
             ],
             [
              1,
              "#f0f921"
             ]
            ],
            "type": "heatmap"
           }
          ],
          "histogram": [
           {
            "marker": {
             "pattern": {
              "fillmode": "overlay",
              "size": 10,
              "solidity": 0.2
             }
            },
            "type": "histogram"
           }
          ],
          "histogram2d": [
           {
            "colorbar": {
             "outlinewidth": 0,
             "ticks": ""
            },
            "colorscale": [
             [
              0,
              "#0d0887"
             ],
             [
              0.1111111111111111,
              "#46039f"
             ],
             [
              0.2222222222222222,
              "#7201a8"
             ],
             [
              0.3333333333333333,
              "#9c179e"
             ],
             [
              0.4444444444444444,
              "#bd3786"
             ],
             [
              0.5555555555555556,
              "#d8576b"
             ],
             [
              0.6666666666666666,
              "#ed7953"
             ],
             [
              0.7777777777777778,
              "#fb9f3a"
             ],
             [
              0.8888888888888888,
              "#fdca26"
             ],
             [
              1,
              "#f0f921"
             ]
            ],
            "type": "histogram2d"
           }
          ],
          "histogram2dcontour": [
           {
            "colorbar": {
             "outlinewidth": 0,
             "ticks": ""
            },
            "colorscale": [
             [
              0,
              "#0d0887"
             ],
             [
              0.1111111111111111,
              "#46039f"
             ],
             [
              0.2222222222222222,
              "#7201a8"
             ],
             [
              0.3333333333333333,
              "#9c179e"
             ],
             [
              0.4444444444444444,
              "#bd3786"
             ],
             [
              0.5555555555555556,
              "#d8576b"
             ],
             [
              0.6666666666666666,
              "#ed7953"
             ],
             [
              0.7777777777777778,
              "#fb9f3a"
             ],
             [
              0.8888888888888888,
              "#fdca26"
             ],
             [
              1,
              "#f0f921"
             ]
            ],
            "type": "histogram2dcontour"
           }
          ],
          "mesh3d": [
           {
            "colorbar": {
             "outlinewidth": 0,
             "ticks": ""
            },
            "type": "mesh3d"
           }
          ],
          "parcoords": [
           {
            "line": {
             "colorbar": {
              "outlinewidth": 0,
              "ticks": ""
             }
            },
            "type": "parcoords"
           }
          ],
          "pie": [
           {
            "automargin": true,
            "type": "pie"
           }
          ],
          "scatter": [
           {
            "fillpattern": {
             "fillmode": "overlay",
             "size": 10,
             "solidity": 0.2
            },
            "type": "scatter"
           }
          ],
          "scatter3d": [
           {
            "line": {
             "colorbar": {
              "outlinewidth": 0,
              "ticks": ""
             }
            },
            "marker": {
             "colorbar": {
              "outlinewidth": 0,
              "ticks": ""
             }
            },
            "type": "scatter3d"
           }
          ],
          "scattercarpet": [
           {
            "marker": {
             "colorbar": {
              "outlinewidth": 0,
              "ticks": ""
             }
            },
            "type": "scattercarpet"
           }
          ],
          "scattergeo": [
           {
            "marker": {
             "colorbar": {
              "outlinewidth": 0,
              "ticks": ""
             }
            },
            "type": "scattergeo"
           }
          ],
          "scattergl": [
           {
            "marker": {
             "colorbar": {
              "outlinewidth": 0,
              "ticks": ""
             }
            },
            "type": "scattergl"
           }
          ],
          "scattermap": [
           {
            "marker": {
             "colorbar": {
              "outlinewidth": 0,
              "ticks": ""
             }
            },
            "type": "scattermap"
           }
          ],
          "scattermapbox": [
           {
            "marker": {
             "colorbar": {
              "outlinewidth": 0,
              "ticks": ""
             }
            },
            "type": "scattermapbox"
           }
          ],
          "scatterpolar": [
           {
            "marker": {
             "colorbar": {
              "outlinewidth": 0,
              "ticks": ""
             }
            },
            "type": "scatterpolar"
           }
          ],
          "scatterpolargl": [
           {
            "marker": {
             "colorbar": {
              "outlinewidth": 0,
              "ticks": ""
             }
            },
            "type": "scatterpolargl"
           }
          ],
          "scatterternary": [
           {
            "marker": {
             "colorbar": {
              "outlinewidth": 0,
              "ticks": ""
             }
            },
            "type": "scatterternary"
           }
          ],
          "surface": [
           {
            "colorbar": {
             "outlinewidth": 0,
             "ticks": ""
            },
            "colorscale": [
             [
              0,
              "#0d0887"
             ],
             [
              0.1111111111111111,
              "#46039f"
             ],
             [
              0.2222222222222222,
              "#7201a8"
             ],
             [
              0.3333333333333333,
              "#9c179e"
             ],
             [
              0.4444444444444444,
              "#bd3786"
             ],
             [
              0.5555555555555556,
              "#d8576b"
             ],
             [
              0.6666666666666666,
              "#ed7953"
             ],
             [
              0.7777777777777778,
              "#fb9f3a"
             ],
             [
              0.8888888888888888,
              "#fdca26"
             ],
             [
              1,
              "#f0f921"
             ]
            ],
            "type": "surface"
           }
          ],
          "table": [
           {
            "cells": {
             "fill": {
              "color": "#EBF0F8"
             },
             "line": {
              "color": "white"
             }
            },
            "header": {
             "fill": {
              "color": "#C8D4E3"
             },
             "line": {
              "color": "white"
             }
            },
            "type": "table"
           }
          ]
         },
         "layout": {
          "annotationdefaults": {
           "arrowcolor": "#2a3f5f",
           "arrowhead": 0,
           "arrowwidth": 1
          },
          "autotypenumbers": "strict",
          "coloraxis": {
           "colorbar": {
            "outlinewidth": 0,
            "ticks": ""
           }
          },
          "colorscale": {
           "diverging": [
            [
             0,
             "#8e0152"
            ],
            [
             0.1,
             "#c51b7d"
            ],
            [
             0.2,
             "#de77ae"
            ],
            [
             0.3,
             "#f1b6da"
            ],
            [
             0.4,
             "#fde0ef"
            ],
            [
             0.5,
             "#f7f7f7"
            ],
            [
             0.6,
             "#e6f5d0"
            ],
            [
             0.7,
             "#b8e186"
            ],
            [
             0.8,
             "#7fbc41"
            ],
            [
             0.9,
             "#4d9221"
            ],
            [
             1,
             "#276419"
            ]
           ],
           "sequential": [
            [
             0,
             "#0d0887"
            ],
            [
             0.1111111111111111,
             "#46039f"
            ],
            [
             0.2222222222222222,
             "#7201a8"
            ],
            [
             0.3333333333333333,
             "#9c179e"
            ],
            [
             0.4444444444444444,
             "#bd3786"
            ],
            [
             0.5555555555555556,
             "#d8576b"
            ],
            [
             0.6666666666666666,
             "#ed7953"
            ],
            [
             0.7777777777777778,
             "#fb9f3a"
            ],
            [
             0.8888888888888888,
             "#fdca26"
            ],
            [
             1,
             "#f0f921"
            ]
           ],
           "sequentialminus": [
            [
             0,
             "#0d0887"
            ],
            [
             0.1111111111111111,
             "#46039f"
            ],
            [
             0.2222222222222222,
             "#7201a8"
            ],
            [
             0.3333333333333333,
             "#9c179e"
            ],
            [
             0.4444444444444444,
             "#bd3786"
            ],
            [
             0.5555555555555556,
             "#d8576b"
            ],
            [
             0.6666666666666666,
             "#ed7953"
            ],
            [
             0.7777777777777778,
             "#fb9f3a"
            ],
            [
             0.8888888888888888,
             "#fdca26"
            ],
            [
             1,
             "#f0f921"
            ]
           ]
          },
          "colorway": [
           "#636efa",
           "#EF553B",
           "#00cc96",
           "#ab63fa",
           "#FFA15A",
           "#19d3f3",
           "#FF6692",
           "#B6E880",
           "#FF97FF",
           "#FECB52"
          ],
          "font": {
           "color": "#2a3f5f"
          },
          "geo": {
           "bgcolor": "white",
           "lakecolor": "white",
           "landcolor": "#E5ECF6",
           "showlakes": true,
           "showland": true,
           "subunitcolor": "white"
          },
          "hoverlabel": {
           "align": "left"
          },
          "hovermode": "closest",
          "mapbox": {
           "style": "light"
          },
          "paper_bgcolor": "white",
          "plot_bgcolor": "#E5ECF6",
          "polar": {
           "angularaxis": {
            "gridcolor": "white",
            "linecolor": "white",
            "ticks": ""
           },
           "bgcolor": "#E5ECF6",
           "radialaxis": {
            "gridcolor": "white",
            "linecolor": "white",
            "ticks": ""
           }
          },
          "scene": {
           "xaxis": {
            "backgroundcolor": "#E5ECF6",
            "gridcolor": "white",
            "gridwidth": 2,
            "linecolor": "white",
            "showbackground": true,
            "ticks": "",
            "zerolinecolor": "white"
           },
           "yaxis": {
            "backgroundcolor": "#E5ECF6",
            "gridcolor": "white",
            "gridwidth": 2,
            "linecolor": "white",
            "showbackground": true,
            "ticks": "",
            "zerolinecolor": "white"
           },
           "zaxis": {
            "backgroundcolor": "#E5ECF6",
            "gridcolor": "white",
            "gridwidth": 2,
            "linecolor": "white",
            "showbackground": true,
            "ticks": "",
            "zerolinecolor": "white"
           }
          },
          "shapedefaults": {
           "line": {
            "color": "#2a3f5f"
           }
          },
          "ternary": {
           "aaxis": {
            "gridcolor": "white",
            "linecolor": "white",
            "ticks": ""
           },
           "baxis": {
            "gridcolor": "white",
            "linecolor": "white",
            "ticks": ""
           },
           "bgcolor": "#E5ECF6",
           "caxis": {
            "gridcolor": "white",
            "linecolor": "white",
            "ticks": ""
           }
          },
          "title": {
           "x": 0.05
          },
          "xaxis": {
           "automargin": true,
           "gridcolor": "white",
           "linecolor": "white",
           "ticks": "",
           "title": {
            "standoff": 15
           },
           "zerolinecolor": "white",
           "zerolinewidth": 2
          },
          "yaxis": {
           "automargin": true,
           "gridcolor": "white",
           "linecolor": "white",
           "ticks": "",
           "title": {
            "standoff": 15
           },
           "zerolinecolor": "white",
           "zerolinewidth": 2
          }
         }
        },
        "title": {
         "text": "All 200 Points After Initial Training"
        },
        "width": 1200
       }
      }
     },
     "metadata": {},
     "output_type": "display_data"
    }
   ],
   "source": [
    "# Plot ALL points after initial training\n",
    "fig = make_subplots(\n",
    "    rows=1, cols=2,\n",
    "    specs=[[{'type': 'scatter3d'}, {'type': 'scatter3d'}]],\n",
    "    subplot_titles=(\"qNParEGO\", \"qEHVI\")\n",
    ")\n",
    "\n",
    "batch_number = torch.cat([\n",
    "    torch.zeros(n_initial),\n",
    "    torch.arange(1, N_BATCH + 1).repeat(BATCH_SIZE, 1).t().reshape(-1),\n",
    "]).numpy()\n",
    "\n",
    "start_idx = n_initial\n",
    "end_idx = len(train_obj_true_qparego)\n",
    "\n",
    "alg_data = [\n",
    "    (-train_obj_true_qparego[start_idx:end_idx], \"qNParEGO\"),\n",
    "    (-train_obj_true_qehvi[start_idx:end_idx], \"qEHVI\"),\n",
    "]\n",
    "\n",
    "for col, (train_obj, name) in enumerate(alg_data, 1):\n",
    "    obj_np = train_obj.cpu().numpy()\n",
    "\n",
    "    scatter = go.Scatter3d(\n",
    "        x=obj_np[:, 0], y=obj_np[:, 1], z=obj_np[:, 2],\n",
    "        mode='markers',\n",
    "        marker=dict(\n",
    "            size=4,\n",
    "            color=batch_number[start_idx:end_idx],\n",
    "            colorscale='Viridis',\n",
    "            opacity=0.8,\n",
    "            colorbar=dict(title='Iteration') if col == 2 else None\n",
    "        ),\n",
    "        name=name,\n",
    "        hovertemplate=\"<b>Obj1</b>: %{x:.2f}<br><b>Obj2</b>: %{y:.2f}<br><b>Obj3</b>: %{z:.2f}<extra></extra>\"\n",
    "    )\n",
    "\n",
    "    fig.add_trace(scatter, row=1, col=col)\n",
    "    fig.add_trace(pf_surface, row=1, col=col)\n",
    "\n",
    "# Update layout\n",
    "fig.update_layout(\n",
    "    height=600,\n",
    "    width=1200,\n",
    "    scene1=dict(\n",
    "        xaxis_title='Objective 1',\n",
    "        yaxis_title='Objective 2',\n",
    "        zaxis_title='Objective 3',\n",
    "        camera=dict(eye=dict(x=1.5, y=1.5, z=0.6))\n",
    "    ),\n",
    "    scene2=dict(\n",
    "        xaxis_title='Objective 1',\n",
    "        yaxis_title='Objective 2',\n",
    "        zaxis_title='Objective 3',\n",
    "        camera=dict(eye=dict(x=1.5, y=1.5, z=0.6))\n",
    "    ),\n",
    "    showlegend=False,\n",
    "    title_text=f'All {end_idx - start_idx} Points After Initial Training'\n",
    ")\n",
    "\n",
    "fig.show()\n",
    "\n",
    "\n",
    "pio.write_html(fig, 'DTLZ1a candidates.html')"
   ]
  },
  {
   "cell_type": "code",
   "execution_count": 20,
   "metadata": {
    "executionInfo": {
     "elapsed": 1221531,
     "status": "aborted",
     "timestamp": 1747909342286,
     "user": {
      "displayName": "Deepak L",
      "userId": "17343563887203968144"
     },
     "user_tz": -330
    },
    "id": "9LzcVovZBdhv",
    "scrolled": true
   },
   "outputs": [
    {
     "name": "stdout",
     "output_type": "stream",
     "text": [
      "ParEGO data saved to 'DTLZ1a (6-3) qNParEGO_data.csv'\n",
      "EHVI data saved to 'DTLZ1a (6-3) qEHVI_data.csv'\n"
     ]
    }
   ],
   "source": [
    "import pandas as pd\n",
    "\n",
    "# Convert PyTorch tensors to numpy arrays\n",
    "train_x_qparego_np = train_x_qparego.cpu().numpy()\n",
    "train_obj_qparego_np = train_obj_qparego.cpu().numpy()\n",
    "train_x_qehvi_np = train_x_qehvi.cpu().numpy()\n",
    "train_obj_qehvi_np = train_obj_qehvi.cpu().numpy()\n",
    "\n",
    "# Concatenate the input dimensions and objectives horizontally\n",
    "qparego_data = np.hstack([train_x_qparego_np, train_obj_qparego_np])\n",
    "qehvi_data = np.hstack([train_x_qehvi_np, train_obj_qehvi_np])\n",
    "\n",
    "# Create column headers for better readability\n",
    "input_dim = train_x_qparego.shape[1]\n",
    "obj_dim = train_obj_qparego.shape[1]\n",
    "column_names = [f\"dim{i+1}\" for i in range(input_dim)] + [f\"obj{i+1}\" for i in range(obj_dim)]\n",
    "\n",
    "# Create DataFrames with the combined data and column names\n",
    "qparego_df = pd.DataFrame(qparego_data, columns=column_names)\n",
    "qehvi_df = pd.DataFrame(qehvi_data, columns=column_names)\n",
    "\n",
    "# Save to CSV files\n",
    "qparego_df.to_csv('DTLZ1a (6-3) qNParEGO_data.csv', index=False, mode='w')\n",
    "qehvi_df.to_csv('DTLZ1a (6-3) qEHVI_data.csv', index=False, mode='w')\n",
    "\n",
    "print(\"ParEGO data saved to 'DTLZ1a (6-3) qNParEGO_data.csv'\")\n",
    "print(\"EHVI data saved to 'DTLZ1a (6-3) qEHVI_data.csv'\")\n"
   ]
  }
 ],
 "metadata": {
  "accelerator": "GPU",
  "colab": {
   "gpuType": "T4",
   "provenance": []
  },
  "kernelspec": {
   "display_name": "Python 3 (ipykernel)",
   "language": "python",
   "name": "python3"
  },
  "language_info": {
   "codemirror_mode": {
    "name": "ipython",
    "version": 3
   },
   "file_extension": ".py",
   "mimetype": "text/x-python",
   "name": "python",
   "nbconvert_exporter": "python",
   "pygments_lexer": "ipython3",
   "version": "3.12.9"
  }
 },
 "nbformat": 4,
 "nbformat_minor": 4
}
