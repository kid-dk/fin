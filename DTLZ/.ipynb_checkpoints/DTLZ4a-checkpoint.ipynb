{
 "cells": [
  {
   "cell_type": "code",
   "execution_count": 8,
   "metadata": {
    "colab": {
     "base_uri": "https://localhost:8080/"
    },
    "executionInfo": {
     "elapsed": 31095,
     "status": "ok",
     "timestamp": 1747805118553,
     "user": {
      "displayName": "Deepak L",
      "userId": "17343563887203968144"
     },
     "user_tz": -330
    },
    "id": "6ks8T9wDIUS_",
    "outputId": "ee1f8519-5063-45be-d891-9b44997bb392"
   },
   "outputs": [],
   "source": [
    "# from google.colab import drive\n",
    "import os\n",
    "import pandas as pd\n",
    "import numpy as np # Import numpy\n",
    "\n",
    "# drive.mount('/gdrive')\n",
    "\n",
    "# # Define the path to your \"flick\" folder\n",
    "# folder_path = '/gdrive/MyDrive/code' # Replace 'MyDrive' with your actual Drive folder name if different\n",
    "\n",
    "# # Create the folder if it doesn't exist\n",
    "# if not os.path.exists(folder_path):\n",
    "#     os.makedirs(folder_path)\n",
    "\n",
    "# # Change the current working directory to the \"flick\" folder\n",
    "# os.chdir(folder_path)\n",
    "\n",
    "# print(f\"Current working directory changed to: {os.getcwd()}\")"
   ]
  },
  {
   "cell_type": "code",
   "execution_count": 9,
   "metadata": {
    "id": "td2DETpYNGIv"
   },
   "outputs": [],
   "source": [
    "import os, torch, gc\n",
    "os.environ[\"PYTORCH_CUDA_ALLOC_CONF\"] = \"expandable_segments:True\"\n",
    "torch.set_default_dtype(torch.float32)"
   ]
  },
  {
   "cell_type": "markdown",
   "metadata": {
    "id": "JiijYn5qBdhm",
    "originalKey": "61330204-a407-449f-af77-fcd868546651",
    "showInput": false
   },
   "source": [
    "## Noisy, Parallel, Multi-Objective BO in BoTorch with qEHVI, qNEHVI, and qNParEGO\n",
    "\n",
    "In this tutorial, we illustrate how to implement a simple multi-objective (MO) Bayesian Optimization (BO) closed loop in BoTorch.\n",
    "\n",
    "We use the parallel ParEGO ($q$ParEGO), parallel Expected Hypervolume Improvement ($q$EHVI), and parallel Noisy Expected Hypervolume Improvement ($q$NEHVI) acquisition functions to optimize a synthetic ZDT2 problem test function with additive Gaussian observation noise over a 30-parameter search space [0,1]^30. See `botorch/test_functions/multi_objective.py` for details on ZDT2.\n",
    "\n",
    "Since botorch assumes a maximization of all objectives, we seek to find the Pareto frontier, the set of optimal trade-offs where improving one metric means deteriorating another.\n",
    "\n",
    "**For batch optimization (or in noisy settings), we strongly recommend using $q$NEHVI rather than $q$EHVI because it is far more efficient than $q$EHVI and mathematically equivalent in the noiseless setting.**"
   ]
  },
  {
   "cell_type": "markdown",
   "metadata": {
    "id": "8_WZ6HzLBdho",
    "originalKey": "f01416cb-e83e-4263-b599-b2a3221d144d",
    "showInput": false
   },
   "source": [
    "### Set dtype and device\n",
    "Note: $q$EHVI and $q$NEHVI aggressively exploit parallel hardware and are both much faster when run on a GPU. See [1, 2] for details."
   ]
  },
  {
   "cell_type": "code",
   "execution_count": 10,
   "metadata": {
    "colab": {
     "base_uri": "https://localhost:8080/"
    },
    "executionInfo": {
     "elapsed": 89810,
     "status": "ok",
     "timestamp": 1747805208379,
     "user": {
      "displayName": "Deepak L",
      "userId": "17343563887203968144"
     },
     "user_tz": -330
    },
    "id": "lSxpp8YmBdho",
    "outputId": "7572eab7-94fb-4d58-a759-ffe0b2b423d8"
   },
   "outputs": [],
   "source": [
    "# # Install dependencies if we are running in colab\n",
    "# import sys\n",
    "# if 'google.colab' in sys.modules:\n",
    "#     %pip install botorch"
   ]
  },
  {
   "cell_type": "code",
   "execution_count": 11,
   "metadata": {
    "collapsed": false,
    "customOutput": null,
    "executionStartTime": 1668649461840,
    "executionStopTime": 1668649461848,
    "id": "iNZ_9z01Bdhp",
    "jupyter": {
     "outputs_hidden": false
    },
    "originalKey": "41c30177-379b-4e63-9996-41bc17d70769",
    "requestMsgId": "7e4820a5-df3b-45a6-9826-42541ee0f4f4"
   },
   "outputs": [],
   "source": [
    "import os\n",
    "import torch\n",
    "torch.manual_seed(80)\n",
    "\n",
    "\n",
    "tkwargs = {\n",
    "    \"dtype\": torch.double,\n",
    "    \"device\": torch.device(\"cuda\" if torch.cuda.is_available() else \"cpu\"),\n",
    "}\n",
    "SMOKE_TEST = os.environ.get(\"SMOKE_TEST\")"
   ]
  },
  {
   "cell_type": "markdown",
   "metadata": {
    "id": "B1v64d4oBdhq",
    "originalKey": "8d895a93-397c-4d2c-b6f5-96f589312538",
    "showInput": false
   },
   "source": [
    "### Problem setup\n"
   ]
  },
  {
   "cell_type": "code",
   "execution_count": 12,
   "metadata": {
    "id": "VxqCnTGMBdhq"
   },
   "outputs": [],
   "source": [
    "# from botorch.test_functions.multi_objective import DTLZ1\n",
    "\n",
    "\n",
    "# problem = DTLZ1(dim=6, num_objectives=3, negate=True).to(**tkwargs)"
   ]
  },
  {
   "cell_type": "code",
   "execution_count": 13,
   "metadata": {
    "id": "6JGD2OZnBgNx"
   },
   "outputs": [],
   "source": [
    "import math\n",
    "import torch\n",
    "from torch import Tensor\n",
    "from typing import Optional\n",
    "from scipy.special import gamma\n",
    "from botorch.test_functions.multi_objective import DTLZ\n",
    "from botorch.utils.sampling import sample_simplex, sample_hypersphere\n",
    "\n",
    "\n",
    "class DTLZ4a(DTLZ):\n",
    "    r\"\"\"DTLZ4a: DTLZ2a with alpha=100 exponent (3 objectives, 8 variables).\"\"\"\n",
    "    _ref_val = 1.1\n",
    "    _alpha = 100.0\n",
    "\n",
    "    def __init__(self, noise_std: Optional[float] = None, negate: bool = False) -> None:\n",
    "        super().__init__(dim=8, num_objectives=3, noise_std=noise_std, negate=negate)\n",
    "\n",
    "    def _evaluate_true(self, X: Tensor) -> Tensor:\n",
    "        X_m = X[..., -self.k :]\n",
    "        g_X = (X_m - 0.5).pow(2).sum(dim=-1)\n",
    "        g_X_plus1 = 1 + g_X\n",
    "        fs = []\n",
    "        pi_over_2 = math.pi / 2\n",
    "        for i in range(self.num_objectives):\n",
    "            idx = self.num_objectives - 1 - i\n",
    "            f_i = g_X_plus1.clone()\n",
    "            # apply exponent alpha to angle variables\n",
    "            if idx > 0:\n",
    "                f_i *= torch.cos(X[..., :idx].pow(self._alpha) * pi_over_2).prod(dim=-1)\n",
    "            if i > 0:\n",
    "                f_i *= torch.sin(X[..., idx].pow(self._alpha) * pi_over_2)\n",
    "            fs.append(f_i)\n",
    "        return torch.stack(fs, dim=-1)\n",
    "        \n",
    "    def evaluate_true(self, X: Tensor) -> Tensor:\n",
    "        return self._evaluate_true(X)\n",
    "\n",
    "    @property\n",
    "    def _max_hv(self) -> float:\n",
    "        hypercube_vol = self._ref_val ** self.num_objectives\n",
    "        pos_hypersphere_vol = (\n",
    "            math.pi ** (self.num_objectives / 2) / gamma(self.num_objectives / 2 + 1) / 2 ** self.num_objectives\n",
    "        )\n",
    "        return hypercube_vol - pos_hypersphere_vol\n",
    "\n",
    "    def gen_pareto_front(self, n: int) -> Tensor:\n",
    "        f_X = sample_hypersphere(\n",
    "            n=n,\n",
    "            d=self.num_objectives,\n",
    "            dtype=self.ref_point.dtype,\n",
    "            device=self.ref_point.device,\n",
    "            qmc=True,\n",
    "        ).abs()\n",
    "        if self.negate:\n",
    "            f_X *= -1\n",
    "        return f_X\n"
   ]
  },
  {
   "cell_type": "code",
   "execution_count": 14,
   "metadata": {
    "colab": {
     "base_uri": "https://localhost:8080/"
    },
    "executionInfo": {
     "elapsed": 622,
     "status": "ok",
     "timestamp": 1747805217019,
     "user": {
      "displayName": "Deepak L",
      "userId": "17343563887203968144"
     },
     "user_tz": -330
    },
    "id": "-WaIKxgPBdhq",
    "outputId": "bc4a5af4-d393-4c01-d2b3-696afb1ce355"
   },
   "outputs": [
    {
     "name": "stdout",
     "output_type": "stream",
     "text": [
      "tensor([-1.1000, -1.1000, -1.1000], dtype=torch.float64)\n",
      "0.8074012244017015\n",
      "tensor([[0., 0., 0., 0., 0., 0., 0., 0.],\n",
      "        [1., 1., 1., 1., 1., 1., 1., 1.]], dtype=torch.float64)\n"
     ]
    }
   ],
   "source": [
    "problem = DTLZ4a(negate=True).to(**tkwargs)\n",
    "\n",
    "print(problem.ref_point, end=\"\\n\")\n",
    "print(problem.max_hv, end=\"\\n\")\n",
    "print(problem.bounds, end=\"\\n\")"
   ]
  },
  {
   "cell_type": "markdown",
   "metadata": {
    "id": "I31BWTdlBdhr",
    "originalKey": "fc047039-c2a9-4ea8-920e-c057547cfb11",
    "showInput": false
   },
   "source": [
    "#### Model initialization\n",
    "\n",
    "We use a list of `SingleTaskGP`s to model the two objectives with known noise variances. If no noise variances were provided, `SingleTaskGP` would infer (homoskedastic) noise levels instead.\n",
    "\n",
    "The models are initialized with $2(d+1)=6$ points drawn randomly from $[0,1]^2$."
   ]
  },
  {
   "cell_type": "code",
   "execution_count": 15,
   "metadata": {
    "collapsed": false,
    "customOutput": null,
    "executionStartTime": 1668649462312,
    "executionStopTime": 1668649462318,
    "id": "hIkSW6KWBdhr",
    "jupyter": {
     "outputs_hidden": false
    },
    "originalKey": "47170c31-65e4-4f2d-949c-d91544e065fc",
    "requestMsgId": "8a44b7cb-cc5f-419e-849f-2b4d1dc3abe1"
   },
   "outputs": [],
   "source": [
    "from botorch.models.gp_regression import SingleTaskGP\n",
    "from botorch.models.model_list_gp_regression import ModelListGP\n",
    "from botorch.models.transforms.outcome import Standardize\n",
    "from gpytorch.mlls.sum_marginal_log_likelihood import SumMarginalLogLikelihood\n",
    "from botorch.utils.transforms import unnormalize, normalize\n",
    "from botorch.utils.sampling import draw_sobol_samples\n",
    "\n",
    "n_initial = 11 * problem.dim - 1\n",
    "\n",
    "def generate_initial_data(n=n_initial):\n",
    "    # generate training data\n",
    "    train_x = draw_sobol_samples(bounds=problem.bounds, n=n, q=1).squeeze(1)\n",
    "    train_obj_true = problem(train_x)\n",
    "    train_obj = train_obj_true\n",
    "    return train_x, train_obj, train_obj_true\n",
    "\n",
    "\n",
    "\n",
    "from botorch.models.gp_regression import SingleTaskGP\n",
    "from gpytorch.mlls.exact_marginal_log_likelihood import ExactMarginalLogLikelihood\n",
    "\n",
    "def initialize_model(train_x, train_obj):\n",
    "    train_x = normalize(train_x, problem.bounds)\n",
    "    train_y = train_obj  # Shape: [n, 2]\n",
    "\n",
    "    model = SingleTaskGP(\n",
    "        train_x,\n",
    "        train_y,\n",
    "        outcome_transform=Standardize(m=3),  # Standardize both objectives\n",
    "    )\n",
    "    mll = ExactMarginalLogLikelihood(model.likelihood, model)\n",
    "    return mll, model"
   ]
  },
  {
   "cell_type": "markdown",
   "metadata": {
    "id": "Y-OuG7D3Bdhs",
    "originalKey": "6bfaef9a-3f34-4d51-9700-fbddc79eccf1",
    "showInput": false
   },
   "source": [
    "#### Define a helper functions that performs the essential BO step for $q$EHVI and $q$NEHVI\n",
    "The helper function below initializes the $q$EHVI acquisition function, optimizes it, and returns the batch $\\{x_1, x_2, \\ldots x_q\\}$ along with the observed function values.\n",
    "\n",
    "For this example, we'll use a relatively small batch of optimization ($q=4$). For batch optimization ($q>1$), passing the keyword argument `sequential=True` to the function `optimize_acqf`specifies that candidates should be optimized in a sequential greedy fashion (see [1] for details why this is important). A simple initialization heuristic is used to select the 10 restart initial locations from a set of 512 random points. Multi-start optimization of the acquisition function is performed using LBFGS-B with exact gradients computed via auto-differentiation.\n",
    "\n",
    "**Reference Point**\n",
    "\n",
    "$q$EHVI requires specifying a reference point, which is the lower bound on the objectives used for computing hypervolume. In this tutorial, we assume the reference point is known. In practice the reference point can be set 1) using domain knowledge to be slightly worse than the lower bound of objective values, where the lower bound is the minimum acceptable value of interest for each objective, or 2) using a dynamic reference point selection strategy.\n",
    "\n",
    "**Partitioning the Non-dominated Space into disjoint rectangles**\n",
    "\n",
    "$q$EHVI requires partitioning the non-dominated space into disjoint rectangles (see [1] for details).\n",
    "\n",
    "*Note:* `FastNondominatedPartitioning` *will be very slow when 1) there are a lot of points on the pareto frontier and 2) there are >5 objectives.*"
   ]
  },
  {
   "cell_type": "code",
   "execution_count": 16,
   "metadata": {
    "collapsed": false,
    "customOutput": null,
    "executionStartTime": 1668649462539,
    "executionStopTime": 1668649462641,
    "id": "zSOEeo1bBdhs",
    "jupyter": {
     "outputs_hidden": false
    },
    "originalKey": "b7effe94-1327-405d-9148-c8e93470b846",
    "requestMsgId": "40a5edda-3bee-43c9-b84b-c669c288eb80"
   },
   "outputs": [],
   "source": [
    "from botorch.optim.optimize import optimize_acqf, optimize_acqf_list\n",
    "from botorch.acquisition.objective import GenericMCObjective\n",
    "from botorch.utils.multi_objective.scalarization import get_chebyshev_scalarization\n",
    "from botorch.utils.multi_objective.box_decompositions.non_dominated import (\n",
    "    NondominatedPartitioning,\n",
    ")\n",
    "from botorch.acquisition.multi_objective import (\n",
    "    qLogExpectedHypervolumeImprovement,\n",
    "    qLogNoisyExpectedHypervolumeImprovement,\n",
    ")\n",
    "from botorch.utils.sampling import sample_simplex\n",
    "\n",
    "\n",
    "BATCH_SIZE = 2\n",
    "NUM_RESTARTS = 10 if not SMOKE_TEST else 2\n",
    "RAW_SAMPLES = 128 if not SMOKE_TEST else 4\n",
    "\n",
    "standard_bounds = torch.zeros(2, problem.dim, **tkwargs)\n",
    "standard_bounds[1] = 1\n",
    "\n",
    "\n",
    "def optimize_qehvi_and_get_observation(model, train_x, train_obj, sampler):\n",
    "    \"\"\"Optimizes the qEHVI acquisition function, and returns a new candidate and observation.\"\"\"\n",
    "    # partition non-dominated space into disjoint rectangles\n",
    "    with torch.no_grad():\n",
    "        pred = model.posterior(normalize(train_x, problem.bounds)).mean\n",
    "    partitioning = NondominatedPartitioning(\n",
    "        ref_point=problem.ref_point,\n",
    "        Y=pred,\n",
    "    )\n",
    "    acq_func = qLogExpectedHypervolumeImprovement(\n",
    "        model=model,\n",
    "        ref_point=problem.ref_point,\n",
    "        partitioning=partitioning,\n",
    "        sampler=sampler,\n",
    "    )\n",
    "    # optimize\n",
    "    candidates, _ = optimize_acqf(\n",
    "        acq_function=acq_func,\n",
    "        bounds=standard_bounds,\n",
    "        q=BATCH_SIZE,\n",
    "        num_restarts=NUM_RESTARTS,\n",
    "        raw_samples=RAW_SAMPLES,  # used for intialization heuristic\n",
    "        options={\"batch_limit\": 5, \"maxiter\": 200},\n",
    "        sequential=True,\n",
    "    )\n",
    "    # observe new values\n",
    "    new_x = unnormalize(candidates.detach(), bounds=problem.bounds)\n",
    "    new_obj_true = problem(new_x)\n",
    "    new_obj = new_obj_true\n",
    "    return new_x, new_obj, new_obj_true"
   ]
  },
  {
   "cell_type": "markdown",
   "metadata": {
    "id": "MiFVOqxhBdht",
    "originalKey": "ad78607d-d910-441c-903b-b15dc77a432f",
    "showInput": false
   },
   "source": [
    "#### Define a helper function that performs the essential BO step for $q$NParEGO\n",
    "The helper function below similarly initializes $q$NParEGO, optimizes it, and returns the batch $\\{x_1, x_2, \\ldots x_q\\}$ along with the observed function values.\n",
    "\n",
    "$q$NParEGO uses random augmented chebyshev scalarization with the `qNoisyExpectedImprovement` acquisition function. In the parallel setting ($q>1$), each candidate is optimized in sequential greedy fashion using a different random scalarization (see [1] for details).\n",
    "\n",
    "To do this, we create a list of `qNoisyExpectedImprovement` acquisition functions, each with different random scalarization weights. The `optimize_acqf_list` method sequentially generates one candidate per acquisition function and conditions the next candidate (and acquisition function) on the previously selected pending candidates."
   ]
  },
  {
   "cell_type": "code",
   "execution_count": 17,
   "metadata": {
    "collapsed": false,
    "customOutput": null,
    "executionStartTime": 1668649463087,
    "executionStopTime": 1668649463185,
    "id": "rACxiO2FBdht",
    "jupyter": {
     "outputs_hidden": false
    },
    "originalKey": "806b115f-a15f-44df-b7f9-d2f098969e02",
    "requestMsgId": "514d162f-78e0-447a-a483-c923cba18b80"
   },
   "outputs": [],
   "source": [
    "from botorch.acquisition import qLogNoisyExpectedImprovement\n",
    "\n",
    "\n",
    "def optimize_qnparego_and_get_observation(model, train_x, train_obj, sampler):\n",
    "    \"\"\"Samples a set of random weights for each candidate in the batch, performs sequential greedy optimization\n",
    "    of the qNParEGO acquisition function, and returns a new candidate and observation.\"\"\"\n",
    "    train_x = normalize(train_x, problem.bounds)\n",
    "    with torch.no_grad():\n",
    "        pred = model.posterior(train_x).mean\n",
    "    acq_func_list = []\n",
    "    for _ in range(BATCH_SIZE):\n",
    "        weights = sample_simplex(problem.num_objectives, **tkwargs).squeeze()\n",
    "        objective = GenericMCObjective(\n",
    "            get_chebyshev_scalarization(weights=weights, Y=pred)\n",
    "        )\n",
    "        acq_func = qLogNoisyExpectedImprovement(  # pyre-ignore: [28]\n",
    "            model=model,\n",
    "            objective=objective,\n",
    "            X_baseline=train_x,\n",
    "            sampler=sampler,\n",
    "            prune_baseline=True,\n",
    "        )\n",
    "        acq_func_list.append(acq_func)\n",
    "    # optimize\n",
    "    candidates, _ = optimize_acqf_list(\n",
    "        acq_function_list=acq_func_list,\n",
    "        bounds=standard_bounds,\n",
    "        num_restarts=NUM_RESTARTS,\n",
    "        raw_samples=RAW_SAMPLES,  # used for intialization heuristic\n",
    "        options={\"batch_limit\": 5, \"maxiter\": 200},\n",
    "    )\n",
    "    # observe new values\n",
    "    new_x = unnormalize(candidates.detach(), bounds=problem.bounds)\n",
    "    new_obj_true = problem(new_x)\n",
    "    new_obj = new_obj_true #+ torch.randn_like(new_obj_true) * NOISE_SE\n",
    "    return new_x, new_obj, new_obj_true"
   ]
  },
  {
   "cell_type": "markdown",
   "metadata": {
    "id": "ZXq2l3l-Bdht",
    "originalKey": "f8ffd86a-f4bb-4984-9330-04ff4d62f189",
    "showInput": false
   },
   "source": [
    "### Perform Bayesian Optimization loop with $q$NEHVI, $q$EHVI, and $q$NParEGO\n",
    "The Bayesian optimization \"loop\" for a batch size of $q$ simply iterates the following steps:\n",
    "1. given a surrogate model, choose a batch of points $\\{x_1, x_2, \\ldots x_q\\}$\n",
    "2. observe $f(x)$ for each $x$ in the batch\n",
    "3. update the surrogate model.\n",
    "\n",
    "\n",
    "Just for illustration purposes, we run one trial with `N_BATCH=20` rounds of optimization. The acquisition function is approximated using `MC_SAMPLES=128` samples.\n",
    "\n",
    "*Note*: Running this may take a little while."
   ]
  },
  {
   "cell_type": "code",
   "execution_count": 18,
   "metadata": {
    "colab": {
     "base_uri": "https://localhost:8080/"
    },
    "collapsed": false,
    "customOutput": null,
    "executionInfo": {
     "elapsed": 6955606,
     "status": "ok",
     "timestamp": 1747812172715,
     "user": {
      "displayName": "Deepak L",
      "userId": "17343563887203968144"
     },
     "user_tz": -330
    },
    "executionStartTime": 1668649463513,
    "executionStopTime": 1668649856754,
    "id": "A2Ii-yH3Bdhu",
    "jupyter": {
     "outputs_hidden": false
    },
    "originalKey": "c29b731a-64e7-401d-a5b2-3879d8d39327",
    "outputId": "059f883f-d6c2-4e65-fbfb-eeff1d3a0b2c",
    "requestMsgId": "43e1021f-9ecd-4d2c-a7ba-21e26051ce66"
   },
   "outputs": [
    {
     "name": "stdout",
     "output_type": "stream",
     "text": [
      "\n",
      "Batch  1: Hypervolume (qNParEGO, qEHVI) = (0.01, 0.01), time = 112.50.\n",
      "Batch  2: Hypervolume (qNParEGO, qEHVI) = (0.01, 0.01), time = 86.39.\n",
      "Batch  3: Hypervolume (qNParEGO, qEHVI) = (0.01, 0.01), time = 105.97.\n",
      "Batch  4: Hypervolume (qNParEGO, qEHVI) = (0.01, 0.01), time = 125.64.\n",
      "Batch  5: Hypervolume (qNParEGO, qEHVI) = (0.01, 0.01), time = 129.30.\n",
      "Batch  6: Hypervolume (qNParEGO, qEHVI) = (0.08, 0.01), time = 136.72.\n",
      "Batch  7: Hypervolume (qNParEGO, qEHVI) = (0.08, 0.01), time = 106.61.\n",
      "Batch  8: Hypervolume (qNParEGO, qEHVI) = (0.08, 0.01), time = 62.00.\n",
      "Batch  9: Hypervolume (qNParEGO, qEHVI) = (0.08, 0.01), time = 116.61.\n",
      "Batch 10: Hypervolume (qNParEGO, qEHVI) = (0.08, 0.01), time = 112.34.\n",
      "Batch 11: Hypervolume (qNParEGO, qEHVI) = (0.08, 0.01), time = 56.39.\n",
      "Batch 12: Hypervolume (qNParEGO, qEHVI) = (0.12, 0.04), time = 105.70.\n",
      "Batch 13: Hypervolume (qNParEGO, qEHVI) = (0.12, 0.04), time = 110.66.\n",
      "Batch 14: Hypervolume (qNParEGO, qEHVI) = (0.12, 0.09), time = 96.78.\n",
      "Batch 15: Hypervolume (qNParEGO, qEHVI) = (0.12, 0.09), time = 88.33.\n",
      "Batch 16: Hypervolume (qNParEGO, qEHVI) = (0.12, 0.09), time = 97.86.\n",
      "Batch 17: Hypervolume (qNParEGO, qEHVI) = (0.12, 0.09), time = 99.31.\n",
      "Batch 18: Hypervolume (qNParEGO, qEHVI) = (0.12, 0.09), time = 119.58.\n",
      "Batch 19: Hypervolume (qNParEGO, qEHVI) = (0.12, 0.09), time = 78.77.\n",
      "Batch 20: Hypervolume (qNParEGO, qEHVI) = (0.12, 0.09), time = 126.30.\n",
      "Batch 21: Hypervolume (qNParEGO, qEHVI) = (0.12, 0.09), time = 93.88.\n",
      "Batch 22: Hypervolume (qNParEGO, qEHVI) = (0.12, 0.09), time = 92.70.\n",
      "Batch 23: Hypervolume (qNParEGO, qEHVI) = (0.12, 0.09), time = 98.84.\n",
      "Batch 24: Hypervolume (qNParEGO, qEHVI) = (0.12, 0.09), time = 102.84.\n",
      "Batch 25: Hypervolume (qNParEGO, qEHVI) = (0.12, 0.09), time = 69.50.\n",
      "Batch 26: Hypervolume (qNParEGO, qEHVI) = (0.13, 0.09), time = 118.64.\n",
      "Batch 27: Hypervolume (qNParEGO, qEHVI) = (0.13, 0.11), time = 88.44.\n",
      "Batch 28: Hypervolume (qNParEGO, qEHVI) = (0.13, 0.11), time = 132.95.\n",
      "Batch 29: Hypervolume (qNParEGO, qEHVI) = (0.13, 0.11), time = 113.64.\n",
      "Batch 30: Hypervolume (qNParEGO, qEHVI) = (0.13, 0.11), time = 256.88.\n",
      "Batch 31: Hypervolume (qNParEGO, qEHVI) = (0.13, 0.11), time = 157.67.\n",
      "Batch 32: Hypervolume (qNParEGO, qEHVI) = (0.13, 0.11), time = 115.31.\n",
      "Batch 33: Hypervolume (qNParEGO, qEHVI) = (0.13, 0.11), time = 125.05.\n",
      "Batch 34: Hypervolume (qNParEGO, qEHVI) = (0.13, 0.11), time = 111.83.\n",
      "Batch 35: Hypervolume (qNParEGO, qEHVI) = (0.13, 0.11), time = 116.72.\n",
      "Batch 36: Hypervolume (qNParEGO, qEHVI) = (0.13, 0.11), time = 115.53.\n",
      "Batch 37: Hypervolume (qNParEGO, qEHVI) = (0.13, 0.11), time = 146.48.\n",
      "Batch 38: Hypervolume (qNParEGO, qEHVI) = (0.13, 0.11), time = 172.66.\n",
      "Batch 39: Hypervolume (qNParEGO, qEHVI) = (0.13, 0.11), time = 129.25.\n",
      "Batch 40: Hypervolume (qNParEGO, qEHVI) = (0.13, 0.11), time = 192.66.\n",
      "Batch 41: Hypervolume (qNParEGO, qEHVI) = (0.13, 0.11), time = 126.42.\n",
      "Batch 42: Hypervolume (qNParEGO, qEHVI) = (0.13, 0.11), time = 129.89.\n",
      "Batch 43: Hypervolume (qNParEGO, qEHVI) = (0.13, 0.11), time = 205.39.\n",
      "Batch 44: Hypervolume (qNParEGO, qEHVI) = (0.13, 0.11), time = 140.73.\n",
      "Batch 45: Hypervolume (qNParEGO, qEHVI) = (0.13, 0.11), time = 104.39.\n",
      "Batch 46: Hypervolume (qNParEGO, qEHVI) = (0.13, 0.11), time = 132.53.\n",
      "Batch 47: Hypervolume (qNParEGO, qEHVI) = (0.13, 0.11), time = 208.05.\n",
      "Batch 48: Hypervolume (qNParEGO, qEHVI) = (0.22, 0.11), time = 154.94.\n",
      "Batch 49: Hypervolume (qNParEGO, qEHVI) = (0.22, 0.11), time = 242.73.\n",
      "Batch 50: Hypervolume (qNParEGO, qEHVI) = (0.22, 0.11), time = 154.00.\n",
      "Batch 51: Hypervolume (qNParEGO, qEHVI) = (0.22, 0.11), time = 196.69.\n",
      "Batch 52: Hypervolume (qNParEGO, qEHVI) = (0.22, 0.11), time = 151.72.\n",
      "Batch 53: Hypervolume (qNParEGO, qEHVI) = (0.22, 0.12), time = 234.84.\n",
      "Batch 54: Hypervolume (qNParEGO, qEHVI) = (0.22, 0.12), time = 225.94.\n",
      "Batch 55: Hypervolume (qNParEGO, qEHVI) = (0.22, 0.12), time = 289.72.\n",
      "Batch 56: Hypervolume (qNParEGO, qEHVI) = (0.22, 0.12), time = 266.38.\n",
      "Batch 57: Hypervolume (qNParEGO, qEHVI) = (0.22, 0.12), time = 299.00.\n",
      "Batch 58: Hypervolume (qNParEGO, qEHVI) = (0.22, 0.12), time = 258.36.\n",
      "Batch 59: Hypervolume (qNParEGO, qEHVI) = (0.22, 0.12), time = 290.02.\n",
      "Batch 60: Hypervolume (qNParEGO, qEHVI) = (0.22, 0.12), time = 202.59.\n",
      "Batch 61: Hypervolume (qNParEGO, qEHVI) = (0.22, 0.12), time = 238.69.\n",
      "Batch 62: Hypervolume (qNParEGO, qEHVI) = (0.22, 0.12), time = 310.50.\n",
      "Batch 63: Hypervolume (qNParEGO, qEHVI) = (0.22, 0.12), time = 220.31.\n",
      "Batch 64: Hypervolume (qNParEGO, qEHVI) = (0.22, 0.12), time = 477.61.\n",
      "Batch 65: Hypervolume (qNParEGO, qEHVI) = (0.22, 0.12), time = 429.95.\n",
      "Batch 66: Hypervolume (qNParEGO, qEHVI) = (0.22, 0.12), time = 481.25.\n",
      "Batch 67: Hypervolume (qNParEGO, qEHVI) = (0.32, 0.12), time = 155.19.\n",
      "Batch 68: Hypervolume (qNParEGO, qEHVI) = (0.32, 0.12), time = 314.95.\n",
      "Batch 69: Hypervolume (qNParEGO, qEHVI) = (0.32, 0.12), time = 384.11.\n",
      "Batch 70: Hypervolume (qNParEGO, qEHVI) = (0.32, 0.20), time = 135.97.\n",
      "Batch 71: Hypervolume (qNParEGO, qEHVI) = (0.32, 0.20), time = 181.69.\n",
      "Batch 72: Hypervolume (qNParEGO, qEHVI) = (0.32, 0.20), time = 118.36.\n",
      "Batch 73: Hypervolume (qNParEGO, qEHVI) = (0.32, 0.20), time = 260.33.\n",
      "Batch 74: Hypervolume (qNParEGO, qEHVI) = (0.32, 0.20), time = 142.44.\n",
      "Batch 75: Hypervolume (qNParEGO, qEHVI) = (0.32, 0.20), time = 206.77.\n",
      "Batch 76: Hypervolume (qNParEGO, qEHVI) = (0.32, 0.20), time = 178.36.\n",
      "Batch 77: Hypervolume (qNParEGO, qEHVI) = (0.32, 0.20), time = 182.25.\n",
      "Batch 78: Hypervolume (qNParEGO, qEHVI) = (0.32, 0.20), time = 293.31.\n",
      "Batch 79: Hypervolume (qNParEGO, qEHVI) = (0.32, 0.20), time = 184.22.\n",
      "Batch 80: Hypervolume (qNParEGO, qEHVI) = (0.32, 0.20), time = 264.89.\n",
      "Batch 81: Hypervolume (qNParEGO, qEHVI) = (0.32, 0.20), time = 252.05.\n",
      "Batch 82: Hypervolume (qNParEGO, qEHVI) = (0.32, 0.20), time = 305.41.\n",
      "Batch 83: Hypervolume (qNParEGO, qEHVI) = (0.32, 0.20), time = 263.66.\n",
      "Batch 84: Hypervolume (qNParEGO, qEHVI) = (0.32, 0.20), time = 198.12.\n",
      "Batch 85: Hypervolume (qNParEGO, qEHVI) = (0.32, 0.20), time = 189.16.\n",
      "Batch 86: Hypervolume (qNParEGO, qEHVI) = (0.32, 0.20), time = 224.05.\n",
      "Batch 87: Hypervolume (qNParEGO, qEHVI) = (0.32, 0.20), time = 255.66.\n",
      "Batch 88: Hypervolume (qNParEGO, qEHVI) = (0.32, 0.20), time = 238.02.\n",
      "Batch 89: Hypervolume (qNParEGO, qEHVI) = (0.32, 0.20), time = 330.73.\n",
      "Batch 90: Hypervolume (qNParEGO, qEHVI) = (0.32, 0.20), time = 293.97.\n",
      "Batch 91: Hypervolume (qNParEGO, qEHVI) = (0.32, 0.20), time = 331.94.\n",
      "Batch 92: Hypervolume (qNParEGO, qEHVI) = (0.32, 0.20), time = 196.61.\n",
      "Batch 93: Hypervolume (qNParEGO, qEHVI) = (0.32, 0.20), time = 208.06.\n",
      "Batch 94: Hypervolume (qNParEGO, qEHVI) = (0.32, 0.20), time = 215.56.\n",
      "Batch 95: Hypervolume (qNParEGO, qEHVI) = (0.32, 0.20), time = 214.20.\n",
      "Batch 96: Hypervolume (qNParEGO, qEHVI) = (0.32, 0.20), time = 131.80.\n",
      "Batch 97: Hypervolume (qNParEGO, qEHVI) = (0.32, 0.20), time = 258.56.\n",
      "Batch 98: Hypervolume (qNParEGO, qEHVI) = (0.32, 0.20), time = 276.81.\n",
      "Batch 99: Hypervolume (qNParEGO, qEHVI) = (0.32, 0.20), time = 296.72.\n",
      "Batch 100: Hypervolume (qNParEGO, qEHVI) = (0.32, 0.20), time = 488.03."
     ]
    }
   ],
   "source": [
    "import time\n",
    "import warnings\n",
    "\n",
    "from botorch import fit_gpytorch_mll\n",
    "from botorch.exceptions import BadInitialCandidatesWarning\n",
    "from botorch.sampling.normal import SobolQMCNormalSampler\n",
    "from botorch.utils.multi_objective.box_decompositions.non_dominated import (\n",
    "    NondominatedPartitioning,\n",
    ")\n",
    "from botorch.utils.multi_objective.pareto import is_non_dominated\n",
    "\n",
    "\n",
    "warnings.filterwarnings(\"ignore\", category=BadInitialCandidatesWarning)\n",
    "warnings.filterwarnings(\"ignore\", category=RuntimeWarning)\n",
    "\n",
    "N_BATCH = 100 if not SMOKE_TEST else 4\n",
    "MC_SAMPLES = 64 if not SMOKE_TEST else 16\n",
    "\n",
    "verbose = True\n",
    "\n",
    "hvs_qparego, hvs_qehvi = [], []\n",
    "\n",
    "# call helper functions to generate initial training data and initialize model\n",
    "train_x_qparego, train_obj_qparego, train_obj_true_qparego = generate_initial_data()\n",
    "mll_qparego, model_qparego = initialize_model(train_x_qparego, train_obj_qparego)\n",
    "\n",
    "train_x_qehvi, train_obj_qehvi, train_obj_true_qehvi = (\n",
    "    train_x_qparego,\n",
    "    train_obj_qparego,\n",
    "    train_obj_true_qparego,\n",
    ")\n",
    "mll_qehvi, model_qehvi = initialize_model(train_x_qehvi, train_obj_qehvi)\n",
    "\n",
    "# compute hypervolume\n",
    "bd = NondominatedPartitioning(ref_point=problem.ref_point, Y=train_obj_true_qparego)\n",
    "volume = bd.compute_hypervolume().item()\n",
    "\n",
    "hvs_qparego.append(volume)\n",
    "hvs_qehvi.append(volume)\n",
    "\n",
    "# run N_BATCH rounds of BayesOpt after the initial random batch\n",
    "for iteration in range(1, N_BATCH + 1):\n",
    "\n",
    "    t0 = time.monotonic()\n",
    "\n",
    "    # fit the models\n",
    "    fit_gpytorch_mll(mll_qparego)\n",
    "    fit_gpytorch_mll(mll_qehvi)\n",
    "\n",
    "    # define the qEI and qNEI acquisition modules using a QMC sampler\n",
    "    qparego_sampler = SobolQMCNormalSampler(sample_shape=torch.Size([MC_SAMPLES]))\n",
    "    qehvi_sampler = SobolQMCNormalSampler(sample_shape=torch.Size([MC_SAMPLES]))\n",
    "\n",
    "    # optimize acquisition functions and get new observations\n",
    "    (\n",
    "        new_x_qparego,\n",
    "        new_obj_qparego,\n",
    "        new_obj_true_qparego,\n",
    "    ) = optimize_qnparego_and_get_observation(\n",
    "        model_qparego, train_x_qparego, train_obj_qparego, qparego_sampler\n",
    "    )\n",
    "    new_x_qehvi, new_obj_qehvi, new_obj_true_qehvi = optimize_qehvi_and_get_observation(\n",
    "        model_qehvi, train_x_qehvi, train_obj_qehvi, qehvi_sampler\n",
    "    )\n",
    "\n",
    "    # update training points\n",
    "    train_x_qparego = torch.cat([train_x_qparego, new_x_qparego])\n",
    "    train_obj_qparego = torch.cat([train_obj_qparego, new_obj_qparego])\n",
    "    train_obj_true_qparego = torch.cat([train_obj_true_qparego, new_obj_true_qparego])\n",
    "\n",
    "    train_x_qehvi = torch.cat([train_x_qehvi, new_x_qehvi])\n",
    "    train_obj_qehvi = torch.cat([train_obj_qehvi, new_obj_qehvi])\n",
    "    train_obj_true_qehvi = torch.cat([train_obj_true_qehvi, new_obj_true_qehvi])\n",
    "\n",
    "\n",
    "    # update progress\n",
    "    for hvs_list, train_obj in zip(\n",
    "        (hvs_qparego, hvs_qehvi),\n",
    "        (\n",
    "            train_obj_true_qparego,\n",
    "            train_obj_true_qehvi,\n",
    "        ),\n",
    "    ):\n",
    "        # compute hypervolume\n",
    "        bd = NondominatedPartitioning(ref_point=problem.ref_point, Y=train_obj)\n",
    "        volume = bd.compute_hypervolume().item()\n",
    "        hvs_list.append(volume)\n",
    "\n",
    "    # reinitialize the models so they are ready for fitting on next iteration\n",
    "    # Note: we find improved performance from not warm starting the model hyperparameters\n",
    "    # using the hyperparameters from the previous iteration\n",
    "    mll_qparego, model_qparego = initialize_model(train_x_qparego, train_obj_qparego)\n",
    "    mll_qehvi, model_qehvi = initialize_model(train_x_qehvi, train_obj_qehvi)\n",
    "\n",
    "    t1 = time.monotonic()\n",
    "\n",
    "    torch.cuda.empty_cache()\n",
    "    gc.collect()\n",
    "\n",
    "    if verbose:\n",
    "        print(\n",
    "            f\"\\nBatch {iteration:>2}: Hypervolume (qNParEGO, qEHVI) = \"\n",
    "            f\"({hvs_qparego[-1]:>4.2f}, {hvs_qehvi[-1]:>4.2f}), \"\n",
    "            f\"time = {t1-t0:>4.2f}.\",\n",
    "            end=\"\",\n",
    "        )\n",
    "    else:\n",
    "        print(\".\", end=\"\")"
   ]
  },
  {
   "cell_type": "markdown",
   "metadata": {
    "id": "v70wonHIBdhu",
    "originalKey": "72232578-0908-4292-aca4-d52197890dd6",
    "showInput": false
   },
   "source": [
    "#### Plot the results\n",
    "The plot below shows the a common metric of multi-objective optimization performance, the log hypervolume difference: the log difference between the hypervolume of the true pareto front and the hypervolume of the approximate pareto front identified by each algorithm. The log hypervolume difference is plotted at each step of the optimization for each of the algorithms.\n",
    "\n",
    "The plot shows that $q$NEHVI outperforms $q$EHVI and $q$ParEGO."
   ]
  },
  {
   "cell_type": "code",
   "execution_count": 19,
   "metadata": {
    "colab": {
     "base_uri": "https://localhost:8080/",
     "height": 560
    },
    "collapsed": false,
    "customOutput": null,
    "executionInfo": {
     "elapsed": 532,
     "status": "ok",
     "timestamp": 1747812173250,
     "user": {
      "displayName": "Deepak L",
      "userId": "17343563887203968144"
     },
     "user_tz": -330
    },
    "executionStartTime": 1668649857076,
    "executionStopTime": 1668649858100,
    "id": "FyLWlXS5Bdhu",
    "jupyter": {
     "outputs_hidden": false
    },
    "originalKey": "c9560130-5c74-4b2b-b24a-fd7618ee7822",
    "outputId": "aa188452-db3c-48b0-85bb-ab0d733679d1",
    "requestMsgId": "d6978d53-90e4-476b-bb1d-75010f65dcd6",
    "scrolled": true
   },
   "outputs": [
    {
     "data": {
      "text/plain": [
       "<matplotlib.legend.Legend at 0x13b481571a0>"
      ]
     },
     "execution_count": 19,
     "metadata": {},
     "output_type": "execute_result"
    },
    {
     "data": {
      "image/png": "[encoded data removed]",
      "text/plain": [
       "<Figure size 800x600 with 1 Axes>"
      ]
     },
     "metadata": {},
     "output_type": "display_data"
    }
   ],
   "source": [
    "import numpy as np\n",
    "from matplotlib import pyplot as plt\n",
    "\n",
    "%matplotlib inline\n",
    "\n",
    "\n",
    "iters = np.arange(N_BATCH + 1) * BATCH_SIZE\n",
    "log_hv_difference_qparego = np.log10(problem.max_hv - np.asarray(hvs_qparego))\n",
    "log_hv_difference_qehvi = np.log10(problem.max_hv - np.asarray(hvs_qehvi))\n",
    "\n",
    "fig, ax = plt.subplots(1, 1, figsize=(8, 6))\n",
    "ax.errorbar(\n",
    "    iters,\n",
    "    log_hv_difference_qparego,\n",
    "    label=\"qNParEGO\",\n",
    "    linewidth=1.5,\n",
    ")\n",
    "ax.errorbar(\n",
    "    iters,\n",
    "    log_hv_difference_qehvi,\n",
    "    label=\"qEHVI\",\n",
    "    linewidth=1.5,\n",
    ")\n",
    "ax.set(\n",
    "    xlabel=\"number of observations (beyond initial points)\",\n",
    "    ylabel=\"Log Hypervolume Difference\",\n",
    ")\n",
    "ax.legend(loc=\"lower left\")"
   ]
  },
  {
   "cell_type": "markdown",
   "metadata": {
    "collapsed": true,
    "id": "zCutcS6HBdhv",
    "jupyter": {
     "outputs_hidden": true
    },
    "originalKey": "824c329c-6c02-4f67-bce0-a4c57ea655d8",
    "showInput": false
   },
   "source": [
    "#### Plot the true objectives at the evaluated designs colored by iteration\n",
    "\n",
    "To examine optimization process from another perspective, we plot the true function values at the designs selected under each algorithm where the color corresponds to the BO iteration at which the point was collected. The plot on the right for $q$NEHVI shows that the $q$NEHVI quickly identifies the pareto front and most of its evaluations are very close to the pareto front. $q$NParEGO also identifies has many observations close to the pareto front, but relies on optimizing random scalarizations, which is a less principled way of optimizing the pareto front compared to $q$NEHVI, which explicitly attempts focuses on improving the pareto front. $q$EHVI uses the posterior mean as a plug-in estimator for the true function values at the in-sample points, whereas $q$NEHVI than integrating over the uncertainty at the in-sample designs Sobol generates random points and has few points close to the Pareto front."
   ]
  },
  {
   "cell_type": "code",
   "execution_count": 20,
   "metadata": {
    "collapsed": false,
    "customOutput": null,
    "executionStartTime": 1668649858641,
    "executionStopTime": 1668649859522,
    "id": "uWk2NqHCBdhv",
    "jupyter": {
     "outputs_hidden": false
    },
    "originalKey": "cf610a77-3e82-4c30-ac7b-f7a97fa91fa5",
    "requestMsgId": "afb07e9c-ebaf-4a8e-90e3-ca426532de20",
    "scrolled": true
   },
   "outputs": [],
   "source": [
    "# import plotly.graph_objects as go\n",
    "# from plotly.subplots import make_subplots\n",
    "# import numpy as np\n",
    "\n",
    "# # Generate Pareto front\n",
    "# pareto_front = -problem.gen_pareto_front(n=1000).cpu().numpy()\n",
    "\n",
    "# batch_number = torch.cat(\n",
    "#     [\n",
    "#         torch.zeros(11 * problem.dim - 1),\n",
    "#         torch.arange(1, N_BATCH + 1).repeat(BATCH_SIZE, 1).t().reshape(-1),\n",
    "#     ]\n",
    "# ).numpy()\n",
    "\n",
    "# # Create subplots\n",
    "# fig = make_subplots(rows=1, cols=2,\n",
    "#                     specs=[[{'type': 'scatter3d'}, {'type': 'scatter3d'}]],\n",
    "#                     subplot_titles=(\"qNParEGO\", \"qEHVI\"))\n",
    "\n",
    "# # Create color scale\n",
    "# colorscale = plt.get_cmap(\"viridis\")(np.linspace(0, 1, N_BATCH+1))\n",
    "# colorscale = [[i/(len(colorscale)-1), f\"rgb({r*255},{g*255},{b*255})\"]\n",
    "#               for i, (r,g,b,a) in enumerate(colorscale)]\n",
    "\n",
    "# alg_data = [\n",
    "#     (-train_obj_true_qparego, \"qNParEGO\"),\n",
    "#     (-train_obj_true_qehvi, \"qEHVI\"),\n",
    "# ]\n",
    "\n",
    "# for col, (train_obj, name) in enumerate(alg_data, 1):\n",
    "#     # Convert to numpy\n",
    "#     obj_np = train_obj.cpu().numpy()\n",
    "\n",
    "#     # Create 3D scatter plot\n",
    "#     scatter = go.Scatter3d(\n",
    "#         x=obj_np[:, 0],\n",
    "#         y=obj_np[:, 1],\n",
    "#         z=obj_np[:, 2],\n",
    "#         mode='markers',\n",
    "#         marker=dict(\n",
    "#             size=4,\n",
    "#             color=batch_number,\n",
    "#             colorscale=colorscale,\n",
    "#             opacity=0.8,\n",
    "#             colorbar=dict(title='Iteration') if col == 3 else None\n",
    "#         ),\n",
    "#         name=name,\n",
    "#         hovertemplate=\"<b>Obj1</b>: %{x:.2f}<br><b>Obj2</b>: %{y:.2f}<br><b>Obj3</b>: %{z:.2f}<extra></extra>\"\n",
    "#     )\n",
    "\n",
    "#     # Add Pareto front\n",
    "#     pf_trace = go.Scatter3d(\n",
    "#         x=pareto_front[:, 0],\n",
    "#         y=pareto_front[:, 1],\n",
    "#         z=pareto_front[:, 2],\n",
    "#         mode='markers',\n",
    "#         marker=dict(size=2, color='red', opacity=0.5),\n",
    "#         name='Pareto Front'\n",
    "#     )\n",
    "\n",
    "#     fig.add_trace(scatter, row=1, col=col)\n",
    "#     fig.add_trace(pf_trace, row=1, col=col)\n",
    "\n",
    "# # Update layout\n",
    "# fig.update_layout(\n",
    "#     height=600,\n",
    "#     width=1200,\n",
    "#     scene1=dict(\n",
    "#         xaxis_title='Objective 1',\n",
    "#         yaxis_title='Objective 2',\n",
    "#         zaxis_title='Objective 3',\n",
    "#         camera=dict(eye=dict(x=1.5, y=1.5, z=0.6))\n",
    "#     ),\n",
    "#     scene2=dict(\n",
    "#         xaxis_title='Objective 1',\n",
    "#         yaxis_title='Objective 2',\n",
    "#         zaxis_title='Objective 3',\n",
    "#         camera=dict(eye=dict(x=1.5, y=1.5, z=0.6))\n",
    "#     ),\n",
    "#     showlegend=False\n",
    "# )\n",
    "\n",
    "# fig.show()\n"
   ]
  },
  {
   "cell_type": "code",
   "execution_count": 21,
   "metadata": {
    "id": "mYt1v6F7Cj6F"
   },
   "outputs": [],
   "source": [
    "# import plotly.graph_objects as go\n",
    "# from plotly.subplots import make_subplots\n",
    "# import numpy as np\n",
    "\n",
    "# # Assuming problem, train_obj_true_qparego, train_obj_true_qehvi, N_BATCH, BATCH_SIZE are defined\n",
    "\n",
    "# # Generate Pareto front\n",
    "# pareto_front = -problem.gen_pareto_front(n=1000).cpu().numpy()\n",
    "\n",
    "# # Number of initial training points\n",
    "# n_initial = 11 * problem.dim - 1\n",
    "\n",
    "# batch_number = torch.cat([\n",
    "#     torch.zeros(n_initial),\n",
    "#     torch.arange(1, N_BATCH + 1).repeat(BATCH_SIZE, 1).t().reshape(-1),\n",
    "# ]).numpy()\n",
    "\n",
    "# # 1. Plot showing just initial training points\n",
    "# fig_initial = make_subplots(rows=1, cols=2,\n",
    "#                     specs=[[{'type': 'scatter3d'}, {'type': 'scatter3d'}]],\n",
    "#                     subplot_titles=(\"qNParEGO\", \"qEHVI\"))\n",
    "\n",
    "# alg_data_initial = [\n",
    "#     (-train_obj_true_qparego[:n_initial], \"qNParEGO\"),\n",
    "#     (-train_obj_true_qehvi[:n_initial], \"qEHVI\"),\n",
    "# ]\n",
    "\n",
    "# for col, (train_obj, name) in enumerate(alg_data_initial, 1):\n",
    "#     # Convert to numpy if needed\n",
    "#     obj_np = train_obj.cpu().numpy() if isinstance(train_obj, torch.Tensor) else train_obj\n",
    "\n",
    "#     # Create 3D scatter plot for initial points\n",
    "#     scatter = go.Scatter3d(\n",
    "#         x=obj_np[:, 0],\n",
    "#         y=obj_np[:, 1],\n",
    "#         z=obj_np[:, 2],\n",
    "#         mode='markers',\n",
    "#         marker=dict(\n",
    "#             size=4,\n",
    "#             color='deepskyblue',\n",
    "#             opacity=0.8\n",
    "#         ),\n",
    "#         name=name\n",
    "#     )\n",
    "\n",
    "#     # Add Pareto front\n",
    "#     pf_trace = go.Scatter3d(\n",
    "#         x=pareto_front[:, 0],\n",
    "#         y=pareto_front[:, 1],\n",
    "#         z=pareto_front[:, 2],\n",
    "#         mode='markers',\n",
    "#         marker=dict(size=2, color='red', opacity=0.5),\n",
    "#         name='Pareto Front'\n",
    "#     )\n",
    "\n",
    "#     fig_initial.add_trace(scatter, row=1, col=col)\n",
    "#     fig_initial.add_trace(pf_trace, row=1, col=col)\n",
    "\n",
    "# # Update layout\n",
    "# fig_initial.update_layout(\n",
    "#     height=600,\n",
    "#     width=1200,\n",
    "#     scene1=dict(\n",
    "#         xaxis_title='Objective 1',\n",
    "#         yaxis_title='Objective 2',\n",
    "#         zaxis_title='Objective 3'\n",
    "#     ),\n",
    "#     scene2=dict(\n",
    "#         xaxis_title='Objective 1',\n",
    "#         yaxis_title='Objective 2',\n",
    "#         zaxis_title='Objective 3'\n",
    "#     ),\n",
    "#     showlegend=False,\n",
    "#     title_text='Initial Training Points'\n",
    "# )\n",
    "\n",
    "# fig_initial.show()\n",
    "\n"
   ]
  },
  {
   "cell_type": "code",
   "execution_count": 22,
   "metadata": {
    "id": "4jTFJO4-Lg6S"
   },
   "outputs": [],
   "source": [
    "# # 2. Plot batches of 50 points after initial points\n",
    "# batch_size = 50\n",
    "\n",
    "# # Get total number of points\n",
    "# n_points = min(len(train_obj_true_qparego), len(train_obj_true_qehvi))\n",
    "\n",
    "# # Calculate number of points after initial\n",
    "# n_remaining = n_points - n_initial\n",
    "\n",
    "# # Calculate number of plots needed\n",
    "# n_plots = (n_remaining + batch_size - 1) // batch_size\n",
    "\n",
    "# for plot_idx in range(n_plots):\n",
    "#     fig = make_subplots(rows=1, cols=2,\n",
    "#                     specs=[[{'type': 'scatter3d'}, {'type': 'scatter3d'}]],\n",
    "#                     subplot_titles=(\"qNParEGO\", \"qEHVI\"))\n",
    "\n",
    "#     # Define range for this batch of points\n",
    "#     start_idx = n_initial\n",
    "#     end_idx = min(n_initial + (plot_idx + 1) * batch_size, n_points)\n",
    "\n",
    "#     alg_data = [\n",
    "#         (-train_obj_true_qparego[start_idx:end_idx], \"qNParEGO\"),\n",
    "#         (-train_obj_true_qehvi[start_idx:end_idx], \"qEHVI\"),\n",
    "#     ]\n",
    "\n",
    "#     for col, (train_obj, name) in enumerate(alg_data, 1):\n",
    "#         # Convert to numpy if needed\n",
    "#         obj_np = train_obj.cpu().numpy() if isinstance(train_obj, torch.Tensor) else train_obj\n",
    "\n",
    "#         # Create 3D scatter plot\n",
    "#         scatter = go.Scatter3d(\n",
    "#             x=obj_np[:, 0],\n",
    "#             y=obj_np[:, 1],\n",
    "#             z=obj_np[:, 2],\n",
    "#             mode='markers',\n",
    "#             marker=dict(\n",
    "#                 size=4,\n",
    "#                 color=batch_number[start_idx:end_idx],\n",
    "#                 colorscale='Viridis',\n",
    "#                 opacity=0.8,\n",
    "#                 colorbar=dict(title='Iteration') if col == 2 else None\n",
    "#             ),\n",
    "#             name=name\n",
    "#         )\n",
    "\n",
    "#         # Add Pareto front\n",
    "#         pf_trace = go.Scatter3d(\n",
    "#             x=pareto_front[:, 0],\n",
    "#             y=pareto_front[:, 1],\n",
    "#             z=pareto_front[:, 2],\n",
    "#             mode='markers',\n",
    "#             marker=dict(size=2, color='red', opacity=0.5),\n",
    "#             name='Pareto Front'\n",
    "#         )\n",
    "\n",
    "#         fig.add_trace(scatter, row=1, col=col)\n",
    "#         fig.add_trace(pf_trace, row=1, col=col)\n",
    "\n",
    "#     # Update layout\n",
    "#     fig.update_layout(\n",
    "#         height=600,\n",
    "#         width=1200,\n",
    "#         scene1=dict(\n",
    "#             xaxis_title='Objective 1',\n",
    "#             yaxis_title='Objective 2',\n",
    "#             zaxis_title='Objective 3'\n",
    "#         ),\n",
    "#         scene2=dict(\n",
    "#             xaxis_title='Objective 1',\n",
    "#             yaxis_title='Objective 2',\n",
    "#             zaxis_title='Objective 3'\n",
    "#         ),\n",
    "#         showlegend=False,\n",
    "#         title_text=f'Cumulative: First {end_idx - start_idx} Points After Initial'\n",
    "#     )\n",
    "\n",
    "#     fig.show()\n"
   ]
  },
  {
   "cell_type": "code",
   "execution_count": 23,
   "metadata": {
    "id": "mg_wnvuzQvVN"
   },
   "outputs": [],
   "source": [
    "import plotly.graph_objects as go\n",
    "import plotly.io as pio\n",
    "from plotly.subplots import make_subplots\n",
    "import numpy as np\n",
    "\n",
    "def create_pareto_surface(problem, n=1000):\n",
    "    # Generate Pareto front using the problem's built-in method\n",
    "    pareto_front = -problem.gen_pareto_front(n).cpu().numpy()\n",
    "\n",
    "    if problem.num_objectives == 3:\n",
    "        # Create Mesh3d trace for 3D problems\n",
    "        return go.Mesh3d(\n",
    "            x=pareto_front[:, 0],\n",
    "            y=pareto_front[:, 1],\n",
    "            z=pareto_front[:, 2],\n",
    "            color='red',\n",
    "            opacity=0.3,\n",
    "            intensity=pareto_front[:, 2],\n",
    "            colorscale='Reds',\n",
    "            showscale=False,\n",
    "            name='Pareto Front'\n",
    "        )\n",
    "    else:\n",
    "        raise ValueError(\"Only 3D visualization is supported in this implementation\")\n",
    "\n"
   ]
  },
  {
   "cell_type": "code",
   "execution_count": 24,
   "metadata": {
    "colab": {
     "base_uri": "https://localhost:8080/",
     "height": 617
    },
    "executionInfo": {
     "elapsed": 369,
     "status": "ok",
     "timestamp": 1747812573929,
     "user": {
      "displayName": "Deepak L",
      "userId": "17343563887203968144"
     },
     "user_tz": -330
    },
    "id": "3nhpwmwhSHVO",
    "outputId": "44531e32-f7a4-4b63-9146-78f006cad3f7"
   },
   "outputs": [
    {
     "data": {
      "application/vnd.plotly.v1+json": {
       "config": {
        "plotlyServerURL": "https://plot.ly"
       },
       "data": [
        {
         "marker": {
          "color": "deepskyblue",
          "opacity": 0.8,
          "size": 4
         },
         "mode": "markers",
         "name": "qNParEGO",
         "scene": "scene",
         "type": "scatter3d",
         "x": {
          "bdata": "FO1pgy4u9z8/wuGgA6j0PyptXLyqm/s/nqoi7DHJ9j/zq/FGiWP3PyjbI80tePo/i+ZM1XcS9z+GT7zVL2H1P6xEdmDEIZI/6h4XLmGc9z/wgvDqk330P8NrHHs1ifg/YD02noNW/D/jGHsNxKHzP3o3Zp0Bsvs/Jqukvnpr9z8OS73VY1v5P/qD3OGHOfc/vuAPNnOn+j+Q1L1PSs78PxfzUWZKFPw/3teM5HQJ9T9R2J/e7Yr2PxKv9GUhe/M/VLZil+4J+D+pU+PG3UX1PwdTwsVtavk/9mhb5slJ8z97zBhglU33P2J9sjDqNPk/43ZKgOvZ+j/wGnyjAZP6P3/vfTIW0vs/IAJQ35RE/T8oS8ywHVT0P25Wc0rKWvU/Vuxr2/NF+D/jAC80mZr4P16Iw1vd1fM/gaZR9b1M+j87IND0T7fyP/w0So82r/k/f6WV/RpY+j+AGMv71iv8Pzcl8diVl/U/EvMw6dIL+D9yrN+tUM35P6zms9Sylfg/nC0xugId9T+yr+oMdcj5P1DSOzNCm/k/jw/DahfB9z9fBcFvW2bzP6ATRPCn4PU/GsmZYgSS+T/p7DEmivv8P2tjF/Lqq/g/OVWlKeeR+D/GNk8PiKP0P2bdWDCmo/Y/vkb9M6a3+T8yp4r57M/6P3NBkxy75fE/AX9GJQjY9z+E2cRZ6kz1P+XihUtpFPc//ANpjsHd9j9QNeizbxP3P9RMYpTCmvo/Tv2VLfVc+j9eN+x2Jpb6P2mDx6vVAu0/uAyrWnS0/j9UEXrCHWT3P7L5bnLPyfg/RyLungsK9z+UNyD/aBX2P/vBNbrFmfM/CltF+Rm+9z/0O5t/bDr3P88hHYfGB/s/mhzmtkWo8z+Ue4q3x+r5P5xS4TK8xvY/+IuMQZXV+T/BwgRqxOz2PyU4VPmsgPc/",
          "dtype": "f8"
         },
         "y": {
          "bdata": "uMzI61F92jpfJJgx3TOyJgX8n2G20/4+g5bfWN95cjlvmRjT6jBmPj8DyP9xcNA0K0b/bfVm8DsPBqPIHF4TM3SXdJFPZ/Y/78mbtCTlKzd0rbk7kAiBOqBos0o1ymYpd0nwe1mNHT3baBQm5lfzLmPipI7LfAs+yoF5a+aEyzVGR7f/gV+lPV0Xa/JLHbM2nocPX67OpDzE/ro7D3zuMGR0GyuCpPI5Q/jGBk2jhyxskwnrpLqrP4dk0iE8q/w3qwZonmElaDw3XAdTu6+wMefAidfES8o+pJ99QnbQkTM7EEP+eS5RP0Z4Vgzbj8w4Mruuomavbjuz9drBWM5yHpz+vxW/0+s+G8xswI94mDnLqJr6ih8yOyWbEcjJqHAiCHxWLeOrATwQ4W5TuRbnMrC/wC//WCk+wArD5gzGazWzWHdQbsyrOl3x7badjRcoK9aE71sTxj/hmo2SbFTNN5BbuywGuew9Hg+FmJbLBzYrOLKPDkRmPfSZ/Bcc0mItcy1mRqZg9jzxXrhmkZWILxb7XSaOTYQ9KgyaV79G+DY+gdfqT4RtP3xsc8yjpYI4E/bTN98YFjpEKbZYI7/ZK9svfQJWDY0+zJ5HdNrOXDQ9KpRHWNp8PKv4b2/DNGAxjXJDtqkLuTvzxxtwyMaQDSFjW5NHVT8/t/1fglGc4jgDEQaheOhHPkwVwXFYBRo1rEfv/xwnKzx7SRYmpbVqMnrLu4DrnyY7fdLBrZi4cCNSQGY0OQfkPmcks+mRMJQ5PaRfBehuSj01xEmNcOwVLlrnFOLxQMw9TETvfaVDWjaBs3mOav3MP01CzyNLoKs3gUYMZfewuzpsIwzrDCbCJ0W1BBmZqU06fedd2T+6uSoD2q7KS16NPwgGtWMHUUw4ZvOXsqxwfT1ZYXLQZhoHN4NAhzsFGes8",
          "dtype": "f8"
         },
         "z": {
          "bdata": "1retcxPh4D27PudtJSsPKavWGSdyQ/s3s+vbxpB2+TwyYm4pCpdLOjuw5T2ONJQ2sqXx4sOfnC63osFw7G3UPzNMASlwpt4+z6b5VF8BdjPyrk2KI0D1M+LXlkUcsaA7S8dnPfLTdTz20rzaSDy7OFzDrWGdxjUmbavSRyV4KT7bygo7fZywPjxRaRZe4aUX0L6rbPL4ojkmwxy4tejLO6rlhQo9meg6ZsHE5l5CajWCwywKE/KbMS+up3qaNlQ/pChGMwiAsz/9YlHVbIeQL1JlgRicICU2UczSFncDhzr70EY/seQnPdnOxiFXb5c3RDrKdbRm1Sq1PSKcUM24PS5j5JkaRoQ9+AM5KsTnPi1ysqpnoR1yN1hnCPinU0U9d7ORNRSmkzqDB8j5UOXCNdR6CpOR27EwBg/ta6JKeD9uyWyD6BoyP6q5a7gR97cxcluj3brwpzT99AMsCVk+O0lbn3reZzA8Jm6PpgCnTjmpwvPZk4gkHVU6tI9Qf58+PpqpqnPZbz5/j+Z9xlgBIm7Aiw4wLAU5LJfrc/JxajyH8Me0elx2O9EYWLsM8ys0SafBbqDxUzIcbobHpG8RP6keD4QlyeU/S3OAlrMt+C3pBwar8icBNy6w8/EYmMg58E0rcssitTyPTDgz1tyDOLHdufIRUNcoYfqLHVcCCT79OZE/004YPoMNaQG0c7MniiN+WTMRXjjGIhXma13RPGLx2MtJUfI5HfnQtvtz1zbaq68LC81kLdk5BUTMlPA/i2el5oVuBj8vfC5rX+PEMs78OOwE4VI00u3gWpBxTzs4syd5URhFPEoqi/IGuxk5H8i5/E92OyQ9TIZEKPphPhco5+7+aJA+ritRcaVlZyBaA1cWmLJtOWOaN9NyNxA8dL7o4EnLGjs4mAihpBrgNE6fM9pBcRAy",
          "dtype": "f8"
         }
        },
        {
         "color": "red",
         "colorscale": [
          [
           0,
           "rgb(255,245,240)"
          ],
          [
           0.125,
           "rgb(254,224,210)"
          ],
          [
           0.25,
           "rgb(252,187,161)"
          ],
          [
           0.375,
           "rgb(252,146,114)"
          ],
          [
           0.5,
           "rgb(251,106,74)"
          ],
          [
           0.625,
           "rgb(239,59,44)"
          ],
          [
           0.75,
           "rgb(203,24,29)"
          ],
          [
           0.875,
           "rgb(165,15,21)"
          ],
          [
           1,
           "rgb(103,0,13)"
          ]
         ],
         "intensity": {
          "bdata": "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",
          "dtype": "f8"
         },
         "name": "Pareto Front",
         "opacity": 0.3,
         "scene": "scene",
         "showscale": false,
         "type": "mesh3d",
         "x": {
          "bdata": "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",
          "dtype": "f8"
         },
         "y": {
          "bdata": "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",
          "dtype": "f8"
         },
         "z": {
          "bdata": "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",
          "dtype": "f8"
         }
        },
        {
         "marker": {
          "color": "deepskyblue",
          "opacity": 0.8,
          "size": 4
         },
         "mode": "markers",
         "name": "qEHVI",
         "scene": "scene2",
         "type": "scatter3d",
         "x": {
          "bdata": "FO1pgy4u9z8/wuGgA6j0PyptXLyqm/s/nqoi7DHJ9j/zq/FGiWP3PyjbI80tePo/i+ZM1XcS9z+GT7zVL2H1P6xEdmDEIZI/6h4XLmGc9z/wgvDqk330P8NrHHs1ifg/YD02noNW/D/jGHsNxKHzP3o3Zp0Bsvs/Jqukvnpr9z8OS73VY1v5P/qD3OGHOfc/vuAPNnOn+j+Q1L1PSs78PxfzUWZKFPw/3teM5HQJ9T9R2J/e7Yr2PxKv9GUhe/M/VLZil+4J+D+pU+PG3UX1PwdTwsVtavk/9mhb5slJ8z97zBhglU33P2J9sjDqNPk/43ZKgOvZ+j/wGnyjAZP6P3/vfTIW0vs/IAJQ35RE/T8oS8ywHVT0P25Wc0rKWvU/Vuxr2/NF+D/jAC80mZr4P16Iw1vd1fM/gaZR9b1M+j87IND0T7fyP/w0So82r/k/f6WV/RpY+j+AGMv71iv8Pzcl8diVl/U/EvMw6dIL+D9yrN+tUM35P6zms9Sylfg/nC0xugId9T+yr+oMdcj5P1DSOzNCm/k/jw/DahfB9z9fBcFvW2bzP6ATRPCn4PU/GsmZYgSS+T/p7DEmivv8P2tjF/Lqq/g/OVWlKeeR+D/GNk8PiKP0P2bdWDCmo/Y/vkb9M6a3+T8yp4r57M/6P3NBkxy75fE/AX9GJQjY9z+E2cRZ6kz1P+XihUtpFPc//ANpjsHd9j9QNeizbxP3P9RMYpTCmvo/Tv2VLfVc+j9eN+x2Jpb6P2mDx6vVAu0/uAyrWnS0/j9UEXrCHWT3P7L5bnLPyfg/RyLungsK9z+UNyD/aBX2P/vBNbrFmfM/CltF+Rm+9z/0O5t/bDr3P88hHYfGB/s/mhzmtkWo8z+Ue4q3x+r5P5xS4TK8xvY/+IuMQZXV+T/BwgRqxOz2PyU4VPmsgPc/",
          "dtype": "f8"
         },
         "y": {
          "bdata": "uMzI61F92jpfJJgx3TOyJgX8n2G20/4+g5bfWN95cjlvmRjT6jBmPj8DyP9xcNA0K0b/bfVm8DsPBqPIHF4TM3SXdJFPZ/Y/78mbtCTlKzd0rbk7kAiBOqBos0o1ymYpd0nwe1mNHT3baBQm5lfzLmPipI7LfAs+yoF5a+aEyzVGR7f/gV+lPV0Xa/JLHbM2nocPX67OpDzE/ro7D3zuMGR0GyuCpPI5Q/jGBk2jhyxskwnrpLqrP4dk0iE8q/w3qwZonmElaDw3XAdTu6+wMefAidfES8o+pJ99QnbQkTM7EEP+eS5RP0Z4Vgzbj8w4Mruuomavbjuz9drBWM5yHpz+vxW/0+s+G8xswI94mDnLqJr6ih8yOyWbEcjJqHAiCHxWLeOrATwQ4W5TuRbnMrC/wC//WCk+wArD5gzGazWzWHdQbsyrOl3x7badjRcoK9aE71sTxj/hmo2SbFTNN5BbuywGuew9Hg+FmJbLBzYrOLKPDkRmPfSZ/Bcc0mItcy1mRqZg9jzxXrhmkZWILxb7XSaOTYQ9KgyaV79G+DY+gdfqT4RtP3xsc8yjpYI4E/bTN98YFjpEKbZYI7/ZK9svfQJWDY0+zJ5HdNrOXDQ9KpRHWNp8PKv4b2/DNGAxjXJDtqkLuTvzxxtwyMaQDSFjW5NHVT8/t/1fglGc4jgDEQaheOhHPkwVwXFYBRo1rEfv/xwnKzx7SRYmpbVqMnrLu4DrnyY7fdLBrZi4cCNSQGY0OQfkPmcks+mRMJQ5PaRfBehuSj01xEmNcOwVLlrnFOLxQMw9TETvfaVDWjaBs3mOav3MP01CzyNLoKs3gUYMZfewuzpsIwzrDCbCJ0W1BBmZqU06fedd2T+6uSoD2q7KS16NPwgGtWMHUUw4ZvOXsqxwfT1ZYXLQZhoHN4NAhzsFGes8",
          "dtype": "f8"
         },
         "z": {
          "bdata": "1retcxPh4D27PudtJSsPKavWGSdyQ/s3s+vbxpB2+TwyYm4pCpdLOjuw5T2ONJQ2sqXx4sOfnC63osFw7G3UPzNMASlwpt4+z6b5VF8BdjPyrk2KI0D1M+LXlkUcsaA7S8dnPfLTdTz20rzaSDy7OFzDrWGdxjUmbavSRyV4KT7bygo7fZywPjxRaRZe4aUX0L6rbPL4ojkmwxy4tejLO6rlhQo9meg6ZsHE5l5CajWCwywKE/KbMS+up3qaNlQ/pChGMwiAsz/9YlHVbIeQL1JlgRicICU2UczSFncDhzr70EY/seQnPdnOxiFXb5c3RDrKdbRm1Sq1PSKcUM24PS5j5JkaRoQ9+AM5KsTnPi1ysqpnoR1yN1hnCPinU0U9d7ORNRSmkzqDB8j5UOXCNdR6CpOR27EwBg/ta6JKeD9uyWyD6BoyP6q5a7gR97cxcluj3brwpzT99AMsCVk+O0lbn3reZzA8Jm6PpgCnTjmpwvPZk4gkHVU6tI9Qf58+PpqpqnPZbz5/j+Z9xlgBIm7Aiw4wLAU5LJfrc/JxajyH8Me0elx2O9EYWLsM8ys0SafBbqDxUzIcbobHpG8RP6keD4QlyeU/S3OAlrMt+C3pBwar8icBNy6w8/EYmMg58E0rcssitTyPTDgz1tyDOLHdufIRUNcoYfqLHVcCCT79OZE/004YPoMNaQG0c7MniiN+WTMRXjjGIhXma13RPGLx2MtJUfI5HfnQtvtz1zbaq68LC81kLdk5BUTMlPA/i2el5oVuBj8vfC5rX+PEMs78OOwE4VI00u3gWpBxTzs4syd5URhFPEoqi/IGuxk5H8i5/E92OyQ9TIZEKPphPhco5+7+aJA+ritRcaVlZyBaA1cWmLJtOWOaN9NyNxA8dL7o4EnLGjs4mAihpBrgNE6fM9pBcRAy",
          "dtype": "f8"
         }
        },
        {
         "color": "red",
         "colorscale": [
          [
           0,
           "rgb(255,245,240)"
          ],
          [
           0.125,
           "rgb(254,224,210)"
          ],
          [
           0.25,
           "rgb(252,187,161)"
          ],
          [
           0.375,
           "rgb(252,146,114)"
          ],
          [
           0.5,
           "rgb(251,106,74)"
          ],
          [
           0.625,
           "rgb(239,59,44)"
          ],
          [
           0.75,
           "rgb(203,24,29)"
          ],
          [
           0.875,
           "rgb(165,15,21)"
          ],
          [
           1,
           "rgb(103,0,13)"
          ]
         ],
         "intensity": {
          "bdata": "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",
          "dtype": "f8"
         },
         "name": "Pareto Front",
         "opacity": 0.3,
         "scene": "scene2",
         "showscale": false,
         "type": "mesh3d",
         "x": {
          "bdata": "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",
          "dtype": "f8"
         },
         "y": {
          "bdata": "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",
          "dtype": "f8"
         },
         "z": {
          "bdata": "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",
          "dtype": "f8"
         }
        }
       ],
       "layout": {
        "annotations": [
         {
          "font": {
           "size": 16
          },
          "showarrow": false,
          "text": "qNParEGO",
          "x": 0.225,
          "xanchor": "center",
          "xref": "paper",
          "y": 1,
          "yanchor": "bottom",
          "yref": "paper"
         },
         {
          "font": {
           "size": 16
          },
          "showarrow": false,
          "text": "qEHVI",
          "x": 0.775,
          "xanchor": "center",
          "xref": "paper",
          "y": 1,
          "yanchor": "bottom",
          "yref": "paper"
         }
        ],
        "height": 600,
        "scene": {
         "camera": {
          "eye": {
           "x": 1.5,
           "y": 1.5,
           "z": 0.6
          }
         },
         "domain": {
          "x": [
           0,
           0.45
          ],
          "y": [
           0,
           1
          ]
         },
         "xaxis": {
          "title": {
           "text": "Objective 1"
          }
         },
         "yaxis": {
          "title": {
           "text": "Objective 2"
          }
         },
         "zaxis": {
          "title": {
           "text": "Objective 3"
          }
         }
        },
        "scene2": {
         "camera": {
          "eye": {
           "x": 1.5,
           "y": 1.5,
           "z": 0.6
          }
         },
         "domain": {
          "x": [
           0.55,
           1
          ],
          "y": [
           0,
           1
          ]
         },
         "xaxis": {
          "title": {
           "text": "Objective 1"
          }
         },
         "yaxis": {
          "title": {
           "text": "Objective 2"
          }
         },
         "zaxis": {
          "title": {
           "text": "Objective 3"
          }
         }
        },
        "showlegend": false,
        "template": {
         "data": {
          "bar": [
           {
            "error_x": {
             "color": "#2a3f5f"
            },
            "error_y": {
             "color": "#2a3f5f"
            },
            "marker": {
             "line": {
              "color": "#E5ECF6",
              "width": 0.5
             },
             "pattern": {
              "fillmode": "overlay",
              "size": 10,
              "solidity": 0.2
             }
            },
            "type": "bar"
           }
          ],
          "barpolar": [
           {
            "marker": {
             "line": {
              "color": "#E5ECF6",
              "width": 0.5
             },
             "pattern": {
              "fillmode": "overlay",
              "size": 10,
              "solidity": 0.2
             }
            },
            "type": "barpolar"
           }
          ],
          "carpet": [
           {
            "aaxis": {
             "endlinecolor": "#2a3f5f",
             "gridcolor": "white",
             "linecolor": "white",
             "minorgridcolor": "white",
             "startlinecolor": "#2a3f5f"
            },
            "baxis": {
             "endlinecolor": "#2a3f5f",
             "gridcolor": "white",
             "linecolor": "white",
             "minorgridcolor": "white",
             "startlinecolor": "#2a3f5f"
            },
            "type": "carpet"
           }
          ],
          "choropleth": [
           {
            "colorbar": {
             "outlinewidth": 0,
             "ticks": ""
            },
            "type": "choropleth"
           }
          ],
          "contour": [
           {
            "colorbar": {
             "outlinewidth": 0,
             "ticks": ""
            },
            "colorscale": [
             [
              0,
              "#0d0887"
             ],
             [
              0.1111111111111111,
              "#46039f"
             ],
             [
              0.2222222222222222,
              "#7201a8"
             ],
             [
              0.3333333333333333,
              "#9c179e"
             ],
             [
              0.4444444444444444,
              "#bd3786"
             ],
             [
              0.5555555555555556,
              "#d8576b"
             ],
             [
              0.6666666666666666,
              "#ed7953"
             ],
             [
              0.7777777777777778,
              "#fb9f3a"
             ],
             [
              0.8888888888888888,
              "#fdca26"
             ],
             [
              1,
              "#f0f921"
             ]
            ],
            "type": "contour"
           }
          ],
          "contourcarpet": [
           {
            "colorbar": {
             "outlinewidth": 0,
             "ticks": ""
            },
            "type": "contourcarpet"
           }
          ],
          "heatmap": [
           {
            "colorbar": {
             "outlinewidth": 0,
             "ticks": ""
            },
            "colorscale": [
             [
              0,
              "#0d0887"
             ],
             [
              0.1111111111111111,
              "#46039f"
             ],
             [
              0.2222222222222222,
              "#7201a8"
             ],
             [
              0.3333333333333333,
              "#9c179e"
             ],
             [
              0.4444444444444444,
              "#bd3786"
             ],
             [
              0.5555555555555556,
              "#d8576b"
             ],
             [
              0.6666666666666666,
              "#ed7953"
             ],
             [
              0.7777777777777778,
              "#fb9f3a"
             ],
             [
              0.8888888888888888,
              "#fdca26"
             ],
             [
              1,
              "#f0f921"
             ]
            ],
            "type": "heatmap"
           }
          ],
          "histogram": [
           {
            "marker": {
             "pattern": {
              "fillmode": "overlay",
              "size": 10,
              "solidity": 0.2
             }
            },
            "type": "histogram"
           }
          ],
          "histogram2d": [
           {
            "colorbar": {
             "outlinewidth": 0,
             "ticks": ""
            },
            "colorscale": [
             [
              0,
              "#0d0887"
             ],
             [
              0.1111111111111111,
              "#46039f"
             ],
             [
              0.2222222222222222,
              "#7201a8"
             ],
             [
              0.3333333333333333,
              "#9c179e"
             ],
             [
              0.4444444444444444,
              "#bd3786"
             ],
             [
              0.5555555555555556,
              "#d8576b"
             ],
             [
              0.6666666666666666,
              "#ed7953"
             ],
             [
              0.7777777777777778,
              "#fb9f3a"
             ],
             [
              0.8888888888888888,
              "#fdca26"
             ],
             [
              1,
              "#f0f921"
             ]
            ],
            "type": "histogram2d"
           }
          ],
          "histogram2dcontour": [
           {
            "colorbar": {
             "outlinewidth": 0,
             "ticks": ""
            },
            "colorscale": [
             [
              0,
              "#0d0887"
             ],
             [
              0.1111111111111111,
              "#46039f"
             ],
             [
              0.2222222222222222,
              "#7201a8"
             ],
             [
              0.3333333333333333,
              "#9c179e"
             ],
             [
              0.4444444444444444,
              "#bd3786"
             ],
             [
              0.5555555555555556,
              "#d8576b"
             ],
             [
              0.6666666666666666,
              "#ed7953"
             ],
             [
              0.7777777777777778,
              "#fb9f3a"
             ],
             [
              0.8888888888888888,
              "#fdca26"
             ],
             [
              1,
              "#f0f921"
             ]
            ],
            "type": "histogram2dcontour"
           }
          ],
          "mesh3d": [
           {
            "colorbar": {
             "outlinewidth": 0,
             "ticks": ""
            },
            "type": "mesh3d"
           }
          ],
          "parcoords": [
           {
            "line": {
             "colorbar": {
              "outlinewidth": 0,
              "ticks": ""
             }
            },
            "type": "parcoords"
           }
          ],
          "pie": [
           {
            "automargin": true,
            "type": "pie"
           }
          ],
          "scatter": [
           {
            "fillpattern": {
             "fillmode": "overlay",
             "size": 10,
             "solidity": 0.2
            },
            "type": "scatter"
           }
          ],
          "scatter3d": [
           {
            "line": {
             "colorbar": {
              "outlinewidth": 0,
              "ticks": ""
             }
            },
            "marker": {
             "colorbar": {
              "outlinewidth": 0,
              "ticks": ""
             }
            },
            "type": "scatter3d"
           }
          ],
          "scattercarpet": [
           {
            "marker": {
             "colorbar": {
              "outlinewidth": 0,
              "ticks": ""
             }
            },
            "type": "scattercarpet"
           }
          ],
          "scattergeo": [
           {
            "marker": {
             "colorbar": {
              "outlinewidth": 0,
              "ticks": ""
             }
            },
            "type": "scattergeo"
           }
          ],
          "scattergl": [
           {
            "marker": {
             "colorbar": {
              "outlinewidth": 0,
              "ticks": ""
             }
            },
            "type": "scattergl"
           }
          ],
          "scattermap": [
           {
            "marker": {
             "colorbar": {
              "outlinewidth": 0,
              "ticks": ""
             }
            },
            "type": "scattermap"
           }
          ],
          "scattermapbox": [
           {
            "marker": {
             "colorbar": {
              "outlinewidth": 0,
              "ticks": ""
             }
            },
            "type": "scattermapbox"
           }
          ],
          "scatterpolar": [
           {
            "marker": {
             "colorbar": {
              "outlinewidth": 0,
              "ticks": ""
             }
            },
            "type": "scatterpolar"
           }
          ],
          "scatterpolargl": [
           {
            "marker": {
             "colorbar": {
              "outlinewidth": 0,
              "ticks": ""
             }
            },
            "type": "scatterpolargl"
           }
          ],
          "scatterternary": [
           {
            "marker": {
             "colorbar": {
              "outlinewidth": 0,
              "ticks": ""
             }
            },
            "type": "scatterternary"
           }
          ],
          "surface": [
           {
            "colorbar": {
             "outlinewidth": 0,
             "ticks": ""
            },
            "colorscale": [
             [
              0,
              "#0d0887"
             ],
             [
              0.1111111111111111,
              "#46039f"
             ],
             [
              0.2222222222222222,
              "#7201a8"
             ],
             [
              0.3333333333333333,
              "#9c179e"
             ],
             [
              0.4444444444444444,
              "#bd3786"
             ],
             [
              0.5555555555555556,
              "#d8576b"
             ],
             [
              0.6666666666666666,
              "#ed7953"
             ],
             [
              0.7777777777777778,
              "#fb9f3a"
             ],
             [
              0.8888888888888888,
              "#fdca26"
             ],
             [
              1,
              "#f0f921"
             ]
            ],
            "type": "surface"
           }
          ],
          "table": [
           {
            "cells": {
             "fill": {
              "color": "#EBF0F8"
             },
             "line": {
              "color": "white"
             }
            },
            "header": {
             "fill": {
              "color": "#C8D4E3"
             },
             "line": {
              "color": "white"
             }
            },
            "type": "table"
           }
          ]
         },
         "layout": {
          "annotationdefaults": {
           "arrowcolor": "#2a3f5f",
           "arrowhead": 0,
           "arrowwidth": 1
          },
          "autotypenumbers": "strict",
          "coloraxis": {
           "colorbar": {
            "outlinewidth": 0,
            "ticks": ""
           }
          },
          "colorscale": {
           "diverging": [
            [
             0,
             "#8e0152"
            ],
            [
             0.1,
             "#c51b7d"
            ],
            [
             0.2,
             "#de77ae"
            ],
            [
             0.3,
             "#f1b6da"
            ],
            [
             0.4,
             "#fde0ef"
            ],
            [
             0.5,
             "#f7f7f7"
            ],
            [
             0.6,
             "#e6f5d0"
            ],
            [
             0.7,
             "#b8e186"
            ],
            [
             0.8,
             "#7fbc41"
            ],
            [
             0.9,
             "#4d9221"
            ],
            [
             1,
             "#276419"
            ]
           ],
           "sequential": [
            [
             0,
             "#0d0887"
            ],
            [
             0.1111111111111111,
             "#46039f"
            ],
            [
             0.2222222222222222,
             "#7201a8"
            ],
            [
             0.3333333333333333,
             "#9c179e"
            ],
            [
             0.4444444444444444,
             "#bd3786"
            ],
            [
             0.5555555555555556,
             "#d8576b"
            ],
            [
             0.6666666666666666,
             "#ed7953"
            ],
            [
             0.7777777777777778,
             "#fb9f3a"
            ],
            [
             0.8888888888888888,
             "#fdca26"
            ],
            [
             1,
             "#f0f921"
            ]
           ],
           "sequentialminus": [
            [
             0,
             "#0d0887"
            ],
            [
             0.1111111111111111,
             "#46039f"
            ],
            [
             0.2222222222222222,
             "#7201a8"
            ],
            [
             0.3333333333333333,
             "#9c179e"
            ],
            [
             0.4444444444444444,
             "#bd3786"
            ],
            [
             0.5555555555555556,
             "#d8576b"
            ],
            [
             0.6666666666666666,
             "#ed7953"
            ],
            [
             0.7777777777777778,
             "#fb9f3a"
            ],
            [
             0.8888888888888888,
             "#fdca26"
            ],
            [
             1,
             "#f0f921"
            ]
           ]
          },
          "colorway": [
           "#636efa",
           "#EF553B",
           "#00cc96",
           "#ab63fa",
           "#FFA15A",
           "#19d3f3",
           "#FF6692",
           "#B6E880",
           "#FF97FF",
           "#FECB52"
          ],
          "font": {
           "color": "#2a3f5f"
          },
          "geo": {
           "bgcolor": "white",
           "lakecolor": "white",
           "landcolor": "#E5ECF6",
           "showlakes": true,
           "showland": true,
           "subunitcolor": "white"
          },
          "hoverlabel": {
           "align": "left"
          },
          "hovermode": "closest",
          "mapbox": {
           "style": "light"
          },
          "paper_bgcolor": "white",
          "plot_bgcolor": "#E5ECF6",
          "polar": {
           "angularaxis": {
            "gridcolor": "white",
            "linecolor": "white",
            "ticks": ""
           },
           "bgcolor": "#E5ECF6",
           "radialaxis": {
            "gridcolor": "white",
            "linecolor": "white",
            "ticks": ""
           }
          },
          "scene": {
           "xaxis": {
            "backgroundcolor": "#E5ECF6",
            "gridcolor": "white",
            "gridwidth": 2,
            "linecolor": "white",
            "showbackground": true,
            "ticks": "",
            "zerolinecolor": "white"
           },
           "yaxis": {
            "backgroundcolor": "#E5ECF6",
            "gridcolor": "white",
            "gridwidth": 2,
            "linecolor": "white",
            "showbackground": true,
            "ticks": "",
            "zerolinecolor": "white"
           },
           "zaxis": {
            "backgroundcolor": "#E5ECF6",
            "gridcolor": "white",
            "gridwidth": 2,
            "linecolor": "white",
            "showbackground": true,
            "ticks": "",
            "zerolinecolor": "white"
           }
          },
          "shapedefaults": {
           "line": {
            "color": "#2a3f5f"
           }
          },
          "ternary": {
           "aaxis": {
            "gridcolor": "white",
            "linecolor": "white",
            "ticks": ""
           },
           "baxis": {
            "gridcolor": "white",
            "linecolor": "white",
            "ticks": ""
           },
           "bgcolor": "#E5ECF6",
           "caxis": {
            "gridcolor": "white",
            "linecolor": "white",
            "ticks": ""
           }
          },
          "title": {
           "x": 0.05
          },
          "xaxis": {
           "automargin": true,
           "gridcolor": "white",
           "linecolor": "white",
           "ticks": "",
           "title": {
            "standoff": 15
           },
           "zerolinecolor": "white",
           "zerolinewidth": 2
          },
          "yaxis": {
           "automargin": true,
           "gridcolor": "white",
           "linecolor": "white",
           "ticks": "",
           "title": {
            "standoff": 15
           },
           "zerolinecolor": "white",
           "zerolinewidth": 2
          }
         }
        },
        "title": {
         "text": "Initial Training Points"
        },
        "width": 1200
       }
      }
     },
     "metadata": {},
     "output_type": "display_data"
    }
   ],
   "source": [
    "# 1. Plot showing just initial training points\n",
    "fig_initial = make_subplots(\n",
    "    rows=1, cols=2,\n",
    "    specs=[[{'type': 'scatter3d'}, {'type': 'scatter3d'}]],\n",
    "    subplot_titles=(\"qNParEGO\", \"qEHVI\")\n",
    ")\n",
    "\n",
    "# Generate Pareto surface using problem's built-in method\n",
    "pf_surface = create_pareto_surface(problem)\n",
    "\n",
    "alg_data_initial = [\n",
    "    (-train_obj_true_qparego[:n_initial], \"qNParEGO\"),\n",
    "    (-train_obj_true_qehvi[:n_initial], \"qEHVI\"),\n",
    "]\n",
    "\n",
    "for col, (train_obj, name) in enumerate(alg_data_initial, 1):\n",
    "    obj_np = train_obj.cpu().numpy() if isinstance(train_obj, torch.Tensor) else train_obj\n",
    "\n",
    "    # Plot initial points\n",
    "    scatter = go.Scatter3d(\n",
    "        x=obj_np[:, 0], y=obj_np[:, 1], z=obj_np[:, 2],\n",
    "        mode='markers',\n",
    "        marker=dict(size=4, color='deepskyblue', opacity=0.8),\n",
    "        name=name\n",
    "    )\n",
    "\n",
    "    fig_initial.add_trace(scatter, row=1, col=col)\n",
    "    fig_initial.add_trace(pf_surface, row=1, col=col)\n",
    "\n",
    "# Update layout\n",
    "fig_initial.update_layout(\n",
    "    height=600,\n",
    "    width=1200,\n",
    "    scene1=dict(\n",
    "        xaxis_title='Objective 1',\n",
    "        yaxis_title='Objective 2',\n",
    "        zaxis_title='Objective 3',\n",
    "        camera=dict(eye=dict(x=1.5, y=1.5, z=0.6))\n",
    "    ),\n",
    "    scene2=dict(\n",
    "        xaxis_title='Objective 1',\n",
    "        yaxis_title='Objective 2',\n",
    "        zaxis_title='Objective 3',\n",
    "        camera=dict(eye=dict(x=1.5, y=1.5, z=0.6))\n",
    "    ),\n",
    "    showlegend=False,\n",
    "    title_text='Initial Training Points'\n",
    ")\n",
    "fig_initial.show()\n",
    "\n",
    "pio.write_html(fig_initial, 'DTLZ4a train.html')"
   ]
  },
  {
   "cell_type": "code",
   "execution_count": 25,
   "metadata": {
    "colab": {
     "base_uri": "https://localhost:8080/",
     "height": 617
    },
    "executionInfo": {
     "elapsed": 237,
     "status": "ok",
     "timestamp": 1747812625806,
     "user": {
      "displayName": "Deepak L",
      "userId": "17343563887203968144"
     },
     "user_tz": -330
    },
    "id": "E2uIQhy7SOAi",
    "outputId": "c46cfa9f-2002-4335-e6a0-59c1d7054c4f"
   },
   "outputs": [
    {
     "data": {
      "application/vnd.plotly.v1+json": {
       "config": {
        "plotlyServerURL": "https://plot.ly"
       },
       "data": [
        {
         "hovertemplate": "<b>Obj1</b>: %{x:.2f}<br><b>Obj2</b>: %{y:.2f}<br><b>Obj3</b>: %{z:.2f}<extra></extra>",
         "marker": {
          "color": {
           "bdata": "AACAPwAAgD8AAABAAAAAQAAAQEAAAEBAAACAQAAAgEAAAKBAAACgQAAAwEAAAMBAAADgQAAA4EAAAABBAAAAQQAAEEEAABBBAAAgQQAAIEEAADBBAAAwQQAAQEEAAEBBAABQQQAAUEEAAGBBAABgQQAAcEEAAHBBAACAQQAAgEEAAIhBAACIQQAAkEEAAJBBAACYQQAAmEEAAKBBAACgQQAAqEEAAKhBAACwQQAAsEEAALhBAAC4QQAAwEEAAMBBAADIQQAAyEEAANBBAADQQQAA2EEAANhBAADgQQAA4EEAAOhBAADoQQAA8EEAAPBBAAD4QQAA+EEAAABCAAAAQgAABEIAAARCAAAIQgAACEIAAAxCAAAMQgAAEEIAABBCAAAUQgAAFEIAABhCAAAYQgAAHEIAABxCAAAgQgAAIEIAACRCAAAkQgAAKEIAAChCAAAsQgAALEIAADBCAAAwQgAANEIAADRCAAA4QgAAOEIAADxCAAA8QgAAQEIAAEBCAABEQgAAREIAAEhCAABIQgAATEIAAExCAABQQgAAUEIAAFRCAABUQgAAWEIAAFhCAABcQgAAXEIAAGBCAABgQgAAZEIAAGRCAABoQgAAaEIAAGxCAABsQgAAcEIAAHBCAAB0QgAAdEIAAHhCAAB4QgAAfEIAAHxCAACAQgAAgEIAAIJCAACCQgAAhEIAAIRCAACGQgAAhkIAAIhCAACIQgAAikIAAIpCAACMQgAAjEIAAI5CAACOQgAAkEIAAJBCAACSQgAAkkIAAJRCAACUQgAAlkIAAJZCAACYQgAAmEIAAJpCAACaQgAAnEIAAJxCAACeQgAAnkIAAKBCAACgQgAAokIAAKJCAACkQgAApEIAAKZCAACmQgAAqEIAAKhCAACqQgAAqkIAAKxCAACsQgAArkIAAK5CAACwQgAAsEIAALJCAACyQgAAtEIAALRCAAC2QgAAtkIAALhCAAC4QgAAukIAALpCAAC8QgAAvEIAAL5CAAC+QgAAwEIAAMBCAADCQgAAwkIAAMRCAADEQgAAxkIAAMZCAADIQgAAyEI=",
           "dtype": "f4"
          },
          "colorscale": [
           [
            0,
            "#440154"
           ],
           [
            0.1111111111111111,
            "#482878"
           ],
           [
            0.2222222222222222,
            "#3e4989"
           ],
           [
            0.3333333333333333,
            "#31688e"
           ],
           [
            0.4444444444444444,
            "#26828e"
           ],
           [
            0.5555555555555556,
            "#1f9e89"
           ],
           [
            0.6666666666666666,
            "#35b779"
           ],
           [
            0.7777777777777778,
            "#6ece58"
           ],
           [
            0.8888888888888888,
            "#b5de2b"
           ],
           [
            1,
            "#fde725"
           ]
          ],
          "opacity": 0.8,
          "size": 4
         },
         "mode": "markers",
         "name": "qNParEGO",
         "scene": "scene",
         "type": "scatter3d",
         "x": {
          "bdata": "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",
          "dtype": "f8"
         },
         "y": {
          "bdata": "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",
          "dtype": "f8"
         },
         "z": {
          "bdata": "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",
          "dtype": "f8"
         }
        },
        {
         "color": "red",
         "colorscale": [
          [
           0,
           "rgb(255,245,240)"
          ],
          [
           0.125,
           "rgb(254,224,210)"
          ],
          [
           0.25,
           "rgb(252,187,161)"
          ],
          [
           0.375,
           "rgb(252,146,114)"
          ],
          [
           0.5,
           "rgb(251,106,74)"
          ],
          [
           0.625,
           "rgb(239,59,44)"
          ],
          [
           0.75,
           "rgb(203,24,29)"
          ],
          [
           0.875,
           "rgb(165,15,21)"
          ],
          [
           1,
           "rgb(103,0,13)"
          ]
         ],
         "intensity": {
          "bdata": "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",
          "dtype": "f8"
         },
         "name": "Pareto Front",
         "opacity": 0.3,
         "scene": "scene",
         "showscale": false,
         "type": "mesh3d",
         "x": {
          "bdata": "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",
          "dtype": "f8"
         },
         "y": {
          "bdata": "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",
          "dtype": "f8"
         },
         "z": {
          "bdata": "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",
          "dtype": "f8"
         }
        },
        {
         "hovertemplate": "<b>Obj1</b>: %{x:.2f}<br><b>Obj2</b>: %{y:.2f}<br><b>Obj3</b>: %{z:.2f}<extra></extra>",
         "marker": {
          "color": {
           "bdata": "AACAPwAAgD8AAABAAAAAQAAAQEAAAEBAAACAQAAAgEAAAKBAAACgQAAAwEAAAMBAAADgQAAA4EAAAABBAAAAQQAAEEEAABBBAAAgQQAAIEEAADBBAAAwQQAAQEEAAEBBAABQQQAAUEEAAGBBAABgQQAAcEEAAHBBAACAQQAAgEEAAIhBAACIQQAAkEEAAJBBAACYQQAAmEEAAKBBAACgQQAAqEEAAKhBAACwQQAAsEEAALhBAAC4QQAAwEEAAMBBAADIQQAAyEEAANBBAADQQQAA2EEAANhBAADgQQAA4EEAAOhBAADoQQAA8EEAAPBBAAD4QQAA+EEAAABCAAAAQgAABEIAAARCAAAIQgAACEIAAAxCAAAMQgAAEEIAABBCAAAUQgAAFEIAABhCAAAYQgAAHEIAABxCAAAgQgAAIEIAACRCAAAkQgAAKEIAAChCAAAsQgAALEIAADBCAAAwQgAANEIAADRCAAA4QgAAOEIAADxCAAA8QgAAQEIAAEBCAABEQgAAREIAAEhCAABIQgAATEIAAExCAABQQgAAUEIAAFRCAABUQgAAWEIAAFhCAABcQgAAXEIAAGBCAABgQgAAZEIAAGRCAABoQgAAaEIAAGxCAABsQgAAcEIAAHBCAAB0QgAAdEIAAHhCAAB4QgAAfEIAAHxCAACAQgAAgEIAAIJCAACCQgAAhEIAAIRCAACGQgAAhkIAAIhCAACIQgAAikIAAIpCAACMQgAAjEIAAI5CAACOQgAAkEIAAJBCAACSQgAAkkIAAJRCAACUQgAAlkIAAJZCAACYQgAAmEIAAJpCAACaQgAAnEIAAJxCAACeQgAAnkIAAKBCAACgQgAAokIAAKJCAACkQgAApEIAAKZCAACmQgAAqEIAAKhCAACqQgAAqkIAAKxCAACsQgAArkIAAK5CAACwQgAAsEIAALJCAACyQgAAtEIAALRCAAC2QgAAtkIAALhCAAC4QgAAukIAALpCAAC8QgAAvEIAAL5CAAC+QgAAwEIAAMBCAADCQgAAwkIAAMRCAADEQgAAxkIAAMZCAADIQgAAyEI=",
           "dtype": "f4"
          },
          "colorbar": {
           "title": {
            "text": "Iteration"
           }
          },
          "colorscale": [
           [
            0,
            "#440154"
           ],
           [
            0.1111111111111111,
            "#482878"
           ],
           [
            0.2222222222222222,
            "#3e4989"
           ],
           [
            0.3333333333333333,
            "#31688e"
           ],
           [
            0.4444444444444444,
            "#26828e"
           ],
           [
            0.5555555555555556,
            "#1f9e89"
           ],
           [
            0.6666666666666666,
            "#35b779"
           ],
           [
            0.7777777777777778,
            "#6ece58"
           ],
           [
            0.8888888888888888,
            "#b5de2b"
           ],
           [
            1,
            "#fde725"
           ]
          ],
          "opacity": 0.8,
          "size": 4
         },
         "mode": "markers",
         "name": "qEHVI",
         "scene": "scene2",
         "type": "scatter3d",
         "x": {
          "bdata": "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",
          "dtype": "f8"
         },
         "y": {
          "bdata": "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",
          "dtype": "f8"
         },
         "z": {
          "bdata": "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",
          "dtype": "f8"
         }
        },
        {
         "color": "red",
         "colorscale": [
          [
           0,
           "rgb(255,245,240)"
          ],
          [
           0.125,
           "rgb(254,224,210)"
          ],
          [
           0.25,
           "rgb(252,187,161)"
          ],
          [
           0.375,
           "rgb(252,146,114)"
          ],
          [
           0.5,
           "rgb(251,106,74)"
          ],
          [
           0.625,
           "rgb(239,59,44)"
          ],
          [
           0.75,
           "rgb(203,24,29)"
          ],
          [
           0.875,
           "rgb(165,15,21)"
          ],
          [
           1,
           "rgb(103,0,13)"
          ]
         ],
         "intensity": {
          "bdata": "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",
          "dtype": "f8"
         },
         "name": "Pareto Front",
         "opacity": 0.3,
         "scene": "scene2",
         "showscale": false,
         "type": "mesh3d",
         "x": {
          "bdata": "Rra+e5QQ6z9z1DDleQnRP4XHV+wOn+Y/IRFbwiOtvj/ov3t7h8vSPysHycpL7Og/XHrgJl+esT+nCbWG+knrPwaOz3afoeM/aS8ihgm2yz+bNmB8R6bsPzXQeS0radM/13Tf1DwGwz/7v0USHNzmP10m32Ii09M/Pnml2N0w6j9GPCo1P8rWP1Q/+73Kudw/Ght4Przv7j9gYwqCrHHPP/h/Z78INeI/zCA0Nuda0z+V/kw7RUTNP/rwKTmar+8/vlxkt1uJ7j9bKLLMys2ePy+bU+CuqOA/JTSmpmc8yj/duJxYEZqkPyI9HCHjT+8/Pe99vE5L0T+aMyxjH6fSP+bj0jLdJec/PZ/qtgvy4j/xnJrebjfmP3w0iAdsm6Q/uHlNimct6T9FuExMg8LmP0FJdbSd36Q/Z7LpcW5q6z9PDce8ivLdPwsyvWfGj74/hxKrycU15T9WsI0gw8zlPxMCdSpd4rk/XpFAiI3b6j9DmweHSanuP3nSiyBrNeQ/u2yjrwY04j9hc+Lrux/RP3Bc7nGXVdw/y7QYjBkG2T/oVFoh7a/WP99BmrZq09U/jqf6XVfh0T+d7+TCrq7bP/1HAYs7o+w/rBzzLGlLyD+vz3zZ22XqPyNM09eR4tA/USbZVKqUvj9U1sDNnaHtP60oHf8qIdY/G7bnpSyF5D+6t4FDE0niPxs65QtrQ9M/uSfmmXBR7z/X5HaOx728P43+d83h6tk/7Gjl38tL3z91GO+GVne+P8srfPH5re8/HJNUHej07D9mWE6xgzzMP8WtbTjP0dU/SjTML+Nu0j8DZS6DDC/IP4vHrmhNNO8/8h66GN8J3T/6Tu3r4urPP4FV3NdGGOs//z+Y42Zhzj++FnoSj07gPzmtaSgbbMw/10lkjaAgzj/9xUz8xQ7pP0LfpmiqGcU/5bPEQqO55j91JG77hcrmP1pnCMlyj60/36WkrarN6z++tXQYrozRP5eAJchDfaI/G6uum5466z+JrUblVavTP1BxCtncfOo/e+2AfHEy5z8OgW0bXPrGP7Seh4zqQug/eG29SLfomj93+2+Tt8rNP8sl3Tamm9o/icI4cMrwYz8j9G5SRdzoP6Aud1BTX+Q/QhYo8zYl5j9+fcdqOefnP9obMwTqRtk/qTruqlUc3j+IGI7y5UHkPx1EXb4UHNw/rFF6l4Ni3z9ryFd+hE/iP48GqbonROg/5F7vGTPh5D9FqId8JNe0P0a1ihOVoO4/GHUlFT+e4T+DZOPdUNuxP5wJ5RF/p+o/EOwwu+wm5T/z8z8/Vx22P31lHqc3eek/ZNTRCgcD5D9WRLxlm9yxP3hBVz8mk+s/y/2WzBm66z+LVPLw2AvoP7G86LpYKd4/rm3zxa2Y3j9BZA27nkDvPzq6N3A2lrM/0xmW71ZXyT//Cv38+7HiP1EYlnlmgLQ/Y5RnVNq77T+mPy2WnNrsP8Tl5MLhUsA/ktXYr9Za3T/kcJzdQqjhP2nnkcVWOL4/2dvHd4qV6z+4Zi4BipfUP+mv9JBUC+E/PGjS/gKO6z8Rj6CxpDflP30cFrVksuU/V4G1Pw4Ayj8fUn81vmnjP5vp/C2c9+4/+t8GvHlT1D/74OubMn/jP7W5jYHG3uI/b+AUXIqPfz8w0gGOoGvrPywYP6+F1tI/4BHrtRPHYj87ftkNMZrhP9zofeIYRdE/UTpHZTsn7z9wxYn7K/fiPy3tfFBicso/EuNEHsCC6z+6Mw6JLXa/P55GUoO2ycY/hDwnpcZN5z/9ZQ57qW3WP4a+zkvT6eo/kmpNTnvV6z8nauUPbHbYPwI3uDG4K9s/abvuWaSp1D/jL4kNSInjPyoQT8RgG+o/3xtT8Povzj8K/yIc2UDiP0hTsAy1F90//sca8Yyn5D82N8N4qTvnP56mjOHfo7U/7zJlBDwV4z+gcPy2JWjfP5+HdDM2pMY/lkEy7aq94j9w9yyQZBTuPxtV4TZVwKs/I6LpLEKM3D+RsxTrgIPmP0CfKzvSTbY/MdH7BznI6z/29KpurFfkP1l9m1A41t0/o0qk4DSh7T/m9EtzlXDYP2EDzN2HcOk/hiZ57/flrz8ODhpvrHbXP4fPcUun+O8/djxozLBtuj/YrwI/nULrPywSZ8iYc+E/lVwadnhutj+zSLAY4EDmP2sNL6tm9+E/4kyo015DyT/3UidPWQTfP9ByvUoQEeA/YnzLUn8P7T8IYmyoxfvZP0JwQlFweeA/oNET8aqt7T/gVUYlHs7GP1NAfqCAntI/S0X8iWIP4j+nCedh46XGP2IKTRXwNuw/o5UZqM/W7j9seE51+eKhPw6SYL4/Z90/Z1DbX5f83T/Jk7yfO+eiP8htaNit2u0/sEwJ6FdZ0T9fJZgAEMLhP7AOJsG+7d0/91eRI+BI4z9fFK1RfXvrP+02VthF3YU/fIu7FBy/3T9robFZ6a/fP2EfQEupPpw/VANxo9Ko5T8O5sxUdDfrP0jVGNHu68Y/nimcRIlC3z9pkAItCwnnP5FqGkw9Qs8/eIYcXj0r5z8p+2koWsHlPwg6HvPkBuA/6aHuJRj/3z+jSCmxPB3XP9NuhGb/nus/kyhmrJTT2D/LHAs7b97QP/pK1x/CBOM/bsJD0m6p4j+QCewYphjqP3i2YuQqZuw/kCP3CFcazj9GEzW6IZfhP6QUeESMl8M/OFvjEkL91z/ZAydZuY7rP0EaJ+elcb0/06p+i4gJ5T/6LrgwePDWP5cpvSGpheA/MCCTJ09v5z9djfci6460P4Q+ikTTFeU/j72H4IEm1T+qZsDMYF6wP74lR3hD4Ow/ISEyT7Ze5T/+JG+TLr7FP06J/ZWHY+E/4/THZXmH4z/3oFWnxC6/P6Duv8uiT+s/Tv9V7pjC5j9uVufWn1/gP4B6IJECCeU/9xpIPB4u1T/fb9YrC6XqP0GVS3s0b+Y/9VrU6hhG1z/S2auI4z/dP6maEBP9h94/S82s2E756j9dhvPR8DfrP12WxYRyqcg//JhRB0Uj5j94Vf9h9MzCP7vy31kFfqM/nJ/C8T/+6z/5HnzlooTGP0F27DbaBtc/x+DX3EIt7z866ys2b67TP1ZGhS8NPuE/68wqYQp/tD80z5xMN5bVP1pYf8XrcO0/jYEYYeYxqT+jye2titjjPzqfl2GKct0/Hpw+j8LxyD+AorfYPbPtP+wTkLM8/+A/qLPQ2CAYwz8ox0fOAcblP53xvrYzF+Q/d5Pjaxk96z+ivX7z+jPfP3PIWXG8w9I/Tvm9AgLL6T+4Y0iDbmHEP21fn9r90d0/X+9+ZP7A0z/8SSGe5vDBP53TxL37fOs/HfHOYjZ87z8rtLBddfipP2hLtIkcluU/BVBKLNjR0z9RJxNHkVOrP9mpZV7Ct+8/k5g2E0iP3D9wiXDs+xPiP3uNKwMFC+k/VQh3D+yuxT8HkXS6TTrsP2Le2YPS2uQ/mh3c0DflyD9ZF/eRlDPjP9UDHZ8ws80/+q7vT7q87D+RUO4YbsvpP5U1e6YQweI/ZxxAjlbF4D+oEGtYVebPP7nc9Elxs9Q/3LoHRjI56z9GU4/fkHHUPw9NIRquadQ/GkjgUXMX3z+O0iIK5KDhP8I9DQ8DyuA/90zbrC+UyD9GfnEl6KrlP2RM2IF5Z90/Xgp/zltHwj/BBezPVAvrP46LmLy6G+g/IOt1fpwpoD9gNKmrNnTgP7lxhfIeNuE/skljs6ymoj9ryOZx9HrtP4lopd+fMec/NAKsr/co4D+OaZiYXKziPzVaREVGhsk/BR7LDmP47T87ro4fgN5kP6jS8R4VTtE/KYyZ/nZT1z/AGeMy3vR4P5vVu/W/kO4/2wBPMrUs7T8I3S7k1wTQP+swROn4teM/5D0YZEUS3j8Q/MxVUMnMP63FpChC2O0/UhthcUcY4z9SV/SjUXzbPwwGo7O4Qu0/4lxJCGoe3j+AzFWIogDiP+qQXlQo2sQ/D3if2kQO4D+mfKqzbMzqP39Xs5HtJL8/Q6Dq2DyX5D/svE3XLz3iPyaXIZep4sE/+rKpjnf/7j/XDBEPJETZP4NryKCtoLQ/pSMymL7y5T84Lw2P+B7dPxiP+r+g3Os/Vs0aSiYN4T9z2nsEYjnYP9lShPkrQOo/jaMdvqM9yj/CUazZJXTJP5BynCmoLuU/amP10NQUzT/SaVhl8ebpP5cl8jSPpeE/r6VnSho70j/QXeEurfPgPxO17xdRXdc/zVE4MdOl1j+QHa38RXfhP+yIe4VF1tA/5WRzo8nd5D8IBl5CLeXiP1GIe3D0au8/DXsCJtf+6j9r8S+fdfLCPwEOWI4ykes/3EBeCxWo4z8xOVUh9g7FP1RzUsrSLuc/dGCOGkKu6j8sZaEGcXBtPwd01Y7sqOY/hsAqy7wc5T/5hr0lVdd3P0NJnEf1P+Y/KkTkIzKC3T+ly0ZDRtXoP8ELlMwSPN4/ZZkwSBX81z8qtlrl/bTvPyK03PPbSao/HKLNexhczj/r74oYha3hP7x9FJSGK7M/RF2fYeu+7j8sslJ4GpvvP4145LcJDsw/gIJtnuaM0T/RBVWr3BXfP8NforWBrM0/b+sPL4Wf7T/gMqSSYLfRP+2/8OGAxdI/suqott565T+3R06QRw7TP8AW+Momo+Q/xC0wv2k1tz9hCHcra3DSP0jXAIH1Wus/eIu1Eui1zT/F14rBoXThP6CVB7ye8+s/1LpEPcD0sj8IWPcBK2PqP03JB+QK6tI/RJ0S6VMtwj9t9Oh/0O3qP1LopbHDFdM/dqnSxSkv7D+weuslwhHpP+aCrMPWR+s/niM9KLcz7j+OWBEk1S2nP/8JR0gGvuY/p9Ikk7WR6j9MqQpe4FCwP4gNobDMlew/6AD1P9ZD5j/c863b7vmvP0zGaMaWA+A/8WbAdr636z86guu0XI61P81i/JXAjOI/PpV0y/6K5z8tjaCUlq/hPxndkmdkH9w/AVjWvxAJ2j9gG8YTt2PkP0cT/l9g+dU/JbSQNJkr0T98VrSTX13kP9do5HzVsN8/4HpzA23r4z8QW7HeAujnP7LLr/gGGro/2vkEhcIt4j8i/K5QxBrVP70GJSH4C7k/RTHqf8Dr5z+fnc5LJEDPP4ZHDypx7eY/h+pwN08z6D8KVhH0XmrQP5jLPDldpuk/dFupynpJkD8KSXt+tgLQP9OQF+Hx3uo/TPoG6yQ9nj9Acz7+AWTlP2xBZQ8Rm+Y/80ajab0cyj/Yyf8IO8HpPyTXAclJE9M/i00eLChc1z8pw24AXAXkP39Orua609I/cbrNqVmX7D9T6cXJj6HWPxCQMrkUeOE/BN7Q61L27z8kz5ZO9KPHP/9N7YeMxtQ/QsGMifsB2D+uMoNuFNTHP8zdMD4WCu4/H9E5uo2v7z8mGDTVMJ+/P3aUWoA97ds/FNR3Q09a2D878X5n1yzDP6WdfFnpRO4/icHs717Wwz9KQ3D++gHgP5rztsOoxuA/GFK0KqCX3T+e9RKcd3ruP9k0Olu8VLY/thIQJu7R1j/ZT0//cVbmP6v2omFIabQ/g80VoMRI7j+zq8iHpfrtP2g1V+1jxLs/vboRFiJBzz+ZT5gHyhfcPwck7o4ECr4/UEvV4CaI7D+T7MIdfOjTP3L3DdSOXd8/dp6G0fxc6j83y4W0spTeP95jvH0QpeA/LtCM02JExD9gKpW2kUbcP6qUDkd5VO4/uzmeJsKQzj+YhXuCMj7dP4RT4HetYOg/OjjT4Hqakj9b1e4+FlXtPzMKhvs5jN0/Gs7TLmlmoT9v63vYl9DlP0pQ+CaE1dg/BU9b33lZ7z9GU7qLIn3aPx5yUixEo8w/H6N4/bj+6z8hWZOwciG2PzabEuKCBMY/ucHgGgfT4z9A9nurRULJP6bkXte53Oo/AOZLFej96j9Y6Za9ElHfPwbep+9VXuE/hJD5pIAu0j8RrXitt9vuP+5RXCj2nuo/+U6QRDP90D9JAFontBPnP3EtlA/ZOdI/25wl6j166D//RUVSV2HrPy4Fp3vSBsI/BdZaU7jO5D8LpxHL8QnSP/AtUOkhLcY/c3MpFLZK4z+aODaVKA7uPxGZgkI1zKo//NMLcQEx5T+vvMwGiqLjP64JugabKrA/A76Ue6f74z/mfjdNRN/dP8Twe60jb+U/XkXgQnAi7D/JQ+ggmVXcPzGbCd/y9Ok/syQ4kQa6rj8DNLIxCgTXP6BfzAYwC+4/TOGJmlRvtj+eShWBG/XkP/6DbSkPGuE/0SuWnldSxT+ztFFRe+XsP+gNQ4YxneA//6Hjss4zyj8Fs1MsarPeP04XasIAVt4/bIVApKOD7z+s/EvkYFDbP38axiuJv+M/wJNPyiF+7j+qipRYP6G6P11a9hgZmds/0RDfkpKA4T+stRXD1xi6P/M/xrxpjO0/zBozYiUJ7j8p6CGF1DamPyY17jwwddg/dQ7J+NM91T9Dh8n0yoChP9hQa/S6A+0/PKUdvZp5yj8pVlWIVlLjP2AF7/46wOE/4b9NI0mK2z/JiOnWvkbtP6JJpAgqeYM/hO8jkmZL2T8qQ29QY7bhPxGAvNhXvHM/PWg2Makz6T8WWQe1H+7pP9ch6Hj+QsM/JGQH/xGr2j8Tz828yaDrP9n/pj7pe8s/83/z5oQ94T8nDFdh02vmPyXuaWSXmts/XJBuaKm31D89Z4aHiNrKP6FhWu2oGOg/vGpPuQrOzj8lWwNgYxrJP68He6PwDOM/4yROUZ3z4j91fwXn56DnP9Pe1OmL++0/gkvLQkrh0D/1CqKqkLzhPwm4tz6UytI/R8VoYBSi5T/6/dyMJYjtP2MOpj5mpdA/FyJSR05V6D8IhCIeZ/ntP5RXJN7PfM8/XwdBrnlG6T9xnAHMiQPHP92S6TEDL9A/bJ3F3ZMW7D8Gwz5ZAZ+8P2XoiT+10Oo/8Jv5vhkJ4j8z6s0izpLEP050Zk2miug/PcAO1ZV81D8U64sFhoC0PyrGFh13UOY/60RTsB+a1j//2IR0dD/lP3LAWxm0hNs/MZ8ICa/f0D8sh9S3V5rsPyi2Uj5OK9Y/sBXAEeky4T+WOWWMD+bWPwgeWK9IPtU/1KY2v+pN7z8DDzRba+buPxIOtwQ8kYQ/dEa6411U2T/QNgwo8VvKPwFuN4d2tYE/bDwHoFvu7z/JW9EO6dLXPwafgR6sA9c/Ep1SWcsN5j8tSo9F6OziP3a78+r1IeY/CO9t/Rbvnz/+HJm9xMPoP2aGiiRhwOM/f4/Ny60qjz9aq+F0IjjqPybeX48eNOc/OiOGJSQyxD8NZ5flswLnP+davUgI4eo/CSzwmT5MwD/hu78YC6npPzmNiiFZA+0/IznPEQ545T8WLf77KgPlPxnOIzZ5/tQ/MYW/Qx+L5T8uOiZXjKjWPwU0pEKtA94/5hKRZqZc3z8LdO6oBMrRP2+Ddeqfg+Y/xguG+xAh5z8fLAhvAUvLPz5qclvK+uY/G/S9B3TDxz+cWpfNjmvDPyzy5UWMT+c/PCHLTUuD0T99IjffB3HhP2zYyzdAM+A/SKH/LzEJyj+DkWzLFx/vP3Hay5dEQ7Y/kzdYErqK2D+C9y2mZ1raP3Snro8As7M/iWn1HNbi7z9y4YroQmXtPzx1AYLR0NA/jBBfCdmw2D+FtINj4dTWP1TbMGc6mNA/Cr+9FskS7z92eI0iZNvfP3fRyY9cZNU/Dpb/lm8V6z+gB1MhEiPZPyA6C7l5rOc/ME0/KAKX1D+EZyc68afaP577hFlYsug/DrHfUep/xD+mLJU6ysnpP4bXQWIQjuQ/iw1cY/SgsD+Zv53ZkHPsPx/Z6bne4cg/cmuQaKhnnj9o7fMjwm3mP2c4Hg2Mq8k/iP/f1Fdm6D8o17bSldLnPyMeXJK6uck/nlokoPRi5j8iMTo8dFixP97BFiL4S9I/urJ6nMWp5D+qFVFEcM6sPyCTZQrzuOY/LN48tMs15T/2zNI7BMzZP26+Hx1/vOI/3lVionn0zT9Bx6lnNRvVP3Sc2oBPn+Y/3Yh9NELw3D9M68ojTHfdP4/0uFiQ9OU/aqKNEEKO5T/QmQDcI2zhPyvr/kueOL8/m3vZvwqa6j9XY+ag2pvjP6Ij6fkAK7U/9OxmGwNQ5z/rbJtg90DqPyzVIlKkx6c/O743Y5DW5j9botyA37HoP1bBF6feRaI/H8gdVXdS7T8P3cCIBebuPym0WSnPt+U/9MkbmbxJ4j/kIxt4aOfUP5TxksToD+M/ncsapOvqxz/VsHQz6G7RP6/Ictlxg+o/MqMbq6J30T8krpta0InhP6DyhmLk/uY/B9g+v/kjzT9Y8HcrdqDRP+ieqZYpUtc/h7slIF1C1D+IfFPH34rmP2LEFisUj9I/R8MZImRD4z/Msaiqc8XjPwyjMcMkzOs/XpoWY9/v6D9rbwNxHaC/P/x1Cz/L3eU/Wufx6a665T9SChMSDOfEP3v/yK2ZFOI/XZ2cleHC7D/R0qsTyu+RP+QsS7SIZuY/RF3tbr0P7z+wKoWBRoKHP6XqGClB6+g/VBsFN3VE5D+3Mvn5ekHnP93e4q9dI9Q/YZcvITFS1D9fmYWfHXLvP6j5V/Xsfq0/1Ejzmc52yj+xBFX2HevYP80ubABqP60/JTNJnSQu7j9s84TdicPvPz5OLwbU7tE/4eC38Ra82j/BNwVzgnXgP0qpWqkHmdU/mAE7Sv7n7j+VLKPMS5vYPzqSQHxPLuA/OUvW6Uzj5T963emidmPXPwb2dUwRjOc/8Dqa6zdHyD+C1LreWr7WPxXrMu0UoeY/tO6wishczz8pdMmRrFjiP2rsMpkK/uw/1qiPYJ6Dqj82B4LtqQHsPyH4nKjEMs8/6Sgfs2Fxtj90BNvBL7blP+8osEeCg8w/UHW0cNOv7T9R+2lFQEflP7ebr00UR+w/bgzi8aEx7T+Bh1I3otylP2JRQV91ouE/J1szdxgA5j8wuBJz2YelP/qBfbo5JOY/wFIcO4zg6T/2xkE08c69P/0+DhgHjeU/blgzMfcg7j/fv2BGgoLBP1JHqYUbc+M/aInS7MNC5z9kBpII6vbmPxniAdups+A/jyPQO65y3j+qCJUbp+vlPy8yjEnHfdU/XX5/is6a2D9WjqskKBLnP2v1j0j1CNg/NvaYmIXP5T+jAGUIVy/nPzc3FuZtwLA/430kcD+q2j81M4fdJKDQP0jit6FF9sA/jktHd2xv5j/Ezhpv/j7HP5KvhVPJ8OU/853IgRc/6z83Wx/FC2XDP26oI2qQM+o//A3U2UteUz/P6DiBgC/CP47cxpiwwew/vpFkkpPXlT+kObxI0fTmP68s+DX9POc/8fL4KlrQxj+v0TgxcjrnPyrZZSxjFd4/TERiIVez0T9Jaic7EvTgP0yeZmLPUtw/OF4Em/fM6T8HTqAh15rRP/IyJC4NYdc/ChbfFhpm7j9z+e5vFfvCP99N7AGFhNE/DcfTHqXC2z/wrRomp/fIP9phueh5D+0/8wh1ekHr7z9bnP3aeoTCP6FTlCkS0tk/NVQAeVV/3D/q+LjXBq3DPwoobBtlju8/TPaWnuPd1j/fkP792a/dP8ct71S2BuQ/uzfMDhV/4j+mOmNQ6ZDqP/cwFH0E3sE/RPZ3tH0s5T9i5mlb1UHjP6vtqrstmbc/ZSDj+ASQ7T8xb4x54BXjP+LtROjJTbs/uCM1BxDJ1j+m5ukz93ziPzNS7QXAtbI/RQZ8Fojy6D9HfdwXWyvmPwOjO7WvjNY/DWyOWFfo4T9EXkAA4N3NP2pUIJNS2Oc/HDCu0Hhk5z+kts6E6KHVP/7Ltie9f9s/xLVpBQF64D8L/ah8n3vpPzr0cdAhsew/pBcCvS8piD9O5B9gvlTlP3CYzRkUjMQ/v5GuAulRpD9SdrqW4T3tP4+aUpwqLck/HpGZCv7n4j/ZH29oAJnuP+EI/kg3Jdk/EosJvZBW5D+EjbAG5jKnP/uKCryICts/HsxJNraq6T+mh7TTeRSWP4GjSUdmcuY/7jbhP2kz3T+VRmLzAUbUP31Ju7B40O8/u1L00orG3j8ghg2e/YjFP/vx0up64t0/jQf15lft3z8t5PKMaa3rP9l/RP8kW+A/zUQRuap01z9E6PI+6+vsP4uXfW44h70/uA1Jyr6R4j/Rx1Q9cArbP1cdEKi1GL4/W1oeSRBf7j9qx8xKHdntP9TjOwVcw7Q/P+BjJHtO5D+R+mFMTMXJP84i9IwRY7E/unJwTt/67j/UHdLzTBTZP3Wh4ZZzX98/UnyNMRoP5j/0GM2GCEfHP3g08usO9O4/xGTozdOlzz/QJ6hHCnLQPzJBEXOfsuA/4MFjc9lDxD/BdICuPWPuP46Bo3LHPOc/DkrJlgrN6z84V2sKdNTiP9wx7c8tfso/8kMpRngD4D/fJkykLxHoPyduVceFNc0/su2L2O043D/iTp6CVAHcP3ygvNmVbeg/k7a2lDBV6T9JdXfkwV/JPxifB/lYkuo/gRWkWDq/2z8N9Ui7b0vCP1q2Vcfc4+s/64WPvEdQ5j++IzkJyV2sP+FkDqJ+yuE/Ibu+U8KA2z+6cd3O4eGYP3V1IVWtBuo/W9qbFf7r3z8sBJIChnTgP2xDkFzQRuU/PLntgCJjzD9c1l45yVvtP5H6NC8l1pw//6M1M1Op2z+BooW5rl/iPyWIP4qNvZE/ZeX0N4dz7j8=",
          "dtype": "f8"
         },
         "y": {
          "bdata": "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",
          "dtype": "f8"
         },
         "z": {
          "bdata": "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",
          "dtype": "f8"
         }
        }
       ],
       "layout": {
        "annotations": [
         {
          "font": {
           "size": 16
          },
          "showarrow": false,
          "text": "qNParEGO",
          "x": 0.225,
          "xanchor": "center",
          "xref": "paper",
          "y": 1,
          "yanchor": "bottom",
          "yref": "paper"
         },
         {
          "font": {
           "size": 16
          },
          "showarrow": false,
          "text": "qEHVI",
          "x": 0.775,
          "xanchor": "center",
          "xref": "paper",
          "y": 1,
          "yanchor": "bottom",
          "yref": "paper"
         }
        ],
        "height": 600,
        "scene": {
         "camera": {
          "eye": {
           "x": 1.5,
           "y": 1.5,
           "z": 0.6
          }
         },
         "domain": {
          "x": [
           0,
           0.45
          ],
          "y": [
           0,
           1
          ]
         },
         "xaxis": {
          "title": {
           "text": "Objective 1"
          }
         },
         "yaxis": {
          "title": {
           "text": "Objective 2"
          }
         },
         "zaxis": {
          "title": {
           "text": "Objective 3"
          }
         }
        },
        "scene2": {
         "camera": {
          "eye": {
           "x": 1.5,
           "y": 1.5,
           "z": 0.6
          }
         },
         "domain": {
          "x": [
           0.55,
           1
          ],
          "y": [
           0,
           1
          ]
         },
         "xaxis": {
          "title": {
           "text": "Objective 1"
          }
         },
         "yaxis": {
          "title": {
           "text": "Objective 2"
          }
         },
         "zaxis": {
          "title": {
           "text": "Objective 3"
          }
         }
        },
        "showlegend": false,
        "template": {
         "data": {
          "bar": [
           {
            "error_x": {
             "color": "#2a3f5f"
            },
            "error_y": {
             "color": "#2a3f5f"
            },
            "marker": {
             "line": {
              "color": "#E5ECF6",
              "width": 0.5
             },
             "pattern": {
              "fillmode": "overlay",
              "size": 10,
              "solidity": 0.2
             }
            },
            "type": "bar"
           }
          ],
          "barpolar": [
           {
            "marker": {
             "line": {
              "color": "#E5ECF6",
              "width": 0.5
             },
             "pattern": {
              "fillmode": "overlay",
              "size": 10,
              "solidity": 0.2
             }
            },
            "type": "barpolar"
           }
          ],
          "carpet": [
           {
            "aaxis": {
             "endlinecolor": "#2a3f5f",
             "gridcolor": "white",
             "linecolor": "white",
             "minorgridcolor": "white",
             "startlinecolor": "#2a3f5f"
            },
            "baxis": {
             "endlinecolor": "#2a3f5f",
             "gridcolor": "white",
             "linecolor": "white",
             "minorgridcolor": "white",
             "startlinecolor": "#2a3f5f"
            },
            "type": "carpet"
           }
          ],
          "choropleth": [
           {
            "colorbar": {
             "outlinewidth": 0,
             "ticks": ""
            },
            "type": "choropleth"
           }
          ],
          "contour": [
           {
            "colorbar": {
             "outlinewidth": 0,
             "ticks": ""
            },
            "colorscale": [
             [
              0,
              "#0d0887"
             ],
             [
              0.1111111111111111,
              "#46039f"
             ],
             [
              0.2222222222222222,
              "#7201a8"
             ],
             [
              0.3333333333333333,
              "#9c179e"
             ],
             [
              0.4444444444444444,
              "#bd3786"
             ],
             [
              0.5555555555555556,
              "#d8576b"
             ],
             [
              0.6666666666666666,
              "#ed7953"
             ],
             [
              0.7777777777777778,
              "#fb9f3a"
             ],
             [
              0.8888888888888888,
              "#fdca26"
             ],
             [
              1,
              "#f0f921"
             ]
            ],
            "type": "contour"
           }
          ],
          "contourcarpet": [
           {
            "colorbar": {
             "outlinewidth": 0,
             "ticks": ""
            },
            "type": "contourcarpet"
           }
          ],
          "heatmap": [
           {
            "colorbar": {
             "outlinewidth": 0,
             "ticks": ""
            },
            "colorscale": [
             [
              0,
              "#0d0887"
             ],
             [
              0.1111111111111111,
              "#46039f"
             ],
             [
              0.2222222222222222,
              "#7201a8"
             ],
             [
              0.3333333333333333,
              "#9c179e"
             ],
             [
              0.4444444444444444,
              "#bd3786"
             ],
             [
              0.5555555555555556,
              "#d8576b"
             ],
             [
              0.6666666666666666,
              "#ed7953"
             ],
             [
              0.7777777777777778,
              "#fb9f3a"
             ],
             [
              0.8888888888888888,
              "#fdca26"
             ],
             [
              1,
              "#f0f921"
             ]
            ],
            "type": "heatmap"
           }
          ],
          "histogram": [
           {
            "marker": {
             "pattern": {
              "fillmode": "overlay",
              "size": 10,
              "solidity": 0.2
             }
            },
            "type": "histogram"
           }
          ],
          "histogram2d": [
           {
            "colorbar": {
             "outlinewidth": 0,
             "ticks": ""
            },
            "colorscale": [
             [
              0,
              "#0d0887"
             ],
             [
              0.1111111111111111,
              "#46039f"
             ],
             [
              0.2222222222222222,
              "#7201a8"
             ],
             [
              0.3333333333333333,
              "#9c179e"
             ],
             [
              0.4444444444444444,
              "#bd3786"
             ],
             [
              0.5555555555555556,
              "#d8576b"
             ],
             [
              0.6666666666666666,
              "#ed7953"
             ],
             [
              0.7777777777777778,
              "#fb9f3a"
             ],
             [
              0.8888888888888888,
              "#fdca26"
             ],
             [
              1,
              "#f0f921"
             ]
            ],
            "type": "histogram2d"
           }
          ],
          "histogram2dcontour": [
           {
            "colorbar": {
             "outlinewidth": 0,
             "ticks": ""
            },
            "colorscale": [
             [
              0,
              "#0d0887"
             ],
             [
              0.1111111111111111,
              "#46039f"
             ],
             [
              0.2222222222222222,
              "#7201a8"
             ],
             [
              0.3333333333333333,
              "#9c179e"
             ],
             [
              0.4444444444444444,
              "#bd3786"
             ],
             [
              0.5555555555555556,
              "#d8576b"
             ],
             [
              0.6666666666666666,
              "#ed7953"
             ],
             [
              0.7777777777777778,
              "#fb9f3a"
             ],
             [
              0.8888888888888888,
              "#fdca26"
             ],
             [
              1,
              "#f0f921"
             ]
            ],
            "type": "histogram2dcontour"
           }
          ],
          "mesh3d": [
           {
            "colorbar": {
             "outlinewidth": 0,
             "ticks": ""
            },
            "type": "mesh3d"
           }
          ],
          "parcoords": [
           {
            "line": {
             "colorbar": {
              "outlinewidth": 0,
              "ticks": ""
             }
            },
            "type": "parcoords"
           }
          ],
          "pie": [
           {
            "automargin": true,
            "type": "pie"
           }
          ],
          "scatter": [
           {
            "fillpattern": {
             "fillmode": "overlay",
             "size": 10,
             "solidity": 0.2
            },
            "type": "scatter"
           }
          ],
          "scatter3d": [
           {
            "line": {
             "colorbar": {
              "outlinewidth": 0,
              "ticks": ""
             }
            },
            "marker": {
             "colorbar": {
              "outlinewidth": 0,
              "ticks": ""
             }
            },
            "type": "scatter3d"
           }
          ],
          "scattercarpet": [
           {
            "marker": {
             "colorbar": {
              "outlinewidth": 0,
              "ticks": ""
             }
            },
            "type": "scattercarpet"
           }
          ],
          "scattergeo": [
           {
            "marker": {
             "colorbar": {
              "outlinewidth": 0,
              "ticks": ""
             }
            },
            "type": "scattergeo"
           }
          ],
          "scattergl": [
           {
            "marker": {
             "colorbar": {
              "outlinewidth": 0,
              "ticks": ""
             }
            },
            "type": "scattergl"
           }
          ],
          "scattermap": [
           {
            "marker": {
             "colorbar": {
              "outlinewidth": 0,
              "ticks": ""
             }
            },
            "type": "scattermap"
           }
          ],
          "scattermapbox": [
           {
            "marker": {
             "colorbar": {
              "outlinewidth": 0,
              "ticks": ""
             }
            },
            "type": "scattermapbox"
           }
          ],
          "scatterpolar": [
           {
            "marker": {
             "colorbar": {
              "outlinewidth": 0,
              "ticks": ""
             }
            },
            "type": "scatterpolar"
           }
          ],
          "scatterpolargl": [
           {
            "marker": {
             "colorbar": {
              "outlinewidth": 0,
              "ticks": ""
             }
            },
            "type": "scatterpolargl"
           }
          ],
          "scatterternary": [
           {
            "marker": {
             "colorbar": {
              "outlinewidth": 0,
              "ticks": ""
             }
            },
            "type": "scatterternary"
           }
          ],
          "surface": [
           {
            "colorbar": {
             "outlinewidth": 0,
             "ticks": ""
            },
            "colorscale": [
             [
              0,
              "#0d0887"
             ],
             [
              0.1111111111111111,
              "#46039f"
             ],
             [
              0.2222222222222222,
              "#7201a8"
             ],
             [
              0.3333333333333333,
              "#9c179e"
             ],
             [
              0.4444444444444444,
              "#bd3786"
             ],
             [
              0.5555555555555556,
              "#d8576b"
             ],
             [
              0.6666666666666666,
              "#ed7953"
             ],
             [
              0.7777777777777778,
              "#fb9f3a"
             ],
             [
              0.8888888888888888,
              "#fdca26"
             ],
             [
              1,
              "#f0f921"
             ]
            ],
            "type": "surface"
           }
          ],
          "table": [
           {
            "cells": {
             "fill": {
              "color": "#EBF0F8"
             },
             "line": {
              "color": "white"
             }
            },
            "header": {
             "fill": {
              "color": "#C8D4E3"
             },
             "line": {
              "color": "white"
             }
            },
            "type": "table"
           }
          ]
         },
         "layout": {
          "annotationdefaults": {
           "arrowcolor": "#2a3f5f",
           "arrowhead": 0,
           "arrowwidth": 1
          },
          "autotypenumbers": "strict",
          "coloraxis": {
           "colorbar": {
            "outlinewidth": 0,
            "ticks": ""
           }
          },
          "colorscale": {
           "diverging": [
            [
             0,
             "#8e0152"
            ],
            [
             0.1,
             "#c51b7d"
            ],
            [
             0.2,
             "#de77ae"
            ],
            [
             0.3,
             "#f1b6da"
            ],
            [
             0.4,
             "#fde0ef"
            ],
            [
             0.5,
             "#f7f7f7"
            ],
            [
             0.6,
             "#e6f5d0"
            ],
            [
             0.7,
             "#b8e186"
            ],
            [
             0.8,
             "#7fbc41"
            ],
            [
             0.9,
             "#4d9221"
            ],
            [
             1,
             "#276419"
            ]
           ],
           "sequential": [
            [
             0,
             "#0d0887"
            ],
            [
             0.1111111111111111,
             "#46039f"
            ],
            [
             0.2222222222222222,
             "#7201a8"
            ],
            [
             0.3333333333333333,
             "#9c179e"
            ],
            [
             0.4444444444444444,
             "#bd3786"
            ],
            [
             0.5555555555555556,
             "#d8576b"
            ],
            [
             0.6666666666666666,
             "#ed7953"
            ],
            [
             0.7777777777777778,
             "#fb9f3a"
            ],
            [
             0.8888888888888888,
             "#fdca26"
            ],
            [
             1,
             "#f0f921"
            ]
           ],
           "sequentialminus": [
            [
             0,
             "#0d0887"
            ],
            [
             0.1111111111111111,
             "#46039f"
            ],
            [
             0.2222222222222222,
             "#7201a8"
            ],
            [
             0.3333333333333333,
             "#9c179e"
            ],
            [
             0.4444444444444444,
             "#bd3786"
            ],
            [
             0.5555555555555556,
             "#d8576b"
            ],
            [
             0.6666666666666666,
             "#ed7953"
            ],
            [
             0.7777777777777778,
             "#fb9f3a"
            ],
            [
             0.8888888888888888,
             "#fdca26"
            ],
            [
             1,
             "#f0f921"
            ]
           ]
          },
          "colorway": [
           "#636efa",
           "#EF553B",
           "#00cc96",
           "#ab63fa",
           "#FFA15A",
           "#19d3f3",
           "#FF6692",
           "#B6E880",
           "#FF97FF",
           "#FECB52"
          ],
          "font": {
           "color": "#2a3f5f"
          },
          "geo": {
           "bgcolor": "white",
           "lakecolor": "white",
           "landcolor": "#E5ECF6",
           "showlakes": true,
           "showland": true,
           "subunitcolor": "white"
          },
          "hoverlabel": {
           "align": "left"
          },
          "hovermode": "closest",
          "mapbox": {
           "style": "light"
          },
          "paper_bgcolor": "white",
          "plot_bgcolor": "#E5ECF6",
          "polar": {
           "angularaxis": {
            "gridcolor": "white",
            "linecolor": "white",
            "ticks": ""
           },
           "bgcolor": "#E5ECF6",
           "radialaxis": {
            "gridcolor": "white",
            "linecolor": "white",
            "ticks": ""
           }
          },
          "scene": {
           "xaxis": {
            "backgroundcolor": "#E5ECF6",
            "gridcolor": "white",
            "gridwidth": 2,
            "linecolor": "white",
            "showbackground": true,
            "ticks": "",
            "zerolinecolor": "white"
           },
           "yaxis": {
            "backgroundcolor": "#E5ECF6",
            "gridcolor": "white",
            "gridwidth": 2,
            "linecolor": "white",
            "showbackground": true,
            "ticks": "",
            "zerolinecolor": "white"
           },
           "zaxis": {
            "backgroundcolor": "#E5ECF6",
            "gridcolor": "white",
            "gridwidth": 2,
            "linecolor": "white",
            "showbackground": true,
            "ticks": "",
            "zerolinecolor": "white"
           }
          },
          "shapedefaults": {
           "line": {
            "color": "#2a3f5f"
           }
          },
          "ternary": {
           "aaxis": {
            "gridcolor": "white",
            "linecolor": "white",
            "ticks": ""
           },
           "baxis": {
            "gridcolor": "white",
            "linecolor": "white",
            "ticks": ""
           },
           "bgcolor": "#E5ECF6",
           "caxis": {
            "gridcolor": "white",
            "linecolor": "white",
            "ticks": ""
           }
          },
          "title": {
           "x": 0.05
          },
          "xaxis": {
           "automargin": true,
           "gridcolor": "white",
           "linecolor": "white",
           "ticks": "",
           "title": {
            "standoff": 15
           },
           "zerolinecolor": "white",
           "zerolinewidth": 2
          },
          "yaxis": {
           "automargin": true,
           "gridcolor": "white",
           "linecolor": "white",
           "ticks": "",
           "title": {
            "standoff": 15
           },
           "zerolinecolor": "white",
           "zerolinewidth": 2
          }
         }
        },
        "title": {
         "text": "All 200 Points After Initial Training"
        },
        "width": 1200
       }
      }
     },
     "metadata": {},
     "output_type": "display_data"
    }
   ],
   "source": [
    "# Plot ALL points after initial training\n",
    "fig = make_subplots(\n",
    "    rows=1, cols=2,\n",
    "    specs=[[{'type': 'scatter3d'}, {'type': 'scatter3d'}]],\n",
    "    subplot_titles=(\"qNParEGO\", \"qEHVI\")\n",
    ")\n",
    "\n",
    "batch_number = torch.cat([\n",
    "    torch.zeros(n_initial),\n",
    "    torch.arange(1, N_BATCH + 1).repeat(BATCH_SIZE, 1).t().reshape(-1),\n",
    "]).numpy()\n",
    "\n",
    "start_idx = n_initial\n",
    "end_idx = len(train_obj_true_qparego)\n",
    "\n",
    "alg_data = [\n",
    "    (-train_obj_true_qparego[start_idx:end_idx], \"qNParEGO\"),\n",
    "    (-train_obj_true_qehvi[start_idx:end_idx], \"qEHVI\"),\n",
    "]\n",
    "\n",
    "for col, (train_obj, name) in enumerate(alg_data, 1):\n",
    "    obj_np = train_obj.cpu().numpy()\n",
    "\n",
    "    scatter = go.Scatter3d(\n",
    "        x=obj_np[:, 0], y=obj_np[:, 1], z=obj_np[:, 2],\n",
    "        mode='markers',\n",
    "        marker=dict(\n",
    "            size=4,\n",
    "            color=batch_number[start_idx:end_idx],\n",
    "            colorscale='Viridis',\n",
    "            opacity=0.8,\n",
    "            colorbar=dict(title='Iteration') if col == 2 else None\n",
    "        ),\n",
    "        name=name,\n",
    "        hovertemplate=\"<b>Obj1</b>: %{x:.2f}<br><b>Obj2</b>: %{y:.2f}<br><b>Obj3</b>: %{z:.2f}<extra></extra>\"\n",
    "    )\n",
    "\n",
    "    fig.add_trace(scatter, row=1, col=col)\n",
    "    fig.add_trace(pf_surface, row=1, col=col)\n",
    "\n",
    "# Update layout\n",
    "fig.update_layout(\n",
    "    height=600,\n",
    "    width=1200,\n",
    "    scene1=dict(\n",
    "        xaxis_title='Objective 1',\n",
    "        yaxis_title='Objective 2',\n",
    "        zaxis_title='Objective 3',\n",
    "        camera=dict(eye=dict(x=1.5, y=1.5, z=0.6))\n",
    "    ),\n",
    "    scene2=dict(\n",
    "        xaxis_title='Objective 1',\n",
    "        yaxis_title='Objective 2',\n",
    "        zaxis_title='Objective 3',\n",
    "        camera=dict(eye=dict(x=1.5, y=1.5, z=0.6))\n",
    "    ),\n",
    "    showlegend=False,\n",
    "    title_text=f'All {end_idx - start_idx} Points After Initial Training'\n",
    ")\n",
    "\n",
    "fig.show()\n",
    "\n",
    "\n",
    "pio.write_html(fig, 'DTLZ4a candidates.html')"
   ]
  },
  {
   "cell_type": "code",
   "execution_count": 26,
   "metadata": {
    "colab": {
     "base_uri": "https://localhost:8080/"
    },
    "executionInfo": {
     "elapsed": 12,
     "status": "ok",
     "timestamp": 1747812625817,
     "user": {
      "displayName": "Deepak L",
      "userId": "17343563887203968144"
     },
     "user_tz": -330
    },
    "id": "9LzcVovZBdhv",
    "outputId": "188a701f-af33-433b-a1ca-0acd40260305",
    "scrolled": true
   },
   "outputs": [
    {
     "name": "stdout",
     "output_type": "stream",
     "text": [
      "ParEGO data saved to 'DTLZ4a (8-3) qNParEGO_data.csv'\n",
      "EHVI data saved to 'DTLZ4a (8-3) qEHVI_data.csv'\n"
     ]
    }
   ],
   "source": [
    "import pandas as pd\n",
    "\n",
    "# Convert PyTorch tensors to numpy arrays\n",
    "train_x_qparego_np = train_x_qparego.cpu().numpy()\n",
    "train_obj_qparego_np = train_obj_qparego.cpu().numpy()\n",
    "train_x_qehvi_np = train_x_qehvi.cpu().numpy()\n",
    "train_obj_qehvi_np = train_obj_qehvi.cpu().numpy()\n",
    "\n",
    "# Concatenate the input dimensions and objectives horizontally\n",
    "qparego_data = np.hstack([train_x_qparego_np, train_obj_qparego_np])\n",
    "qehvi_data = np.hstack([train_x_qehvi_np, train_obj_qehvi_np])\n",
    "\n",
    "# Create column headers for better readability\n",
    "input_dim = train_x_qparego.shape[1]\n",
    "obj_dim = train_obj_qparego.shape[1]\n",
    "column_names = [f\"dim{i+1}\" for i in range(input_dim)] + [f\"obj{i+1}\" for i in range(obj_dim)]\n",
    "\n",
    "# Create DataFrames with the combined data and column names\n",
    "qparego_df = pd.DataFrame(qparego_data, columns=column_names)\n",
    "qehvi_df = pd.DataFrame(qehvi_data, columns=column_names)\n",
    "\n",
    "# Save to CSV files\n",
    "qparego_df.to_csv('DTLZ4a (8-3) qNParEGO_data.csv', index=False, mode='w')\n",
    "qehvi_df.to_csv('DTLZ4a (8-3) qEHVI_data.csv', index=False, mode='w')\n",
    "\n",
    "print(\"ParEGO data saved to 'DTLZ4a (8-3) qNParEGO_data.csv'\")\n",
    "print(\"EHVI data saved to 'DTLZ4a (8-3) qEHVI_data.csv'\")\n"
   ]
  }
 ],
 "metadata": {
  "accelerator": "GPU",
  "colab": {
   "gpuType": "T4",
   "provenance": []
  },
  "kernelspec": {
   "display_name": "Python 3 (ipykernel)",
   "language": "python",
   "name": "python3"
  },
  "language_info": {
   "codemirror_mode": {
    "name": "ipython",
    "version": 3
   },
   "file_extension": ".py",
   "mimetype": "text/x-python",
   "name": "python",
   "nbconvert_exporter": "python",
   "pygments_lexer": "ipython3",
   "version": "3.12.9"
  }
 },
 "nbformat": 4,
 "nbformat_minor": 4
}
