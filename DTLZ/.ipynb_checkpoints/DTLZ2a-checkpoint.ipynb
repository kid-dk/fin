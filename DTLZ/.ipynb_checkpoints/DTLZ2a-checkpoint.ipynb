{
 "cells": [
  {
   "cell_type": "code",
   "execution_count": 1,
   "metadata": {
    "colab": {
     "base_uri": "https://localhost:8080/"
    },
    "executionInfo": {
     "elapsed": 1743,
     "status": "ok",
     "timestamp": 1747910152328,
     "user": {
      "displayName": "Deepak L",
      "userId": "17343563887203968144"
     },
     "user_tz": -330
    },
    "id": "6ks8T9wDIUS_",
    "outputId": "553861f1-74ef-44da-a95b-32a4d73df082"
   },
   "outputs": [],
   "source": [
    "# from google.colab import drive\n",
    "import os\n",
    "import pandas as pd\n",
    "import numpy as np # Import numpy\n",
    "\n",
    "# drive.mount('/gdrive')\n",
    "\n",
    "# # Define the path to your \"flick\" folder\n",
    "# folder_path = '/gdrive/MyDrive/code' # Replace 'MyDrive' with your actual Drive folder name if different\n",
    "\n",
    "# # Create the folder if it doesn't exist\n",
    "# if not os.path.exists(folder_path):\n",
    "#     os.makedirs(folder_path)\n",
    "\n",
    "# # Change the current working directory to the \"flick\" folder\n",
    "# os.chdir(folder_path)\n",
    "\n",
    "# print(f\"Current working directory changed to: {os.getcwd()}\")"
   ]
  },
  {
   "cell_type": "code",
   "execution_count": 2,
   "metadata": {
    "id": "YptqQVwCzWX3"
   },
   "outputs": [],
   "source": [
    "import os, torch, gc\n",
    "os.environ[\"PYTORCH_CUDA_ALLOC_CONF\"] = \"expandable_segments:True\"\n",
    "torch.set_default_dtype(torch.float32)"
   ]
  },
  {
   "cell_type": "markdown",
   "metadata": {
    "id": "JiijYn5qBdhm"
   },
   "source": [
    "## Noisy, Parallel, Multi-Objective BO in BoTorch with qEHVI, qNEHVI, and qNParEGO\n",
    "\n",
    "In this tutorial, we illustrate how to implement a simple multi-objective (MO) Bayesian Optimization (BO) closed loop in BoTorch.\n",
    "\n",
    "We use the parallel ParEGO ($q$ParEGO), parallel Expected Hypervolume Improvement ($q$EHVI), and parallel Noisy Expected Hypervolume Improvement ($q$NEHVI) acquisition functions to optimize a synthetic ZDT2 problem test function with additive Gaussian observation noise over a 30-parameter search space [0,1]^30. See `botorch/test_functions/multi_objective.py` for details on ZDT2.\n",
    "\n",
    "Since botorch assumes a maximization of all objectives, we seek to find the Pareto frontier, the set of optimal trade-offs where improving one metric means deteriorating another.\n",
    "\n",
    "**For batch optimization (or in noisy settings), we strongly recommend using $q$NEHVI rather than $q$EHVI because it is far more efficient than $q$EHVI and mathematically equivalent in the noiseless setting.**"
   ]
  },
  {
   "cell_type": "markdown",
   "metadata": {
    "id": "8_WZ6HzLBdho"
   },
   "source": [
    "### Set dtype and device\n",
    "Note: $q$EHVI and $q$NEHVI aggressively exploit parallel hardware and are both much faster when run on a GPU. See [1, 2] for details."
   ]
  },
  {
   "cell_type": "code",
   "execution_count": 3,
   "metadata": {
    "colab": {
     "base_uri": "https://localhost:8080/"
    },
    "executionInfo": {
     "elapsed": 2690,
     "status": "ok",
     "timestamp": 1747910155016,
     "user": {
      "displayName": "Deepak L",
      "userId": "17343563887203968144"
     },
     "user_tz": -330
    },
    "id": "lSxpp8YmBdho",
    "outputId": "504265c7-c50a-4e24-8ac8-ee888317cadb"
   },
   "outputs": [],
   "source": [
    "# # Install dependencies if we are running in colab\n",
    "# import sys\n",
    "# if 'google.colab' in sys.modules:\n",
    "#     %pip install botorch"
   ]
  },
  {
   "cell_type": "code",
   "execution_count": 4,
   "metadata": {
    "id": "iNZ_9z01Bdhp"
   },
   "outputs": [],
   "source": [
    "import os\n",
    "import torch\n",
    "torch.manual_seed(80)\n",
    "\n",
    "\n",
    "tkwargs = {\n",
    "    \"dtype\": torch.double,\n",
    "    \"device\": torch.device(\"cuda\" if torch.cuda.is_available() else \"cpu\"),\n",
    "}\n",
    "SMOKE_TEST = os.environ.get(\"SMOKE_TEST\")"
   ]
  },
  {
   "cell_type": "markdown",
   "metadata": {
    "id": "B1v64d4oBdhq"
   },
   "source": [
    "### Problem setup\n"
   ]
  },
  {
   "cell_type": "code",
   "execution_count": 5,
   "metadata": {
    "id": "VxqCnTGMBdhq"
   },
   "outputs": [],
   "source": [
    "# from botorch.test_functions.multi_objective import DTLZ1\n",
    "\n",
    "\n",
    "# problem = DTLZ1(dim=6, num_objectives=3, negate=True).to(**tkwargs)"
   ]
  },
  {
   "cell_type": "code",
   "execution_count": 6,
   "metadata": {
    "id": "6JGD2OZnBgNx"
   },
   "outputs": [],
   "source": [
    "import math\n",
    "import torch\n",
    "from torch import Tensor\n",
    "from typing import Optional\n",
    "from scipy.special import gamma\n",
    "from botorch.test_functions.multi_objective import DTLZ\n",
    "from botorch.utils.sampling import sample_simplex, sample_hypersphere\n",
    "\n",
    "\n",
    "class DTLZ2a(DTLZ):\n",
    "    r\"\"\"DTLZ2a: DTLZ2 problem with 3 objectives and 8 variables.\"\"\"\n",
    "    _ref_val = 1.1\n",
    "\n",
    "    def __init__(self, noise_std: Optional[float] = None, negate: bool = False) -> None:\n",
    "        super().__init__(dim=8, num_objectives=3, noise_std=noise_std, negate=negate)\n",
    "\n",
    "    def _evaluate_true(self, X: Tensor) -> Tensor:\n",
    "        X_m = X[..., -self.k :]\n",
    "        g_X = (X_m - 0.5).pow(2).sum(dim=-1)\n",
    "        g_X_plus1 = 1 + g_X\n",
    "        fs = []\n",
    "        pi_over_2 = math.pi / 2\n",
    "        for i in range(self.num_objectives):\n",
    "            idx = self.num_objectives - 1 - i\n",
    "            f_i = g_X_plus1.clone()\n",
    "            f_i *= torch.cos(X[..., :idx] * pi_over_2).prod(dim=-1)\n",
    "            if i > 0:\n",
    "                f_i *= torch.sin(X[..., idx] * pi_over_2)\n",
    "            fs.append(f_i)\n",
    "        return torch.stack(fs, dim=-1)\n",
    "\n",
    "    def evaluate_true(self, X: Tensor) -> Tensor:\n",
    "        return self._evaluate_true(X)\n",
    "\n",
    "    @property\n",
    "    def _max_hv(self) -> float:\n",
    "        hypercube_vol = self._ref_val ** self.num_objectives\n",
    "        pos_hypersphere_vol = (\n",
    "            math.pi ** (self.num_objectives / 2) / gamma(self.num_objectives / 2 + 1) / 2 ** self.num_objectives\n",
    "        )\n",
    "        return hypercube_vol - pos_hypersphere_vol\n",
    "\n",
    "    def gen_pareto_front(self, n: int) -> Tensor:\n",
    "        f_X = sample_hypersphere(\n",
    "            n=n,\n",
    "            d=self.num_objectives,\n",
    "            dtype=self.ref_point.dtype,\n",
    "            device=self.ref_point.device,\n",
    "            qmc=True,\n",
    "        ).abs()\n",
    "        if self.negate:\n",
    "            f_X *= -1\n",
    "        return f_X\n",
    "\n",
    "problem = DTLZ2a(negate=True).to(**tkwargs)"
   ]
  },
  {
   "cell_type": "code",
   "execution_count": 7,
   "metadata": {
    "colab": {
     "base_uri": "https://localhost:8080/"
    },
    "executionInfo": {
     "elapsed": 6,
     "status": "ok",
     "timestamp": 1747910155068,
     "user": {
      "displayName": "Deepak L",
      "userId": "17343563887203968144"
     },
     "user_tz": -330
    },
    "id": "-WaIKxgPBdhq",
    "outputId": "36d4007d-1787-4312-d322-3bb363fab1b0"
   },
   "outputs": [
    {
     "name": "stdout",
     "output_type": "stream",
     "text": [
      "tensor([-1.1000, -1.1000, -1.1000], dtype=torch.float64)\n",
      "0.8074012244017015\n",
      "tensor([[0., 0., 0., 0., 0., 0., 0., 0.],\n",
      "        [1., 1., 1., 1., 1., 1., 1., 1.]], dtype=torch.float64)\n"
     ]
    }
   ],
   "source": [
    "print(problem.ref_point, end=\"\\n\")\n",
    "print(problem.max_hv, end=\"\\n\")\n",
    "print(problem.bounds, end=\"\\n\")"
   ]
  },
  {
   "cell_type": "markdown",
   "metadata": {
    "id": "I31BWTdlBdhr"
   },
   "source": [
    "#### Model initialization\n",
    "\n",
    "We use a list of `SingleTaskGP`s to model the two objectives with known noise variances. If no noise variances were provided, `SingleTaskGP` would infer (homoskedastic) noise levels instead.\n",
    "\n",
    "The models are initialized with $2(d+1)=6$ points drawn randomly from $[0,1]^2$."
   ]
  },
  {
   "cell_type": "code",
   "execution_count": 8,
   "metadata": {
    "id": "hIkSW6KWBdhr"
   },
   "outputs": [],
   "source": [
    "from botorch.models.gp_regression import SingleTaskGP\n",
    "from botorch.models.model_list_gp_regression import ModelListGP\n",
    "from botorch.models.transforms.outcome import Standardize\n",
    "from gpytorch.mlls.sum_marginal_log_likelihood import SumMarginalLogLikelihood\n",
    "from botorch.utils.transforms import unnormalize, normalize\n",
    "from botorch.utils.sampling import draw_sobol_samples\n",
    "\n",
    "n_initial = 11 * problem.dim - 1\n",
    "\n",
    "def generate_initial_data(n=n_initial):\n",
    "    # generate training data\n",
    "    train_x = draw_sobol_samples(bounds=problem.bounds, n=n, q=1).squeeze(1)\n",
    "    train_obj_true = problem(train_x)\n",
    "    train_obj = train_obj_true\n",
    "    return train_x, train_obj, train_obj_true\n",
    "\n",
    "\n",
    "\n",
    "from botorch.models.gp_regression import SingleTaskGP\n",
    "from gpytorch.mlls.exact_marginal_log_likelihood import ExactMarginalLogLikelihood\n",
    "\n",
    "def initialize_model(train_x, train_obj):\n",
    "    train_x = normalize(train_x, problem.bounds)\n",
    "    train_y = train_obj  # Shape: [n, 2]\n",
    "\n",
    "    model = SingleTaskGP(\n",
    "        train_x,\n",
    "        train_y,\n",
    "        outcome_transform=Standardize(m=3),  # Standardize both objectives\n",
    "    )\n",
    "    mll = ExactMarginalLogLikelihood(model.likelihood, model)\n",
    "    return mll, model"
   ]
  },
  {
   "cell_type": "markdown",
   "metadata": {
    "id": "Y-OuG7D3Bdhs"
   },
   "source": [
    "#### Define a helper functions that performs the essential BO step for $q$EHVI and $q$NEHVI\n",
    "The helper function below initializes the $q$EHVI acquisition function, optimizes it, and returns the batch $\\{x_1, x_2, \\ldots x_q\\}$ along with the observed function values.\n",
    "\n",
    "For this example, we'll use a relatively small batch of optimization ($q=4$). For batch optimization ($q>1$), passing the keyword argument `sequential=True` to the function `optimize_acqf`specifies that candidates should be optimized in a sequential greedy fashion (see [1] for details why this is important). A simple initialization heuristic is used to select the 10 restart initial locations from a set of 512 random points. Multi-start optimization of the acquisition function is performed using LBFGS-B with exact gradients computed via auto-differentiation.\n",
    "\n",
    "**Reference Point**\n",
    "\n",
    "$q$EHVI requires specifying a reference point, which is the lower bound on the objectives used for computing hypervolume. In this tutorial, we assume the reference point is known. In practice the reference point can be set 1) using domain knowledge to be slightly worse than the lower bound of objective values, where the lower bound is the minimum acceptable value of interest for each objective, or 2) using a dynamic reference point selection strategy.\n",
    "\n",
    "**Partitioning the Non-dominated Space into disjoint rectangles**\n",
    "\n",
    "$q$EHVI requires partitioning the non-dominated space into disjoint rectangles (see [1] for details).\n",
    "\n",
    "*Note:* `FastNondominatedPartitioning` *will be very slow when 1) there are a lot of points on the pareto frontier and 2) there are >5 objectives.*"
   ]
  },
  {
   "cell_type": "code",
   "execution_count": 9,
   "metadata": {
    "id": "zSOEeo1bBdhs"
   },
   "outputs": [],
   "source": [
    "from botorch.optim.optimize import optimize_acqf, optimize_acqf_list\n",
    "from botorch.acquisition.objective import GenericMCObjective\n",
    "from botorch.utils.multi_objective.scalarization import get_chebyshev_scalarization\n",
    "from botorch.utils.multi_objective.box_decompositions.non_dominated import (\n",
    "    NondominatedPartitioning,\n",
    ")\n",
    "from botorch.acquisition.multi_objective import (\n",
    "    qLogExpectedHypervolumeImprovement,\n",
    "    qLogNoisyExpectedHypervolumeImprovement,\n",
    ")\n",
    "from botorch.utils.sampling import sample_simplex\n",
    "\n",
    "\n",
    "BATCH_SIZE = 2\n",
    "NUM_RESTARTS = 10 if not SMOKE_TEST else 2\n",
    "RAW_SAMPLES = 128 if not SMOKE_TEST else 4\n",
    "\n",
    "standard_bounds = torch.zeros(2, problem.dim, **tkwargs)\n",
    "standard_bounds[1] = 1\n",
    "\n",
    "\n",
    "def optimize_qehvi_and_get_observation(model, train_x, train_obj, sampler):\n",
    "    \"\"\"Optimizes the qEHVI acquisition function, and returns a new candidate and observation.\"\"\"\n",
    "    # partition non-dominated space into disjoint rectangles\n",
    "    with torch.no_grad():\n",
    "        pred = model.posterior(normalize(train_x, problem.bounds)).mean\n",
    "    partitioning = NondominatedPartitioning(\n",
    "        ref_point=problem.ref_point,\n",
    "        Y=pred,\n",
    "    )\n",
    "    acq_func = qLogExpectedHypervolumeImprovement(\n",
    "        model=model,\n",
    "        ref_point=problem.ref_point,\n",
    "        partitioning=partitioning,\n",
    "        sampler=sampler,\n",
    "    )\n",
    "    # optimize\n",
    "    candidates, _ = optimize_acqf(\n",
    "        acq_function=acq_func,\n",
    "        bounds=standard_bounds,\n",
    "        q=BATCH_SIZE,\n",
    "        num_restarts=NUM_RESTARTS,\n",
    "        raw_samples=RAW_SAMPLES,  # used for intialization heuristic\n",
    "        options={\"batch_limit\": 5, \"maxiter\": 200},\n",
    "        sequential=True,\n",
    "    )\n",
    "    # observe new values\n",
    "    new_x = unnormalize(candidates.detach(), bounds=problem.bounds)\n",
    "    new_obj_true = problem(new_x)\n",
    "    new_obj = new_obj_true\n",
    "    return new_x, new_obj, new_obj_true"
   ]
  },
  {
   "cell_type": "markdown",
   "metadata": {
    "id": "MiFVOqxhBdht"
   },
   "source": [
    "#### Define a helper function that performs the essential BO step for $q$NParEGO\n",
    "The helper function below similarly initializes $q$NParEGO, optimizes it, and returns the batch $\\{x_1, x_2, \\ldots x_q\\}$ along with the observed function values.\n",
    "\n",
    "$q$NParEGO uses random augmented chebyshev scalarization with the `qNoisyExpectedImprovement` acquisition function. In the parallel setting ($q>1$), each candidate is optimized in sequential greedy fashion using a different random scalarization (see [1] for details).\n",
    "\n",
    "To do this, we create a list of `qNoisyExpectedImprovement` acquisition functions, each with different random scalarization weights. The `optimize_acqf_list` method sequentially generates one candidate per acquisition function and conditions the next candidate (and acquisition function) on the previously selected pending candidates."
   ]
  },
  {
   "cell_type": "code",
   "execution_count": 10,
   "metadata": {
    "id": "rACxiO2FBdht"
   },
   "outputs": [],
   "source": [
    "from botorch.acquisition import qLogNoisyExpectedImprovement\n",
    "\n",
    "\n",
    "def optimize_qnparego_and_get_observation(model, train_x, train_obj, sampler):\n",
    "    \"\"\"Samples a set of random weights for each candidate in the batch, performs sequential greedy optimization\n",
    "    of the qNParEGO acquisition function, and returns a new candidate and observation.\"\"\"\n",
    "    train_x = normalize(train_x, problem.bounds)\n",
    "    with torch.no_grad():\n",
    "        pred = model.posterior(train_x).mean\n",
    "    acq_func_list = []\n",
    "    for _ in range(BATCH_SIZE):\n",
    "        weights = sample_simplex(problem.num_objectives, **tkwargs).squeeze()\n",
    "        objective = GenericMCObjective(\n",
    "            get_chebyshev_scalarization(weights=weights, Y=pred)\n",
    "        )\n",
    "        acq_func = qLogNoisyExpectedImprovement(  # pyre-ignore: [28]\n",
    "            model=model,\n",
    "            objective=objective,\n",
    "            X_baseline=train_x,\n",
    "            sampler=sampler,\n",
    "            prune_baseline=True,\n",
    "        )\n",
    "        acq_func_list.append(acq_func)\n",
    "    # optimize\n",
    "    candidates, _ = optimize_acqf_list(\n",
    "        acq_function_list=acq_func_list,\n",
    "        bounds=standard_bounds,\n",
    "        num_restarts=NUM_RESTARTS,\n",
    "        raw_samples=RAW_SAMPLES,  # used for intialization heuristic\n",
    "        options={\"batch_limit\": 5, \"maxiter\": 200},\n",
    "    )\n",
    "    # observe new values\n",
    "    new_x = unnormalize(candidates.detach(), bounds=problem.bounds)\n",
    "    new_obj_true = problem(new_x)\n",
    "    new_obj = new_obj_true #+ torch.randn_like(new_obj_true) * NOISE_SE\n",
    "    return new_x, new_obj, new_obj_true"
   ]
  },
  {
   "cell_type": "markdown",
   "metadata": {
    "id": "ZXq2l3l-Bdht"
   },
   "source": [
    "### Perform Bayesian Optimization loop with $q$NEHVI, $q$EHVI, and $q$NParEGO\n",
    "The Bayesian optimization \"loop\" for a batch size of $q$ simply iterates the following steps:\n",
    "1. given a surrogate model, choose a batch of points $\\{x_1, x_2, \\ldots x_q\\}$\n",
    "2. observe $f(x)$ for each $x$ in the batch\n",
    "3. update the surrogate model.\n",
    "\n",
    "\n",
    "Just for illustration purposes, we run one trial with `N_BATCH=20` rounds of optimization. The acquisition function is approximated using `MC_SAMPLES=128` samples.\n",
    "\n",
    "*Note*: Running this may take a little while."
   ]
  },
  {
   "cell_type": "code",
   "execution_count": 11,
   "metadata": {
    "colab": {
     "base_uri": "https://localhost:8080/"
    },
    "executionInfo": {
     "elapsed": 2227856,
     "status": "ok",
     "timestamp": 1747942929999,
     "user": {
      "displayName": "Deepak L",
      "userId": "17343563887203968144"
     },
     "user_tz": -330
    },
    "id": "A2Ii-yH3Bdhu",
    "outputId": "a02f0a4c-c3be-4531-9553-943a193fe1d7"
   },
   "outputs": [
    {
     "name": "stdout",
     "output_type": "stream",
     "text": [
      "\n",
      "Batch  1: Hypervolume (qNParEGO, qEHVI) = (0.16, 0.16), time = 132.92.\n",
      "Batch  2: Hypervolume (qNParEGO, qEHVI) = (0.20, 0.17), time = 147.35.\n",
      "Batch  3: Hypervolume (qNParEGO, qEHVI) = (0.23, 0.17), time = 161.84.\n",
      "Batch  4: Hypervolume (qNParEGO, qEHVI) = (0.23, 0.27), time = 173.31.\n",
      "Batch  5: Hypervolume (qNParEGO, qEHVI) = (0.28, 0.34), time = 167.23.\n",
      "Batch  6: Hypervolume (qNParEGO, qEHVI) = (0.29, 0.38), time = 141.94.\n",
      "Batch  7: Hypervolume (qNParEGO, qEHVI) = (0.29, 0.42), time = 146.64.\n",
      "Batch  8: Hypervolume (qNParEGO, qEHVI) = (0.31, 0.42), time = 202.18.\n",
      "Batch  9: Hypervolume (qNParEGO, qEHVI) = (0.34, 0.44), time = 194.06.\n",
      "Batch 10: Hypervolume (qNParEGO, qEHVI) = (0.38, 0.47), time = 167.83.\n",
      "Batch 11: Hypervolume (qNParEGO, qEHVI) = (0.40, 0.51), time = 196.35.\n",
      "Batch 12: Hypervolume (qNParEGO, qEHVI) = (0.40, 0.51), time = 170.90.\n",
      "Batch 13: Hypervolume (qNParEGO, qEHVI) = (0.41, 0.53), time = 166.72.\n",
      "Batch 14: Hypervolume (qNParEGO, qEHVI) = (0.42, 0.55), time = 230.89.\n",
      "Batch 15: Hypervolume (qNParEGO, qEHVI) = (0.43, 0.57), time = 191.98.\n",
      "Batch 16: Hypervolume (qNParEGO, qEHVI) = (0.45, 0.61), time = 170.36.\n",
      "Batch 17: Hypervolume (qNParEGO, qEHVI) = (0.45, 0.61), time = 218.59.\n",
      "Batch 18: Hypervolume (qNParEGO, qEHVI) = (0.47, 0.62), time = 273.44.\n",
      "Batch 19: Hypervolume (qNParEGO, qEHVI) = (0.53, 0.62), time = 186.16.\n",
      "Batch 20: Hypervolume (qNParEGO, qEHVI) = (0.54, 0.63), time = 293.04.\n",
      "Batch 21: Hypervolume (qNParEGO, qEHVI) = (0.58, 0.63), time = 303.84.\n",
      "Batch 22: Hypervolume (qNParEGO, qEHVI) = (0.60, 0.63), time = 288.02.\n",
      "Batch 23: Hypervolume (qNParEGO, qEHVI) = (0.61, 0.64), time = 264.14.\n",
      "Batch 24: Hypervolume (qNParEGO, qEHVI) = (0.61, 0.64), time = 347.59.\n",
      "Batch 25: Hypervolume (qNParEGO, qEHVI) = (0.61, 0.65), time = 333.98.\n",
      "Batch 26: Hypervolume (qNParEGO, qEHVI) = (0.64, 0.65), time = 425.72.\n",
      "Batch 27: Hypervolume (qNParEGO, qEHVI) = (0.64, 0.66), time = 392.81.\n",
      "Batch 28: Hypervolume (qNParEGO, qEHVI) = (0.65, 0.67), time = 411.16.\n",
      "Batch 29: Hypervolume (qNParEGO, qEHVI) = (0.65, 0.67), time = 287.13.\n",
      "Batch 30: Hypervolume (qNParEGO, qEHVI) = (0.65, 0.68), time = 582.24.\n",
      "Batch 31: Hypervolume (qNParEGO, qEHVI) = (0.66, 0.68), time = 670.49.\n",
      "Batch 32: Hypervolume (qNParEGO, qEHVI) = (0.66, 0.68), time = 505.72.\n",
      "Batch 33: Hypervolume (qNParEGO, qEHVI) = (0.66, 0.68), time = 727.70.\n",
      "Batch 34: Hypervolume (qNParEGO, qEHVI) = (0.66, 0.69), time = 789.17.\n",
      "Batch 35: Hypervolume (qNParEGO, qEHVI) = (0.66, 0.69), time = 521.35.\n",
      "Batch 36: Hypervolume (qNParEGO, qEHVI) = (0.66, 0.69), time = 1582.66.\n",
      "Batch 37: Hypervolume (qNParEGO, qEHVI) = (0.67, 0.69), time = 1622.57.\n",
      "Batch 38: Hypervolume (qNParEGO, qEHVI) = (0.67, 0.70), time = 943.64.\n",
      "Batch 39: Hypervolume (qNParEGO, qEHVI) = (0.67, 0.70), time = 1674.10.\n",
      "Batch 40: Hypervolume (qNParEGO, qEHVI) = (0.68, 0.70), time = 1831.82.\n",
      "Batch 41: Hypervolume (qNParEGO, qEHVI) = (0.68, 0.70), time = 860.59.\n",
      "Batch 42: Hypervolume (qNParEGO, qEHVI) = (0.68, 0.70), time = 705.47.\n",
      "Batch 43: Hypervolume (qNParEGO, qEHVI) = (0.68, 0.71), time = 989.85.\n",
      "Batch 44: Hypervolume (qNParEGO, qEHVI) = (0.68, 0.71), time = 1201.55.\n",
      "Batch 45: Hypervolume (qNParEGO, qEHVI) = (0.69, 0.71), time = 1780.58.\n",
      "Batch 46: Hypervolume (qNParEGO, qEHVI) = (0.69, 0.71), time = 2161.72.\n",
      "Batch 47: Hypervolume (qNParEGO, qEHVI) = (0.70, 0.71), time = 2229.57.\n",
      "Batch 48: Hypervolume (qNParEGO, qEHVI) = (0.70, 0.71), time = 1769.33.\n",
      "Batch 49: Hypervolume (qNParEGO, qEHVI) = (0.70, 0.71), time = 3161.22.\n",
      "Batch 50: Hypervolume (qNParEGO, qEHVI) = (0.70, 0.72), time = 1014.40.\n",
      "Batch 51: Hypervolume (qNParEGO, qEHVI) = (0.70, 0.72), time = 3860.28.\n",
      "Batch 52: Hypervolume (qNParEGO, qEHVI) = (0.70, 0.72), time = 3021.31.\n",
      "Batch 53: Hypervolume (qNParEGO, qEHVI) = (0.70, 0.72), time = 4089.40.\n",
      "Batch 54: Hypervolume (qNParEGO, qEHVI) = (0.70, 0.72), time = 4516.27.\n",
      "Batch 55: Hypervolume (qNParEGO, qEHVI) = (0.71, 0.72), time = 1021.30.\n",
      "Batch 56: Hypervolume (qNParEGO, qEHVI) = (0.71, 0.72), time = 1846.43.\n",
      "Batch 57: Hypervolume (qNParEGO, qEHVI) = (0.71, 0.72), time = 1663.66.\n",
      "Batch 58: Hypervolume (qNParEGO, qEHVI) = (0.71, 0.72), time = 3075.94.\n",
      "Batch 59: Hypervolume (qNParEGO, qEHVI) = (0.71, 0.72), time = 3457.83.\n",
      "Batch 60: Hypervolume (qNParEGO, qEHVI) = (0.71, 0.73), time = 4141.45.\n",
      "Batch 61: Hypervolume (qNParEGO, qEHVI) = (0.71, 0.73), time = 5622.57.\n",
      "Batch 62: Hypervolume (qNParEGO, qEHVI) = (0.72, 0.73), time = 5933.38.\n",
      "Batch 63: Hypervolume (qNParEGO, qEHVI) = (0.72, 0.73), time = 3914.19.\n",
      "Batch 64: Hypervolume (qNParEGO, qEHVI) = (0.72, 0.73), time = 3786.23.\n",
      "Batch 65: Hypervolume (qNParEGO, qEHVI) = (0.72, 0.73), time = 6969.06.\n",
      "Batch 66: Hypervolume (qNParEGO, qEHVI) = (0.72, 0.73), time = 6769.05.\n",
      "Batch 67: Hypervolume (qNParEGO, qEHVI) = (0.72, 0.73), time = 1588.51.\n",
      "Batch 68: Hypervolume (qNParEGO, qEHVI) = (0.72, 0.73), time = 7474.19.\n",
      "Batch 69: Hypervolume (qNParEGO, qEHVI) = (0.72, 0.73), time = 6951.05.\n",
      "Batch 70: Hypervolume (qNParEGO, qEHVI) = (0.72, 0.73), time = 6500.00.\n",
      "Batch 71: Hypervolume (qNParEGO, qEHVI) = (0.72, 0.73), time = 4320.85.\n",
      "Batch 72: Hypervolume (qNParEGO, qEHVI) = (0.73, 0.73), time = 7193.91.\n",
      "Batch 73: Hypervolume (qNParEGO, qEHVI) = (0.73, 0.73), time = 3444.12.\n",
      "Batch 74: Hypervolume (qNParEGO, qEHVI) = (0.73, 0.73), time = 8233.78.\n",
      "Batch 75: Hypervolume (qNParEGO, qEHVI) = (0.73, 0.73), time = 3650.74.\n",
      "Batch 76: Hypervolume (qNParEGO, qEHVI) = (0.73, 0.73), time = 7580.94.\n",
      "Batch 77: Hypervolume (qNParEGO, qEHVI) = (0.73, 0.73), time = 4249.48.\n",
      "Batch 78: Hypervolume (qNParEGO, qEHVI) = (0.73, 0.73), time = 5834.83.\n",
      "Batch 79: Hypervolume (qNParEGO, qEHVI) = (0.73, 0.74), time = 2255.46.\n",
      "Batch 80: Hypervolume (qNParEGO, qEHVI) = (0.73, 0.74), time = 5396.83.\n",
      "Batch 81: Hypervolume (qNParEGO, qEHVI) = (0.73, 0.74), time = 4616.05.\n",
      "Batch 82: Hypervolume (qNParEGO, qEHVI) = (0.73, 0.74), time = 4038.69.\n",
      "Batch 83: Hypervolume (qNParEGO, qEHVI) = (0.73, 0.74), time = 7026.78.\n",
      "Batch 84: Hypervolume (qNParEGO, qEHVI) = (0.73, 0.74), time = 1527.13.\n",
      "Batch 85: Hypervolume (qNParEGO, qEHVI) = (0.73, 0.74), time = 9042.22.\n",
      "Batch 86: Hypervolume (qNParEGO, qEHVI) = (0.73, 0.74), time = 3019.48.\n",
      "Batch 87: Hypervolume (qNParEGO, qEHVI) = (0.73, 0.74), time = 8294.54.\n",
      "Batch 88: Hypervolume (qNParEGO, qEHVI) = (0.73, 0.74), time = 10563.02.\n",
      "Batch 89: Hypervolume (qNParEGO, qEHVI) = (0.73, 0.74), time = 5449.72.\n",
      "Batch 90: Hypervolume (qNParEGO, qEHVI) = (0.73, 0.74), time = 7241.25.\n",
      "Batch 91: Hypervolume (qNParEGO, qEHVI) = (0.73, 0.74), time = 8712.23.\n",
      "Batch 92: Hypervolume (qNParEGO, qEHVI) = (0.73, 0.74), time = 11708.69.\n",
      "Batch 93: Hypervolume (qNParEGO, qEHVI) = (0.73, 0.74), time = 11128.63.\n",
      "Batch 94: Hypervolume (qNParEGO, qEHVI) = (0.73, 0.74), time = 10005.45.\n",
      "Batch 95: Hypervolume (qNParEGO, qEHVI) = (0.74, 0.74), time = 2936.79.\n",
      "Batch 96: Hypervolume (qNParEGO, qEHVI) = (0.74, 0.74), time = 11560.91.\n",
      "Batch 97: Hypervolume (qNParEGO, qEHVI) = (0.74, 0.74), time = 5206.93.\n",
      "Batch 98: Hypervolume (qNParEGO, qEHVI) = (0.74, 0.74), time = 5788.45.\n",
      "Batch 99: Hypervolume (qNParEGO, qEHVI) = (0.74, 0.74), time = 4347.72.\n",
      "Batch 100: Hypervolume (qNParEGO, qEHVI) = (0.74, 0.74), time = 9982.61."
     ]
    }
   ],
   "source": [
    "import time\n",
    "import warnings\n",
    "\n",
    "from botorch import fit_gpytorch_mll\n",
    "from botorch.exceptions import BadInitialCandidatesWarning\n",
    "from botorch.sampling.normal import SobolQMCNormalSampler\n",
    "from botorch.utils.multi_objective.box_decompositions.non_dominated import (\n",
    "    NondominatedPartitioning,\n",
    ")\n",
    "from botorch.utils.multi_objective.pareto import is_non_dominated\n",
    "\n",
    "\n",
    "warnings.filterwarnings(\"ignore\", category=BadInitialCandidatesWarning)\n",
    "warnings.filterwarnings(\"ignore\", category=RuntimeWarning)\n",
    "\n",
    "N_BATCH = 100 if not SMOKE_TEST else 4\n",
    "MC_SAMPLES = 64 if not SMOKE_TEST else 16\n",
    "\n",
    "verbose = True\n",
    "\n",
    "hvs_qparego, hvs_qehvi = [], []\n",
    "\n",
    "# call helper functions to generate initial training data and initialize model\n",
    "train_x_qparego, train_obj_qparego, train_obj_true_qparego = generate_initial_data()\n",
    "mll_qparego, model_qparego = initialize_model(train_x_qparego, train_obj_qparego)\n",
    "\n",
    "train_x_qehvi, train_obj_qehvi, train_obj_true_qehvi = (\n",
    "    train_x_qparego,\n",
    "    train_obj_qparego,\n",
    "    train_obj_true_qparego,\n",
    ")\n",
    "mll_qehvi, model_qehvi = initialize_model(train_x_qehvi, train_obj_qehvi)\n",
    "\n",
    "# compute hypervolume\n",
    "bd = NondominatedPartitioning(ref_point=problem.ref_point, Y=train_obj_true_qparego)\n",
    "volume = bd.compute_hypervolume().item()\n",
    "\n",
    "hvs_qparego.append(volume)\n",
    "hvs_qehvi.append(volume)\n",
    "\n",
    "# run N_BATCH rounds of BayesOpt after the initial random batch\n",
    "for iteration in range(1, N_BATCH + 1):\n",
    "\n",
    "    t0 = time.monotonic()\n",
    "\n",
    "    # fit the models\n",
    "    fit_gpytorch_mll(mll_qparego)\n",
    "    fit_gpytorch_mll(mll_qehvi)\n",
    "\n",
    "    # define the qEI and qNEI acquisition modules using a QMC sampler\n",
    "    qparego_sampler = SobolQMCNormalSampler(sample_shape=torch.Size([MC_SAMPLES]))\n",
    "    qehvi_sampler = SobolQMCNormalSampler(sample_shape=torch.Size([MC_SAMPLES]))\n",
    "\n",
    "    # optimize acquisition functions and get new observations\n",
    "    (\n",
    "        new_x_qparego,\n",
    "        new_obj_qparego,\n",
    "        new_obj_true_qparego,\n",
    "    ) = optimize_qnparego_and_get_observation(\n",
    "        model_qparego, train_x_qparego, train_obj_qparego, qparego_sampler\n",
    "    )\n",
    "    new_x_qehvi, new_obj_qehvi, new_obj_true_qehvi = optimize_qehvi_and_get_observation(\n",
    "        model_qehvi, train_x_qehvi, train_obj_qehvi, qehvi_sampler\n",
    "    )\n",
    "\n",
    "    # update training points\n",
    "    train_x_qparego = torch.cat([train_x_qparego, new_x_qparego])\n",
    "    train_obj_qparego = torch.cat([train_obj_qparego, new_obj_qparego])\n",
    "    train_obj_true_qparego = torch.cat([train_obj_true_qparego, new_obj_true_qparego])\n",
    "\n",
    "    train_x_qehvi = torch.cat([train_x_qehvi, new_x_qehvi])\n",
    "    train_obj_qehvi = torch.cat([train_obj_qehvi, new_obj_qehvi])\n",
    "    train_obj_true_qehvi = torch.cat([train_obj_true_qehvi, new_obj_true_qehvi])\n",
    "\n",
    "\n",
    "    # update progress\n",
    "    for hvs_list, train_obj in zip(\n",
    "        (hvs_qparego, hvs_qehvi),\n",
    "        (\n",
    "            train_obj_true_qparego,\n",
    "            train_obj_true_qehvi,\n",
    "        ),\n",
    "    ):\n",
    "        # compute hypervolume\n",
    "        bd = NondominatedPartitioning(ref_point=problem.ref_point, Y=train_obj)\n",
    "        volume = bd.compute_hypervolume().item()\n",
    "        hvs_list.append(volume)\n",
    "\n",
    "    # reinitialize the models so they are ready for fitting on next iteration\n",
    "    # Note: we find improved performance from not warm starting the model hyperparameters\n",
    "    # using the hyperparameters from the previous iteration\n",
    "    mll_qparego, model_qparego = initialize_model(train_x_qparego, train_obj_qparego)\n",
    "    mll_qehvi, model_qehvi = initialize_model(train_x_qehvi, train_obj_qehvi)\n",
    "\n",
    "    torch.cuda.empty_cache()\n",
    "    gc.collect()\n",
    "\n",
    "    t1 = time.monotonic()\n",
    "\n",
    "    if verbose:\n",
    "        print(\n",
    "            f\"\\nBatch {iteration:>2}: Hypervolume (qNParEGO, qEHVI) = \"\n",
    "            f\"({hvs_qparego[-1]:>4.2f}, {hvs_qehvi[-1]:>4.2f}), \"\n",
    "            f\"time = {t1-t0:>4.2f}.\",\n",
    "            end=\"\",\n",
    "        )\n",
    "    else:\n",
    "        print(\".\", end=\"\")"
   ]
  },
  {
   "cell_type": "markdown",
   "metadata": {
    "id": "v70wonHIBdhu"
   },
   "source": [
    "#### Plot the results\n",
    "The plot below shows the a common metric of multi-objective optimization performance, the log hypervolume difference: the log difference between the hypervolume of the true pareto front and the hypervolume of the approximate pareto front identified by each algorithm. The log hypervolume difference is plotted at each step of the optimization for each of the algorithms.\n",
    "\n",
    "The plot shows that $q$NEHVI outperforms $q$EHVI and $q$ParEGO."
   ]
  },
  {
   "cell_type": "code",
   "execution_count": 12,
   "metadata": {
    "colab": {
     "base_uri": "https://localhost:8080/",
     "height": 554
    },
    "executionInfo": {
     "elapsed": 627,
     "status": "ok",
     "timestamp": 1747942930669,
     "user": {
      "displayName": "Deepak L",
      "userId": "17343563887203968144"
     },
     "user_tz": -330
    },
    "id": "FyLWlXS5Bdhu",
    "outputId": "7e486b5d-03ea-4160-f318-27edca025e4a",
    "scrolled": true
   },
   "outputs": [
    {
     "data": {
      "text/plain": [
       "<matplotlib.legend.Legend at 0x7b06f9d48a70>"
      ]
     },
     "execution_count": 12,
     "metadata": {},
     "output_type": "execute_result"
    },
    {
     "data": {
      "image/png": "[encoded data removed]",
      "text/plain": [
       "<Figure size 800x600 with 1 Axes>"
      ]
     },
     "metadata": {},
     "output_type": "display_data"
    }
   ],
   "source": [
    "import numpy as np\n",
    "from matplotlib import pyplot as plt\n",
    "\n",
    "%matplotlib inline\n",
    "\n",
    "\n",
    "iters = np.arange(N_BATCH + 1) * BATCH_SIZE\n",
    "log_hv_difference_qparego = np.log10(problem.max_hv - np.asarray(hvs_qparego))\n",
    "log_hv_difference_qehvi = np.log10(problem.max_hv - np.asarray(hvs_qehvi))\n",
    "\n",
    "fig, ax = plt.subplots(1, 1, figsize=(8, 6))\n",
    "ax.errorbar(\n",
    "    iters,\n",
    "    log_hv_difference_qparego,\n",
    "    label=\"qNParEGO\",\n",
    "    linewidth=1.5,\n",
    ")\n",
    "ax.errorbar(\n",
    "    iters,\n",
    "    log_hv_difference_qehvi,\n",
    "    label=\"qEHVI\",\n",
    "    linewidth=1.5,\n",
    ")\n",
    "ax.set(\n",
    "    xlabel=\"number of observations (beyond initial points)\",\n",
    "    ylabel=\"Log Hypervolume Difference\",\n",
    ")\n",
    "ax.legend(loc=\"lower left\")"
   ]
  },
  {
   "cell_type": "markdown",
   "metadata": {
    "collapsed": true,
    "id": "zCutcS6HBdhv",
    "jupyter": {
     "outputs_hidden": true
    }
   },
   "source": [
    "#### Plot the true objectives at the evaluated designs colored by iteration\n",
    "\n",
    "To examine optimization process from another perspective, we plot the true function values at the designs selected under each algorithm where the color corresponds to the BO iteration at which the point was collected. The plot on the right for $q$NEHVI shows that the $q$NEHVI quickly identifies the pareto front and most of its evaluations are very close to the pareto front. $q$NParEGO also identifies has many observations close to the pareto front, but relies on optimizing random scalarizations, which is a less principled way of optimizing the pareto front compared to $q$NEHVI, which explicitly attempts focuses on improving the pareto front. $q$EHVI uses the posterior mean as a plug-in estimator for the true function values at the in-sample points, whereas $q$NEHVI than integrating over the uncertainty at the in-sample designs Sobol generates random points and has few points close to the Pareto front."
   ]
  },
  {
   "cell_type": "code",
   "execution_count": 13,
   "metadata": {
    "executionInfo": {
     "elapsed": 4,
     "status": "ok",
     "timestamp": 1747942930688,
     "user": {
      "displayName": "Deepak L",
      "userId": "17343563887203968144"
     },
     "user_tz": -330
    },
    "id": "uWk2NqHCBdhv",
    "scrolled": true
   },
   "outputs": [],
   "source": [
    "# import plotly.graph_objects as go\n",
    "# from plotly.subplots import make_subplots\n",
    "# import numpy as np\n",
    "\n",
    "# # Generate Pareto front\n",
    "# pareto_front = -problem.gen_pareto_front(n=1000).cpu().numpy()\n",
    "\n",
    "# batch_number = torch.cat(\n",
    "#     [\n",
    "#         torch.zeros(11 * problem.dim - 1),\n",
    "#         torch.arange(1, N_BATCH + 1).repeat(BATCH_SIZE, 1).t().reshape(-1),\n",
    "#     ]\n",
    "# ).numpy()\n",
    "\n",
    "# # Create subplots\n",
    "# fig = make_subplots(rows=1, cols=2,\n",
    "#                     specs=[[{'type': 'scatter3d'}, {'type': 'scatter3d'}]],\n",
    "#                     subplot_titles=(\"qNParEGO\", \"qEHVI\"))\n",
    "\n",
    "# # Create color scale\n",
    "# colorscale = plt.get_cmap(\"viridis\")(np.linspace(0, 1, N_BATCH+1))\n",
    "# colorscale = [[i/(len(colorscale)-1), f\"rgb({r*255},{g*255},{b*255})\"]\n",
    "#               for i, (r,g,b,a) in enumerate(colorscale)]\n",
    "\n",
    "# alg_data = [\n",
    "#     (-train_obj_true_qparego, \"qNParEGO\"),\n",
    "#     (-train_obj_true_qehvi, \"qEHVI\"),\n",
    "# ]\n",
    "\n",
    "# for col, (train_obj, name) in enumerate(alg_data, 1):\n",
    "#     # Convert to numpy\n",
    "#     obj_np = train_obj.cpu().numpy()\n",
    "\n",
    "#     # Create 3D scatter plot\n",
    "#     scatter = go.Scatter3d(\n",
    "#         x=obj_np[:, 0],\n",
    "#         y=obj_np[:, 1],\n",
    "#         z=obj_np[:, 2],\n",
    "#         mode='markers',\n",
    "#         marker=dict(\n",
    "#             size=4,\n",
    "#             color=batch_number,\n",
    "#             colorscale=colorscale,\n",
    "#             opacity=0.8,\n",
    "#             colorbar=dict(title='Iteration') if col == 3 else None\n",
    "#         ),\n",
    "#         name=name,\n",
    "#         hovertemplate=\"<b>Obj1</b>: %{x:.2f}<br><b>Obj2</b>: %{y:.2f}<br><b>Obj3</b>: %{z:.2f}<extra></extra>\"\n",
    "#     )\n",
    "\n",
    "#     # Add Pareto front\n",
    "#     pf_trace = go.Scatter3d(\n",
    "#         x=pareto_front[:, 0],\n",
    "#         y=pareto_front[:, 1],\n",
    "#         z=pareto_front[:, 2],\n",
    "#         mode='markers',\n",
    "#         marker=dict(size=2, color='red', opacity=0.5),\n",
    "#         name='Pareto Front'\n",
    "#     )\n",
    "\n",
    "#     fig.add_trace(scatter, row=1, col=col)\n",
    "#     fig.add_trace(pf_trace, row=1, col=col)\n",
    "\n",
    "# # Update layout\n",
    "# fig.update_layout(\n",
    "#     height=600,\n",
    "#     width=1200,\n",
    "#     scene1=dict(\n",
    "#         xaxis_title='Objective 1',\n",
    "#         yaxis_title='Objective 2',\n",
    "#         zaxis_title='Objective 3',\n",
    "#         camera=dict(eye=dict(x=1.5, y=1.5, z=0.6))\n",
    "#     ),\n",
    "#     scene2=dict(\n",
    "#         xaxis_title='Objective 1',\n",
    "#         yaxis_title='Objective 2',\n",
    "#         zaxis_title='Objective 3',\n",
    "#         camera=dict(eye=dict(x=1.5, y=1.5, z=0.6))\n",
    "#     ),\n",
    "#     showlegend=False\n",
    "# )\n",
    "\n",
    "# fig.show()\n"
   ]
  },
  {
   "cell_type": "code",
   "execution_count": 14,
   "metadata": {
    "executionInfo": {
     "elapsed": 5,
     "status": "ok",
     "timestamp": 1747942930712,
     "user": {
      "displayName": "Deepak L",
      "userId": "17343563887203968144"
     },
     "user_tz": -330
    },
    "id": "mYt1v6F7Cj6F"
   },
   "outputs": [],
   "source": [
    "# import plotly.graph_objects as go\n",
    "# from plotly.subplots import make_subplots\n",
    "# import numpy as np\n",
    "\n",
    "# # Assuming problem, train_obj_true_qparego, train_obj_true_qehvi, N_BATCH, BATCH_SIZE are defined\n",
    "\n",
    "# # Generate Pareto front\n",
    "# pareto_front = -problem.gen_pareto_front(n=1000).cpu().numpy()\n",
    "\n",
    "# # Number of initial training points\n",
    "# n_initial = 11 * problem.dim - 1\n",
    "\n",
    "# batch_number = torch.cat([\n",
    "#     torch.zeros(n_initial),\n",
    "#     torch.arange(1, N_BATCH + 1).repeat(BATCH_SIZE, 1).t().reshape(-1),\n",
    "# ]).numpy()\n",
    "\n",
    "# # 1. Plot showing just initial training points\n",
    "# fig_initial = make_subplots(rows=1, cols=2,\n",
    "#                     specs=[[{'type': 'scatter3d'}, {'type': 'scatter3d'}]],\n",
    "#                     subplot_titles=(\"qNParEGO\", \"qEHVI\"))\n",
    "\n",
    "# alg_data_initial = [\n",
    "#     (-train_obj_true_qparego[:n_initial], \"qNParEGO\"),\n",
    "#     (-train_obj_true_qehvi[:n_initial], \"qEHVI\"),\n",
    "# ]\n",
    "\n",
    "# for col, (train_obj, name) in enumerate(alg_data_initial, 1):\n",
    "#     # Convert to numpy if needed\n",
    "#     obj_np = train_obj.cpu().numpy() if isinstance(train_obj, torch.Tensor) else train_obj\n",
    "\n",
    "#     # Create 3D scatter plot for initial points\n",
    "#     scatter = go.Scatter3d(\n",
    "#         x=obj_np[:, 0],\n",
    "#         y=obj_np[:, 1],\n",
    "#         z=obj_np[:, 2],\n",
    "#         mode='markers',\n",
    "#         marker=dict(\n",
    "#             size=4,\n",
    "#             color='deepskyblue',\n",
    "#             opacity=0.8\n",
    "#         ),\n",
    "#         name=name\n",
    "#     )\n",
    "\n",
    "#     # Add Pareto front\n",
    "#     pf_trace = go.Scatter3d(\n",
    "#         x=pareto_front[:, 0],\n",
    "#         y=pareto_front[:, 1],\n",
    "#         z=pareto_front[:, 2],\n",
    "#         mode='markers',\n",
    "#         marker=dict(size=2, color='red', opacity=0.5),\n",
    "#         name='Pareto Front'\n",
    "#     )\n",
    "\n",
    "#     fig_initial.add_trace(scatter, row=1, col=col)\n",
    "#     fig_initial.add_trace(pf_trace, row=1, col=col)\n",
    "\n",
    "# # Update layout\n",
    "# fig_initial.update_layout(\n",
    "#     height=600,\n",
    "#     width=1200,\n",
    "#     scene1=dict(\n",
    "#         xaxis_title='Objective 1',\n",
    "#         yaxis_title='Objective 2',\n",
    "#         zaxis_title='Objective 3'\n",
    "#     ),\n",
    "#     scene2=dict(\n",
    "#         xaxis_title='Objective 1',\n",
    "#         yaxis_title='Objective 2',\n",
    "#         zaxis_title='Objective 3'\n",
    "#     ),\n",
    "#     showlegend=False,\n",
    "#     title_text='Initial Training Points'\n",
    "# )\n",
    "\n",
    "# fig_initial.show()\n",
    "\n"
   ]
  },
  {
   "cell_type": "code",
   "execution_count": 15,
   "metadata": {
    "executionInfo": {
     "elapsed": 46,
     "status": "ok",
     "timestamp": 1747942930781,
     "user": {
      "displayName": "Deepak L",
      "userId": "17343563887203968144"
     },
     "user_tz": -330
    },
    "id": "4jTFJO4-Lg6S"
   },
   "outputs": [],
   "source": [
    "# # 2. Plot batches of 50 points after initial points\n",
    "# batch_size = 50\n",
    "\n",
    "# # Get total number of points\n",
    "# n_points = min(len(train_obj_true_qparego), len(train_obj_true_qehvi))\n",
    "\n",
    "# # Calculate number of points after initial\n",
    "# n_remaining = n_points - n_initial\n",
    "\n",
    "# # Calculate number of plots needed\n",
    "# n_plots = (n_remaining + batch_size - 1) // batch_size\n",
    "\n",
    "# for plot_idx in range(n_plots):\n",
    "#     fig = make_subplots(rows=1, cols=2,\n",
    "#                     specs=[[{'type': 'scatter3d'}, {'type': 'scatter3d'}]],\n",
    "#                     subplot_titles=(\"qNParEGO\", \"qEHVI\"))\n",
    "\n",
    "#     # Define range for this batch of points\n",
    "#     start_idx = n_initial\n",
    "#     end_idx = min(n_initial + (plot_idx + 1) * batch_size, n_points)\n",
    "\n",
    "#     alg_data = [\n",
    "#         (-train_obj_true_qparego[start_idx:end_idx], \"qNParEGO\"),\n",
    "#         (-train_obj_true_qehvi[start_idx:end_idx], \"qEHVI\"),\n",
    "#     ]\n",
    "\n",
    "#     for col, (train_obj, name) in enumerate(alg_data, 1):\n",
    "#         # Convert to numpy if needed\n",
    "#         obj_np = train_obj.cpu().numpy() if isinstance(train_obj, torch.Tensor) else train_obj\n",
    "\n",
    "#         # Create 3D scatter plot\n",
    "#         scatter = go.Scatter3d(\n",
    "#             x=obj_np[:, 0],\n",
    "#             y=obj_np[:, 1],\n",
    "#             z=obj_np[:, 2],\n",
    "#             mode='markers',\n",
    "#             marker=dict(\n",
    "#                 size=4,\n",
    "#                 color=batch_number[start_idx:end_idx],\n",
    "#                 colorscale='Viridis',\n",
    "#                 opacity=0.8,\n",
    "#                 colorbar=dict(title='Iteration') if col == 2 else None\n",
    "#             ),\n",
    "#             name=name\n",
    "#         )\n",
    "\n",
    "#         # Add Pareto front\n",
    "#         pf_trace = go.Scatter3d(\n",
    "#             x=pareto_front[:, 0],\n",
    "#             y=pareto_front[:, 1],\n",
    "#             z=pareto_front[:, 2],\n",
    "#             mode='markers',\n",
    "#             marker=dict(size=2, color='red', opacity=0.5),\n",
    "#             name='Pareto Front'\n",
    "#         )\n",
    "\n",
    "#         fig.add_trace(scatter, row=1, col=col)\n",
    "#         fig.add_trace(pf_trace, row=1, col=col)\n",
    "\n",
    "#     # Update layout\n",
    "#     fig.update_layout(\n",
    "#         height=600,\n",
    "#         width=1200,\n",
    "#         scene1=dict(\n",
    "#             xaxis_title='Objective 1',\n",
    "#             yaxis_title='Objective 2',\n",
    "#             zaxis_title='Objective 3'\n",
    "#         ),\n",
    "#         scene2=dict(\n",
    "#             xaxis_title='Objective 1',\n",
    "#             yaxis_title='Objective 2',\n",
    "#             zaxis_title='Objective 3'\n",
    "#         ),\n",
    "#         showlegend=False,\n",
    "#         title_text=f'Cumulative: First {end_idx - start_idx} Points After Initial'\n",
    "#     )\n",
    "\n",
    "#     fig.show()\n"
   ]
  },
  {
   "cell_type": "code",
   "execution_count": 16,
   "metadata": {
    "executionInfo": {
     "elapsed": 6,
     "status": "ok",
     "timestamp": 1747942930808,
     "user": {
      "displayName": "Deepak L",
      "userId": "17343563887203968144"
     },
     "user_tz": -330
    },
    "id": "mg_wnvuzQvVN"
   },
   "outputs": [],
   "source": [
    "import plotly.graph_objects as go\n",
    "import plotly.io as pio\n",
    "from plotly.subplots import make_subplots\n",
    "import numpy as np\n",
    "\n",
    "def create_pareto_surface(problem, n=1000):\n",
    "    # Generate Pareto front using the problem's built-in method\n",
    "    pareto_front = -problem.gen_pareto_front(n).cpu().numpy()\n",
    "\n",
    "    if problem.num_objectives == 3:\n",
    "        # Create Mesh3d trace for 3D problems\n",
    "        return go.Mesh3d(\n",
    "            x=pareto_front[:, 0],\n",
    "            y=pareto_front[:, 1],\n",
    "            z=pareto_front[:, 2],\n",
    "            color='red',\n",
    "            opacity=0.3,\n",
    "            intensity=pareto_front[:, 2],\n",
    "            colorscale='Reds',\n",
    "            showscale=False,\n",
    "            name='Pareto Front'\n",
    "        )\n",
    "    else:\n",
    "        raise ValueError(\"Only 3D visualization is supported in this implementation\")\n",
    "\n"
   ]
  },
  {
   "cell_type": "code",
   "execution_count": 17,
   "metadata": {
    "colab": {
     "base_uri": "https://localhost:8080/"
    },
    "executionInfo": {
     "elapsed": 506,
     "status": "ok",
     "timestamp": 1747942931334,
     "user": {
      "displayName": "Deepak L",
      "userId": "17343563887203968144"
     },
     "user_tz": -330
    },
    "id": "3nhpwmwhSHVO",
    "outputId": "ed3c757c-46c1-4e96-8cb4-06e53e3bbb1f"
   },
   "outputs": [
    {
     "data": {
      "application/vnd.plotly.v1+json": {
       "config": {
        "plotlyServerURL": "https://plot.ly"
       },
       "data": [
        {
         "marker": {
          "color": "deepskyblue",
          "opacity": 0.8,
          "size": 4
         },
         "mode": "markers",
         "name": "qNParEGO",
         "scene": "scene",
         "type": "scatter3d",
         "x": {
          "bdata": "ikj77AsG0z+Pjwq3Mmj0PwHIxvmO1M0/wGDh5K+r3D/gGHScGevPP0+lkPBqRfQ/UtDtxsJI6D/xd+k0dl6jP9c6kzqaQAE/EjqWL+cl8j+rllwG16foPxHa9jUeses/5q3D0lBd1z8X07oCTSPtPwAa2ogFzuA/uREIS2N91z9F/8DRlsK+P+cOtMszrvM/QHWbZyP24T/Z19x1kpjuP3i++O4Dl+g/MxMGqoBM8j/x7zo8HZuzPyPs8dPgn7s/fUs6dIYxpD/a9qOr74nzP38oZTK+btE/rthUymlM5z/BUHFLR9yxP6A56aTVS+8/OsYKRBwl7z/AsnvcgF/iPxZNyN8DzL0/MbaIJuqd9D8ehx85BSbkPwMkjQjT/+A/BJJ9sPLs4D/hG578WBz0P/QElP6cqNU/aZzJw4A2wT/HidzqWHS5P8PEUWKuN/g/0eqSKLEQsD9M53OmMmrrPzrR1ZdiTcw/n1eyvNak7j+/34yqmODjP/35m1ief9U/P3lQxbQrwj/vrvHUDe34P0jiYrCagNw/nWfeyfCp4z+O65FezzGxP0OgkPLF6u4/x96a8WOH8D8rKFhyxRXSP39ZWEB5sYA/uV5KAh3R9T/Qod5HesLgP9VM903Aae4/ElwfnYHA2j+/+kpQtsr0P/4Ik7dKjcE/MyaWL8vu1T/ysb3a2QO7PwDaY3ulefQ/PO+gs46F4j9V/vXtcJTjP82uvj8ukuY/DNbmG8wt9j/y9MtTcCjTP+qUshqZUoM/VbjyDEA9wD/sUv+xLF/1P50e8ihHQt4/MTTZKG6Q5z8DCsCgvpuZPzJlwOxBrOc/NztP+a9c7j9PMCoPna7XP2qFTCAI7tA/S8Y8zkxr8z+FgE88auO3P+5tohCk5eI/HycFN2q91z939/RnYTTxPw6ct6Zni+M/",
          "dtype": "f8"
         },
         "y": {
          "bdata": "Rucl0xBX1z/qnyerrRe/P3jUtep2w/U/NVm7qnow2z8gmz2cpWruP6phpRUhvuM//3Ulm3Lp8j8rHlFvwXaOP7MYgu+SltA/l6G2v65F6D9u0ZIAREvsP3XXxJyhgbw/EVlcQuk86T+oAJ5vPzDMP4inVA/oRfo/t5J3Fs8Iyj9Fwy0/wEDUP0EJnWIrpug/xyf6fPvQ8D8zaF0Tqo3SP52cLVTKWOk/1soI0t7Wyj9RZvs1RmT1PxSPVmBK2LQ/9EEIBbS9sT8jig0+rwDaP4BsSAcvjPU/05W47Eh80z+Gn+MF6x7jP1Q0LmpmqOo/IYTCtvyA9T+7K1wEr1GWP15WZFR2XeQ/VQdyDez68z+IM4BfaZbqP1HR78LjHaA/KcIFBsvI6j+m7UKys+3eP06DqANwO/I/1oJlSTUjsj/Ga4CIJTu+PwKpdBYkhcU/CnU9krjh9z/UNTMeIAfkPyYlF5oSH+U/XPxFzhOF4T9kq5bExcv3P9Y20K2LWLE/7haTckrb0j/o08tRILnZP0nhAALf0/E/2SqRzlmR2T97TfJ28XHmPy/rW9+zOOk/3KoA7X5/8T8BygSGLHuoPyRiDZisZ6E/wPIWh5AW5D95SuBInTTuPy3eY0hPe9M/EsLIHu3C4z/syG/I6Qp/P6fM8UaeofE/GCViPbD00j/hKiuElCvYP8hN4hTqu+Q/SneL3ieW7j958BKh82jMP78tYZv1Xe0/AoJ75KZztz8vsSWkFZ75PxKd3w+134I/Elrk/neW0j+WOJD0rLDSPwpm7wV0OvU/slMfC48m3D+arg15JLbmP97LZedsDOE/RlK8HrUs8j8uGRmSAkqkP2Nax+o+n9I/um38dhQ/xz8FwyvuPcvyPzyKMWdO090/ArGk7Mtc7T8jnKkNIJDmPwklv10X7/M/",
          "dtype": "f8"
         },
         "z": {
          "bdata": "tpislY/s9T9uXF37TFXEP1JgxsuUkvA/hVBMJ4qI9D/XndBlw1DxP5VHNPNuu+s/NtwJ5bzf1D9d2hM3uvj1P4LYo5WpBPY/O0egy1L74T+jUInBRnbgP+8CxtltLfQ/Ngwx6xWx+D/PhdnAVlvpP8/G9e/h2cM/PJKPS9Zv9j8mJXIimMX4P9rKIw58kZo/PNi1XL2g8j8VsQP5kPb3P6pa/dkm1fU/HxCHwEuk4z/EkGe2jjvcP0U1JqhMXPM/xqk8lSwJ+D/1yuxV6VvVP/hYFLUbguk/Y7D6+mMp7T/sPc9f6Dj1P7cfbwfXLe0/iU+96ScJ0D+jxpH99e74P4Dp8nK70vk/MBCZ7QrA1j9EgZwZsj3nP9GKAY5wlfM/OxC3sQtk8j+hV8OnWMLnPyrnB6CLhtY/dguhTvAv+j+VVoaIZ43yP3ejFzBwPuA/0Iu6shXU5j8+07i7bnv2P2H+iPF8f/I/WGIXAONU8D/ad2bykRyrP1Qt5YUv9/c/WLTV6V909D+YfXg8fTa3PwDVtVif8fA/DROLjWCo9D//s3/tYZPvP1tMBsd49eE/RgUK9gxC4T9LjfgLFp78P0DCFSak9vo/yZNNVG231D/85MrukpjmP2qZK1+WDPA/9ObTNDrI9j8Sb53Qu+3wP5bzhS0/O8E/Ntn1Jj639j+9sfI2AVv0PwEFSLRCisM/uCZOusaC7D9xAxhIo5f0P/1fH7HAGfM/ytdvGSta7D9+z1IaOAjVP1qKU2eUB/Y/ZHkDP4RI/j+SnqGsUo/gP9TwfM0apuQ/+znte3SB8j9X3Py5l0fzPzS0hAeGL+o/D/PB/Stiuz+PGq0Au3P2P6ngN7azSfo/5PFPNmy7rT+m+967+sjxPwUGLhkRVvM/kn2KGndp9D/cnGpxAzrkP2z7C6uz294/",
          "dtype": "f8"
         }
        },
        {
         "color": "red",
         "colorscale": [
          [
           0,
           "rgb(255,245,240)"
          ],
          [
           0.125,
           "rgb(254,224,210)"
          ],
          [
           0.25,
           "rgb(252,187,161)"
          ],
          [
           0.375,
           "rgb(252,146,114)"
          ],
          [
           0.5,
           "rgb(251,106,74)"
          ],
          [
           0.625,
           "rgb(239,59,44)"
          ],
          [
           0.75,
           "rgb(203,24,29)"
          ],
          [
           0.875,
           "rgb(165,15,21)"
          ],
          [
           1,
           "rgb(103,0,13)"
          ]
         ],
         "intensity": {
          "bdata": "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",
          "dtype": "f8"
         },
         "name": "Pareto Front",
         "opacity": 0.3,
         "scene": "scene",
         "showscale": false,
         "type": "mesh3d",
         "x": {
          "bdata": "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",
          "dtype": "f8"
         },
         "y": {
          "bdata": "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",
          "dtype": "f8"
         },
         "z": {
          "bdata": "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",
          "dtype": "f8"
         }
        },
        {
         "marker": {
          "color": "deepskyblue",
          "opacity": 0.8,
          "size": 4
         },
         "mode": "markers",
         "name": "qEHVI",
         "scene": "scene2",
         "type": "scatter3d",
         "x": {
          "bdata": "ikj77AsG0z+Pjwq3Mmj0PwHIxvmO1M0/wGDh5K+r3D/gGHScGevPP0+lkPBqRfQ/UtDtxsJI6D/xd+k0dl6jP9c6kzqaQAE/EjqWL+cl8j+rllwG16foPxHa9jUeses/5q3D0lBd1z8X07oCTSPtPwAa2ogFzuA/uREIS2N91z9F/8DRlsK+P+cOtMszrvM/QHWbZyP24T/Z19x1kpjuP3i++O4Dl+g/MxMGqoBM8j/x7zo8HZuzPyPs8dPgn7s/fUs6dIYxpD/a9qOr74nzP38oZTK+btE/rthUymlM5z/BUHFLR9yxP6A56aTVS+8/OsYKRBwl7z/AsnvcgF/iPxZNyN8DzL0/MbaIJuqd9D8ehx85BSbkPwMkjQjT/+A/BJJ9sPLs4D/hG578WBz0P/QElP6cqNU/aZzJw4A2wT/HidzqWHS5P8PEUWKuN/g/0eqSKLEQsD9M53OmMmrrPzrR1ZdiTcw/n1eyvNak7j+/34yqmODjP/35m1ief9U/P3lQxbQrwj/vrvHUDe34P0jiYrCagNw/nWfeyfCp4z+O65FezzGxP0OgkPLF6u4/x96a8WOH8D8rKFhyxRXSP39ZWEB5sYA/uV5KAh3R9T/Qod5HesLgP9VM903Aae4/ElwfnYHA2j+/+kpQtsr0P/4Ik7dKjcE/MyaWL8vu1T/ysb3a2QO7PwDaY3ulefQ/PO+gs46F4j9V/vXtcJTjP82uvj8ukuY/DNbmG8wt9j/y9MtTcCjTP+qUshqZUoM/VbjyDEA9wD/sUv+xLF/1P50e8ihHQt4/MTTZKG6Q5z8DCsCgvpuZPzJlwOxBrOc/NztP+a9c7j9PMCoPna7XP2qFTCAI7tA/S8Y8zkxr8z+FgE88auO3P+5tohCk5eI/HycFN2q91z939/RnYTTxPw6ct6Zni+M/",
          "dtype": "f8"
         },
         "y": {
          "bdata": "Rucl0xBX1z/qnyerrRe/P3jUtep2w/U/NVm7qnow2z8gmz2cpWruP6phpRUhvuM//3Ulm3Lp8j8rHlFvwXaOP7MYgu+SltA/l6G2v65F6D9u0ZIAREvsP3XXxJyhgbw/EVlcQuk86T+oAJ5vPzDMP4inVA/oRfo/t5J3Fs8Iyj9Fwy0/wEDUP0EJnWIrpug/xyf6fPvQ8D8zaF0Tqo3SP52cLVTKWOk/1soI0t7Wyj9RZvs1RmT1PxSPVmBK2LQ/9EEIBbS9sT8jig0+rwDaP4BsSAcvjPU/05W47Eh80z+Gn+MF6x7jP1Q0LmpmqOo/IYTCtvyA9T+7K1wEr1GWP15WZFR2XeQ/VQdyDez68z+IM4BfaZbqP1HR78LjHaA/KcIFBsvI6j+m7UKys+3eP06DqANwO/I/1oJlSTUjsj/Ga4CIJTu+PwKpdBYkhcU/CnU9krjh9z/UNTMeIAfkPyYlF5oSH+U/XPxFzhOF4T9kq5bExcv3P9Y20K2LWLE/7haTckrb0j/o08tRILnZP0nhAALf0/E/2SqRzlmR2T97TfJ28XHmPy/rW9+zOOk/3KoA7X5/8T8BygSGLHuoPyRiDZisZ6E/wPIWh5AW5D95SuBInTTuPy3eY0hPe9M/EsLIHu3C4z/syG/I6Qp/P6fM8UaeofE/GCViPbD00j/hKiuElCvYP8hN4hTqu+Q/SneL3ieW7j958BKh82jMP78tYZv1Xe0/AoJ75KZztz8vsSWkFZ75PxKd3w+134I/Elrk/neW0j+WOJD0rLDSPwpm7wV0OvU/slMfC48m3D+arg15JLbmP97LZedsDOE/RlK8HrUs8j8uGRmSAkqkP2Nax+o+n9I/um38dhQ/xz8FwyvuPcvyPzyKMWdO090/ArGk7Mtc7T8jnKkNIJDmPwklv10X7/M/",
          "dtype": "f8"
         },
         "z": {
          "bdata": "tpislY/s9T9uXF37TFXEP1JgxsuUkvA/hVBMJ4qI9D/XndBlw1DxP5VHNPNuu+s/NtwJ5bzf1D9d2hM3uvj1P4LYo5WpBPY/O0egy1L74T+jUInBRnbgP+8CxtltLfQ/Ngwx6xWx+D/PhdnAVlvpP8/G9e/h2cM/PJKPS9Zv9j8mJXIimMX4P9rKIw58kZo/PNi1XL2g8j8VsQP5kPb3P6pa/dkm1fU/HxCHwEuk4z/EkGe2jjvcP0U1JqhMXPM/xqk8lSwJ+D/1yuxV6VvVP/hYFLUbguk/Y7D6+mMp7T/sPc9f6Dj1P7cfbwfXLe0/iU+96ScJ0D+jxpH99e74P4Dp8nK70vk/MBCZ7QrA1j9EgZwZsj3nP9GKAY5wlfM/OxC3sQtk8j+hV8OnWMLnPyrnB6CLhtY/dguhTvAv+j+VVoaIZ43yP3ejFzBwPuA/0Iu6shXU5j8+07i7bnv2P2H+iPF8f/I/WGIXAONU8D/ad2bykRyrP1Qt5YUv9/c/WLTV6V909D+YfXg8fTa3PwDVtVif8fA/DROLjWCo9D//s3/tYZPvP1tMBsd49eE/RgUK9gxC4T9LjfgLFp78P0DCFSak9vo/yZNNVG231D/85MrukpjmP2qZK1+WDPA/9ObTNDrI9j8Sb53Qu+3wP5bzhS0/O8E/Ntn1Jj639j+9sfI2AVv0PwEFSLRCisM/uCZOusaC7D9xAxhIo5f0P/1fH7HAGfM/ytdvGSta7D9+z1IaOAjVP1qKU2eUB/Y/ZHkDP4RI/j+SnqGsUo/gP9TwfM0apuQ/+znte3SB8j9X3Py5l0fzPzS0hAeGL+o/D/PB/Stiuz+PGq0Au3P2P6ngN7azSfo/5PFPNmy7rT+m+967+sjxPwUGLhkRVvM/kn2KGndp9D/cnGpxAzrkP2z7C6uz294/",
          "dtype": "f8"
         }
        },
        {
         "color": "red",
         "colorscale": [
          [
           0,
           "rgb(255,245,240)"
          ],
          [
           0.125,
           "rgb(254,224,210)"
          ],
          [
           0.25,
           "rgb(252,187,161)"
          ],
          [
           0.375,
           "rgb(252,146,114)"
          ],
          [
           0.5,
           "rgb(251,106,74)"
          ],
          [
           0.625,
           "rgb(239,59,44)"
          ],
          [
           0.75,
           "rgb(203,24,29)"
          ],
          [
           0.875,
           "rgb(165,15,21)"
          ],
          [
           1,
           "rgb(103,0,13)"
          ]
         ],
         "intensity": {
          "bdata": "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",
          "dtype": "f8"
         },
         "name": "Pareto Front",
         "opacity": 0.3,
         "scene": "scene2",
         "showscale": false,
         "type": "mesh3d",
         "x": {
          "bdata": "bDZplwQbwz9XW42M/mjvPytVHqVpqNQ/8uH94oRw6T91kix1zBjqPyBBxeWO0cc/Gu2EytWm4D+tS9Er5rToPwnASy5NB+M/YErg9Zww2D+53IzBEx/WP0WhJd1LNeQ/TIGExQXf6T+PuG6IoGyeP/vW//fwgek/5f+eLFtkxT+SJmUYXMfSP5Dq60Dkuek/ajoHopBTtj9jWF2EeIPuPyeUn5XcHdo/M9qdjgb/4j+vivAyxAbtP6cEcMLrC9E/7ESBo9Dm2T/2hQZ/6grnPyGlJfxwStc/MMIzj6YQ4T+76jlb5qDkP260oNKYmcs/quaDT/bB6j9Os+VwYDzKP1OYzQTaCtA/Bc1EIFlP5j/x7G2PBNa3P8IQ4PV0He8/tvNekhBY4D/NQ8OsKmDnP9SEgPfWSes/87ZNrL6WuT9GgbaAxkXWPxTh9CPD2uE/X9EFl91P4z/KENLzQTzaPwPDrrxe8OY/isllJXwQwT+usEEgwZjoPwem1mQXWmY/JaahbLSUrD+5NAsxJ8ztP+3EebEUDcU/kqyEVmxp5z8ml07Tr57sPweS4ePcGNA/I8J2oNKI0z+SsYoAv5fjP2ikU11ZjdE/bSmqyiUq4T+GW4PnjkjZPyfMFIZGN+c/tGMbfGtb6D9EkRxl9QvBP27cPz0YYOU/ciFalkbMxj9cVe0uwSbAP2UvkYlh3eo/I3jMLxI/zj8gc7mC5VzsPzvCK5FAhdU/XWAdcKzJ1j/WUfbWBr/bP8Mw6A0s1dE//njfgU6W0j8H/QcQfHPqPwolMmEFP+o/MD/7w4E85D9eK5i53QrvPwvj0nf34oI/JszR0aKG4D/vKpKVkJPGP8dZ/IXQY5I/wUYyTGyZ4T8QNoDm42+0P1GhqmnBauM/czpgih7K5z8weJhijvDiP8wmuRzIRuU/E0FkjjWL1z9SJBjwi/nWP97tn6WWa9Y/TWxMa+SwyT+HUZ/4nzvqP9PsZuAaQuo/iV1E92Zu6T+/EzGi7HHvP0754OP657k/vOwhF5Otzz8QOe6igB3uPxyC9Q0C+sc/cee6K9xu6j86oJRxwM3bP29LUcA+XtM/UTAMWKly2D+0otnKpbbdP39MZvFp3+k/YvbfHBZR5j9I9wmmOJLQP+/2MXYUBew/4vhRh5fR4T9xx1Xv8lnGP/UBp5dSzu4/5GKEGqMTmz8rrNML75O9P702AHcz4eE/jrKsJjZOnT997PRMCV/lPwcceNlqNuY/bX0mf+qo1j/UHiLnLtvpP/EDQ1tuteM/zM+qrrCnzz+lqorbPDzqP2N9HwNj9dk/Rv0zut6B1T8Gwihuu1LvP4Q1DcXs7cE/jFr9lKCD6j9dtDAM9ePoP2oZtcph9d0/bkliiXuF4z/2PiqeJs/BP4nfvuRLLe8/4u+4h7gB4T+bKeMG+VDpP0J7X5Uosec/AOQCzEbdzT+XrjDjAJHGP+yL9a6bHuI/crrwpUqB4D/Fwl5ndgrjPwS9AasaDOo/lwdxbeZnqj/NdOSPuIbpP1iikbeGsLY/MqzMSGZDpj9STOlXRYjuPzo5N+MTHuo/iwPzLgiD5j/1Y8mu1MTpP7vgGphqUNg/AjOIzg/02D/7H4CrgufiP8a6kd/qJtE/JLXZLgs45T/sIF0li8bXPx0Ot3FmNuc/dIIFPk/V6T9pnrMMndzPP6EsYjtXRuo/9Dxwi+IDvz9eoP2QGYO5PwLoL/TE1+4/YqudvvWx3T8zvW2fpZXgP4YdFEQDheY/tsx+CLpYzj8bWqmIOqHePx6Y3OQxUOw/xKrfDwE93T/EQn/13QXkP877xb6rltI/ysxVClnn4j8ipi8yU6HpP/mGVNuRXKQ/thi5RZkQ6j8Vn5+24RuhP8+CRbvhr+E/yJ3LgEeG5T+EQJkSP4RzPyZcGUV63O4/UCQ7oMnX2j8gzS2DZbLhP06sEdX8pOo/NF4g/IR61j8v1hu+Ln/YP9gqjjyXL+Q/D2/JVI5X0D/j1y14IWflP0HoRlx1auQ/8kGLs1fVuj89VcOC7/DoP0cTzi+r78s/mV4vILG+0T9XfGZscrHqP0OD6SCcqbc/W2Rifw0Q7T983Nr+IYzfP7r22odyKcE/krNnxqJr2z/X74zom83YP1nIb6lGpOw/TtnRiKxF4T/c7lrlKQnNP3Bn2xSKhus/NYpH9gV13j/4IGVPbSOrP5kMb2rTeO0/DvZIyuj4qT94WpMf65KGPyUQOY84+uc/bcDse7AesT/IQCCEQr3gP3Gww3+Be+Y/nWDVjECm2T8mpWyo6svpP4WzVQahjNo/QMO3o7V2yT93o8pz0AfoP6R07aDMt+A/CC6PlN9mzj92qYUjFMTuP+rBXCh3HMQ/CRNapqBf6j/25NwpXpDuP1wzIjFWbLQ/7KVjeVi47T+ZcgkfTETSP1nJZN+bdOw//ShENKS63j/tnbu4p0TbP73vOnPz9+I/bDfVqNciyD/rMWg9VlTTP8QBs+HPMus/mYFulf9+7j+yvcuQaxjiPyeDkrMFWe0/nKiiiGEotj+h9w3NldjeP6WULH9ZF7Y/Yb35yJmmsj+1XJtMRX3cP9NV+FZ4eLA/1mpPE/ru5z9e/C1VM1TpPzZcav2Pmd0/zy0SqoBP5z/+6ySZnObeP187bLzIuuA/7bLo3b9d1D+VyOQHP7POPyke4cYBpuk/RSSoeqvn7D+tHjIW3kLrP10lnbwYMu8/a12g7vt0xj/fWXlNH6TfP2iKxhm9nt4/QlU31lcdwj+jP5uORuHvP6GReltMmd8/4AUjI3/e4T+Q7x3kFK3oP4vOc8EQsc0/C5t6tnt/4T94NE8iJxfgP5RhCoc67ds/mLbFEwGR5z9kusk2u6zqP3Op7UaQF64/a8i6gdTN4j+GvbD70Ri2P3pzYDicx4c/l/6RI3aW7T+my6jnPJbMP43YBYwvGeM/jy/v5Vve7z9Hpu16mrXcP9pYkVXn3eM/pmh9uWia5z9aLSiYcpTLPwM4XLt1v9k/Sob81e031T+k/BYuLOHgP6SYOu4xNOw/O/IhJXv11z8RBLp70ITqP53nwQRts9E/uNCfGsXqvj9oZFdr7cfvP7lSo0xXLtc/3b/AlnB55D8D/cudOf7nPxLDzCKSYsg/xdM8dvDt3T8ARKRpRErcP62HiOL3Z94/Ur3kOjIv5T8MFM3DOvTfP1vNKroU1to/1k6j1pfp4T9vSIEue2y1P19aA7vKtuk/fFFwiakbkD9CVJVRh93DP3WDq/Fxb+I/SnpmiGOfgD8MhWyez5TsP5dmES5dBuI/wgh6h0P05j948/g9zGLvPy6HXCSDTdw/1DjTB6tT0D82qI9EzyThP/XB/Pv5NcQ/3NPDI5Iz0z9mrAodrRTrP8KFA8oP0sk/yY2yO+h/6z+OzHbqFxLUP2sa/HD7acg/Vjmqawm06z/Z7NUr3Xy/Pzt+ZmNJmuc/RNml/T0q3T8lZIDK1N/SP9xsGfbx5eE/Jg5/XsaM1j8UiUlBvOHmP4OSU9LObOE/MZHH60yb0D9NiEguaD/rPxMIbDvQHeA/HdFSFhvEfD8pppWdpA3vP7c9sQkCu7I/YGRbx0SUqj8IBwpSC7HpP4XqIxSlnb0/xE7z33W14z8l0eikHqXZP5ae1WYA6NY/vLlObO8K5T8RBPqOFiHWP+mAQdR6vtE/NChCvQLP7z9nIBPomfXjPz4wj/HP3dw/rdZHyEmZ7T8LT4e8gIG1P1hUhJ885eg/epHfzuaBzz/UbJbTgvXDP9cJYA9tquo/tQJbTtGmzz8K7EnCWIPrP21y+yiaweE/elvfcIel2j+AwyYwFezZPzLJ3LG9EtY/jcFD4IR/zT97dELWIBzsPxPlx0vfmOY/z2jsG9Rt4T+7a28wqo7vP8px7rnPP7U/3E710WDB4z9L478Aazq3P4bpEI6LvsY/RY2p6kQE5j8wxbYfedexP1qcUIg+COs/1JMxyr8v5j9aU1iMMyHWPwX8tpqaqtU/eh6fh84Q0z+d8vPDYX3mP5cznBxEEds/yL0c+lPr0j9hjBfbekrvPwiGSW/TvOk/iyuwmoFe1z/pRkFFtd7tP9Syh3qhkLs/7kRKTebZyT/v3IS8q5rvP4vg2fCpBtU/BOnwJPxT6D+kE6DfjAbpPzgE+M4ONMg/Cv17fZkf2T957sBIkODmPz9qlrPx1eE/OfJiEBYG6D9Iw7aJSdPbP9NJTfbIedo/5ep6o4ye5z9Ebm5QmoqgP1gW7u8Ua+k/008wFZOfsz+eu8XdZX7EP8t1cfSPdtg/4w3tt9zorz8MoLU/7lfqP9DG27s4m94//VCLeRJS7D9mAKoyNe7uP7HU3SHw0d4/vOS0gUIqyD+UycktM7fkP0nDAvSFV8k/YAtiD6Hs3D8fLunCuDbqP36b33IlJ9E/qI0IPg/a7j9b82oU3DPMP47cSjjU3dE/OkYMNUwP5j+AsGwpRkfLP0Ir5wf+YO8/r3V7SC/I1j86UK/P4EflP8ZRG/4/Bec/l0Zlasz7xz/Ts72wtL7XP3W3AeOA1uA/GhWo1FUD4D/TFM/mtgDnPyQQDup1SOo/W9Sf7IZcqj8QKIwJiM3nP4dyMCJ2RJM/Vi0LtvCdqT+MEJeCldzqP8VoCNbp4p4/rqE/2RYr4T94nqyFKs7uP5CgHTuF8Ns/g/DWogQ/4D/ayucjwI3pPwq4qkCU0c0/r2xgf48M2T94sS3L6ynDP6KxvuhZmeI/yd6UvKwP7j+X6K1xua7NP9ieVpi6jug/MpCxaRmTzj8ZbCPUfnnIPy5FWWXbCug/dqBT6LZZtz/GL6r/XuTsP3ym7fTlTeU/B+9wk+ap1j+yHHx9O1vOP4zul+cGzdU/0nzhOSCe0z8r8HdBM2DpP9mHJmkhlOc/CWBc9OBq4D+OMXFwkkvvP6283imPBZg/4NZBuTxb4D8Sp+3QDDzDP8P//6IDCXw/WMUwP/F16D8Z1KPcpBu8P+fGYSstB+s/p7PM0+Iy5j/vWryxLyzRP7ew+czFWeI/UgSdaDCwyT8aTP1Zr5/lPyh5KitIR9s/0UZy1b6t2D8IeERmM13tP3AtnRu/398/s3WOomVC4D9GwaO+/yPtP/HaO3wmw7U/+uB+OZdawj8aYfQS0f3tPySCKHGbBcg/PdFh71ag6j//7+79ETPYP/jsSIaXQ9c/qARpe+mL5j82MI64gcXVP4CdETFSzug/BMqzG3Cl3z+OWPnxsVnVPz5BM4Fdb+k/VwXDFBN93j9EsiV8Hl7RP0ndXvXSSu8/WUmLVGx2pD+uIViFYAbDP5hyukVTT+w/m7QqPtXdsD/7p/Zv/6TnP8OeLKuezOI/mCJ71eCa0T/6cMIUn+TkP4bhWGYyytE/tMByMB0h2D/BkIKGD+jtPxMsP7rh1+Q/csxCmwZt3j/GcvF9Ic7uP7oWvuvSW7U/JkuEX1EA5D+qp50BOGXjP9XdDEZLMNM/OCBU7Sjy6D9dABD4Q/26PzeP066i5Ow/eP7KebcJ5j8Ntk8wVGa+P5Yr25lyheQ/tQNRWb8T2j9wwDigvQHZPyZqG0jlnus/8P8yzSFN5z9ttquMKPzXPwMUza/7++w/1BSDLGiuoz+JZIFwAKrlP2NiirOgHOA/igFq/D4Xqj9NQUIRNpbrPwt3zPSCpsA/uj+TB5G36T+qmhLLhtHWP5qBtlxzP9U/YQcbfsDQ5D8RtpAd/kDdP+MLFiHiIu4/BBIK32XG4T8eGHNqsKXRPwEJ05C29us/rjpjSjBf5D9K/YKw7dPVP4yW7VpZ3+4/b9H92yq9wT8SkEdyOeOzP/6zZgl4wek/eThh0np40D/5qMJlwS/nP6QRy7G37OE/hYISuJhZ2j+MMUPJLSflP/PfkEzCu8Y/cPwfLCjY5T9GL1IhgY/YP5NPoodaWtY/a9qYs0nx6z+NhlWYP9XkPwx+fWqaKNM/1YfDQxUn7T9M+AMkSCBmP6jkPGf9oLE/0cz99UIA6T/kAkMCftibP+BqfO1dzOs/ajHCgQsR5T88tmfWhU/YP5vv71oJnNs/rwJ8f66/1D+edh1WuI3RP94oRN8nbOo/WzmTkrCK7z9IekCpLkzgPxUTi9KZPe4/aZiyUvz8uT9Ut2/DIhLgP4kwTkrd5dU/Q3T9MUyewT+B67xFL3/tP1RPJlMqC+c/I9FJxhOm6T93wZUn4SnqP7fn8Gs1+Mk/96LSg19ozz8IBB022HflP5mx7P8szc4/2sqHFS095z/BZhaT4ADdP3H15HLHiuc/UKlbxUIk5z+IhwyE87KGP8XcDqhV1OU/rvzDn4nQrD8ox+bNnXihP2CCHdcBp+A/v0AxaYngqD+8PRt3U6XsP9VmIOroC+I/hSFjvLAd7z82pXrl7B7uPx8XcPw+qtE/0RdRKu2uyD9bmZ1mLFLVP8TZzEt4ztU/Tr/+04gb3z+4qn1uDxTsP5UksjXf3tA/pJb0cXAx7T8nfyiVRKjBPxnxr69vWOI/6i9n9h5d7D9og9cssIrCP1Q4+y6l/O0/8IyfC1JA0z+qXiHyMwXlP9kNWBqLCes/H6SIHTcRzj8BLcDKAX/fP6mjVAmyfOc/yj9CNPXW1j+8AdoC6ATnP9Rxw48+K+U/VVjWj3X7pz9TtvS5XDrmPwl9P544IrQ///xzv1gntj9QWlt07ADsP4H8W2DpZbA/KXKrE6NU3z9aCnoOP4vtPwT8XSEUdNY/EAozMysL4z+DhePSosjvP3K0Pg/jq9Y/s3sSEIaS4D+p73axHXrKP9a5bOrnJdw/xVp0cr5o7T8TwpyprcrEPwaeeMYVku0/Es84m0cQ0D9ocxPi4u/IP0PoAnvWPeg/E4ej91mq0T/yb0U6Fv3nP0qWIDi/0eI/ml/EeU/J2z+P192uc8XgP6Fv/8RQh9I/hivXnHMM5T+hPQuymaPdP3M98gAkQMc/MQTf3oop7j/VUVbqcx7pPx5O+6vTIMM/e8SkP4N47T/iAh6EJxquP8D+umHHJaU/KuelVq1/6T/sbl2ZE3LDP+7HPylYGuw/B36pnVTB3T+nOvVeVq/eP06r4P5iwOE/rGDps8PO1j9ovZSQs9DMPymCfhONT+w/5z5iRZJ57D/v476aLNngP+6bQeSdmu4//vJpE2gPxT+1Y2od+zHmPyS8xhjtSdA/OF8nqrs+xz8wx0icgFnmP8+G827ZFMY/7fQBNNDe5z/1QgoC/cbhP5XBpfGencs/gCgPoR+K4z94BVCjPwvcP60D610Ydc0/3sbeqiVs7j9Jb2fAx6DmPxRQThvw+9o/1ajV17xO7D9d6K76Sm2nP3IIExsO8OY/bIoqxyFVuT9aFQYTp0K/P9XPLOeRYOo/d7MMwdymWj+ldCONKXjoP577Y6dmk9w/XPggWFNn2D8uDxgpnNzfP8HkFV8ard4/4vqDDhfe7D+dYbgrNjvhP0B1ANXojsc/9mB9mWI07T+25GFMhAblP3QU+d9WZMs/X1TI6nKn7j/erH1vVs+/P6eWkEWKneE/VceSWEzC6T+R1ep20I6vP2/vaKDcB+8/JBKkQ9Tp2D+SjBEqsKLaPxP9JWD1Kuw/iRJ9GS+iwj+Nv/mgiefjP+m6wXnfq+M/PaLwOoZv0j8Y+/0xTCrlP4US7ABUROU/fdWg3uPejT/DntBrod7fPwEwJuaWVrs/8PKK7Cl7gj8cdeD7Qb3tP0VBM8yVZ8E/2julZ3ki2T8S69Gsx3LsPxerDyW+ktU/BBo9acuW5D/03wVNnWntP65LVg92d9E/x7b+Pf1v2j9YPEQ+mmHSP7tknSKjKtc/2KwcRH+l6j9ZfPlb61nFP6uVxQKf7+0/qoM9bgbryj+l9w+HPWy9P3nzmRUsx+4/7Us58w6j4z+QUdG3XzfqPyjLsPw4Fu0/daLZ75sHzT+ITRvg7cnaP499/O7Mrt8/5wIqwXxI0T+dnyzS8O7mP0kVj+w3B+U/6M1qG3ao5j+FLWgDB+zeP5mzw/OvMsQ/Z4qs5uHW5z9ujHa396udPyGmHLFSO8M/RZNUgRM74D9P54QbWEajP/62wpZHH+4/0tBgmcc+5z+DIBGPzC7uP/xXMXKhl+0/QSVEqghj1z+4c9eLrVHVP2Yn2RbikdQ/1O3KLuKo1j8fEiZE9+3dP8SjpsHGy+4/ojySH3MdzT8Md9bhn3DqP5+9PQaDas4/sYFOoz8gzj89t56JREPmPz3UdmvlYsg/SB0O15pl7j80dK8qhyTmP9R/qaKFZM8/jC3Z0UuX4D+zft03Rx/TP2Xh5qliYOg/XSzSceBq2T++uIvfl97ZPzGpYBW1z+4/pOmmM8hN4z8NLQdbT7nDP2imCgxReus/PFdF/ZWSsz9XSpgv68KYP49YDzQZcOY/8g8war9hrj9TpmRaYCPoP3kqINqITOo/7GA/Qu045D9wZQ5CG0DkP8+/cTi/498/yRVcr7u5wj9nkNxy8V7oP1DtQwoQ7ec/OOQMeqsX1T/N2eLr6orvP1T7tJHlg9A/CRetVcM06j8cJNSDcLrcPwln9YREF8k/6qSjDp457T+SEWJ0RNDJP+QSzM1Wid0/keu/RxUz3D86rbYWTBLUP9FbKaliYeQ/NdFc2NI9xz+8XSfB2z7WP5r46wRgx+4/mep3M0x85T+UZT/amTXbPw/qzq3FRes/ZlhNuAehrz80ibOd9XDjP2PFCZT7yJY/19fYOn83oz/Qtl3fhxLpP3zZHsxNRIQ/Md7aDuOV5T/+YnM7RTLlP6/8zamLfdo/R+4195pP6D+LzWcojL7hPzC6W7ck3+U/74ZcpVO20D+g08OFSMrDP9vS5JO2n+U/G9DAfAWI6D8GK8vfImPbP3vcr1zRa+8/XJhbYtnM0D/tR1oB9R3fP9bx9ytu2OQ/1Ep5zpi+uj+L6/QoOMbtP4vcm0r71NY/ArBWtZvc3z82JWFM8lvtP5dTWxr2atQ/f5ZiEDrK1j/h0bwjknznP9wiWbhn9NQ/N3ewd4V65D/rHpf0dk3kPxMcIkjTznA/bjK5SFTJ6T//C4N5ON+3P77XprcyQp0//p5IP6JA7z+BxT0oiA7LP7lGV+/w9OI/0RXqz5S16D+jWYxhzqXPP3sZELLVu9s/+tvkNyGp6D8Yai0q6abaP+SDCj/V5Oc/jIxaJFeE2T/ZEIlbLk/dP2LXp9gbw+Y/VAMUQnspwj8IQC4oEC7sP79EDng34LI/w07Mn4l7uz+tzDithdjuP/DJGG8aR+I/qtbK0GoH5j9O/ACQ1wnuPypMnUdoAtM/mA5EHux12T9tGVbsQDngP0E672ea+Nc/06cqK5Bq5D9nX7zETfLVP5F33GJsguY/EvhdjBPN6j/WHiH5GSPAP/dCQ0rN+uA/+RBSqJQnrT/qn4xIqdLaP79wBVO1L+I/zqZ3paqtqj/Gnhxk22bvP+SiVghO5tU/aN9Sig1d6T/Dk8i0KjzoP63VguUg+dE/v2K8xiQt2j8dDEwYU17gP/fugaYbZNg/Yk2KvvTf5z9LCVKsTmntP+5anKGqTbw/3490+PK86D9BKsE54zO/P+k5kNxLBNI/EYZqW/v56j+ZUgYOUIrLP2T+kwopEeg/0247eWAP3j9vP7PMy03QP1U8WkgC/OI/xxUiDjwJ1z8bDSZ3gy/ZP8tsbKXhR+8/wwhNcDJh5T++xTGyNuXfP97h4KcLv+0/vNzqZdYNkz85pUf+jqrkP603vEd7ocs/GneeE6/kqT8zcSIlbejoP+Q3TZUjCLE/lOFNtFwD2T99mA9pLBbjP9GylBXtFuQ/mUwS0G226D983+DZkhPiP/2ubIHjbeI/0uw+Q4hj2z84CC6VPWTFPzCfcXSHjec/8ublE9iI5z8PxyJVhevgPzrej6Hv8e8/+QiKuEJgxD+Ya+xncqHFP9bXUP8ELek/1UjVVhaUzT8pbrBUy7DqP0G5kSRnbeM/lbA+Nm240z+HW/nykuraP7M6cTm9x8s/WTcNes6V5T8YQDC5U4/YP4LQ9lfA7Ng/F8snXOV97j9KBE9cYrrkPyZivE0EesI/uvwVCMIc7T8IFrjXcZaEP1tKFunYn7E/GMTyixKX3z9z9TXAQLKIP50cTSQ23uc/yMxoBFpQ5z/grKxA6ubiP5QB9Z5gm+A/LpbmXkDQ4j8MGtbyUdHBP+X0lseTV+c/g3CI5ReP3j/sN2NplArbP4tKZ0my9+8//JEbSPqAwj+prc6xD1zoP3HiJJpK0Ns/xlD5TKpKvj+6e8jCRNXtP7HnL43w880/hY/lEDwZ6j9Xms7Wm53uP07BdGk1sc4/QvI/c7Xg1T+MiNaxeqXhP2EgV+uljNo/+EhPbY743T+Foq0tRi3YP8aonaamIuc/hZg9u9zv5z//F5fmAkOiP1Ck/mWbEeA//GiP/z18tj+ylYufG8VnP7iGFinEsuU/PzF2YBUKtT+12RqOpaTvPyrj8odCYN4/J0pv8S8V5z9/PyitI4HqPxmBWhY85cc/y2+sbunw1j+nL6vuFXbhP+CAPrW6+t0/D9wUvbsc4z9uPvgxtU3qP2SL5hrrtsQ/cv8uT5544j+aoVdqhdK2PyfMLJTJztU/m8/ZcT4u6z/09H8VUpnCPzBLKc0nPO4/e5rrGWUU0D/a2FpZOzDlP5R/savjGO4/jOBcjBZ10D8=",
          "dtype": "f8"
         },
         "y": {
          "bdata": "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",
          "dtype": "f8"
         },
         "z": {
          "bdata": "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",
          "dtype": "f8"
         }
        }
       ],
       "layout": {
        "annotations": [
         {
          "font": {
           "size": 16
          },
          "showarrow": false,
          "text": "qNParEGO",
          "x": 0.225,
          "xanchor": "center",
          "xref": "paper",
          "y": 1,
          "yanchor": "bottom",
          "yref": "paper"
         },
         {
          "font": {
           "size": 16
          },
          "showarrow": false,
          "text": "qEHVI",
          "x": 0.775,
          "xanchor": "center",
          "xref": "paper",
          "y": 1,
          "yanchor": "bottom",
          "yref": "paper"
         }
        ],
        "height": 600,
        "scene": {
         "camera": {
          "eye": {
           "x": 1.5,
           "y": 1.5,
           "z": 0.6
          }
         },
         "domain": {
          "x": [
           0,
           0.45
          ],
          "y": [
           0,
           1
          ]
         },
         "xaxis": {
          "title": {
           "text": "Objective 1"
          }
         },
         "yaxis": {
          "title": {
           "text": "Objective 2"
          }
         },
         "zaxis": {
          "title": {
           "text": "Objective 3"
          }
         }
        },
        "scene2": {
         "camera": {
          "eye": {
           "x": 1.5,
           "y": 1.5,
           "z": 0.6
          }
         },
         "domain": {
          "x": [
           0.55,
           1
          ],
          "y": [
           0,
           1
          ]
         },
         "xaxis": {
          "title": {
           "text": "Objective 1"
          }
         },
         "yaxis": {
          "title": {
           "text": "Objective 2"
          }
         },
         "zaxis": {
          "title": {
           "text": "Objective 3"
          }
         }
        },
        "showlegend": false,
        "template": {
         "data": {
          "bar": [
           {
            "error_x": {
             "color": "#2a3f5f"
            },
            "error_y": {
             "color": "#2a3f5f"
            },
            "marker": {
             "line": {
              "color": "#E5ECF6",
              "width": 0.5
             },
             "pattern": {
              "fillmode": "overlay",
              "size": 10,
              "solidity": 0.2
             }
            },
            "type": "bar"
           }
          ],
          "barpolar": [
           {
            "marker": {
             "line": {
              "color": "#E5ECF6",
              "width": 0.5
             },
             "pattern": {
              "fillmode": "overlay",
              "size": 10,
              "solidity": 0.2
             }
            },
            "type": "barpolar"
           }
          ],
          "carpet": [
           {
            "aaxis": {
             "endlinecolor": "#2a3f5f",
             "gridcolor": "white",
             "linecolor": "white",
             "minorgridcolor": "white",
             "startlinecolor": "#2a3f5f"
            },
            "baxis": {
             "endlinecolor": "#2a3f5f",
             "gridcolor": "white",
             "linecolor": "white",
             "minorgridcolor": "white",
             "startlinecolor": "#2a3f5f"
            },
            "type": "carpet"
           }
          ],
          "choropleth": [
           {
            "colorbar": {
             "outlinewidth": 0,
             "ticks": ""
            },
            "type": "choropleth"
           }
          ],
          "contour": [
           {
            "colorbar": {
             "outlinewidth": 0,
             "ticks": ""
            },
            "colorscale": [
             [
              0,
              "#0d0887"
             ],
             [
              0.1111111111111111,
              "#46039f"
             ],
             [
              0.2222222222222222,
              "#7201a8"
             ],
             [
              0.3333333333333333,
              "#9c179e"
             ],
             [
              0.4444444444444444,
              "#bd3786"
             ],
             [
              0.5555555555555556,
              "#d8576b"
             ],
             [
              0.6666666666666666,
              "#ed7953"
             ],
             [
              0.7777777777777778,
              "#fb9f3a"
             ],
             [
              0.8888888888888888,
              "#fdca26"
             ],
             [
              1,
              "#f0f921"
             ]
            ],
            "type": "contour"
           }
          ],
          "contourcarpet": [
           {
            "colorbar": {
             "outlinewidth": 0,
             "ticks": ""
            },
            "type": "contourcarpet"
           }
          ],
          "heatmap": [
           {
            "colorbar": {
             "outlinewidth": 0,
             "ticks": ""
            },
            "colorscale": [
             [
              0,
              "#0d0887"
             ],
             [
              0.1111111111111111,
              "#46039f"
             ],
             [
              0.2222222222222222,
              "#7201a8"
             ],
             [
              0.3333333333333333,
              "#9c179e"
             ],
             [
              0.4444444444444444,
              "#bd3786"
             ],
             [
              0.5555555555555556,
              "#d8576b"
             ],
             [
              0.6666666666666666,
              "#ed7953"
             ],
             [
              0.7777777777777778,
              "#fb9f3a"
             ],
             [
              0.8888888888888888,
              "#fdca26"
             ],
             [
              1,
              "#f0f921"
             ]
            ],
            "type": "heatmap"
           }
          ],
          "histogram": [
           {
            "marker": {
             "pattern": {
              "fillmode": "overlay",
              "size": 10,
              "solidity": 0.2
             }
            },
            "type": "histogram"
           }
          ],
          "histogram2d": [
           {
            "colorbar": {
             "outlinewidth": 0,
             "ticks": ""
            },
            "colorscale": [
             [
              0,
              "#0d0887"
             ],
             [
              0.1111111111111111,
              "#46039f"
             ],
             [
              0.2222222222222222,
              "#7201a8"
             ],
             [
              0.3333333333333333,
              "#9c179e"
             ],
             [
              0.4444444444444444,
              "#bd3786"
             ],
             [
              0.5555555555555556,
              "#d8576b"
             ],
             [
              0.6666666666666666,
              "#ed7953"
             ],
             [
              0.7777777777777778,
              "#fb9f3a"
             ],
             [
              0.8888888888888888,
              "#fdca26"
             ],
             [
              1,
              "#f0f921"
             ]
            ],
            "type": "histogram2d"
           }
          ],
          "histogram2dcontour": [
           {
            "colorbar": {
             "outlinewidth": 0,
             "ticks": ""
            },
            "colorscale": [
             [
              0,
              "#0d0887"
             ],
             [
              0.1111111111111111,
              "#46039f"
             ],
             [
              0.2222222222222222,
              "#7201a8"
             ],
             [
              0.3333333333333333,
              "#9c179e"
             ],
             [
              0.4444444444444444,
              "#bd3786"
             ],
             [
              0.5555555555555556,
              "#d8576b"
             ],
             [
              0.6666666666666666,
              "#ed7953"
             ],
             [
              0.7777777777777778,
              "#fb9f3a"
             ],
             [
              0.8888888888888888,
              "#fdca26"
             ],
             [
              1,
              "#f0f921"
             ]
            ],
            "type": "histogram2dcontour"
           }
          ],
          "mesh3d": [
           {
            "colorbar": {
             "outlinewidth": 0,
             "ticks": ""
            },
            "type": "mesh3d"
           }
          ],
          "parcoords": [
           {
            "line": {
             "colorbar": {
              "outlinewidth": 0,
              "ticks": ""
             }
            },
            "type": "parcoords"
           }
          ],
          "pie": [
           {
            "automargin": true,
            "type": "pie"
           }
          ],
          "scatter": [
           {
            "fillpattern": {
             "fillmode": "overlay",
             "size": 10,
             "solidity": 0.2
            },
            "type": "scatter"
           }
          ],
          "scatter3d": [
           {
            "line": {
             "colorbar": {
              "outlinewidth": 0,
              "ticks": ""
             }
            },
            "marker": {
             "colorbar": {
              "outlinewidth": 0,
              "ticks": ""
             }
            },
            "type": "scatter3d"
           }
          ],
          "scattercarpet": [
           {
            "marker": {
             "colorbar": {
              "outlinewidth": 0,
              "ticks": ""
             }
            },
            "type": "scattercarpet"
           }
          ],
          "scattergeo": [
           {
            "marker": {
             "colorbar": {
              "outlinewidth": 0,
              "ticks": ""
             }
            },
            "type": "scattergeo"
           }
          ],
          "scattergl": [
           {
            "marker": {
             "colorbar": {
              "outlinewidth": 0,
              "ticks": ""
             }
            },
            "type": "scattergl"
           }
          ],
          "scattermap": [
           {
            "marker": {
             "colorbar": {
              "outlinewidth": 0,
              "ticks": ""
             }
            },
            "type": "scattermap"
           }
          ],
          "scattermapbox": [
           {
            "marker": {
             "colorbar": {
              "outlinewidth": 0,
              "ticks": ""
             }
            },
            "type": "scattermapbox"
           }
          ],
          "scatterpolar": [
           {
            "marker": {
             "colorbar": {
              "outlinewidth": 0,
              "ticks": ""
             }
            },
            "type": "scatterpolar"
           }
          ],
          "scatterpolargl": [
           {
            "marker": {
             "colorbar": {
              "outlinewidth": 0,
              "ticks": ""
             }
            },
            "type": "scatterpolargl"
           }
          ],
          "scatterternary": [
           {
            "marker": {
             "colorbar": {
              "outlinewidth": 0,
              "ticks": ""
             }
            },
            "type": "scatterternary"
           }
          ],
          "surface": [
           {
            "colorbar": {
             "outlinewidth": 0,
             "ticks": ""
            },
            "colorscale": [
             [
              0,
              "#0d0887"
             ],
             [
              0.1111111111111111,
              "#46039f"
             ],
             [
              0.2222222222222222,
              "#7201a8"
             ],
             [
              0.3333333333333333,
              "#9c179e"
             ],
             [
              0.4444444444444444,
              "#bd3786"
             ],
             [
              0.5555555555555556,
              "#d8576b"
             ],
             [
              0.6666666666666666,
              "#ed7953"
             ],
             [
              0.7777777777777778,
              "#fb9f3a"
             ],
             [
              0.8888888888888888,
              "#fdca26"
             ],
             [
              1,
              "#f0f921"
             ]
            ],
            "type": "surface"
           }
          ],
          "table": [
           {
            "cells": {
             "fill": {
              "color": "#EBF0F8"
             },
             "line": {
              "color": "white"
             }
            },
            "header": {
             "fill": {
              "color": "#C8D4E3"
             },
             "line": {
              "color": "white"
             }
            },
            "type": "table"
           }
          ]
         },
         "layout": {
          "annotationdefaults": {
           "arrowcolor": "#2a3f5f",
           "arrowhead": 0,
           "arrowwidth": 1
          },
          "autotypenumbers": "strict",
          "coloraxis": {
           "colorbar": {
            "outlinewidth": 0,
            "ticks": ""
           }
          },
          "colorscale": {
           "diverging": [
            [
             0,
             "#8e0152"
            ],
            [
             0.1,
             "#c51b7d"
            ],
            [
             0.2,
             "#de77ae"
            ],
            [
             0.3,
             "#f1b6da"
            ],
            [
             0.4,
             "#fde0ef"
            ],
            [
             0.5,
             "#f7f7f7"
            ],
            [
             0.6,
             "#e6f5d0"
            ],
            [
             0.7,
             "#b8e186"
            ],
            [
             0.8,
             "#7fbc41"
            ],
            [
             0.9,
             "#4d9221"
            ],
            [
             1,
             "#276419"
            ]
           ],
           "sequential": [
            [
             0,
             "#0d0887"
            ],
            [
             0.1111111111111111,
             "#46039f"
            ],
            [
             0.2222222222222222,
             "#7201a8"
            ],
            [
             0.3333333333333333,
             "#9c179e"
            ],
            [
             0.4444444444444444,
             "#bd3786"
            ],
            [
             0.5555555555555556,
             "#d8576b"
            ],
            [
             0.6666666666666666,
             "#ed7953"
            ],
            [
             0.7777777777777778,
             "#fb9f3a"
            ],
            [
             0.8888888888888888,
             "#fdca26"
            ],
            [
             1,
             "#f0f921"
            ]
           ],
           "sequentialminus": [
            [
             0,
             "#0d0887"
            ],
            [
             0.1111111111111111,
             "#46039f"
            ],
            [
             0.2222222222222222,
             "#7201a8"
            ],
            [
             0.3333333333333333,
             "#9c179e"
            ],
            [
             0.4444444444444444,
             "#bd3786"
            ],
            [
             0.5555555555555556,
             "#d8576b"
            ],
            [
             0.6666666666666666,
             "#ed7953"
            ],
            [
             0.7777777777777778,
             "#fb9f3a"
            ],
            [
             0.8888888888888888,
             "#fdca26"
            ],
            [
             1,
             "#f0f921"
            ]
           ]
          },
          "colorway": [
           "#636efa",
           "#EF553B",
           "#00cc96",
           "#ab63fa",
           "#FFA15A",
           "#19d3f3",
           "#FF6692",
           "#B6E880",
           "#FF97FF",
           "#FECB52"
          ],
          "font": {
           "color": "#2a3f5f"
          },
          "geo": {
           "bgcolor": "white",
           "lakecolor": "white",
           "landcolor": "#E5ECF6",
           "showlakes": true,
           "showland": true,
           "subunitcolor": "white"
          },
          "hoverlabel": {
           "align": "left"
          },
          "hovermode": "closest",
          "mapbox": {
           "style": "light"
          },
          "paper_bgcolor": "white",
          "plot_bgcolor": "#E5ECF6",
          "polar": {
           "angularaxis": {
            "gridcolor": "white",
            "linecolor": "white",
            "ticks": ""
           },
           "bgcolor": "#E5ECF6",
           "radialaxis": {
            "gridcolor": "white",
            "linecolor": "white",
            "ticks": ""
           }
          },
          "scene": {
           "xaxis": {
            "backgroundcolor": "#E5ECF6",
            "gridcolor": "white",
            "gridwidth": 2,
            "linecolor": "white",
            "showbackground": true,
            "ticks": "",
            "zerolinecolor": "white"
           },
           "yaxis": {
            "backgroundcolor": "#E5ECF6",
            "gridcolor": "white",
            "gridwidth": 2,
            "linecolor": "white",
            "showbackground": true,
            "ticks": "",
            "zerolinecolor": "white"
           },
           "zaxis": {
            "backgroundcolor": "#E5ECF6",
            "gridcolor": "white",
            "gridwidth": 2,
            "linecolor": "white",
            "showbackground": true,
            "ticks": "",
            "zerolinecolor": "white"
           }
          },
          "shapedefaults": {
           "line": {
            "color": "#2a3f5f"
           }
          },
          "ternary": {
           "aaxis": {
            "gridcolor": "white",
            "linecolor": "white",
            "ticks": ""
           },
           "baxis": {
            "gridcolor": "white",
            "linecolor": "white",
            "ticks": ""
           },
           "bgcolor": "#E5ECF6",
           "caxis": {
            "gridcolor": "white",
            "linecolor": "white",
            "ticks": ""
           }
          },
          "title": {
           "x": 0.05
          },
          "xaxis": {
           "automargin": true,
           "gridcolor": "white",
           "linecolor": "white",
           "ticks": "",
           "title": {
            "standoff": 15
           },
           "zerolinecolor": "white",
           "zerolinewidth": 2
          },
          "yaxis": {
           "automargin": true,
           "gridcolor": "white",
           "linecolor": "white",
           "ticks": "",
           "title": {
            "standoff": 15
           },
           "zerolinecolor": "white",
           "zerolinewidth": 2
          }
         }
        },
        "title": {
         "text": "Initial Training Points"
        },
        "width": 1200
       }
      }
     },
     "metadata": {},
     "output_type": "display_data"
    }
   ],
   "source": [
    "# 1. Plot showing just initial training points\n",
    "fig_initial = make_subplots(\n",
    "    rows=1, cols=2,\n",
    "    specs=[[{'type': 'scatter3d'}, {'type': 'scatter3d'}]],\n",
    "    subplot_titles=(\"qNParEGO\", \"qEHVI\")\n",
    ")\n",
    "\n",
    "# Generate Pareto surface using problem's built-in method\n",
    "pf_surface = create_pareto_surface(problem)\n",
    "\n",
    "alg_data_initial = [\n",
    "    (-train_obj_true_qparego[:n_initial], \"qNParEGO\"),\n",
    "    (-train_obj_true_qehvi[:n_initial], \"qEHVI\"),\n",
    "]\n",
    "\n",
    "for col, (train_obj, name) in enumerate(alg_data_initial, 1):\n",
    "    obj_np = train_obj.cpu().numpy() if isinstance(train_obj, torch.Tensor) else train_obj\n",
    "\n",
    "    # Plot initial points\n",
    "    scatter = go.Scatter3d(\n",
    "        x=obj_np[:, 0], y=obj_np[:, 1], z=obj_np[:, 2],\n",
    "        mode='markers',\n",
    "        marker=dict(size=4, color='deepskyblue', opacity=0.8),\n",
    "        name=name\n",
    "    )\n",
    "\n",
    "    fig_initial.add_trace(scatter, row=1, col=col)\n",
    "    fig_initial.add_trace(pf_surface, row=1, col=col)\n",
    "\n",
    "# Update layout\n",
    "fig_initial.update_layout(\n",
    "    height=600,\n",
    "    width=1200,\n",
    "    scene1=dict(\n",
    "        xaxis_title='Objective 1',\n",
    "        yaxis_title='Objective 2',\n",
    "        zaxis_title='Objective 3',\n",
    "        camera=dict(eye=dict(x=1.5, y=1.5, z=0.6))\n",
    "    ),\n",
    "    scene2=dict(\n",
    "        xaxis_title='Objective 1',\n",
    "        yaxis_title='Objective 2',\n",
    "        zaxis_title='Objective 3',\n",
    "        camera=dict(eye=dict(x=1.5, y=1.5, z=0.6))\n",
    "    ),\n",
    "    showlegend=False,\n",
    "    title_text='Initial Training Points'\n",
    ")\n",
    "fig_initial.show()\n",
    "\n",
    "pio.write_html(fig_initial, 'DTLZ2a train.html')"
   ]
  },
  {
   "cell_type": "code",
   "execution_count": 18,
   "metadata": {
    "colab": {
     "base_uri": "https://localhost:8080/"
    },
    "executionInfo": {
     "elapsed": 138,
     "status": "ok",
     "timestamp": 1747942931515,
     "user": {
      "displayName": "Deepak L",
      "userId": "17343563887203968144"
     },
     "user_tz": -330
    },
    "id": "E2uIQhy7SOAi",
    "outputId": "9b3e7af3-1ed2-45d5-81b3-7f81543336ca"
   },
   "outputs": [
    {
     "data": {
      "application/vnd.plotly.v1+json": {
       "config": {
        "plotlyServerURL": "https://plot.ly"
       },
       "data": [
        {
         "hovertemplate": "<b>Obj1</b>: %{x:.2f}<br><b>Obj2</b>: %{y:.2f}<br><b>Obj3</b>: %{z:.2f}<extra></extra>",
         "marker": {
          "color": {
           "bdata": "AACAPwAAgD8AAABAAAAAQAAAQEAAAEBAAACAQAAAgEAAAKBAAACgQAAAwEAAAMBAAADgQAAA4EAAAABBAAAAQQAAEEEAABBBAAAgQQAAIEEAADBBAAAwQQAAQEEAAEBBAABQQQAAUEEAAGBBAABgQQAAcEEAAHBBAACAQQAAgEEAAIhBAACIQQAAkEEAAJBBAACYQQAAmEEAAKBBAACgQQAAqEEAAKhBAACwQQAAsEEAALhBAAC4QQAAwEEAAMBBAADIQQAAyEEAANBBAADQQQAA2EEAANhBAADgQQAA4EEAAOhBAADoQQAA8EEAAPBBAAD4QQAA+EEAAABCAAAAQgAABEIAAARCAAAIQgAACEIAAAxCAAAMQgAAEEIAABBCAAAUQgAAFEIAABhCAAAYQgAAHEIAABxCAAAgQgAAIEIAACRCAAAkQgAAKEIAAChCAAAsQgAALEIAADBCAAAwQgAANEIAADRCAAA4QgAAOEIAADxCAAA8QgAAQEIAAEBCAABEQgAAREIAAEhCAABIQgAATEIAAExCAABQQgAAUEIAAFRCAABUQgAAWEIAAFhCAABcQgAAXEIAAGBCAABgQgAAZEIAAGRCAABoQgAAaEIAAGxCAABsQgAAcEIAAHBCAAB0QgAAdEIAAHhCAAB4QgAAfEIAAHxCAACAQgAAgEIAAIJCAACCQgAAhEIAAIRCAACGQgAAhkIAAIhCAACIQgAAikIAAIpCAACMQgAAjEIAAI5CAACOQgAAkEIAAJBCAACSQgAAkkIAAJRCAACUQgAAlkIAAJZCAACYQgAAmEIAAJpCAACaQgAAnEIAAJxCAACeQgAAnkIAAKBCAACgQgAAokIAAKJCAACkQgAApEIAAKZCAACmQgAAqEIAAKhCAACqQgAAqkIAAKxCAACsQgAArkIAAK5CAACwQgAAsEIAALJCAACyQgAAtEIAALRCAAC2QgAAtkIAALhCAAC4QgAAukIAALpCAAC8QgAAvEIAAL5CAAC+QgAAwEIAAMBCAADCQgAAwkIAAMRCAADEQgAAxkIAAMZCAADIQgAAyEI=",
           "dtype": "f4"
          },
          "colorscale": [
           [
            0,
            "#440154"
           ],
           [
            0.1111111111111111,
            "#482878"
           ],
           [
            0.2222222222222222,
            "#3e4989"
           ],
           [
            0.3333333333333333,
            "#31688e"
           ],
           [
            0.4444444444444444,
            "#26828e"
           ],
           [
            0.5555555555555556,
            "#1f9e89"
           ],
           [
            0.6666666666666666,
            "#35b779"
           ],
           [
            0.7777777777777778,
            "#6ece58"
           ],
           [
            0.8888888888888888,
            "#b5de2b"
           ],
           [
            1,
            "#fde725"
           ]
          ],
          "opacity": 0.8,
          "size": 4
         },
         "mode": "markers",
         "name": "qNParEGO",
         "scene": "scene",
         "type": "scatter3d",
         "x": {
          "bdata": "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",
          "dtype": "f8"
         },
         "y": {
          "bdata": "aFDNvV/2+D8AAAAAAAAAANfhyXP/uNU/e2380Bm95z+HQu49uuDxP0ogvtKafJI8AAAAAAAAAACtG+ZgAvyNPDFFWjOoO+U/gw3aRX718T/RHrtneViEPNSx233SWfU/AAAAAAAAAAAAAAAAAAAAAOXNp5+ZO+A/CuwUgvGhVTwbuAYUoCXXPwAAAAAAAAAA+i0oQSjt3D8Zi31rHk3oP7vDMu/D4pE8gWU6erpa2T+7Cqrwk2zePwAAAAAAAAAA9Aa+mPWLkDwqrHU34DV3PAAAAAAAAAAA7e0ueCpM8T9b9xbWl+baP4FstqljtoM8UbmpFrvX8D/nd98lxWr0P8QukTzAo/Q/QlDQ8eIV1j95kcr2FzHGPxaPjTo8T+I/AAAAAAAAAAA2hgzICyPqP3gNI3kvdfQ/AAAAAAAAAAAAAAAAAAAAALLEh+ZKeu4/LCv6rZEo8D9kD5fuSqPmP3DA21HZses/O+6QelIzgDxm9K+gYouWPOgjCjOLRfA/lrTkT5oD7j9/puHcqPnuPwAAAAAAAAAAAAAAAAAAAAC4GGca0DyLPGzNlXP/fts/5qw+vzqG0T/EwQKgvfHpP02pvla1aPc/+3FmqbpI9D8AAAAAAAAAAKxhYP8xa+Q/yJwj7bhDlDwmiS2jQv3oPwAAAAAAAAAAAAAAAAAAAAAAAAAAAAAAAPcqgVink9o/AAAAAAAAAABNWeMY+2qQPHI5MmKVM/A/A2D48tCB6z9D4abyCz7wP6P6BNplCt4/kZxdVrfg0T8AAAAAAAAAAMEUGwfa7tM/GKZ6PVCK6j/Aaa2pOpHpP2YgMfUVb+4/AAAAAAAAAAAMX9DrFWLhPwAAAAAAAAAAQswlguVB8D8MkdvJji/4PwAAAAAAAAAAAAAAAAAAAAAZ2KrMWgjVPwAAAAAAAAAAPU18AD8C9T/gn2uwzKuRPGY0rtWjq+E/MPwCnzKE0D8AAAAAAAAAADG+5OCPAfA/Np6c+Ucr1z8AAAAAAAAAACj/sz38de0/LLu+BQ1r3j9vU9pUXc1yPNJAswOEFvA/AAAAAAAAAAAl6/qMXQfwPwAAAAAAAAAAZbGbGKpA7D8AAAAAAAAAAIuOCK/k6e0/NhTafhkw+T8ywZleISvuPwAAAAAAAAAAGcXY9a676z9+fdHRPTThP9yo+jyZheU/gwiK2eMK8D8i0RF3eQSXPLMaYvXOHOo/eQN+rP+71T8AAAAAAAAAAAAAAAAAAAAA/giyeOkS8D/t06fmb4PgP9SlFzsYCvA/xeYydefv1j/68yy15HDhP8hSiBYgBPA/NtZDdByN4j94FEjvHpzmP9nPZl72xuc/AVZMsZg27j8AAAAAAAAAAHRaxP8u6Nk/eUdRu//h4T8AAAAAAAAAAMaFE/f/veQ/nD3/S5mk0j8tCKx5AE7ePwAAAAAAAAAAvDcV++MZ8D8AAAAAAAAAAAAAAAAAAAAAAAAAAAAAAAAAAAAAAAAAAAAAAAAAAAAA/9h2H8sg3T9vRgWEECfjPzlolcp9hNw/AAAAAAAAAAAAAAAAAAAAAL6qBn4I/+U/oZZ/lX5C6T8AAAAAAAAAALTrLjqYKek/qfcIRu7WhTwAAAAAAAAAAAAAAAAAAAAALs2h4uHK7j8AAAAAAAAAAIjux27xct8/uCBvwPr64z8AAAAAAAAAAIDW72KhS+s/V61n4ukH8D8AAAAAAAAAALygakgAIPA/AAAAAAAAAAB8b1Nj53PqPxjVVhpl+d8/AAAAAAAAAAAAAAAAAAAAAAAAAAAAAAAAWAD2doin3z8AAAAAAAAAAA7Fzn2WbZE8qI8lmWQD8D9oec6Si8rmPwAAAAAAAAAALOcRJyJx7T85BqHrx/3VPwtkILLdJ5I8AAAAAAAAAAAtN10ZnQ/wPwAAAAAAAAAAuv0jJZVhkTwAAAAAAAAAAAAAAAAAAAAAVKb8QZUE8D9BwS/oe//1PwAAAAAAAAAAAAAAAAAAAAAAAAAAAAAAAAAAAAAAAAAArlXMPo3Y6T8AAAAAAAAAAAAAAAAAAAAAAAAAAAAAAAAAAAAAAAAAAJcwgmBq8G080ZM29sP95D8AAAAAAAAAAKdza5d/ao48nUXzl0db7D+xf6EigazePw==",
          "dtype": "f8"
         },
         "z": {
          "bdata": "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",
          "dtype": "f8"
         }
        },
        {
         "color": "red",
         "colorscale": [
          [
           0,
           "rgb(255,245,240)"
          ],
          [
           0.125,
           "rgb(254,224,210)"
          ],
          [
           0.25,
           "rgb(252,187,161)"
          ],
          [
           0.375,
           "rgb(252,146,114)"
          ],
          [
           0.5,
           "rgb(251,106,74)"
          ],
          [
           0.625,
           "rgb(239,59,44)"
          ],
          [
           0.75,
           "rgb(203,24,29)"
          ],
          [
           0.875,
           "rgb(165,15,21)"
          ],
          [
           1,
           "rgb(103,0,13)"
          ]
         ],
         "intensity": {
          "bdata": "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",
          "dtype": "f8"
         },
         "name": "Pareto Front",
         "opacity": 0.3,
         "scene": "scene",
         "showscale": false,
         "type": "mesh3d",
         "x": {
          "bdata": "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",
          "dtype": "f8"
         },
         "y": {
          "bdata": "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",
          "dtype": "f8"
         },
         "z": {
          "bdata": "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",
          "dtype": "f8"
         }
        },
        {
         "hovertemplate": "<b>Obj1</b>: %{x:.2f}<br><b>Obj2</b>: %{y:.2f}<br><b>Obj3</b>: %{z:.2f}<extra></extra>",
         "marker": {
          "color": {
           "bdata": "AACAPwAAgD8AAABAAAAAQAAAQEAAAEBAAACAQAAAgEAAAKBAAACgQAAAwEAAAMBAAADgQAAA4EAAAABBAAAAQQAAEEEAABBBAAAgQQAAIEEAADBBAAAwQQAAQEEAAEBBAABQQQAAUEEAAGBBAABgQQAAcEEAAHBBAACAQQAAgEEAAIhBAACIQQAAkEEAAJBBAACYQQAAmEEAAKBBAACgQQAAqEEAAKhBAACwQQAAsEEAALhBAAC4QQAAwEEAAMBBAADIQQAAyEEAANBBAADQQQAA2EEAANhBAADgQQAA4EEAAOhBAADoQQAA8EEAAPBBAAD4QQAA+EEAAABCAAAAQgAABEIAAARCAAAIQgAACEIAAAxCAAAMQgAAEEIAABBCAAAUQgAAFEIAABhCAAAYQgAAHEIAABxCAAAgQgAAIEIAACRCAAAkQgAAKEIAAChCAAAsQgAALEIAADBCAAAwQgAANEIAADRCAAA4QgAAOEIAADxCAAA8QgAAQEIAAEBCAABEQgAAREIAAEhCAABIQgAATEIAAExCAABQQgAAUEIAAFRCAABUQgAAWEIAAFhCAABcQgAAXEIAAGBCAABgQgAAZEIAAGRCAABoQgAAaEIAAGxCAABsQgAAcEIAAHBCAAB0QgAAdEIAAHhCAAB4QgAAfEIAAHxCAACAQgAAgEIAAIJCAACCQgAAhEIAAIRCAACGQgAAhkIAAIhCAACIQgAAikIAAIpCAACMQgAAjEIAAI5CAACOQgAAkEIAAJBCAACSQgAAkkIAAJRCAACUQgAAlkIAAJZCAACYQgAAmEIAAJpCAACaQgAAnEIAAJxCAACeQgAAnkIAAKBCAACgQgAAokIAAKJCAACkQgAApEIAAKZCAACmQgAAqEIAAKhCAACqQgAAqkIAAKxCAACsQgAArkIAAK5CAACwQgAAsEIAALJCAACyQgAAtEIAALRCAAC2QgAAtkIAALhCAAC4QgAAukIAALpCAAC8QgAAvEIAAL5CAAC+QgAAwEIAAMBCAADCQgAAwkIAAMRCAADEQgAAxkIAAMZCAADIQgAAyEI=",
           "dtype": "f4"
          },
          "colorbar": {
           "title": {
            "text": "Iteration"
           }
          },
          "colorscale": [
           [
            0,
            "#440154"
           ],
           [
            0.1111111111111111,
            "#482878"
           ],
           [
            0.2222222222222222,
            "#3e4989"
           ],
           [
            0.3333333333333333,
            "#31688e"
           ],
           [
            0.4444444444444444,
            "#26828e"
           ],
           [
            0.5555555555555556,
            "#1f9e89"
           ],
           [
            0.6666666666666666,
            "#35b779"
           ],
           [
            0.7777777777777778,
            "#6ece58"
           ],
           [
            0.8888888888888888,
            "#b5de2b"
           ],
           [
            1,
            "#fde725"
           ]
          ],
          "opacity": 0.8,
          "size": 4
         },
         "mode": "markers",
         "name": "qEHVI",
         "scene": "scene2",
         "type": "scatter3d",
         "x": {
          "bdata": "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",
          "dtype": "f8"
         },
         "y": {
          "bdata": "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",
          "dtype": "f8"
         },
         "z": {
          "bdata": "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",
          "dtype": "f8"
         }
        },
        {
         "color": "red",
         "colorscale": [
          [
           0,
           "rgb(255,245,240)"
          ],
          [
           0.125,
           "rgb(254,224,210)"
          ],
          [
           0.25,
           "rgb(252,187,161)"
          ],
          [
           0.375,
           "rgb(252,146,114)"
          ],
          [
           0.5,
           "rgb(251,106,74)"
          ],
          [
           0.625,
           "rgb(239,59,44)"
          ],
          [
           0.75,
           "rgb(203,24,29)"
          ],
          [
           0.875,
           "rgb(165,15,21)"
          ],
          [
           1,
           "rgb(103,0,13)"
          ]
         ],
         "intensity": {
          "bdata": "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",
          "dtype": "f8"
         },
         "name": "Pareto Front",
         "opacity": 0.3,
         "scene": "scene2",
         "showscale": false,
         "type": "mesh3d",
         "x": {
          "bdata": "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",
          "dtype": "f8"
         },
         "y": {
          "bdata": "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",
          "dtype": "f8"
         },
         "z": {
          "bdata": "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",
          "dtype": "f8"
         }
        }
       ],
       "layout": {
        "annotations": [
         {
          "font": {
           "size": 16
          },
          "showarrow": false,
          "text": "qNParEGO",
          "x": 0.225,
          "xanchor": "center",
          "xref": "paper",
          "y": 1,
          "yanchor": "bottom",
          "yref": "paper"
         },
         {
          "font": {
           "size": 16
          },
          "showarrow": false,
          "text": "qEHVI",
          "x": 0.775,
          "xanchor": "center",
          "xref": "paper",
          "y": 1,
          "yanchor": "bottom",
          "yref": "paper"
         }
        ],
        "height": 600,
        "scene": {
         "camera": {
          "eye": {
           "x": 1.5,
           "y": 1.5,
           "z": 0.6
          }
         },
         "domain": {
          "x": [
           0,
           0.45
          ],
          "y": [
           0,
           1
          ]
         },
         "xaxis": {
          "title": {
           "text": "Objective 1"
          }
         },
         "yaxis": {
          "title": {
           "text": "Objective 2"
          }
         },
         "zaxis": {
          "title": {
           "text": "Objective 3"
          }
         }
        },
        "scene2": {
         "camera": {
          "eye": {
           "x": 1.5,
           "y": 1.5,
           "z": 0.6
          }
         },
         "domain": {
          "x": [
           0.55,
           1
          ],
          "y": [
           0,
           1
          ]
         },
         "xaxis": {
          "title": {
           "text": "Objective 1"
          }
         },
         "yaxis": {
          "title": {
           "text": "Objective 2"
          }
         },
         "zaxis": {
          "title": {
           "text": "Objective 3"
          }
         }
        },
        "showlegend": false,
        "template": {
         "data": {
          "bar": [
           {
            "error_x": {
             "color": "#2a3f5f"
            },
            "error_y": {
             "color": "#2a3f5f"
            },
            "marker": {
             "line": {
              "color": "#E5ECF6",
              "width": 0.5
             },
             "pattern": {
              "fillmode": "overlay",
              "size": 10,
              "solidity": 0.2
             }
            },
            "type": "bar"
           }
          ],
          "barpolar": [
           {
            "marker": {
             "line": {
              "color": "#E5ECF6",
              "width": 0.5
             },
             "pattern": {
              "fillmode": "overlay",
              "size": 10,
              "solidity": 0.2
             }
            },
            "type": "barpolar"
           }
          ],
          "carpet": [
           {
            "aaxis": {
             "endlinecolor": "#2a3f5f",
             "gridcolor": "white",
             "linecolor": "white",
             "minorgridcolor": "white",
             "startlinecolor": "#2a3f5f"
            },
            "baxis": {
             "endlinecolor": "#2a3f5f",
             "gridcolor": "white",
             "linecolor": "white",
             "minorgridcolor": "white",
             "startlinecolor": "#2a3f5f"
            },
            "type": "carpet"
           }
          ],
          "choropleth": [
           {
            "colorbar": {
             "outlinewidth": 0,
             "ticks": ""
            },
            "type": "choropleth"
           }
          ],
          "contour": [
           {
            "colorbar": {
             "outlinewidth": 0,
             "ticks": ""
            },
            "colorscale": [
             [
              0,
              "#0d0887"
             ],
             [
              0.1111111111111111,
              "#46039f"
             ],
             [
              0.2222222222222222,
              "#7201a8"
             ],
             [
              0.3333333333333333,
              "#9c179e"
             ],
             [
              0.4444444444444444,
              "#bd3786"
             ],
             [
              0.5555555555555556,
              "#d8576b"
             ],
             [
              0.6666666666666666,
              "#ed7953"
             ],
             [
              0.7777777777777778,
              "#fb9f3a"
             ],
             [
              0.8888888888888888,
              "#fdca26"
             ],
             [
              1,
              "#f0f921"
             ]
            ],
            "type": "contour"
           }
          ],
          "contourcarpet": [
           {
            "colorbar": {
             "outlinewidth": 0,
             "ticks": ""
            },
            "type": "contourcarpet"
           }
          ],
          "heatmap": [
           {
            "colorbar": {
             "outlinewidth": 0,
             "ticks": ""
            },
            "colorscale": [
             [
              0,
              "#0d0887"
             ],
             [
              0.1111111111111111,
              "#46039f"
             ],
             [
              0.2222222222222222,
              "#7201a8"
             ],
             [
              0.3333333333333333,
              "#9c179e"
             ],
             [
              0.4444444444444444,
              "#bd3786"
             ],
             [
              0.5555555555555556,
              "#d8576b"
             ],
             [
              0.6666666666666666,
              "#ed7953"
             ],
             [
              0.7777777777777778,
              "#fb9f3a"
             ],
             [
              0.8888888888888888,
              "#fdca26"
             ],
             [
              1,
              "#f0f921"
             ]
            ],
            "type": "heatmap"
           }
          ],
          "histogram": [
           {
            "marker": {
             "pattern": {
              "fillmode": "overlay",
              "size": 10,
              "solidity": 0.2
             }
            },
            "type": "histogram"
           }
          ],
          "histogram2d": [
           {
            "colorbar": {
             "outlinewidth": 0,
             "ticks": ""
            },
            "colorscale": [
             [
              0,
              "#0d0887"
             ],
             [
              0.1111111111111111,
              "#46039f"
             ],
             [
              0.2222222222222222,
              "#7201a8"
             ],
             [
              0.3333333333333333,
              "#9c179e"
             ],
             [
              0.4444444444444444,
              "#bd3786"
             ],
             [
              0.5555555555555556,
              "#d8576b"
             ],
             [
              0.6666666666666666,
              "#ed7953"
             ],
             [
              0.7777777777777778,
              "#fb9f3a"
             ],
             [
              0.8888888888888888,
              "#fdca26"
             ],
             [
              1,
              "#f0f921"
             ]
            ],
            "type": "histogram2d"
           }
          ],
          "histogram2dcontour": [
           {
            "colorbar": {
             "outlinewidth": 0,
             "ticks": ""
            },
            "colorscale": [
             [
              0,
              "#0d0887"
             ],
             [
              0.1111111111111111,
              "#46039f"
             ],
             [
              0.2222222222222222,
              "#7201a8"
             ],
             [
              0.3333333333333333,
              "#9c179e"
             ],
             [
              0.4444444444444444,
              "#bd3786"
             ],
             [
              0.5555555555555556,
              "#d8576b"
             ],
             [
              0.6666666666666666,
              "#ed7953"
             ],
             [
              0.7777777777777778,
              "#fb9f3a"
             ],
             [
              0.8888888888888888,
              "#fdca26"
             ],
             [
              1,
              "#f0f921"
             ]
            ],
            "type": "histogram2dcontour"
           }
          ],
          "mesh3d": [
           {
            "colorbar": {
             "outlinewidth": 0,
             "ticks": ""
            },
            "type": "mesh3d"
           }
          ],
          "parcoords": [
           {
            "line": {
             "colorbar": {
              "outlinewidth": 0,
              "ticks": ""
             }
            },
            "type": "parcoords"
           }
          ],
          "pie": [
           {
            "automargin": true,
            "type": "pie"
           }
          ],
          "scatter": [
           {
            "fillpattern": {
             "fillmode": "overlay",
             "size": 10,
             "solidity": 0.2
            },
            "type": "scatter"
           }
          ],
          "scatter3d": [
           {
            "line": {
             "colorbar": {
              "outlinewidth": 0,
              "ticks": ""
             }
            },
            "marker": {
             "colorbar": {
              "outlinewidth": 0,
              "ticks": ""
             }
            },
            "type": "scatter3d"
           }
          ],
          "scattercarpet": [
           {
            "marker": {
             "colorbar": {
              "outlinewidth": 0,
              "ticks": ""
             }
            },
            "type": "scattercarpet"
           }
          ],
          "scattergeo": [
           {
            "marker": {
             "colorbar": {
              "outlinewidth": 0,
              "ticks": ""
             }
            },
            "type": "scattergeo"
           }
          ],
          "scattergl": [
           {
            "marker": {
             "colorbar": {
              "outlinewidth": 0,
              "ticks": ""
             }
            },
            "type": "scattergl"
           }
          ],
          "scattermap": [
           {
            "marker": {
             "colorbar": {
              "outlinewidth": 0,
              "ticks": ""
             }
            },
            "type": "scattermap"
           }
          ],
          "scattermapbox": [
           {
            "marker": {
             "colorbar": {
              "outlinewidth": 0,
              "ticks": ""
             }
            },
            "type": "scattermapbox"
           }
          ],
          "scatterpolar": [
           {
            "marker": {
             "colorbar": {
              "outlinewidth": 0,
              "ticks": ""
             }
            },
            "type": "scatterpolar"
           }
          ],
          "scatterpolargl": [
           {
            "marker": {
             "colorbar": {
              "outlinewidth": 0,
              "ticks": ""
             }
            },
            "type": "scatterpolargl"
           }
          ],
          "scatterternary": [
           {
            "marker": {
             "colorbar": {
              "outlinewidth": 0,
              "ticks": ""
             }
            },
            "type": "scatterternary"
           }
          ],
          "surface": [
           {
            "colorbar": {
             "outlinewidth": 0,
             "ticks": ""
            },
            "colorscale": [
             [
              0,
              "#0d0887"
             ],
             [
              0.1111111111111111,
              "#46039f"
             ],
             [
              0.2222222222222222,
              "#7201a8"
             ],
             [
              0.3333333333333333,
              "#9c179e"
             ],
             [
              0.4444444444444444,
              "#bd3786"
             ],
             [
              0.5555555555555556,
              "#d8576b"
             ],
             [
              0.6666666666666666,
              "#ed7953"
             ],
             [
              0.7777777777777778,
              "#fb9f3a"
             ],
             [
              0.8888888888888888,
              "#fdca26"
             ],
             [
              1,
              "#f0f921"
             ]
            ],
            "type": "surface"
           }
          ],
          "table": [
           {
            "cells": {
             "fill": {
              "color": "#EBF0F8"
             },
             "line": {
              "color": "white"
             }
            },
            "header": {
             "fill": {
              "color": "#C8D4E3"
             },
             "line": {
              "color": "white"
             }
            },
            "type": "table"
           }
          ]
         },
         "layout": {
          "annotationdefaults": {
           "arrowcolor": "#2a3f5f",
           "arrowhead": 0,
           "arrowwidth": 1
          },
          "autotypenumbers": "strict",
          "coloraxis": {
           "colorbar": {
            "outlinewidth": 0,
            "ticks": ""
           }
          },
          "colorscale": {
           "diverging": [
            [
             0,
             "#8e0152"
            ],
            [
             0.1,
             "#c51b7d"
            ],
            [
             0.2,
             "#de77ae"
            ],
            [
             0.3,
             "#f1b6da"
            ],
            [
             0.4,
             "#fde0ef"
            ],
            [
             0.5,
             "#f7f7f7"
            ],
            [
             0.6,
             "#e6f5d0"
            ],
            [
             0.7,
             "#b8e186"
            ],
            [
             0.8,
             "#7fbc41"
            ],
            [
             0.9,
             "#4d9221"
            ],
            [
             1,
             "#276419"
            ]
           ],
           "sequential": [
            [
             0,
             "#0d0887"
            ],
            [
             0.1111111111111111,
             "#46039f"
            ],
            [
             0.2222222222222222,
             "#7201a8"
            ],
            [
             0.3333333333333333,
             "#9c179e"
            ],
            [
             0.4444444444444444,
             "#bd3786"
            ],
            [
             0.5555555555555556,
             "#d8576b"
            ],
            [
             0.6666666666666666,
             "#ed7953"
            ],
            [
             0.7777777777777778,
             "#fb9f3a"
            ],
            [
             0.8888888888888888,
             "#fdca26"
            ],
            [
             1,
             "#f0f921"
            ]
           ],
           "sequentialminus": [
            [
             0,
             "#0d0887"
            ],
            [
             0.1111111111111111,
             "#46039f"
            ],
            [
             0.2222222222222222,
             "#7201a8"
            ],
            [
             0.3333333333333333,
             "#9c179e"
            ],
            [
             0.4444444444444444,
             "#bd3786"
            ],
            [
             0.5555555555555556,
             "#d8576b"
            ],
            [
             0.6666666666666666,
             "#ed7953"
            ],
            [
             0.7777777777777778,
             "#fb9f3a"
            ],
            [
             0.8888888888888888,
             "#fdca26"
            ],
            [
             1,
             "#f0f921"
            ]
           ]
          },
          "colorway": [
           "#636efa",
           "#EF553B",
           "#00cc96",
           "#ab63fa",
           "#FFA15A",
           "#19d3f3",
           "#FF6692",
           "#B6E880",
           "#FF97FF",
           "#FECB52"
          ],
          "font": {
           "color": "#2a3f5f"
          },
          "geo": {
           "bgcolor": "white",
           "lakecolor": "white",
           "landcolor": "#E5ECF6",
           "showlakes": true,
           "showland": true,
           "subunitcolor": "white"
          },
          "hoverlabel": {
           "align": "left"
          },
          "hovermode": "closest",
          "mapbox": {
           "style": "light"
          },
          "paper_bgcolor": "white",
          "plot_bgcolor": "#E5ECF6",
          "polar": {
           "angularaxis": {
            "gridcolor": "white",
            "linecolor": "white",
            "ticks": ""
           },
           "bgcolor": "#E5ECF6",
           "radialaxis": {
            "gridcolor": "white",
            "linecolor": "white",
            "ticks": ""
           }
          },
          "scene": {
           "xaxis": {
            "backgroundcolor": "#E5ECF6",
            "gridcolor": "white",
            "gridwidth": 2,
            "linecolor": "white",
            "showbackground": true,
            "ticks": "",
            "zerolinecolor": "white"
           },
           "yaxis": {
            "backgroundcolor": "#E5ECF6",
            "gridcolor": "white",
            "gridwidth": 2,
            "linecolor": "white",
            "showbackground": true,
            "ticks": "",
            "zerolinecolor": "white"
           },
           "zaxis": {
            "backgroundcolor": "#E5ECF6",
            "gridcolor": "white",
            "gridwidth": 2,
            "linecolor": "white",
            "showbackground": true,
            "ticks": "",
            "zerolinecolor": "white"
           }
          },
          "shapedefaults": {
           "line": {
            "color": "#2a3f5f"
           }
          },
          "ternary": {
           "aaxis": {
            "gridcolor": "white",
            "linecolor": "white",
            "ticks": ""
           },
           "baxis": {
            "gridcolor": "white",
            "linecolor": "white",
            "ticks": ""
           },
           "bgcolor": "#E5ECF6",
           "caxis": {
            "gridcolor": "white",
            "linecolor": "white",
            "ticks": ""
           }
          },
          "title": {
           "x": 0.05
          },
          "xaxis": {
           "automargin": true,
           "gridcolor": "white",
           "linecolor": "white",
           "ticks": "",
           "title": {
            "standoff": 15
           },
           "zerolinecolor": "white",
           "zerolinewidth": 2
          },
          "yaxis": {
           "automargin": true,
           "gridcolor": "white",
           "linecolor": "white",
           "ticks": "",
           "title": {
            "standoff": 15
           },
           "zerolinecolor": "white",
           "zerolinewidth": 2
          }
         }
        },
        "title": {
         "text": "All 200 Points After Initial Training"
        },
        "width": 1200
       }
      }
     },
     "metadata": {},
     "output_type": "display_data"
    }
   ],
   "source": [
    "# Plot ALL points after initial training\n",
    "fig = make_subplots(\n",
    "    rows=1, cols=2,\n",
    "    specs=[[{'type': 'scatter3d'}, {'type': 'scatter3d'}]],\n",
    "    subplot_titles=(\"qNParEGO\", \"qEHVI\")\n",
    ")\n",
    "\n",
    "batch_number = torch.cat([\n",
    "    torch.zeros(n_initial),\n",
    "    torch.arange(1, N_BATCH + 1).repeat(BATCH_SIZE, 1).t().reshape(-1),\n",
    "]).numpy()\n",
    "\n",
    "start_idx = n_initial\n",
    "end_idx = len(train_obj_true_qparego)\n",
    "\n",
    "alg_data = [\n",
    "    (-train_obj_true_qparego[start_idx:end_idx], \"qNParEGO\"),\n",
    "    (-train_obj_true_qehvi[start_idx:end_idx], \"qEHVI\"),\n",
    "]\n",
    "\n",
    "for col, (train_obj, name) in enumerate(alg_data, 1):\n",
    "    obj_np = train_obj.cpu().numpy()\n",
    "\n",
    "    scatter = go.Scatter3d(\n",
    "        x=obj_np[:, 0], y=obj_np[:, 1], z=obj_np[:, 2],\n",
    "        mode='markers',\n",
    "        marker=dict(\n",
    "            size=4,\n",
    "            color=batch_number[start_idx:end_idx],\n",
    "            colorscale='Viridis',\n",
    "            opacity=0.8,\n",
    "            colorbar=dict(title='Iteration') if col == 2 else None\n",
    "        ),\n",
    "        name=name,\n",
    "        hovertemplate=\"<b>Obj1</b>: %{x:.2f}<br><b>Obj2</b>: %{y:.2f}<br><b>Obj3</b>: %{z:.2f}<extra></extra>\"\n",
    "    )\n",
    "\n",
    "    fig.add_trace(scatter, row=1, col=col)\n",
    "    fig.add_trace(pf_surface, row=1, col=col)\n",
    "\n",
    "# Update layout\n",
    "fig.update_layout(\n",
    "    height=600,\n",
    "    width=1200,\n",
    "    scene1=dict(\n",
    "        xaxis_title='Objective 1',\n",
    "        yaxis_title='Objective 2',\n",
    "        zaxis_title='Objective 3',\n",
    "        camera=dict(eye=dict(x=1.5, y=1.5, z=0.6))\n",
    "    ),\n",
    "    scene2=dict(\n",
    "        xaxis_title='Objective 1',\n",
    "        yaxis_title='Objective 2',\n",
    "        zaxis_title='Objective 3',\n",
    "        camera=dict(eye=dict(x=1.5, y=1.5, z=0.6))\n",
    "    ),\n",
    "    showlegend=False,\n",
    "    title_text=f'All {end_idx - start_idx} Points After Initial Training'\n",
    ")\n",
    "\n",
    "fig.show()\n",
    "\n",
    "\n",
    "pio.write_html(fig, 'DTLZ2a candidates.html')"
   ]
  },
  {
   "cell_type": "code",
   "execution_count": 19,
   "metadata": {
    "colab": {
     "base_uri": "https://localhost:8080/"
    },
    "executionInfo": {
     "elapsed": 21,
     "status": "ok",
     "timestamp": 1747942931545,
     "user": {
      "displayName": "Deepak L",
      "userId": "17343563887203968144"
     },
     "user_tz": -330
    },
    "id": "9LzcVovZBdhv",
    "outputId": "70a1be88-aead-4db6-ccce-846fb5c08a06",
    "scrolled": true
   },
   "outputs": [
    {
     "name": "stdout",
     "output_type": "stream",
     "text": [
      "ParEGO data saved to 'DTLZ2a (8-3) qNParEGO_data.csv'\n",
      "EHVI data saved to 'DTLZ2a (8-3) qEHVI_data.csv'\n"
     ]
    }
   ],
   "source": [
    "import pandas as pd\n",
    "\n",
    "# Convert PyTorch tensors to numpy arrays\n",
    "train_x_qparego_np = train_x_qparego.cpu().numpy()\n",
    "train_obj_qparego_np = train_obj_qparego.cpu().numpy()\n",
    "train_x_qehvi_np = train_x_qehvi.cpu().numpy()\n",
    "train_obj_qehvi_np = train_obj_qehvi.cpu().numpy()\n",
    "\n",
    "# Concatenate the input dimensions and objectives horizontally\n",
    "qparego_data = np.hstack([train_x_qparego_np, train_obj_qparego_np])\n",
    "qehvi_data = np.hstack([train_x_qehvi_np, train_obj_qehvi_np])\n",
    "\n",
    "# Create column headers for better readability\n",
    "input_dim = train_x_qparego.shape[1]\n",
    "obj_dim = train_obj_qparego.shape[1]\n",
    "column_names = [f\"dim{i+1}\" for i in range(input_dim)] + [f\"obj{i+1}\" for i in range(obj_dim)]\n",
    "\n",
    "# Create DataFrames with the combined data and column names\n",
    "qparego_df = pd.DataFrame(qparego_data, columns=column_names)\n",
    "qehvi_df = pd.DataFrame(qehvi_data, columns=column_names)\n",
    "\n",
    "# Save to CSV files\n",
    "qparego_df.to_csv('DTLZ2a (8-3) qNParEGO_data.csv', index=False, mode='w')\n",
    "qehvi_df.to_csv('DTLZ2a (8-3) qEHVI_data.csv', index=False, mode='w')\n",
    "\n",
    "print(\"ParEGO data saved to 'DTLZ2a (8-3) qNParEGO_data.csv'\")\n",
    "print(\"EHVI data saved to 'DTLZ2a (8-3) qEHVI_data.csv'\")\n"
   ]
  }
 ],
 "metadata": {
  "accelerator": "GPU",
  "colab": {
   "gpuType": "T4",
   "provenance": []
  },
  "kernelspec": {
   "display_name": "Python 3 (ipykernel)",
   "language": "python",
   "name": "python3"
  },
  "language_info": {
   "codemirror_mode": {
    "name": "ipython",
    "version": 3
   },
   "file_extension": ".py",
   "mimetype": "text/x-python",
   "name": "python",
   "nbconvert_exporter": "python",
   "pygments_lexer": "ipython3",
   "version": "3.12.9"
  }
 },
 "nbformat": 4,
 "nbformat_minor": 4
}
