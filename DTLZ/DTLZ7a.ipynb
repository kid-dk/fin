{
 "cells": [
  {
   "cell_type": "code",
   "execution_count": 1,
   "metadata": {
    "colab": {
     "base_uri": "https://localhost:8080/"
    },
    "executionInfo": {
     "elapsed": 23155,
     "status": "ok",
     "timestamp": 1747753879174,
     "user": {
      "displayName": "Deepak L",
      "userId": "17343563887203968144"
     },
     "user_tz": -330
    },
    "id": "6ks8T9wDIUS_",
    "outputId": "da1aa157-5ac2-443c-cf9b-11fda5dbacde"
   },
   "outputs": [],
   "source": [
    "# from google.colab import drive\n",
    "import os\n",
    "import pandas as pd\n",
    "import numpy as np # Import numpy\n",
    "\n",
    "# drive.mount('/gdrive')\n",
    "\n",
    "# # Define the path to your \"flick\" folder\n",
    "# folder_path = '/gdrive/MyDrive/code' # Replace 'MyDrive' with your actual Drive folder name if different\n",
    "\n",
    "# # Create the folder if it doesn't exist\n",
    "# if not os.path.exists(folder_path):\n",
    "#     os.makedirs(folder_path)\n",
    "\n",
    "# # Change the current working directory to the \"flick\" folder\n",
    "# os.chdir(folder_path)\n",
    "\n",
    "# print(f\"Current working directory changed to: {os.getcwd()}\")"
   ]
  },
  {
   "cell_type": "code",
   "execution_count": 2,
   "metadata": {
    "id": "LUwIjxBJNL0e"
   },
   "outputs": [],
   "source": [
    "import os, torch, gc\n",
    "os.environ[\"PYTORCH_CUDA_ALLOC_CONF\"] = \"expandable_segments:True\"\n",
    "torch.set_default_dtype(torch.float32)"
   ]
  },
  {
   "cell_type": "markdown",
   "metadata": {
    "id": "JiijYn5qBdhm",
    "originalKey": "61330204-a407-449f-af77-fcd868546651",
    "showInput": false
   },
   "source": [
    "## Noisy, Parallel, Multi-Objective BO in BoTorch with qEHVI, qNEHVI, and qNParEGO\n",
    "\n",
    "In this tutorial, we illustrate how to implement a simple multi-objective (MO) Bayesian Optimization (BO) closed loop in BoTorch.\n",
    "\n",
    "We use the parallel ParEGO ($q$ParEGO), parallel Expected Hypervolume Improvement ($q$EHVI), and parallel Noisy Expected Hypervolume Improvement ($q$NEHVI) acquisition functions to optimize a synthetic ZDT2 problem test function with additive Gaussian observation noise over a 30-parameter search space [0,1]^30. See `botorch/test_functions/multi_objective.py` for details on ZDT2.\n",
    "\n",
    "Since botorch assumes a maximization of all objectives, we seek to find the Pareto frontier, the set of optimal trade-offs where improving one metric means deteriorating another.\n",
    "\n",
    "**For batch optimization (or in noisy settings), we strongly recommend using $q$NEHVI rather than $q$EHVI because it is far more efficient than $q$EHVI and mathematically equivalent in the noiseless setting.**"
   ]
  },
  {
   "cell_type": "markdown",
   "metadata": {
    "id": "8_WZ6HzLBdho",
    "originalKey": "f01416cb-e83e-4263-b599-b2a3221d144d",
    "showInput": false
   },
   "source": [
    "### Set dtype and device\n",
    "Note: $q$EHVI and $q$NEHVI aggressively exploit parallel hardware and are both much faster when run on a GPU. See [1, 2] for details."
   ]
  },
  {
   "cell_type": "code",
   "execution_count": 3,
   "metadata": {
    "colab": {
     "base_uri": "https://localhost:8080/"
    },
    "executionInfo": {
     "elapsed": 94660,
     "status": "ok",
     "timestamp": 1747753973838,
     "user": {
      "displayName": "Deepak L",
      "userId": "17343563887203968144"
     },
     "user_tz": -330
    },
    "id": "lSxpp8YmBdho",
    "outputId": "c4a9e17c-f9d5-4539-866a-8c2ab2bf1c39"
   },
   "outputs": [],
   "source": [
    "# # Install dependencies if we are running in colab\n",
    "# import sys\n",
    "# if 'google.colab' in sys.modules:\n",
    "#     %pip install botorch"
   ]
  },
  {
   "cell_type": "code",
   "execution_count": 4,
   "metadata": {
    "collapsed": false,
    "customOutput": null,
    "executionStartTime": 1668649461840,
    "executionStopTime": 1668649461848,
    "id": "iNZ_9z01Bdhp",
    "jupyter": {
     "outputs_hidden": false
    },
    "originalKey": "41c30177-379b-4e63-9996-41bc17d70769",
    "requestMsgId": "7e4820a5-df3b-45a6-9826-42541ee0f4f4"
   },
   "outputs": [],
   "source": [
    "import os\n",
    "import torch\n",
    "torch.manual_seed(80)\n",
    "\n",
    "\n",
    "tkwargs = {\n",
    "    \"dtype\": torch.double,\n",
    "    \"device\": torch.device(\"cuda\" if torch.cuda.is_available() else \"cpu\"),\n",
    "}\n",
    "SMOKE_TEST = os.environ.get(\"SMOKE_TEST\")"
   ]
  },
  {
   "cell_type": "markdown",
   "metadata": {
    "id": "B1v64d4oBdhq",
    "originalKey": "8d895a93-397c-4d2c-b6f5-96f589312538",
    "showInput": false
   },
   "source": [
    "### Problem setup\n"
   ]
  },
  {
   "cell_type": "code",
   "execution_count": 5,
   "metadata": {
    "id": "VxqCnTGMBdhq"
   },
   "outputs": [],
   "source": [
    "# from botorch.test_functions.multi_objective import DTLZ1\n",
    "\n",
    "\n",
    "# problem = DTLZ1(dim=6, num_objectives=3, negate=True).to(**tkwargs)"
   ]
  },
  {
   "cell_type": "code",
   "execution_count": 6,
   "metadata": {
    "id": "6JGD2OZnBgNx"
   },
   "outputs": [],
   "source": [
    "import math\n",
    "import torch\n",
    "from torch import Tensor\n",
    "from typing import Optional\n",
    "from scipy.special import gamma\n",
    "from botorch.test_functions.multi_objective import DTLZ\n",
    "from botorch.utils.sampling import sample_simplex, sample_hypersphere\n",
    "\n",
    "class DTLZ7a(DTLZ):\n",
    "    r\"\"\"DTLZ7a: Standard DTLZ7 form (disconnected front) with 3 objectives and 8 variables.\"\"\"\n",
    "    _ref_val = 15.0\n",
    "\n",
    "    def __init__(self, noise_std: Optional[float] = None, negate: bool = False) -> None:\n",
    "        super().__init__(dim=8, num_objectives=3, noise_std=noise_std, negate=negate)\n",
    "\n",
    "    def _evaluate_true(self, X: Tensor) -> Tensor:\n",
    "        f = X[..., : self.num_objectives - 1]\n",
    "        g_X = 1 + 9 / self.k * X[..., -self.k :].sum(dim=-1)\n",
    "        h_term = (f / (1 + g_X).unsqueeze(-1)) * (1 + torch.sin(3 * math.pi * f))\n",
    "        h = self.num_objectives - h_term.sum(dim=-1)\n",
    "        f_last = (1 + g_X) * h\n",
    "        return torch.cat([f, f_last.unsqueeze(-1)], dim=-1)\n",
    "\n",
    "    def evaluate_true(self, X: Tensor) -> Tensor:\n",
    "        return self._evaluate_true(X)\n",
    "\n",
    "    def gen_pareto_front(self, n: int) -> Tensor:\n",
    "        dtype = self.ref_point.dtype\n",
    "        device = self.ref_point.device\n",
    "        f = torch.rand(n, self.num_objectives - 1, dtype=dtype, device=device)\n",
    "        g_X = 1.0\n",
    "        h_term = (f / (1 + g_X)) * (1 + torch.sin(3 * math.pi * f))\n",
    "        h = self.num_objectives - h_term.sum(dim=-1)\n",
    "        f_last = (1 + g_X) * h\n",
    "        f_X = torch.cat([f, f_last.unsqueeze(-1)], dim=-1)\n",
    "        if self.negate:\n",
    "            f_X *= -1\n",
    "        return f_X\n",
    "\n",
    "    @property\n",
    "    def _max_hv(self) -> float:\n",
    "        return self._ref_val ** self.num_objectives\n"
   ]
  },
  {
   "cell_type": "code",
   "execution_count": 7,
   "metadata": {
    "colab": {
     "base_uri": "https://localhost:8080/"
    },
    "executionInfo": {
     "elapsed": 823,
     "status": "ok",
     "timestamp": 1747753984112,
     "user": {
      "displayName": "Deepak L",
      "userId": "17343563887203968144"
     },
     "user_tz": -330
    },
    "id": "-WaIKxgPBdhq",
    "outputId": "0b0346e8-28fa-42f7-f645-929a2c83dce2"
   },
   "outputs": [
    {
     "name": "stdout",
     "output_type": "stream",
     "text": [
      "tensor([-15., -15., -15.], dtype=torch.float64)\n",
      "3375.0\n",
      "tensor([[0., 0., 0., 0., 0., 0., 0., 0.],\n",
      "        [1., 1., 1., 1., 1., 1., 1., 1.]], dtype=torch.float64)\n"
     ]
    }
   ],
   "source": [
    "problem = DTLZ7a(negate=True).to(**tkwargs)\n",
    "\n",
    "print(problem.ref_point, end=\"\\n\")\n",
    "print(problem.max_hv, end=\"\\n\")\n",
    "print(problem.bounds, end=\"\\n\")"
   ]
  },
  {
   "cell_type": "markdown",
   "metadata": {
    "id": "I31BWTdlBdhr",
    "originalKey": "fc047039-c2a9-4ea8-920e-c057547cfb11",
    "showInput": false
   },
   "source": [
    "#### Model initialization\n",
    "\n",
    "We use a list of `SingleTaskGP`s to model the two objectives with known noise variances. If no noise variances were provided, `SingleTaskGP` would infer (homoskedastic) noise levels instead.\n",
    "\n",
    "The models are initialized with $2(d+1)=6$ points drawn randomly from $[0,1]^2$."
   ]
  },
  {
   "cell_type": "code",
   "execution_count": 8,
   "metadata": {
    "collapsed": false,
    "customOutput": null,
    "executionStartTime": 1668649462312,
    "executionStopTime": 1668649462318,
    "id": "hIkSW6KWBdhr",
    "jupyter": {
     "outputs_hidden": false
    },
    "originalKey": "47170c31-65e4-4f2d-949c-d91544e065fc",
    "requestMsgId": "8a44b7cb-cc5f-419e-849f-2b4d1dc3abe1"
   },
   "outputs": [],
   "source": [
    "from botorch.models.gp_regression import SingleTaskGP\n",
    "from botorch.models.model_list_gp_regression import ModelListGP\n",
    "from botorch.models.transforms.outcome import Standardize\n",
    "from gpytorch.mlls.sum_marginal_log_likelihood import SumMarginalLogLikelihood\n",
    "from botorch.utils.transforms import unnormalize, normalize\n",
    "from botorch.utils.sampling import draw_sobol_samples\n",
    "\n",
    "n_initial = 11 * problem.dim - 1\n",
    "\n",
    "def generate_initial_data(n=n_initial):\n",
    "    # generate training data\n",
    "    train_x = draw_sobol_samples(bounds=problem.bounds, n=n, q=1).squeeze(1)\n",
    "    train_obj_true = problem(train_x)\n",
    "    train_obj = train_obj_true\n",
    "    return train_x, train_obj, train_obj_true\n",
    "\n",
    "\n",
    "\n",
    "from botorch.models.gp_regression import SingleTaskGP\n",
    "from gpytorch.mlls.exact_marginal_log_likelihood import ExactMarginalLogLikelihood\n",
    "\n",
    "def initialize_model(train_x, train_obj):\n",
    "    train_x = normalize(train_x, problem.bounds)\n",
    "    train_y = train_obj  # Shape: [n, 2]\n",
    "\n",
    "    model = SingleTaskGP(\n",
    "        train_x,\n",
    "        train_y,\n",
    "        outcome_transform=Standardize(m=3),  # Standardize both objectives\n",
    "    )\n",
    "    mll = ExactMarginalLogLikelihood(model.likelihood, model)\n",
    "    return mll, model"
   ]
  },
  {
   "cell_type": "markdown",
   "metadata": {
    "id": "Y-OuG7D3Bdhs",
    "originalKey": "6bfaef9a-3f34-4d51-9700-fbddc79eccf1",
    "showInput": false
   },
   "source": [
    "#### Define a helper functions that performs the essential BO step for $q$EHVI and $q$NEHVI\n",
    "The helper function below initializes the $q$EHVI acquisition function, optimizes it, and returns the batch $\\{x_1, x_2, \\ldots x_q\\}$ along with the observed function values.\n",
    "\n",
    "For this example, we'll use a relatively small batch of optimization ($q=4$). For batch optimization ($q>1$), passing the keyword argument `sequential=True` to the function `optimize_acqf`specifies that candidates should be optimized in a sequential greedy fashion (see [1] for details why this is important). A simple initialization heuristic is used to select the 10 restart initial locations from a set of 512 random points. Multi-start optimization of the acquisition function is performed using LBFGS-B with exact gradients computed via auto-differentiation.\n",
    "\n",
    "**Reference Point**\n",
    "\n",
    "$q$EHVI requires specifying a reference point, which is the lower bound on the objectives used for computing hypervolume. In this tutorial, we assume the reference point is known. In practice the reference point can be set 1) using domain knowledge to be slightly worse than the lower bound of objective values, where the lower bound is the minimum acceptable value of interest for each objective, or 2) using a dynamic reference point selection strategy.\n",
    "\n",
    "**Partitioning the Non-dominated Space into disjoint rectangles**\n",
    "\n",
    "$q$EHVI requires partitioning the non-dominated space into disjoint rectangles (see [1] for details).\n",
    "\n",
    "*Note:* `FastNondominatedPartitioning` *will be very slow when 1) there are a lot of points on the pareto frontier and 2) there are >5 objectives.*"
   ]
  },
  {
   "cell_type": "code",
   "execution_count": 9,
   "metadata": {
    "collapsed": false,
    "customOutput": null,
    "executionStartTime": 1668649462539,
    "executionStopTime": 1668649462641,
    "id": "zSOEeo1bBdhs",
    "jupyter": {
     "outputs_hidden": false
    },
    "originalKey": "b7effe94-1327-405d-9148-c8e93470b846",
    "requestMsgId": "40a5edda-3bee-43c9-b84b-c669c288eb80"
   },
   "outputs": [],
   "source": [
    "from botorch.optim.optimize import optimize_acqf, optimize_acqf_list\n",
    "from botorch.acquisition.objective import GenericMCObjective\n",
    "from botorch.utils.multi_objective.scalarization import get_chebyshev_scalarization\n",
    "from botorch.utils.multi_objective.box_decompositions.non_dominated import (\n",
    "    NondominatedPartitioning,\n",
    ")\n",
    "from botorch.acquisition.multi_objective import (\n",
    "    qLogExpectedHypervolumeImprovement,\n",
    "    qLogNoisyExpectedHypervolumeImprovement,\n",
    ")\n",
    "from botorch.utils.sampling import sample_simplex\n",
    "\n",
    "\n",
    "BATCH_SIZE = 2\n",
    "NUM_RESTARTS = 10 if not SMOKE_TEST else 2\n",
    "RAW_SAMPLES = 128 if not SMOKE_TEST else 4\n",
    "\n",
    "standard_bounds = torch.zeros(2, problem.dim, **tkwargs)\n",
    "standard_bounds[1] = 1\n",
    "\n",
    "\n",
    "def optimize_qehvi_and_get_observation(model, train_x, train_obj, sampler):\n",
    "    \"\"\"Optimizes the qEHVI acquisition function, and returns a new candidate and observation.\"\"\"\n",
    "    # partition non-dominated space into disjoint rectangles\n",
    "    with torch.no_grad():\n",
    "        pred = model.posterior(normalize(train_x, problem.bounds)).mean\n",
    "    partitioning = NondominatedPartitioning(\n",
    "        ref_point=problem.ref_point,\n",
    "        Y=pred,\n",
    "    )\n",
    "    acq_func = qLogExpectedHypervolumeImprovement(\n",
    "        model=model,\n",
    "        ref_point=problem.ref_point,\n",
    "        partitioning=partitioning,\n",
    "        sampler=sampler,\n",
    "    )\n",
    "    # optimize\n",
    "    candidates, _ = optimize_acqf(\n",
    "        acq_function=acq_func,\n",
    "        bounds=standard_bounds,\n",
    "        q=BATCH_SIZE,\n",
    "        num_restarts=NUM_RESTARTS,\n",
    "        raw_samples=RAW_SAMPLES,  # used for intialization heuristic\n",
    "        options={\"batch_limit\": 5, \"maxiter\": 200},\n",
    "        sequential=True,\n",
    "    )\n",
    "    # observe new values\n",
    "    new_x = unnormalize(candidates.detach(), bounds=problem.bounds)\n",
    "    new_obj_true = problem(new_x)\n",
    "    new_obj = new_obj_true\n",
    "    return new_x, new_obj, new_obj_true"
   ]
  },
  {
   "cell_type": "markdown",
   "metadata": {
    "id": "MiFVOqxhBdht",
    "originalKey": "ad78607d-d910-441c-903b-b15dc77a432f",
    "showInput": false
   },
   "source": [
    "#### Define a helper function that performs the essential BO step for $q$NParEGO\n",
    "The helper function below similarly initializes $q$NParEGO, optimizes it, and returns the batch $\\{x_1, x_2, \\ldots x_q\\}$ along with the observed function values.\n",
    "\n",
    "$q$NParEGO uses random augmented chebyshev scalarization with the `qNoisyExpectedImprovement` acquisition function. In the parallel setting ($q>1$), each candidate is optimized in sequential greedy fashion using a different random scalarization (see [1] for details).\n",
    "\n",
    "To do this, we create a list of `qNoisyExpectedImprovement` acquisition functions, each with different random scalarization weights. The `optimize_acqf_list` method sequentially generates one candidate per acquisition function and conditions the next candidate (and acquisition function) on the previously selected pending candidates."
   ]
  },
  {
   "cell_type": "code",
   "execution_count": 10,
   "metadata": {
    "collapsed": false,
    "customOutput": null,
    "executionStartTime": 1668649463087,
    "executionStopTime": 1668649463185,
    "id": "rACxiO2FBdht",
    "jupyter": {
     "outputs_hidden": false
    },
    "originalKey": "806b115f-a15f-44df-b7f9-d2f098969e02",
    "requestMsgId": "514d162f-78e0-447a-a483-c923cba18b80"
   },
   "outputs": [],
   "source": [
    "from botorch.acquisition import qLogNoisyExpectedImprovement\n",
    "\n",
    "\n",
    "def optimize_qnparego_and_get_observation(model, train_x, train_obj, sampler):\n",
    "    \"\"\"Samples a set of random weights for each candidate in the batch, performs sequential greedy optimization\n",
    "    of the qNParEGO acquisition function, and returns a new candidate and observation.\"\"\"\n",
    "    train_x = normalize(train_x, problem.bounds)\n",
    "    with torch.no_grad():\n",
    "        pred = model.posterior(train_x).mean\n",
    "    acq_func_list = []\n",
    "    for _ in range(BATCH_SIZE):\n",
    "        weights = sample_simplex(problem.num_objectives, **tkwargs).squeeze()\n",
    "        objective = GenericMCObjective(\n",
    "            get_chebyshev_scalarization(weights=weights, Y=pred)\n",
    "        )\n",
    "        acq_func = qLogNoisyExpectedImprovement(  # pyre-ignore: [28]\n",
    "            model=model,\n",
    "            objective=objective,\n",
    "            X_baseline=train_x,\n",
    "            sampler=sampler,\n",
    "            prune_baseline=True,\n",
    "        )\n",
    "        acq_func_list.append(acq_func)\n",
    "    # optimize\n",
    "    candidates, _ = optimize_acqf_list(\n",
    "        acq_function_list=acq_func_list,\n",
    "        bounds=standard_bounds,\n",
    "        num_restarts=NUM_RESTARTS,\n",
    "        raw_samples=RAW_SAMPLES,  # used for intialization heuristic\n",
    "        options={\"batch_limit\": 5, \"maxiter\": 200},\n",
    "    )\n",
    "    # observe new values\n",
    "    new_x = unnormalize(candidates.detach(), bounds=problem.bounds)\n",
    "    new_obj_true = problem(new_x)\n",
    "    new_obj = new_obj_true #+ torch.randn_like(new_obj_true) * NOISE_SE\n",
    "    return new_x, new_obj, new_obj_true"
   ]
  },
  {
   "cell_type": "markdown",
   "metadata": {
    "id": "ZXq2l3l-Bdht",
    "originalKey": "f8ffd86a-f4bb-4984-9330-04ff4d62f189",
    "showInput": false
   },
   "source": [
    "### Perform Bayesian Optimization loop with $q$NEHVI, $q$EHVI, and $q$NParEGO\n",
    "The Bayesian optimization \"loop\" for a batch size of $q$ simply iterates the following steps:\n",
    "1. given a surrogate model, choose a batch of points $\\{x_1, x_2, \\ldots x_q\\}$\n",
    "2. observe $f(x)$ for each $x$ in the batch\n",
    "3. update the surrogate model.\n",
    "\n",
    "\n",
    "Just for illustration purposes, we run one trial with `N_BATCH=20` rounds of optimization. The acquisition function is approximated using `MC_SAMPLES=128` samples.\n",
    "\n",
    "*Note*: Running this may take a little while."
   ]
  },
  {
   "cell_type": "code",
   "execution_count": 11,
   "metadata": {
    "colab": {
     "base_uri": "https://localhost:8080/"
    },
    "collapsed": false,
    "customOutput": null,
    "executionInfo": {
     "elapsed": 7330981,
     "status": "ok",
     "timestamp": 1747761315119,
     "user": {
      "displayName": "Deepak L",
      "userId": "17343563887203968144"
     },
     "user_tz": -330
    },
    "executionStartTime": 1668649463513,
    "executionStopTime": 1668649856754,
    "id": "A2Ii-yH3Bdhu",
    "jupyter": {
     "outputs_hidden": false
    },
    "originalKey": "c29b731a-64e7-401d-a5b2-3879d8d39327",
    "outputId": "be28e992-5b8e-4ab4-a2da-4eae5c93d475",
    "requestMsgId": "43e1021f-9ecd-4d2c-a7ba-21e26051ce66"
   },
   "outputs": [
    {
     "name": "stdout",
     "output_type": "stream",
     "text": [
      "\n",
      "Batch  1: Hypervolume (qNParEGO, qEHVI) = (2025.00, 2417.00), time = 26.89.\n",
      "Batch  2: Hypervolume (qNParEGO, qEHVI) = (2025.00, 2417.00), time = 29.95.\n",
      "Batch  3: Hypervolume (qNParEGO, qEHVI) = (2031.82, 2418.08), time = 42.94.\n",
      "Batch  4: Hypervolume (qNParEGO, qEHVI) = (2116.27, 2418.08), time = 37.92.\n",
      "Batch  5: Hypervolume (qNParEGO, qEHVI) = (2116.29, 2418.08), time = 14.83.\n",
      "Batch  6: Hypervolume (qNParEGO, qEHVI) = (2116.29, 2418.08), time = 24.48.\n",
      "Batch  7: Hypervolume (qNParEGO, qEHVI) = (2116.29, 2418.08), time = 24.02.\n",
      "Batch  8: Hypervolume (qNParEGO, qEHVI) = (2116.91, 2418.08), time = 23.36.\n",
      "Batch  9: Hypervolume (qNParEGO, qEHVI) = (2312.27, 2445.02), time = 42.30.\n",
      "Batch 10: Hypervolume (qNParEGO, qEHVI) = (2312.58, 2445.02), time = 28.02.\n",
      "Batch 11: Hypervolume (qNParEGO, qEHVI) = (2325.66, 2445.02), time = 41.02.\n",
      "Batch 12: Hypervolume (qNParEGO, qEHVI) = (2325.70, 2445.02), time = 31.23.\n",
      "Batch 13: Hypervolume (qNParEGO, qEHVI) = (2325.70, 2445.02), time = 62.69.\n",
      "Batch 14: Hypervolume (qNParEGO, qEHVI) = (2325.70, 2445.02), time = 45.36.\n",
      "Batch 15: Hypervolume (qNParEGO, qEHVI) = (2325.76, 2445.02), time = 40.80.\n",
      "Batch 16: Hypervolume (qNParEGO, qEHVI) = (2331.02, 2445.02), time = 22.61.\n",
      "Batch 17: Hypervolume (qNParEGO, qEHVI) = (2331.17, 2445.02), time = 48.97.\n",
      "Batch 18: Hypervolume (qNParEGO, qEHVI) = (2336.86, 2445.02), time = 25.48.\n",
      "Batch 19: Hypervolume (qNParEGO, qEHVI) = (2336.87, 2445.02), time = 57.11.\n",
      "Batch 20: Hypervolume (qNParEGO, qEHVI) = (2336.87, 2445.02), time = 35.23.\n",
      "Batch 21: Hypervolume (qNParEGO, qEHVI) = (2336.87, 2445.02), time = 34.48.\n",
      "Batch 22: Hypervolume (qNParEGO, qEHVI) = (2336.87, 2445.02), time = 65.89.\n",
      "Batch 23: Hypervolume (qNParEGO, qEHVI) = (2336.87, 2445.02), time = 26.45.\n",
      "Batch 24: Hypervolume (qNParEGO, qEHVI) = (2336.87, 2445.02), time = 22.83.\n",
      "Batch 25: Hypervolume (qNParEGO, qEHVI) = (2339.96, 2445.02), time = 75.59.\n",
      "Batch 26: Hypervolume (qNParEGO, qEHVI) = (2339.96, 2445.02), time = 23.02.\n",
      "Batch 27: Hypervolume (qNParEGO, qEHVI) = (2339.97, 2584.20), time = 55.14.\n",
      "Batch 28: Hypervolume (qNParEGO, qEHVI) = (2339.97, 2584.20), time = 60.66.\n",
      "Batch 29: Hypervolume (qNParEGO, qEHVI) = (2339.97, 2584.20), time = 66.72.\n",
      "Batch 30: Hypervolume (qNParEGO, qEHVI) = (2339.97, 2584.20), time = 38.22.\n",
      "Batch 31: Hypervolume (qNParEGO, qEHVI) = (2341.61, 2584.20), time = 40.05.\n",
      "Batch 32: Hypervolume (qNParEGO, qEHVI) = (2341.61, 2584.20), time = 40.55.\n",
      "Batch 33: Hypervolume (qNParEGO, qEHVI) = (2341.61, 2584.20), time = 14.55.\n",
      "Batch 34: Hypervolume (qNParEGO, qEHVI) = (2341.61, 2584.20), time = 23.08.\n",
      "Batch 35: Hypervolume (qNParEGO, qEHVI) = (2341.61, 2584.20), time = 25.72.\n",
      "Batch 36: Hypervolume (qNParEGO, qEHVI) = (2341.61, 2584.20), time = 24.33.\n",
      "Batch 37: Hypervolume (qNParEGO, qEHVI) = (2341.61, 2584.20), time = 21.69.\n",
      "Batch 38: Hypervolume (qNParEGO, qEHVI) = (2341.65, 2584.20), time = 34.30.\n",
      "Batch 39: Hypervolume (qNParEGO, qEHVI) = (2393.99, 2584.20), time = 24.16.\n",
      "Batch 40: Hypervolume (qNParEGO, qEHVI) = (2423.58, 2584.20), time = 68.06.\n",
      "Batch 41: Hypervolume (qNParEGO, qEHVI) = (2423.59, 2584.20), time = 29.42.\n",
      "Batch 42: Hypervolume (qNParEGO, qEHVI) = (2423.59, 2584.20), time = 54.84.\n",
      "Batch 43: Hypervolume (qNParEGO, qEHVI) = (2423.62, 2584.20), time = 100.97.\n",
      "Batch 44: Hypervolume (qNParEGO, qEHVI) = (2423.62, 2584.20), time = 46.38.\n",
      "Batch 45: Hypervolume (qNParEGO, qEHVI) = (2423.62, 2584.20), time = 31.84.\n",
      "Batch 46: Hypervolume (qNParEGO, qEHVI) = (2423.62, 2584.20), time = 24.80.\n",
      "Batch 47: Hypervolume (qNParEGO, qEHVI) = (2423.63, 2591.19), time = 121.20.\n",
      "Batch 48: Hypervolume (qNParEGO, qEHVI) = (2423.63, 2591.19), time = 28.52.\n",
      "Batch 49: Hypervolume (qNParEGO, qEHVI) = (2423.63, 2591.19), time = 77.14.\n",
      "Batch 50: Hypervolume (qNParEGO, qEHVI) = (2423.63, 2599.82), time = 67.55.\n",
      "Batch 51: Hypervolume (qNParEGO, qEHVI) = (2423.63, 2599.82), time = 122.08.\n",
      "Batch 52: Hypervolume (qNParEGO, qEHVI) = (2423.63, 2599.92), time = 109.47.\n",
      "Batch 53: Hypervolume (qNParEGO, qEHVI) = (2423.63, 2599.92), time = 76.33.\n",
      "Batch 54: Hypervolume (qNParEGO, qEHVI) = (2423.63, 2599.92), time = 178.84.\n",
      "Batch 55: Hypervolume (qNParEGO, qEHVI) = (2423.63, 2600.55), time = 65.88.\n",
      "Batch 56: Hypervolume (qNParEGO, qEHVI) = (2423.63, 2602.77), time = 63.88.\n",
      "Batch 57: Hypervolume (qNParEGO, qEHVI) = (2423.63, 2603.41), time = 38.78.\n",
      "Batch 58: Hypervolume (qNParEGO, qEHVI) = (2423.63, 2603.48), time = 126.48.\n",
      "Batch 59: Hypervolume (qNParEGO, qEHVI) = (2423.63, 2603.48), time = 68.05.\n",
      "Batch 60: Hypervolume (qNParEGO, qEHVI) = (2423.63, 2604.40), time = 85.62.\n",
      "Batch 61: Hypervolume (qNParEGO, qEHVI) = (2423.63, 2606.11), time = 150.72.\n",
      "Batch 62: Hypervolume (qNParEGO, qEHVI) = (2423.63, 2606.11), time = 69.86.\n",
      "Batch 63: Hypervolume (qNParEGO, qEHVI) = (2423.63, 2606.11), time = 63.42.\n",
      "Batch 64: Hypervolume (qNParEGO, qEHVI) = (2423.63, 2606.11), time = 145.58.\n",
      "Batch 65: Hypervolume (qNParEGO, qEHVI) = (2423.63, 2609.39), time = 253.19.\n",
      "Batch 66: Hypervolume (qNParEGO, qEHVI) = (2423.63, 2609.39), time = 164.47.\n",
      "Batch 67: Hypervolume (qNParEGO, qEHVI) = (2423.63, 2609.54), time = 170.23.\n",
      "Batch 68: Hypervolume (qNParEGO, qEHVI) = (2424.40, 2609.54), time = 363.72.\n",
      "Batch 69: Hypervolume (qNParEGO, qEHVI) = (2424.40, 2609.60), time = 217.34.\n",
      "Batch 70: Hypervolume (qNParEGO, qEHVI) = (2424.40, 2609.60), time = 89.62.\n",
      "Batch 71: Hypervolume (qNParEGO, qEHVI) = (2424.40, 2609.60), time = 246.70.\n",
      "Batch 72: Hypervolume (qNParEGO, qEHVI) = (2424.40, 2609.60), time = 225.47.\n",
      "Batch 73: Hypervolume (qNParEGO, qEHVI) = (2424.40, 2609.60), time = 277.72.\n",
      "Batch 74: Hypervolume (qNParEGO, qEHVI) = (2424.40, 2609.60), time = 349.25.\n",
      "Batch 75: Hypervolume (qNParEGO, qEHVI) = (2424.40, 2609.60), time = 262.25.\n",
      "Batch 76: Hypervolume (qNParEGO, qEHVI) = (2424.40, 2609.60), time = 310.52.\n",
      "Batch 77: Hypervolume (qNParEGO, qEHVI) = (2424.40, 2609.60), time = 187.67.\n",
      "Batch 78: Hypervolume (qNParEGO, qEHVI) = (2424.40, 2609.60), time = 105.95.\n",
      "Batch 79: Hypervolume (qNParEGO, qEHVI) = (2424.40, 2609.60), time = 207.67.\n",
      "Batch 80: Hypervolume (qNParEGO, qEHVI) = (2424.40, 2609.60), time = 270.45.\n",
      "Batch 81: Hypervolume (qNParEGO, qEHVI) = (2424.40, 2609.60), time = 354.83.\n",
      "Batch 82: Hypervolume (qNParEGO, qEHVI) = (2424.91, 2609.60), time = 314.30.\n",
      "Batch 83: Hypervolume (qNParEGO, qEHVI) = (2425.25, 2609.60), time = 279.31.\n",
      "Batch 84: Hypervolume (qNParEGO, qEHVI) = (2425.25, 2609.60), time = 301.41.\n",
      "Batch 85: Hypervolume (qNParEGO, qEHVI) = (2425.25, 2609.60), time = 137.08.\n",
      "Batch 86: Hypervolume (qNParEGO, qEHVI) = (2425.25, 2609.60), time = 298.42.\n",
      "Batch 87: Hypervolume (qNParEGO, qEHVI) = (2425.28, 2609.63), time = 203.42.\n",
      "Batch 88: Hypervolume (qNParEGO, qEHVI) = (2425.28, 2609.63), time = 490.42.\n",
      "Batch 89: Hypervolume (qNParEGO, qEHVI) = (2425.29, 2609.63), time = 183.09.\n",
      "Batch 90: Hypervolume (qNParEGO, qEHVI) = (2425.29, 2609.63), time = 405.77.\n",
      "Batch 91: Hypervolume (qNParEGO, qEHVI) = (2425.29, 2609.63), time = 223.28.\n",
      "Batch 92: Hypervolume (qNParEGO, qEHVI) = (2425.29, 2609.64), time = 439.55.\n",
      "Batch 93: Hypervolume (qNParEGO, qEHVI) = (2425.29, 2747.63), time = 299.67.\n",
      "Batch 94: Hypervolume (qNParEGO, qEHVI) = (2425.29, 2747.63), time = 499.64.\n",
      "Batch 95: Hypervolume (qNParEGO, qEHVI) = (2425.29, 2748.53), time = 226.75.\n",
      "Batch 96: Hypervolume (qNParEGO, qEHVI) = (2425.29, 2748.53), time = 647.09.\n",
      "Batch 97: Hypervolume (qNParEGO, qEHVI) = (2425.29, 2748.53), time = 549.33.\n",
      "Batch 98: Hypervolume (qNParEGO, qEHVI) = (2425.29, 2748.53), time = 353.69.\n",
      "Batch 99: Hypervolume (qNParEGO, qEHVI) = (2425.29, 2748.53), time = 371.69.\n",
      "Batch 100: Hypervolume (qNParEGO, qEHVI) = (2425.29, 2748.53), time = 403.39."
     ]
    }
   ],
   "source": [
    "import time\n",
    "import warnings\n",
    "\n",
    "from botorch import fit_gpytorch_mll\n",
    "from botorch.exceptions import BadInitialCandidatesWarning\n",
    "from botorch.sampling.normal import SobolQMCNormalSampler\n",
    "from botorch.utils.multi_objective.box_decompositions.non_dominated import (\n",
    "    NondominatedPartitioning,\n",
    ")\n",
    "from botorch.utils.multi_objective.pareto import is_non_dominated\n",
    "\n",
    "\n",
    "warnings.filterwarnings(\"ignore\", category=BadInitialCandidatesWarning)\n",
    "warnings.filterwarnings(\"ignore\", category=RuntimeWarning)\n",
    "\n",
    "N_BATCH = 100 if not SMOKE_TEST else 4\n",
    "MC_SAMPLES = 64 if not SMOKE_TEST else 16\n",
    "\n",
    "verbose = True\n",
    "\n",
    "hvs_qparego, hvs_qehvi = [], []\n",
    "\n",
    "# call helper functions to generate initial training data and initialize model\n",
    "train_x_qparego, train_obj_qparego, train_obj_true_qparego = generate_initial_data()\n",
    "mll_qparego, model_qparego = initialize_model(train_x_qparego, train_obj_qparego)\n",
    "\n",
    "train_x_qehvi, train_obj_qehvi, train_obj_true_qehvi = (\n",
    "    train_x_qparego,\n",
    "    train_obj_qparego,\n",
    "    train_obj_true_qparego,\n",
    ")\n",
    "mll_qehvi, model_qehvi = initialize_model(train_x_qehvi, train_obj_qehvi)\n",
    "\n",
    "# compute hypervolume\n",
    "bd = NondominatedPartitioning(ref_point=problem.ref_point, Y=train_obj_true_qparego)\n",
    "volume = bd.compute_hypervolume().item()\n",
    "\n",
    "hvs_qparego.append(volume)\n",
    "hvs_qehvi.append(volume)\n",
    "\n",
    "# run N_BATCH rounds of BayesOpt after the initial random batch\n",
    "for iteration in range(1, N_BATCH + 1):\n",
    "\n",
    "    t0 = time.monotonic()\n",
    "\n",
    "    # fit the models\n",
    "    fit_gpytorch_mll(mll_qparego)\n",
    "    fit_gpytorch_mll(mll_qehvi)\n",
    "\n",
    "    # define the qEI and qNEI acquisition modules using a QMC sampler\n",
    "    qparego_sampler = SobolQMCNormalSampler(sample_shape=torch.Size([MC_SAMPLES]))\n",
    "    qehvi_sampler = SobolQMCNormalSampler(sample_shape=torch.Size([MC_SAMPLES]))\n",
    "\n",
    "    # optimize acquisition functions and get new observations\n",
    "    (\n",
    "        new_x_qparego,\n",
    "        new_obj_qparego,\n",
    "        new_obj_true_qparego,\n",
    "    ) = optimize_qnparego_and_get_observation(\n",
    "        model_qparego, train_x_qparego, train_obj_qparego, qparego_sampler\n",
    "    )\n",
    "    new_x_qehvi, new_obj_qehvi, new_obj_true_qehvi = optimize_qehvi_and_get_observation(\n",
    "        model_qehvi, train_x_qehvi, train_obj_qehvi, qehvi_sampler\n",
    "    )\n",
    "\n",
    "    # update training points\n",
    "    train_x_qparego = torch.cat([train_x_qparego, new_x_qparego])\n",
    "    train_obj_qparego = torch.cat([train_obj_qparego, new_obj_qparego])\n",
    "    train_obj_true_qparego = torch.cat([train_obj_true_qparego, new_obj_true_qparego])\n",
    "\n",
    "    train_x_qehvi = torch.cat([train_x_qehvi, new_x_qehvi])\n",
    "    train_obj_qehvi = torch.cat([train_obj_qehvi, new_obj_qehvi])\n",
    "    train_obj_true_qehvi = torch.cat([train_obj_true_qehvi, new_obj_true_qehvi])\n",
    "\n",
    "\n",
    "    # update progress\n",
    "    for hvs_list, train_obj in zip(\n",
    "        (hvs_qparego, hvs_qehvi),\n",
    "        (\n",
    "            train_obj_true_qparego,\n",
    "            train_obj_true_qehvi,\n",
    "        ),\n",
    "    ):\n",
    "        # compute hypervolume\n",
    "        bd = NondominatedPartitioning(ref_point=problem.ref_point, Y=train_obj)\n",
    "        volume = bd.compute_hypervolume().item()\n",
    "        hvs_list.append(volume)\n",
    "\n",
    "    # reinitialize the models so they are ready for fitting on next iteration\n",
    "    # Note: we find improved performance from not warm starting the model hyperparameters\n",
    "    # using the hyperparameters from the previous iteration\n",
    "    mll_qparego, model_qparego = initialize_model(train_x_qparego, train_obj_qparego)\n",
    "    mll_qehvi, model_qehvi = initialize_model(train_x_qehvi, train_obj_qehvi)\n",
    "\n",
    "    t1 = time.monotonic()\n",
    "\n",
    "    torch.cuda.empty_cache()\n",
    "    gc.collect()\n",
    "\n",
    "    if verbose:\n",
    "        print(\n",
    "            f\"\\nBatch {iteration:>2}: Hypervolume (qNParEGO, qEHVI) = \"\n",
    "            f\"({hvs_qparego[-1]:>4.2f}, {hvs_qehvi[-1]:>4.2f}), \"\n",
    "            f\"time = {t1-t0:>4.2f}.\",\n",
    "            end=\"\",\n",
    "        )\n",
    "    else:\n",
    "        print(\".\", end=\"\")"
   ]
  },
  {
   "cell_type": "markdown",
   "metadata": {
    "id": "v70wonHIBdhu",
    "originalKey": "72232578-0908-4292-aca4-d52197890dd6",
    "showInput": false
   },
   "source": [
    "#### Plot the results\n",
    "The plot below shows the a common metric of multi-objective optimization performance, the log hypervolume difference: the log difference between the hypervolume of the true pareto front and the hypervolume of the approximate pareto front identified by each algorithm. The log hypervolume difference is plotted at each step of the optimization for each of the algorithms.\n",
    "\n",
    "The plot shows that $q$NEHVI outperforms $q$EHVI and $q$ParEGO."
   ]
  },
  {
   "cell_type": "code",
   "execution_count": 12,
   "metadata": {
    "colab": {
     "base_uri": "https://localhost:8080/",
     "height": 561
    },
    "collapsed": false,
    "customOutput": null,
    "executionInfo": {
     "elapsed": 649,
     "status": "ok",
     "timestamp": 1747761315776,
     "user": {
      "displayName": "Deepak L",
      "userId": "17343563887203968144"
     },
     "user_tz": -330
    },
    "executionStartTime": 1668649857076,
    "executionStopTime": 1668649858100,
    "id": "FyLWlXS5Bdhu",
    "jupyter": {
     "outputs_hidden": false
    },
    "originalKey": "c9560130-5c74-4b2b-b24a-fd7618ee7822",
    "outputId": "0d184bc1-fc21-47f3-f8a7-bf0c423ce256",
    "requestMsgId": "d6978d53-90e4-476b-bb1d-75010f65dcd6",
    "scrolled": true
   },
   "outputs": [
    {
     "data": {
      "text/plain": [
       "<matplotlib.legend.Legend at 0x235ae6ff3b0>"
      ]
     },
     "execution_count": 12,
     "metadata": {},
     "output_type": "execute_result"
    },
    {
     "data": {
      "image/png": "[encoded data removed]",
      "text/plain": [
       "<Figure size 800x600 with 1 Axes>"
      ]
     },
     "metadata": {},
     "output_type": "display_data"
    }
   ],
   "source": [
    "import numpy as np\n",
    "from matplotlib import pyplot as plt\n",
    "\n",
    "%matplotlib inline\n",
    "\n",
    "\n",
    "iters = np.arange(N_BATCH + 1) * BATCH_SIZE\n",
    "log_hv_difference_qparego = np.log10(problem.max_hv - np.asarray(hvs_qparego))\n",
    "log_hv_difference_qehvi = np.log10(problem.max_hv - np.asarray(hvs_qehvi))\n",
    "\n",
    "fig, ax = plt.subplots(1, 1, figsize=(8, 6))\n",
    "ax.errorbar(\n",
    "    iters,\n",
    "    log_hv_difference_qparego,\n",
    "    label=\"qNParEGO\",\n",
    "    linewidth=1.5,\n",
    ")\n",
    "ax.errorbar(\n",
    "    iters,\n",
    "    log_hv_difference_qehvi,\n",
    "    label=\"qEHVI\",\n",
    "    linewidth=1.5,\n",
    ")\n",
    "ax.set(\n",
    "    xlabel=\"number of observations (beyond initial points)\",\n",
    "    ylabel=\"Log Hypervolume Difference\",\n",
    ")\n",
    "ax.legend(loc=\"lower left\")"
   ]
  },
  {
   "cell_type": "markdown",
   "metadata": {
    "collapsed": true,
    "id": "zCutcS6HBdhv",
    "jupyter": {
     "outputs_hidden": true
    },
    "originalKey": "824c329c-6c02-4f67-bce0-a4c57ea655d8",
    "showInput": false
   },
   "source": [
    "#### Plot the true objectives at the evaluated designs colored by iteration\n",
    "\n",
    "To examine optimization process from another perspective, we plot the true function values at the designs selected under each algorithm where the color corresponds to the BO iteration at which the point was collected. The plot on the right for $q$NEHVI shows that the $q$NEHVI quickly identifies the pareto front and most of its evaluations are very close to the pareto front. $q$NParEGO also identifies has many observations close to the pareto front, but relies on optimizing random scalarizations, which is a less principled way of optimizing the pareto front compared to $q$NEHVI, which explicitly attempts focuses on improving the pareto front. $q$EHVI uses the posterior mean as a plug-in estimator for the true function values at the in-sample points, whereas $q$NEHVI than integrating over the uncertainty at the in-sample designs Sobol generates random points and has few points close to the Pareto front."
   ]
  },
  {
   "cell_type": "code",
   "execution_count": 13,
   "metadata": {
    "collapsed": false,
    "customOutput": null,
    "executionStartTime": 1668649858641,
    "executionStopTime": 1668649859522,
    "id": "uWk2NqHCBdhv",
    "jupyter": {
     "outputs_hidden": false
    },
    "originalKey": "cf610a77-3e82-4c30-ac7b-f7a97fa91fa5",
    "requestMsgId": "afb07e9c-ebaf-4a8e-90e3-ca426532de20",
    "scrolled": true
   },
   "outputs": [],
   "source": [
    "# import plotly.graph_objects as go\n",
    "# from plotly.subplots import make_subplots\n",
    "# import numpy as np\n",
    "\n",
    "# # Generate Pareto front\n",
    "# pareto_front = -problem.gen_pareto_front(n=1000).cpu().numpy()\n",
    "\n",
    "# batch_number = torch.cat(\n",
    "#     [\n",
    "#         torch.zeros(11 * problem.dim - 1),\n",
    "#         torch.arange(1, N_BATCH + 1).repeat(BATCH_SIZE, 1).t().reshape(-1),\n",
    "#     ]\n",
    "# ).numpy()\n",
    "\n",
    "# # Create subplots\n",
    "# fig = make_subplots(rows=1, cols=2,\n",
    "#                     specs=[[{'type': 'scatter3d'}, {'type': 'scatter3d'}]],\n",
    "#                     subplot_titles=(\"qNParEGO\", \"qEHVI\"))\n",
    "\n",
    "# # Create color scale\n",
    "# colorscale = plt.get_cmap(\"viridis\")(np.linspace(0, 1, N_BATCH+1))\n",
    "# colorscale = [[i/(len(colorscale)-1), f\"rgb({r*255},{g*255},{b*255})\"]\n",
    "#               for i, (r,g,b,a) in enumerate(colorscale)]\n",
    "\n",
    "# alg_data = [\n",
    "#     (-train_obj_true_qparego, \"qNParEGO\"),\n",
    "#     (-train_obj_true_qehvi, \"qEHVI\"),\n",
    "# ]\n",
    "\n",
    "# for col, (train_obj, name) in enumerate(alg_data, 1):\n",
    "#     # Convert to numpy\n",
    "#     obj_np = train_obj.cpu().numpy()\n",
    "\n",
    "#     # Create 3D scatter plot\n",
    "#     scatter = go.Scatter3d(\n",
    "#         x=obj_np[:, 0],\n",
    "#         y=obj_np[:, 1],\n",
    "#         z=obj_np[:, 2],\n",
    "#         mode='markers',\n",
    "#         marker=dict(\n",
    "#             size=4,\n",
    "#             color=batch_number,\n",
    "#             colorscale=colorscale,\n",
    "#             opacity=0.8,\n",
    "#             colorbar=dict(title='Iteration') if col == 3 else None\n",
    "#         ),\n",
    "#         name=name,\n",
    "#         hovertemplate=\"<b>Obj1</b>: %{x:.2f}<br><b>Obj2</b>: %{y:.2f}<br><b>Obj3</b>: %{z:.2f}<extra></extra>\"\n",
    "#     )\n",
    "\n",
    "#     # Add Pareto front\n",
    "#     pf_trace = go.Scatter3d(\n",
    "#         x=pareto_front[:, 0],\n",
    "#         y=pareto_front[:, 1],\n",
    "#         z=pareto_front[:, 2],\n",
    "#         mode='markers',\n",
    "#         marker=dict(size=2, color='red', opacity=0.5),\n",
    "#         name='Pareto Front'\n",
    "#     )\n",
    "\n",
    "#     fig.add_trace(scatter, row=1, col=col)\n",
    "#     fig.add_trace(pf_trace, row=1, col=col)\n",
    "\n",
    "# # Update layout\n",
    "# fig.update_layout(\n",
    "#     height=600,\n",
    "#     width=1200,\n",
    "#     scene1=dict(\n",
    "#         xaxis_title='Objective 1',\n",
    "#         yaxis_title='Objective 2',\n",
    "#         zaxis_title='Objective 3',\n",
    "#         camera=dict(eye=dict(x=1.5, y=1.5, z=0.6))\n",
    "#     ),\n",
    "#     scene2=dict(\n",
    "#         xaxis_title='Objective 1',\n",
    "#         yaxis_title='Objective 2',\n",
    "#         zaxis_title='Objective 3',\n",
    "#         camera=dict(eye=dict(x=1.5, y=1.5, z=0.6))\n",
    "#     ),\n",
    "#     showlegend=False\n",
    "# )\n",
    "\n",
    "# fig.show()\n"
   ]
  },
  {
   "cell_type": "code",
   "execution_count": 14,
   "metadata": {
    "id": "mYt1v6F7Cj6F"
   },
   "outputs": [],
   "source": [
    "# import plotly.graph_objects as go\n",
    "# from plotly.subplots import make_subplots\n",
    "# import numpy as np\n",
    "\n",
    "# # Assuming problem, train_obj_true_qparego, train_obj_true_qehvi, N_BATCH, BATCH_SIZE are defined\n",
    "\n",
    "# # Generate Pareto front\n",
    "# pareto_front = -problem.gen_pareto_front(n=1000).cpu().numpy()\n",
    "\n",
    "# # Number of initial training points\n",
    "# n_initial = 11 * problem.dim - 1\n",
    "\n",
    "# batch_number = torch.cat([\n",
    "#     torch.zeros(n_initial),\n",
    "#     torch.arange(1, N_BATCH + 1).repeat(BATCH_SIZE, 1).t().reshape(-1),\n",
    "# ]).numpy()\n",
    "\n",
    "# # 1. Plot showing just initial training points\n",
    "# fig_initial = make_subplots(rows=1, cols=2,\n",
    "#                     specs=[[{'type': 'scatter3d'}, {'type': 'scatter3d'}]],\n",
    "#                     subplot_titles=(\"qNParEGO\", \"qEHVI\"))\n",
    "\n",
    "# alg_data_initial = [\n",
    "#     (-train_obj_true_qparego[:n_initial], \"qNParEGO\"),\n",
    "#     (-train_obj_true_qehvi[:n_initial], \"qEHVI\"),\n",
    "# ]\n",
    "\n",
    "# for col, (train_obj, name) in enumerate(alg_data_initial, 1):\n",
    "#     # Convert to numpy if needed\n",
    "#     obj_np = train_obj.cpu().numpy() if isinstance(train_obj, torch.Tensor) else train_obj\n",
    "\n",
    "#     # Create 3D scatter plot for initial points\n",
    "#     scatter = go.Scatter3d(\n",
    "#         x=obj_np[:, 0],\n",
    "#         y=obj_np[:, 1],\n",
    "#         z=obj_np[:, 2],\n",
    "#         mode='markers',\n",
    "#         marker=dict(\n",
    "#             size=4,\n",
    "#             color='deepskyblue',\n",
    "#             opacity=0.8\n",
    "#         ),\n",
    "#         name=name\n",
    "#     )\n",
    "\n",
    "#     # Add Pareto front\n",
    "#     pf_trace = go.Scatter3d(\n",
    "#         x=pareto_front[:, 0],\n",
    "#         y=pareto_front[:, 1],\n",
    "#         z=pareto_front[:, 2],\n",
    "#         mode='markers',\n",
    "#         marker=dict(size=2, color='red', opacity=0.5),\n",
    "#         name='Pareto Front'\n",
    "#     )\n",
    "\n",
    "#     fig_initial.add_trace(scatter, row=1, col=col)\n",
    "#     fig_initial.add_trace(pf_trace, row=1, col=col)\n",
    "\n",
    "# # Update layout\n",
    "# fig_initial.update_layout(\n",
    "#     height=600,\n",
    "#     width=1200,\n",
    "#     scene1=dict(\n",
    "#         xaxis_title='Objective 1',\n",
    "#         yaxis_title='Objective 2',\n",
    "#         zaxis_title='Objective 3'\n",
    "#     ),\n",
    "#     scene2=dict(\n",
    "#         xaxis_title='Objective 1',\n",
    "#         yaxis_title='Objective 2',\n",
    "#         zaxis_title='Objective 3'\n",
    "#     ),\n",
    "#     showlegend=False,\n",
    "#     title_text='Initial Training Points'\n",
    "# )\n",
    "\n",
    "# fig_initial.show()\n",
    "\n"
   ]
  },
  {
   "cell_type": "code",
   "execution_count": 15,
   "metadata": {
    "id": "4jTFJO4-Lg6S"
   },
   "outputs": [],
   "source": [
    "# # 2. Plot batches of 50 points after initial points\n",
    "# batch_size = 50\n",
    "\n",
    "# # Get total number of points\n",
    "# n_points = min(len(train_obj_true_qparego), len(train_obj_true_qehvi))\n",
    "\n",
    "# # Calculate number of points after initial\n",
    "# n_remaining = n_points - n_initial\n",
    "\n",
    "# # Calculate number of plots needed\n",
    "# n_plots = (n_remaining + batch_size - 1) // batch_size\n",
    "\n",
    "# for plot_idx in range(n_plots):\n",
    "#     fig = make_subplots(rows=1, cols=2,\n",
    "#                     specs=[[{'type': 'scatter3d'}, {'type': 'scatter3d'}]],\n",
    "#                     subplot_titles=(\"qNParEGO\", \"qEHVI\"))\n",
    "\n",
    "#     # Define range for this batch of points\n",
    "#     start_idx = n_initial\n",
    "#     end_idx = min(n_initial + (plot_idx + 1) * batch_size, n_points)\n",
    "\n",
    "#     alg_data = [\n",
    "#         (-train_obj_true_qparego[start_idx:end_idx], \"qNParEGO\"),\n",
    "#         (-train_obj_true_qehvi[start_idx:end_idx], \"qEHVI\"),\n",
    "#     ]\n",
    "\n",
    "#     for col, (train_obj, name) in enumerate(alg_data, 1):\n",
    "#         # Convert to numpy if needed\n",
    "#         obj_np = train_obj.cpu().numpy() if isinstance(train_obj, torch.Tensor) else train_obj\n",
    "\n",
    "#         # Create 3D scatter plot\n",
    "#         scatter = go.Scatter3d(\n",
    "#             x=obj_np[:, 0],\n",
    "#             y=obj_np[:, 1],\n",
    "#             z=obj_np[:, 2],\n",
    "#             mode='markers',\n",
    "#             marker=dict(\n",
    "#                 size=4,\n",
    "#                 color=batch_number[start_idx:end_idx],\n",
    "#                 colorscale='Viridis',\n",
    "#                 opacity=0.8,\n",
    "#                 colorbar=dict(title='Iteration') if col == 2 else None\n",
    "#             ),\n",
    "#             name=name\n",
    "#         )\n",
    "\n",
    "#         # Add Pareto front\n",
    "#         pf_trace = go.Scatter3d(\n",
    "#             x=pareto_front[:, 0],\n",
    "#             y=pareto_front[:, 1],\n",
    "#             z=pareto_front[:, 2],\n",
    "#             mode='markers',\n",
    "#             marker=dict(size=2, color='red', opacity=0.5),\n",
    "#             name='Pareto Front'\n",
    "#         )\n",
    "\n",
    "#         fig.add_trace(scatter, row=1, col=col)\n",
    "#         fig.add_trace(pf_trace, row=1, col=col)\n",
    "\n",
    "#     # Update layout\n",
    "#     fig.update_layout(\n",
    "#         height=600,\n",
    "#         width=1200,\n",
    "#         scene1=dict(\n",
    "#             xaxis_title='Objective 1',\n",
    "#             yaxis_title='Objective 2',\n",
    "#             zaxis_title='Objective 3'\n",
    "#         ),\n",
    "#         scene2=dict(\n",
    "#             xaxis_title='Objective 1',\n",
    "#             yaxis_title='Objective 2',\n",
    "#             zaxis_title='Objective 3'\n",
    "#         ),\n",
    "#         showlegend=False,\n",
    "#         title_text=f'Cumulative: First {end_idx - start_idx} Points After Initial'\n",
    "#     )\n",
    "\n",
    "#     fig.show()\n"
   ]
  },
  {
   "cell_type": "code",
   "execution_count": 16,
   "metadata": {
    "id": "mg_wnvuzQvVN"
   },
   "outputs": [],
   "source": [
    "import plotly.graph_objects as go\n",
    "import plotly.io as pio\n",
    "from plotly.subplots import make_subplots\n",
    "import numpy as np\n",
    "\n",
    "def create_pareto_surface(problem, n=1000):\n",
    "    # Generate Pareto front using the problem's built-in method\n",
    "    pareto_front = -problem.gen_pareto_front(n).cpu().numpy()\n",
    "\n",
    "    if problem.num_objectives == 3:\n",
    "        # Create Mesh3d trace for 3D problems\n",
    "        return go.Mesh3d(\n",
    "            x=pareto_front[:, 0],\n",
    "            y=pareto_front[:, 1],\n",
    "            z=pareto_front[:, 2],\n",
    "            color='red',\n",
    "            opacity=0.3,\n",
    "            intensity=pareto_front[:, 2],\n",
    "            colorscale='Reds',\n",
    "            showscale=False,\n",
    "            name='Pareto Front'\n",
    "        )\n",
    "    else:\n",
    "        raise ValueError(\"Only 3D visualization is supported in this implementation\")\n",
    "\n"
   ]
  },
  {
   "cell_type": "code",
   "execution_count": 17,
   "metadata": {
    "colab": {
     "base_uri": "https://localhost:8080/",
     "height": 617
    },
    "executionInfo": {
     "elapsed": 81,
     "status": "ok",
     "timestamp": 1747762263190,
     "user": {
      "displayName": "Deepak L",
      "userId": "17343563887203968144"
     },
     "user_tz": -330
    },
    "id": "3nhpwmwhSHVO",
    "outputId": "08854cbd-d676-408d-eea8-0b773dbf530a"
   },
   "outputs": [
    {
     "data": {
      "application/vnd.plotly.v1+json": {
       "config": {
        "plotlyServerURL": "https://plot.ly"
       },
       "data": [
        {
         "marker": {
          "color": "deepskyblue",
          "opacity": 0.8,
          "size": 4
         },
         "mode": "markers",
         "name": "qNParEGO",
         "scene": "scene",
         "type": "scatter3d",
         "x": {
          "bdata": "AAAAoB9D6T8AAABgqBq0PwAAAHWdO9o/AAAAEoTd5j8AAIBPMfvgPwAAAM73dtY/AAAARoGXwj8AAAD5qmXvPwAAAPwcNew/AAAAUlnVzz8AAADEm9fQPwAAgEqHq+M/AAAAFzKN5T8AAAB/8ZrcPwAAAJAwPq0/AACAoakT6j8AAIDsc53rPwAAAABRToc/AAAA5UWH3z8AAABa6APkPwAAgAddJeI/AAAAXi/K0z8AAABmMO7JPwAAALHGu+0/AAAAtHDr7j8AAABy6KzEPwAAAFRDa9U/AACAAut14T8AAABfXlPnPwAAAO8pJtk/AAAACHpsuD8AAIDpxc3oPwAAgFG6O+g/AAAAyIffvz8AAACf1srYPwAAAOchpec/AACAupSD4T8AAAAkvIfUPwAAAJIWdcc/AAAADA8d7j8AAAAJuU3tPwAAAIbON8o/AAAALtAm0j8AAIC/ItPiPwAAAOKX9eQ/AAAAlbpr3j8AAACA32iVPwAAgFQMa+s/AACAGdbl6j8AAAAQy1miPwAAAA8Odt0/AAAAr0175T8AAIDy+F3jPwAAALRkO9E/AAAAsqcMzD8AAABEY8PsPwAAAEHVk+8/AAAApn9OwT8AAAC+CJrXPwAAgPdODeA/AAAAqvsr5j8AAAAFYtfbPwAAAKBVqbM/AACAHGC16T8AAADavujpPwAAAJSjR7E/AAAAiN9s2z8AAIBsJXbmPwAAADGQUOA/AAAAM7Uh1z8AAAC8BDnAPwAAgIcLzu8/AACAgr2e7D8AAACo3HvNPwAAADnZgNE/AAAANCYA4z8AAIBpkyblPwAAAIKzzd0/AAAAeCeEpz8AAADfCLjqPwAAAJLSNus/AAAAUAfTnj8AAAAYB9DePwAAgCRJqOQ/AAAAefyO4j8AAACjbZ3SPwAAAJy1QMs/",
          "dtype": "f8"
         },
         "y": {
          "bdata": "AAAAoI0R4j8AAABoEPKuPwAAAFMQi+w/AAAAkXnr3j8AAIBZ+8XqPwAAAISvdtI/AACAl2Zf5D8AAAAwKIfOPwAAAIBW/+8/AAAAN/QD2D8AAABOy2XhPwAAAKw+27Q/AACARCAr5z8AAAB8M1bDPwAAgIq9sek/AAAAIiKe1D8AAABAfZvoPwAAALejy9Y/AAAAjuAB5j8AAABWMP3HPwAAgIQLT+A/AAAA+DiNvT8AAIBKltXuPwAAAKJ1Vto/AAAAXaZ15T8AAAAaKyzKPwAAAJM77+s/AAAAES4j0D8AAICZ0KHtPwAAAAT4vtw/AACAV0074z8AAACAObyYPwAAgNWbUOw/AAAAnG5c3z8AAIAbBsriPwAAAACoSqM/AAAAEe2E5D8AAAAqBunNPwAAAN9wHuo/AAAAibjB0z8AAIDIQL7hPwAAAJhiB7I/AACABt0k7z8AAAA647TZPwAAAAw2auk/AAAALzUp1T8AAADCq/DnPwAAAGYdOMA/AACACGva5j8AAABMHpPEPwAAgMb2QOg/AAAAurR81z8AAADMHQ7uPwAAAK9i4ds/AAAAAoCU4D8AAADMZFG7PwAAgBWwNOs/AAAAHDmU0T8AAIDbLa7lPwAAAAAFQsk/AAAA0cbg4z8AAACASmpuPwAAAB9beu0/AAAACe8J3T8AAACU/XLqPwAAAB+iGNM/AAAAWmDo5D8AAAAGM1vMPwAAgFCLpuI/AAAAsHyCpT8AAICeFjzsPwAAAAp0hd8/AAAAiSac5z8AAABKKIrBPwAAAEe7Buk/AAAAuS/w1T8AAIBNUEjvPwAAAKz5bdk/AACAg83S4T8AAADACGOxPwAAAEkN+OA/AAAAlA41uD8AAACHkGLuPwAAADl4ONs/AACAjXss6D8AAAAsrqXXPwAAgEPmtuY/",
          "dtype": "f8"
         },
         "z": {
          "bdata": "YLlAColPM0A/wNgIGmAzQJsnTXIA6zRAux8rHWcAL0CXz+KhVKQtQJ2db9daAjRApWYF0cLgN0B9O5NX7hErQJMB6q8yryxA9cBRHabNMkCq8r5o3zgxQOTns0fUsjZAudfm48iwNkCH5rKRKZIwQBTLbrXXfTJAe+TTCFOJK0DBcquGCawwQEdoVc83fTRAQi3XCejXNUBgdZV7/XUvQIL6uVBfszFAwKbCwMAzNUCOZAKKmgQuQLBwh+VuKDVAJBW2it7CMkDSBf2tvhgyQI5ppv1aLylAzP2vOizoNUAz4AT9UlUwQA97gH1v6jFARjU6ouCPLkAuz+F5FGU3QHoMRkXtdCpARX9ge0VONkC05Li0gcM0QGGz1VF/KDFAxWxNx/UjNEAYLoO82UowQLOlRpd4tjBAC5rDCwHCNUAWG/m2SRU1QOOCrHGHcChAYLiABvHkL0Bt4obvNAw4QPiiKpv8iC5AoMDQGx4SNkA/A3ZlAYElQB+4F+oBgTZAW/tP1Hw9MED4XgLvSqQ0QOssbUf9CjFAA7J4JlshMUCor9/khcowQEKvlqoxGDVAQjSPFIhcO0Bf7DK3J74gQCB15jLzXjFAqW9Notq4NECTFMuoJZYyQOTxd/AT6jBAOWfq9vsrNEDB5p/yESoxQNMS/EcMujFA+QKzZ0rXMkAjwIQaNOAuQCF74n9b4jFAgcJGYbvnMEBIOeYgbXc2QA8U2LDaVy9AKnQgl4ByOUDg3tdegiYyQNkxhSdZWTFAN95bFvihLEARqkgGwSU0QCGU4uroCTZAmt4pKyH/LEBLL6H6eAstQAlB4bhwFDdANB8ilYXyMEBcACfPLIoyQL+ZxmdljS1A52bCCFJFNEAZVGWdH08wQDSbeaGt8jRA+V94L9ArOkCqz9nMOIooQBgik4u4wi9A",
          "dtype": "f8"
         }
        },
        {
         "color": "red",
         "colorscale": [
          [
           0,
           "rgb(255,245,240)"
          ],
          [
           0.125,
           "rgb(254,224,210)"
          ],
          [
           0.25,
           "rgb(252,187,161)"
          ],
          [
           0.375,
           "rgb(252,146,114)"
          ],
          [
           0.5,
           "rgb(251,106,74)"
          ],
          [
           0.625,
           "rgb(239,59,44)"
          ],
          [
           0.75,
           "rgb(203,24,29)"
          ],
          [
           0.875,
           "rgb(165,15,21)"
          ],
          [
           1,
           "rgb(103,0,13)"
          ]
         ],
         "intensity": {
          "bdata": "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",
          "dtype": "f8"
         },
         "name": "Pareto Front",
         "opacity": 0.3,
         "scene": "scene",
         "showscale": false,
         "type": "mesh3d",
         "x": {
          "bdata": "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",
          "dtype": "f8"
         },
         "y": {
          "bdata": "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",
          "dtype": "f8"
         },
         "z": {
          "bdata": "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",
          "dtype": "f8"
         }
        },
        {
         "marker": {
          "color": "deepskyblue",
          "opacity": 0.8,
          "size": 4
         },
         "mode": "markers",
         "name": "qEHVI",
         "scene": "scene2",
         "type": "scatter3d",
         "x": {
          "bdata": "AAAAoB9D6T8AAABgqBq0PwAAAHWdO9o/AAAAEoTd5j8AAIBPMfvgPwAAAM73dtY/AAAARoGXwj8AAAD5qmXvPwAAAPwcNew/AAAAUlnVzz8AAADEm9fQPwAAgEqHq+M/AAAAFzKN5T8AAAB/8ZrcPwAAAJAwPq0/AACAoakT6j8AAIDsc53rPwAAAABRToc/AAAA5UWH3z8AAABa6APkPwAAgAddJeI/AAAAXi/K0z8AAABmMO7JPwAAALHGu+0/AAAAtHDr7j8AAABy6KzEPwAAAFRDa9U/AACAAut14T8AAABfXlPnPwAAAO8pJtk/AAAACHpsuD8AAIDpxc3oPwAAgFG6O+g/AAAAyIffvz8AAACf1srYPwAAAOchpec/AACAupSD4T8AAAAkvIfUPwAAAJIWdcc/AAAADA8d7j8AAAAJuU3tPwAAAIbON8o/AAAALtAm0j8AAIC/ItPiPwAAAOKX9eQ/AAAAlbpr3j8AAACA32iVPwAAgFQMa+s/AACAGdbl6j8AAAAQy1miPwAAAA8Odt0/AAAAr0175T8AAIDy+F3jPwAAALRkO9E/AAAAsqcMzD8AAABEY8PsPwAAAEHVk+8/AAAApn9OwT8AAAC+CJrXPwAAgPdODeA/AAAAqvsr5j8AAAAFYtfbPwAAAKBVqbM/AACAHGC16T8AAADavujpPwAAAJSjR7E/AAAAiN9s2z8AAIBsJXbmPwAAADGQUOA/AAAAM7Uh1z8AAAC8BDnAPwAAgIcLzu8/AACAgr2e7D8AAACo3HvNPwAAADnZgNE/AAAANCYA4z8AAIBpkyblPwAAAIKzzd0/AAAAeCeEpz8AAADfCLjqPwAAAJLSNus/AAAAUAfTnj8AAAAYB9DePwAAgCRJqOQ/AAAAefyO4j8AAACjbZ3SPwAAAJy1QMs/",
          "dtype": "f8"
         },
         "y": {
          "bdata": "AAAAoI0R4j8AAABoEPKuPwAAAFMQi+w/AAAAkXnr3j8AAIBZ+8XqPwAAAISvdtI/AACAl2Zf5D8AAAAwKIfOPwAAAIBW/+8/AAAAN/QD2D8AAABOy2XhPwAAAKw+27Q/AACARCAr5z8AAAB8M1bDPwAAgIq9sek/AAAAIiKe1D8AAABAfZvoPwAAALejy9Y/AAAAjuAB5j8AAABWMP3HPwAAgIQLT+A/AAAA+DiNvT8AAIBKltXuPwAAAKJ1Vto/AAAAXaZ15T8AAAAaKyzKPwAAAJM77+s/AAAAES4j0D8AAICZ0KHtPwAAAAT4vtw/AACAV0074z8AAACAObyYPwAAgNWbUOw/AAAAnG5c3z8AAIAbBsriPwAAAACoSqM/AAAAEe2E5D8AAAAqBunNPwAAAN9wHuo/AAAAibjB0z8AAIDIQL7hPwAAAJhiB7I/AACABt0k7z8AAAA647TZPwAAAAw2auk/AAAALzUp1T8AAADCq/DnPwAAAGYdOMA/AACACGva5j8AAABMHpPEPwAAgMb2QOg/AAAAurR81z8AAADMHQ7uPwAAAK9i4ds/AAAAAoCU4D8AAADMZFG7PwAAgBWwNOs/AAAAHDmU0T8AAIDbLa7lPwAAAAAFQsk/AAAA0cbg4z8AAACASmpuPwAAAB9beu0/AAAACe8J3T8AAACU/XLqPwAAAB+iGNM/AAAAWmDo5D8AAAAGM1vMPwAAgFCLpuI/AAAAsHyCpT8AAICeFjzsPwAAAAp0hd8/AAAAiSac5z8AAABKKIrBPwAAAEe7Buk/AAAAuS/w1T8AAIBNUEjvPwAAAKz5bdk/AACAg83S4T8AAADACGOxPwAAAEkN+OA/AAAAlA41uD8AAACHkGLuPwAAADl4ONs/AACAjXss6D8AAAAsrqXXPwAAgEPmtuY/",
          "dtype": "f8"
         },
         "z": {
          "bdata": "YLlAColPM0A/wNgIGmAzQJsnTXIA6zRAux8rHWcAL0CXz+KhVKQtQJ2db9daAjRApWYF0cLgN0B9O5NX7hErQJMB6q8yryxA9cBRHabNMkCq8r5o3zgxQOTns0fUsjZAudfm48iwNkCH5rKRKZIwQBTLbrXXfTJAe+TTCFOJK0DBcquGCawwQEdoVc83fTRAQi3XCejXNUBgdZV7/XUvQIL6uVBfszFAwKbCwMAzNUCOZAKKmgQuQLBwh+VuKDVAJBW2it7CMkDSBf2tvhgyQI5ppv1aLylAzP2vOizoNUAz4AT9UlUwQA97gH1v6jFARjU6ouCPLkAuz+F5FGU3QHoMRkXtdCpARX9ge0VONkC05Li0gcM0QGGz1VF/KDFAxWxNx/UjNEAYLoO82UowQLOlRpd4tjBAC5rDCwHCNUAWG/m2SRU1QOOCrHGHcChAYLiABvHkL0Bt4obvNAw4QPiiKpv8iC5AoMDQGx4SNkA/A3ZlAYElQB+4F+oBgTZAW/tP1Hw9MED4XgLvSqQ0QOssbUf9CjFAA7J4JlshMUCor9/khcowQEKvlqoxGDVAQjSPFIhcO0Bf7DK3J74gQCB15jLzXjFAqW9Notq4NECTFMuoJZYyQOTxd/AT6jBAOWfq9vsrNEDB5p/yESoxQNMS/EcMujFA+QKzZ0rXMkAjwIQaNOAuQCF74n9b4jFAgcJGYbvnMEBIOeYgbXc2QA8U2LDaVy9AKnQgl4ByOUDg3tdegiYyQNkxhSdZWTFAN95bFvihLEARqkgGwSU0QCGU4uroCTZAmt4pKyH/LEBLL6H6eAstQAlB4bhwFDdANB8ilYXyMEBcACfPLIoyQL+ZxmdljS1A52bCCFJFNEAZVGWdH08wQDSbeaGt8jRA+V94L9ArOkCqz9nMOIooQBgik4u4wi9A",
          "dtype": "f8"
         }
        },
        {
         "color": "red",
         "colorscale": [
          [
           0,
           "rgb(255,245,240)"
          ],
          [
           0.125,
           "rgb(254,224,210)"
          ],
          [
           0.25,
           "rgb(252,187,161)"
          ],
          [
           0.375,
           "rgb(252,146,114)"
          ],
          [
           0.5,
           "rgb(251,106,74)"
          ],
          [
           0.625,
           "rgb(239,59,44)"
          ],
          [
           0.75,
           "rgb(203,24,29)"
          ],
          [
           0.875,
           "rgb(165,15,21)"
          ],
          [
           1,
           "rgb(103,0,13)"
          ]
         ],
         "intensity": {
          "bdata": "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",
          "dtype": "f8"
         },
         "name": "Pareto Front",
         "opacity": 0.3,
         "scene": "scene2",
         "showscale": false,
         "type": "mesh3d",
         "x": {
          "bdata": "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",
          "dtype": "f8"
         },
         "y": {
          "bdata": "DMWWt+UL0j8i1tN+dT/vP6ZLxmWmZe4/cPLv7VAfrT9foHCGnHTrP0zNilRQk9E/weiWOfrs6D+YL98Iimu1P/TT3jEG19s/M3i/8Lhr5D//uXmfqB/gP9DJLVBXaqE/ozeFlEix7j9YLjjWGVeyP+djhorTG+E/Cg80CEzZ6z+YCS6FJFrfP80HGo5aD+8/+Nt9UTBe3z/SKJuXdRDTP/WTmupD5eY/ML6BWj/tpz+QsT2KemblP/wUA8BjjN8/zNbH3bhkyD8dq6zuVBXhP1Nplkxct+E/NBmbjodzzT8GM3MVAqPsP3AiBhQkR7Q/5sI7AVu41z/YZ3qobiblPzzs4W+2t9E/rM7scCsO1j+6Kmer4W3rPziAKGyfj74/NykuG5XL6z9Aac6guN6PP0yd1XvcuOU/jN9leheZ0j+wM06FMafbPwhl0otP3eE/eJ2pSNyn2D8uhxchy8zVP0vy0AV3v+c/by8+RihA7z/mKY0m9PvgP9Kl6CRlHuM/Uu3lnwKK6D/krbEpLh7cP6B4w/JdCdM/fqR3RHus4T+7fjE8DfrrP4B+6bjc4ek/TbFH9E2y6j/ImVj+0BnbPwBg/G7uaDE/AHCyG8gCzT9Sacqh6SvjPxjY2nd3/tY/oCNEOV0s0z+913FZ2/PhP3sql32i/+g/+jJ1u1VG4D85GCj1pAnkP+Szigqh+uc/ohGZkvKt7z/oFNVx4P3dP9jod1uM7uk/Iv86mDCF3T/vgMRVIyPiP9CkiL9BPuI/IH7IT8op4j9p20PEAZ7lP98fsccRDuc/8JzZxtNzpT/naiWtc4/qP0rTsb/NFOM/LB/WemugxT+vvDl5ztbtP3vSnF1+LOA/kqleWZc/6T8bvI+IzDPqPwY+eqbmD+o/RE0h3v8Fyz+urMB1fWDRP5k2zdSnme4/24Sgn9Ka5D9MOnVSZGvTP7DAIXpAtrc/oiFlBAoQ0D89yK3HaVfnP6xsdqdbGM4/kFiIqGMStD+7hG6ATubvP1Bjeony7O0/HAvh/XTBwz9zbu/q7aPlP4iy8onyC+0/PDZsP2Vnyz8OifvPRkXeP4445Wk7Kuw/8J1+apgzrT+rGBXuh7zhP7hsYr7Y7L0/dY7Xp/gN6z/2YUD2YcbcP04qs+TRAO0/A/1piEyg7j/naSxBTtHkP+IjNAkh3tw/OPOJKCLIyj/GVkG5Zn3jP5JRa3S529w/+YmX2HPQ5T+OtQj/awjZP7jgCrpws+k/Cj2V/muj7z+cX2VCMW7nPwQ0wpf3jdQ/Vv0dylV04j9gQIB2j2TuPyeH1OAjQ+c/gAAcAy2z5D/gjWAIuo6gP9SsvvkJhOI/f3VUuydv4T+uLuqMcnjjP4xuNANvQuo/MpTMViAL3D+8ctpoAFrtPza4For8yO8/B1XEVMQi7D94FEcpkbDNP3BiyEOrHa4/3Flc7a8g7z/mq75gB8TeP3+GOFWvYuw/+D4fDLAQ4z/evZOKYr3pP3dlvR+n5uw/4hUgs8711D8HPk2wT6nlP5SE5jerTt4/KLMFciruxj/Ybtop5DvWPxJ+3rlyY+E/l0re7GX96T/lJFe+7IDmP4urWnxD6ew/PJSoTl8t5T8A+XCRtEZ+P5bAatdk1N4/A4+//AJl5T9xYWIbHuroPxTk7GkYGco/LUe00QVY7D84pjPFEzrZP+gSP4oc6tk/RfCO6wNu4T99eTyjusniP+fmOl/7CuY/rto30DIW1D+idxpgZ6XoPzBV1chdwu4/3MW5/Xri1j8XnMRGeHLlP2o40I01YNw/WMWBXltR3j/sAQuDSB/CP5RvaZ07m88/SfHXf6j37j+U3OS9UnLQPwAm11o8hmg/YORcYUEG7j9w/UjgP7PvPwVrWUpHP+I/OtixF1+O0z+51vzTGR/sP5KkY8VBb+E/sLqtv28o6D9aqaf3aY/iP78XRJumeu0/nuUG3fZ42D8AgJBGIQyDP0iWTZu7+Lc/lzIuzO/A5T9jjN+1xuXrP0kftP4Fbes/eLFa0Ze/tj+en460dX7qPzhW7ZbSJrQ/q3Imtqg95D84MmIAq3vgP/Drj5tGd6w/HY7hJAej4T+z+2NEVVTuP58IDKuYNOk/oLtx7oXj5T/mZOSxK6nlPz1MOUl0beY/rtZdQ6Lv2D/GdS4M7/PaPyTNhz9HfM8/UOvzWSqR7j+iu0JwngHiP0vKKnQHm+0/cL+7A3pH1j/E5XOQw6PMP2g9wadI28c/Dr2Lq0514z9YwSLb/822P3QOq5at2NU/QNOrm3272D8u4iiufWzrPzBa8AAIdL4/2s27t6w67D9AzKUwEl3WP1bUuaprHeQ/uq8XMyAG2z+QFnNgD4rbPxqCuEN6ZOE/dqJefz0R6T88hVnzdivePyTPPLO/Qt4/MPVRDv+vpj8JSPTbm/ztP8KtIEJxDN8/aG4QfWLrsj9oK9Je3CuzP/TdMZdcZuQ/3MTvq0If7z/o2Vtc1M/DPygdBTnkENU/smgmhkRO1j8AJEM+K7lCP6EBPziihOg/IF11IZZhqD/y+HeM0IHpP+ima/ROVcU/dI51Ulm+yj/Q00hH9WXhP1yJT7gbSec/NRNKs8nd5T/apYA3NSDVP2tzRekYSu0/jAYysYTy6D+chWYUkRfvP7AWDTF6W64/jiOH0mbh1z80Fc47B5baP+Dl0md75Ls/KDtSgUajwD/lCYkUokrkPwBWmR+4348/xjwxxuzN5T8MVyRT0YPZPxvg8JwPB+k/XwDoNOve5T+gbRhxpuXsP6ApHw2Gz+Q/AG2OAzWDjT+w2zOpKznCP9TMkjPePes/9YfWWhyX6D/Q331Cj/SoP4g0GTbbR+g/bL6CRPN/5j/hP8+jfQvkP+iMrqdSxMk/4O5uxbdDpj+TCXQTG6njP96ITDvJqeI/DgIykAdf4D9gB9RnQurkP+BqBWqJxJc/TNwq5X83wj84WprdssDjPxgg0+MQquQ//jtuZM575j/MMJxyEJ7VP6Rsro8WMto/vl9BW9iK6j+QnN02/42vPwA5khVKeYU/8oVsgake4T8y8YXgywHVP4DIWjzlxNY/bkzDXcxw3j9cAq0Ep3nmP8CsFfYUQqc/kQ5sQAX04j+InWPsdqTsP8CvI2Xop5k/gFNZBWo+hD/kA5reK6vOP/fz+NPmt+8/ardUAwU42z9YW1Rb/JbkPyhk/L3AA+M/Msj4DJCM0T9ICIUrckq+PzA+eYoFvrs/9AyzTi9l7T9gRAAza666P4Q+NnyHJ80/hhLUO6B45T+cOyLiUC3oP4ZYrWoHrNc/bpmVFsel1D8j6xUZHbXvP8TGI4yPGsY/0+WB2pZD4z+DEYr8G5XgPzwbqZ65UtI/Uoa6uZrh2D9jMHJHKf/tP88P7UuXxuU/LyNr4RpM4D9QZQN5rz7VP2MLm6VODeE/tGD/lM7j0j+gmSjG5ZCiP94AwmuVodw/XWdfkzeZ5T+GPkMZyqbjP551a2V2Y9U/BFnYYBVbxz9qyKrAIYTlP2FI4wkiz+8/3PmiqCXQwj8G9WsuqODnP0Azt5pXprc/mn8zb8ne5D/gOOljoF62PxYrG88liOI/Lkagkhdi6z+JZIV9+uXpPwRgGpjnB9c/QIA2JlZl1z8ubOcE/bThP7Ky7ZLns9Y/NNAb23oO4T9fvWJeLZ7vPyTdS6HGrek/M+MeRuLN6D/0yR7mwF/NP54NXvFNL9M/cDzR95y46j+03/2CY0HFPzau4vHNjNI/8je2/o7X7D9cCmSrUA3FP43J7oS54+s/gBJLpRQwjT/cFFdSNFnpPwQxhwudZss/4I0iQx9C7j8At8xEmZTOPyPGotfLDew/prODxXKL4T9jkOCs6jLtPyw3X0YKvM0/2JO0/Jxl0z+xFS5Ie3zhP4Dkn+QsQtA/6vtyAHEc0z94O6vfeX+/P6syJ0UQueQ/BHXv10Yy7D/nnmx91BDtP5C3i+WzpdM/23oLammO5T8iCMaTsrbpP0RjNOXl2ec/4r1BrnSc6z9qXPNCFi7kPwQFEHAKN9s/6YHVR4OC6j/kNDnOfBzkP9wAmmKJZOM/X6NjQgpH4j9qEx3iz9PTP/e9PDlfcOk/eKbBHoM45D+w+gXhNq7BP3p2rUX4d+I/MCFTmnrgvD/DawwWTOjtP75kHhyLoNE/Q+pd0R/n7z8wEu0B9fqgP5vkiy46/+c/XqQwamwv2T/OrnvaibzbP2pvGPTSsOI/arRaDDMJ3D8a/1/+abzZP+6rI3YSodA/mNPSxpaY7T+K5GQ8VCbfP6lMKvVGIOc/6nNxzhn15T/om3ix+9uwP6CrXOKAjNc/jTpWu6K55z/83P6uaI/KPw6Yj1j6Ktg/gAPHD1Q83T9Q814kP6mnPx4OviJ/tto/kNY7HFUC6D+1IIjsz7zpP3ot6fcWzeA/LFOurycB4j9aFGGWyGHTP+kJS/flpOE/yjMNzOt87D9HVnUS4A/mP2o6mHUZRdU/TDKFzki4yj98V2W6ArfMP7YAUJh62e8/LBBEoRWEwj+s7wn8AfbSP6YHRcXeneA/zsZ3hNET3z+mC/Wv/uXlP90oFzNriuI/nzCyZm556j/eBkV2tn3WP2DgiKv3He4/EI+ARbwipT/Vu6xoLfLmPyQiF/k4ycU/Ts7ez9B+7D+mCV+55GHWPxxUPXCFiMw/zERd6JZP6D/Yo+nIYtHjP547eGNESOQ/Gsz3eV/60D9YAHxUVNrfP2jw5Gwl+L0/BbAxI+3d6T+wbuHEFkfgP0JK8Sz5pdE/TF1BAnYu3D/Fd8XKQDnjPwSGiNvSVdA/FhPS7Rq/6D+8oLfW3gLvP4qCDHc23tg/+5SG+3zA4D9vNDvDL67uPwG7fC3cU+c/gCJgYzr7xj/vvzxljCLvPxD1xl0MGbQ/Eu0M9V9w4T+oAihyUNfGP+7gHxr0QO0/tubFuHXj5T8GB8DEoK7XP+5+6kKzKe4/IuJp9l016j+4LLHEtSK9P4/EbvrMLeU/gGQYG9OZkz+ifvXTss3gPygaW2SPat0/WAFzFoc41D8HbMbcSw7jP98Go2EN/+I/M8Du6JQ66D+I8L9NXQ7PP/KvCuYco94/AHp4bDb8hz8wqhezIirHP+RG8/X0AtA/k+JrQ53L7j/E3YZQDE/bP24WPSAb0+c/oJz1hn22rz/YndD1TcDGPzK7xxbiY+8/mOzIny2xuj+CkEzqRkHfP4R/QRHxu+Q/g4V71wmn5D8OMJJvm1zUP4zEzqLtfuY/dU3eAy016D8ah4Pwv63ePxBe2MGzOck/kFQt1BRr3D8gW6ljgIK1P8XpQ0ccHOg/AvrsXpDT2z8wjogzxfzBPwEyvuHO7+s//OxHhU/UwD/cEjvpC3viP8omfCLqC+w/sYIOGpJZ6T9l8YWuCafgP8AKlWpnHIQ/9vc3ltof7j/Il5NWH8buP2ByrFe5ytM/+lnrQqjk4D/AxeZ/ugyTPyer8xTmV+I/HLtjOJbU5D/RGR7Po0fmP25T2R+H5Ok/mCjzdNrEvz8ynr7eqtvrP6GgRrR7Zec/IKD6ZNsyuD9HvvNDioLkP3xvZYA5t+M/o2VppOnB5D+B6+op1TftP4HAU+5K4+o/DEgUeW9y2z+IDnlQVmTuPyBVMSXYLbg/YBae0Dnczz+AV2crfmu6PwcFMTT9E+s/2LBIzzXu5T82MSLcATXdPxByOVh2Q+s/8I8nXbe/rT/vWBqpLjPpP7iCSiqGrto/lDJ5zovCwj8YBxNZh0TKP+DYIP+bD5o/TswmhLLD7z+7xPPR6YDhP7r5kSvAQdU/7daAEak26T9Qg5yZIQvGP+jAISHQjdg/RBQIz1ro1D+8Lm6G+hTnP2qokGZRyNo/aj3f+aAi6D88wKfBnP3iP1AiN4i6f7g/ONnTSi7CzT9xi5wP3OLrP4IJyXlOhNo/SZ5tHs3V6T+I493CB5C7P1C4/jIrZeM/ktSUfGZN1z9baouVXaDjP8ipAdSN27Q/ik6TPjhW7j+Y47SQv8bYP/grahTdpbk/txq/EpHF7T95WRBhEgTgP77c+Y30UtQ/eLSH5LzUwD9MQ9LxAkvXP7GMujyWLec/4xI0ZZpI4D8r+9ExK5njP3TJgIhemtE/2yI8lTz74D+elThXFU3QPzCUCbLlxek/1CYfCzIC5D+RvAUP6z3hPwKI/3k5dOU/8DE0R/XJoj8AoIi4xojOP+gTjsQ8pb0/eP7pH0cYzj80FKFSDprnP8DkeFOUhqk/qOD45cX20T8CEixMNyvSPz6g2Xtndec/EBnSZXWp3z98NjMPI/rHP9K7Wuw3MeA/wK+Fjfrb1j+yH44gnkbcPy9SdF07/uM/5GNHF3l/yz+EskGOeeTQP8QvUM5knOI/0M14vP+MtD8yhqNquSPpP/RuHZgOD8s/zj66y4aj2z+owfoU1GHUPwPPILsZRO4/ZJZrdpWBzT/0FvF91yPIPx2K55gJsOs//+ARyZEY5D9Y5gxWobfnP4T+i+SFat0/0DKxQ5hGyT/aukM8WVrSPwAAXVBLtjU/EPT2WodipD+YNSHQcbmwP9IsWFXGEdw/bxG1A6XU7z8wtnMEwtCvP0YIkNPIMuA/Kripjg8y1T8CZkPeaITXP2iI9i+//c0/b4H880lh4j+mLphJHhTaP0zqBvi1quw/PFPBGvoz3D8ExGrAEITWPyoC2PXUAdI/jGTMUFr00T/Q06Xxd2TGP/r6G64FaNI/B7XkUKxg4T8s3rjze7ztP3h/g2w5K7U/0FGijUxF4T8SgeG/+YTbPzQgRPpOrc8/BPol5fgNyj94l5EYI5/OPyaFAJGMU+U/+odNdhSL4z8NMXH398PuP9yrVzulYOY/lmHO8Rmb4T+E5tFQhWHlP1iH94OzWtM/4DITpU/urT9S7zN/Oc7qPyCdxfKCGNo/ICnk9I5X6D/IfgtRWLXoP2ANQ6VjdKM/hp7/lj+44z8esvt9G5/jPyaQNQDDTdI/15B/uREW6T8wpDxgtnLfPyRLkBJDZdk/8VljneKA7T/C2sPyRevuP/c1PDTNJ+Y/lnnYFLiZ6T+lh07UjZ/lPwx2GR8MDdo/Fzqa2ZPb4T9shiUHUR3AP2zLq4Kecug/kL8VH3vdvT+EPYZo9+7GPz+hGAiiB+I/hvviJRdN0D8n5LJDBvbrP351W6IrPNk/YEMN2j3snj+AWNLMrraeP67necTd1uo/De25UOUC4T/vf3mY0VPmP8JHoaiKnOM/64CsjXMa7j8KsJB5SPniP8m0fbTLv+c/RxWCdxEB4T9OMBod7xXSPzjv8KwMDL0/ImNAAAp22D/wg8AKaVbFP8AnL/+pfM0/7MGZ79167z8fNy90mtfqP2TVo34y1Ok/kLbQH/cnwz8CkgYmpIzbP37YdFfOY+E/qgcUvSVM7j+IkoTeJo24P8AM7iGlUIU/FMZ1HiWt7T84iI9IK/PIPwi0hRTJZ9E/VKmExmYq5z8cMZhGSYPdP/SbcONuSM4/YPUQ1iVZ6z/A41niCoWJP9toCo+U+O0/2blosPDe7j9CqqfKJojUPyA2dxH97Jc/F5GcbzXO5T8m6CwlY47VP7Bt4vWDbaE/YNK3UBTW0T/Aeyu0vGfVP1DPCzNsoqk/MqMp5w3d2z+4bfsTGR7QP1A1V7gxs8Y/OEOojUpX0T9GUD0VcOnfP0i1DyfIU8U/u2E4x0F55D9FlrFyyufjPwAqfIyyF3E/eHfbQYLlzD+JiqzD04vlP0CD4gjP2pc/gcnHk+wx4D/sCibiKXTnP1Dt5XDgPMc/TFM5hlfnwz/YZrcQp5noPyg6GWUOM7k/v9p5NT6D5T+2Dk5ZhAzUPwDTsQtlRbw/y68VYRQB5T8aNQzlEWfcP5ILNA8hX90/9E6APNgD2j8VfZnzHljnP3ARN9Avs+8/PBUbh5YcwD+2stR5/NjtP5SZkZUKhtU/kloWaVWX7j+QimMkHiHiP1wljq4pu+8/W6JimxWa5j+c6ll8tfnFP3DAh1Wh+No/clTrNiQN3z/6pEmRxdjVP1AUOUkqyao/+reYMEK06T+cBNG5i8bAP9xV6kd/XOQ//tB+yEj94T9ERfxEtqjqP36zk1foOOw/ABBCvmVjkz9j1ksP65boP3tbMrB/g+I/MB7rvrNE5D+gyqdpg7WtP8i8t9Jfv7Y/2zD3G1GC6T+aDSWJntDUP1AQr8O1GtU/JgDO6qZh5D9yg3IFjNfcP1k0OgNfkOw/aA88RDzf0z9AwmIU4UPbP0SYD4xWz98/fhtTTfWw1z/MnRQlDb/jP5hXeAqP6b4/oF/n089q3z9DcC5cbqPtP9aQd97t4No/rvHT+VfE1D/CzrsbmC3lP2IyI0kir+0/MWaLo/sa5D+8EKPWijPIP3J57uW5uOA/Mu33JEsO3T/Phh75MuLsP/cT9OUsIuM/P9B2tlAH4z/jVvb31CPiP8d+MhXu+O4/Lz/FYzrr4j8oJbB8OqDdP8AFfPhCJus/AEnpcj0PuD9IcqaeaozPP7DJTcDlN9k/4g/ZLmqC6j8+a/qidWvoP6ogOFgtdOE/TkYRXHRM7z+gbniC3QSQP17W2NL0VO8/5E+nRjnawj/8BfDE+8bhP6hldqmk28A/st1i4Hf71z83APgiGF7jPxFM4YVlx+k/WA4R0M6wtT82s/0BGGjkP0CLUvGbDOY/X1eoJWhj5T+pBEJydn/mP6Q6m6fIges/aJGhAGxLvj9sW+7nRLrpP6ASCVKLOpw/K4Cyrp484D82hrOwB3LpPwBmP6vhl4I/Fn9rZjEr2D/THc3w0c/nPy1ox7TWVOg/VPq2cevJyD+RACLJnhLgPyTpie2B0uM/Ad0olsud6D8Sd+MVA3DVP8YwkqP0Ju8/OvPbriEN5z8mzFkgNnHuP8rFJkAK6e0/eADKMm3Usz87q3MdstviP5SsSKTpTds/rzbkkqI15D/ccOXKfrfIPx4P6/S/OuY/6JK3MfAl7z/6UyDjUuDsP04+AWa1j9g/IUc5ZR3a6j+yZQg/j+DhP0B1SOTO1t0/oIpnfxh8xD9shd5ZoXPqP8BrkkKuVuI/b+7Ang776z/k4wRxQSrKP0qE2OIY39w/FvdGWwC70D/crYzRLp3KP3uGznZVYO8/BkG/h8t21z9AM8uw5WulP0dF8/Bk6+M/SDPiZiX53z/JxR8s8CTsP21xFyhSmus/RuoH5FI+1D9AUqy8t6qhP7ZrFzxDLew/gklah6570j+A0Zuht8qtP6ofVKs4Y9o/MNah1BzQpj+OZTIdETrYP3iM4dF36Ow/cEAD/5OhtT/InXYjy+m4P2rtnmUTlts/QO3CD5a2yD94310A2QniP1aaUW+E2tc/Rr+owllx5D8rL7eAOpnmP06thA0vyuQ/nWSGtRCs7D/0Tm/BhC3KP6DadCCPx6A/dFN7rng+6D/n3aplLefvP+coCjx1juw/8CUZIDOMrT+/rRPjyBXvP/7wkUtchdo/CB0Fbp4k0T8ORq+71LvjP+BNdva1I5w/R/rl3BIT5T9AVkkc37zpPwjoSLHSE84/YCVn004t5D8QSADsA16oP+GAMn4vKOI/IHPSYGEN1z+AEcAx7Tl1P+XhCc9P9uI/GHVwCVa1zT9wcXiXzpmvP/Icn1zbyOM/l/oDsJl57z9bAqK45SfoP7zwvsJAVMk/OCIUVBnJ5j9w3J0HK4TJP7mlH9Opg+8//nZWpfF54D/AZoC7otbRP72wm3/NXu0/qKSizWw+3j9l87SBRZ/uP134QW9hdek/Xor6U0ob0T+7XKC3c7ThP+95nLJP9uQ/CAUkv4oB3D+R4A+RF5TuP9ya+5At8t4/QMtpAxZsgj/MgnsWXqngP3Jjumys++Q/WMTvj91UsT9TErRvJgHnP+lZ9SwtlOk/jd6NY6Eu6T/AtRl7uiGdPw4FGUB4F9I/tN3Lx1kA3T8GrZSxXLTvPyl+5Gm8U+c/Mp85kpBT0D9yfTIWrEvoP4AOfdexznU/P0AQrRw17D+ez0xQPObVPwTzXHLr7uY/A/CU7T0s7z+2GEXteuLlP8Yqc8y+FO0/tdpHselp5T+U3Y2q+aLLP9PPR7+0KOc/rATCCBRvwT/4XClTU5i4PzAWzuJ7dsw/GTvJ48054j/6FUscsQXeP0q+MHP3qdY/b+AvwAdG4z/sG91Mg4/oPwCSR9ycBG4/qB/1UYx35z8b9ptzFNnuP5mn+u7QJOM/LiiPLG7i2T+9fC7VBH7oP9Kv5mafeus/CM89cfX9uz+8BRGzUwLUPyIFJJw3zOM/J0WbMRmi6T8D248pz1fpPyGTvjOfqOI/zp8vi8PW4D80h7a7bw/dPxozvpC16dA/CIa3SNEPsj+uvZ9iOCLkP4BcJIb3+sA/jfCbuDtU7z/rayB/XrjtP2kajFkkZOI/Tva0Yc3G7z8QPa1rfvnPP1SaduL2NNs/gX722bAz5j8IUaMD09jaP9LiIGItUOs/tO2tAfIo3z+EkMgiYWTSP4AfPx/kXJE/DzoIlzd45D/ggJTBa0GRP+kzvov6aOg/GcMeOInp5D/1UlT2dIzrPwxAwgHjW80/bgW2ZaIL3D8kMqTBfr7ePxBZ7KJJwdk/xfPpSVWw4D+obH7Rbb3LP41gefDFgOc/nXWIbXv26z8DE40mcLjsP9Kn20eHIeo/xYqKSXVX6D8=",
          "dtype": "f8"
         },
         "z": {
          "bdata": "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",
          "dtype": "f8"
         }
        }
       ],
       "layout": {
        "annotations": [
         {
          "font": {
           "size": 16
          },
          "showarrow": false,
          "text": "qNParEGO",
          "x": 0.225,
          "xanchor": "center",
          "xref": "paper",
          "y": 1,
          "yanchor": "bottom",
          "yref": "paper"
         },
         {
          "font": {
           "size": 16
          },
          "showarrow": false,
          "text": "qEHVI",
          "x": 0.775,
          "xanchor": "center",
          "xref": "paper",
          "y": 1,
          "yanchor": "bottom",
          "yref": "paper"
         }
        ],
        "height": 600,
        "scene": {
         "camera": {
          "eye": {
           "x": 1.5,
           "y": 1.5,
           "z": 0.6
          }
         },
         "domain": {
          "x": [
           0,
           0.45
          ],
          "y": [
           0,
           1
          ]
         },
         "xaxis": {
          "title": {
           "text": "Objective 1"
          }
         },
         "yaxis": {
          "title": {
           "text": "Objective 2"
          }
         },
         "zaxis": {
          "title": {
           "text": "Objective 3"
          }
         }
        },
        "scene2": {
         "camera": {
          "eye": {
           "x": 1.5,
           "y": 1.5,
           "z": 0.6
          }
         },
         "domain": {
          "x": [
           0.55,
           1
          ],
          "y": [
           0,
           1
          ]
         },
         "xaxis": {
          "title": {
           "text": "Objective 1"
          }
         },
         "yaxis": {
          "title": {
           "text": "Objective 2"
          }
         },
         "zaxis": {
          "title": {
           "text": "Objective 3"
          }
         }
        },
        "showlegend": false,
        "template": {
         "data": {
          "bar": [
           {
            "error_x": {
             "color": "#2a3f5f"
            },
            "error_y": {
             "color": "#2a3f5f"
            },
            "marker": {
             "line": {
              "color": "#E5ECF6",
              "width": 0.5
             },
             "pattern": {
              "fillmode": "overlay",
              "size": 10,
              "solidity": 0.2
             }
            },
            "type": "bar"
           }
          ],
          "barpolar": [
           {
            "marker": {
             "line": {
              "color": "#E5ECF6",
              "width": 0.5
             },
             "pattern": {
              "fillmode": "overlay",
              "size": 10,
              "solidity": 0.2
             }
            },
            "type": "barpolar"
           }
          ],
          "carpet": [
           {
            "aaxis": {
             "endlinecolor": "#2a3f5f",
             "gridcolor": "white",
             "linecolor": "white",
             "minorgridcolor": "white",
             "startlinecolor": "#2a3f5f"
            },
            "baxis": {
             "endlinecolor": "#2a3f5f",
             "gridcolor": "white",
             "linecolor": "white",
             "minorgridcolor": "white",
             "startlinecolor": "#2a3f5f"
            },
            "type": "carpet"
           }
          ],
          "choropleth": [
           {
            "colorbar": {
             "outlinewidth": 0,
             "ticks": ""
            },
            "type": "choropleth"
           }
          ],
          "contour": [
           {
            "colorbar": {
             "outlinewidth": 0,
             "ticks": ""
            },
            "colorscale": [
             [
              0,
              "#0d0887"
             ],
             [
              0.1111111111111111,
              "#46039f"
             ],
             [
              0.2222222222222222,
              "#7201a8"
             ],
             [
              0.3333333333333333,
              "#9c179e"
             ],
             [
              0.4444444444444444,
              "#bd3786"
             ],
             [
              0.5555555555555556,
              "#d8576b"
             ],
             [
              0.6666666666666666,
              "#ed7953"
             ],
             [
              0.7777777777777778,
              "#fb9f3a"
             ],
             [
              0.8888888888888888,
              "#fdca26"
             ],
             [
              1,
              "#f0f921"
             ]
            ],
            "type": "contour"
           }
          ],
          "contourcarpet": [
           {
            "colorbar": {
             "outlinewidth": 0,
             "ticks": ""
            },
            "type": "contourcarpet"
           }
          ],
          "heatmap": [
           {
            "colorbar": {
             "outlinewidth": 0,
             "ticks": ""
            },
            "colorscale": [
             [
              0,
              "#0d0887"
             ],
             [
              0.1111111111111111,
              "#46039f"
             ],
             [
              0.2222222222222222,
              "#7201a8"
             ],
             [
              0.3333333333333333,
              "#9c179e"
             ],
             [
              0.4444444444444444,
              "#bd3786"
             ],
             [
              0.5555555555555556,
              "#d8576b"
             ],
             [
              0.6666666666666666,
              "#ed7953"
             ],
             [
              0.7777777777777778,
              "#fb9f3a"
             ],
             [
              0.8888888888888888,
              "#fdca26"
             ],
             [
              1,
              "#f0f921"
             ]
            ],
            "type": "heatmap"
           }
          ],
          "histogram": [
           {
            "marker": {
             "pattern": {
              "fillmode": "overlay",
              "size": 10,
              "solidity": 0.2
             }
            },
            "type": "histogram"
           }
          ],
          "histogram2d": [
           {
            "colorbar": {
             "outlinewidth": 0,
             "ticks": ""
            },
            "colorscale": [
             [
              0,
              "#0d0887"
             ],
             [
              0.1111111111111111,
              "#46039f"
             ],
             [
              0.2222222222222222,
              "#7201a8"
             ],
             [
              0.3333333333333333,
              "#9c179e"
             ],
             [
              0.4444444444444444,
              "#bd3786"
             ],
             [
              0.5555555555555556,
              "#d8576b"
             ],
             [
              0.6666666666666666,
              "#ed7953"
             ],
             [
              0.7777777777777778,
              "#fb9f3a"
             ],
             [
              0.8888888888888888,
              "#fdca26"
             ],
             [
              1,
              "#f0f921"
             ]
            ],
            "type": "histogram2d"
           }
          ],
          "histogram2dcontour": [
           {
            "colorbar": {
             "outlinewidth": 0,
             "ticks": ""
            },
            "colorscale": [
             [
              0,
              "#0d0887"
             ],
             [
              0.1111111111111111,
              "#46039f"
             ],
             [
              0.2222222222222222,
              "#7201a8"
             ],
             [
              0.3333333333333333,
              "#9c179e"
             ],
             [
              0.4444444444444444,
              "#bd3786"
             ],
             [
              0.5555555555555556,
              "#d8576b"
             ],
             [
              0.6666666666666666,
              "#ed7953"
             ],
             [
              0.7777777777777778,
              "#fb9f3a"
             ],
             [
              0.8888888888888888,
              "#fdca26"
             ],
             [
              1,
              "#f0f921"
             ]
            ],
            "type": "histogram2dcontour"
           }
          ],
          "mesh3d": [
           {
            "colorbar": {
             "outlinewidth": 0,
             "ticks": ""
            },
            "type": "mesh3d"
           }
          ],
          "parcoords": [
           {
            "line": {
             "colorbar": {
              "outlinewidth": 0,
              "ticks": ""
             }
            },
            "type": "parcoords"
           }
          ],
          "pie": [
           {
            "automargin": true,
            "type": "pie"
           }
          ],
          "scatter": [
           {
            "fillpattern": {
             "fillmode": "overlay",
             "size": 10,
             "solidity": 0.2
            },
            "type": "scatter"
           }
          ],
          "scatter3d": [
           {
            "line": {
             "colorbar": {
              "outlinewidth": 0,
              "ticks": ""
             }
            },
            "marker": {
             "colorbar": {
              "outlinewidth": 0,
              "ticks": ""
             }
            },
            "type": "scatter3d"
           }
          ],
          "scattercarpet": [
           {
            "marker": {
             "colorbar": {
              "outlinewidth": 0,
              "ticks": ""
             }
            },
            "type": "scattercarpet"
           }
          ],
          "scattergeo": [
           {
            "marker": {
             "colorbar": {
              "outlinewidth": 0,
              "ticks": ""
             }
            },
            "type": "scattergeo"
           }
          ],
          "scattergl": [
           {
            "marker": {
             "colorbar": {
              "outlinewidth": 0,
              "ticks": ""
             }
            },
            "type": "scattergl"
           }
          ],
          "scattermap": [
           {
            "marker": {
             "colorbar": {
              "outlinewidth": 0,
              "ticks": ""
             }
            },
            "type": "scattermap"
           }
          ],
          "scattermapbox": [
           {
            "marker": {
             "colorbar": {
              "outlinewidth": 0,
              "ticks": ""
             }
            },
            "type": "scattermapbox"
           }
          ],
          "scatterpolar": [
           {
            "marker": {
             "colorbar": {
              "outlinewidth": 0,
              "ticks": ""
             }
            },
            "type": "scatterpolar"
           }
          ],
          "scatterpolargl": [
           {
            "marker": {
             "colorbar": {
              "outlinewidth": 0,
              "ticks": ""
             }
            },
            "type": "scatterpolargl"
           }
          ],
          "scatterternary": [
           {
            "marker": {
             "colorbar": {
              "outlinewidth": 0,
              "ticks": ""
             }
            },
            "type": "scatterternary"
           }
          ],
          "surface": [
           {
            "colorbar": {
             "outlinewidth": 0,
             "ticks": ""
            },
            "colorscale": [
             [
              0,
              "#0d0887"
             ],
             [
              0.1111111111111111,
              "#46039f"
             ],
             [
              0.2222222222222222,
              "#7201a8"
             ],
             [
              0.3333333333333333,
              "#9c179e"
             ],
             [
              0.4444444444444444,
              "#bd3786"
             ],
             [
              0.5555555555555556,
              "#d8576b"
             ],
             [
              0.6666666666666666,
              "#ed7953"
             ],
             [
              0.7777777777777778,
              "#fb9f3a"
             ],
             [
              0.8888888888888888,
              "#fdca26"
             ],
             [
              1,
              "#f0f921"
             ]
            ],
            "type": "surface"
           }
          ],
          "table": [
           {
            "cells": {
             "fill": {
              "color": "#EBF0F8"
             },
             "line": {
              "color": "white"
             }
            },
            "header": {
             "fill": {
              "color": "#C8D4E3"
             },
             "line": {
              "color": "white"
             }
            },
            "type": "table"
           }
          ]
         },
         "layout": {
          "annotationdefaults": {
           "arrowcolor": "#2a3f5f",
           "arrowhead": 0,
           "arrowwidth": 1
          },
          "autotypenumbers": "strict",
          "coloraxis": {
           "colorbar": {
            "outlinewidth": 0,
            "ticks": ""
           }
          },
          "colorscale": {
           "diverging": [
            [
             0,
             "#8e0152"
            ],
            [
             0.1,
             "#c51b7d"
            ],
            [
             0.2,
             "#de77ae"
            ],
            [
             0.3,
             "#f1b6da"
            ],
            [
             0.4,
             "#fde0ef"
            ],
            [
             0.5,
             "#f7f7f7"
            ],
            [
             0.6,
             "#e6f5d0"
            ],
            [
             0.7,
             "#b8e186"
            ],
            [
             0.8,
             "#7fbc41"
            ],
            [
             0.9,
             "#4d9221"
            ],
            [
             1,
             "#276419"
            ]
           ],
           "sequential": [
            [
             0,
             "#0d0887"
            ],
            [
             0.1111111111111111,
             "#46039f"
            ],
            [
             0.2222222222222222,
             "#7201a8"
            ],
            [
             0.3333333333333333,
             "#9c179e"
            ],
            [
             0.4444444444444444,
             "#bd3786"
            ],
            [
             0.5555555555555556,
             "#d8576b"
            ],
            [
             0.6666666666666666,
             "#ed7953"
            ],
            [
             0.7777777777777778,
             "#fb9f3a"
            ],
            [
             0.8888888888888888,
             "#fdca26"
            ],
            [
             1,
             "#f0f921"
            ]
           ],
           "sequentialminus": [
            [
             0,
             "#0d0887"
            ],
            [
             0.1111111111111111,
             "#46039f"
            ],
            [
             0.2222222222222222,
             "#7201a8"
            ],
            [
             0.3333333333333333,
             "#9c179e"
            ],
            [
             0.4444444444444444,
             "#bd3786"
            ],
            [
             0.5555555555555556,
             "#d8576b"
            ],
            [
             0.6666666666666666,
             "#ed7953"
            ],
            [
             0.7777777777777778,
             "#fb9f3a"
            ],
            [
             0.8888888888888888,
             "#fdca26"
            ],
            [
             1,
             "#f0f921"
            ]
           ]
          },
          "colorway": [
           "#636efa",
           "#EF553B",
           "#00cc96",
           "#ab63fa",
           "#FFA15A",
           "#19d3f3",
           "#FF6692",
           "#B6E880",
           "#FF97FF",
           "#FECB52"
          ],
          "font": {
           "color": "#2a3f5f"
          },
          "geo": {
           "bgcolor": "white",
           "lakecolor": "white",
           "landcolor": "#E5ECF6",
           "showlakes": true,
           "showland": true,
           "subunitcolor": "white"
          },
          "hoverlabel": {
           "align": "left"
          },
          "hovermode": "closest",
          "mapbox": {
           "style": "light"
          },
          "paper_bgcolor": "white",
          "plot_bgcolor": "#E5ECF6",
          "polar": {
           "angularaxis": {
            "gridcolor": "white",
            "linecolor": "white",
            "ticks": ""
           },
           "bgcolor": "#E5ECF6",
           "radialaxis": {
            "gridcolor": "white",
            "linecolor": "white",
            "ticks": ""
           }
          },
          "scene": {
           "xaxis": {
            "backgroundcolor": "#E5ECF6",
            "gridcolor": "white",
            "gridwidth": 2,
            "linecolor": "white",
            "showbackground": true,
            "ticks": "",
            "zerolinecolor": "white"
           },
           "yaxis": {
            "backgroundcolor": "#E5ECF6",
            "gridcolor": "white",
            "gridwidth": 2,
            "linecolor": "white",
            "showbackground": true,
            "ticks": "",
            "zerolinecolor": "white"
           },
           "zaxis": {
            "backgroundcolor": "#E5ECF6",
            "gridcolor": "white",
            "gridwidth": 2,
            "linecolor": "white",
            "showbackground": true,
            "ticks": "",
            "zerolinecolor": "white"
           }
          },
          "shapedefaults": {
           "line": {
            "color": "#2a3f5f"
           }
          },
          "ternary": {
           "aaxis": {
            "gridcolor": "white",
            "linecolor": "white",
            "ticks": ""
           },
           "baxis": {
            "gridcolor": "white",
            "linecolor": "white",
            "ticks": ""
           },
           "bgcolor": "#E5ECF6",
           "caxis": {
            "gridcolor": "white",
            "linecolor": "white",
            "ticks": ""
           }
          },
          "title": {
           "x": 0.05
          },
          "xaxis": {
           "automargin": true,
           "gridcolor": "white",
           "linecolor": "white",
           "ticks": "",
           "title": {
            "standoff": 15
           },
           "zerolinecolor": "white",
           "zerolinewidth": 2
          },
          "yaxis": {
           "automargin": true,
           "gridcolor": "white",
           "linecolor": "white",
           "ticks": "",
           "title": {
            "standoff": 15
           },
           "zerolinecolor": "white",
           "zerolinewidth": 2
          }
         }
        },
        "title": {
         "text": "Initial Training Points"
        },
        "width": 1200
       }
      }
     },
     "metadata": {},
     "output_type": "display_data"
    }
   ],
   "source": [
    "# 1. Plot showing just initial training points\n",
    "fig_initial = make_subplots(\n",
    "    rows=1, cols=2,\n",
    "    specs=[[{'type': 'scatter3d'}, {'type': 'scatter3d'}]],\n",
    "    subplot_titles=(\"qNParEGO\", \"qEHVI\")\n",
    ")\n",
    "\n",
    "# Generate Pareto surface using problem's built-in method\n",
    "pf_surface = create_pareto_surface(problem)\n",
    "\n",
    "alg_data_initial = [\n",
    "    (-train_obj_true_qparego[:n_initial], \"qNParEGO\"),\n",
    "    (-train_obj_true_qehvi[:n_initial], \"qEHVI\"),\n",
    "]\n",
    "\n",
    "for col, (train_obj, name) in enumerate(alg_data_initial, 1):\n",
    "    obj_np = train_obj.cpu().numpy() if isinstance(train_obj, torch.Tensor) else train_obj\n",
    "\n",
    "    # Plot initial points\n",
    "    scatter = go.Scatter3d(\n",
    "        x=obj_np[:, 0], y=obj_np[:, 1], z=obj_np[:, 2],\n",
    "        mode='markers',\n",
    "        marker=dict(size=4, color='deepskyblue', opacity=0.8),\n",
    "        name=name\n",
    "    )\n",
    "\n",
    "    fig_initial.add_trace(scatter, row=1, col=col)\n",
    "    fig_initial.add_trace(pf_surface, row=1, col=col)\n",
    "\n",
    "# Update layout\n",
    "fig_initial.update_layout(\n",
    "    height=600,\n",
    "    width=1200,\n",
    "    scene1=dict(\n",
    "        xaxis_title='Objective 1',\n",
    "        yaxis_title='Objective 2',\n",
    "        zaxis_title='Objective 3',\n",
    "        camera=dict(eye=dict(x=1.5, y=1.5, z=0.6))\n",
    "    ),\n",
    "    scene2=dict(\n",
    "        xaxis_title='Objective 1',\n",
    "        yaxis_title='Objective 2',\n",
    "        zaxis_title='Objective 3',\n",
    "        camera=dict(eye=dict(x=1.5, y=1.5, z=0.6))\n",
    "    ),\n",
    "    showlegend=False,\n",
    "    title_text='Initial Training Points'\n",
    ")\n",
    "fig_initial.show()\n",
    "\n",
    "pio.write_html(fig_initial, 'DTLZ7a train.html')"
   ]
  },
  {
   "cell_type": "code",
   "execution_count": 19,
   "metadata": {
    "colab": {
     "base_uri": "https://localhost:8080/",
     "height": 617
    },
    "executionInfo": {
     "elapsed": 175,
     "status": "ok",
     "timestamp": 1747762263364,
     "user": {
      "displayName": "Deepak L",
      "userId": "17343563887203968144"
     },
     "user_tz": -330
    },
    "id": "E2uIQhy7SOAi",
    "outputId": "f88c1003-df70-42cb-8a18-de9ede08fe41"
   },
   "outputs": [
    {
     "data": {
      "application/vnd.plotly.v1+json": {
       "config": {
        "plotlyServerURL": "https://plot.ly"
       },
       "data": [
        {
         "hovertemplate": "<b>Obj1</b>: %{x:.2f}<br><b>Obj2</b>: %{y:.2f}<br><b>Obj3</b>: %{z:.2f}<extra></extra>",
         "marker": {
          "color": {
           "bdata": "AACAPwAAgD8AAABAAAAAQAAAQEAAAEBAAACAQAAAgEAAAKBAAACgQAAAwEAAAMBAAADgQAAA4EAAAABBAAAAQQAAEEEAABBBAAAgQQAAIEEAADBBAAAwQQAAQEEAAEBBAABQQQAAUEEAAGBBAABgQQAAcEEAAHBBAACAQQAAgEEAAIhBAACIQQAAkEEAAJBBAACYQQAAmEEAAKBBAACgQQAAqEEAAKhBAACwQQAAsEEAALhBAAC4QQAAwEEAAMBBAADIQQAAyEEAANBBAADQQQAA2EEAANhBAADgQQAA4EEAAOhBAADoQQAA8EEAAPBBAAD4QQAA+EEAAABCAAAAQgAABEIAAARCAAAIQgAACEIAAAxCAAAMQgAAEEIAABBCAAAUQgAAFEIAABhCAAAYQgAAHEIAABxCAAAgQgAAIEIAACRCAAAkQgAAKEIAAChCAAAsQgAALEIAADBCAAAwQgAANEIAADRCAAA4QgAAOEIAADxCAAA8QgAAQEIAAEBCAABEQgAAREIAAEhCAABIQgAATEIAAExCAABQQgAAUEIAAFRCAABUQgAAWEIAAFhCAABcQgAAXEIAAGBCAABgQgAAZEIAAGRCAABoQgAAaEIAAGxCAABsQgAAcEIAAHBCAAB0QgAAdEIAAHhCAAB4QgAAfEIAAHxCAACAQgAAgEIAAIJCAACCQgAAhEIAAIRCAACGQgAAhkIAAIhCAACIQgAAikIAAIpCAACMQgAAjEIAAI5CAACOQgAAkEIAAJBCAACSQgAAkkIAAJRCAACUQgAAlkIAAJZCAACYQgAAmEIAAJpCAACaQgAAnEIAAJxCAACeQgAAnkIAAKBCAACgQgAAokIAAKJCAACkQgAApEIAAKZCAACmQgAAqEIAAKhCAACqQgAAqkIAAKxCAACsQgAArkIAAK5CAACwQgAAsEIAALJCAACyQgAAtEIAALRCAAC2QgAAtkIAALhCAAC4QgAAukIAALpCAAC8QgAAvEIAAL5CAAC+QgAAwEIAAMBCAADCQgAAwkIAAMRCAADEQgAAxkIAAMZCAADIQgAAyEI=",
           "dtype": "f4"
          },
          "colorscale": [
           [
            0,
            "#440154"
           ],
           [
            0.1111111111111111,
            "#482878"
           ],
           [
            0.2222222222222222,
            "#3e4989"
           ],
           [
            0.3333333333333333,
            "#31688e"
           ],
           [
            0.4444444444444444,
            "#26828e"
           ],
           [
            0.5555555555555556,
            "#1f9e89"
           ],
           [
            0.6666666666666666,
            "#35b779"
           ],
           [
            0.7777777777777778,
            "#6ece58"
           ],
           [
            0.8888888888888888,
            "#b5de2b"
           ],
           [
            1,
            "#fde725"
           ]
          ],
          "opacity": 0.8,
          "size": 4
         },
         "mode": "markers",
         "name": "qNParEGO",
         "scene": "scene",
         "type": "scatter3d",
         "x": {
          "bdata": "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",
          "dtype": "f8"
         },
         "y": {
          "bdata": "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",
          "dtype": "f8"
         },
         "z": {
          "bdata": "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",
          "dtype": "f8"
         }
        },
        {
         "color": "red",
         "colorscale": [
          [
           0,
           "rgb(255,245,240)"
          ],
          [
           0.125,
           "rgb(254,224,210)"
          ],
          [
           0.25,
           "rgb(252,187,161)"
          ],
          [
           0.375,
           "rgb(252,146,114)"
          ],
          [
           0.5,
           "rgb(251,106,74)"
          ],
          [
           0.625,
           "rgb(239,59,44)"
          ],
          [
           0.75,
           "rgb(203,24,29)"
          ],
          [
           0.875,
           "rgb(165,15,21)"
          ],
          [
           1,
           "rgb(103,0,13)"
          ]
         ],
         "intensity": {
          "bdata": "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",
          "dtype": "f8"
         },
         "name": "Pareto Front",
         "opacity": 0.3,
         "scene": "scene",
         "showscale": false,
         "type": "mesh3d",
         "x": {
          "bdata": "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",
          "dtype": "f8"
         },
         "y": {
          "bdata": "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",
          "dtype": "f8"
         },
         "z": {
          "bdata": "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",
          "dtype": "f8"
         }
        },
        {
         "hovertemplate": "<b>Obj1</b>: %{x:.2f}<br><b>Obj2</b>: %{y:.2f}<br><b>Obj3</b>: %{z:.2f}<extra></extra>",
         "marker": {
          "color": {
           "bdata": "AACAPwAAgD8AAABAAAAAQAAAQEAAAEBAAACAQAAAgEAAAKBAAACgQAAAwEAAAMBAAADgQAAA4EAAAABBAAAAQQAAEEEAABBBAAAgQQAAIEEAADBBAAAwQQAAQEEAAEBBAABQQQAAUEEAAGBBAABgQQAAcEEAAHBBAACAQQAAgEEAAIhBAACIQQAAkEEAAJBBAACYQQAAmEEAAKBBAACgQQAAqEEAAKhBAACwQQAAsEEAALhBAAC4QQAAwEEAAMBBAADIQQAAyEEAANBBAADQQQAA2EEAANhBAADgQQAA4EEAAOhBAADoQQAA8EEAAPBBAAD4QQAA+EEAAABCAAAAQgAABEIAAARCAAAIQgAACEIAAAxCAAAMQgAAEEIAABBCAAAUQgAAFEIAABhCAAAYQgAAHEIAABxCAAAgQgAAIEIAACRCAAAkQgAAKEIAAChCAAAsQgAALEIAADBCAAAwQgAANEIAADRCAAA4QgAAOEIAADxCAAA8QgAAQEIAAEBCAABEQgAAREIAAEhCAABIQgAATEIAAExCAABQQgAAUEIAAFRCAABUQgAAWEIAAFhCAABcQgAAXEIAAGBCAABgQgAAZEIAAGRCAABoQgAAaEIAAGxCAABsQgAAcEIAAHBCAAB0QgAAdEIAAHhCAAB4QgAAfEIAAHxCAACAQgAAgEIAAIJCAACCQgAAhEIAAIRCAACGQgAAhkIAAIhCAACIQgAAikIAAIpCAACMQgAAjEIAAI5CAACOQgAAkEIAAJBCAACSQgAAkkIAAJRCAACUQgAAlkIAAJZCAACYQgAAmEIAAJpCAACaQgAAnEIAAJxCAACeQgAAnkIAAKBCAACgQgAAokIAAKJCAACkQgAApEIAAKZCAACmQgAAqEIAAKhCAACqQgAAqkIAAKxCAACsQgAArkIAAK5CAACwQgAAsEIAALJCAACyQgAAtEIAALRCAAC2QgAAtkIAALhCAAC4QgAAukIAALpCAAC8QgAAvEIAAL5CAAC+QgAAwEIAAMBCAADCQgAAwkIAAMRCAADEQgAAxkIAAMZCAADIQgAAyEI=",
           "dtype": "f4"
          },
          "colorbar": {
           "title": {
            "text": "Iteration"
           }
          },
          "colorscale": [
           [
            0,
            "#440154"
           ],
           [
            0.1111111111111111,
            "#482878"
           ],
           [
            0.2222222222222222,
            "#3e4989"
           ],
           [
            0.3333333333333333,
            "#31688e"
           ],
           [
            0.4444444444444444,
            "#26828e"
           ],
           [
            0.5555555555555556,
            "#1f9e89"
           ],
           [
            0.6666666666666666,
            "#35b779"
           ],
           [
            0.7777777777777778,
            "#6ece58"
           ],
           [
            0.8888888888888888,
            "#b5de2b"
           ],
           [
            1,
            "#fde725"
           ]
          ],
          "opacity": 0.8,
          "size": 4
         },
         "mode": "markers",
         "name": "qEHVI",
         "scene": "scene2",
         "type": "scatter3d",
         "x": {
          "bdata": "AAAAAAAA8D8AAAAAAAAAAAAAAAAAAPA/AAAAAAAAAADbRJvQMMzdPwAAAAAAAPA/AAAAAAAA8D8/rgt7lRnAPwAAAAAAAPA/CXStcc2V3D8AAAAAAADwP77MNCcxBN4/AAAAAAAA8D9KYfXbw53pPwAAAAAAAPA/q0oirSma6T8AAAAAAADwPwAAAAAAAAAAAAAAAAAA8D8AAAAAAAAAAAAAAAAAAPA/AAAAAAAA8D8AAAAAAADwP9MtWOpz4+8/AAAAAAAA8D/bjMyS5B3iPwAAAAAAAPA/AAAAAAAAAAAAAAAAAADwPwAAAAAAAAAAAAAAAAAA8D8SYVke7MmdPwAAAAAAAPA/AAAAAAAA8D8AAAAAAADwPxMKXdbeE6E/AAAAAAAA8D8AAAAAAAAAAAAAAAAAAPA/zGiKyo5k4D8AAAAAAADwPwAAAAAAAPA/AAAAAAAA8D8AAAAAAAAAAAAAAAAAAPA/UlPZphpi7T8AAAAAAADwP5ta5k9SHuc/AAAAAAAAAAAAAAAAAAAAAAAAAAAAAPA/nXyzEa8H7z8AAAAAAADwP9liXcB0juc/AAAAAAAA8D9EyzBhVYPvPwAAAAAAAAAAAAAAAAAA8D8AAAAAAADwPwAAAAAAAAAAAAAAAAAAAADussgNog/XPwAAAAAAAPA/LL4mFOLFTz8AAAAAAADwP8VUuCU6R+8/AAAAAAAA8D9JYZBGZcvnPwAAAAAAAPA/USC0JIPj6T8AAAAAAADwPwAAAAAAAAAAApTD523Q5z8AAAAAAADwPwAAAAAAAPA/EVpLSH3a4D8AAAAAAADwPwAAAAAAAAAAAAAAAAAA8D8AAAAAAADwPwAAAAAAAPA/2Dng1BzC5T8AAAAAAADwPwAAAAAAAAAAAAAAAAAA8D8xGIDpwb3sPwAAAAAAAPA/AAAAAAAAAAAAAAAAAADwP0U+EK9/qu8/AAAAAAAA8D/lnvQW10HvP2wOdcaF/d0/EkK5lfDi6z+P1m6R6SbtP2PNMiwLjeQ/AAAAAAAAAAAAAAAAAAAAAL6TxXZV2+s/AAAAAAAAAAAAAAAAAAAAAAAAAAAAAAAAAAAAAAAA8D+G6UgIc/DXPwAAAAAAAAAAAAAAAAAAAAAAAAAAAAAAAAAAAAAAAAAAQ+7hz2Ml6D9tXxWoXiLiP+x3AcO058E/ZGSWkS+2mz+QZReGzM3rPyIskctJMtI/AAAAAAAAAAB+Wj7EnG/BP0ke4WlytOs/AAAAAAAAAABNTDJ86VPrPyl/7B4z6u0/fpTV10MhwD++Q8GNUlHdP/PyiVOIQOc/AAAAAAAAAAAAAAAAAAAAAMJCTF3Urcw/AAAAAAAA8D8AAAAAAAAAAAAAAAAAAAAAAAAAAAAAAAAAAAAAAADwPwAAAAAAAAAARe5so2S5wz8AAAAAAAAAAAAAAAAAAAAAAAAAAAAAAAAAAAAAAAAAAAAAAAAAAAAALkI3yvL06z9uH62dwU/qP9ott9vOxes/AAAAAAAAAAAAAAAAAAAAAAAAAAAAAAAAAAAAAAAAAADc77gbuBvtPyudkd6E7Ow/AAAAAAAAAAAAAAAAAAAAAAAAAAAAAAAAAAAAAAAAAACN2c6/+sG2PwAAAAAAAAAAAAAAAAAAAAAAAAAAAAAAAAAAAAAAAAAAAAAAAAAAAAAAAAAAAAAAAAAAAAAAAAAA4vXppeiv7D8AAAAAAAAAAAAAAAAAAAAAAAAAAAAAAAAlm+KZxf/BPwAAAAAAAAAAjQBXPc3Pvz8AAAAAAAAAAAAAAAAAAAAANbqJp80m6z8jKNFHi2TdPwAAAAAAAAAAAAAAAAAAAAAAAAAAAAAAAGYHD4qagcQ/AAAAAAAAAAAAAAAAAAAAAAAAAAAAAAAAAAAAAAAAAAAAAAAAAAAAAAwXy80oyOs/AAAAAAAAAAANNqkpTiXsP06UfnNtS+Y/AAAAAAAAAADjXLmivDfkP30QSznM1es/AAAAAAAAAAB6CyjA9QrtPw6/A0pxCuo/Dn98dBjA4z8AAAAAAADwP6qCkxsFduM/AAAAAAAAAAAAAAAAAAAAAAAAAAAAAAAALMsf9dco6j/8oIflucTqP9bJZ8339+g/AAAAAAAAAABv8u25jvrqPw==",
          "dtype": "f8"
         },
         "y": {
          "bdata": "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",
          "dtype": "f8"
         },
         "z": {
          "bdata": "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",
          "dtype": "f8"
         }
        },
        {
         "color": "red",
         "colorscale": [
          [
           0,
           "rgb(255,245,240)"
          ],
          [
           0.125,
           "rgb(254,224,210)"
          ],
          [
           0.25,
           "rgb(252,187,161)"
          ],
          [
           0.375,
           "rgb(252,146,114)"
          ],
          [
           0.5,
           "rgb(251,106,74)"
          ],
          [
           0.625,
           "rgb(239,59,44)"
          ],
          [
           0.75,
           "rgb(203,24,29)"
          ],
          [
           0.875,
           "rgb(165,15,21)"
          ],
          [
           1,
           "rgb(103,0,13)"
          ]
         ],
         "intensity": {
          "bdata": "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",
          "dtype": "f8"
         },
         "name": "Pareto Front",
         "opacity": 0.3,
         "scene": "scene2",
         "showscale": false,
         "type": "mesh3d",
         "x": {
          "bdata": "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",
          "dtype": "f8"
         },
         "y": {
          "bdata": "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",
          "dtype": "f8"
         },
         "z": {
          "bdata": "YCeck4tqD0BmjlnmZTcMQOH7VR9gJRJA2cX8HJarE0AGAlxGqikPQJALq1BWzhVArLC5A7k1CEAI3Zty1zARQNQ4LVZdtBZAjBFJPXeVFEApmrTbhi4SQOiNhIrxTxZAdumPSStgCUB40YgnkOoVQAmwpntOlxRAW7KDKlGVB0CZv6p67H8VQN6u6jyVtxFA6WxUBu5aF0CdguffVVcQQNjSPelMLxJAU+cmmjcyEUCkmV5aIMEUQINBDfh13xVAJs0cj0j3FEAdewxjWiURQLoAiJVW0BZATH2u5crKFEBQfoMf0U8FQKiTgAMrZBJAzWUExVf+EkDJHv0IO1QVQKK7FF4ZJBZA7i5FbI6YFkDyBwA9mXoGQI8WwrnYoRVADDMbxzoOEUBnh0rvgbQRQP6fSrWbnxRAub7UyhtZFkCuOq4/rxYXQFyvqe+rYBZAQEkxRg0MF0AXqvLItWQSQCAUPptYwwxA6KDle5mfEkA9+O1kB3cWQDUI/gxNCxdAATIQjWMpC0CWF70+6BEWQJzogWJcWRZAVRytC5BwF0BKid9mp7oQQB/pSXUNSBFAvxvO9MCTEEA469GZIjESQFbjYPaz9BdA5NpemsyyFEAKVrub1W8VQPAuAyUZUBRABHh4ni0mFkDSTeCox/cQQAAkYs5/YgtAfxDpz2qOFEBE0H92vaMQQLDWMEy44BFANZGP+0oYEkBURE+D3N0WQFziywsneRFAVuAV5UgcF0BOQM6KVpAXQElvm3Lx+xNAQFxZ3wMtFkAWmZM4mfQMQHg5ZAl6rhNAzyi+cB7EF0Ac+9041KgQQJJwjDOcdRBApymeFYpjFkDKQmpny8AQQBCjH4ytbBdAnxyGKdvQB0Bi8OqLwYoQQCKMdl6VhhFA5KCWlP8nFUDBE+a/SxsWQDkIeKu69BBAIoFEWau0EEDro1JnIb4UQChVIoqpyhVAwUa0zW5BFUDlyliAqEcTQAuS7//86RBAjPVxU58rFkCa1oLEt6AOQKKFVJM4+xBAcm1jDUp/FUAy8TLENOkPQE5vxbZGJhFAwlwOwwH9FUB1f8xshUUXQHxLc4q0NgdANRQWmr+RF0C3rPb/RFYXQGZC514l/BFADrEllp/bEEAj2Gca4nUXQMFyCeMIeQ1A/rJFOnf4EECxl6IP0HcPQOfypWX98hZA0qz/4A9DFkB7dTge+O4SQLiKzCCCshdAcXrl5A0ZFEA967XlOTQXQN+F31kiVhBAvpsak8KfEkCU7xmtB+kRQK49pB7wpRJA0jcDHPrPFkALw3UbJ1oRQLalbu26jgtAzBCx1qPxD0AN9XmruCYRQIxFaVcxzhRAvsQ0dO2+FkCKO7+Rs8EVQD8FRk/OZBFA0u+y8WFnFkCG3B7+rZ0QQMZfMHCAsxJADab+2JQpEECZ1jy5hVAWQP3fUT6L3xBAbIGcuSHLEUDavTZXqMsXQBbPBENFiQxAe0YXtoapFUCSfzJNp6kRQAqtpiwhGRBA8oNS/G7yFUA6n72t1fQMQONEoE9fPhZArX1iAI04FUCcbFtgt5MVQLdHBFYvNRFA2C2r5U6/BkAcJitY2mQSQHwp2A0azwlA4dGVGDA2FUDi2R4xJ7kXQJoE7kFNRRZAHifZWJ2uE0DqeBv6SJAQQDQuLie+EhVAqekoKrRNEUAXgfXSi7cVQNvLx7eMVxdA8B/zirrGF0BOoB8jIpMVQDDAGx+MBxRAyaoJEx6AFkBnd8jqW00SQCQnQt/MlhFAW/T35hI8FUBiRl2MiPEMQNmcI5Ld+xBAf4heATCUF0DY2AyeiGQUQMB0+MVnIhZAyLGkfWA/EkBFeDyU+ekPQNIP8yAV+RZAD5Ss116zEUCCusvKTfcRQDUcFYzBPhZA4cOqjchWFkAAgDMx1zIQQFZRuobR9xZAwuQsvdW5EkAim3in7s0VQMfdlxi/yglAQfxE2m/uFUD/zHWNFX4XQLPNveSu/hZA6I75t9QqDkA5m/ywUj8RQLBN/Y3stg9A6a60qtnBEEBGFLbqsE0MQHAVU8nw3xBAQZKDFJ+pFEBRA3fUCJMWQBwd6P8/YRFA27EmXHKAF0CovAwgF7YQQDVyD/gCZRFACjDjqIXQFECWPRtotQMOQCKtLlCurxNAJZ+IDS+REECv+VyyqcsQQKYG/5oGhhVA1m2cLvbuD0B8mCe0fWEXQKRXJPJv5RFA0i9hrF7CFUB+HUT1aZMVQFil4wOHgg9AlgKZ1Ie6EUAR+5OBOzQWQKCVmq8vshZAt7GvXxSaFUBBAe471sIQQF3jnjtoiBZA8xU74AkeEECtYRJiDiUVQL5mbk64JBNAg110ZNtEE0ChTEPoZjcXQDbd2MP4FRdA2kmRdU+SEEB9yPUk9OoXQG+JSc/c5BZA8mw5bMLaFkAcPe3U1PwGQIswW9fz6RdAk4idr/9WFkBk2SGwyvcQQHwRlJQXxRVAIuVOL8xoCUDAGtYwLDwWQKIbqb8EaRFApwIeZbbOEEAYA2RGRiEXQEjejj6O3RBAReaIa4a4F0AupGsGTiYQQHmckKgWShVAzklI9T2aFEC4wdaYYNEXQN1INMXbiwlAcjU14gC4FEBZt9BLFgwWQLBDwe+XKQxAih2tjiGqCEBcOu7uYIoQQNBPuIvuXxZAHoZ5zjkhEkCKxbdvqFkWQPohnq5EABdA6nUH5hw4EEBfSwm9k8oUQAlqneAr+RFAqhHaj849E0A+qSbC058VQLTD/87oLQxAQXqX3I6CFEAs1a942R8RQJ2bM2UyDxVAdUAQ1r8nF0APNIqtwpQVQCCeCehr0Q9AYsw0yOBGB0B0BQGbycUTQEALkAYDjBJACWXb6jzEDkB6xtE/iL0UQLvHxbS5TxVAndBB2Le2FkASH1LqHZwWQOriBbFkTRdAJj7hqySPEUAAMozHMiwUQKF+HSoA6xRA4KyJFepyFUAqnicT6CERQGw17aw+ahVASUQndkcyFEDad4VlsOEVQPI1Gq1UGRJAVDA0Dx8ZEEBYWxsS4JIXQOGaz1KezRZA7RaYKIqJEkDOmoBHfEUVQEiyFGiHPBVAjpDeGG/XF0CFxlcLUroSQPijmg3jfhNATF3O3HvvFUCsuBNqv10RQKxtt84GmxdAVeXV5E7rF0AozfzRvMkVQDwBGtPHGhBAZ6VgBIEFEUDkG8x9FPMUQLoWR54JxRZAmf5bFsD5D0AK2X3RsA8XQOg01576BxdAdmWsoxFrEED71WGzXssVQEqe4EGNpRRA+lGZ5E+wE0BsEyDRfHgSQLxcMunb4xBArETWBGUWFkCosRFqWLUSQMFIUDHJZhRA5XMjov1VFUDPdTD0CfcXQGDOstiw3BRATOF15qMqE0DUF87ueGkOQHjITyWMUhNATN26fqu/E0C6NrEDBxMQQEEeGpJryRdAJVNEx5PqFUCMftk4PKEWQANPQsNOqRZAFpm9fRFAFECL1l/g7RgWQEXpXyX3qhZAnOtmxA7bFEDXidht4KUUQBKAh5icswpAiDupg1jvEEAW3BJbQm0SQNjzhPnfZBZAYnRcOcIeEEBcHMIN5KYQQKW4s4+hIRZAA4SRgRYeEUDx1bleWXYQQPhl9eux0BVAymwIc/jjEEDUsldHS4kXQOOiP7/1XhBAjyY0IolMFkAUaAEq06kSQOKYf6v0IBBAGOKH0IISC0A4N4be434VQIkZo7o0gRFAx4w8Ehr6D0B3LdB7620RQHRxOyyBTQ9AVqoEhADoBUAb83gvHTsWQAv1q+V+AgVAjMGRIV15E0B1ObUd/FwJQJbkfE7TVxZAk6uU6HKvEUBS+kBeAD4QQFi49UY4pxBA9M83LcMgFkDGVNyzX58RQAShUkBMnBVACdRODihLFkDC+1J3FfoVQOpEba+gkBFADHwbRTSuFUD38qDt5fgWQC/Kn5/7rxFA3RZowF0hCUATBZRA53gRQErcsG3lFhZAGeIiOgSdFECoTQjWfnQRQFWOq+Rt5xJAjEfM6fk5DEAvvPtuGH8VQN3RMaGO7BVA1US4yt/AD0AgU6SQfmEVQD7IoPoYJhZAGeGpkaUqF0A2+UkG9LYPQFjhq2X2dg9A1PeuFdGlD0AB2UFMSbYVQLn6NTqP4xFA+AuT3mKeFkCuqmUokW4QQP3vF5An1hVAAonhzK9ACkD8Vd3c7U4TQA6YwVggwxJAsp2XEDcCFkBciI1wahgRQM+rt6YkkRBAHhYyHyeREUB2Vlo3TKwVQMMKKIiywRVA4sLUQjmcBkCiOxSeQREUQLrO93G5VgtAhPsEafJmE0CsIyNoh6YWQL2krAns/BZA2og92TafEkAEESyapbQUQMtwmET5axVApUZPLZyYF0AMWA+MRqYXQD1HvEkjYRZAJfCiySeoD0C0f93WM3sKQM99QImAJRdAx0kDtVSZF0As3j5FGuoVQNb6/ngZrRdAWz/lQnwNB0CNALLkxPISQJDyRnF1phZAn/nJQVXhFEBmmFDHhbYUQITCdl0VUhJABpV3+6FsEUDo1HQn4WcWQLP6/Ay02BNAk1eVFWKlFkCJpxZuSGkUQOItEv3uoxZAEhIZhU8FC0CUmQkrZ80WQI5gQI9H9BFA2hPQ6MVAEkChQaHVS7QTQP2mKjMtWxZA9nbZ54eLBUCNinGgd3cVQFlaN/l4sxVApv1BqkmTEUASBSkbkpcWQGK4C0YVtRVAqqkR3ScXD0DiYkiB1sARQFJzVGDAdBVAAGmD1XaZCkDI4HdsVLEWQI5izUvGIBFA6+83lqGEFkBhaNSQsG0VQEtnEH50eRFA3vfwxdlXB0AAyH3i+ccSQCDTemFuQhRAi59Fn8R2EUAfJGeYQPEHQDZ78Q55MgpANR7rZ9aOFkB0nMEkBqERQOm/4Ho1HhZAFMHSENj6EkAdYi2W3GwWQH4juiGZBxBAyfRPkIvJDkBcHBkfK4cSQB/dAwb30RFAENTVC1iwEEAqog5mOKYQQNoivnpCYBVA2A30Bg3FF0CdF1nwpMEXQLHpvPXu8BFA0+W1W3VbFkBY8vOveSgWQOpRazCsfBRAc0n9vpwlEkBl8aPInS8WQFJhTsxnTRdA8LIKQ77FEUD662+X8TIQQJDWxNfQwxVANZhRDI7EEUAF4BxQ+oYRQD8oWzS/mw5AJYT9D+/rFUAjGLODXn8VQDseUKyXgRJA+ikJnhT1EUApcp3sIB4XQAtoOMLGzRRA101qQZDuFUBxFLt1BoYWQKiANQ/c7xJARDdkk4PMEUAICRPZkGwXQBj6KW350xRAOWOKFqiDF0DAp7kij8sQQOwkP22tSxFAstsd9NQLEUCuBoZcBY8WQGff6J0LKBBAgTAc/d/tEkBbzef1NjoWQHBrWHpoYxBACOE7Gg/LEUC6JJMnPaMSQEeMfwXZQRZAOmPr9BVvDUDJI/DIWlQRQHq2mrBITRZARxXkgWKiF0CuMFI6uLwXQFRRfdBB2hFAGgdBAWWjFECY7kHhppwQQAZ0DGr+lxBASiIjAeecEEB+XaetrhwNQPP/b1zkPBNAGKdSVcYhEkDTnt3b6pUOQD1ZBysInhZAzqod7t1cFEAc5P5CdZgRQOIFmXJjRBFAPrmWowdsF0B+78MHkv4HQDK7ie/W5hZAANWniGlMFUBLsHP1fp8VQOLCGzCbNxFA5NeSGoyWFEDL1MEoaG0WQCDzM9V1Sg1AOkH2eLLvEkCHUhioU+sPQLs90Y8D5RFAO7rDHN5OEECLY+Gp0X8QQLnCO1pRlxdADgrTeqOyE0CKEgMm+BYRQDUxxyQJxg9A0kSKGfBzEEAOQZ51IdMVQLRlk7qOdxFA/RZdqxlJFkByurXmkFAMQPUzMklXMhdAEBNIjK5eEkBB+y4iE2kQQNy25Z2iKhZAnH/DImJEFUC7a8KTwBsFQBIhD91GURFAzaQAZ9MvEECcuTg9xoEQQBGmycsyJBZArcOezCDbFUDYr15kYqATQLRsKcdLxhVAL7AqGLGXCECUBlhrdp0VQLOkjixNgxRA42Poa61xEEB3GkSeEIcRQOcVVM28YRVAtBKc8z9eEkCMFgdyzeAWQGZt/NsC6wlAndoKyTv5F0CI/SDisLAWQJSXncZJLA9AeRdUIos0FkA+4P6VziAWQB2PS6xlMAlA7gRDpducD0C0hQS2liYWQClDxYNqaQ1Afu/wbBhyE0AdOSWsCzIVQDJrq89ywhFAn92S2z5EFUBrTUdn7tkRQPrrVwNb/RZARH6qkp2dFUDLBwGTbp0QQJxyeaYkoQ1ADujSzXY9F0D+Jx1/ieEVQAUcX+IplhVA8tNIk8y3EUAoooISonYWQMT3sjYFNBBAu52b3uu4FEBymaBkQxsSQGpD5S3ffhZAemVnHgN8EkDAecDLLMIRQALaU1PWYQ9A0PntKi4kF0AKAvEKlYcVQLN/pR2gSBFAwnpML6PTFEBGG6vd264RQEDt99tDuw1AhBf4TakjFUDUnT4Ux/QSQKib4Ocv2BdAXo3SOgs6FkBPU89ucd8RQN3Ze/HIUxdA8pip/dZCF0BAvLKEprsSQNH+6c6XDBdAYK3y+l04DED1HFI5Hp0XQGp2werM8hdAuUPi28RbFkCspQ5nrPQWQPNtTHQ6iRVANZqO/Wd0F0DCfSdJNgIXQOHGgKy0GBFAKkxSyHAZF0CK1vviDlEVQMETHQk9IBNAQFGjbjQyD0DkT27XIlITQIsZkN+FRxZAVGIXXbGtFkBR3PwG2MwQQAeb0RVkIhFA9pciajmyF0BdYSjFeZcXQE4tXQVPSBZAiQBY+eC3FEBYhS9ErmIPQI+9EjQZAxRAR6iHrpkVFUDq/VQE5MYOQPYfV3ZYzBJAInCD7xgaFkAoMvqxdi0VQDcKT6/pohVANa9z0h01F0DJE7IoRrAPQDVOOyoXOBdA6lhgHPJkCEA7EmYSR8cMQB0F1ZluKhZAsaCopbQPFUBsO1c/Gg4WQMTljNdU8RVAQmLWbEOYCEA62Fgkd3MTQGzaFuWQOBJAJiBHNt/vB0D6eHwvSakRQC17kSaDVxNAEQHAp9TJEEDW5c7keVEUQKVX6lrNDBFAKotH48tzFkCt8UdTE9cVQFbzkzTbbxJAwrXhIMb0EEBGtqdQsmoVQBFfMpsI5xVAMxgPCDHcFUDgelm1j6kIQM42aQ0e9hVA9rQIPcMaE0BEDJNc5NUXQEhBggMKew9A0aiVTVDaE0AQxneNH3APQKJHjdFR7w9A5t1TwZN0CUCRnWI0YvUVQBVf7joNtxJA6P/B0qTDEkA4HykUPowQQPtJ4oJRaRBALJhRIy4MF0B7CRAaoIsVQAAx6YZuXhVASLL7BFN3EEArcA4OrcgKQCZwFGZKLwhABHHgdY2PEECZlsdd2t8QQHNNpfxPLxZAEBiAB/4eEkBD9nYLPeoWQK75XSfkLhRA5+5VPBuHBkDOG5IHJqcPQH5qWV8mWxNAOTSbUi7GEkAUw4tVn9oXQJAHhkLAjBJAljekTghHD0DPASt2it8XQM2aS5u4PgdAJcpq5axlEUCVl121uZgVQONDv2EDdxFAoFY84cBaD0A0UfL+u8AVQFzEVW5/DRFAWKXtjxhOE0BOe7WGJz4WQIvNa3XJMxFAL5dAwhaeF0DCcycs78kVQK5/WXGY8BVAk3mALdA1FkCm1nSQuS4TQP8sZddgABVA2pBxXbGvFUBuUejL/boVQEST1RyArRdABk5BJyOaEEAUgESvcY4NQDRKWpGpiBZAfFKlb8K3FEAQenxnh+kRQMfvyMHQZxRADk4r0h8fFUAVHNBZie8RQHjeRm22rBBAMHeK+SWKDkCSZQdghaUVQKhzLp/A8xVAK/42CUn1FEBWUEhDfK4XQL5lvc1rYBdAiLzcdUCMFkAZeMbr6FcSQHy/xhGR0RJA7HOQwovzFkCygNAXIqsJQF5p+GudCRBAaL1DbWbtEEDgFBebZ18WQGgFMn1EvQtAAZwophZoDED416344pMWQMf8KbesqRRA4dYqUT61FED76a4nDE8WQImK4oRGJxdAYE1J48tQEUAkuMnoCGkWQMET9lFSexRAXRQAJo8FFkBfoOYn2eMGQCJ1RXnjRRFA7H6i8Dm/E0B4LlaJWaYRQPKj67KuBRFA4k7fq9amFEAm0wgqokoWQHWtskb3UBdAmYa8IxwiEECnlbHoXQAVQD5tcvwrFBZADQ1MNRl2EECeWUveREgXQDamFGj14BBA3E1XvcTyFUCeAWurZaoTQI3fExzz/xZA7EvtXqOOFkAWfjNuhjEQQJTdNgOXFRFANORyvYBKFkBm8IuSbs0MQE6PzC5XMBJA0DUcIwEvEEDSSoATOA4UQIbNROkCRRBAlfsOkuacEkCMFGD31vEUQPT454Rj7hdAocPmBu7UF0BmLrqfCp4GQFB/wByd+xBAmjMxslrRFUBwc647dMQWQOKW6B4nKRJA0MfJRzOdEUAZg/MuH9YXQE4apYGhgxBAl6eEv14sF0CtuldVDRYVQPZTjifecBRAZesCwSt9D0CdBccMwOwLQFR897YuvxdAykgpUbwHCUCKmVl2UDcRQHPnrE7asAlAiEuT+dw6EEA0IOEWRQoSQEvCzbvD0xVAgu6WxaJ5EUA7rCihWO0VQIIAPTWiShBANwCu2ULYEkAE5AjuzpEUQCAFnzEU+AtA/t6araQNEkC+g5jK864SQEL3146bChFAoV1UHu4WF0DvdJrc5/wQQLdPXbBgMRZArtDGY5c5EUCn22X59q8HQNPw1LBwaxZAGBbHApYCFkAn6L3s2wkTQM3Kx8Q7nRFAomF1qjWRFECuhCMdzMsSQFmLn7Jw8RVAxCD73bLhEECwyrivJRwVQM8VAn7NoAtAeJ9QOHkCCkAd98/u99YLQDIUwkF45RFAfzmfLH/JFUDusEQXo3YRQErQR1dTBBdA1LENUnUcD0AaxEDEd4wQQAMCWS8CshNASsm9Hr6aCkAIwRhE1WIQQE//OGTRcBRA4TMLdFsLCUDZ9Fp01ggWQEO3sFnBqhdA9kdlB2EMFUCGGKzhEzIHQBJM9i6q2BVAMbHTn2GWEEBWm/faDwgWQCvbcH8ctxdAHEMh4BQoFUBq+RqPF5oVQIZCBwkONQpAWKQgoVyhFUD4V1CoJYwRQEgRh09iKRVA47ikpUqPFkBO13oG3fkQQJ2M0MpfGxBAREeeVUsKEEAma4l1vM0XQMcVcVA4CBBAMBF4CfilEUA0nZVIV/AVQBFb8f2gdRdAatUh3u2xF0DFoqvstLcVQAwiHBDzCxFAVIceDijhFEDOZ3kmDswQQLCmXTVjPRdA5eKLCubnEUBHFMDI9UsXQPPhkbRR1xZAuJZQ6quvFECIXaRJXqMSQKcI7j9tYxRAkm1OJCHJBUAitOqX+MUPQIHy/k0p/RZAzZUK3dgPEUBxNwX6tVsSQKBCDqsZagZADQXHwhemF0Ajt4EAbNwKQAx3vN/zABZA2LcGxuHeEEBDP5/xpTcWQCcrWmLBAhdABHh6IamTFECUgjf57K0RQKhjxRZj3RRAJZFMmz4hFkAfK5O0F6ETQA7yK3yHThdAaqSh0mA1FkBlX+O4CvgXQGMAixZtzhFAE8cfQ5F5FUDRW4zWUDERQCqYMv8uVxBA6nr8nvZKE0BO4c+5AeYRQGKvt6sqwxRAgEmHWYbwE0AiYL+T3/YVQKh+g150OxNAYfW4Lw4jE0AQWT4ns6cUQBhMdxjMqhFA5EjlAkW+EUC2eZ09DiELQJrl7PQ6fhBA1wZqj7afFUDgiQZ/GgkWQPMaoM12tRRAIKUqnDL2FkCZyLqLtesQQCk/xFkh1RJABVIrWfV1F0DDh2MZodcUQBgN4TfxoBVAXgQNiqfIEkCIa1KA8w4SQCGRflUx2wlA6sgtGUVgEEAQing1fXQXQA/7SOY0tRRAGTp9bRTYE0AeTMMA9LYSQOTjDFQX0RFAyNpasqBKFkC+XW+HyTsSQEKOJ4w0cxZAsfVuSBgKEUCmKtQtgBIVQLy3M4hqPRBA6T52NBW/DEBzlKvZinwTQNg5cDUakhFAkuRt9iHDE0D9ukD1KvQUQGyNsB/r+BFAzVPdPYDFFUA88QxVs+IWQFaT0naLuw9AbUQ26akCFkCloxHARH0XQHHLsemGphNAwKr6HrtAEkD2BAnd/BYSQKCeqmHlHhdAzibGip7gEkDyBdb33CwSQAdxxdba4RZA8co1gQewFUAifKHug0MSQH9OFhyX5w9AOdVdMmMBF0CFwDybFpEPQALSfOjychNA6b1b4MMIEEB8Ik0pnLcRQPC63AVBZxZAiJg9V7N+EkAdqcj/6uQWQOkVCrjypBRAgxfkcNXlFkBP3OnQbzIWQMVj+M6LRxVAKaK2/DZPE0A4o8Kfse8RQHkflLDrAxFAaNOOigHdCkAqgpuH8h8WQDTsZ9VnHhZA/WKcZydkEEADfPagQ/wSQECAMGN52QlA7Z5BQRSaEUCJ2jRP7E4WQAZ73FIzPxFAV/Xpd4Z2FUDukNkYR14WQJkEj9SQKwxAXyL9y4mkFEC8YfnSQIsIQDejVdd7fRVAv9GV9O8CFkBSy8unzOQXQAnXv0QAXRdAQpCkp3ZSFkDNU3CzsgoQQCiJjjSYZg1AaZ58oE6PDkCMrYqWlyMQQMzf/N1jKg5An2gPW1w5EUA=",
          "dtype": "f8"
         }
        }
       ],
       "layout": {
        "annotations": [
         {
          "font": {
           "size": 16
          },
          "showarrow": false,
          "text": "qNParEGO",
          "x": 0.225,
          "xanchor": "center",
          "xref": "paper",
          "y": 1,
          "yanchor": "bottom",
          "yref": "paper"
         },
         {
          "font": {
           "size": 16
          },
          "showarrow": false,
          "text": "qEHVI",
          "x": 0.775,
          "xanchor": "center",
          "xref": "paper",
          "y": 1,
          "yanchor": "bottom",
          "yref": "paper"
         }
        ],
        "height": 600,
        "scene": {
         "camera": {
          "eye": {
           "x": 1.5,
           "y": 1.5,
           "z": 0.6
          }
         },
         "domain": {
          "x": [
           0,
           0.45
          ],
          "y": [
           0,
           1
          ]
         },
         "xaxis": {
          "title": {
           "text": "Objective 1"
          }
         },
         "yaxis": {
          "title": {
           "text": "Objective 2"
          }
         },
         "zaxis": {
          "title": {
           "text": "Objective 3"
          }
         }
        },
        "scene2": {
         "camera": {
          "eye": {
           "x": 1.5,
           "y": 1.5,
           "z": 0.6
          }
         },
         "domain": {
          "x": [
           0.55,
           1
          ],
          "y": [
           0,
           1
          ]
         },
         "xaxis": {
          "title": {
           "text": "Objective 1"
          }
         },
         "yaxis": {
          "title": {
           "text": "Objective 2"
          }
         },
         "zaxis": {
          "title": {
           "text": "Objective 3"
          }
         }
        },
        "showlegend": false,
        "template": {
         "data": {
          "bar": [
           {
            "error_x": {
             "color": "#2a3f5f"
            },
            "error_y": {
             "color": "#2a3f5f"
            },
            "marker": {
             "line": {
              "color": "#E5ECF6",
              "width": 0.5
             },
             "pattern": {
              "fillmode": "overlay",
              "size": 10,
              "solidity": 0.2
             }
            },
            "type": "bar"
           }
          ],
          "barpolar": [
           {
            "marker": {
             "line": {
              "color": "#E5ECF6",
              "width": 0.5
             },
             "pattern": {
              "fillmode": "overlay",
              "size": 10,
              "solidity": 0.2
             }
            },
            "type": "barpolar"
           }
          ],
          "carpet": [
           {
            "aaxis": {
             "endlinecolor": "#2a3f5f",
             "gridcolor": "white",
             "linecolor": "white",
             "minorgridcolor": "white",
             "startlinecolor": "#2a3f5f"
            },
            "baxis": {
             "endlinecolor": "#2a3f5f",
             "gridcolor": "white",
             "linecolor": "white",
             "minorgridcolor": "white",
             "startlinecolor": "#2a3f5f"
            },
            "type": "carpet"
           }
          ],
          "choropleth": [
           {
            "colorbar": {
             "outlinewidth": 0,
             "ticks": ""
            },
            "type": "choropleth"
           }
          ],
          "contour": [
           {
            "colorbar": {
             "outlinewidth": 0,
             "ticks": ""
            },
            "colorscale": [
             [
              0,
              "#0d0887"
             ],
             [
              0.1111111111111111,
              "#46039f"
             ],
             [
              0.2222222222222222,
              "#7201a8"
             ],
             [
              0.3333333333333333,
              "#9c179e"
             ],
             [
              0.4444444444444444,
              "#bd3786"
             ],
             [
              0.5555555555555556,
              "#d8576b"
             ],
             [
              0.6666666666666666,
              "#ed7953"
             ],
             [
              0.7777777777777778,
              "#fb9f3a"
             ],
             [
              0.8888888888888888,
              "#fdca26"
             ],
             [
              1,
              "#f0f921"
             ]
            ],
            "type": "contour"
           }
          ],
          "contourcarpet": [
           {
            "colorbar": {
             "outlinewidth": 0,
             "ticks": ""
            },
            "type": "contourcarpet"
           }
          ],
          "heatmap": [
           {
            "colorbar": {
             "outlinewidth": 0,
             "ticks": ""
            },
            "colorscale": [
             [
              0,
              "#0d0887"
             ],
             [
              0.1111111111111111,
              "#46039f"
             ],
             [
              0.2222222222222222,
              "#7201a8"
             ],
             [
              0.3333333333333333,
              "#9c179e"
             ],
             [
              0.4444444444444444,
              "#bd3786"
             ],
             [
              0.5555555555555556,
              "#d8576b"
             ],
             [
              0.6666666666666666,
              "#ed7953"
             ],
             [
              0.7777777777777778,
              "#fb9f3a"
             ],
             [
              0.8888888888888888,
              "#fdca26"
             ],
             [
              1,
              "#f0f921"
             ]
            ],
            "type": "heatmap"
           }
          ],
          "histogram": [
           {
            "marker": {
             "pattern": {
              "fillmode": "overlay",
              "size": 10,
              "solidity": 0.2
             }
            },
            "type": "histogram"
           }
          ],
          "histogram2d": [
           {
            "colorbar": {
             "outlinewidth": 0,
             "ticks": ""
            },
            "colorscale": [
             [
              0,
              "#0d0887"
             ],
             [
              0.1111111111111111,
              "#46039f"
             ],
             [
              0.2222222222222222,
              "#7201a8"
             ],
             [
              0.3333333333333333,
              "#9c179e"
             ],
             [
              0.4444444444444444,
              "#bd3786"
             ],
             [
              0.5555555555555556,
              "#d8576b"
             ],
             [
              0.6666666666666666,
              "#ed7953"
             ],
             [
              0.7777777777777778,
              "#fb9f3a"
             ],
             [
              0.8888888888888888,
              "#fdca26"
             ],
             [
              1,
              "#f0f921"
             ]
            ],
            "type": "histogram2d"
           }
          ],
          "histogram2dcontour": [
           {
            "colorbar": {
             "outlinewidth": 0,
             "ticks": ""
            },
            "colorscale": [
             [
              0,
              "#0d0887"
             ],
             [
              0.1111111111111111,
              "#46039f"
             ],
             [
              0.2222222222222222,
              "#7201a8"
             ],
             [
              0.3333333333333333,
              "#9c179e"
             ],
             [
              0.4444444444444444,
              "#bd3786"
             ],
             [
              0.5555555555555556,
              "#d8576b"
             ],
             [
              0.6666666666666666,
              "#ed7953"
             ],
             [
              0.7777777777777778,
              "#fb9f3a"
             ],
             [
              0.8888888888888888,
              "#fdca26"
             ],
             [
              1,
              "#f0f921"
             ]
            ],
            "type": "histogram2dcontour"
           }
          ],
          "mesh3d": [
           {
            "colorbar": {
             "outlinewidth": 0,
             "ticks": ""
            },
            "type": "mesh3d"
           }
          ],
          "parcoords": [
           {
            "line": {
             "colorbar": {
              "outlinewidth": 0,
              "ticks": ""
             }
            },
            "type": "parcoords"
           }
          ],
          "pie": [
           {
            "automargin": true,
            "type": "pie"
           }
          ],
          "scatter": [
           {
            "fillpattern": {
             "fillmode": "overlay",
             "size": 10,
             "solidity": 0.2
            },
            "type": "scatter"
           }
          ],
          "scatter3d": [
           {
            "line": {
             "colorbar": {
              "outlinewidth": 0,
              "ticks": ""
             }
            },
            "marker": {
             "colorbar": {
              "outlinewidth": 0,
              "ticks": ""
             }
            },
            "type": "scatter3d"
           }
          ],
          "scattercarpet": [
           {
            "marker": {
             "colorbar": {
              "outlinewidth": 0,
              "ticks": ""
             }
            },
            "type": "scattercarpet"
           }
          ],
          "scattergeo": [
           {
            "marker": {
             "colorbar": {
              "outlinewidth": 0,
              "ticks": ""
             }
            },
            "type": "scattergeo"
           }
          ],
          "scattergl": [
           {
            "marker": {
             "colorbar": {
              "outlinewidth": 0,
              "ticks": ""
             }
            },
            "type": "scattergl"
           }
          ],
          "scattermap": [
           {
            "marker": {
             "colorbar": {
              "outlinewidth": 0,
              "ticks": ""
             }
            },
            "type": "scattermap"
           }
          ],
          "scattermapbox": [
           {
            "marker": {
             "colorbar": {
              "outlinewidth": 0,
              "ticks": ""
             }
            },
            "type": "scattermapbox"
           }
          ],
          "scatterpolar": [
           {
            "marker": {
             "colorbar": {
              "outlinewidth": 0,
              "ticks": ""
             }
            },
            "type": "scatterpolar"
           }
          ],
          "scatterpolargl": [
           {
            "marker": {
             "colorbar": {
              "outlinewidth": 0,
              "ticks": ""
             }
            },
            "type": "scatterpolargl"
           }
          ],
          "scatterternary": [
           {
            "marker": {
             "colorbar": {
              "outlinewidth": 0,
              "ticks": ""
             }
            },
            "type": "scatterternary"
           }
          ],
          "surface": [
           {
            "colorbar": {
             "outlinewidth": 0,
             "ticks": ""
            },
            "colorscale": [
             [
              0,
              "#0d0887"
             ],
             [
              0.1111111111111111,
              "#46039f"
             ],
             [
              0.2222222222222222,
              "#7201a8"
             ],
             [
              0.3333333333333333,
              "#9c179e"
             ],
             [
              0.4444444444444444,
              "#bd3786"
             ],
             [
              0.5555555555555556,
              "#d8576b"
             ],
             [
              0.6666666666666666,
              "#ed7953"
             ],
             [
              0.7777777777777778,
              "#fb9f3a"
             ],
             [
              0.8888888888888888,
              "#fdca26"
             ],
             [
              1,
              "#f0f921"
             ]
            ],
            "type": "surface"
           }
          ],
          "table": [
           {
            "cells": {
             "fill": {
              "color": "#EBF0F8"
             },
             "line": {
              "color": "white"
             }
            },
            "header": {
             "fill": {
              "color": "#C8D4E3"
             },
             "line": {
              "color": "white"
             }
            },
            "type": "table"
           }
          ]
         },
         "layout": {
          "annotationdefaults": {
           "arrowcolor": "#2a3f5f",
           "arrowhead": 0,
           "arrowwidth": 1
          },
          "autotypenumbers": "strict",
          "coloraxis": {
           "colorbar": {
            "outlinewidth": 0,
            "ticks": ""
           }
          },
          "colorscale": {
           "diverging": [
            [
             0,
             "#8e0152"
            ],
            [
             0.1,
             "#c51b7d"
            ],
            [
             0.2,
             "#de77ae"
            ],
            [
             0.3,
             "#f1b6da"
            ],
            [
             0.4,
             "#fde0ef"
            ],
            [
             0.5,
             "#f7f7f7"
            ],
            [
             0.6,
             "#e6f5d0"
            ],
            [
             0.7,
             "#b8e186"
            ],
            [
             0.8,
             "#7fbc41"
            ],
            [
             0.9,
             "#4d9221"
            ],
            [
             1,
             "#276419"
            ]
           ],
           "sequential": [
            [
             0,
             "#0d0887"
            ],
            [
             0.1111111111111111,
             "#46039f"
            ],
            [
             0.2222222222222222,
             "#7201a8"
            ],
            [
             0.3333333333333333,
             "#9c179e"
            ],
            [
             0.4444444444444444,
             "#bd3786"
            ],
            [
             0.5555555555555556,
             "#d8576b"
            ],
            [
             0.6666666666666666,
             "#ed7953"
            ],
            [
             0.7777777777777778,
             "#fb9f3a"
            ],
            [
             0.8888888888888888,
             "#fdca26"
            ],
            [
             1,
             "#f0f921"
            ]
           ],
           "sequentialminus": [
            [
             0,
             "#0d0887"
            ],
            [
             0.1111111111111111,
             "#46039f"
            ],
            [
             0.2222222222222222,
             "#7201a8"
            ],
            [
             0.3333333333333333,
             "#9c179e"
            ],
            [
             0.4444444444444444,
             "#bd3786"
            ],
            [
             0.5555555555555556,
             "#d8576b"
            ],
            [
             0.6666666666666666,
             "#ed7953"
            ],
            [
             0.7777777777777778,
             "#fb9f3a"
            ],
            [
             0.8888888888888888,
             "#fdca26"
            ],
            [
             1,
             "#f0f921"
            ]
           ]
          },
          "colorway": [
           "#636efa",
           "#EF553B",
           "#00cc96",
           "#ab63fa",
           "#FFA15A",
           "#19d3f3",
           "#FF6692",
           "#B6E880",
           "#FF97FF",
           "#FECB52"
          ],
          "font": {
           "color": "#2a3f5f"
          },
          "geo": {
           "bgcolor": "white",
           "lakecolor": "white",
           "landcolor": "#E5ECF6",
           "showlakes": true,
           "showland": true,
           "subunitcolor": "white"
          },
          "hoverlabel": {
           "align": "left"
          },
          "hovermode": "closest",
          "mapbox": {
           "style": "light"
          },
          "paper_bgcolor": "white",
          "plot_bgcolor": "#E5ECF6",
          "polar": {
           "angularaxis": {
            "gridcolor": "white",
            "linecolor": "white",
            "ticks": ""
           },
           "bgcolor": "#E5ECF6",
           "radialaxis": {
            "gridcolor": "white",
            "linecolor": "white",
            "ticks": ""
           }
          },
          "scene": {
           "xaxis": {
            "backgroundcolor": "#E5ECF6",
            "gridcolor": "white",
            "gridwidth": 2,
            "linecolor": "white",
            "showbackground": true,
            "ticks": "",
            "zerolinecolor": "white"
           },
           "yaxis": {
            "backgroundcolor": "#E5ECF6",
            "gridcolor": "white",
            "gridwidth": 2,
            "linecolor": "white",
            "showbackground": true,
            "ticks": "",
            "zerolinecolor": "white"
           },
           "zaxis": {
            "backgroundcolor": "#E5ECF6",
            "gridcolor": "white",
            "gridwidth": 2,
            "linecolor": "white",
            "showbackground": true,
            "ticks": "",
            "zerolinecolor": "white"
           }
          },
          "shapedefaults": {
           "line": {
            "color": "#2a3f5f"
           }
          },
          "ternary": {
           "aaxis": {
            "gridcolor": "white",
            "linecolor": "white",
            "ticks": ""
           },
           "baxis": {
            "gridcolor": "white",
            "linecolor": "white",
            "ticks": ""
           },
           "bgcolor": "#E5ECF6",
           "caxis": {
            "gridcolor": "white",
            "linecolor": "white",
            "ticks": ""
           }
          },
          "title": {
           "x": 0.05
          },
          "xaxis": {
           "automargin": true,
           "gridcolor": "white",
           "linecolor": "white",
           "ticks": "",
           "title": {
            "standoff": 15
           },
           "zerolinecolor": "white",
           "zerolinewidth": 2
          },
          "yaxis": {
           "automargin": true,
           "gridcolor": "white",
           "linecolor": "white",
           "ticks": "",
           "title": {
            "standoff": 15
           },
           "zerolinecolor": "white",
           "zerolinewidth": 2
          }
         }
        },
        "title": {
         "text": "All 200 Points After Initial Training"
        },
        "width": 1200
       }
      },
      "image/png": "[encoded data removed]"
     },
     "metadata": {},
     "output_type": "display_data"
    }
   ],
   "source": [
    "# Plot ALL points after initial training\n",
    "fig = make_subplots(\n",
    "    rows=1, cols=2,\n",
    "    specs=[[{'type': 'scatter3d'}, {'type': 'scatter3d'}]],\n",
    "    subplot_titles=(\"qNParEGO\", \"qEHVI\")\n",
    ")\n",
    "\n",
    "batch_number = torch.cat([\n",
    "    torch.zeros(n_initial),\n",
    "    torch.arange(1, N_BATCH + 1).repeat(BATCH_SIZE, 1).t().reshape(-1),\n",
    "]).numpy()\n",
    "\n",
    "start_idx = n_initial\n",
    "end_idx = len(train_obj_true_qparego)\n",
    "\n",
    "alg_data = [\n",
    "    (-train_obj_true_qparego[start_idx:end_idx], \"qNParEGO\"),\n",
    "    (-train_obj_true_qehvi[start_idx:end_idx], \"qEHVI\"),\n",
    "]\n",
    "\n",
    "for col, (train_obj, name) in enumerate(alg_data, 1):\n",
    "    obj_np = train_obj.cpu().numpy()\n",
    "\n",
    "    scatter = go.Scatter3d(\n",
    "        x=obj_np[:, 0], y=obj_np[:, 1], z=obj_np[:, 2],\n",
    "        mode='markers',\n",
    "        marker=dict(\n",
    "            size=4,\n",
    "            color=batch_number[start_idx:end_idx],\n",
    "            colorscale='Viridis',\n",
    "            opacity=0.8,\n",
    "            colorbar=dict(title='Iteration') if col == 2 else None\n",
    "        ),\n",
    "        name=name,\n",
    "        hovertemplate=\"<b>Obj1</b>: %{x:.2f}<br><b>Obj2</b>: %{y:.2f}<br><b>Obj3</b>: %{z:.2f}<extra></extra>\"\n",
    "    )\n",
    "\n",
    "    fig.add_trace(scatter, row=1, col=col)\n",
    "    fig.add_trace(pf_surface, row=1, col=col)\n",
    "\n",
    "# Update layout\n",
    "fig.update_layout(\n",
    "    height=600,\n",
    "    width=1200,\n",
    "    scene1=dict(\n",
    "        xaxis_title='Objective 1',\n",
    "        yaxis_title='Objective 2',\n",
    "        zaxis_title='Objective 3',\n",
    "        camera=dict(eye=dict(x=1.5, y=1.5, z=0.6))\n",
    "    ),\n",
    "    scene2=dict(\n",
    "        xaxis_title='Objective 1',\n",
    "        yaxis_title='Objective 2',\n",
    "        zaxis_title='Objective 3',\n",
    "        camera=dict(eye=dict(x=1.5, y=1.5, z=0.6))\n",
    "    ),\n",
    "    showlegend=False,\n",
    "    title_text=f'All {end_idx - start_idx} Points After Initial Training'\n",
    ")\n",
    "\n",
    "fig.show()\n",
    "\n",
    "\n",
    "pio.write_html(fig, 'DTLZ7a candidates.html')"
   ]
  },
  {
   "cell_type": "code",
   "execution_count": 20,
   "metadata": {
    "colab": {
     "base_uri": "https://localhost:8080/"
    },
    "executionInfo": {
     "elapsed": 8,
     "status": "ok",
     "timestamp": 1747762263373,
     "user": {
      "displayName": "Deepak L",
      "userId": "17343563887203968144"
     },
     "user_tz": -330
    },
    "id": "9LzcVovZBdhv",
    "outputId": "fd413382-d458-49ab-eaeb-2671a7e51a16",
    "scrolled": true
   },
   "outputs": [
    {
     "name": "stdout",
     "output_type": "stream",
     "text": [
      "ParEGO data saved to 'DTLZ7a (8-3) qNParEGO_data.csv'\n",
      "EHVI data saved to 'DTLZ7a (8-3) qEHVI_data.csv'\n"
     ]
    }
   ],
   "source": [
    "import pandas as pd\n",
    "\n",
    "# Convert PyTorch tensors to numpy arrays\n",
    "train_x_qparego_np = train_x_qparego.cpu().numpy()\n",
    "train_obj_qparego_np = train_obj_qparego.cpu().numpy()\n",
    "train_x_qehvi_np = train_x_qehvi.cpu().numpy()\n",
    "train_obj_qehvi_np = train_obj_qehvi.cpu().numpy()\n",
    "\n",
    "# Concatenate the input dimensions and objectives horizontally\n",
    "qparego_data = np.hstack([train_x_qparego_np, train_obj_qparego_np])\n",
    "qehvi_data = np.hstack([train_x_qehvi_np, train_obj_qehvi_np])\n",
    "\n",
    "# Create column headers for better readability\n",
    "input_dim = train_x_qparego.shape[1]\n",
    "obj_dim = train_obj_qparego.shape[1]\n",
    "column_names = [f\"dim{i+1}\" for i in range(input_dim)] + [f\"obj{i+1}\" for i in range(obj_dim)]\n",
    "\n",
    "# Create DataFrames with the combined data and column names\n",
    "qparego_df = pd.DataFrame(qparego_data, columns=column_names)\n",
    "qehvi_df = pd.DataFrame(qehvi_data, columns=column_names)\n",
    "\n",
    "# Save to CSV files\n",
    "qparego_df.to_csv('DTLZ7a (8-3) qNParEGO_data.csv', index=False, mode='w')\n",
    "qehvi_df.to_csv('DTLZ7a (8-3) qEHVI_data.csv', index=False, mode='w')\n",
    "\n",
    "print(\"ParEGO data saved to 'DTLZ7a (8-3) qNParEGO_data.csv'\")\n",
    "print(\"EHVI data saved to 'DTLZ7a (8-3) qEHVI_data.csv'\")\n"
   ]
  }
 ],
 "metadata": {
  "accelerator": "GPU",
  "colab": {
   "gpuType": "T4",
   "provenance": []
  },
  "kernelspec": {
   "display_name": "Python 3 (ipykernel)",
   "language": "python",
   "name": "python3"
  },
  "language_info": {
   "codemirror_mode": {
    "name": "ipython",
    "version": 3
   },
   "file_extension": ".py",
   "mimetype": "text/x-python",
   "name": "python",
   "nbconvert_exporter": "python",
   "pygments_lexer": "ipython3",
   "version": "3.12.9"
  }
 },
 "nbformat": 4,
 "nbformat_minor": 4
}
