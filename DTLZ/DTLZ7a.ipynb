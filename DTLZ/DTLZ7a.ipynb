{
 "cells": [
  {
   "cell_type": "code",
   "execution_count": 1,
   "metadata": {
    "colab": {
     "base_uri": "https://localhost:8080/"
    },
    "executionInfo": {
     "elapsed": 23155,
     "status": "ok",
     "timestamp": 1747753879174,
     "user": {
      "displayName": "Deepak L",
      "userId": "17343563887203968144"
     },
     "user_tz": -330
    },
    "id": "6ks8T9wDIUS_",
    "outputId": "da1aa157-5ac2-443c-cf9b-11fda5dbacde"
   },
   "outputs": [],
   "source": [
    "# from google.colab import drive\n",
    "import os\n",
    "import pandas as pd\n",
    "import numpy as np # Import numpy\n",
    "\n",
    "# drive.mount('/gdrive')\n",
    "\n",
    "# # Define the path to your \"flick\" folder\n",
    "# folder_path = '/gdrive/MyDrive/code' # Replace 'MyDrive' with your actual Drive folder name if different\n",
    "\n",
    "# # Create the folder if it doesn't exist\n",
    "# if not os.path.exists(folder_path):\n",
    "#     os.makedirs(folder_path)\n",
    "\n",
    "# # Change the current working directory to the \"flick\" folder\n",
    "# os.chdir(folder_path)\n",
    "\n",
    "# print(f\"Current working directory changed to: {os.getcwd()}\")"
   ]
  },
  {
   "cell_type": "code",
   "execution_count": 2,
   "metadata": {
    "id": "LUwIjxBJNL0e"
   },
   "outputs": [],
   "source": [
    "import os, torch, gc\n",
    "os.environ[\"PYTORCH_CUDA_ALLOC_CONF\"] = \"expandable_segments:True\"\n",
    "torch.set_default_dtype(torch.float32)"
   ]
  },
  {
   "cell_type": "markdown",
   "metadata": {
    "id": "JiijYn5qBdhm",
    "originalKey": "61330204-a407-449f-af77-fcd868546651",
    "showInput": false
   },
   "source": [
    "## Noisy, Parallel, Multi-Objective BO in BoTorch with qEHVI, qNEHVI, and qNParEGO\n",
    "\n",
    "In this tutorial, we illustrate how to implement a simple multi-objective (MO) Bayesian Optimization (BO) closed loop in BoTorch.\n",
    "\n",
    "We use the parallel ParEGO ($q$ParEGO), parallel Expected Hypervolume Improvement ($q$EHVI), and parallel Noisy Expected Hypervolume Improvement ($q$NEHVI) acquisition functions to optimize a synthetic ZDT2 problem test function with additive Gaussian observation noise over a 30-parameter search space [0,1]^30. See `botorch/test_functions/multi_objective.py` for details on ZDT2.\n",
    "\n",
    "Since botorch assumes a maximization of all objectives, we seek to find the Pareto frontier, the set of optimal trade-offs where improving one metric means deteriorating another.\n",
    "\n",
    "**For batch optimization (or in noisy settings), we strongly recommend using $q$NEHVI rather than $q$EHVI because it is far more efficient than $q$EHVI and mathematically equivalent in the noiseless setting.**"
   ]
  },
  {
   "cell_type": "markdown",
   "metadata": {
    "id": "8_WZ6HzLBdho",
    "originalKey": "f01416cb-e83e-4263-b599-b2a3221d144d",
    "showInput": false
   },
   "source": [
    "### Set dtype and device\n",
    "Note: $q$EHVI and $q$NEHVI aggressively exploit parallel hardware and are both much faster when run on a GPU. See [1, 2] for details."
   ]
  },
  {
   "cell_type": "code",
   "execution_count": 3,
   "metadata": {
    "colab": {
     "base_uri": "https://localhost:8080/"
    },
    "executionInfo": {
     "elapsed": 94660,
     "status": "ok",
     "timestamp": 1747753973838,
     "user": {
      "displayName": "Deepak L",
      "userId": "17343563887203968144"
     },
     "user_tz": -330
    },
    "id": "lSxpp8YmBdho",
    "outputId": "c4a9e17c-f9d5-4539-866a-8c2ab2bf1c39"
   },
   "outputs": [],
   "source": [
    "# # Install dependencies if we are running in colab\n",
    "# import sys\n",
    "# if 'google.colab' in sys.modules:\n",
    "#     %pip install botorch"
   ]
  },
  {
   "cell_type": "code",
   "execution_count": 4,
   "metadata": {
    "collapsed": false,
    "customOutput": null,
    "executionStartTime": 1668649461840,
    "executionStopTime": 1668649461848,
    "id": "iNZ_9z01Bdhp",
    "jupyter": {
     "outputs_hidden": false
    },
    "originalKey": "41c30177-379b-4e63-9996-41bc17d70769",
    "requestMsgId": "7e4820a5-df3b-45a6-9826-42541ee0f4f4"
   },
   "outputs": [],
   "source": [
    "import os\n",
    "import torch\n",
    "torch.manual_seed(80)\n",
    "\n",
    "\n",
    "tkwargs = {\n",
    "    \"dtype\": torch.double,\n",
    "    \"device\": torch.device(\"cuda\" if torch.cuda.is_available() else \"cpu\"),\n",
    "}\n",
    "SMOKE_TEST = os.environ.get(\"SMOKE_TEST\")"
   ]
  },
  {
   "cell_type": "markdown",
   "metadata": {
    "id": "B1v64d4oBdhq",
    "originalKey": "8d895a93-397c-4d2c-b6f5-96f589312538",
    "showInput": false
   },
   "source": [
    "### Problem setup\n"
   ]
  },
  {
   "cell_type": "code",
   "execution_count": 5,
   "metadata": {
    "id": "VxqCnTGMBdhq"
   },
   "outputs": [],
   "source": [
    "# from botorch.test_functions.multi_objective import DTLZ1\n",
    "\n",
    "\n",
    "# problem = DTLZ1(dim=6, num_objectives=3, negate=True).to(**tkwargs)"
   ]
  },
  {
   "cell_type": "code",
   "execution_count": 6,
   "metadata": {
    "id": "6JGD2OZnBgNx"
   },
   "outputs": [],
   "source": [
    "import math\n",
    "import torch\n",
    "from torch import Tensor\n",
    "from typing import Optional\n",
    "from scipy.special import gamma\n",
    "from botorch.test_functions.multi_objective import DTLZ\n",
    "from botorch.utils.sampling import sample_simplex, sample_hypersphere\n",
    "\n",
    "class DTLZ7a(DTLZ):\n",
    "    r\"\"\"DTLZ7a: Standard DTLZ7 form (disconnected front) with 3 objectives and 8 variables.\"\"\"\n",
    "    _ref_val = 15.0\n",
    "\n",
    "    def __init__(self, noise_std: Optional[float] = None, negate: bool = False) -> None:\n",
    "        super().__init__(dim=8, num_objectives=3, noise_std=noise_std, negate=negate)\n",
    "\n",
    "    def _evaluate_true(self, X: Tensor) -> Tensor:\n",
    "        f = X[..., : self.num_objectives - 1]\n",
    "        g_X = 1 + 9 / self.k * X[..., -self.k :].sum(dim=-1)\n",
    "        h_term = (f / (1 + g_X).unsqueeze(-1)) * (1 + torch.sin(3 * math.pi * f))\n",
    "        h = self.num_objectives - h_term.sum(dim=-1)\n",
    "        f_last = (1 + g_X) * h\n",
    "        return torch.cat([f, f_last.unsqueeze(-1)], dim=-1)\n",
    "\n",
    "    def evaluate_true(self, X: Tensor) -> Tensor:\n",
    "        return self._evaluate_true(X)\n",
    "\n",
    "    def gen_pareto_front(self, n: int) -> Tensor:\n",
    "        dtype = self.ref_point.dtype\n",
    "        device = self.ref_point.device\n",
    "        f = torch.rand(n, self.num_objectives - 1, dtype=dtype, device=device)\n",
    "        g_X = 1.0\n",
    "        h_term = (f / (1 + g_X)) * (1 + torch.sin(3 * math.pi * f))\n",
    "        h = self.num_objectives - h_term.sum(dim=-1)\n",
    "        f_last = (1 + g_X) * h\n",
    "        f_X = torch.cat([f, f_last.unsqueeze(-1)], dim=-1)\n",
    "        if self.negate:\n",
    "            f_X *= -1\n",
    "        return f_X\n",
    "\n",
    "    @property\n",
    "    def _max_hv(self) -> float:\n",
    "        return self._ref_val ** self.num_objectives\n"
   ]
  },
  {
   "cell_type": "code",
   "execution_count": 7,
   "metadata": {
    "colab": {
     "base_uri": "https://localhost:8080/"
    },
    "executionInfo": {
     "elapsed": 823,
     "status": "ok",
     "timestamp": 1747753984112,
     "user": {
      "displayName": "Deepak L",
      "userId": "17343563887203968144"
     },
     "user_tz": -330
    },
    "id": "-WaIKxgPBdhq",
    "outputId": "0b0346e8-28fa-42f7-f645-929a2c83dce2"
   },
   "outputs": [
    {
     "name": "stdout",
     "output_type": "stream",
     "text": [
      "tensor([-15., -15., -15.], dtype=torch.float64)\n",
      "3375.0\n",
      "tensor([[0., 0., 0., 0., 0., 0., 0., 0.],\n",
      "        [1., 1., 1., 1., 1., 1., 1., 1.]], dtype=torch.float64)\n"
     ]
    }
   ],
   "source": [
    "problem = DTLZ7a(negate=True).to(**tkwargs)\n",
    "\n",
    "print(problem.ref_point, end=\"\\n\")\n",
    "print(problem.max_hv, end=\"\\n\")\n",
    "print(problem.bounds, end=\"\\n\")"
   ]
  },
  {
   "cell_type": "markdown",
   "metadata": {
    "id": "I31BWTdlBdhr",
    "originalKey": "fc047039-c2a9-4ea8-920e-c057547cfb11",
    "showInput": false
   },
   "source": [
    "#### Model initialization\n",
    "\n",
    "We use a list of `SingleTaskGP`s to model the two objectives with known noise variances. If no noise variances were provided, `SingleTaskGP` would infer (homoskedastic) noise levels instead.\n",
    "\n",
    "The models are initialized with $2(d+1)=6$ points drawn randomly from $[0,1]^2$."
   ]
  },
  {
   "cell_type": "code",
   "execution_count": 8,
   "metadata": {
    "collapsed": false,
    "customOutput": null,
    "executionStartTime": 1668649462312,
    "executionStopTime": 1668649462318,
    "id": "hIkSW6KWBdhr",
    "jupyter": {
     "outputs_hidden": false
    },
    "originalKey": "47170c31-65e4-4f2d-949c-d91544e065fc",
    "requestMsgId": "8a44b7cb-cc5f-419e-849f-2b4d1dc3abe1"
   },
   "outputs": [],
   "source": [
    "from botorch.models.gp_regression import SingleTaskGP\n",
    "from botorch.models.model_list_gp_regression import ModelListGP\n",
    "from botorch.models.transforms.outcome import Standardize\n",
    "from gpytorch.mlls.sum_marginal_log_likelihood import SumMarginalLogLikelihood\n",
    "from botorch.utils.transforms import unnormalize, normalize\n",
    "from botorch.utils.sampling import draw_sobol_samples\n",
    "\n",
    "n_initial = 11 * problem.dim - 1\n",
    "\n",
    "def generate_initial_data(n=n_initial):\n",
    "    # generate training data\n",
    "    train_x = draw_sobol_samples(bounds=problem.bounds, n=n, q=1).squeeze(1)\n",
    "    train_obj_true = problem(train_x)\n",
    "    train_obj = train_obj_true\n",
    "    return train_x, train_obj, train_obj_true\n",
    "\n",
    "\n",
    "\n",
    "from botorch.models.gp_regression import SingleTaskGP\n",
    "from gpytorch.mlls.exact_marginal_log_likelihood import ExactMarginalLogLikelihood\n",
    "\n",
    "def initialize_model(train_x, train_obj):\n",
    "    train_x = normalize(train_x, problem.bounds)\n",
    "    train_y = train_obj  # Shape: [n, 2]\n",
    "\n",
    "    model = SingleTaskGP(\n",
    "        train_x,\n",
    "        train_y,\n",
    "        outcome_transform=Standardize(m=3),  # Standardize both objectives\n",
    "    )\n",
    "    mll = ExactMarginalLogLikelihood(model.likelihood, model)\n",
    "    return mll, model"
   ]
  },
  {
   "cell_type": "markdown",
   "metadata": {
    "id": "Y-OuG7D3Bdhs",
    "originalKey": "6bfaef9a-3f34-4d51-9700-fbddc79eccf1",
    "showInput": false
   },
   "source": [
    "#### Define a helper functions that performs the essential BO step for $q$EHVI and $q$NEHVI\n",
    "The helper function below initializes the $q$EHVI acquisition function, optimizes it, and returns the batch $\\{x_1, x_2, \\ldots x_q\\}$ along with the observed function values.\n",
    "\n",
    "For this example, we'll use a relatively small batch of optimization ($q=4$). For batch optimization ($q>1$), passing the keyword argument `sequential=True` to the function `optimize_acqf`specifies that candidates should be optimized in a sequential greedy fashion (see [1] for details why this is important). A simple initialization heuristic is used to select the 10 restart initial locations from a set of 512 random points. Multi-start optimization of the acquisition function is performed using LBFGS-B with exact gradients computed via auto-differentiation.\n",
    "\n",
    "**Reference Point**\n",
    "\n",
    "$q$EHVI requires specifying a reference point, which is the lower bound on the objectives used for computing hypervolume. In this tutorial, we assume the reference point is known. In practice the reference point can be set 1) using domain knowledge to be slightly worse than the lower bound of objective values, where the lower bound is the minimum acceptable value of interest for each objective, or 2) using a dynamic reference point selection strategy.\n",
    "\n",
    "**Partitioning the Non-dominated Space into disjoint rectangles**\n",
    "\n",
    "$q$EHVI requires partitioning the non-dominated space into disjoint rectangles (see [1] for details).\n",
    "\n",
    "*Note:* `FastNondominatedPartitioning` *will be very slow when 1) there are a lot of points on the pareto frontier and 2) there are >5 objectives.*"
   ]
  },
  {
   "cell_type": "code",
   "execution_count": 9,
   "metadata": {
    "collapsed": false,
    "customOutput": null,
    "executionStartTime": 1668649462539,
    "executionStopTime": 1668649462641,
    "id": "zSOEeo1bBdhs",
    "jupyter": {
     "outputs_hidden": false
    },
    "originalKey": "b7effe94-1327-405d-9148-c8e93470b846",
    "requestMsgId": "40a5edda-3bee-43c9-b84b-c669c288eb80"
   },
   "outputs": [],
   "source": [
    "from botorch.optim.optimize import optimize_acqf, optimize_acqf_list\n",
    "from botorch.acquisition.objective import GenericMCObjective\n",
    "from botorch.utils.multi_objective.scalarization import get_chebyshev_scalarization\n",
    "from botorch.utils.multi_objective.box_decompositions.non_dominated import (\n",
    "    NondominatedPartitioning,\n",
    ")\n",
    "from botorch.acquisition.multi_objective import (\n",
    "    qLogExpectedHypervolumeImprovement,\n",
    "    qLogNoisyExpectedHypervolumeImprovement,\n",
    ")\n",
    "from botorch.utils.sampling import sample_simplex\n",
    "\n",
    "\n",
    "BATCH_SIZE = 2\n",
    "NUM_RESTARTS = 10 if not SMOKE_TEST else 2\n",
    "RAW_SAMPLES = 128 if not SMOKE_TEST else 4\n",
    "\n",
    "standard_bounds = torch.zeros(2, problem.dim, **tkwargs)\n",
    "standard_bounds[1] = 1\n",
    "\n",
    "\n",
    "def optimize_qehvi_and_get_observation(model, train_x, train_obj, sampler):\n",
    "    \"\"\"Optimizes the qEHVI acquisition function, and returns a new candidate and observation.\"\"\"\n",
    "    # partition non-dominated space into disjoint rectangles\n",
    "    with torch.no_grad():\n",
    "        pred = model.posterior(normalize(train_x, problem.bounds)).mean\n",
    "    partitioning = NondominatedPartitioning(\n",
    "        ref_point=problem.ref_point,\n",
    "        Y=pred,\n",
    "    )\n",
    "    acq_func = qLogExpectedHypervolumeImprovement(\n",
    "        model=model,\n",
    "        ref_point=problem.ref_point,\n",
    "        partitioning=partitioning,\n",
    "        sampler=sampler,\n",
    "    )\n",
    "    # optimize\n",
    "    candidates, _ = optimize_acqf(\n",
    "        acq_function=acq_func,\n",
    "        bounds=standard_bounds,\n",
    "        q=BATCH_SIZE,\n",
    "        num_restarts=NUM_RESTARTS,\n",
    "        raw_samples=RAW_SAMPLES,  # used for intialization heuristic\n",
    "        options={\"batch_limit\": 5, \"maxiter\": 200},\n",
    "        sequential=True,\n",
    "    )\n",
    "    # observe new values\n",
    "    new_x = unnormalize(candidates.detach(), bounds=problem.bounds)\n",
    "    new_obj_true = problem(new_x)\n",
    "    new_obj = new_obj_true\n",
    "    return new_x, new_obj, new_obj_true"
   ]
  },
  {
   "cell_type": "markdown",
   "metadata": {
    "id": "MiFVOqxhBdht",
    "originalKey": "ad78607d-d910-441c-903b-b15dc77a432f",
    "showInput": false
   },
   "source": [
    "#### Define a helper function that performs the essential BO step for $q$NParEGO\n",
    "The helper function below similarly initializes $q$NParEGO, optimizes it, and returns the batch $\\{x_1, x_2, \\ldots x_q\\}$ along with the observed function values.\n",
    "\n",
    "$q$NParEGO uses random augmented chebyshev scalarization with the `qNoisyExpectedImprovement` acquisition function. In the parallel setting ($q>1$), each candidate is optimized in sequential greedy fashion using a different random scalarization (see [1] for details).\n",
    "\n",
    "To do this, we create a list of `qNoisyExpectedImprovement` acquisition functions, each with different random scalarization weights. The `optimize_acqf_list` method sequentially generates one candidate per acquisition function and conditions the next candidate (and acquisition function) on the previously selected pending candidates."
   ]
  },
  {
   "cell_type": "code",
   "execution_count": 10,
   "metadata": {
    "collapsed": false,
    "customOutput": null,
    "executionStartTime": 1668649463087,
    "executionStopTime": 1668649463185,
    "id": "rACxiO2FBdht",
    "jupyter": {
     "outputs_hidden": false
    },
    "originalKey": "806b115f-a15f-44df-b7f9-d2f098969e02",
    "requestMsgId": "514d162f-78e0-447a-a483-c923cba18b80"
   },
   "outputs": [],
   "source": [
    "from botorch.acquisition import qLogNoisyExpectedImprovement\n",
    "\n",
    "\n",
    "def optimize_qnparego_and_get_observation(model, train_x, train_obj, sampler):\n",
    "    \"\"\"Samples a set of random weights for each candidate in the batch, performs sequential greedy optimization\n",
    "    of the qNParEGO acquisition function, and returns a new candidate and observation.\"\"\"\n",
    "    train_x = normalize(train_x, problem.bounds)\n",
    "    with torch.no_grad():\n",
    "        pred = model.posterior(train_x).mean\n",
    "    acq_func_list = []\n",
    "    for _ in range(BATCH_SIZE):\n",
    "        weights = sample_simplex(problem.num_objectives, **tkwargs).squeeze()\n",
    "        objective = GenericMCObjective(\n",
    "            get_chebyshev_scalarization(weights=weights, Y=pred)\n",
    "        )\n",
    "        acq_func = qLogNoisyExpectedImprovement(  # pyre-ignore: [28]\n",
    "            model=model,\n",
    "            objective=objective,\n",
    "            X_baseline=train_x,\n",
    "            sampler=sampler,\n",
    "            prune_baseline=True,\n",
    "        )\n",
    "        acq_func_list.append(acq_func)\n",
    "    # optimize\n",
    "    candidates, _ = optimize_acqf_list(\n",
    "        acq_function_list=acq_func_list,\n",
    "        bounds=standard_bounds,\n",
    "        num_restarts=NUM_RESTARTS,\n",
    "        raw_samples=RAW_SAMPLES,  # used for intialization heuristic\n",
    "        options={\"batch_limit\": 5, \"maxiter\": 200},\n",
    "    )\n",
    "    # observe new values\n",
    "    new_x = unnormalize(candidates.detach(), bounds=problem.bounds)\n",
    "    new_obj_true = problem(new_x)\n",
    "    new_obj = new_obj_true #+ torch.randn_like(new_obj_true) * NOISE_SE\n",
    "    return new_x, new_obj, new_obj_true"
   ]
  },
  {
   "cell_type": "markdown",
   "metadata": {
    "id": "ZXq2l3l-Bdht",
    "originalKey": "f8ffd86a-f4bb-4984-9330-04ff4d62f189",
    "showInput": false
   },
   "source": [
    "### Perform Bayesian Optimization loop with $q$NEHVI, $q$EHVI, and $q$NParEGO\n",
    "The Bayesian optimization \"loop\" for a batch size of $q$ simply iterates the following steps:\n",
    "1. given a surrogate model, choose a batch of points $\\{x_1, x_2, \\ldots x_q\\}$\n",
    "2. observe $f(x)$ for each $x$ in the batch\n",
    "3. update the surrogate model.\n",
    "\n",
    "\n",
    "Just for illustration purposes, we run one trial with `N_BATCH=20` rounds of optimization. The acquisition function is approximated using `MC_SAMPLES=128` samples.\n",
    "\n",
    "*Note*: Running this may take a little while."
   ]
  },
  {
   "cell_type": "code",
   "execution_count": 11,
   "metadata": {
    "colab": {
     "base_uri": "https://localhost:8080/"
    },
    "collapsed": false,
    "customOutput": null,
    "executionInfo": {
     "elapsed": 7330981,
     "status": "ok",
     "timestamp": 1747761315119,
     "user": {
      "displayName": "Deepak L",
      "userId": "17343563887203968144"
     },
     "user_tz": -330
    },
    "executionStartTime": 1668649463513,
    "executionStopTime": 1668649856754,
    "id": "A2Ii-yH3Bdhu",
    "jupyter": {
     "outputs_hidden": false
    },
    "originalKey": "c29b731a-64e7-401d-a5b2-3879d8d39327",
    "outputId": "be28e992-5b8e-4ab4-a2da-4eae5c93d475",
    "requestMsgId": "43e1021f-9ecd-4d2c-a7ba-21e26051ce66"
   },
   "outputs": [
    {
     "name": "stdout",
     "output_type": "stream",
     "text": [
      "\n",
      "Batch  1: Hypervolume (qNParEGO, qEHVI) = (2025.00, 2417.00), time = 29.54.\n",
      "Batch  2: Hypervolume (qNParEGO, qEHVI) = (2030.82, 2417.00), time = 43.78.\n",
      "Batch  3: Hypervolume (qNParEGO, qEHVI) = (2061.19, 2441.43), time = 31.01.\n",
      "Batch  4: Hypervolume (qNParEGO, qEHVI) = (2061.29, 2455.39), time = 43.50.\n",
      "Batch  5: Hypervolume (qNParEGO, qEHVI) = (2061.30, 2455.39), time = 43.75.\n",
      "Batch  6: Hypervolume (qNParEGO, qEHVI) = (2061.32, 2455.39), time = 47.92.\n",
      "Batch  7: Hypervolume (qNParEGO, qEHVI) = (2116.59, 2455.39), time = 33.41.\n",
      "Batch  8: Hypervolume (qNParEGO, qEHVI) = (2116.59, 2455.39), time = 49.13.\n",
      "Batch  9: Hypervolume (qNParEGO, qEHVI) = (2116.59, 2455.39), time = 71.31.\n",
      "Batch 10: Hypervolume (qNParEGO, qEHVI) = (2116.85, 2455.39), time = 58.53.\n",
      "Batch 11: Hypervolume (qNParEGO, qEHVI) = (2116.85, 2455.39), time = 37.42.\n",
      "Batch 12: Hypervolume (qNParEGO, qEHVI) = (2116.85, 2455.39), time = 66.06.\n",
      "Batch 13: Hypervolume (qNParEGO, qEHVI) = (2116.85, 2455.39), time = 39.48.\n",
      "Batch 14: Hypervolume (qNParEGO, qEHVI) = (2116.85, 2455.39), time = 45.77.\n",
      "Batch 15: Hypervolume (qNParEGO, qEHVI) = (2116.85, 2455.39), time = 40.40.\n",
      "Batch 16: Hypervolume (qNParEGO, qEHVI) = (2116.85, 2455.39), time = 30.51.\n",
      "Batch 17: Hypervolume (qNParEGO, qEHVI) = (2116.85, 2455.39), time = 37.21.\n",
      "Batch 18: Hypervolume (qNParEGO, qEHVI) = (2116.85, 2455.39), time = 23.73.\n",
      "Batch 19: Hypervolume (qNParEGO, qEHVI) = (2130.31, 2455.39), time = 65.43.\n",
      "Batch 20: Hypervolume (qNParEGO, qEHVI) = (2168.38, 2455.39), time = 35.45.\n",
      "Batch 21: Hypervolume (qNParEGO, qEHVI) = (2168.38, 2455.39), time = 62.07.\n",
      "Batch 22: Hypervolume (qNParEGO, qEHVI) = (2168.38, 2455.39), time = 25.93.\n",
      "Batch 23: Hypervolume (qNParEGO, qEHVI) = (2168.38, 2455.39), time = 37.59.\n",
      "Batch 24: Hypervolume (qNParEGO, qEHVI) = (2168.40, 2455.39), time = 28.32.\n",
      "Batch 25: Hypervolume (qNParEGO, qEHVI) = (2168.40, 2455.39), time = 40.71.\n",
      "Batch 26: Hypervolume (qNParEGO, qEHVI) = (2168.41, 2455.39), time = 52.19.\n",
      "Batch 27: Hypervolume (qNParEGO, qEHVI) = (2168.41, 2455.39), time = 68.81.\n",
      "Batch 28: Hypervolume (qNParEGO, qEHVI) = (2168.41, 2455.39), time = 44.91.\n",
      "Batch 29: Hypervolume (qNParEGO, qEHVI) = (2168.41, 2455.39), time = 40.79.\n",
      "Batch 30: Hypervolume (qNParEGO, qEHVI) = (2168.41, 2455.39), time = 15.30.\n",
      "Batch 31: Hypervolume (qNParEGO, qEHVI) = (2168.41, 2455.39), time = 22.24.\n",
      "Batch 32: Hypervolume (qNParEGO, qEHVI) = (2168.41, 2455.39), time = 43.23.\n",
      "Batch 33: Hypervolume (qNParEGO, qEHVI) = (2168.41, 2455.39), time = 55.25.\n",
      "Batch 34: Hypervolume (qNParEGO, qEHVI) = (2168.41, 2455.39), time = 56.75.\n",
      "Batch 35: Hypervolume (qNParEGO, qEHVI) = (2168.41, 2455.39), time = 51.59.\n",
      "Batch 36: Hypervolume (qNParEGO, qEHVI) = (2168.41, 2455.39), time = 26.07.\n",
      "Batch 37: Hypervolume (qNParEGO, qEHVI) = (2168.46, 2455.39), time = 41.72.\n",
      "Batch 38: Hypervolume (qNParEGO, qEHVI) = (2168.47, 2455.47), time = 74.72.\n",
      "Batch 39: Hypervolume (qNParEGO, qEHVI) = (2168.47, 2455.47), time = 28.30.\n",
      "Batch 40: Hypervolume (qNParEGO, qEHVI) = (2168.47, 2455.47), time = 34.81.\n",
      "Batch 41: Hypervolume (qNParEGO, qEHVI) = (2168.47, 2455.47), time = 53.42.\n",
      "Batch 42: Hypervolume (qNParEGO, qEHVI) = (2168.47, 2455.47), time = 28.75.\n",
      "Batch 43: Hypervolume (qNParEGO, qEHVI) = (2168.48, 2455.47), time = 31.23.\n",
      "Batch 44: Hypervolume (qNParEGO, qEHVI) = (2168.48, 2455.47), time = 33.82.\n",
      "Batch 45: Hypervolume (qNParEGO, qEHVI) = (2168.48, 2455.47), time = 49.72.\n",
      "Batch 46: Hypervolume (qNParEGO, qEHVI) = (2168.51, 2455.47), time = 75.21.\n",
      "Batch 47: Hypervolume (qNParEGO, qEHVI) = (2168.51, 2455.47), time = 37.09.\n",
      "Batch 48: Hypervolume (qNParEGO, qEHVI) = (2168.51, 2455.47), time = 74.60.\n",
      "Batch 49: Hypervolume (qNParEGO, qEHVI) = (2168.51, 2455.47), time = 49.56.\n",
      "Batch 50: Hypervolume (qNParEGO, qEHVI) = (2168.51, 2455.47), time = 81.50.\n",
      "Batch 51: Hypervolume (qNParEGO, qEHVI) = (2168.51, 2455.47), time = 43.25.\n",
      "Batch 52: Hypervolume (qNParEGO, qEHVI) = (2168.51, 2455.47), time = 53.87.\n",
      "Batch 53: Hypervolume (qNParEGO, qEHVI) = (2168.57, 2455.47), time = 80.35.\n",
      "Batch 54: Hypervolume (qNParEGO, qEHVI) = (2168.57, 2455.47), time = 25.32.\n",
      "Batch 55: Hypervolume (qNParEGO, qEHVI) = (2168.57, 2455.47), time = 30.09.\n",
      "Batch 56: Hypervolume (qNParEGO, qEHVI) = (2168.64, 2455.47), time = 33.53.\n",
      "Batch 57: Hypervolume (qNParEGO, qEHVI) = (2168.64, 2525.05), time = 48.58.\n",
      "Batch 58: Hypervolume (qNParEGO, qEHVI) = (2168.64, 2525.05), time = 76.77.\n",
      "Batch 59: Hypervolume (qNParEGO, qEHVI) = (2168.64, 2525.05), time = 109.01.\n",
      "Batch 60: Hypervolume (qNParEGO, qEHVI) = (2168.64, 2525.05), time = 69.48.\n",
      "Batch 61: Hypervolume (qNParEGO, qEHVI) = (2168.64, 2525.05), time = 29.01.\n",
      "Batch 62: Hypervolume (qNParEGO, qEHVI) = (2168.64, 2525.05), time = 56.13.\n",
      "Batch 63: Hypervolume (qNParEGO, qEHVI) = (2168.64, 2525.05), time = 59.31.\n",
      "Batch 64: Hypervolume (qNParEGO, qEHVI) = (2168.64, 2525.05), time = 55.26.\n",
      "Batch 65: Hypervolume (qNParEGO, qEHVI) = (2168.64, 2525.05), time = 118.31.\n",
      "Batch 66: Hypervolume (qNParEGO, qEHVI) = (2168.64, 2525.05), time = 77.56.\n",
      "Batch 67: Hypervolume (qNParEGO, qEHVI) = (2168.64, 2525.05), time = 46.81.\n",
      "Batch 68: Hypervolume (qNParEGO, qEHVI) = (2168.64, 2525.05), time = 45.34.\n",
      "Batch 69: Hypervolume (qNParEGO, qEHVI) = (2168.64, 2525.05), time = 83.05.\n",
      "Batch 70: Hypervolume (qNParEGO, qEHVI) = (2168.64, 2525.05), time = 47.43.\n",
      "Batch 71: Hypervolume (qNParEGO, qEHVI) = (2168.64, 2525.05), time = 54.88.\n",
      "Batch 72: Hypervolume (qNParEGO, qEHVI) = (2168.64, 2525.05), time = 44.64.\n",
      "Batch 73: Hypervolume (qNParEGO, qEHVI) = (2168.64, 2525.05), time = 25.69.\n",
      "Batch 74: Hypervolume (qNParEGO, qEHVI) = (2168.64, 2525.05), time = 118.92.\n",
      "Batch 75: Hypervolume (qNParEGO, qEHVI) = (2168.64, 2525.05), time = 95.03.\n",
      "Batch 76: Hypervolume (qNParEGO, qEHVI) = (2168.64, 2525.05), time = 79.33.\n",
      "Batch 77: Hypervolume (qNParEGO, qEHVI) = (2168.64, 2533.76), time = 57.83.\n",
      "Batch 78: Hypervolume (qNParEGO, qEHVI) = (2168.64, 2533.76), time = 53.21.\n",
      "Batch 79: Hypervolume (qNParEGO, qEHVI) = (2168.64, 2533.76), time = 98.69.\n",
      "Batch 80: Hypervolume (qNParEGO, qEHVI) = (2168.64, 2744.81), time = 88.31.\n",
      "Batch 81: Hypervolume (qNParEGO, qEHVI) = (2168.64, 2747.19), time = 108.52.\n",
      "Batch 82: Hypervolume (qNParEGO, qEHVI) = (2168.64, 2747.32), time = 93.75.\n",
      "Batch 83: Hypervolume (qNParEGO, qEHVI) = (2168.64, 2747.36), time = 109.68.\n",
      "Batch 84: Hypervolume (qNParEGO, qEHVI) = (2168.64, 2747.49), time = 88.57.\n",
      "Batch 85: Hypervolume (qNParEGO, qEHVI) = (2168.64, 2747.49), time = 171.46.\n",
      "Batch 86: Hypervolume (qNParEGO, qEHVI) = (2168.64, 2747.49), time = 127.77.\n",
      "Batch 87: Hypervolume (qNParEGO, qEHVI) = (2168.64, 2747.49), time = 163.65.\n",
      "Batch 88: Hypervolume (qNParEGO, qEHVI) = (2168.64, 2748.72), time = 213.40.\n",
      "Batch 89: Hypervolume (qNParEGO, qEHVI) = (2168.64, 2752.16), time = 263.01.\n",
      "Batch 90: Hypervolume (qNParEGO, qEHVI) = (2168.64, 2752.23), time = 181.68.\n",
      "Batch 91: Hypervolume (qNParEGO, qEHVI) = (2168.64, 2752.31), time = 232.34.\n",
      "Batch 92: Hypervolume (qNParEGO, qEHVI) = (2168.64, 2752.31), time = 356.81.\n",
      "Batch 93: Hypervolume (qNParEGO, qEHVI) = (2168.64, 2753.06), time = 158.82.\n",
      "Batch 94: Hypervolume (qNParEGO, qEHVI) = (2168.64, 2753.06), time = 197.21.\n",
      "Batch 95: Hypervolume (qNParEGO, qEHVI) = (2168.64, 2753.06), time = 229.65.\n",
      "Batch 96: Hypervolume (qNParEGO, qEHVI) = (2168.64, 2753.06), time = 284.53.\n",
      "Batch 97: Hypervolume (qNParEGO, qEHVI) = (2168.64, 2753.18), time = 157.13.\n",
      "Batch 98: Hypervolume (qNParEGO, qEHVI) = (2168.64, 2753.21), time = 349.16.\n",
      "Batch 99: Hypervolume (qNParEGO, qEHVI) = (2168.64, 2753.21), time = 417.87.\n",
      "Batch 100: Hypervolume (qNParEGO, qEHVI) = (2168.64, 2753.62), time = 271.26."
     ]
    }
   ],
   "source": [
    "import time\n",
    "import warnings\n",
    "\n",
    "from botorch import fit_gpytorch_mll\n",
    "from botorch.exceptions import BadInitialCandidatesWarning\n",
    "from botorch.sampling.normal import SobolQMCNormalSampler\n",
    "from botorch.utils.multi_objective.box_decompositions.non_dominated import (\n",
    "    NondominatedPartitioning,\n",
    ")\n",
    "from botorch.utils.multi_objective.pareto import is_non_dominated\n",
    "\n",
    "\n",
    "warnings.filterwarnings(\"ignore\", category=BadInitialCandidatesWarning)\n",
    "warnings.filterwarnings(\"ignore\", category=RuntimeWarning)\n",
    "\n",
    "N_BATCH = 100 if not SMOKE_TEST else 4\n",
    "MC_SAMPLES = 64 if not SMOKE_TEST else 16\n",
    "\n",
    "verbose = True\n",
    "\n",
    "hvs_qparego, hvs_qehvi = [], []\n",
    "\n",
    "# call helper functions to generate initial training data and initialize model\n",
    "train_x_qparego, train_obj_qparego, train_obj_true_qparego = generate_initial_data()\n",
    "mll_qparego, model_qparego = initialize_model(train_x_qparego, train_obj_qparego)\n",
    "\n",
    "train_x_qehvi, train_obj_qehvi, train_obj_true_qehvi = (\n",
    "    train_x_qparego,\n",
    "    train_obj_qparego,\n",
    "    train_obj_true_qparego,\n",
    ")\n",
    "mll_qehvi, model_qehvi = initialize_model(train_x_qehvi, train_obj_qehvi)\n",
    "\n",
    "# compute hypervolume\n",
    "bd = NondominatedPartitioning(ref_point=problem.ref_point, Y=train_obj_true_qparego)\n",
    "volume = bd.compute_hypervolume().item()\n",
    "\n",
    "hvs_qparego.append(volume)\n",
    "hvs_qehvi.append(volume)\n",
    "\n",
    "# run N_BATCH rounds of BayesOpt after the initial random batch\n",
    "for iteration in range(1, N_BATCH + 1):\n",
    "\n",
    "    t0 = time.monotonic()\n",
    "\n",
    "    # fit the models\n",
    "    fit_gpytorch_mll(mll_qparego)\n",
    "    fit_gpytorch_mll(mll_qehvi)\n",
    "\n",
    "    # define the qEI and qNEI acquisition modules using a QMC sampler\n",
    "    qparego_sampler = SobolQMCNormalSampler(sample_shape=torch.Size([MC_SAMPLES]))\n",
    "    qehvi_sampler = SobolQMCNormalSampler(sample_shape=torch.Size([MC_SAMPLES]))\n",
    "\n",
    "    # optimize acquisition functions and get new observations\n",
    "    (\n",
    "        new_x_qparego,\n",
    "        new_obj_qparego,\n",
    "        new_obj_true_qparego,\n",
    "    ) = optimize_qnparego_and_get_observation(\n",
    "        model_qparego, train_x_qparego, train_obj_qparego, qparego_sampler\n",
    "    )\n",
    "    new_x_qehvi, new_obj_qehvi, new_obj_true_qehvi = optimize_qehvi_and_get_observation(\n",
    "        model_qehvi, train_x_qehvi, train_obj_qehvi, qehvi_sampler\n",
    "    )\n",
    "\n",
    "    # update training points\n",
    "    train_x_qparego = torch.cat([train_x_qparego, new_x_qparego])\n",
    "    train_obj_qparego = torch.cat([train_obj_qparego, new_obj_qparego])\n",
    "    train_obj_true_qparego = torch.cat([train_obj_true_qparego, new_obj_true_qparego])\n",
    "\n",
    "    train_x_qehvi = torch.cat([train_x_qehvi, new_x_qehvi])\n",
    "    train_obj_qehvi = torch.cat([train_obj_qehvi, new_obj_qehvi])\n",
    "    train_obj_true_qehvi = torch.cat([train_obj_true_qehvi, new_obj_true_qehvi])\n",
    "\n",
    "\n",
    "    # update progress\n",
    "    for hvs_list, train_obj in zip(\n",
    "        (hvs_qparego, hvs_qehvi),\n",
    "        (\n",
    "            train_obj_true_qparego,\n",
    "            train_obj_true_qehvi,\n",
    "        ),\n",
    "    ):\n",
    "        # compute hypervolume\n",
    "        bd = NondominatedPartitioning(ref_point=problem.ref_point, Y=train_obj)\n",
    "        volume = bd.compute_hypervolume().item()\n",
    "        hvs_list.append(volume)\n",
    "\n",
    "    # reinitialize the models so they are ready for fitting on next iteration\n",
    "    # Note: we find improved performance from not warm starting the model hyperparameters\n",
    "    # using the hyperparameters from the previous iteration\n",
    "    mll_qparego, model_qparego = initialize_model(train_x_qparego, train_obj_qparego)\n",
    "    mll_qehvi, model_qehvi = initialize_model(train_x_qehvi, train_obj_qehvi)\n",
    "\n",
    "    t1 = time.monotonic()\n",
    "\n",
    "    torch.cuda.empty_cache()\n",
    "    gc.collect()\n",
    "\n",
    "    if verbose:\n",
    "        print(\n",
    "            f\"\\nBatch {iteration:>2}: Hypervolume (qNParEGO, qEHVI) = \"\n",
    "            f\"({hvs_qparego[-1]:>4.2f}, {hvs_qehvi[-1]:>4.2f}), \"\n",
    "            f\"time = {t1-t0:>4.2f}.\",\n",
    "            end=\"\",\n",
    "        )\n",
    "    else:\n",
    "        print(\".\", end=\"\")"
   ]
  },
  {
   "cell_type": "markdown",
   "metadata": {
    "id": "v70wonHIBdhu",
    "originalKey": "72232578-0908-4292-aca4-d52197890dd6",
    "showInput": false
   },
   "source": [
    "#### Plot the results\n",
    "The plot below shows the a common metric of multi-objective optimization performance, the log hypervolume difference: the log difference between the hypervolume of the true pareto front and the hypervolume of the approximate pareto front identified by each algorithm. The log hypervolume difference is plotted at each step of the optimization for each of the algorithms.\n",
    "\n",
    "The plot shows that $q$NEHVI outperforms $q$EHVI and $q$ParEGO."
   ]
  },
  {
   "cell_type": "code",
   "execution_count": 12,
   "metadata": {
    "colab": {
     "base_uri": "https://localhost:8080/",
     "height": 561
    },
    "collapsed": false,
    "customOutput": null,
    "executionInfo": {
     "elapsed": 649,
     "status": "ok",
     "timestamp": 1747761315776,
     "user": {
      "displayName": "Deepak L",
      "userId": "17343563887203968144"
     },
     "user_tz": -330
    },
    "executionStartTime": 1668649857076,
    "executionStopTime": 1668649858100,
    "id": "FyLWlXS5Bdhu",
    "jupyter": {
     "outputs_hidden": false
    },
    "originalKey": "c9560130-5c74-4b2b-b24a-fd7618ee7822",
    "outputId": "0d184bc1-fc21-47f3-f8a7-bf0c423ce256",
    "requestMsgId": "d6978d53-90e4-476b-bb1d-75010f65dcd6",
    "scrolled": true
   },
   "outputs": [
    {
     "data": {
      "text/plain": [
       "<matplotlib.legend.Legend at 0x7ad9956393d0>"
      ]
     },
     "execution_count": 12,
     "metadata": {},
     "output_type": "execute_result"
    },
    {
     "data": {
      "image/png": "[encoded data removed]",
      "text/plain": [
       "<Figure size 800x600 with 1 Axes>"
      ]
     },
     "metadata": {},
     "output_type": "display_data"
    }
   ],
   "source": [
    "import numpy as np\n",
    "from matplotlib import pyplot as plt\n",
    "\n",
    "%matplotlib inline\n",
    "\n",
    "\n",
    "iters = np.arange(N_BATCH + 1) * BATCH_SIZE\n",
    "log_hv_difference_qparego = np.log10(problem.max_hv - np.asarray(hvs_qparego))\n",
    "log_hv_difference_qehvi = np.log10(problem.max_hv - np.asarray(hvs_qehvi))\n",
    "\n",
    "fig, ax = plt.subplots(1, 1, figsize=(8, 6))\n",
    "ax.errorbar(\n",
    "    iters,\n",
    "    log_hv_difference_qparego,\n",
    "    label=\"qNParEGO\",\n",
    "    linewidth=1.5,\n",
    ")\n",
    "ax.errorbar(\n",
    "    iters,\n",
    "    log_hv_difference_qehvi,\n",
    "    label=\"qEHVI\",\n",
    "    linewidth=1.5,\n",
    ")\n",
    "ax.set(\n",
    "    xlabel=\"number of observations (beyond initial points)\",\n",
    "    ylabel=\"Log Hypervolume Difference\",\n",
    ")\n",
    "ax.legend(loc=\"lower left\")"
   ]
  },
  {
   "cell_type": "markdown",
   "metadata": {
    "collapsed": true,
    "id": "zCutcS6HBdhv",
    "jupyter": {
     "outputs_hidden": true
    },
    "originalKey": "824c329c-6c02-4f67-bce0-a4c57ea655d8",
    "showInput": false
   },
   "source": [
    "#### Plot the true objectives at the evaluated designs colored by iteration\n",
    "\n",
    "To examine optimization process from another perspective, we plot the true function values at the designs selected under each algorithm where the color corresponds to the BO iteration at which the point was collected. The plot on the right for $q$NEHVI shows that the $q$NEHVI quickly identifies the pareto front and most of its evaluations are very close to the pareto front. $q$NParEGO also identifies has many observations close to the pareto front, but relies on optimizing random scalarizations, which is a less principled way of optimizing the pareto front compared to $q$NEHVI, which explicitly attempts focuses on improving the pareto front. $q$EHVI uses the posterior mean as a plug-in estimator for the true function values at the in-sample points, whereas $q$NEHVI than integrating over the uncertainty at the in-sample designs Sobol generates random points and has few points close to the Pareto front."
   ]
  },
  {
   "cell_type": "code",
   "execution_count": 13,
   "metadata": {
    "collapsed": false,
    "customOutput": null,
    "executionStartTime": 1668649858641,
    "executionStopTime": 1668649859522,
    "id": "uWk2NqHCBdhv",
    "jupyter": {
     "outputs_hidden": false
    },
    "originalKey": "cf610a77-3e82-4c30-ac7b-f7a97fa91fa5",
    "requestMsgId": "afb07e9c-ebaf-4a8e-90e3-ca426532de20",
    "scrolled": true
   },
   "outputs": [],
   "source": [
    "# import plotly.graph_objects as go\n",
    "# from plotly.subplots import make_subplots\n",
    "# import numpy as np\n",
    "\n",
    "# # Generate Pareto front\n",
    "# pareto_front = -problem.gen_pareto_front(n=1000).cpu().numpy()\n",
    "\n",
    "# batch_number = torch.cat(\n",
    "#     [\n",
    "#         torch.zeros(11 * problem.dim - 1),\n",
    "#         torch.arange(1, N_BATCH + 1).repeat(BATCH_SIZE, 1).t().reshape(-1),\n",
    "#     ]\n",
    "# ).numpy()\n",
    "\n",
    "# # Create subplots\n",
    "# fig = make_subplots(rows=1, cols=2,\n",
    "#                     specs=[[{'type': 'scatter3d'}, {'type': 'scatter3d'}]],\n",
    "#                     subplot_titles=(\"qNParEGO\", \"qEHVI\"))\n",
    "\n",
    "# # Create color scale\n",
    "# colorscale = plt.get_cmap(\"viridis\")(np.linspace(0, 1, N_BATCH+1))\n",
    "# colorscale = [[i/(len(colorscale)-1), f\"rgb({r*255},{g*255},{b*255})\"]\n",
    "#               for i, (r,g,b,a) in enumerate(colorscale)]\n",
    "\n",
    "# alg_data = [\n",
    "#     (-train_obj_true_qparego, \"qNParEGO\"),\n",
    "#     (-train_obj_true_qehvi, \"qEHVI\"),\n",
    "# ]\n",
    "\n",
    "# for col, (train_obj, name) in enumerate(alg_data, 1):\n",
    "#     # Convert to numpy\n",
    "#     obj_np = train_obj.cpu().numpy()\n",
    "\n",
    "#     # Create 3D scatter plot\n",
    "#     scatter = go.Scatter3d(\n",
    "#         x=obj_np[:, 0],\n",
    "#         y=obj_np[:, 1],\n",
    "#         z=obj_np[:, 2],\n",
    "#         mode='markers',\n",
    "#         marker=dict(\n",
    "#             size=4,\n",
    "#             color=batch_number,\n",
    "#             colorscale=colorscale,\n",
    "#             opacity=0.8,\n",
    "#             colorbar=dict(title='Iteration') if col == 3 else None\n",
    "#         ),\n",
    "#         name=name,\n",
    "#         hovertemplate=\"<b>Obj1</b>: %{x:.2f}<br><b>Obj2</b>: %{y:.2f}<br><b>Obj3</b>: %{z:.2f}<extra></extra>\"\n",
    "#     )\n",
    "\n",
    "#     # Add Pareto front\n",
    "#     pf_trace = go.Scatter3d(\n",
    "#         x=pareto_front[:, 0],\n",
    "#         y=pareto_front[:, 1],\n",
    "#         z=pareto_front[:, 2],\n",
    "#         mode='markers',\n",
    "#         marker=dict(size=2, color='red', opacity=0.5),\n",
    "#         name='Pareto Front'\n",
    "#     )\n",
    "\n",
    "#     fig.add_trace(scatter, row=1, col=col)\n",
    "#     fig.add_trace(pf_trace, row=1, col=col)\n",
    "\n",
    "# # Update layout\n",
    "# fig.update_layout(\n",
    "#     height=600,\n",
    "#     width=1200,\n",
    "#     scene1=dict(\n",
    "#         xaxis_title='Objective 1',\n",
    "#         yaxis_title='Objective 2',\n",
    "#         zaxis_title='Objective 3',\n",
    "#         camera=dict(eye=dict(x=1.5, y=1.5, z=0.6))\n",
    "#     ),\n",
    "#     scene2=dict(\n",
    "#         xaxis_title='Objective 1',\n",
    "#         yaxis_title='Objective 2',\n",
    "#         zaxis_title='Objective 3',\n",
    "#         camera=dict(eye=dict(x=1.5, y=1.5, z=0.6))\n",
    "#     ),\n",
    "#     showlegend=False\n",
    "# )\n",
    "\n",
    "# fig.show()\n"
   ]
  },
  {
   "cell_type": "code",
   "execution_count": 14,
   "metadata": {
    "id": "mYt1v6F7Cj6F"
   },
   "outputs": [],
   "source": [
    "# import plotly.graph_objects as go\n",
    "# from plotly.subplots import make_subplots\n",
    "# import numpy as np\n",
    "\n",
    "# # Assuming problem, train_obj_true_qparego, train_obj_true_qehvi, N_BATCH, BATCH_SIZE are defined\n",
    "\n",
    "# # Generate Pareto front\n",
    "# pareto_front = -problem.gen_pareto_front(n=1000).cpu().numpy()\n",
    "\n",
    "# # Number of initial training points\n",
    "# n_initial = 11 * problem.dim - 1\n",
    "\n",
    "# batch_number = torch.cat([\n",
    "#     torch.zeros(n_initial),\n",
    "#     torch.arange(1, N_BATCH + 1).repeat(BATCH_SIZE, 1).t().reshape(-1),\n",
    "# ]).numpy()\n",
    "\n",
    "# # 1. Plot showing just initial training points\n",
    "# fig_initial = make_subplots(rows=1, cols=2,\n",
    "#                     specs=[[{'type': 'scatter3d'}, {'type': 'scatter3d'}]],\n",
    "#                     subplot_titles=(\"qNParEGO\", \"qEHVI\"))\n",
    "\n",
    "# alg_data_initial = [\n",
    "#     (-train_obj_true_qparego[:n_initial], \"qNParEGO\"),\n",
    "#     (-train_obj_true_qehvi[:n_initial], \"qEHVI\"),\n",
    "# ]\n",
    "\n",
    "# for col, (train_obj, name) in enumerate(alg_data_initial, 1):\n",
    "#     # Convert to numpy if needed\n",
    "#     obj_np = train_obj.cpu().numpy() if isinstance(train_obj, torch.Tensor) else train_obj\n",
    "\n",
    "#     # Create 3D scatter plot for initial points\n",
    "#     scatter = go.Scatter3d(\n",
    "#         x=obj_np[:, 0],\n",
    "#         y=obj_np[:, 1],\n",
    "#         z=obj_np[:, 2],\n",
    "#         mode='markers',\n",
    "#         marker=dict(\n",
    "#             size=4,\n",
    "#             color='deepskyblue',\n",
    "#             opacity=0.8\n",
    "#         ),\n",
    "#         name=name\n",
    "#     )\n",
    "\n",
    "#     # Add Pareto front\n",
    "#     pf_trace = go.Scatter3d(\n",
    "#         x=pareto_front[:, 0],\n",
    "#         y=pareto_front[:, 1],\n",
    "#         z=pareto_front[:, 2],\n",
    "#         mode='markers',\n",
    "#         marker=dict(size=2, color='red', opacity=0.5),\n",
    "#         name='Pareto Front'\n",
    "#     )\n",
    "\n",
    "#     fig_initial.add_trace(scatter, row=1, col=col)\n",
    "#     fig_initial.add_trace(pf_trace, row=1, col=col)\n",
    "\n",
    "# # Update layout\n",
    "# fig_initial.update_layout(\n",
    "#     height=600,\n",
    "#     width=1200,\n",
    "#     scene1=dict(\n",
    "#         xaxis_title='Objective 1',\n",
    "#         yaxis_title='Objective 2',\n",
    "#         zaxis_title='Objective 3'\n",
    "#     ),\n",
    "#     scene2=dict(\n",
    "#         xaxis_title='Objective 1',\n",
    "#         yaxis_title='Objective 2',\n",
    "#         zaxis_title='Objective 3'\n",
    "#     ),\n",
    "#     showlegend=False,\n",
    "#     title_text='Initial Training Points'\n",
    "# )\n",
    "\n",
    "# fig_initial.show()\n",
    "\n"
   ]
  },
  {
   "cell_type": "code",
   "execution_count": 15,
   "metadata": {
    "id": "4jTFJO4-Lg6S"
   },
   "outputs": [],
   "source": [
    "# # 2. Plot batches of 50 points after initial points\n",
    "# batch_size = 50\n",
    "\n",
    "# # Get total number of points\n",
    "# n_points = min(len(train_obj_true_qparego), len(train_obj_true_qehvi))\n",
    "\n",
    "# # Calculate number of points after initial\n",
    "# n_remaining = n_points - n_initial\n",
    "\n",
    "# # Calculate number of plots needed\n",
    "# n_plots = (n_remaining + batch_size - 1) // batch_size\n",
    "\n",
    "# for plot_idx in range(n_plots):\n",
    "#     fig = make_subplots(rows=1, cols=2,\n",
    "#                     specs=[[{'type': 'scatter3d'}, {'type': 'scatter3d'}]],\n",
    "#                     subplot_titles=(\"qNParEGO\", \"qEHVI\"))\n",
    "\n",
    "#     # Define range for this batch of points\n",
    "#     start_idx = n_initial\n",
    "#     end_idx = min(n_initial + (plot_idx + 1) * batch_size, n_points)\n",
    "\n",
    "#     alg_data = [\n",
    "#         (-train_obj_true_qparego[start_idx:end_idx], \"qNParEGO\"),\n",
    "#         (-train_obj_true_qehvi[start_idx:end_idx], \"qEHVI\"),\n",
    "#     ]\n",
    "\n",
    "#     for col, (train_obj, name) in enumerate(alg_data, 1):\n",
    "#         # Convert to numpy if needed\n",
    "#         obj_np = train_obj.cpu().numpy() if isinstance(train_obj, torch.Tensor) else train_obj\n",
    "\n",
    "#         # Create 3D scatter plot\n",
    "#         scatter = go.Scatter3d(\n",
    "#             x=obj_np[:, 0],\n",
    "#             y=obj_np[:, 1],\n",
    "#             z=obj_np[:, 2],\n",
    "#             mode='markers',\n",
    "#             marker=dict(\n",
    "#                 size=4,\n",
    "#                 color=batch_number[start_idx:end_idx],\n",
    "#                 colorscale='Viridis',\n",
    "#                 opacity=0.8,\n",
    "#                 colorbar=dict(title='Iteration') if col == 2 else None\n",
    "#             ),\n",
    "#             name=name\n",
    "#         )\n",
    "\n",
    "#         # Add Pareto front\n",
    "#         pf_trace = go.Scatter3d(\n",
    "#             x=pareto_front[:, 0],\n",
    "#             y=pareto_front[:, 1],\n",
    "#             z=pareto_front[:, 2],\n",
    "#             mode='markers',\n",
    "#             marker=dict(size=2, color='red', opacity=0.5),\n",
    "#             name='Pareto Front'\n",
    "#         )\n",
    "\n",
    "#         fig.add_trace(scatter, row=1, col=col)\n",
    "#         fig.add_trace(pf_trace, row=1, col=col)\n",
    "\n",
    "#     # Update layout\n",
    "#     fig.update_layout(\n",
    "#         height=600,\n",
    "#         width=1200,\n",
    "#         scene1=dict(\n",
    "#             xaxis_title='Objective 1',\n",
    "#             yaxis_title='Objective 2',\n",
    "#             zaxis_title='Objective 3'\n",
    "#         ),\n",
    "#         scene2=dict(\n",
    "#             xaxis_title='Objective 1',\n",
    "#             yaxis_title='Objective 2',\n",
    "#             zaxis_title='Objective 3'\n",
    "#         ),\n",
    "#         showlegend=False,\n",
    "#         title_text=f'Cumulative: First {end_idx - start_idx} Points After Initial'\n",
    "#     )\n",
    "\n",
    "#     fig.show()\n"
   ]
  },
  {
   "cell_type": "code",
   "execution_count": 16,
   "metadata": {
    "id": "mg_wnvuzQvVN"
   },
   "outputs": [],
   "source": [
    "import plotly.graph_objects as go\n",
    "import plotly.io as pio\n",
    "from plotly.subplots import make_subplots\n",
    "import numpy as np\n",
    "\n",
    "def create_pareto_surface(problem, n=1000):\n",
    "    # Generate Pareto front using the problem's built-in method\n",
    "    pareto_front = -problem.gen_pareto_front(n).cpu().numpy()\n",
    "\n",
    "    if problem.num_objectives == 3:\n",
    "        # Create Mesh3d trace for 3D problems\n",
    "        return go.Mesh3d(\n",
    "            x=pareto_front[:, 0],\n",
    "            y=pareto_front[:, 1],\n",
    "            z=pareto_front[:, 2],\n",
    "            color='red',\n",
    "            opacity=0.3,\n",
    "            intensity=pareto_front[:, 2],\n",
    "            colorscale='Reds',\n",
    "            showscale=False,\n",
    "            name='Pareto Front'\n",
    "        )\n",
    "    else:\n",
    "        raise ValueError(\"Only 3D visualization is supported in this implementation\")\n",
    "\n"
   ]
  },
  {
   "cell_type": "code",
   "execution_count": 17,
   "metadata": {
    "colab": {
     "base_uri": "https://localhost:8080/",
     "height": 617
    },
    "executionInfo": {
     "elapsed": 81,
     "status": "ok",
     "timestamp": 1747762263190,
     "user": {
      "displayName": "Deepak L",
      "userId": "17343563887203968144"
     },
     "user_tz": -330
    },
    "id": "3nhpwmwhSHVO",
    "outputId": "08854cbd-d676-408d-eea8-0b773dbf530a"
   },
   "outputs": [
    {
     "data": {
      "application/vnd.plotly.v1+json": {
       "config": {
        "plotlyServerURL": "https://plot.ly"
       },
       "data": [
        {
         "marker": {
          "color": "deepskyblue",
          "opacity": 0.8,
          "size": 4
         },
         "mode": "markers",
         "name": "qNParEGO",
         "scene": "scene",
         "type": "scatter3d",
         "x": {
          "bdata": "AAAAoB9D6T8AAABgqBq0PwAAAHWdO9o/AAAAEoTd5j8AAIBPMfvgPwAAAM73dtY/AAAARoGXwj8AAAD5qmXvPwAAAPwcNew/AAAAUlnVzz8AAADEm9fQPwAAgEqHq+M/AAAAFzKN5T8AAAB/8ZrcPwAAAJAwPq0/AACAoakT6j8AAIDsc53rPwAAAABRToc/AAAA5UWH3z8AAABa6APkPwAAgAddJeI/AAAAXi/K0z8AAABmMO7JPwAAALHGu+0/AAAAtHDr7j8AAABy6KzEPwAAAFRDa9U/AACAAut14T8AAABfXlPnPwAAAO8pJtk/AAAACHpsuD8AAIDpxc3oPwAAgFG6O+g/AAAAyIffvz8AAACf1srYPwAAAOchpec/AACAupSD4T8AAAAkvIfUPwAAAJIWdcc/AAAADA8d7j8AAAAJuU3tPwAAAIbON8o/AAAALtAm0j8AAIC/ItPiPwAAAOKX9eQ/AAAAlbpr3j8AAACA32iVPwAAgFQMa+s/AACAGdbl6j8AAAAQy1miPwAAAA8Odt0/AAAAr0175T8AAIDy+F3jPwAAALRkO9E/AAAAsqcMzD8AAABEY8PsPwAAAEHVk+8/AAAApn9OwT8AAAC+CJrXPwAAgPdODeA/AAAAqvsr5j8AAAAFYtfbPwAAAKBVqbM/AACAHGC16T8AAADavujpPwAAAJSjR7E/AAAAiN9s2z8AAIBsJXbmPwAAADGQUOA/AAAAM7Uh1z8AAAC8BDnAPwAAgIcLzu8/AACAgr2e7D8AAACo3HvNPwAAADnZgNE/AAAANCYA4z8AAIBpkyblPwAAAIKzzd0/AAAAeCeEpz8AAADfCLjqPwAAAJLSNus/AAAAUAfTnj8AAAAYB9DePwAAgCRJqOQ/AAAAefyO4j8AAACjbZ3SPwAAAJy1QMs/",
          "dtype": "f8"
         },
         "y": {
          "bdata": "AAAAoI0R4j8AAABoEPKuPwAAAFMQi+w/AAAAkXnr3j8AAIBZ+8XqPwAAAISvdtI/AACAl2Zf5D8AAAAwKIfOPwAAAIBW/+8/AAAAN/QD2D8AAABOy2XhPwAAAKw+27Q/AACARCAr5z8AAAB8M1bDPwAAgIq9sek/AAAAIiKe1D8AAABAfZvoPwAAALejy9Y/AAAAjuAB5j8AAABWMP3HPwAAgIQLT+A/AAAA+DiNvT8AAIBKltXuPwAAAKJ1Vto/AAAAXaZ15T8AAAAaKyzKPwAAAJM77+s/AAAAES4j0D8AAICZ0KHtPwAAAAT4vtw/AACAV0074z8AAACAObyYPwAAgNWbUOw/AAAAnG5c3z8AAIAbBsriPwAAAACoSqM/AAAAEe2E5D8AAAAqBunNPwAAAN9wHuo/AAAAibjB0z8AAIDIQL7hPwAAAJhiB7I/AACABt0k7z8AAAA647TZPwAAAAw2auk/AAAALzUp1T8AAADCq/DnPwAAAGYdOMA/AACACGva5j8AAABMHpPEPwAAgMb2QOg/AAAAurR81z8AAADMHQ7uPwAAAK9i4ds/AAAAAoCU4D8AAADMZFG7PwAAgBWwNOs/AAAAHDmU0T8AAIDbLa7lPwAAAAAFQsk/AAAA0cbg4z8AAACASmpuPwAAAB9beu0/AAAACe8J3T8AAACU/XLqPwAAAB+iGNM/AAAAWmDo5D8AAAAGM1vMPwAAgFCLpuI/AAAAsHyCpT8AAICeFjzsPwAAAAp0hd8/AAAAiSac5z8AAABKKIrBPwAAAEe7Buk/AAAAuS/w1T8AAIBNUEjvPwAAAKz5bdk/AACAg83S4T8AAADACGOxPwAAAEkN+OA/AAAAlA41uD8AAACHkGLuPwAAADl4ONs/AACAjXss6D8AAAAsrqXXPwAAgEPmtuY/",
          "dtype": "f8"
         },
         "z": {
          "bdata": "YLlAColPM0A/wNgIGmAzQJsnTXIA6zRAux8rHWcAL0CXz+KhVKQtQJ2db9daAjRApWYF0cLgN0B9O5NX7hErQJMB6q8yryxA9cBRHabNMkCq8r5o3zgxQOTns0fUsjZAudfm48iwNkCH5rKRKZIwQBTLbrXXfTJAe+TTCFOJK0DBcquGCawwQEdoVc83fTRAQi3XCejXNUBgdZV7/XUvQIL6uVBfszFAwKbCwMAzNUCOZAKKmgQuQLBwh+VuKDVAJBW2it7CMkDSBf2tvhgyQI5ppv1aLylAzP2vOizoNUAz4AT9UlUwQA97gH1v6jFARjU6ouCPLkAuz+F5FGU3QHoMRkXtdCpARX9ge0VONkC05Li0gcM0QGGz1VF/KDFAxWxNx/UjNEAYLoO82UowQLOlRpd4tjBAC5rDCwHCNUAWG/m2SRU1QOOCrHGHcChAYLiABvHkL0Bt4obvNAw4QPiiKpv8iC5AoMDQGx4SNkA/A3ZlAYElQB+4F+oBgTZAW/tP1Hw9MED4XgLvSqQ0QOssbUf9CjFAA7J4JlshMUCor9/khcowQEKvlqoxGDVAQjSPFIhcO0Bf7DK3J74gQCB15jLzXjFAqW9Notq4NECTFMuoJZYyQOTxd/AT6jBAOWfq9vsrNEDB5p/yESoxQNMS/EcMujFA+QKzZ0rXMkAjwIQaNOAuQCF74n9b4jFAgcJGYbvnMEBIOeYgbXc2QA8U2LDaVy9AKnQgl4ByOUDg3tdegiYyQNkxhSdZWTFAN95bFvihLEARqkgGwSU0QCGU4uroCTZAmt4pKyH/LEBLL6H6eAstQAlB4bhwFDdANB8ilYXyMEBcACfPLIoyQL+ZxmdljS1A52bCCFJFNEAZVGWdH08wQDSbeaGt8jRA+V94L9ArOkCqz9nMOIooQBgik4u4wi9A",
          "dtype": "f8"
         }
        },
        {
         "color": "red",
         "colorscale": [
          [
           0,
           "rgb(255,245,240)"
          ],
          [
           0.125,
           "rgb(254,224,210)"
          ],
          [
           0.25,
           "rgb(252,187,161)"
          ],
          [
           0.375,
           "rgb(252,146,114)"
          ],
          [
           0.5,
           "rgb(251,106,74)"
          ],
          [
           0.625,
           "rgb(239,59,44)"
          ],
          [
           0.75,
           "rgb(203,24,29)"
          ],
          [
           0.875,
           "rgb(165,15,21)"
          ],
          [
           1,
           "rgb(103,0,13)"
          ]
         ],
         "intensity": {
          "bdata": "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",
          "dtype": "f8"
         },
         "name": "Pareto Front",
         "opacity": 0.3,
         "scene": "scene",
         "showscale": false,
         "type": "mesh3d",
         "x": {
          "bdata": "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",
          "dtype": "f8"
         },
         "y": {
          "bdata": "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",
          "dtype": "f8"
         },
         "z": {
          "bdata": "uqMXoQd9FkCUiWC3FrAWQHZf1hJ0JBdAxAmMfAXNFEDYMx47L1gRQDhxmJP7jBNATccT4akbFUAIgxkKYSkKQE60qrobWhdAm+9sUPyaEkBaevK93EIVQLyugUrNBBdA7jn9kZhCFkD7ccYHliwTQAr7CAlqVxVAhuDMGuiDFUBmC0BM+gUSQJYNzwA+ZhZARFvNUw9TEEB5U9Scx5cSQBrWU7gZ2BBAHZITGBbGEUBCVSQEqG4VQPJUU5Xb9hJAZW6X1wCcEUD2HRiBDtcUQNg5WBlk8BRAHtaxjsYsFkDmXHh7wD8TQNfv1BR7vRVAqnof1QG7FkC+0YQTZPkQQPBlSZoI1BZA/N8DRs10F0BNR1lmK+0XQHTJzPvKpxZA4rQXOtO5EEBM79lLhFwGQDQRGhOb7hBAK5bxwNfGEUCMokN4/s8QQDfMcytR9BBASYKyDVAyEEBYgk8WK98WQMRrcqX4fxJAp57+F+cgEkD4490pK28PQPg4j5CyjRBAuBgSCHKIEUAdRx7S0HMRQAh7eQU5UhJAOdfoVzTzF0DgbqbDYHsQQOotzNyXvQpAukkK+3CYEUC+W0/Hm5oWQPrlbBP3uhZA3tZuSI4eEECq7BwczaYWQHza2oNzUhNA6JTiQsolF0BmMssL8kcQQHl+iRDpiBNA+rGDcflHFkCUzRuB78kRQEvTsADA6hZAD3GyahVhFkDKnvW+nNMXQKrG0R+umBFAgtpyUBLHFEC8u+y1SnIPQOdv+b5P3BVA8sj8wyGsCUACuzLRWNoQQDIAXEYyXRFA+Yvj8addFkCNtVQjEzEUQEvDLV5DDhVA6fQ2oPb5EUBgtdPfI5cXQDWxT/0yVBNA82nRLI5KFUBSHrGYnNcOQCoSj3VS6RBASizO0hXmFEBcLfkZ57YUQBmqtGjWZRBAONMiTnYhEEBQfig0O7kRQIup2AG+CBBALJRC/lNBEEB8fceH+oMSQOLVb+T+TQ9Awdk2wgYqB0AHzPAtXwkFQCfDOSyabBNA9JugXOp7BkB7sZVMFuUUQMlizgqXiBZAkSSaASxcFkBQL/QWVLkXQHBPm/7QrRBA7MsOg0lZCUDjcwd+7KwWQEkBhhaXIRZA8DR8hcJZFkCTTKyvBpQVQPtjVn6zrBJAOEeeYMLiEUADZfzar3YPQINqnx7htxBAsr+LplQxE0AEx8kjhZcSQJKat/HboRJAk3vrskutDUBr7uUeOHgRQATAS+mYhhJAfrkQCH+7CEBWUtsPpFEWQGsAPsbuWBNA2Xdyv2LKD0AtKGk8wKsWQF37R21W/BVAUEtuMqPcFkDHxLMrbR8WQBhaQbZI0xRAFaLppDMtDkAMbnosNpEQQJezN5F1mg9AkS+Fs5DLFEAEF05yh2sQQFhqQ+AyEQlAQMzjJB/0D0AMj3c+n0gRQB+bAG5ohRJAv6CwjxjpFkC7Bio8TxIWQIeuy+RHchZAh2Cy77qJFkC9HC6uj/URQCDxnLrn1BRAfVwYNQveEkAZ1dFypNcSQA70dtfcZxZAFqkQ50IDE0DCtS9GuNkSQPaSH5iNLRBA3N2uqTUjEEAojUrIAZIVQCKvB8y/ARFA1dvLx4RzEkAkkL3SN8sPQMtljsmRlw9AfxB+/jW9E0Ds/5AZUUUWQAxs6bq+TBVANBP13pOUFkASHsNHFWIWQATmVvheuBRA5pRkpTeuFUDDX1avWLoUQEbh0sm6vxdACpBxZICeC0BnOfQCm3wXQLW0iLByNRZAgN9FUFOQFEClORE3qd0VQEbnJclTwghA7ulWBDc4FUDY3pIrbo4TQDwJJ8DRoRZA6u02PFX8F0CTdUK3VeERQJC9jFlO3RBA2NiV+GqBCkD+8h1XUv4UQEFzAX8MsgtAU2KsT+FoC0D0AbEi8IUJQKY8xbHQAhZAhnOS3eVxEUA34YCevtcQQDj6bjxmCRFA9d9y0sucEECa0sfZr3MVQLp12ybx4xBAosZWQ754CEDOZbJOVEUWQAZIwdRh4BdAE/D4OsihFUCoeZ/sKy8QQJuIAKiM4BFA5LteZgQCFUDXWCRmzUERQKiXaEq+fhNAx+hEkKxXEUCuGOYtGBEWQH6NEH3bNhZAuIVCEx9pE0DdlxfQ7T0QQLcJcSVMURdAaMKlCUxbF0Diu5OxNX8WQL7tjgaqWRdAY0JAiFK/FUARDxRdubUWQGHQtQUm1BVAPNPtqMqcBkBYb74q6sYUQBftAiLChxBALFb4cOMwFkCMQT2ei50RQDfqw6O+MRVAzGasM3ptDUDvkIfNshcXQDWO5FTpnhVA2k8FHA0cEEBeDRZL0iMVQHyNf02mKA9AcVAhqD3KD0D1pEf5cY8XQKmbVBQ/uhZAu/8nivagE0CpO36MDtsTQC4NwYrizhBAp01xebixF0ANDdChy0wUQG9tOm54RxZAUAUC6gCCEkDmkaDXrfQUQMNB0/dEvRBA2Cy5TY7aFEC2QXXuu8ERQB70IhopIhVAvuAXsbDUF0AjQzQkexMRQO42cgp1YwZAAmm7U5MeFUDjqk8punkVQFsdoK/XUBVAkTSmRgKGE0B3b/C2O+kSQAA0UU99UQtA3RTPQOU3FkBt9ij5IiMFQNEnymDs4hVAzEJ4ZiU4EEDa6kNrwrUWQOp2vVUmxApAxY4l+DJvFECaZPp4jpARQK4ZFbqzhRZArjfO+GWXEEBsBLLjz68VQA+boKyv7hFAsCi4Hxp6B0AMLjMVq8kJQOYBkRKkpRBAuJQjEZ3zEkDkmA02jfAVQAVgBCpdQhZAVAmL/Ty8EkBZ03FaxiESQNywBd4ziRNAKVK7g391D0BWp2FugBIXQJeN73zA1BZAYPWePWB+F0AAoMj6pMQSQH2x/CM4thdAuCcPL94/F0AciITNZD4WQIpSB86kcRZAt5VG2TnOEECcZ2/GsHAQQON7AXuRLRZA6pcgcgjYFUCoIsAs618QQOqQldfc5BRAenmnZ+1AFUA7Kn9LxlkRQPJv/w4QJApAYO/uiJsiEECMOhkM/goUQE1klxnBKxFA4QOWmNBGEkBoUMjXDFwSQCzVnY77QRVAn/jC93WND0DoJcBbP20HQMow5HWxjBVA029R1w5qEkAerlOJh80UQHS2YyJKjw9AMwRP5vfdF0DatWmvMPkUQMc8WMJXEhBA7uS9ybBnEkDBe7S85QYRQNfwBvi1ShJAPr54eelMFUA05HlbgK0XQLmDGLAO7hVAtPcXHLVoFkCN2ZBKhoMTQOAe/cK9+RBAUS37xGelFkBqyn5YKnQQQKDVC6GgVxJA/HiuIYbXEED//JC8E/ETQHIxei9HtBNAbMTBzXA0FkAiOPMzP4USQLU1nFooAhNATNEK9XlEEUBAXUn/4VIUQKCVJiVWNBBAyDaki+eBF0A8s3l6l2gIQPm5pKY5ohZAOTGixs1PEUDFQ5MKSwsWQGK886MwyBdA5KQowFtsFkBaGcG0hPoPQH0+fmp57RVAS4Ea3KDYC0AhRSZnbOkRQMXLiX0Q7w9AA3yMFl88FkDQrqKV1EwSQDwsBmqTWRFAknFhHZV7B0AWQSJoBhASQJiPAw/KqgxAx6jlmqtbFkC13+EKpMQUQEFtNJ2tlA1AZgIZsur5EEC69KHs1Z8RQOaEnnq8cxFA12gCsjjSEED37Tfft/gGQFhplDlldxZA1SkYbdqIFkCAfWKYMEILQNzAZv4erxJAzJOmmW5HFkCsTo/dXPUVQMk7syfWlhBAaWc82a76EUCRmwbZBGAWQFNo0kMKkBVAlJHOuYc1CUBlVEb5L5oXQPWqwRgQWBdAZthdCwfrEUCHGkwVB5IRQNxVqMf5CRZATM9YKRu1BUCGLcO575MRQBB635heLxFATPBK1X6CFUA2ZYargAoXQKUNbEk9wRFA6lRyeInDFUDg2QZBtmURQLPMn5vXdhVASTtxC7rgEUCb1C2deoYRQNkgGXTZvQ1ABIEPwdOpEECAZkW+NtgVQDY0I/DA/xVAlumdQyVjF0CsPfkIvukEQD6w7SxLzhJA/Z4y0HnmEEBz20xZaWQXQFVNFnfspBZAiSHPF2plFkBG3+D4tS4IQEiuwtwxBhZAoSGahQsrEkDmHSxjOroWQLAqiANeUBFADeFM8fEfFkBI3hF95fsPQEx7iXZbiBFAqHga4AiIFkCKs7rCeWEUQEeQG9vxmxJAZoGrcj6xFkCYFtOG8zgXQGvocTRzUBJAOYXQPMImFEC2LoJemjEUQLnwdM7SlRVATlnsXWRbEEDXOUsoU/cVQB0hhLZFshJAQvYOUICdFUAjn/ISmLgTQCT1yLb4HhFAA8I+8HiQE0Bmp7mid1cVQOD673Cx5gpAfWd4Wj7XEUAZ5kNro60QQKpYvwkK1xJAo85gUyfuEUCGtP2sqToSQDQA6w6NRRNAZyS2desyE0A/BDbgkT4SQHoRtjEvOhFADLUqDR4lEkD74utBkeQSQBTRgOjrjxZAavW75saAFEDIQvZ+sKgSQIu96SRh6xRAW2NnG2EtEkDEmxm2OpkWQFJpD1aOShVAmG2upt4jEkBYqXy2dOAHQHASdzjyYQtAYNwqqLapFUDgtQfivWsSQCfUWA8VxBdAhLEMQq8rCEC8IOIeYJoWQFwROVKKkRJAYkGoyUsxFEBspsV9kAEXQIiTHnRqHRdAJaifvKZPD0BWV2hravsJQL6bkQaisBZAFjzNES/ZFUB6RRIRywARQEwGT5Y7DxdA7pw86ozrD0AgvQ6CC0wXQGQk50B2UxFAdAD0/Xv7FkCzWHmzOfYWQGtnmrR5bBBAZKj3pdK0FkC36dn1fwYSQJrl8ijGxxRAcW0j0PtMEkB9UzG7yA8WQFsdhfOjhBVA7ClyqTCxFUAe6MIu1mkOQAHMPjdeaRZAtB4Geg2ZEkBD+vzrKmITQKEBLOXmeRVAjzrLN/KjF0AyYKNRTicQQKIeXBHwSRFAOo2osjZLEUANfexxSKoUQHZLmkJ6mhJA3CM4aocIFUDGDAlWW5QRQKj+1V8qXRRAkFxjQfH+FUAwC9Tjs5kUQPjK7eujLBZA3tQXB9uCEkAtu2vRFcsPQBa4Tsk+FxJAdmhk4cbyEEA0OQ7k2NwWQK3Zfs+7KRVA2Ai6ENPuD0BarU+0ksEJQGlP9zFFLxdAsXueOBsQFkBsDRDnKekQQDQ3BPZSDBVAGdqwXXV1EEClsqSKehEWQFFWg2xyQhFA2mgc27NlFUDs2SxFDWgXQAWj0baHgw9AzhFRkV5EEUBDBI75fX4RQHQ7G2Ar4w9AdgMuy7NkFEDCVgkaLskLQNtXsz/WjhVAMjy32LdXEUCFkzdPz/8QQNlLshzhNxBAWEfzIe3TD0ClM3PxjrwUQJ1W1PoiOhZAuAksbYWbFEDXepzCXNYVQA5EPCPbBhFAyzVsLMqsEEAlR3vAJWMWQK2qJjq48hZAMaO4NfW2FEAG/CZn+mERQPfJ/nuy+RVAzbT92NNzEUBO4FuSkoENQMYLKdBCbRZANopPtwuwFkCq76fcoMUKQHMeGsOi4xBAsc6cwc0oEUDQEBF3vbkSQFRZQS7KQxZAyrYwKiwnEUAWhkaC7L4XQLxJUcT20QhA066HY3KnFkDOBGHWYCUXQK04YpZ1RBZAwgmupOORFUDwXzjdcXcQQBrHsCMBfxZAiUYkDdxqEEB3+h1ORNIRQLDkwrKxYxJAIa86+9muE0CLPjklmGYVQDvtvtVMnxJAk0WETnL2FECl7MgjPWgWQD1XXOpJcRBAdfA2F0LxBkC3cBUE3ZEUQCSP2j8j7RZApLjZxDB4EEB3qR9FULwHQCUPysXQ2hFAwhEQDkkiE0ACtKQAp7IQQO65bt/EHxJA/C/S51HxF0Dtyv/wA8UMQIWLVw6lpBFAkSZhQ0QmE0CJgltOiw8XQP76Be1HMBZAbwpAPGQeFkDFLNX6CUgVQNBEgHveFBBA+rzT4ZEJFkC5COUgh3MXQDIQO65OIRZAXPCYf6stFkBAOM4GBtgVQHrBvBVvcxVA4rvoAqohEECaXeyN9g0WQEebf9nUpxBAXE8CLd4NFkAPyEOZi3IRQM8/1l5OcRRAwTzaFN+lEkCF2wV3xM8XQNLvVM9JHxBAHnFlnSUpEEAJqWgvEzURQH+qQoRc/QZA1Gm6OSBYEUCQWD+pgNYNQKRpmN4LqhFAH5D8z+w1E0CvDdsft98TQMapkcMWAhBAA85uemJ2FkCqlqYgiDQQQNR/gAoqfxNA/y2xtaosEUBgLQbxSEQTQKrfuCmvyRBAPjOhqsDTFkDe97Q+cDUSQCsgEHp2tRRATNmQh7Y4D0B0SYZCZrsUQK8E5bv62BBAHh0Y4WbTE0CchMUo+2AOQL3NwwUjKBFAmhFTTP4EEUCnwmBHi1QWQBHlKQaANRFA6NE2HaGrEEAt2PBlkwkVQMF0PM/zXRZAxHiiyNlbEkDnFiebGbQWQFIH8qNoRRFAejtkf23VF0AMiGQe9FkWQDIinwU5BRNAm7K42PqyEEBqHVKBpacWQOgfQfOXxxBA7KTP88GeEUDO7pRp+4MXQAhnPfHwmBZAkE/plxBEFkC5pHwigPkPQP63m2IcehZAUj7XO6OuEECmRzU4N8oXQA4XMJM5yRZAFMYStMVLEUDcNOluGywWQM4XEkugKxJAs09dlUGoD0ByGS0gzZkJQMXaF1XJ7BJAiWawyoQXF0B0buZoH8sKQGjDF/rkKRdAMQNjZo+IFkAQnjDXzP8VQMxs/CZQNxJAuuiaM48KFkDJppKfJsEUQIYEB02tfhZAOYQLcj3TEEC6JT6qs+ISQIaKGsADAxZAlIHjlDfLE0Be6rS6T54XQK/PeAVM9RRATOzSY8EfFkCDKAabGRwVQB7TiBs5dhNA9lxeEusrFUCNYmxSX6MWQN6WQ1U6fwVACmbGd+T+E0Bgj2l9jBcSQHR1vEi+5RVAaJwY6ao0FEBblanVKd0TQHGNW3a29xBAoNLttY83EEAqKT4MGOsSQPRD7hS7YQ9ARPlyaRBtFkCbipIT5cQSQNQQb+KP+BZA/48WvQOxFkBT6YXVajAVQAUOLkNOQhZAlI55VuxgEkARsOggVg4FQNEKP4B0ZBRAcIYJKKvoEkCoRquDmKAWQCU+1nyolhRAkPBOUPcpFkCJqSXyXxgXQMNMaRYivRVA0xYdPvVKFkAUjEZbvnAJQHtdehKwLRdAiKrpqoq3F0DDQPKs0vgUQK15O1NxURZAs8QFuj+rFkBWT1M2N8AXQAgFUNKB0hRAHwsSPpQuEUD+8ap6sAUKQLpeaD51TA9AVKMdwkr5EECihYBylrgVQMaOE7ohPxdAzUt5dQo1CECVJPpNrGYWQCikftkQshBASqVLInWeEkDqc3RbC5oQQCc3CkmsjhdAitfmyTOSF0C7wfylxesWQLJUK420WxVAtu0TL3XWEEB8E0TaugYHQKKYbdXa3BBAXT1pp9ZHEECulyATQJoQQECZv4M39whAmxw3QIJ3EUDXZXRRtVYUQOegiAO/CBZA2yZ1A6hpFkBxcxzjeN0VQGjBcHRNGhFAJW+KlR1VFUCTD8XjevEQQODkYNrbrRRAFEjf9zBrF0BC0oxsKnEXQCZJG6DeUxZA1Xq7oZQMEUDnNe8LFy8RQIv2j1bclhBApoe1wuv+EkBWuF+bFQ0UQByTNmxZdRZAc3eydhieEECFowgb088WQKf9O6NslRFABKhB/HAQEkAoV2C3e9cQQDXyBdvkSRdAFGvqkYItCkDg7QkZjtkMQGh0hLAK6gpAem+FVXARFkBOCXsDpTcWQIkhs4oriRBAYHnIahVqF0B+ODOaGrsOQF9l5ygIjhVAVhfE+jRDF0DJGq+KPm0WQGakADU6cRBAo6YEQp/IEkCWopy10i4QQIDQbv/QQRFA3yUJov0gEUBpj/qN/AwQQCp84VPF0AxA+EBdBl4lEkD+1IKcR1AVQMoVOPz/lA1Af/RUsyPIFkBpyGMU32oWQNa7i1dxjhRAbiDseSZdEUA8GR//2QkWQD4y3Jjo5xBAvCeJYUhvD0B/UNNtiP8XQFJtOU5OJxFA/vdXeWVuFkB+IspySy8UQFuARHHU5xVA+yMO0V4EFUD60ZjwkpEWQN0IFJIajBZAYQvWmKYjEEC63MXOl3sWQIfHfl6hFA9A9Gc3wI6TEUADV5ZhcnQRQJ/LUnuzzBFAa6a9SRh2FkDkxhfcYhsXQJvHI+NwmBZAPmdx7H/1F0Athk9r5YoVQD+tNIb9gwdAdTVsrPiREEALngEEGQYVQNCHWYXPNhFALGNkgMs4EUBRghr2SzQWQIpeMy6E+xJAyIZC9KoDF0CcStQTGa4SQPaT+Cv2IhdA94uOwvjoFkB5vWwO27gSQNrzJw/mmQhAkxpM+flAFkBbF/U9FcASQBc/0S5S5BBAAnY6Ym3iFUBSInx+C1QXQLEpLQ0YshRA4CatgUTOEUA5mxhEcTsRQA4p7mRyOhFAR5rxXBJwFkBUvEWI03QSQOXu9JcGYBVA0LCynTbyE0CSbb2q5z4QQPu9VdC/WBRAKCmSv76gCUDBStyNiecRQJboMjpFFRNAZFy810/PEkAvDQ5XJ0QUQCQT13Y74hVAWZlyIQUYF0CW5QDm1doKQH6ChlEGZRBAKV+sJOBnEUAMHFVMLOcVQAHUMrmsJRVA9sOndGvMFkBTu0wt6IURQFUL0p40dhJAmwG5ffJBFUDg4Bg5AAsUQKh+sX9R/BdAZteq3bgiFkCUkCusP4sQQMbNvgd9kxVA/zWWkiyvF0AgRkri63wSQKMBcnXegBRA7XUVVa3aEEBTnXb3ImgXQAn4ag8pPhFAu0k9TUpLFkCbsnDLlTkWQDUc/xbIMg5AOw/HEfkcC0AqbO4gmmsUQPR4/LVcwA9AbHX13kdAFkAqS5/5MogRQEerkIkSwRBA+QpBBm8hEEDgcx+UVoAWQEMUb7o+XhVAHgJdTrblEEAgVvbWTL0QQNHvACQo/xBAxfds8wVUFkAYoXjmNbgVQBR85LsFOBZALoLsB3glEEAHY125EmsVQExolSETGxNATtT6u5f0FUDf5lh2RRISQI+CLJxFHhFAbDNgYPdsFkAwcOVntVUJQKNE01+RLhVAoYFaIdbIEUAxS6Hiex4RQFLXhPvmWRZA4+ATvhN6FUAtxJnevSoSQHwjHrcPPRFAGge9eN3aDECkrtFf+GcVQE1NUUx1nBdA3SwJBkThFkB1LWvmgv8RQFoiYX1/KhJAiy71WQU7EUChxnxWzJMPQGIm2Fle2BdAflVzhbPWEUDTcyTeYd4TQA6G0aeF6hNAPfFeAmlAFUBMSJhmjDAWQB0T/1vQ+Q9AxHJ/eiNSEkBwI9N2ZiMRQLvuMxmn8hVAj0lQDsZEFkByYoHPRU8WQPn6Vi9WlBVAluXzmLPdB0Bd6OED3vQWQP/osQweaBFAeUVoIa3UFEAwfeHVIO4PQLLqqhWQ8hRA1D/kRF6nEkA34WvwGc8PQFwW1tU5KxVA0XmZnV0lFkB16sIEihcFQEfTzLloNxZAB4vTJSxrDkBBz3/uDOoRQFdMaObxrhZAzBmyxuCCF0DCNhQzPYAJQECI6I/BeRJAiGLTDbFSEUDrpm+02dsUQNVktHLtQRJAUMq/aivfE0D7kKgxti8RQH3dQ6wDVRdAGPidtpFvEUBQJ/FygS8WQHJecz90FBRAB1jOW+xBFkCkwcCByMIVQNGCp1tqeRNAyNtMGp0yFEBEOOm/4qoSQIPQoVp3XBVAsPXenG53FkCA8OcZQn8XQNNHRBWLnxBAMg5mSKNDEUCHKNfnTy4WQJqJGLyWnwZAyZK969xNFkAK6kuA9RwTQIWI3SYEhBBAqSP04PDEF0CiHjOvFZcSQG0x6dDi7hZADqJ/o7C5F0Boa+28ouURQHRrOh0JaRNAXymDmZ9ZFkAe5K7RLIgWQFg3CLf55xJAjAV/3hwlDkBaNccSdYcVQCd9oTUFzRNAvS8f7syXEEB5kpRZ8hEWQKhcZfRfphBAlD2dYm0XFUBg7ZUlX1wXQFJFa78gBRJADfBBtTzqF0B661KeYWAWQBk97YiNThRA4HV2/1LkEUBwBsnY25YUQCo45DrLzhRAE5jwD0nLFkCArHNao8UPQPRnlWJMABVAVgdsQocaEECigYgMTOwEQGCwOENNLBNAlvG5nL7ND0CIEOVY9CYSQLXRLtv8TBZAm1YkrfHkFECBW16fr7kXQH42BPuqJg5AE96bXSLzFUAqfR8/SWYSQDKG7FHp5BRAvzcap479FUDpodLQZS0GQD0SOWsudRBAWWGycmpLE0BaVNhdbUURQMJSjoMFNBFApvNibOSvFkBGwE7LNCcWQODlt8IldA9Avw2lguoTF0AgcAhiVToXQEnTCPyVyhBAOt24wsnSEUAC1SuRhDALQMxJN7+9QhFAkSCKWFXSEUDLrjHtgSsTQI5FG5ZgShJA8GfAbK7vFkBJ3dPEuyoOQAAigm2seRFAFZVV6MSTCkDhojwx2gsWQJVSu0S7mBBAbivSdxuUFkCKDFVtFyYSQH22BlrsLxVAt2jHz0IxD0DpTDtq7lkXQDhTpVZZDRFA/eRcx7ozEEAWP+DgIwEIQCCW8+2JSxVASZfGzmENEECEVBj/3R8PQH5afCNV9RFA+PHpFENxBUA=",
          "dtype": "f8"
         }
        },
        {
         "marker": {
          "color": "deepskyblue",
          "opacity": 0.8,
          "size": 4
         },
         "mode": "markers",
         "name": "qEHVI",
         "scene": "scene2",
         "type": "scatter3d",
         "x": {
          "bdata": "AAAAoB9D6T8AAABgqBq0PwAAAHWdO9o/AAAAEoTd5j8AAIBPMfvgPwAAAM73dtY/AAAARoGXwj8AAAD5qmXvPwAAAPwcNew/AAAAUlnVzz8AAADEm9fQPwAAgEqHq+M/AAAAFzKN5T8AAAB/8ZrcPwAAAJAwPq0/AACAoakT6j8AAIDsc53rPwAAAABRToc/AAAA5UWH3z8AAABa6APkPwAAgAddJeI/AAAAXi/K0z8AAABmMO7JPwAAALHGu+0/AAAAtHDr7j8AAABy6KzEPwAAAFRDa9U/AACAAut14T8AAABfXlPnPwAAAO8pJtk/AAAACHpsuD8AAIDpxc3oPwAAgFG6O+g/AAAAyIffvz8AAACf1srYPwAAAOchpec/AACAupSD4T8AAAAkvIfUPwAAAJIWdcc/AAAADA8d7j8AAAAJuU3tPwAAAIbON8o/AAAALtAm0j8AAIC/ItPiPwAAAOKX9eQ/AAAAlbpr3j8AAACA32iVPwAAgFQMa+s/AACAGdbl6j8AAAAQy1miPwAAAA8Odt0/AAAAr0175T8AAIDy+F3jPwAAALRkO9E/AAAAsqcMzD8AAABEY8PsPwAAAEHVk+8/AAAApn9OwT8AAAC+CJrXPwAAgPdODeA/AAAAqvsr5j8AAAAFYtfbPwAAAKBVqbM/AACAHGC16T8AAADavujpPwAAAJSjR7E/AAAAiN9s2z8AAIBsJXbmPwAAADGQUOA/AAAAM7Uh1z8AAAC8BDnAPwAAgIcLzu8/AACAgr2e7D8AAACo3HvNPwAAADnZgNE/AAAANCYA4z8AAIBpkyblPwAAAIKzzd0/AAAAeCeEpz8AAADfCLjqPwAAAJLSNus/AAAAUAfTnj8AAAAYB9DePwAAgCRJqOQ/AAAAefyO4j8AAACjbZ3SPwAAAJy1QMs/",
          "dtype": "f8"
         },
         "y": {
          "bdata": "AAAAoI0R4j8AAABoEPKuPwAAAFMQi+w/AAAAkXnr3j8AAIBZ+8XqPwAAAISvdtI/AACAl2Zf5D8AAAAwKIfOPwAAAIBW/+8/AAAAN/QD2D8AAABOy2XhPwAAAKw+27Q/AACARCAr5z8AAAB8M1bDPwAAgIq9sek/AAAAIiKe1D8AAABAfZvoPwAAALejy9Y/AAAAjuAB5j8AAABWMP3HPwAAgIQLT+A/AAAA+DiNvT8AAIBKltXuPwAAAKJ1Vto/AAAAXaZ15T8AAAAaKyzKPwAAAJM77+s/AAAAES4j0D8AAICZ0KHtPwAAAAT4vtw/AACAV0074z8AAACAObyYPwAAgNWbUOw/AAAAnG5c3z8AAIAbBsriPwAAAACoSqM/AAAAEe2E5D8AAAAqBunNPwAAAN9wHuo/AAAAibjB0z8AAIDIQL7hPwAAAJhiB7I/AACABt0k7z8AAAA647TZPwAAAAw2auk/AAAALzUp1T8AAADCq/DnPwAAAGYdOMA/AACACGva5j8AAABMHpPEPwAAgMb2QOg/AAAAurR81z8AAADMHQ7uPwAAAK9i4ds/AAAAAoCU4D8AAADMZFG7PwAAgBWwNOs/AAAAHDmU0T8AAIDbLa7lPwAAAAAFQsk/AAAA0cbg4z8AAACASmpuPwAAAB9beu0/AAAACe8J3T8AAACU/XLqPwAAAB+iGNM/AAAAWmDo5D8AAAAGM1vMPwAAgFCLpuI/AAAAsHyCpT8AAICeFjzsPwAAAAp0hd8/AAAAiSac5z8AAABKKIrBPwAAAEe7Buk/AAAAuS/w1T8AAIBNUEjvPwAAAKz5bdk/AACAg83S4T8AAADACGOxPwAAAEkN+OA/AAAAlA41uD8AAACHkGLuPwAAADl4ONs/AACAjXss6D8AAAAsrqXXPwAAgEPmtuY/",
          "dtype": "f8"
         },
         "z": {
          "bdata": "YLlAColPM0A/wNgIGmAzQJsnTXIA6zRAux8rHWcAL0CXz+KhVKQtQJ2db9daAjRApWYF0cLgN0B9O5NX7hErQJMB6q8yryxA9cBRHabNMkCq8r5o3zgxQOTns0fUsjZAudfm48iwNkCH5rKRKZIwQBTLbrXXfTJAe+TTCFOJK0DBcquGCawwQEdoVc83fTRAQi3XCejXNUBgdZV7/XUvQIL6uVBfszFAwKbCwMAzNUCOZAKKmgQuQLBwh+VuKDVAJBW2it7CMkDSBf2tvhgyQI5ppv1aLylAzP2vOizoNUAz4AT9UlUwQA97gH1v6jFARjU6ouCPLkAuz+F5FGU3QHoMRkXtdCpARX9ge0VONkC05Li0gcM0QGGz1VF/KDFAxWxNx/UjNEAYLoO82UowQLOlRpd4tjBAC5rDCwHCNUAWG/m2SRU1QOOCrHGHcChAYLiABvHkL0Bt4obvNAw4QPiiKpv8iC5AoMDQGx4SNkA/A3ZlAYElQB+4F+oBgTZAW/tP1Hw9MED4XgLvSqQ0QOssbUf9CjFAA7J4JlshMUCor9/khcowQEKvlqoxGDVAQjSPFIhcO0Bf7DK3J74gQCB15jLzXjFAqW9Notq4NECTFMuoJZYyQOTxd/AT6jBAOWfq9vsrNEDB5p/yESoxQNMS/EcMujFA+QKzZ0rXMkAjwIQaNOAuQCF74n9b4jFAgcJGYbvnMEBIOeYgbXc2QA8U2LDaVy9AKnQgl4ByOUDg3tdegiYyQNkxhSdZWTFAN95bFvihLEARqkgGwSU0QCGU4uroCTZAmt4pKyH/LEBLL6H6eAstQAlB4bhwFDdANB8ilYXyMEBcACfPLIoyQL+ZxmdljS1A52bCCFJFNEAZVGWdH08wQDSbeaGt8jRA+V94L9ArOkCqz9nMOIooQBgik4u4wi9A",
          "dtype": "f8"
         }
        },
        {
         "color": "red",
         "colorscale": [
          [
           0,
           "rgb(255,245,240)"
          ],
          [
           0.125,
           "rgb(254,224,210)"
          ],
          [
           0.25,
           "rgb(252,187,161)"
          ],
          [
           0.375,
           "rgb(252,146,114)"
          ],
          [
           0.5,
           "rgb(251,106,74)"
          ],
          [
           0.625,
           "rgb(239,59,44)"
          ],
          [
           0.75,
           "rgb(203,24,29)"
          ],
          [
           0.875,
           "rgb(165,15,21)"
          ],
          [
           1,
           "rgb(103,0,13)"
          ]
         ],
         "intensity": {
          "bdata": "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",
          "dtype": "f8"
         },
         "name": "Pareto Front",
         "opacity": 0.3,
         "scene": "scene2",
         "showscale": false,
         "type": "mesh3d",
         "x": {
          "bdata": "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",
          "dtype": "f8"
         },
         "y": {
          "bdata": "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",
          "dtype": "f8"
         },
         "z": {
          "bdata": "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",
          "dtype": "f8"
         }
        }
       ],
       "layout": {
        "annotations": [
         {
          "font": {
           "size": 16
          },
          "showarrow": false,
          "text": "qNParEGO",
          "x": 0.225,
          "xanchor": "center",
          "xref": "paper",
          "y": 1,
          "yanchor": "bottom",
          "yref": "paper"
         },
         {
          "font": {
           "size": 16
          },
          "showarrow": false,
          "text": "qEHVI",
          "x": 0.775,
          "xanchor": "center",
          "xref": "paper",
          "y": 1,
          "yanchor": "bottom",
          "yref": "paper"
         }
        ],
        "height": 600,
        "scene": {
         "camera": {
          "eye": {
           "x": 1.5,
           "y": 1.5,
           "z": 0.6
          }
         },
         "domain": {
          "x": [
           0,
           0.45
          ],
          "y": [
           0,
           1
          ]
         },
         "xaxis": {
          "title": {
           "text": "Objective 1"
          }
         },
         "yaxis": {
          "title": {
           "text": "Objective 2"
          }
         },
         "zaxis": {
          "title": {
           "text": "Objective 3"
          }
         }
        },
        "scene2": {
         "camera": {
          "eye": {
           "x": 1.5,
           "y": 1.5,
           "z": 0.6
          }
         },
         "domain": {
          "x": [
           0.55,
           1
          ],
          "y": [
           0,
           1
          ]
         },
         "xaxis": {
          "title": {
           "text": "Objective 1"
          }
         },
         "yaxis": {
          "title": {
           "text": "Objective 2"
          }
         },
         "zaxis": {
          "title": {
           "text": "Objective 3"
          }
         }
        },
        "showlegend": false,
        "template": {
         "data": {
          "bar": [
           {
            "error_x": {
             "color": "#2a3f5f"
            },
            "error_y": {
             "color": "#2a3f5f"
            },
            "marker": {
             "line": {
              "color": "#E5ECF6",
              "width": 0.5
             },
             "pattern": {
              "fillmode": "overlay",
              "size": 10,
              "solidity": 0.2
             }
            },
            "type": "bar"
           }
          ],
          "barpolar": [
           {
            "marker": {
             "line": {
              "color": "#E5ECF6",
              "width": 0.5
             },
             "pattern": {
              "fillmode": "overlay",
              "size": 10,
              "solidity": 0.2
             }
            },
            "type": "barpolar"
           }
          ],
          "carpet": [
           {
            "aaxis": {
             "endlinecolor": "#2a3f5f",
             "gridcolor": "white",
             "linecolor": "white",
             "minorgridcolor": "white",
             "startlinecolor": "#2a3f5f"
            },
            "baxis": {
             "endlinecolor": "#2a3f5f",
             "gridcolor": "white",
             "linecolor": "white",
             "minorgridcolor": "white",
             "startlinecolor": "#2a3f5f"
            },
            "type": "carpet"
           }
          ],
          "choropleth": [
           {
            "colorbar": {
             "outlinewidth": 0,
             "ticks": ""
            },
            "type": "choropleth"
           }
          ],
          "contour": [
           {
            "colorbar": {
             "outlinewidth": 0,
             "ticks": ""
            },
            "colorscale": [
             [
              0,
              "#0d0887"
             ],
             [
              0.1111111111111111,
              "#46039f"
             ],
             [
              0.2222222222222222,
              "#7201a8"
             ],
             [
              0.3333333333333333,
              "#9c179e"
             ],
             [
              0.4444444444444444,
              "#bd3786"
             ],
             [
              0.5555555555555556,
              "#d8576b"
             ],
             [
              0.6666666666666666,
              "#ed7953"
             ],
             [
              0.7777777777777778,
              "#fb9f3a"
             ],
             [
              0.8888888888888888,
              "#fdca26"
             ],
             [
              1,
              "#f0f921"
             ]
            ],
            "type": "contour"
           }
          ],
          "contourcarpet": [
           {
            "colorbar": {
             "outlinewidth": 0,
             "ticks": ""
            },
            "type": "contourcarpet"
           }
          ],
          "heatmap": [
           {
            "colorbar": {
             "outlinewidth": 0,
             "ticks": ""
            },
            "colorscale": [
             [
              0,
              "#0d0887"
             ],
             [
              0.1111111111111111,
              "#46039f"
             ],
             [
              0.2222222222222222,
              "#7201a8"
             ],
             [
              0.3333333333333333,
              "#9c179e"
             ],
             [
              0.4444444444444444,
              "#bd3786"
             ],
             [
              0.5555555555555556,
              "#d8576b"
             ],
             [
              0.6666666666666666,
              "#ed7953"
             ],
             [
              0.7777777777777778,
              "#fb9f3a"
             ],
             [
              0.8888888888888888,
              "#fdca26"
             ],
             [
              1,
              "#f0f921"
             ]
            ],
            "type": "heatmap"
           }
          ],
          "histogram": [
           {
            "marker": {
             "pattern": {
              "fillmode": "overlay",
              "size": 10,
              "solidity": 0.2
             }
            },
            "type": "histogram"
           }
          ],
          "histogram2d": [
           {
            "colorbar": {
             "outlinewidth": 0,
             "ticks": ""
            },
            "colorscale": [
             [
              0,
              "#0d0887"
             ],
             [
              0.1111111111111111,
              "#46039f"
             ],
             [
              0.2222222222222222,
              "#7201a8"
             ],
             [
              0.3333333333333333,
              "#9c179e"
             ],
             [
              0.4444444444444444,
              "#bd3786"
             ],
             [
              0.5555555555555556,
              "#d8576b"
             ],
             [
              0.6666666666666666,
              "#ed7953"
             ],
             [
              0.7777777777777778,
              "#fb9f3a"
             ],
             [
              0.8888888888888888,
              "#fdca26"
             ],
             [
              1,
              "#f0f921"
             ]
            ],
            "type": "histogram2d"
           }
          ],
          "histogram2dcontour": [
           {
            "colorbar": {
             "outlinewidth": 0,
             "ticks": ""
            },
            "colorscale": [
             [
              0,
              "#0d0887"
             ],
             [
              0.1111111111111111,
              "#46039f"
             ],
             [
              0.2222222222222222,
              "#7201a8"
             ],
             [
              0.3333333333333333,
              "#9c179e"
             ],
             [
              0.4444444444444444,
              "#bd3786"
             ],
             [
              0.5555555555555556,
              "#d8576b"
             ],
             [
              0.6666666666666666,
              "#ed7953"
             ],
             [
              0.7777777777777778,
              "#fb9f3a"
             ],
             [
              0.8888888888888888,
              "#fdca26"
             ],
             [
              1,
              "#f0f921"
             ]
            ],
            "type": "histogram2dcontour"
           }
          ],
          "mesh3d": [
           {
            "colorbar": {
             "outlinewidth": 0,
             "ticks": ""
            },
            "type": "mesh3d"
           }
          ],
          "parcoords": [
           {
            "line": {
             "colorbar": {
              "outlinewidth": 0,
              "ticks": ""
             }
            },
            "type": "parcoords"
           }
          ],
          "pie": [
           {
            "automargin": true,
            "type": "pie"
           }
          ],
          "scatter": [
           {
            "fillpattern": {
             "fillmode": "overlay",
             "size": 10,
             "solidity": 0.2
            },
            "type": "scatter"
           }
          ],
          "scatter3d": [
           {
            "line": {
             "colorbar": {
              "outlinewidth": 0,
              "ticks": ""
             }
            },
            "marker": {
             "colorbar": {
              "outlinewidth": 0,
              "ticks": ""
             }
            },
            "type": "scatter3d"
           }
          ],
          "scattercarpet": [
           {
            "marker": {
             "colorbar": {
              "outlinewidth": 0,
              "ticks": ""
             }
            },
            "type": "scattercarpet"
           }
          ],
          "scattergeo": [
           {
            "marker": {
             "colorbar": {
              "outlinewidth": 0,
              "ticks": ""
             }
            },
            "type": "scattergeo"
           }
          ],
          "scattergl": [
           {
            "marker": {
             "colorbar": {
              "outlinewidth": 0,
              "ticks": ""
             }
            },
            "type": "scattergl"
           }
          ],
          "scattermap": [
           {
            "marker": {
             "colorbar": {
              "outlinewidth": 0,
              "ticks": ""
             }
            },
            "type": "scattermap"
           }
          ],
          "scattermapbox": [
           {
            "marker": {
             "colorbar": {
              "outlinewidth": 0,
              "ticks": ""
             }
            },
            "type": "scattermapbox"
           }
          ],
          "scatterpolar": [
           {
            "marker": {
             "colorbar": {
              "outlinewidth": 0,
              "ticks": ""
             }
            },
            "type": "scatterpolar"
           }
          ],
          "scatterpolargl": [
           {
            "marker": {
             "colorbar": {
              "outlinewidth": 0,
              "ticks": ""
             }
            },
            "type": "scatterpolargl"
           }
          ],
          "scatterternary": [
           {
            "marker": {
             "colorbar": {
              "outlinewidth": 0,
              "ticks": ""
             }
            },
            "type": "scatterternary"
           }
          ],
          "surface": [
           {
            "colorbar": {
             "outlinewidth": 0,
             "ticks": ""
            },
            "colorscale": [
             [
              0,
              "#0d0887"
             ],
             [
              0.1111111111111111,
              "#46039f"
             ],
             [
              0.2222222222222222,
              "#7201a8"
             ],
             [
              0.3333333333333333,
              "#9c179e"
             ],
             [
              0.4444444444444444,
              "#bd3786"
             ],
             [
              0.5555555555555556,
              "#d8576b"
             ],
             [
              0.6666666666666666,
              "#ed7953"
             ],
             [
              0.7777777777777778,
              "#fb9f3a"
             ],
             [
              0.8888888888888888,
              "#fdca26"
             ],
             [
              1,
              "#f0f921"
             ]
            ],
            "type": "surface"
           }
          ],
          "table": [
           {
            "cells": {
             "fill": {
              "color": "#EBF0F8"
             },
             "line": {
              "color": "white"
             }
            },
            "header": {
             "fill": {
              "color": "#C8D4E3"
             },
             "line": {
              "color": "white"
             }
            },
            "type": "table"
           }
          ]
         },
         "layout": {
          "annotationdefaults": {
           "arrowcolor": "#2a3f5f",
           "arrowhead": 0,
           "arrowwidth": 1
          },
          "autotypenumbers": "strict",
          "coloraxis": {
           "colorbar": {
            "outlinewidth": 0,
            "ticks": ""
           }
          },
          "colorscale": {
           "diverging": [
            [
             0,
             "#8e0152"
            ],
            [
             0.1,
             "#c51b7d"
            ],
            [
             0.2,
             "#de77ae"
            ],
            [
             0.3,
             "#f1b6da"
            ],
            [
             0.4,
             "#fde0ef"
            ],
            [
             0.5,
             "#f7f7f7"
            ],
            [
             0.6,
             "#e6f5d0"
            ],
            [
             0.7,
             "#b8e186"
            ],
            [
             0.8,
             "#7fbc41"
            ],
            [
             0.9,
             "#4d9221"
            ],
            [
             1,
             "#276419"
            ]
           ],
           "sequential": [
            [
             0,
             "#0d0887"
            ],
            [
             0.1111111111111111,
             "#46039f"
            ],
            [
             0.2222222222222222,
             "#7201a8"
            ],
            [
             0.3333333333333333,
             "#9c179e"
            ],
            [
             0.4444444444444444,
             "#bd3786"
            ],
            [
             0.5555555555555556,
             "#d8576b"
            ],
            [
             0.6666666666666666,
             "#ed7953"
            ],
            [
             0.7777777777777778,
             "#fb9f3a"
            ],
            [
             0.8888888888888888,
             "#fdca26"
            ],
            [
             1,
             "#f0f921"
            ]
           ],
           "sequentialminus": [
            [
             0,
             "#0d0887"
            ],
            [
             0.1111111111111111,
             "#46039f"
            ],
            [
             0.2222222222222222,
             "#7201a8"
            ],
            [
             0.3333333333333333,
             "#9c179e"
            ],
            [
             0.4444444444444444,
             "#bd3786"
            ],
            [
             0.5555555555555556,
             "#d8576b"
            ],
            [
             0.6666666666666666,
             "#ed7953"
            ],
            [
             0.7777777777777778,
             "#fb9f3a"
            ],
            [
             0.8888888888888888,
             "#fdca26"
            ],
            [
             1,
             "#f0f921"
            ]
           ]
          },
          "colorway": [
           "#636efa",
           "#EF553B",
           "#00cc96",
           "#ab63fa",
           "#FFA15A",
           "#19d3f3",
           "#FF6692",
           "#B6E880",
           "#FF97FF",
           "#FECB52"
          ],
          "font": {
           "color": "#2a3f5f"
          },
          "geo": {
           "bgcolor": "white",
           "lakecolor": "white",
           "landcolor": "#E5ECF6",
           "showlakes": true,
           "showland": true,
           "subunitcolor": "white"
          },
          "hoverlabel": {
           "align": "left"
          },
          "hovermode": "closest",
          "mapbox": {
           "style": "light"
          },
          "paper_bgcolor": "white",
          "plot_bgcolor": "#E5ECF6",
          "polar": {
           "angularaxis": {
            "gridcolor": "white",
            "linecolor": "white",
            "ticks": ""
           },
           "bgcolor": "#E5ECF6",
           "radialaxis": {
            "gridcolor": "white",
            "linecolor": "white",
            "ticks": ""
           }
          },
          "scene": {
           "xaxis": {
            "backgroundcolor": "#E5ECF6",
            "gridcolor": "white",
            "gridwidth": 2,
            "linecolor": "white",
            "showbackground": true,
            "ticks": "",
            "zerolinecolor": "white"
           },
           "yaxis": {
            "backgroundcolor": "#E5ECF6",
            "gridcolor": "white",
            "gridwidth": 2,
            "linecolor": "white",
            "showbackground": true,
            "ticks": "",
            "zerolinecolor": "white"
           },
           "zaxis": {
            "backgroundcolor": "#E5ECF6",
            "gridcolor": "white",
            "gridwidth": 2,
            "linecolor": "white",
            "showbackground": true,
            "ticks": "",
            "zerolinecolor": "white"
           }
          },
          "shapedefaults": {
           "line": {
            "color": "#2a3f5f"
           }
          },
          "ternary": {
           "aaxis": {
            "gridcolor": "white",
            "linecolor": "white",
            "ticks": ""
           },
           "baxis": {
            "gridcolor": "white",
            "linecolor": "white",
            "ticks": ""
           },
           "bgcolor": "#E5ECF6",
           "caxis": {
            "gridcolor": "white",
            "linecolor": "white",
            "ticks": ""
           }
          },
          "title": {
           "x": 0.05
          },
          "xaxis": {
           "automargin": true,
           "gridcolor": "white",
           "linecolor": "white",
           "ticks": "",
           "title": {
            "standoff": 15
           },
           "zerolinecolor": "white",
           "zerolinewidth": 2
          },
          "yaxis": {
           "automargin": true,
           "gridcolor": "white",
           "linecolor": "white",
           "ticks": "",
           "title": {
            "standoff": 15
           },
           "zerolinecolor": "white",
           "zerolinewidth": 2
          }
         }
        },
        "title": {
         "text": "Initial Training Points"
        },
        "width": 1200
       }
      },
      "image/png": "[encoded data removed]"
     },
     "metadata": {},
     "output_type": "display_data"
    }
   ],
   "source": [
    "# 1. Plot showing just initial training points\n",
    "fig_initial = make_subplots(\n",
    "    rows=1, cols=2,\n",
    "    specs=[[{'type': 'scatter3d'}, {'type': 'scatter3d'}]],\n",
    "    subplot_titles=(\"qNParEGO\", \"qEHVI\")\n",
    ")\n",
    "\n",
    "# Generate Pareto surface using problem's built-in method\n",
    "pf_surface = create_pareto_surface(problem)\n",
    "\n",
    "alg_data_initial = [\n",
    "    (-train_obj_true_qparego[:n_initial], \"qNParEGO\"),\n",
    "    (-train_obj_true_qehvi[:n_initial], \"qEHVI\"),\n",
    "]\n",
    "\n",
    "for col, (train_obj, name) in enumerate(alg_data_initial, 1):\n",
    "    obj_np = train_obj.cpu().numpy() if isinstance(train_obj, torch.Tensor) else train_obj\n",
    "\n",
    "    # Plot initial points\n",
    "    scatter = go.Scatter3d(\n",
    "        x=obj_np[:, 0], y=obj_np[:, 1], z=obj_np[:, 2],\n",
    "        mode='markers',\n",
    "        marker=dict(size=4, color='deepskyblue', opacity=0.8),\n",
    "        name=name\n",
    "    )\n",
    "\n",
    "    fig_initial.add_trace(scatter, row=1, col=col)\n",
    "    fig_initial.add_trace(pf_surface, row=1, col=col)\n",
    "\n",
    "# Update layout\n",
    "fig_initial.update_layout(\n",
    "    height=600,\n",
    "    width=1200,\n",
    "    scene1=dict(\n",
    "        xaxis_title='Objective 1',\n",
    "        yaxis_title='Objective 2',\n",
    "        zaxis_title='Objective 3',\n",
    "        camera=dict(eye=dict(x=1.5, y=1.5, z=0.6))\n",
    "    ),\n",
    "    scene2=dict(\n",
    "        xaxis_title='Objective 1',\n",
    "        yaxis_title='Objective 2',\n",
    "        zaxis_title='Objective 3',\n",
    "        camera=dict(eye=dict(x=1.5, y=1.5, z=0.6))\n",
    "    ),\n",
    "    showlegend=False,\n",
    "    title_text='Initial Training Points'\n",
    ")\n",
    "fig_initial.show()\n",
    "\n",
    "pio.write_html(fig_initial, 'DTLZ7a train.html')"
   ]
  },
  {
   "cell_type": "code",
   "execution_count": 18,
   "metadata": {
    "colab": {
     "base_uri": "https://localhost:8080/",
     "height": 617
    },
    "executionInfo": {
     "elapsed": 175,
     "status": "ok",
     "timestamp": 1747762263364,
     "user": {
      "displayName": "Deepak L",
      "userId": "17343563887203968144"
     },
     "user_tz": -330
    },
    "id": "E2uIQhy7SOAi",
    "outputId": "f88c1003-df70-42cb-8a18-de9ede08fe41"
   },
   "outputs": [
    {
     "data": {
      "application/vnd.plotly.v1+json": {
       "config": {
        "plotlyServerURL": "https://plot.ly"
       },
       "data": [
        {
         "hovertemplate": "<b>Obj1</b>: %{x:.2f}<br><b>Obj2</b>: %{y:.2f}<br><b>Obj3</b>: %{z:.2f}<extra></extra>",
         "marker": {
          "color": {
           "bdata": "AACAPwAAgD8AAABAAAAAQAAAQEAAAEBAAACAQAAAgEAAAKBAAACgQAAAwEAAAMBAAADgQAAA4EAAAABBAAAAQQAAEEEAABBBAAAgQQAAIEEAADBBAAAwQQAAQEEAAEBBAABQQQAAUEEAAGBBAABgQQAAcEEAAHBBAACAQQAAgEEAAIhBAACIQQAAkEEAAJBBAACYQQAAmEEAAKBBAACgQQAAqEEAAKhBAACwQQAAsEEAALhBAAC4QQAAwEEAAMBBAADIQQAAyEEAANBBAADQQQAA2EEAANhBAADgQQAA4EEAAOhBAADoQQAA8EEAAPBBAAD4QQAA+EEAAABCAAAAQgAABEIAAARCAAAIQgAACEIAAAxCAAAMQgAAEEIAABBCAAAUQgAAFEIAABhCAAAYQgAAHEIAABxCAAAgQgAAIEIAACRCAAAkQgAAKEIAAChCAAAsQgAALEIAADBCAAAwQgAANEIAADRCAAA4QgAAOEIAADxCAAA8QgAAQEIAAEBCAABEQgAAREIAAEhCAABIQgAATEIAAExCAABQQgAAUEIAAFRCAABUQgAAWEIAAFhCAABcQgAAXEIAAGBCAABgQgAAZEIAAGRCAABoQgAAaEIAAGxCAABsQgAAcEIAAHBCAAB0QgAAdEIAAHhCAAB4QgAAfEIAAHxCAACAQgAAgEIAAIJCAACCQgAAhEIAAIRCAACGQgAAhkIAAIhCAACIQgAAikIAAIpCAACMQgAAjEIAAI5CAACOQgAAkEIAAJBCAACSQgAAkkIAAJRCAACUQgAAlkIAAJZCAACYQgAAmEIAAJpCAACaQgAAnEIAAJxCAACeQgAAnkIAAKBCAACgQgAAokIAAKJCAACkQgAApEIAAKZCAACmQgAAqEIAAKhCAACqQgAAqkIAAKxCAACsQgAArkIAAK5CAACwQgAAsEIAALJCAACyQgAAtEIAALRCAAC2QgAAtkIAALhCAAC4QgAAukIAALpCAAC8QgAAvEIAAL5CAAC+QgAAwEIAAMBCAADCQgAAwkIAAMRCAADEQgAAxkIAAMZCAADIQgAAyEI=",
           "dtype": "f4"
          },
          "colorscale": [
           [
            0,
            "#440154"
           ],
           [
            0.1111111111111111,
            "#482878"
           ],
           [
            0.2222222222222222,
            "#3e4989"
           ],
           [
            0.3333333333333333,
            "#31688e"
           ],
           [
            0.4444444444444444,
            "#26828e"
           ],
           [
            0.5555555555555556,
            "#1f9e89"
           ],
           [
            0.6666666666666666,
            "#35b779"
           ],
           [
            0.7777777777777778,
            "#6ece58"
           ],
           [
            0.8888888888888888,
            "#b5de2b"
           ],
           [
            1,
            "#fde725"
           ]
          ],
          "opacity": 0.8,
          "size": 4
         },
         "mode": "markers",
         "name": "qNParEGO",
         "scene": "scene",
         "type": "scatter3d",
         "x": {
          "bdata": "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",
          "dtype": "f8"
         },
         "y": {
          "bdata": "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",
          "dtype": "f8"
         },
         "z": {
          "bdata": "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",
          "dtype": "f8"
         }
        },
        {
         "color": "red",
         "colorscale": [
          [
           0,
           "rgb(255,245,240)"
          ],
          [
           0.125,
           "rgb(254,224,210)"
          ],
          [
           0.25,
           "rgb(252,187,161)"
          ],
          [
           0.375,
           "rgb(252,146,114)"
          ],
          [
           0.5,
           "rgb(251,106,74)"
          ],
          [
           0.625,
           "rgb(239,59,44)"
          ],
          [
           0.75,
           "rgb(203,24,29)"
          ],
          [
           0.875,
           "rgb(165,15,21)"
          ],
          [
           1,
           "rgb(103,0,13)"
          ]
         ],
         "intensity": {
          "bdata": "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",
          "dtype": "f8"
         },
         "name": "Pareto Front",
         "opacity": 0.3,
         "scene": "scene",
         "showscale": false,
         "type": "mesh3d",
         "x": {
          "bdata": "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",
          "dtype": "f8"
         },
         "y": {
          "bdata": "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",
          "dtype": "f8"
         },
         "z": {
          "bdata": "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",
          "dtype": "f8"
         }
        },
        {
         "hovertemplate": "<b>Obj1</b>: %{x:.2f}<br><b>Obj2</b>: %{y:.2f}<br><b>Obj3</b>: %{z:.2f}<extra></extra>",
         "marker": {
          "color": {
           "bdata": "AACAPwAAgD8AAABAAAAAQAAAQEAAAEBAAACAQAAAgEAAAKBAAACgQAAAwEAAAMBAAADgQAAA4EAAAABBAAAAQQAAEEEAABBBAAAgQQAAIEEAADBBAAAwQQAAQEEAAEBBAABQQQAAUEEAAGBBAABgQQAAcEEAAHBBAACAQQAAgEEAAIhBAACIQQAAkEEAAJBBAACYQQAAmEEAAKBBAACgQQAAqEEAAKhBAACwQQAAsEEAALhBAAC4QQAAwEEAAMBBAADIQQAAyEEAANBBAADQQQAA2EEAANhBAADgQQAA4EEAAOhBAADoQQAA8EEAAPBBAAD4QQAA+EEAAABCAAAAQgAABEIAAARCAAAIQgAACEIAAAxCAAAMQgAAEEIAABBCAAAUQgAAFEIAABhCAAAYQgAAHEIAABxCAAAgQgAAIEIAACRCAAAkQgAAKEIAAChCAAAsQgAALEIAADBCAAAwQgAANEIAADRCAAA4QgAAOEIAADxCAAA8QgAAQEIAAEBCAABEQgAAREIAAEhCAABIQgAATEIAAExCAABQQgAAUEIAAFRCAABUQgAAWEIAAFhCAABcQgAAXEIAAGBCAABgQgAAZEIAAGRCAABoQgAAaEIAAGxCAABsQgAAcEIAAHBCAAB0QgAAdEIAAHhCAAB4QgAAfEIAAHxCAACAQgAAgEIAAIJCAACCQgAAhEIAAIRCAACGQgAAhkIAAIhCAACIQgAAikIAAIpCAACMQgAAjEIAAI5CAACOQgAAkEIAAJBCAACSQgAAkkIAAJRCAACUQgAAlkIAAJZCAACYQgAAmEIAAJpCAACaQgAAnEIAAJxCAACeQgAAnkIAAKBCAACgQgAAokIAAKJCAACkQgAApEIAAKZCAACmQgAAqEIAAKhCAACqQgAAqkIAAKxCAACsQgAArkIAAK5CAACwQgAAsEIAALJCAACyQgAAtEIAALRCAAC2QgAAtkIAALhCAAC4QgAAukIAALpCAAC8QgAAvEIAAL5CAAC+QgAAwEIAAMBCAADCQgAAwkIAAMRCAADEQgAAxkIAAMZCAADIQgAAyEI=",
           "dtype": "f4"
          },
          "colorbar": {
           "title": {
            "text": "Iteration"
           }
          },
          "colorscale": [
           [
            0,
            "#440154"
           ],
           [
            0.1111111111111111,
            "#482878"
           ],
           [
            0.2222222222222222,
            "#3e4989"
           ],
           [
            0.3333333333333333,
            "#31688e"
           ],
           [
            0.4444444444444444,
            "#26828e"
           ],
           [
            0.5555555555555556,
            "#1f9e89"
           ],
           [
            0.6666666666666666,
            "#35b779"
           ],
           [
            0.7777777777777778,
            "#6ece58"
           ],
           [
            0.8888888888888888,
            "#b5de2b"
           ],
           [
            1,
            "#fde725"
           ]
          ],
          "opacity": 0.8,
          "size": 4
         },
         "mode": "markers",
         "name": "qEHVI",
         "scene": "scene2",
         "type": "scatter3d",
         "x": {
          "bdata": "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",
          "dtype": "f8"
         },
         "y": {
          "bdata": "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",
          "dtype": "f8"
         },
         "z": {
          "bdata": "/v//////D0AAAAAAAAAYQP7//////w9AFrWZWnwhNED+//////8PQNZJ6hkhIhFAAAAAAAAAFEAAAAAAAAAUQP7//////w9AZPYLEzx4I0D+//////8PQO7++IxfLyFA/v//////D0Azq44N+poyQP7//////w9AAAAAAAAAFED+//////8PQAAAAAAAABhAAAAAAAAAFEAAAAAAAAAUQAAAAAAAABRArsWRzpDRNUAAAAAAAAAUQAAAAAAAABRA/v//////D0Bu6tS/scgvQP7//////w9AUYeDsEZeL0D+//////8PQLBjQYtTdiVA/v//////D0BkjQzGHBkxQP7//////w9AL+73BvdILED+//////8PQMN6klonwzNA/v//////D0D+//////8PQAAAAAAAABRAZF0KCmmXNEAAAAAAAAAUQAAAAAAAABhA/v//////D0DIaucexu0kQAAAAAAAABRALFWrQgY6MkD+//////8PQNATC8cGODVA/v//////D0DxIumZNrYkQP7//////w9AAAAAAAAAFED+//////8PQAAAAAAAABhAAAAAAAAAFECmpenrLQ80QP7//////w9A0HwAZFC+HkD+//////8PQHrehhVFbDBA/v//////D0AAAAAAAAAUQP7//////w9ARPFeOsZhJ0D+//////8PQAAAAAAAABhA/v//////D0CeGgijmMYgQP7//////w9AAAAAAAAAFED+//////8PQNsNiFi/pjFA/v//////D0CI5/NyfAYoQC2A7yGB8BZAFAI41P6WIUD+//////8PQOyJzaw+WTJA/v//////D0Dli83D1f8TQP7//////w9A4FnZLXagIUAAAAAAAAAUQB/BbE/y0CRA/v//////D0CKjQi0IMk0QAAAAAAAABRAAAAAAAAAFED+//////8PQHkOPqPkNiBA/v//////D0CxDs3vTBUiQP7//////w9AvhMbHFP/E0D+//////8PQAAAAAAAABhA/v//////D0AAAAAAAAAYQAAAAAAAABRAHsPCdjVMIEAAAAAAAAAUQFMpTzg4nDZAAAAAAAAAFEAAAAAAAAAUQAAAAAAAABRA+l4i3YHcIUD+//////8PQOp2/xq3TidA/v//////D0CRWCrsFSYpQP7//////w9A7B2FImH1J0D+//////8PQD6tCrcEPw1AAAAAAAAAFEAFmQv9s+kgQAAAAAAAABRAE1TG1DldIkDRy21+Ro0kQAAAAAAAACVA/v//////D0B24h0jeX8vQAAAAAAAABRAAAAAAAAAFEAAAAAAAAAUQAAAAAAAACNAAAAAAAAAFEARIZyveYIvQP7//////w9AChfoNSz8F0AAAAAAAAAUQByMYeD7uCFAAAAAAAAAFEBrakVbMiwpQP7//////w9AYoI07F7sKkD+//////8PQAAAAAAAABRA/v//////D0BUg/jctrU1QAAAAAAAABRAim3V5v0wH0D+//////8PQKTwK5Gw8h9A/v//////D0BKHvxr0LUpQAAAAAAAABRA+qrSzICPIEAAAAAAAAAUQJk9T0wb2CBAAAAAAAAAFEDJHa36dHIjQEQDWTwePRBALPnAFvSEMkBEJ+p3yOwhQDg7U2z39SFA6ZCF1jp9IUA7EPFH5QwxQFQCDHsB7ARAQHkoUbSDCEBFCBtfa9QgQJqJMGlbSxFAKLqdhcAMIUAbv0HX2q8WQGUJa4s5nRZA8NVqT/5NIEDhQQbQb2AVQGDYRDUUzBZAaUSzxlHeI0DCx22bRl4fQI+oPlQH+ARAFlrUv9geMUDMBW1lW8MiQJCqYi5/TiNAMFo+qnRkEUDJi4zOLOgiQIj3Ir/zUwtAC3rPdGipD0DPRrn7BI4SQNOqHb+7WiBAkonUt21HI0BgHVEO6DsRQDqZZkia5x9AYnwKwkpUJUAG+zdAD6oPQKiCD4b6Gh5AqBTFCir8BEBmPOpvPvohQKHF1ONNER9A4vBMVpYDHkAdrwWB3nYhQMJJ+AaUVyRA+NYPqKQnDkCpLc0fZ44jQFXVHBwBASJADg9CaQBsE0AAAAAAAAAUQCuGFAnAxCFAJCH2n9ciB0APHt46aRkjQA==",
          "dtype": "f8"
         }
        },
        {
         "color": "red",
         "colorscale": [
          [
           0,
           "rgb(255,245,240)"
          ],
          [
           0.125,
           "rgb(254,224,210)"
          ],
          [
           0.25,
           "rgb(252,187,161)"
          ],
          [
           0.375,
           "rgb(252,146,114)"
          ],
          [
           0.5,
           "rgb(251,106,74)"
          ],
          [
           0.625,
           "rgb(239,59,44)"
          ],
          [
           0.75,
           "rgb(203,24,29)"
          ],
          [
           0.875,
           "rgb(165,15,21)"
          ],
          [
           1,
           "rgb(103,0,13)"
          ]
         ],
         "intensity": {
          "bdata": "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",
          "dtype": "f8"
         },
         "name": "Pareto Front",
         "opacity": 0.3,
         "scene": "scene2",
         "showscale": false,
         "type": "mesh3d",
         "x": {
          "bdata": "tM0S23iexT/gJ3+VB6uWPzCgb5dY2qs/6FB6+jsmzz+JxJ4MmhHtP/xKwfq1zeY/KIn3mf5+xj/OvRUXtOvnP4vg0wu9X+E/B2dxoG006D/bH4n+r4rjP0x1REOlXto/pHaoxuNzwz/mcirsrdzlP2I6Ml6eJeQ/jvPZFerZ2T+w8UhagBbvP8Ag6zFgzJo/WLpqQWDx1z+uP8pw1izoP3wJXmOWvtk/L9oeRikK4D+QAwJ9R7HDP3WMsl/u/eY/H+HLpylJ7z9ggIjlg2DHPzTbo1uy/NM/oCF0JCny1j/0X2Z3+8flPzZDFQgujOM/oFF9EiGDwz901xSSe33tPz2aYf9MsuE/4P52PqbuqT+etihvOvTeP5irrfHjgbI/O3XwLap47D/w2Gv3PdjpP+OOFuL1Ieo/jO522DRMzD8JmDRpV8XiP/BmV/72n6g/MHmZTmY8wj/mrSP7BQTXP2zRTurUKss/hfanvEVw5T9yCLPZk13nP1OgRnog0u4/wsxOfbvD2T98tUGBJqXJP469Zd0kyO4/I274htAP4D96zYQLtLLpP0p5Tzfy9Ok/NgxBIJ/C5D/IHbjPhyzgP4Tk2pifa9w/j91H3/bu7D9MvfvoGRbWP/lG2VWJe+c/nh+6rYBy2D+R0f93FXTjPyacQLw+tu8/pOeebg72wD85Aiwmb2vtP0yPWDcBOsE/LBYKnD43yD/AJY9iCHGMP/aysCEvQO0/aFXuTTNV0z+Jtou2P1nlPwqYZOU+DtY/xXbA+YQi7z943eKBcV+1P8KVbOU6D+o/PLlYJWFy4D+015lmENzjPwDs//pqMYY/pnREvFen5z/AbpUC0WiBP/XV1uVFkuY/NvFIgNrU0z/e09EQoBToP4jtRNtSmus/g5+Hlvtq5T+mOPnrArzSPzAbXJxjces/fGySUp8Twj9IZkbs0WjpP79BBHKVUOo/bL8kO9KJwz96Dhxbry7vP4DhtJsTFs0/5WtqRxOv6D8jEoG6HBLrP2kEOTIz++8/qLNMgReg7D/IF/FGh3/GP3DW1mFDGbs/TCIoEkce5D/QrphhYXbdP5gk8vTYONo/pM4bA2Fx7z8U2n4law7BP0dDYObj8+I/QMaLhdgUgj/woGMUsU3CPwWkgBhE0+A/NBYeSO1F2T8cQoq2IxrTP4Xcg8pKQe0/CDTpYzDv3T8ZPMhbVVTnP975CAp629g/gE055KUX5T8ouZlVjlCwP14kCN7DjuQ/CVA1Twwr6z+k7DxswSnfP5PMu0PXneY/Ts3S7YWw7D/p2KOQig7gP/NoBgS4q+I/1MozPjNv3D8wmwyffibiP3xK9fi99Mw/JEBjO4vC6z8IXfvmc7PsP02h4ZRkheQ/qFBSpt+m1T93JxWiCovqP3974TG9qu0/9L5po2Oe1T9fcZtVJHHpP4IAYTCehuc/AMJbUXnTYz8QXgu20M27P0BUuxZDypQ/pHuCy1tqxz+izD7A3droPyA/o5I1Fcw/RkbAgMZ/5z/un6HZSVvnPwTuoNfZaNM/1kISZRuu4j/geYPPE+bmP6zwA+l4880/IJn1uOb11D/wro0IxAzIP3YquMbbu+o/HqZSELoE6D84mgruabjUP/HvmJxMyuQ/gkVg+cUr3D9e6wD29E3eP3RLGHmRics/0AAXsIgitD+46Laeh5e6P6THSXGwaOU/1sBrm+wq2D+AygeudrrJP4QiEwQnWtw/FHwab3uU5z+AYOwC1+N6P0qKB+/ys9g/lu+PbUw+3D9UETuxEbPUP2PvN5REDew/iDpLk1TR0z9hhkn8QGbmP1ir0lXECdw/X5tFHSxl4D8i6QNCj/boP/Z5/IR73Nk/inTb4PNY6D9cRg+NqVvIP5LfE0pJp+w/AY6dijvQ5z/yucyk/ADpP3zyF4oYNco/4FhxKA6qzD/YOtTc3I3vP701mVMAiOw/9qtLhT1M6z/Ay/CXDrGmP9AI9Uuri+g/DOoGhf4m6D8oSzdMVUq5P7Io4WWfWN4/vNKk7X0O1D8AWuP5Mn7KP6zAb5uzi8M/Sa2GFaGq5T//IiLeqA7rP4GdZdUrhO8/MkZkDuHx3j+AWB9r2WXbP8THEqcViNU/jIBkGeKp7z+MKQqL3MDTP2AkmPsD+6Y/QChhHqLPtj+GGOipCEPUPy7tiAOxrdw/0Dq6rFAmuD9imC2pBw/WP5RFIDSIC8c/Ov/tFUL46T8YXFjhYzXKP+Je5dVXm+Q/kG4IlUiG3D86iaNT73TRP8ZhgX+91eQ/PsuM8aAq5j9AoLQEe1u8P8jzJQBGnb8/ioNNe81M7T8wh/KUWQbEP5AL/rikRus/cDsFXqQy7D/YA526hDPbP68hD3Uy7uE/RAtn+/K05D8xtULfir7lP3wPwOaNhek/gIAPDfXI3D+M4fEDWy3mP/h3rKUB99A/Mk59gDCI4j8w345VmXazPxhl56dlAMk/onoP6UWf0T+Gt0a9+IDdP8CPVCygBas/wD7OkayhmD9Zv8p3go7tP3YoTIWpS+s/QFDqQpMbgz/0+Z5f5YXkP/5QKvM479U/tUXF92GF5T/LO86CccznP/ba6Sny0ec/LOC7eeiH2D/0GsVEjk/sPxqCSL0/LuI/bRvt6Bk66z9Ya+GDtUTcP6f9dtUs6eY/zs5hcEj51j+ZWDzvGEfvP2DE/xcPq8c/9BRb+8Mfzz+YNO207MLZP4Ke9jCWf9c/81oSzlhu7j8xKdRqjbnqP9B6N6RGXcM/hDVnZZEs2D8cAUc82MPPP+gqwYNIv7o/R8UnVhXB5j/XjyLaXBPjP/jTS8GOZN0/4JTY7X0O0z+cCq3LbSfcPw57bzUUHN8/GFtVEy2Esz9zZzAcS+PvP4Bik5O+NHY/LPs9Z5Bp3T/oYZT7wYrNPxD/zbzqWNQ/IKGh4lF20z/xK+JJ5B/jPySeOIVlrdk/6L4VtxChzj+/eb9L0JbqP5zQAh3fgtQ/8szIQF865T8Dqf1ulhvtPywNejHYFec/CHTVPFzCyj8CDeruYujSP/WGydAV0Os/PjMisQfK5j9yF9EkgVfaPwSJYu5THdA/4zEsqrWY6j/cyFtyITPtPzOUp7lMJuQ/oqlsNxhI1z9RIn+0bwfkPx/S3z7dL+o/0vRtcPHv3z9wiAxKtjvFP6TVMVlnruY/yF/qf9oh3z/8UAhCqe/GP3JvfxNCWeE/Sph29ISN4j+Q1cc0xIilP84dVvvtedY/PuoKjvf22T8kqAFC8jHTP7YvlNgRouw/7mZJoPnS3D84ucQux1q/P697+giZS+M/jUjOt/l46j96sSgMy9XlPwAtSvHG590/Dj5rl8I80T/WR2H1yDLnPwqOTjZZhOE/12jLZKsE6D9Ssu4gN/XkP3tJMqwWW+M/PEy+FRpd4T9c5gateQ/oP0DWkpDaRJg/EIM3q+qs4T/EwG/O1bPCP6DitEuM9Jc/fon81Zsq1j+mBqmPMD/tP5QORxiJ4Nk/Y32UcWE17z+oSRBQMz7dP3/A5TnV/+o/vJ247kpmxj+2QMI+bmLnP2YA9uBKA+U/xjsjMS6n6D8oA/gjoTLLP9mpcMIerO4/tlVsMDPI4z8dK8rB5/bkP0//FleLIOU/T/+EhHNb7D8uSTzoC3LtP3XN1rB11Oc/sABwtoXIsT8xv/vMZ7LqP3TB2D1dL9Q/cO9+4NMqxD9mtOtgg/zoP+nz64pBFOU/6EcLROeG0T/+kVAYbl/ZP+Krw+zth9k/CIo/CnRItj/OqtPe3ZzWP3yZysRGocQ/lPSFC82T7T/wqXWKRaStP0USJQlV2+E/HoCVRPJL1j+d3KCOKwjpP2YWVyrpNtA/XRvV9a8U7D/eMyKrlwXWP+UMpUu+xO4/tDQ05jgdzj8wTuoEPT3iP6zoxkfDj+4/9o3XNsMv2D+4N8ET8m7qP575xB2y5NI/cA9lI9CLpj8jCzxXfgXpP2v6PGCRBeU/+sBwSOZS2D/oA0lBFD3aP+aeqValxOM/3uvirUJm2j9/1jritXHrP1gSNK2LCug/HQky/jWz7j9w3MRuSpfaP/BdMx2UxcI/AnYG/Hfo2z83mQR7g3nqP7aDB434XNo/zu2E85YL7j9gAWPOZO+WP4Wcnxj9g+o/Qk9HgF2t0z+fBUCzJfPpP4ARyr4JfYs/tFWChfG2wz/M8Xd84LjCP/iD415KE+I/TS9mFaiT4z+4YaKs86C6P4C1TlPjTeA/mQg8GRFd5T925A3PqBblP8ABQnl3Krk/tZf98TtB7T+4JavRAVjiP6ojvY9+uNQ/nKkuqlW14z9GlL3rb2LfP/C17bl5wqc/wt8Wxx+07z8cwaH+yFrWP63IzN/HFuc/aCxUftNO6T8SV3GUoq/sP945gS7ilO8/eB/6S7kw1z8HSHMbySXkP56rKk+K8OY/9UMJ+ZYU4j9hOh3CalToP2xrhieWy98/JOG5HCAR6D9jMpFR+RLnP5jmEwI5KtU/fLXJiieO5D8kNs8+iZrRP9QWECD2HNE/pLbnSxf8xD+spIA8+O7XP0D1viCGINU/9mEk0/NJ1T/jmIkRaifpP4wOY9qoWeY/VIiCqTav2T8D9SNu5v7vP9phu5yZa94/g7vffwAM7D9w2T0ep2XDP5HaVc9n1Oc/8CAbV0eevD9A2vNI7EupP6g+7Q69QbI/wpuwwHBc7T9Teta6NlHpP/0ZZEudyOE/wJBmWZzz2j8Am6BTPI22Pxh59THlwbw/JKlNyPxO0D+Y1qSDHMexPz6y/SZILOE/+ErQe0Ev3T/g1eylvSKgP1X1ni371ek/4ATULlz0wT+H2ANVuh7vP+wU1or4rtM/Amt3+q6c4j8EgQCIysLIP6A8ReS3AsI/MCK25K2T4z9m9qXxoJ7oP2heAyVmTLI/kVyzpebu7j89NiNLG2jvPzgu1RzFusU/8FSzbQQOrT/GRrYW/EDtPwTVSJlce84/MjoP6vWm6T9Qax4iSQXSPwYiOpnxidw//hUkXmun5T+IDDx3GAfnP+DxI2EUW+Y/MNY3GeNMsj/wVuVSKVDOP7JQQ78shNE/ALDIbXW5kz/VzAur5gntP9gFtdEJ5t8/SFe7tc01tz9Im2xrj2K0P37UGQo1kdY/4SSmqNDt7D/lr9IMx6jtP/DjrbB6Ud0/0D2GXMYZpj8mKt3KVqjiP5yAITpb3NU/yE6TGccoxD+MPtW9rIzhP4jYN7MLtd4/dr4O7OEl0T/wy+bn5Je0Pw4+IKQ7FtI/xNjIG5dW3D+81YM1ZWndP3RdG6yA6uw/xZwLSlUQ5j8SnOqXqNLvPxCn6JGP2dE/5xe2UgEK7z9mHbpB0EbaP8pTfZ/8z9E/RJUHqj5KxT+UxB2bJYPJP4jOTntnS9g/Sk176cmT5T9YayIKgOrUP6o3FXSJ/es/PBpdnRtu7T8AI4T/U/FpP7Jb0hLNuNg/6CXD8LeIzT+DagsJtZDsP4jN3t9RPLc/MCfr2UqNwT9C4bUXo9rqP9BXCWN3B9c/AMgsc6cK3D8L5Su0/nfuP5qBg8/QFuM/zI4zSsnY7D90hw7E6inhP2ziCCGhzdM/PaLgdSXy4j/YXH9oWjjgP3/EI5e5sOw/utmv1mBt1j9IlwLU1QfhP1ZZEvIzQ9k/aAKtuOu75D+b/P03K5TrPyBQn+jnZK0/sjo6VyTr6j8/mmceoXDvP12w/ruF1ec/TBJzVBy61D9MxF2C38HkPwSLYyTsGME/uBr0ZSQ0zj9tyf9nR0viPxgbruoDQ8M/LUl2Hw6b7D+soM/sNiHmP2bhxq5xBto/dyIJgkJF5T+UaXRfeavpP2voVfeKDOI/h7sPhWyf5z8IYnlPRFHtPyN5f9S9A+4/oGrfWGVp4D/v+LU1EIbvP275gyMS3NA/eL9rv6TYtT/6BM+yLgvhP7jRlgI03cg/eFgYpR86xT/+kOfUfFnWP7hj419uGMg/tNEhac4G5D9QwM7+vxm0P5RuBt0Uudw/b6e8r1MU4z/QDxbR0mXMP2hV0HJGfdg/nFYOu7SMxj+gfcYSJ3GvP1wFRdOWtcI/S8965VKU4T+aRpP2//vZP3lDMed5Q+Y/NKpoPkXE5j+AM1ccEvuEP+xgW6jvp+M/01q9ic6z6j+YBdg/CdDGP7GQG5LiFO4/rIua4Uk93D8t4XGdzWvvP0tlildt7O0/FhWwgTiG2T8DXkjr6SvmP5M3n3bSUus/hOImdd84yD/nTxgT1YXjPwp5LYeMme8/iidj/YkM3D8wS8McDeCsP+Q1YJeDtew/jG1GFugK3j8fEJksbGXlP1S9ng1kVMw/NCmCuD/85D+gkS5yIBDKP3uQeBpTmuM/lzfSblsO5j/sWEa1vMrlP38M55243uo/+egQwHmi7j/Ynhb6dw7eP9Z6v6Hq8eo/uS1Rguf+6z8MSNmai9zVPzpJF39ptNI/N61Efmmc6D/wF9O/DCbBP4UoGora8uk/YMIG2aE2lD+cMxC69JXgPx5wi84sPec/+XEPaX1w7D+eiiwoPNniP+iunG++duw/jPI8QEf01D+YmA44ozaxPzwqq4yos8A/FH0gnkxtxD/snSd4/y3FP8Z3SfPfleM/qNBnfmhctz+ADwvyn8CiP7yBksF/Stw/AKVGHvwXYT9wnr4K7BTXP44xeRKU4+Y/HLLvypoj1D8Q5x8OcyXpPwB8vm9OSbc/OjDzsIZW2j+8rXNXZTjuP/ZLP1+vHeI/YrDdJkze4z8KmiIfNlzSP/RssW4eLuc/eAZCchr/zj/8VuMkBWfSP9IW283rMNk/4b3VC5cu6T/sAQFtpBreP0ZRbjpn0OI/q25YWBG35j9UbvhCPf7gP4e98fHxZuU/OKCtciaCvz9hIH+90AblPwA4B+ejUUU/8bJXNw5N4z9kiq9PBIfiP4sfq0uiJeo/gKZdTYifqz9E22QgG3voP7aDAOHsTtI/wNB7WCRrwz8nT1hhrZzmP6k+6AdYvec/akmrUHRz1z+4K0Sg+enkP3u/4eYwx+U/14nQ0/hy4D++7wkD0/XnPyNliQidOuM/87671tmO4z/ei5wviLjjP1TGFleRmsE/3MpuH+4p1j95CPx3KPbqPx02sJzon+U/4NCe3bca1D/YNzo/dJbDPz73aXYVUdA/uhrgn+an0T8ImdOJIE+wPxY/D1t35tE/XNTnl04F0D+qpOEuVgHuP9hut7bkVtk/AOSHQvKunj+inJCgIyraP8n/8ms6+uE/+HFKecqGtD8CA3q9DXvcPz3o4mhGpeU/tbsyuSL34z/GkscQ3I3uP4W7EA9fV+s/6I1em38J5T88oBmVo/HXP1Attwo1quE/LFplO3QT6D8QkJ5oCynIPyix1q4Fjtc/IFdBozldvz8O6ye2YaLsP13Yd7ddyOA/4kyyONHK4D/uoelPM1XjPyhKpPOPAc0/jbYnVPq66j93UXvLM+PoPyxJXD7Zj9A/f/2O5vU/5D8lSSxtxc7oP4yugPzoZO4/Mt76xyiS1j82n3W+eVPmP2o6HOr7Pdc/ULY7qh4xxT/AmVNRHg3TPyZIjJGUm+M/eHemvmcPtT87ojETEAPiP3+8HxJsL+Q/PXxde+JR4j8BYs2PnSviP2gncPAcbrw/8L0JODGczD/Any7Vjp6EP3xxQae64uo/AuTM6cDZ5z9KV7Rj5lLlPyAz0vthopE/6oyPZ+x05j9Qm7Yxax3XPwyYwBEilcU/3s4klzwZ5z9YrqsXD4DEP6JclFaEftk/yohWaJEK7T+WjkAS8STrP563Q5oo3us/zHNyfxyw1D8w16h16rCkP8MlYbUlquQ/cIibu3WArj9N8hUijqHkP0wYjqABX88/UBh3YZg5sz8TL6hYI8TiP1d/vM25tu0/A4DaCPYB6D+gUG2nauDTP7hUN4hEvdc/eQQj1MZs5D/b44pGi+jqP2pku1yP1eU/Gdlf+D/D5T8GA9XrTEjlP4QCT3+2H+w/QPXa83dLwT9aYv/LgILUP1sDozZOUeU/ByH2OvGz7j9cw7BfMwnQP5fKbEgH2+E/bN7uLWpfzD9kNT4va/PfPwiiOb5AksY/GK1DxV2stj8g2VpfpofNP0+cuzS/KuI/9Ng+UlFNyD9wG5sFbibiP+Paw71DKeE/kDevKblO7T9dbWxuw3PgPzdJcUEsTus/5nhP5Ggh7T9Gubd27o7VP23DfmY5Su8/+JAUj0qRxz88QBKU4q7YP4gcuRGyNsY/IG5mGQib3j8k2Bz1is/YPySP5CTYhuo/bXUHavQW7j93gLLXk6DlP9JKH8wljd0/UAx+ugX51T8yfp2a1RbQPxdOYdSpD+8/qFxvDGIl4z8fiDNCqR/oP7qxMotswt0/enHlRWl03z9IPokcIkXjP17aUd5EG+o/2DVDfBa94D/qK7xpk8vvP+hMvuP4lds/9yJnlXEY4j+gHyCPFOmXP2A0FzPgj9I/AIQJTeON1j9g8NnO3/vgP7gcgDJZHOw/8LXnRLPBqT9bAc8kjknvPzcoUVfi2eA/mS7VpS2z5T+aUPh4mALqPzf5T3ggDeY/evu4wEtG7z+W1b0CakDuP8ASmHX37Jk/FibWQgLt2T9gBfClhFiSP5hmoys58LU/kE5fV1RZ2D+mATPJfgDoPw1aQb06Vuk/godfaauU7D8Y4M0CRSq1P5DclVIT4KQ/zkInVXVY2z/yaG+59triPyBGcukCXpM/+Bd8QaSYxD/WM3NbvqnmP0e8yYztK+A/lFp6t2yawj+iXNwwfmPWP5ACYgEgutU/QhhSEBzx3j/UWM8tWFXoP5BTu4t/9OA/Dd8vmpo65z+AANc1kLK1P0B+/jLu/bI/n1ed2xgY4z8IOKfpHOTgP3kRVMzlM+U/HdEe6lnE6T/2apDBQtrWPz1y4cvkveM/OKA00qx71j9fcDk0yxXpP/zIrvTjCek/eLqO5tFD6j/aFau5RinVP6xGZ6MjC9Y/5QX1WZhH7T+WYaqIgknqP1RIE/Ez9+o/pe28GK9I4z9IOcHwKXTLP1xCkMAIw+E/4HF97WBLyT9aguluzPXjPyLqAgD+KeA/Lk2UScpa1j/Ysv2e8sjvP/MT32HeOO0/e+7HA5M14z/+YbSyIhTtP1x05HPWP8I/oOORQHq9kT9rs4/XHFrvPxysUpeyIdI/nEOfk7lmzD9iCr8SM9voP8795jX7pt0/QGEvQxT/7j8QKsSslX/CP41u9NAAbOE/RCMadJmI3D+0cluI1NLdP5DAVcVXvOg/o3vB4QYk6T8KIc0bWk7rPzLwc2YfXN4/8nrzwnKq7T/2KyxjWR/lP7We92Br7O8/rDgMd7UE0T+aTKRUhgXbP7KShC1dMeg/ZPpEM1Dy7j+7m0kg0hnrPyTNzEleauQ/GPCcqxUQ5D/gYaJVRqHLP8KNHFVZOtM/0jUt6Xdn7j+LlcEmgbPhP2DoXTUgUpA/4i152VyS0z8yfNELPZ/sPyYfjBmGDdU/SJ1V/RA06D8AHDKfP5nRP1ADv3CWKd0/t87Gm9/d4j962nockxHrPzCMDe1+JOE/eV3gi5TC5j/W/z4MiD/uP/q+ktVb498/VJ08c6VR3j/3HDAnvtLsP/ilszpFpu8/Edj0B/uQ7T/LAwtoiqrkP4BOrHWHQuc/eWO5YDws5T/4JB14d2roP7irqrnV1rU/Yp9kaAeb6D88dDSlKtDOPw2/MYIWmOU/EkmDBLS11j8ArgodhQDZP+DM+L2Baao/BnRl02wH5T9DszxzQmbmP/yp4DYpMeM/aBJsSYSo2j/g/ebIOEKzPxIWnICNM+k/sDIZu/UdpD/YkKWUyePIP/zekNQqQ+k/ALwHTOdLQj/qifFewbDaP5DZpYt5YeM/gFvRN5REmz/mAmWpSdLWP8hrPTZdo7c/KHbK2je93z9d+a7s0gPvP2LfoIjq+OA/3nvLNhWM3T/GNt0+jzvePzUkTa9yT+E/EmL/8arz5T9IZHYxNg3DP+AHJYsncpk/alLqLbMO5T9AmKWDUW7RPzDuDZPzqbo/RFHd64F1wT9meIcPU6DgP+XtSmYSlO8/Vd1Abd/24D9s0u4tni/cP8qfiFBj49g/3N/FUA9M5z986dOtmDvPP7hCSws6Cb0/gOXGLvx5oj8hrJei2UjrP7hwJvVaTNM/fpsooThW0z9+RPdwG1DrPxjrXL/5Fdc/iOK42qjtxj9L5FahHvLoP7XXxW7j0OI/Wj+TLhpo0D8STyozTufcPz5BzdRAJuU/nHsWUN1uxT859nHpKX3vP4gmo/AQMsg/jGvQm2hDyz+CeLJ8zjLrP/Snl2IIb+w/XN2ilFIR0j86N9VezLjsP1HGYwj2Mus/w2sm/OsB4T9cKavG4YbDP957iKF6+Oo/Dgxihp4E3D/kezQiS9PiP6YvYV/QUOg/LPsbNaJd5z+m5zmUbkbsPzCtn5Wm3aI/5WKTZimP7T+to864TdfhP9jNZalbA9o/GD2o1UJ3sT+amy6o5F3lP7gB1RFIlOg/NUkPa17g7z/dZ/sCE5XiP8eOSZGyEOw/RD6Frknuwj8wcid50N/MP7j47ziJceM/PRr8eUeT6z9EnjUPffPeP1eVXhh0IOs/xvTEVE6r0j/4DkwL/73pP240FXIWKOQ/21fBYq666T8c+CrsVY/RP2il9XzqWuc/RhKk7NfA7D8=",
          "dtype": "f8"
         },
         "y": {
          "bdata": "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",
          "dtype": "f8"
         },
         "z": {
          "bdata": "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",
          "dtype": "f8"
         }
        }
       ],
       "layout": {
        "annotations": [
         {
          "font": {
           "size": 16
          },
          "showarrow": false,
          "text": "qNParEGO",
          "x": 0.225,
          "xanchor": "center",
          "xref": "paper",
          "y": 1,
          "yanchor": "bottom",
          "yref": "paper"
         },
         {
          "font": {
           "size": 16
          },
          "showarrow": false,
          "text": "qEHVI",
          "x": 0.775,
          "xanchor": "center",
          "xref": "paper",
          "y": 1,
          "yanchor": "bottom",
          "yref": "paper"
         }
        ],
        "height": 600,
        "scene": {
         "camera": {
          "eye": {
           "x": 1.5,
           "y": 1.5,
           "z": 0.6
          }
         },
         "domain": {
          "x": [
           0,
           0.45
          ],
          "y": [
           0,
           1
          ]
         },
         "xaxis": {
          "title": {
           "text": "Objective 1"
          }
         },
         "yaxis": {
          "title": {
           "text": "Objective 2"
          }
         },
         "zaxis": {
          "title": {
           "text": "Objective 3"
          }
         }
        },
        "scene2": {
         "camera": {
          "eye": {
           "x": 1.5,
           "y": 1.5,
           "z": 0.6
          }
         },
         "domain": {
          "x": [
           0.55,
           1
          ],
          "y": [
           0,
           1
          ]
         },
         "xaxis": {
          "title": {
           "text": "Objective 1"
          }
         },
         "yaxis": {
          "title": {
           "text": "Objective 2"
          }
         },
         "zaxis": {
          "title": {
           "text": "Objective 3"
          }
         }
        },
        "showlegend": false,
        "template": {
         "data": {
          "bar": [
           {
            "error_x": {
             "color": "#2a3f5f"
            },
            "error_y": {
             "color": "#2a3f5f"
            },
            "marker": {
             "line": {
              "color": "#E5ECF6",
              "width": 0.5
             },
             "pattern": {
              "fillmode": "overlay",
              "size": 10,
              "solidity": 0.2
             }
            },
            "type": "bar"
           }
          ],
          "barpolar": [
           {
            "marker": {
             "line": {
              "color": "#E5ECF6",
              "width": 0.5
             },
             "pattern": {
              "fillmode": "overlay",
              "size": 10,
              "solidity": 0.2
             }
            },
            "type": "barpolar"
           }
          ],
          "carpet": [
           {
            "aaxis": {
             "endlinecolor": "#2a3f5f",
             "gridcolor": "white",
             "linecolor": "white",
             "minorgridcolor": "white",
             "startlinecolor": "#2a3f5f"
            },
            "baxis": {
             "endlinecolor": "#2a3f5f",
             "gridcolor": "white",
             "linecolor": "white",
             "minorgridcolor": "white",
             "startlinecolor": "#2a3f5f"
            },
            "type": "carpet"
           }
          ],
          "choropleth": [
           {
            "colorbar": {
             "outlinewidth": 0,
             "ticks": ""
            },
            "type": "choropleth"
           }
          ],
          "contour": [
           {
            "colorbar": {
             "outlinewidth": 0,
             "ticks": ""
            },
            "colorscale": [
             [
              0,
              "#0d0887"
             ],
             [
              0.1111111111111111,
              "#46039f"
             ],
             [
              0.2222222222222222,
              "#7201a8"
             ],
             [
              0.3333333333333333,
              "#9c179e"
             ],
             [
              0.4444444444444444,
              "#bd3786"
             ],
             [
              0.5555555555555556,
              "#d8576b"
             ],
             [
              0.6666666666666666,
              "#ed7953"
             ],
             [
              0.7777777777777778,
              "#fb9f3a"
             ],
             [
              0.8888888888888888,
              "#fdca26"
             ],
             [
              1,
              "#f0f921"
             ]
            ],
            "type": "contour"
           }
          ],
          "contourcarpet": [
           {
            "colorbar": {
             "outlinewidth": 0,
             "ticks": ""
            },
            "type": "contourcarpet"
           }
          ],
          "heatmap": [
           {
            "colorbar": {
             "outlinewidth": 0,
             "ticks": ""
            },
            "colorscale": [
             [
              0,
              "#0d0887"
             ],
             [
              0.1111111111111111,
              "#46039f"
             ],
             [
              0.2222222222222222,
              "#7201a8"
             ],
             [
              0.3333333333333333,
              "#9c179e"
             ],
             [
              0.4444444444444444,
              "#bd3786"
             ],
             [
              0.5555555555555556,
              "#d8576b"
             ],
             [
              0.6666666666666666,
              "#ed7953"
             ],
             [
              0.7777777777777778,
              "#fb9f3a"
             ],
             [
              0.8888888888888888,
              "#fdca26"
             ],
             [
              1,
              "#f0f921"
             ]
            ],
            "type": "heatmap"
           }
          ],
          "histogram": [
           {
            "marker": {
             "pattern": {
              "fillmode": "overlay",
              "size": 10,
              "solidity": 0.2
             }
            },
            "type": "histogram"
           }
          ],
          "histogram2d": [
           {
            "colorbar": {
             "outlinewidth": 0,
             "ticks": ""
            },
            "colorscale": [
             [
              0,
              "#0d0887"
             ],
             [
              0.1111111111111111,
              "#46039f"
             ],
             [
              0.2222222222222222,
              "#7201a8"
             ],
             [
              0.3333333333333333,
              "#9c179e"
             ],
             [
              0.4444444444444444,
              "#bd3786"
             ],
             [
              0.5555555555555556,
              "#d8576b"
             ],
             [
              0.6666666666666666,
              "#ed7953"
             ],
             [
              0.7777777777777778,
              "#fb9f3a"
             ],
             [
              0.8888888888888888,
              "#fdca26"
             ],
             [
              1,
              "#f0f921"
             ]
            ],
            "type": "histogram2d"
           }
          ],
          "histogram2dcontour": [
           {
            "colorbar": {
             "outlinewidth": 0,
             "ticks": ""
            },
            "colorscale": [
             [
              0,
              "#0d0887"
             ],
             [
              0.1111111111111111,
              "#46039f"
             ],
             [
              0.2222222222222222,
              "#7201a8"
             ],
             [
              0.3333333333333333,
              "#9c179e"
             ],
             [
              0.4444444444444444,
              "#bd3786"
             ],
             [
              0.5555555555555556,
              "#d8576b"
             ],
             [
              0.6666666666666666,
              "#ed7953"
             ],
             [
              0.7777777777777778,
              "#fb9f3a"
             ],
             [
              0.8888888888888888,
              "#fdca26"
             ],
             [
              1,
              "#f0f921"
             ]
            ],
            "type": "histogram2dcontour"
           }
          ],
          "mesh3d": [
           {
            "colorbar": {
             "outlinewidth": 0,
             "ticks": ""
            },
            "type": "mesh3d"
           }
          ],
          "parcoords": [
           {
            "line": {
             "colorbar": {
              "outlinewidth": 0,
              "ticks": ""
             }
            },
            "type": "parcoords"
           }
          ],
          "pie": [
           {
            "automargin": true,
            "type": "pie"
           }
          ],
          "scatter": [
           {
            "fillpattern": {
             "fillmode": "overlay",
             "size": 10,
             "solidity": 0.2
            },
            "type": "scatter"
           }
          ],
          "scatter3d": [
           {
            "line": {
             "colorbar": {
              "outlinewidth": 0,
              "ticks": ""
             }
            },
            "marker": {
             "colorbar": {
              "outlinewidth": 0,
              "ticks": ""
             }
            },
            "type": "scatter3d"
           }
          ],
          "scattercarpet": [
           {
            "marker": {
             "colorbar": {
              "outlinewidth": 0,
              "ticks": ""
             }
            },
            "type": "scattercarpet"
           }
          ],
          "scattergeo": [
           {
            "marker": {
             "colorbar": {
              "outlinewidth": 0,
              "ticks": ""
             }
            },
            "type": "scattergeo"
           }
          ],
          "scattergl": [
           {
            "marker": {
             "colorbar": {
              "outlinewidth": 0,
              "ticks": ""
             }
            },
            "type": "scattergl"
           }
          ],
          "scattermap": [
           {
            "marker": {
             "colorbar": {
              "outlinewidth": 0,
              "ticks": ""
             }
            },
            "type": "scattermap"
           }
          ],
          "scattermapbox": [
           {
            "marker": {
             "colorbar": {
              "outlinewidth": 0,
              "ticks": ""
             }
            },
            "type": "scattermapbox"
           }
          ],
          "scatterpolar": [
           {
            "marker": {
             "colorbar": {
              "outlinewidth": 0,
              "ticks": ""
             }
            },
            "type": "scatterpolar"
           }
          ],
          "scatterpolargl": [
           {
            "marker": {
             "colorbar": {
              "outlinewidth": 0,
              "ticks": ""
             }
            },
            "type": "scatterpolargl"
           }
          ],
          "scatterternary": [
           {
            "marker": {
             "colorbar": {
              "outlinewidth": 0,
              "ticks": ""
             }
            },
            "type": "scatterternary"
           }
          ],
          "surface": [
           {
            "colorbar": {
             "outlinewidth": 0,
             "ticks": ""
            },
            "colorscale": [
             [
              0,
              "#0d0887"
             ],
             [
              0.1111111111111111,
              "#46039f"
             ],
             [
              0.2222222222222222,
              "#7201a8"
             ],
             [
              0.3333333333333333,
              "#9c179e"
             ],
             [
              0.4444444444444444,
              "#bd3786"
             ],
             [
              0.5555555555555556,
              "#d8576b"
             ],
             [
              0.6666666666666666,
              "#ed7953"
             ],
             [
              0.7777777777777778,
              "#fb9f3a"
             ],
             [
              0.8888888888888888,
              "#fdca26"
             ],
             [
              1,
              "#f0f921"
             ]
            ],
            "type": "surface"
           }
          ],
          "table": [
           {
            "cells": {
             "fill": {
              "color": "#EBF0F8"
             },
             "line": {
              "color": "white"
             }
            },
            "header": {
             "fill": {
              "color": "#C8D4E3"
             },
             "line": {
              "color": "white"
             }
            },
            "type": "table"
           }
          ]
         },
         "layout": {
          "annotationdefaults": {
           "arrowcolor": "#2a3f5f",
           "arrowhead": 0,
           "arrowwidth": 1
          },
          "autotypenumbers": "strict",
          "coloraxis": {
           "colorbar": {
            "outlinewidth": 0,
            "ticks": ""
           }
          },
          "colorscale": {
           "diverging": [
            [
             0,
             "#8e0152"
            ],
            [
             0.1,
             "#c51b7d"
            ],
            [
             0.2,
             "#de77ae"
            ],
            [
             0.3,
             "#f1b6da"
            ],
            [
             0.4,
             "#fde0ef"
            ],
            [
             0.5,
             "#f7f7f7"
            ],
            [
             0.6,
             "#e6f5d0"
            ],
            [
             0.7,
             "#b8e186"
            ],
            [
             0.8,
             "#7fbc41"
            ],
            [
             0.9,
             "#4d9221"
            ],
            [
             1,
             "#276419"
            ]
           ],
           "sequential": [
            [
             0,
             "#0d0887"
            ],
            [
             0.1111111111111111,
             "#46039f"
            ],
            [
             0.2222222222222222,
             "#7201a8"
            ],
            [
             0.3333333333333333,
             "#9c179e"
            ],
            [
             0.4444444444444444,
             "#bd3786"
            ],
            [
             0.5555555555555556,
             "#d8576b"
            ],
            [
             0.6666666666666666,
             "#ed7953"
            ],
            [
             0.7777777777777778,
             "#fb9f3a"
            ],
            [
             0.8888888888888888,
             "#fdca26"
            ],
            [
             1,
             "#f0f921"
            ]
           ],
           "sequentialminus": [
            [
             0,
             "#0d0887"
            ],
            [
             0.1111111111111111,
             "#46039f"
            ],
            [
             0.2222222222222222,
             "#7201a8"
            ],
            [
             0.3333333333333333,
             "#9c179e"
            ],
            [
             0.4444444444444444,
             "#bd3786"
            ],
            [
             0.5555555555555556,
             "#d8576b"
            ],
            [
             0.6666666666666666,
             "#ed7953"
            ],
            [
             0.7777777777777778,
             "#fb9f3a"
            ],
            [
             0.8888888888888888,
             "#fdca26"
            ],
            [
             1,
             "#f0f921"
            ]
           ]
          },
          "colorway": [
           "#636efa",
           "#EF553B",
           "#00cc96",
           "#ab63fa",
           "#FFA15A",
           "#19d3f3",
           "#FF6692",
           "#B6E880",
           "#FF97FF",
           "#FECB52"
          ],
          "font": {
           "color": "#2a3f5f"
          },
          "geo": {
           "bgcolor": "white",
           "lakecolor": "white",
           "landcolor": "#E5ECF6",
           "showlakes": true,
           "showland": true,
           "subunitcolor": "white"
          },
          "hoverlabel": {
           "align": "left"
          },
          "hovermode": "closest",
          "mapbox": {
           "style": "light"
          },
          "paper_bgcolor": "white",
          "plot_bgcolor": "#E5ECF6",
          "polar": {
           "angularaxis": {
            "gridcolor": "white",
            "linecolor": "white",
            "ticks": ""
           },
           "bgcolor": "#E5ECF6",
           "radialaxis": {
            "gridcolor": "white",
            "linecolor": "white",
            "ticks": ""
           }
          },
          "scene": {
           "xaxis": {
            "backgroundcolor": "#E5ECF6",
            "gridcolor": "white",
            "gridwidth": 2,
            "linecolor": "white",
            "showbackground": true,
            "ticks": "",
            "zerolinecolor": "white"
           },
           "yaxis": {
            "backgroundcolor": "#E5ECF6",
            "gridcolor": "white",
            "gridwidth": 2,
            "linecolor": "white",
            "showbackground": true,
            "ticks": "",
            "zerolinecolor": "white"
           },
           "zaxis": {
            "backgroundcolor": "#E5ECF6",
            "gridcolor": "white",
            "gridwidth": 2,
            "linecolor": "white",
            "showbackground": true,
            "ticks": "",
            "zerolinecolor": "white"
           }
          },
          "shapedefaults": {
           "line": {
            "color": "#2a3f5f"
           }
          },
          "ternary": {
           "aaxis": {
            "gridcolor": "white",
            "linecolor": "white",
            "ticks": ""
           },
           "baxis": {
            "gridcolor": "white",
            "linecolor": "white",
            "ticks": ""
           },
           "bgcolor": "#E5ECF6",
           "caxis": {
            "gridcolor": "white",
            "linecolor": "white",
            "ticks": ""
           }
          },
          "title": {
           "x": 0.05
          },
          "xaxis": {
           "automargin": true,
           "gridcolor": "white",
           "linecolor": "white",
           "ticks": "",
           "title": {
            "standoff": 15
           },
           "zerolinecolor": "white",
           "zerolinewidth": 2
          },
          "yaxis": {
           "automargin": true,
           "gridcolor": "white",
           "linecolor": "white",
           "ticks": "",
           "title": {
            "standoff": 15
           },
           "zerolinecolor": "white",
           "zerolinewidth": 2
          }
         }
        },
        "title": {
         "text": "All 200 Points After Initial Training"
        },
        "width": 1200
       }
      },
      "image/png": "[encoded data removed]"
     },
     "metadata": {},
     "output_type": "display_data"
    }
   ],
   "source": [
    "# Plot ALL points after initial training\n",
    "fig = make_subplots(\n",
    "    rows=1, cols=2,\n",
    "    specs=[[{'type': 'scatter3d'}, {'type': 'scatter3d'}]],\n",
    "    subplot_titles=(\"qNParEGO\", \"qEHVI\")\n",
    ")\n",
    "\n",
    "batch_number = torch.cat([\n",
    "    torch.zeros(n_initial),\n",
    "    torch.arange(1, N_BATCH + 1).repeat(BATCH_SIZE, 1).t().reshape(-1),\n",
    "]).numpy()\n",
    "\n",
    "start_idx = n_initial\n",
    "end_idx = len(train_obj_true_qparego)\n",
    "\n",
    "alg_data = [\n",
    "    (-train_obj_true_qparego[start_idx:end_idx], \"qNParEGO\"),\n",
    "    (-train_obj_true_qehvi[start_idx:end_idx], \"qEHVI\"),\n",
    "]\n",
    "\n",
    "for col, (train_obj, name) in enumerate(alg_data, 1):\n",
    "    obj_np = train_obj.cpu().numpy()\n",
    "\n",
    "    scatter = go.Scatter3d(\n",
    "        x=obj_np[:, 0], y=obj_np[:, 1], z=obj_np[:, 2],\n",
    "        mode='markers',\n",
    "        marker=dict(\n",
    "            size=4,\n",
    "            color=batch_number[start_idx:end_idx],\n",
    "            colorscale='Viridis',\n",
    "            opacity=0.8,\n",
    "            colorbar=dict(title='Iteration') if col == 2 else None\n",
    "        ),\n",
    "        name=name,\n",
    "        hovertemplate=\"<b>Obj1</b>: %{x:.2f}<br><b>Obj2</b>: %{y:.2f}<br><b>Obj3</b>: %{z:.2f}<extra></extra>\"\n",
    "    )\n",
    "\n",
    "    fig.add_trace(scatter, row=1, col=col)\n",
    "    fig.add_trace(pf_surface, row=1, col=col)\n",
    "\n",
    "# Update layout\n",
    "fig.update_layout(\n",
    "    height=600,\n",
    "    width=1200,\n",
    "    scene1=dict(\n",
    "        xaxis_title='Objective 1',\n",
    "        yaxis_title='Objective 2',\n",
    "        zaxis_title='Objective 3',\n",
    "        camera=dict(eye=dict(x=1.5, y=1.5, z=0.6))\n",
    "    ),\n",
    "    scene2=dict(\n",
    "        xaxis_title='Objective 1',\n",
    "        yaxis_title='Objective 2',\n",
    "        zaxis_title='Objective 3',\n",
    "        camera=dict(eye=dict(x=1.5, y=1.5, z=0.6))\n",
    "    ),\n",
    "    showlegend=False,\n",
    "    title_text=f'All {end_idx - start_idx} Points After Initial Training'\n",
    ")\n",
    "\n",
    "fig.show()\n",
    "\n",
    "\n",
    "pio.write_html(fig, 'DTLZ7a candidates.html')"
   ]
  },
  {
   "cell_type": "code",
   "execution_count": 19,
   "metadata": {
    "colab": {
     "base_uri": "https://localhost:8080/"
    },
    "executionInfo": {
     "elapsed": 8,
     "status": "ok",
     "timestamp": 1747762263373,
     "user": {
      "displayName": "Deepak L",
      "userId": "17343563887203968144"
     },
     "user_tz": -330
    },
    "id": "9LzcVovZBdhv",
    "outputId": "fd413382-d458-49ab-eaeb-2671a7e51a16",
    "scrolled": true
   },
   "outputs": [
    {
     "name": "stdout",
     "output_type": "stream",
     "text": [
      "ParEGO data saved to 'DTLZ7a (8-3) qNParEGO_data.csv'\n",
      "EHVI data saved to 'DTLZ7a (8-3) qEHVI_data.csv'\n"
     ]
    }
   ],
   "source": [
    "import pandas as pd\n",
    "\n",
    "# Convert PyTorch tensors to numpy arrays\n",
    "train_x_qparego_np = train_x_qparego.cpu().numpy()\n",
    "train_obj_qparego_np = train_obj_qparego.cpu().numpy()\n",
    "train_x_qehvi_np = train_x_qehvi.cpu().numpy()\n",
    "train_obj_qehvi_np = train_obj_qehvi.cpu().numpy()\n",
    "\n",
    "# Concatenate the input dimensions and objectives horizontally\n",
    "qparego_data = np.hstack([train_x_qparego_np, train_obj_qparego_np])\n",
    "qehvi_data = np.hstack([train_x_qehvi_np, train_obj_qehvi_np])\n",
    "\n",
    "# Create column headers for better readability\n",
    "input_dim = train_x_qparego.shape[1]\n",
    "obj_dim = train_obj_qparego.shape[1]\n",
    "column_names = [f\"dim{i+1}\" for i in range(input_dim)] + [f\"obj{i+1}\" for i in range(obj_dim)]\n",
    "\n",
    "# Create DataFrames with the combined data and column names\n",
    "qparego_df = pd.DataFrame(qparego_data, columns=column_names)\n",
    "qehvi_df = pd.DataFrame(qehvi_data, columns=column_names)\n",
    "\n",
    "# Save to CSV files\n",
    "qparego_df.to_csv('DTLZ7a (8-3) qNParEGO_data.csv', index=False, mode='w')\n",
    "qehvi_df.to_csv('DTLZ7a (8-3) qEHVI_data.csv', index=False, mode='w')\n",
    "\n",
    "print(\"ParEGO data saved to 'DTLZ7a (8-3) qNParEGO_data.csv'\")\n",
    "print(\"EHVI data saved to 'DTLZ7a (8-3) qEHVI_data.csv'\")\n"
   ]
  }
 ],
 "metadata": {
  "accelerator": "GPU",
  "colab": {
   "gpuType": "T4",
   "provenance": []
  },
  "kernelspec": {
   "display_name": "Python 3 (ipykernel)",
   "language": "python",
   "name": "python3"
  },
  "language_info": {
   "codemirror_mode": {
    "name": "ipython",
    "version": 3
   },
   "file_extension": ".py",
   "mimetype": "text/x-python",
   "name": "python",
   "nbconvert_exporter": "python",
   "pygments_lexer": "ipython3",
   "version": "3.12.9"
  }
 },
 "nbformat": 4,
 "nbformat_minor": 4
}
